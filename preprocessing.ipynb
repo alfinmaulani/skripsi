{
  "nbformat": 4,
  "nbformat_minor": 0,
  "metadata": {
    "colab": {
      "name": "preprocessing.ipynb",
      "provenance": [],
      "authorship_tag": "ABX9TyMVsucu+LUN1bhs1Wtz9xGv",
      "include_colab_link": true
    },
    "kernelspec": {
      "name": "python3",
      "display_name": "Python 3"
    },
    "language_info": {
      "name": "python"
    }
  },
  "cells": [
    {
      "cell_type": "markdown",
      "metadata": {
        "id": "view-in-github",
        "colab_type": "text"
      },
      "source": [
        "<a href=\"https://colab.research.google.com/github/alfinmaulani/skripsi/blob/master/preprocessing.ipynb\" target=\"_parent\"><img src=\"https://colab.research.google.com/assets/colab-badge.svg\" alt=\"Open In Colab\"/></a>"
      ]
    },
    {
      "cell_type": "code",
      "metadata": {
        "id": "7srUQXzLjIHp"
      },
      "source": [
        "import numpy as np\n",
        "import pandas as pd\n",
        "import io\n",
        "\n",
        "#upload dari komputer\n",
        "#from google.colab import files\n",
        "#uploaded = files.upload()\n",
        "#datem = pd.read_csv(io.BytesIO(uploaded['dataISEAR.csv']))\n",
        "\n",
        "#dari github\n",
        "url = 'https://raw.githubusercontent.com/alfinmaulani/skripsi/master/dataISEAR.csv'\n",
        "df = pd.read_csv(url)\n",
        "# df[df.iloc[:,2].notnull()]\n",
        "# df = df.loc[:, ~df.columns.str.contains('^Unnamed')]\n"
      ],
      "execution_count": 143,
      "outputs": []
    },
    {
      "cell_type": "code",
      "metadata": {
        "id": "zDefY7O2CcHr",
        "colab": {
          "base_uri": "https://localhost:8080/",
          "height": 206
        },
        "outputId": "ac28e319-0a1e-4e4f-deb8-d2fe8dd03943"
      },
      "source": [
        "df.head()\n"
      ],
      "execution_count": 144,
      "outputs": [
        {
          "output_type": "execute_result",
          "data": {
            "text/html": [
              "<div>\n",
              "<style scoped>\n",
              "    .dataframe tbody tr th:only-of-type {\n",
              "        vertical-align: middle;\n",
              "    }\n",
              "\n",
              "    .dataframe tbody tr th {\n",
              "        vertical-align: top;\n",
              "    }\n",
              "\n",
              "    .dataframe thead th {\n",
              "        text-align: right;\n",
              "    }\n",
              "</style>\n",
              "<table border=\"1\" class=\"dataframe\">\n",
              "  <thead>\n",
              "    <tr style=\"text-align: right;\">\n",
              "      <th></th>\n",
              "      <th>emosi</th>\n",
              "      <th>dokumen</th>\n",
              "      <th>Unnamed: 2</th>\n",
              "    </tr>\n",
              "  </thead>\n",
              "  <tbody>\n",
              "    <tr>\n",
              "      <th>0</th>\n",
              "      <td>joy</td>\n",
              "      <td>On days when I feel close to my partner and ot...</td>\n",
              "      <td>NaN</td>\n",
              "    </tr>\n",
              "    <tr>\n",
              "      <th>1</th>\n",
              "      <td>fear</td>\n",
              "      <td>Every time I imagine that someone I love or I ...</td>\n",
              "      <td>NaN</td>\n",
              "    </tr>\n",
              "    <tr>\n",
              "      <th>2</th>\n",
              "      <td>anger</td>\n",
              "      <td>When I had been obviously unjustly treated and...</td>\n",
              "      <td>NaN</td>\n",
              "    </tr>\n",
              "    <tr>\n",
              "      <th>3</th>\n",
              "      <td>sadness</td>\n",
              "      <td>When I think about the short time that we live...</td>\n",
              "      <td>NaN</td>\n",
              "    </tr>\n",
              "    <tr>\n",
              "      <th>4</th>\n",
              "      <td>disgust</td>\n",
              "      <td>At a gathering I found myself involuntarily si...</td>\n",
              "      <td>NaN</td>\n",
              "    </tr>\n",
              "  </tbody>\n",
              "</table>\n",
              "</div>"
            ],
            "text/plain": [
              "     emosi                                            dokumen  Unnamed: 2\n",
              "0      joy  On days when I feel close to my partner and ot...         NaN\n",
              "1     fear  Every time I imagine that someone I love or I ...         NaN\n",
              "2    anger  When I had been obviously unjustly treated and...         NaN\n",
              "3  sadness  When I think about the short time that we live...         NaN\n",
              "4  disgust  At a gathering I found myself involuntarily si...         NaN"
            ]
          },
          "metadata": {
            "tags": []
          },
          "execution_count": 144
        }
      ]
    },
    {
      "cell_type": "code",
      "metadata": {
        "id": "R5QF-vfB_hVH",
        "colab": {
          "base_uri": "https://localhost:8080/",
          "height": 36
        },
        "outputId": "fb82954d-5b52-47b2-fae9-97adb55d5b95"
      },
      "source": [
        "df.iloc[4,0]"
      ],
      "execution_count": 145,
      "outputs": [
        {
          "output_type": "execute_result",
          "data": {
            "application/vnd.google.colaboratory.intrinsic+json": {
              "type": "string"
            },
            "text/plain": [
              "'disgust'"
            ]
          },
          "metadata": {
            "tags": []
          },
          "execution_count": 145
        }
      ]
    },
    {
      "cell_type": "code",
      "metadata": {
        "id": "RFh7L_Qzk5-7",
        "colab": {
          "base_uri": "https://localhost:8080/"
        },
        "outputId": "b5ec3a2a-0eb9-4315-8120-bebc48515385"
      },
      "source": [
        "#print(df.head())\n",
        "\n",
        "#print(df.columns)\n",
        "\n",
        "#print(df[['dokumen','emosi']][0:5])\n",
        "\n",
        "#print(df.iloc[3:4])\n",
        "#[dari:sampai]\n",
        "\n",
        "#print(df.iloc[5,0])\n",
        "#[baris,kolom]\n",
        "\n",
        "#sc leower case\n",
        "df['dokumen']=df['dokumen'].str.lower()\n",
        "print(df.iloc[4,1])\n",
        "# df.iloc[4,1]\n"
      ],
      "execution_count": 146,
      "outputs": [
        {
          "output_type": "stream",
          "text": [
            "at a gathering i found myself involuntarily sitting next to two  \n",
            "people who expressed opinions that i considered very low and  \n",
            "discriminating.\n"
          ],
          "name": "stdout"
        }
      ]
    },
    {
      "cell_type": "code",
      "metadata": {
        "id": "oOmlCXUKRYcC",
        "colab": {
          "base_uri": "https://localhost:8080/",
          "height": 54
        },
        "outputId": "d681ad71-98fb-4a6b-b266-155304842c95"
      },
      "source": [
        "# coba='tes ssssssssssssssssssssssssssssssssssssssssssssssssss sssssssssssssssssssssssssssssssssssssssssssssssssssssss sssssssssssssssssssssss ssss'\n",
        "# print(coba)\n",
        "# print(coba.replace('tes', 'uhuy'))\n",
        "# coba=coba.replace('tes', 'uhuy')\n",
        "# print(coba)\n",
        "#df['dokumen']\n",
        "#precleaning hapus enter dan space berlebih\n",
        "df=df.replace(' \\n', ' ', regex=True)\n",
        "df=df.replace('   ', ' ', regex=True)\n",
        "df=df.replace('  ', ' ', regex=True)\n",
        "df.iloc[0,1]\n",
        "#df['dokumen']"
      ],
      "execution_count": 147,
      "outputs": [
        {
          "output_type": "execute_result",
          "data": {
            "application/vnd.google.colaboratory.intrinsic+json": {
              "type": "string"
            },
            "text/plain": [
              "'on days when i feel close to my partner and other friends. when i feel at peace with myself and also experience a close contact with people whom i regard greatly.'"
            ]
          },
          "metadata": {
            "tags": []
          },
          "execution_count": 147
        }
      ]
    },
    {
      "cell_type": "code",
      "metadata": {
        "id": "knFcUPFOMCEk",
        "colab": {
          "base_uri": "https://localhost:8080/"
        },
        "outputId": "24208975-3a39-4e62-bd4f-6fc4d1d2f6cb"
      },
      "source": [
        "df['dokumen'] = df['dokumen'].str.replace(r'[^\\w\\s]+', '')\n",
        "print(df.iloc[0,1])\n",
        "print(df.head())"
      ],
      "execution_count": 148,
      "outputs": [
        {
          "output_type": "stream",
          "text": [
            "on days when i feel close to my partner and other friends when i feel at peace with myself and also experience a close contact with people whom i regard greatly\n",
            "     emosi                                            dokumen  Unnamed: 2\n",
            "0      joy  on days when i feel close to my partner and ot...         NaN\n",
            "1     fear  every time i imagine that someone i love or i ...         NaN\n",
            "2    anger  when i had been obviously unjustly treated and...         NaN\n",
            "3  sadness  when i think about the short time that we live...         NaN\n",
            "4  disgust  at a gathering i found myself involuntarily si...         NaN\n"
          ],
          "name": "stdout"
        }
      ]
    },
    {
      "cell_type": "code",
      "metadata": {
        "id": "_KHHMaGJkqqs",
        "colab": {
          "base_uri": "https://localhost:8080/",
          "height": 424
        },
        "outputId": "efc0cc4c-031d-4ac9-de19-3adbbe67ed6d"
      },
      "source": [
        "df.to_csv(r'dataisear preprocesing utama.csv', index = False)\n",
        "df"
      ],
      "execution_count": 149,
      "outputs": [
        {
          "output_type": "execute_result",
          "data": {
            "text/html": [
              "<div>\n",
              "<style scoped>\n",
              "    .dataframe tbody tr th:only-of-type {\n",
              "        vertical-align: middle;\n",
              "    }\n",
              "\n",
              "    .dataframe tbody tr th {\n",
              "        vertical-align: top;\n",
              "    }\n",
              "\n",
              "    .dataframe thead th {\n",
              "        text-align: right;\n",
              "    }\n",
              "</style>\n",
              "<table border=\"1\" class=\"dataframe\">\n",
              "  <thead>\n",
              "    <tr style=\"text-align: right;\">\n",
              "      <th></th>\n",
              "      <th>emosi</th>\n",
              "      <th>dokumen</th>\n",
              "      <th>Unnamed: 2</th>\n",
              "    </tr>\n",
              "  </thead>\n",
              "  <tbody>\n",
              "    <tr>\n",
              "      <th>0</th>\n",
              "      <td>joy</td>\n",
              "      <td>on days when i feel close to my partner and ot...</td>\n",
              "      <td>NaN</td>\n",
              "    </tr>\n",
              "    <tr>\n",
              "      <th>1</th>\n",
              "      <td>fear</td>\n",
              "      <td>every time i imagine that someone i love or i ...</td>\n",
              "      <td>NaN</td>\n",
              "    </tr>\n",
              "    <tr>\n",
              "      <th>2</th>\n",
              "      <td>anger</td>\n",
              "      <td>when i had been obviously unjustly treated and...</td>\n",
              "      <td>NaN</td>\n",
              "    </tr>\n",
              "    <tr>\n",
              "      <th>3</th>\n",
              "      <td>sadness</td>\n",
              "      <td>when i think about the short time that we live...</td>\n",
              "      <td>NaN</td>\n",
              "    </tr>\n",
              "    <tr>\n",
              "      <th>4</th>\n",
              "      <td>disgust</td>\n",
              "      <td>at a gathering i found myself involuntarily si...</td>\n",
              "      <td>NaN</td>\n",
              "    </tr>\n",
              "    <tr>\n",
              "      <th>...</th>\n",
              "      <td>...</td>\n",
              "      <td>...</td>\n",
              "      <td>...</td>\n",
              "    </tr>\n",
              "    <tr>\n",
              "      <th>7511</th>\n",
              "      <td>shame</td>\n",
              "      <td>two years back someone invited me to be the tu...</td>\n",
              "      <td>NaN</td>\n",
              "    </tr>\n",
              "    <tr>\n",
              "      <th>7512</th>\n",
              "      <td>shame</td>\n",
              "      <td>i had taken the responsibility to do something...</td>\n",
              "      <td>NaN</td>\n",
              "    </tr>\n",
              "    <tr>\n",
              "      <th>7513</th>\n",
              "      <td>fear</td>\n",
              "      <td>i was at home and i heard a loud sound of spit...</td>\n",
              "      <td>NaN</td>\n",
              "    </tr>\n",
              "    <tr>\n",
              "      <th>7514</th>\n",
              "      <td>guilt</td>\n",
              "      <td>i did not do the homework that the teacher had...</td>\n",
              "      <td>NaN</td>\n",
              "    </tr>\n",
              "    <tr>\n",
              "      <th>7515</th>\n",
              "      <td>fear</td>\n",
              "      <td>i had shouted at my younger brother and he was...</td>\n",
              "      <td>NaN</td>\n",
              "    </tr>\n",
              "  </tbody>\n",
              "</table>\n",
              "<p>7516 rows × 3 columns</p>\n",
              "</div>"
            ],
            "text/plain": [
              "        emosi                                            dokumen  Unnamed: 2\n",
              "0         joy  on days when i feel close to my partner and ot...         NaN\n",
              "1        fear  every time i imagine that someone i love or i ...         NaN\n",
              "2       anger  when i had been obviously unjustly treated and...         NaN\n",
              "3     sadness  when i think about the short time that we live...         NaN\n",
              "4     disgust  at a gathering i found myself involuntarily si...         NaN\n",
              "...       ...                                                ...         ...\n",
              "7511    shame  two years back someone invited me to be the tu...         NaN\n",
              "7512    shame  i had taken the responsibility to do something...         NaN\n",
              "7513     fear  i was at home and i heard a loud sound of spit...         NaN\n",
              "7514    guilt  i did not do the homework that the teacher had...         NaN\n",
              "7515     fear  i had shouted at my younger brother and he was...         NaN\n",
              "\n",
              "[7516 rows x 3 columns]"
            ]
          },
          "metadata": {
            "tags": []
          },
          "execution_count": 149
        }
      ]
    },
    {
      "cell_type": "code",
      "metadata": {
        "id": "XejXRe1s6ld8"
      },
      "source": [
        ""
      ],
      "execution_count": 149,
      "outputs": []
    }
  ]
}