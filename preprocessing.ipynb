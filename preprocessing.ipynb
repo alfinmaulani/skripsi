{
  "nbformat": 4,
  "nbformat_minor": 0,
  "metadata": {
    "colab": {
      "name": "preprocessing.ipynb",
      "provenance": [],
      "authorship_tag": "ABX9TyN4gvkqy4LDKXOfZCSSOh1O",
      "include_colab_link": true
    },
    "kernelspec": {
      "name": "python3",
      "display_name": "Python 3"
    },
    "language_info": {
      "name": "python"
    }
  },
  "cells": [
    {
      "cell_type": "markdown",
      "metadata": {
        "id": "view-in-github",
        "colab_type": "text"
      },
      "source": [
        "<a href=\"https://colab.research.google.com/github/alfinmaulani/skripsi/blob/master/preprocessing.ipynb\" target=\"_parent\"><img src=\"https://colab.research.google.com/assets/colab-badge.svg\" alt=\"Open In Colab\"/></a>"
      ]
    },
    {
      "cell_type": "code",
      "metadata": {
        "id": "7srUQXzLjIHp"
      },
      "source": [
        "import numpy as np\n",
        "import pandas as pd\n",
        "import io\n",
        "\n",
        "#upload dari komputer\n",
        "#from google.colab import files\n",
        "#uploaded = files.upload()\n",
        "#datem = pd.read_csv(io.BytesIO(uploaded['dataISEAR.csv']))\n",
        "\n",
        "#dari github\n",
        "url = 'https://raw.githubusercontent.com/alfinmaulani/skripsi/master/dataISEAR.csv'\n",
        "df = pd.read_csv(url)"
      ],
      "execution_count": 9,
      "outputs": []
    },
    {
      "cell_type": "code",
      "metadata": {
        "id": "zDefY7O2CcHr",
        "outputId": "d019ab1b-5984-4702-ce9b-6d769edd33de",
        "colab": {
          "base_uri": "https://localhost:8080/"
        }
      },
      "source": [
        "print(df.head())\n"
      ],
      "execution_count": 10,
      "outputs": [
        {
          "output_type": "stream",
          "text": [
            "     emosi                                            dokumen Unnamed: 2\n",
            "0      joy  On days when I feel close to my partner and ot...        NaN\n",
            "1     fear  Every time I imagine that someone I love or I ...        NaN\n",
            "2    anger  When I had been obviously unjustly treated and...        NaN\n",
            "3  sadness  When I think about the short time that we live...        NaN\n",
            "4  disgust  At a gathering I found myself involuntarily si...        NaN\n"
          ],
          "name": "stdout"
        }
      ]
    },
    {
      "cell_type": "code",
      "metadata": {
        "id": "R5QF-vfB_hVH",
        "outputId": "74bc040c-4825-4a3a-accd-a888d3f23d71",
        "colab": {
          "base_uri": "https://localhost:8080/"
        }
      },
      "source": [
        "print(df.iloc[4,1])"
      ],
      "execution_count": 11,
      "outputs": [
        {
          "output_type": "stream",
          "text": [
            "At a gathering I found myself involuntarily sitting next to two  \n",
            "people who expressed opinions that I considered very low and  \n",
            "discriminating.\n"
          ],
          "name": "stdout"
        }
      ]
    },
    {
      "cell_type": "code",
      "metadata": {
        "id": "RFh7L_Qzk5-7",
        "outputId": "56238fa9-66fb-4367-aa09-6e137dedc4b6",
        "colab": {
          "base_uri": "https://localhost:8080/"
        }
      },
      "source": [
        "#print(df.head())\n",
        "\n",
        "#print(df.columns)\n",
        "\n",
        "#print(df[['dokumen','emosi']][0:5])\n",
        "\n",
        "#print(df.iloc[3:4])\n",
        "#[dari:sampai]\n",
        "\n",
        "#print(df.iloc[5,0])\n",
        "#[baris,kolom]\n",
        "df['dokumen']=df['dokumen'].str.lower()\n",
        "print(df.iloc[4,1])"
      ],
      "execution_count": 12,
      "outputs": [
        {
          "output_type": "stream",
          "text": [
            "at a gathering i found myself involuntarily sitting next to two  \n",
            "people who expressed opinions that i considered very low and  \n",
            "discriminating.\n"
          ],
          "name": "stdout"
        }
      ]
    }
  ]
}