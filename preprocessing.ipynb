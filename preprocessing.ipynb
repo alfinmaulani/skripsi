{
  "nbformat": 4,
  "nbformat_minor": 0,
  "metadata": {
    "colab": {
      "name": "preprocessing.ipynb",
      "provenance": [],
      "authorship_tag": "ABX9TyNFunElh6xD6AXx5YZANQPT",
      "include_colab_link": true
    },
    "kernelspec": {
      "name": "python3",
      "display_name": "Python 3"
    },
    "language_info": {
      "name": "python"
    }
  },
  "cells": [
    {
      "cell_type": "markdown",
      "metadata": {
        "id": "view-in-github",
        "colab_type": "text"
      },
      "source": [
        "<a href=\"https://colab.research.google.com/github/alfinmaulani/skripsi/blob/master/preprocessing.ipynb\" target=\"_parent\"><img src=\"https://colab.research.google.com/assets/colab-badge.svg\" alt=\"Open In Colab\"/></a>"
      ]
    },
    {
      "cell_type": "code",
      "metadata": {
        "id": "7srUQXzLjIHp"
      },
      "source": [
        "import numpy as np\n",
        "import pandas as pd\n",
        "import io\n",
        "\n",
        "#upload dari komputer\n",
        "#from google.colab import files\n",
        "#uploaded = files.upload()\n",
        "#datem = pd.read_csv(io.BytesIO(uploaded['dataISEAR.csv']))\n",
        "\n",
        "#dari github\n",
        "url = 'https://raw.githubusercontent.com/alfinmaulani/skripsi/master/dataISEAR.csv'\n",
        "df = pd.read_csv(url)"
      ],
      "execution_count": 9,
      "outputs": []
    },
    {
      "cell_type": "code",
      "metadata": {
        "id": "zDefY7O2CcHr",
        "colab": {
          "base_uri": "https://localhost:8080/"
        },
        "outputId": "279d4d00-d9b8-4015-b487-612b09bf0892"
      },
      "source": [
        "print(df.head())\n"
      ],
      "execution_count": 10,
      "outputs": [
        {
          "output_type": "stream",
          "text": [
            "     emosi                                            dokumen Unnamed: 2\n",
            "0      joy  On days when I feel close to my partner and ot...        NaN\n",
            "1     fear  Every time I imagine that someone I love or I ...        NaN\n",
            "2    anger  When I had been obviously unjustly treated and...        NaN\n",
            "3  sadness  When I think about the short time that we live...        NaN\n",
            "4  disgust  At a gathering I found myself involuntarily si...        NaN\n"
          ],
          "name": "stdout"
        }
      ]
    },
    {
      "cell_type": "code",
      "metadata": {
        "id": "R5QF-vfB_hVH",
        "colab": {
          "base_uri": "https://localhost:8080/"
        },
        "outputId": "90c9df90-b563-4593-d6ee-68148cf25cbe"
      },
      "source": [
        "print(df.iloc[4,1])"
      ],
      "execution_count": 11,
      "outputs": [
        {
          "output_type": "stream",
          "text": [
            "At a gathering I found myself involuntarily sitting next to two  \n",
            "people who expressed opinions that I considered very low and  \n",
            "discriminating.\n"
          ],
          "name": "stdout"
        }
      ]
    },
    {
      "cell_type": "code",
      "metadata": {
        "id": "RFh7L_Qzk5-7",
        "colab": {
          "base_uri": "https://localhost:8080/"
        },
        "outputId": "0a9555b0-7b9e-40aa-cdca-fc8d3612ef07"
      },
      "source": [
        "#print(df.head())\n",
        "\n",
        "#print(df.columns)\n",
        "\n",
        "#print(df[['dokumen','emosi']][0:5])\n",
        "\n",
        "#print(df.iloc[3:4])\n",
        "#[dari:sampai]\n",
        "\n",
        "#print(df.iloc[5,0])\n",
        "#[baris,kolom]\n",
        "\n",
        "#sc leower case\n",
        "df['dokumen']=df['dokumen'].str.lower()\n",
        "\n",
        "print(df.iloc[4,1])"
      ],
      "execution_count": 12,
      "outputs": [
        {
          "output_type": "stream",
          "text": [
            "at a gathering i found myself involuntarily sitting next to two  \n",
            "people who expressed opinions that i considered very low and  \n",
            "discriminating.\n"
          ],
          "name": "stdout"
        }
      ]
    },
    {
      "cell_type": "code",
      "metadata": {
        "id": "oOmlCXUKRYcC",
        "colab": {
          "base_uri": "https://localhost:8080/"
        },
        "outputId": "ac1c6fe8-0e29-4973-9c16-fd8f3ce6e01d"
      },
      "source": [
        "# coba='tes ssssssssssssssssssssssssssssssssssssssssssssssssss sssssssssssssssssssssssssssssssssssssssssssssssssssssss sssssssssssssssssssssss ssss'\n",
        "# print(coba)\n",
        "# print(coba.replace('tes', 'uhuy'))\n",
        "# coba=coba.replace('tes', 'uhuy')\n",
        "# print(coba)\n",
        "#df['dokumen']\n",
        "#precleaning hapus enter dan space berlebih\n",
        "df=df.replace(' \\n', ' ', regex=True)\n",
        "df=df.replace('   ', ' ', regex=True)\n",
        "df=df.replace('  ', ' ', regex=True)\n",
        "print(df.iloc[0,1])\n",
        "#df['dokumen']"
      ],
      "execution_count": 13,
      "outputs": [
        {
          "output_type": "stream",
          "text": [
            "on days when i feel close to my partner and other friends. when i feel at peace with myself and also experience a close contact with people whom i regard greatly.\n"
          ],
          "name": "stdout"
        }
      ]
    },
    {
      "cell_type": "code",
      "metadata": {
        "id": "knFcUPFOMCEk",
        "outputId": "e58cfbee-4f84-4929-a263-f734d251a696",
        "colab": {
          "base_uri": "https://localhost:8080/"
        }
      },
      "source": [
        "df['dokumen'] = df['dokumen'].str.replace(r'[^\\w\\s]+', '')\n",
        "print(df.iloc[0,1])\n",
        "print(df.head())"
      ],
      "execution_count": 19,
      "outputs": [
        {
          "output_type": "stream",
          "text": [
            "on days when i feel close to my partner and other friends when i feel at peace with myself and also experience a close contact with people whom i regard greatly\n",
            "     emosi                                            dokumen Unnamed: 2\n",
            "0      joy  on days when i feel close to my partner and ot...        NaN\n",
            "1     fear  every time i imagine that someone i love or i ...        NaN\n",
            "2    anger  when i had been obviously unjustly treated and...        NaN\n",
            "3  sadness  when i think about the short time that we live...        NaN\n",
            "4  disgust  at a gathering i found myself involuntarily si...        NaN\n"
          ],
          "name": "stdout"
        }
      ]
    },
    {
      "cell_type": "code",
      "metadata": {
        "id": "_KHHMaGJkqqs",
        "outputId": "d97f11ac-3853-46d1-f549-bc6df0d5f450",
        "colab": {
          "base_uri": "https://localhost:8080/"
        }
      },
      "source": [
        "df.to_csv(r'dataisear preprocesing utama.csv', index = False)\n",
        "print (df)"
      ],
      "execution_count": 23,
      "outputs": [
        {
          "output_type": "stream",
          "text": [
            "        emosi                                            dokumen Unnamed: 2\n",
            "0         joy  on days when i feel close to my partner and ot...        NaN\n",
            "1        fear  every time i imagine that someone i love or i ...        NaN\n",
            "2       anger  when i had been obviously unjustly treated and...        NaN\n",
            "3     sadness  when i think about the short time that we live...        NaN\n",
            "4     disgust  at a gathering i found myself involuntarily si...        NaN\n",
            "...       ...                                                ...        ...\n",
            "7511    shame  two years back someone invited me to be the tu...        NaN\n",
            "7512    shame  i had taken the responsibility to do something...        NaN\n",
            "7513     fear  i was at home and i heard a loud sound of spit...        NaN\n",
            "7514    guilt  i did not do the homework that the teacher had...        NaN\n",
            "7515     fear  i had shouted at my younger brother and he was...        NaN\n",
            "\n",
            "[7516 rows x 3 columns]\n"
          ],
          "name": "stdout"
        }
      ]
    }
  ]
}