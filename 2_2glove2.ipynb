{
  "nbformat": 4,
  "nbformat_minor": 0,
  "metadata": {
    "colab": {
      "name": "glove2.ipynb",
      "provenance": [],
      "authorship_tag": "ABX9TyNs0LSlFeB3/6mvKZNr8SF8",
      "include_colab_link": true
    },
    "kernelspec": {
      "name": "python3",
      "display_name": "Python 3"
    },
    "language_info": {
      "name": "python"
    }
  },
  "cells": [
    {
      "cell_type": "markdown",
      "metadata": {
        "id": "view-in-github",
        "colab_type": "text"
      },
      "source": [
        "<a href=\"https://colab.research.google.com/github/alfinmaulani/skripsi/blob/master/2_2glove2.ipynb\" target=\"_parent\"><img src=\"https://colab.research.google.com/assets/colab-badge.svg\" alt=\"Open In Colab\"/></a>"
      ]
    },
    {
      "cell_type": "code",
      "metadata": {
        "colab": {
          "base_uri": "https://localhost:8080/"
        },
        "id": "ci3dfx-9C_ji",
        "outputId": "827cde72-9165-44ca-bc68-838c1effea88"
      },
      "source": [
        "import numpy as np\n",
        "import pandas as pd\n",
        "import io\n",
        "import os\n",
        "import matplotlib.pyplot as plt\n",
        "from nltk.tokenize import word_tokenize\n",
        "import nltk\n",
        "nltk.download('punkt')\n",
        "\n",
        "\n",
        "url1 = 'https://raw.githubusercontent.com/alfinmaulani/skripsi/master/dataisear(preputama).csv'\n",
        "url2 = 'tba'\n",
        "df = pd.read_csv(url1)\n",
        "# df.iloc[:,1]"
      ],
      "execution_count": 31,
      "outputs": [
        {
          "output_type": "stream",
          "name": "stdout",
          "text": [
            "[nltk_data] Downloading package punkt to /root/nltk_data...\n",
            "[nltk_data]   Package punkt is already up-to-date!\n"
          ]
        }
      ]
    },
    {
      "cell_type": "code",
      "metadata": {
        "colab": {
          "base_uri": "https://localhost:8080/"
        },
        "id": "2VBTiPKHDIIp",
        "outputId": "07afd386-fc61-4755-c007-803391b10776"
      },
      "source": [
        "!pip install glove-python-binary"
      ],
      "execution_count": 32,
      "outputs": [
        {
          "output_type": "stream",
          "name": "stdout",
          "text": [
            "Requirement already satisfied: glove-python-binary in /usr/local/lib/python3.7/dist-packages (0.2.0)\n",
            "Requirement already satisfied: numpy in /usr/local/lib/python3.7/dist-packages (from glove-python-binary) (1.19.5)\n",
            "Requirement already satisfied: scipy in /usr/local/lib/python3.7/dist-packages (from glove-python-binary) (1.4.1)\n"
          ]
        }
      ]
    },
    {
      "cell_type": "code",
      "metadata": {
        "id": "N_DqGeMmDIEM"
      },
      "source": [
        "from glove import Glove\n",
        "from glove import Corpus"
      ],
      "execution_count": 33,
      "outputs": []
    },
    {
      "cell_type": "code",
      "metadata": {
        "colab": {
          "base_uri": "https://localhost:8080/"
        },
        "id": "ecmoGKcODIAZ",
        "outputId": "b9cde689-07f4-4fc6-c3b5-f08cd5e61b03"
      },
      "source": [
        "df.emosi.value_counts()"
      ],
      "execution_count": 34,
      "outputs": [
        {
          "output_type": "execute_result",
          "data": {
            "text/plain": [
              "joy        1092\n",
              "sadness    1082\n",
              "anger      1079\n",
              "fear       1076\n",
              "shame      1071\n",
              "disgust    1066\n",
              "guilt      1050\n",
              "Name: emosi, dtype: int64"
            ]
          },
          "metadata": {},
          "execution_count": 34
        }
      ]
    },
    {
      "cell_type": "code",
      "metadata": {
        "id": "CF0V6MfPDH8b"
      },
      "source": [
        "sentences = [word_tokenize(x) for x in df.dokumen] "
      ],
      "execution_count": 35,
      "outputs": []
    },
    {
      "cell_type": "code",
      "metadata": {
        "colab": {
          "base_uri": "https://localhost:8080/"
        },
        "id": "O_Fh1109Hig0",
        "outputId": "bc87784c-f27b-48a3-afe6-393427bff1a4"
      },
      "source": [
        "df.dokumen"
      ],
      "execution_count": 36,
      "outputs": [
        {
          "output_type": "execute_result",
          "data": {
            "text/plain": [
              "0       on days when i feel close to my partner and ot...\n",
              "1       every time i imagine that someone i love or i ...\n",
              "2       when i had been obviously unjustly treated and...\n",
              "3       when i think about the short time that we live...\n",
              "4       at a gathering i found myself involuntarily si...\n",
              "                              ...                        \n",
              "7511    two years back someone invited me to be the tu...\n",
              "7512    i had taken the responsibility to do something...\n",
              "7513    i was at home and i heard a loud sound of spit...\n",
              "7514    i did not do the homework that the teacher had...\n",
              "7515    i had shouted at my younger brother and he was...\n",
              "Name: dokumen, Length: 7516, dtype: object"
            ]
          },
          "metadata": {},
          "execution_count": 36
        }
      ]
    },
    {
      "cell_type": "code",
      "metadata": {
        "id": "dGpucIPqGqBQ"
      },
      "source": [
        "korpus = Corpus()\n",
        "korpus.fit(sentences, window=10, ignore_missing=False)\n",
        "# korpus.save('glove.model')"
      ],
      "execution_count": 37,
      "outputs": []
    },
    {
      "cell_type": "code",
      "metadata": {
        "colab": {
          "base_uri": "https://localhost:8080/"
        },
        "id": "t_wKCMJiONdm",
        "outputId": "6279ed49-3649-4db2-f0cc-aa3961014a89"
      },
      "source": [
        "korpus.dictionary"
      ],
      "execution_count": 38,
      "outputs": [
        {
          "output_type": "execute_result",
          "data": {
            "text/plain": [
              "{'on': 0,\n",
              " 'days': 1,\n",
              " 'when': 2,\n",
              " 'i': 3,\n",
              " 'feel': 4,\n",
              " 'close': 5,\n",
              " 'to': 6,\n",
              " 'my': 7,\n",
              " 'partner': 8,\n",
              " 'and': 9,\n",
              " 'other': 10,\n",
              " 'friends': 11,\n",
              " 'at': 12,\n",
              " 'peace': 13,\n",
              " 'with': 14,\n",
              " 'myself': 15,\n",
              " 'also': 16,\n",
              " 'experience': 17,\n",
              " 'a': 18,\n",
              " 'contact': 19,\n",
              " 'people': 20,\n",
              " 'whom': 21,\n",
              " 'regard': 22,\n",
              " 'greatly': 23,\n",
              " 'every': 24,\n",
              " 'time': 25,\n",
              " 'imagine': 26,\n",
              " 'that': 27,\n",
              " 'someone': 28,\n",
              " 'love': 29,\n",
              " 'or': 30,\n",
              " 'could': 31,\n",
              " 'serious': 32,\n",
              " 'illness': 33,\n",
              " 'even': 34,\n",
              " 'death': 35,\n",
              " 'had': 36,\n",
              " 'been': 37,\n",
              " 'obviously': 38,\n",
              " 'unjustly': 39,\n",
              " 'treated': 40,\n",
              " 'no': 41,\n",
              " 'possibility': 42,\n",
              " 'of': 43,\n",
              " 'elucidating': 44,\n",
              " 'this': 45,\n",
              " 'think': 46,\n",
              " 'about': 47,\n",
              " 'the': 48,\n",
              " 'short': 49,\n",
              " 'we': 50,\n",
              " 'live': 51,\n",
              " 'relate': 52,\n",
              " 'it': 53,\n",
              " 'periods': 54,\n",
              " 'life': 55,\n",
              " 'did': 56,\n",
              " 'not': 57,\n",
              " 'use': 58,\n",
              " 'gathering': 59,\n",
              " 'found': 60,\n",
              " 'involuntarily': 61,\n",
              " 'sitting': 62,\n",
              " 'next': 63,\n",
              " 'two': 64,\n",
              " 'who': 65,\n",
              " 'expressed': 66,\n",
              " 'opinions': 67,\n",
              " 'considered': 68,\n",
              " 'very': 69,\n",
              " 'low': 70,\n",
              " 'discriminating': 71,\n",
              " 'realized': 72,\n",
              " 'was': 73,\n",
              " 'directing': 74,\n",
              " 'feelings': 75,\n",
              " 'discontent': 76,\n",
              " 'way': 77,\n",
              " 'trying': 78,\n",
              " 'put': 79,\n",
              " 'blame': 80,\n",
              " 'him': 81,\n",
              " 'instead': 82,\n",
              " 'sorting': 83,\n",
              " 'out': 84,\n",
              " 'own': 85,\n",
              " 'feeliings': 86,\n",
              " 'guilty': 87,\n",
              " 'realize': 88,\n",
              " 'consider': 89,\n",
              " 'material': 90,\n",
              " 'things': 91,\n",
              " 'more': 92,\n",
              " 'important': 93,\n",
              " 'than': 94,\n",
              " 'caring': 95,\n",
              " 'for': 96,\n",
              " 'relatives': 97,\n",
              " 'selfcentered': 98,\n",
              " 'after': 99,\n",
              " 'girlfriend': 100,\n",
              " 'taken': 101,\n",
              " 'her': 102,\n",
              " 'exam': 103,\n",
              " 'went': 104,\n",
              " 'parents': 105,\n",
              " 'place': 106,\n",
              " 'first': 107,\n",
              " 'meaning': 108,\n",
              " 'car': 109,\n",
              " 'is': 110,\n",
              " 'overtaking': 111,\n",
              " 'another': 112,\n",
              " 'am': 113,\n",
              " 'forced': 114,\n",
              " 'drive': 115,\n",
              " 'off': 116,\n",
              " 'road': 117,\n",
              " 'recently': 118,\n",
              " 'thought': 119,\n",
              " 'hard': 120,\n",
              " 'work': 121,\n",
              " 'takes': 122,\n",
              " 'study': 123,\n",
              " 'how': 124,\n",
              " 'one': 125,\n",
              " 'wants': 126,\n",
              " 'try': 127,\n",
              " 'something': 128,\n",
              " 'else': 129,\n",
              " 'read': 130,\n",
              " 'theoretical': 131,\n",
              " 'book': 132,\n",
              " 'in': 133,\n",
              " 'english': 134,\n",
              " 'understand': 135,\n",
              " 'bristle': 136,\n",
              " 'liver': 137,\n",
              " 'paste': 138,\n",
              " 'tube': 139,\n",
              " 'tired': 140,\n",
              " 'unmotivated': 141,\n",
              " 'shouted': 142,\n",
              " 'brought': 143,\n",
              " 'up': 144,\n",
              " 'negative': 145,\n",
              " 'sides': 146,\n",
              " 'character': 147,\n",
              " 'which': 148,\n",
              " 'are': 149,\n",
              " 'actually': 150,\n",
              " 'so': 151,\n",
              " 'do': 152,\n",
              " 'enough': 153,\n",
              " 'weekend': 154,\n",
              " 'should': 155,\n",
              " 'have': 156,\n",
              " 'able': 157,\n",
              " 'accomplished': 158,\n",
              " 'during': 159,\n",
              " 'pass': 160,\n",
              " 'an': 161,\n",
              " 'examination': 162,\n",
              " 'well': 163,\n",
              " 'has': 164,\n",
              " 'arranged': 165,\n",
              " 'meet': 166,\n",
              " 'person': 167,\n",
              " 'arrives': 168,\n",
              " 'late': 169,\n",
              " 'meantime': 170,\n",
              " 'starts': 171,\n",
              " 'thinking': 172,\n",
              " 'all': 173,\n",
              " 'gone': 174,\n",
              " 'wrong': 175,\n",
              " 'eg': 176,\n",
              " 'traffic': 177,\n",
              " 'accident': 178,\n",
              " 'accused': 179,\n",
              " 'done': 180,\n",
              " 'ones': 181,\n",
              " 'studies': 182,\n",
              " 'seem': 183,\n",
              " 'hopelessly': 184,\n",
              " 'difficult': 185,\n",
              " 'uninteresting': 186,\n",
              " 'finds': 187,\n",
              " 'you': 188,\n",
              " 'know': 189,\n",
              " 'like': 190,\n",
              " 'instance': 191,\n",
              " 'steal': 192,\n",
              " 'quite': 193,\n",
              " 'unwarranted': 194,\n",
              " 'unjust': 195,\n",
              " 'stupid': 196,\n",
              " 'towards': 197,\n",
              " 'neglected': 198,\n",
              " 'good': 199,\n",
              " 'friend': 200,\n",
              " 'passing': 201,\n",
              " 'expect': 202,\n",
              " 'climbed': 203,\n",
              " 'tree': 204,\n",
              " 'pick': 205,\n",
              " 'apples': 206,\n",
              " 'angle': 207,\n",
              " 'ladder': 208,\n",
              " 'enable': 209,\n",
              " 'me': 210,\n",
              " 'get': 211,\n",
              " 'high': 212,\n",
              " 'implied': 213,\n",
              " 'stable': 214,\n",
              " 'excuses': 215,\n",
              " 'necessary': 216,\n",
              " 'doing': 217,\n",
              " 'children': 218,\n",
              " '2': 219,\n",
              " 'year': 220,\n",
              " 'old': 221,\n",
              " 'son': 222,\n",
              " 'sat': 223,\n",
              " '7th': 224,\n",
              " 'floor': 225,\n",
              " 'balcony': 226,\n",
              " 'his': 227,\n",
              " 'legs': 228,\n",
              " 'hanging': 229,\n",
              " 'he': 230,\n",
              " 'holding': 231,\n",
              " 'tightly': 232,\n",
              " 'upper': 233,\n",
              " 'railing': 234,\n",
              " 'but': 235,\n",
              " 'easily': 236,\n",
              " 'lost': 237,\n",
              " 'balance': 238,\n",
              " 'down': 239,\n",
              " 'attacked': 240,\n",
              " 'three': 241,\n",
              " 'teeth': 242,\n",
              " 'see': 243,\n",
              " 'tv': 244,\n",
              " 'from': 245,\n",
              " 'areas': 246,\n",
              " 'devastated': 247,\n",
              " 'by': 248,\n",
              " 'drought': 249,\n",
              " 'war': 250,\n",
              " 'nearly': 251,\n",
              " 'walked': 252,\n",
              " 'blindworm': 253,\n",
              " 'then': 254,\n",
              " 'saw': 255,\n",
              " 'crawl': 256,\n",
              " 'away': 257,\n",
              " '18': 258,\n",
              " 'grab': 259,\n",
              " 'oxygen': 260,\n",
              " 'mask': 261,\n",
              " 'as': 262,\n",
              " 'breathing': 263,\n",
              " 'difficulties': 264,\n",
              " 'bad': 265,\n",
              " 'conscience': 266,\n",
              " 'because': 267,\n",
              " 'stopped': 268,\n",
              " 'smoking': 269,\n",
              " 'medication': 270,\n",
              " 'dilation': 271,\n",
              " 'tubes': 272,\n",
              " 'caused': 273,\n",
              " 'sense': 274,\n",
              " 'guilt': 275,\n",
              " 'middle': 276,\n",
              " 'can': 277,\n",
              " 'express': 278,\n",
              " 'himself': 279,\n",
              " 'neither': 280,\n",
              " 'verbally': 281,\n",
              " 'nor': 282,\n",
              " 'writing': 283,\n",
              " 'child': 284,\n",
              " 'born': 285,\n",
              " 'spring': 286,\n",
              " 'ice': 287,\n",
              " 'melting': 288,\n",
              " 'far': 289,\n",
              " 'jetty': 290,\n",
              " 'poked': 291,\n",
              " 'long': 292,\n",
              " 'branch': 293,\n",
              " 'break': 294,\n",
              " 'through': 295,\n",
              " 'fell': 296,\n",
              " 'water': 297,\n",
              " 'closed': 298,\n",
              " 'over': 299,\n",
              " 'head': 300,\n",
              " 'accusations': 301,\n",
              " 'directed': 302,\n",
              " 'acting': 303,\n",
              " 'failing': 304,\n",
              " 'drunkard': 305,\n",
              " 'started': 306,\n",
              " 'bleeding': 307,\n",
              " 'wet': 308,\n",
              " 'disgust': 309,\n",
              " 'turned': 310,\n",
              " 'into': 311,\n",
              " 'sadnessunpleasantness': 312,\n",
              " 'adult': 313,\n",
              " 'caught': 314,\n",
              " 'lying': 315,\n",
              " 'behaving': 316,\n",
              " 'badly': 317,\n",
              " 'environment': 318,\n",
              " 'much': 319,\n",
              " 'worse': 320,\n",
              " 'privileged': 321,\n",
              " 'seen': 322,\n",
              " 'knocked': 323,\n",
              " 'heard': 324,\n",
              " 'radio': 325,\n",
              " 'football': 326,\n",
              " 'match': 327,\n",
              " 'belgium': 328,\n",
              " 'ended': 329,\n",
              " 'catastrophe': 330,\n",
              " 'several': 331,\n",
              " 'died': 332,\n",
              " 'normal': 333,\n",
              " 'behave': 334,\n",
              " 'such': 335,\n",
              " 'lonely': 336,\n",
              " 'perhaps': 337,\n",
              " 'lot': 338,\n",
              " 'shut': 339,\n",
              " 'appartment': 340,\n",
              " 'nothing': 341,\n",
              " 'happens': 342,\n",
              " 'particular': 343,\n",
              " 'there': 344,\n",
              " 'anything': 345,\n",
              " 'learns': 346,\n",
              " 'mass': 347,\n",
              " 'media': 348,\n",
              " 'wars': 349,\n",
              " 'killing': 350,\n",
              " 'going': 351,\n",
              " 'world': 352,\n",
              " 'lied': 353,\n",
              " 'be': 354,\n",
              " 'precise': 355,\n",
              " 'cancelled': 356,\n",
              " 'meeting': 357,\n",
              " 'lets': 358,\n",
              " 'accepted': 359,\n",
              " 'course': 360,\n",
              " 'finance': 361,\n",
              " 'accounting': 362,\n",
              " 'bus': 363,\n",
              " 'drove': 364,\n",
              " 'right': 365,\n",
              " 'leg': 366,\n",
              " 'event': 367,\n",
              " 'itself': 368,\n",
              " 'frightening': 369,\n",
              " 'wait': 370,\n",
              " 'emergency': 371,\n",
              " 'ward': 372,\n",
              " 'hours': 373,\n",
              " 'began': 374,\n",
              " 'swell': 375,\n",
              " 'frightened': 376,\n",
              " 'summer': 377,\n",
              " 'job': 378,\n",
              " 'nobody': 379,\n",
              " 'looked': 380,\n",
              " 'learn': 381,\n",
              " 'student': 382,\n",
              " 'just': 383,\n",
              " 'moved': 384,\n",
              " 'new': 385,\n",
              " 'ventilator': 386,\n",
              " 'kitchen': 387,\n",
              " 'clean': 388,\n",
              " 'drum': 389,\n",
              " 'full': 390,\n",
              " 'mud': 391,\n",
              " 'slime': 392,\n",
              " 'felt': 393,\n",
              " 'disgusted': 394,\n",
              " 'elder': 395,\n",
              " 'brother': 396,\n",
              " 'always': 397,\n",
              " 'relationship': 398,\n",
              " 'ashamed': 399,\n",
              " 'call': 400,\n",
              " 'talk': 401,\n",
              " 'nowadays': 402,\n",
              " 'caretaker': 403,\n",
              " 'employed': 404,\n",
              " 'age': 405,\n",
              " 'preferred': 406,\n",
              " 'lunch': 407,\n",
              " 'accounts': 408,\n",
              " 'personnel': 409,\n",
              " 'rather': 410,\n",
              " 'passed': 411,\n",
              " 'points': 412,\n",
              " 'cottage': 413,\n",
              " 'large': 414,\n",
              " 'forest': 415,\n",
              " 'alone': 416,\n",
              " 'while': 417,\n",
              " 'dark': 418,\n",
              " 'railway': 419,\n",
              " 'station': 420,\n",
              " 'goodbye': 421,\n",
              " 'cripple': 422,\n",
              " 'rags': 423,\n",
              " 'small': 424,\n",
              " 'italy': 425,\n",
              " 'probably': 426,\n",
              " 'imposter': 427,\n",
              " 'told': 428,\n",
              " 'party': 429,\n",
              " 'would': 430,\n",
              " 'enjoy': 431,\n",
              " 'if': 432,\n",
              " 'came': 433,\n",
              " 'along': 434,\n",
              " 'understood': 435,\n",
              " 'fitted': 436,\n",
              " 'reason': 437,\n",
              " 'behind': 438,\n",
              " 'breakup': 439,\n",
              " 'she': 440,\n",
              " 'finished': 441,\n",
              " 'absolutely': 442,\n",
              " 'certain': 443,\n",
              " 'failed': 444,\n",
              " 'back': 445,\n",
              " 'denmark': 446,\n",
              " 'yatch': 447,\n",
              " 'storm': 448,\n",
              " 'blown': 449,\n",
              " 'overboard': 450,\n",
              " 'scared': 451,\n",
              " 'till': 452,\n",
              " 'managed': 453,\n",
              " 'onboard': 454,\n",
              " 'locked': 455,\n",
              " 'missed': 456,\n",
              " 'last': 457,\n",
              " 'tram': 458,\n",
              " 'home': 459,\n",
              " 'walk': 460,\n",
              " 'pouring': 461,\n",
              " 'rain': 462,\n",
              " 'some': 463,\n",
              " 'worms': 464,\n",
              " 'food': 465,\n",
              " 'eaten': 466,\n",
              " 'intoxicated': 467,\n",
              " 'police': 468,\n",
              " 'took': 469,\n",
              " 'they': 470,\n",
              " 'later': 471,\n",
              " 'contacted': 472,\n",
              " 'hapened': 473,\n",
              " 'overhear': 474,\n",
              " 'meant': 475,\n",
              " 'hear': 476,\n",
              " 'won': 477,\n",
              " 'trip': 478,\n",
              " 'greece': 479,\n",
              " 'competition': 480,\n",
              " 'suspicious': 481,\n",
              " 'looking': 482,\n",
              " 'comes': 483,\n",
              " 'elderly': 484,\n",
              " 'man': 485,\n",
              " 'complained': 486,\n",
              " 'unjustifiably': 487,\n",
              " 'distrusted': 488,\n",
              " 'lecture': 489,\n",
              " 'alcoholic': 490,\n",
              " 'stood': 491,\n",
              " 'dribbling': 492,\n",
              " 'counter': 493,\n",
              " 'were': 494,\n",
              " 'discussing': 495,\n",
              " 'looks': 496,\n",
              " 'guy': 497,\n",
              " 'listening': 498,\n",
              " 'colleague': 499,\n",
              " 'manager': 500,\n",
              " 'believing': 501,\n",
              " 'liked': 502,\n",
              " 'birthday': 503,\n",
              " 'closest': 504,\n",
              " 'pleasant': 505,\n",
              " 'say': 506,\n",
              " 'happy': 507,\n",
              " 'friday': 508,\n",
              " 'night': 509,\n",
              " 'heavy': 510,\n",
              " 'acquaplanned': 511,\n",
              " 'surface': 512,\n",
              " 'few': 513,\n",
              " 'seconds': 514,\n",
              " 'mad': 515,\n",
              " 'dad': 516,\n",
              " 'case': 517,\n",
              " 'unrequited': 518,\n",
              " 'smelling': 519,\n",
              " 'cucumber': 520,\n",
              " 'masturbating': 521,\n",
              " 'help': 522,\n",
              " 'pools': 523,\n",
              " 'flew': 524,\n",
              " 'athens': 525,\n",
              " 'copenhagen': 526,\n",
              " 'holiday': 527,\n",
              " 'plane': 528,\n",
              " 'shake': 529,\n",
              " 'thouhght': 530,\n",
              " 'crash': 531,\n",
              " 'stole': 532,\n",
              " 'bike': 533,\n",
              " 'list': 534,\n",
              " 'books': 535,\n",
              " 'acccouting': 536,\n",
              " 'oh': 537,\n",
              " 'god': 538,\n",
              " 'will': 539,\n",
              " 'ever': 540,\n",
              " 'manaage': 541,\n",
              " 'newspaper': 542,\n",
              " 'article': 543,\n",
              " 'future': 544,\n",
              " 'foresaw': 545,\n",
              " 'eating': 546,\n",
              " 'frogburgers': 547,\n",
              " '2000': 548,\n",
              " 'illustration': 549,\n",
              " 'showed': 550,\n",
              " 'frog': 551,\n",
              " 'between': 552,\n",
              " 'pieces': 553,\n",
              " 'bread': 554,\n",
              " 'dropped': 555,\n",
              " 'bottle': 556,\n",
              " 'state': 557,\n",
              " 'liquor': 558,\n",
              " 'store': 559,\n",
              " 'everyboby': 560,\n",
              " 'laughing': 561,\n",
              " 'young': 562,\n",
              " '14': 563,\n",
              " 'pinched': 564,\n",
              " 'whole': 565,\n",
              " 'family': 566,\n",
              " 'gets': 567,\n",
              " 'together': 568,\n",
              " 'week': 569,\n",
              " 'everybody': 570,\n",
              " 'feels': 571,\n",
              " 'free': 572,\n",
              " 'planned': 573,\n",
              " 'works': 574,\n",
              " 'ourselves': 575,\n",
              " 'find': 576,\n",
              " 'daughter': 577,\n",
              " 'ran': 578,\n",
              " 'everywhere': 579,\n",
              " 'finally': 580,\n",
              " 'bed': 581,\n",
              " 'sleep': 582,\n",
              " 'hurt': 583,\n",
              " 'marriage': 584,\n",
              " 'crises': 585,\n",
              " 'boredom': 586,\n",
              " 'makes': 587,\n",
              " 'advances': 588,\n",
              " 'does': 589,\n",
              " 'want': 590,\n",
              " 'discovery': 591,\n",
              " 'only': 592,\n",
              " 'oneself': 593,\n",
              " 'spanked': 594,\n",
              " 'anger': 595,\n",
              " 'regretted': 596,\n",
              " 'terribly': 597,\n",
              " 'repeat': 598,\n",
              " 'stockholm': 599,\n",
              " 'stora': 600,\n",
              " 'hissingen': 601,\n",
              " 'exit': 602,\n",
              " 'boyfriend': 603,\n",
              " 'month': 604,\n",
              " 'without': 605,\n",
              " 'worked': 606,\n",
              " 'holidays': 607,\n",
              " 'studied': 608,\n",
              " 'same': 609,\n",
              " 'dog': 610,\n",
              " 'left': 611,\n",
              " 'whining': 612,\n",
              " 'outside': 613,\n",
              " 'shop': 614,\n",
              " 'promised': 615,\n",
              " 'keep': 616,\n",
              " 'promise': 617,\n",
              " 'examinations': 618,\n",
              " 'take': 619,\n",
              " 'day': 620,\n",
              " 'economics': 621,\n",
              " 'taking': 622,\n",
              " 'cut': 623,\n",
              " 'vasa': 624,\n",
              " 'park': 625,\n",
              " 'surrounded': 626,\n",
              " 'tried': 627,\n",
              " 'money': 628,\n",
              " 'saved': 629,\n",
              " 'appearance': 630,\n",
              " 'restaurant': 631,\n",
              " 'observed': 632,\n",
              " 'gypsies': 633,\n",
              " 'cheating': 634,\n",
              " 'foreigners': 635,\n",
              " 'ie': 636,\n",
              " 'non': 637,\n",
              " 'swedish': 638,\n",
              " 'speaking': 639,\n",
              " 'hatred': 640,\n",
              " 'against': 641,\n",
              " 'expression': 642,\n",
              " 'being': 643,\n",
              " 'used': 644,\n",
              " 'begining': 645,\n",
              " 'afraid': 646,\n",
              " 'encountering': 647,\n",
              " 'problems': 648,\n",
              " 'manage': 649,\n",
              " 'thoughts': 650,\n",
              " 'revolve': 651,\n",
              " 'around': 652,\n",
              " 'subject': 653,\n",
              " 'consequences': 654,\n",
              " 'walking': 655,\n",
              " 'town': 656,\n",
              " 'noticed': 657,\n",
              " 'harrassed': 658,\n",
              " 'under': 659,\n",
              " 'influence': 660,\n",
              " 'alcohol': 661,\n",
              " 'terrified': 662,\n",
              " 'arrest': 663,\n",
              " 'driving': 664,\n",
              " 'pedestrian': 665,\n",
              " 'street': 666,\n",
              " 'gestures': 667,\n",
              " 'facial': 668,\n",
              " 'expressions': 669,\n",
              " 'policemen': 670,\n",
              " 'seemed': 671,\n",
              " 'enjoying': 672,\n",
              " 'themselves': 673,\n",
              " 'revealed': 674,\n",
              " 'knew': 675,\n",
              " 'discovered': 676,\n",
              " 'nature': 677,\n",
              " 'mentioned': 678,\n",
              " 'earlier': 679,\n",
              " 'dishonest': 680,\n",
              " 'gives': 681,\n",
              " 'different': 682,\n",
              " 'version': 683,\n",
              " 'truth': 684,\n",
              " 'corrected': 685,\n",
              " 'these': 686,\n",
              " 'mistakes': 687,\n",
              " 'aware': 688,\n",
              " 'exams': 689,\n",
              " 'margin': 690,\n",
              " 'marks': 691,\n",
              " 'father': 692,\n",
              " 'ill': 693,\n",
              " 'waiting': 694,\n",
              " 'results': 695,\n",
              " 'tests': 696,\n",
              " 'got': 697,\n",
              " 'thursday': 698,\n",
              " 'raincoat': 699,\n",
              " 'prepared': 700,\n",
              " 'contribution': 701,\n",
              " 'group': 702,\n",
              " 'thoroughly': 703,\n",
              " 'members': 704,\n",
              " 'result': 705,\n",
              " 'overall': 706,\n",
              " 'poor': 707,\n",
              " 'house': 708,\n",
              " 'recovered': 709,\n",
              " 'lazy': 710,\n",
              " 'gave': 711,\n",
              " 'birth': 712,\n",
              " 'alive': 713,\n",
              " 'too': 714,\n",
              " 'early': 715,\n",
              " 'malfunctioning': 716,\n",
              " 'lung': 717,\n",
              " 'happened': 718,\n",
              " 'ago': 719,\n",
              " 'cancer': 720,\n",
              " 'asked': 721,\n",
              " 'despite': 722,\n",
              " 'fact': 723,\n",
              " 'salary': 724,\n",
              " 'increase': 725,\n",
              " 'expecting': 726,\n",
              " 'little': 727,\n",
              " 'appreciated': 728,\n",
              " 'weeding': 729,\n",
              " 'garden': 730,\n",
              " 'lizard': 731,\n",
              " 'hand': 732,\n",
              " 'met': 733,\n",
              " 'troubles': 734,\n",
              " 'touch': 735,\n",
              " 'angry': 736,\n",
              " 'mother': 737,\n",
              " 'trivial': 738,\n",
              " 'mood': 739,\n",
              " 'really': 740,\n",
              " 'needed': 741,\n",
              " 'support': 742,\n",
              " 'reacted': 743,\n",
              " 'wrongly': 744,\n",
              " 'years': 745,\n",
              " 'eve': 746,\n",
              " '19831984': 747,\n",
              " 'steps': 748,\n",
              " 'kissed': 749,\n",
              " 'plain': 750,\n",
              " 'clothes': 751,\n",
              " 'overturned': 752,\n",
              " 'avenue': 753,\n",
              " 'fast': 754,\n",
              " 'questionned': 755,\n",
              " 'toild': 756,\n",
              " 'go': 757,\n",
              " 'situation': 758,\n",
              " 'happily': 759,\n",
              " 'since': 760,\n",
              " 'editor': 761,\n",
              " 'changed': 762,\n",
              " 'heading': 763,\n",
              " 'written': 764,\n",
              " 'derogatory': 765,\n",
              " 'acquaintance': 766,\n",
              " 'although': 767,\n",
              " 'expected': 768,\n",
              " 'still': 769,\n",
              " 'depressed': 770,\n",
              " 'picture': 771,\n",
              " 'gothenburg': 772,\n",
              " 'post': 773,\n",
              " 'totally': 774,\n",
              " 'demolished': 775,\n",
              " 'fatally': 776,\n",
              " 'injured': 777,\n",
              " 'passengers': 778,\n",
              " 'damaged': 779,\n",
              " 'couldnt': 780,\n",
              " 'bodies': 781,\n",
              " 'scene': 782,\n",
              " 'sexual': 783,\n",
              " 'intercourse': 784,\n",
              " 'desire': 785,\n",
              " 'curiosity': 786,\n",
              " 'made': 787,\n",
              " 'jump': 788,\n",
              " 'now': 789,\n",
              " 'due': 790,\n",
              " 'laziness': 791,\n",
              " 'term': 792,\n",
              " 'completely': 793,\n",
              " 'university': 794,\n",
              " 'wanted': 795,\n",
              " 'extent': 796,\n",
              " 'protest': 797,\n",
              " 'expectations': 798,\n",
              " 'loan': 799,\n",
              " 'dubious': 800,\n",
              " 'intentions': 801,\n",
              " 'alley': 802,\n",
              " 'wednesday': 803,\n",
              " 'news': 804,\n",
              " 'feature': 805,\n",
              " 'south': 806,\n",
              " 'africa': 807,\n",
              " 'policeman': 808,\n",
              " 'black': 809,\n",
              " 'whip': 810,\n",
              " 'having': 811,\n",
              " 'boring': 812,\n",
              " '400': 813,\n",
              " 'pages': 814,\n",
              " 'grovelling': 815,\n",
              " 'inability': 816,\n",
              " 'assert': 817,\n",
              " 'positively': 818,\n",
              " 'observing': 819,\n",
              " 'cafeteria': 820,\n",
              " 'noisily': 821,\n",
              " 'gulping': 822,\n",
              " 'extremely': 823,\n",
              " 'manners': 824,\n",
              " 'guess': 825,\n",
              " 'often': 826,\n",
              " 'talked': 827,\n",
              " 'unpleasant': 828,\n",
              " 'sister': 829,\n",
              " 'history': 830,\n",
              " 'abortion': 831,\n",
              " 'stillbirth': 832,\n",
              " 'perfectly': 833,\n",
              " 'healty': 834,\n",
              " 'boy': 835,\n",
              " 'emotionally': 836,\n",
              " 'deep': 837,\n",
              " 'recover': 838,\n",
              " 'starting': 839,\n",
              " 'project': 840,\n",
              " 'teacher': 841,\n",
              " 'helpful': 842,\n",
              " 'openly': 843,\n",
              " 'let': 844,\n",
              " 'preferring': 845,\n",
              " 'girl': 846,\n",
              " 'cant': 847,\n",
              " 'any': 848,\n",
              " 'before': 849,\n",
              " 'aunt': 850,\n",
              " 'offered': 851,\n",
              " 'front': 852,\n",
              " 'seat': 853,\n",
              " 'driver': 854,\n",
              " 'declined': 855,\n",
              " 'killed': 856,\n",
              " 'crashed': 857,\n",
              " 'unexpected': 858,\n",
              " 'visit': 859,\n",
              " 'hadnt': 860,\n",
              " 'half': 861,\n",
              " 'wandered': 862,\n",
              " 'mistake': 863,\n",
              " 'safety': 864,\n",
              " 'zone': 865,\n",
              " 'shooting': 866,\n",
              " 'range': 867,\n",
              " 'shot': 868,\n",
              " 'unfairly': 869,\n",
              " 'breaking': 870,\n",
              " 'none': 871,\n",
              " 'college': 872,\n",
              " 'possible': 873,\n",
              " 'arrive': 874,\n",
              " 'school': 875,\n",
              " 'grandmother': 876,\n",
              " 'applicable': 877,\n",
              " 'couple': 878,\n",
              " 'fishing': 879,\n",
              " 'lake': 880,\n",
              " 'husband': 881,\n",
              " 'suddenly': 882,\n",
              " 'raining': 883,\n",
              " 'sun': 884,\n",
              " 'shining': 885,\n",
              " 'experienced': 886,\n",
              " 'feeling': 887,\n",
              " 'joy': 888,\n",
              " 'happiness': 889,\n",
              " 'fulfillment': 890,\n",
              " 'music': 891,\n",
              " 'reading': 892,\n",
              " 'womens': 893,\n",
              " 'magazine': 894,\n",
              " 'storiees': 895,\n",
              " 'paranormal': 896,\n",
              " 'experiences': 897,\n",
              " 'itching': 898,\n",
              " 'stretched': 899,\n",
              " 'scratch': 900,\n",
              " 'strange': 901,\n",
              " 'corner': 902,\n",
              " 'blanket': 903,\n",
              " 'once': 904,\n",
              " 'again': 905,\n",
              " 'second': 906,\n",
              " 'attitude': 907,\n",
              " 'lecturer': 908,\n",
              " 'former': 909,\n",
              " 'superior': 910,\n",
              " 'mine': 911,\n",
              " 'our': 912,\n",
              " 'interaction': 913,\n",
              " 'longer': 914,\n",
              " 'limited': 915,\n",
              " 'scope': 916,\n",
              " 'human': 917,\n",
              " 'sad': 918,\n",
              " 'fat': 919,\n",
              " 'sickly': 920,\n",
              " 'woman': 921,\n",
              " 'asking': 922,\n",
              " 'directions': 923,\n",
              " 'thick': 924,\n",
              " 'voice': 925,\n",
              " 'disgusting': 926,\n",
              " 'smell': 927,\n",
              " 'urine': 928,\n",
              " 'choke': 929,\n",
              " 'remark': 930,\n",
              " 'friendly': 931,\n",
              " 'manner': 932,\n",
              " 'deed': 933,\n",
              " 'therefore': 934,\n",
              " 'shame': 935,\n",
              " 'concerning': 936,\n",
              " 'men': 937,\n",
              " 'compared': 938,\n",
              " 'evening': 939,\n",
              " 'sadness': 940,\n",
              " 'sweden': 941,\n",
              " 'practice': 942,\n",
              " 'association': 943,\n",
              " 'pals': 944,\n",
              " 'wake': 945,\n",
              " 'morning': 946,\n",
              " 'bringing': 947,\n",
              " 'played': 948,\n",
              " 'highest': 949,\n",
              " 'volume': 950,\n",
              " 'room': 951,\n",
              " 'service': 952,\n",
              " 'its': 953,\n",
              " 'loudest': 954,\n",
              " 'swindled': 955,\n",
              " 'customers': 956,\n",
              " 'detest': 957,\n",
              " 'arrived': 958,\n",
              " 'bank': 959,\n",
              " 'feeble': 960,\n",
              " 'polish': 961,\n",
              " 'visitors': 962,\n",
              " 'boat': 963,\n",
              " 'them': 964,\n",
              " 'chairman': 965,\n",
              " 'unexpectedly': 966,\n",
              " 'become': 967,\n",
              " 'vicechairman': 968,\n",
              " 'organisation': 969,\n",
              " 'surprised': 970,\n",
              " 'emotion': 971,\n",
              " 'though': 972,\n",
              " 'worry': 973,\n",
              " 'shall': 974,\n",
              " 'succeed': 975,\n",
              " 'tutorial': 976,\n",
              " 'soon': 977,\n",
              " 'divided': 978,\n",
              " 'names': 979,\n",
              " 'freshmen': 980,\n",
              " 'five': 981,\n",
              " 'each': 982,\n",
              " 'seminar': 983,\n",
              " 'wondered': 984,\n",
              " 'cope': 985,\n",
              " 'leader': 986,\n",
              " 'disco': 987,\n",
              " 'knowing': 988,\n",
              " 'why': 989,\n",
              " 'companion': 990,\n",
              " 'humour': 991,\n",
              " 'hide': 992,\n",
              " 'called': 993,\n",
              " 'sunday': 994,\n",
              " 'autumn': 995,\n",
              " 'hated': 996,\n",
              " 'moment': 997,\n",
              " 'sounded': 998,\n",
              " 'remained': 999,\n",
              " ...}"
            ]
          },
          "metadata": {},
          "execution_count": 38
        }
      ]
    },
    {
      "cell_type": "code",
      "metadata": {
        "id": "XcYcBwrbM2sZ"
      },
      "source": [
        "# corpus_model = Corpus.load('glove.model')"
      ],
      "execution_count": null,
      "outputs": []
    },
    {
      "cell_type": "code",
      "metadata": {
        "id": "40Wtz7kvBVIK",
        "colab": {
          "base_uri": "https://localhost:8080/"
        },
        "outputId": "aec9a892-1d60-47ac-f5d8-7d45a53f6e03"
      },
      "source": [
        "korpus\n",
        "# corpus_model"
      ],
      "execution_count": 39,
      "outputs": [
        {
          "output_type": "execute_result",
          "data": {
            "text/plain": [
              "<glove.corpus.Corpus at 0x7ff953855b90>"
            ]
          },
          "metadata": {},
          "execution_count": 39
        }
      ]
    },
    {
      "cell_type": "code",
      "metadata": {
        "id": "PGes8dUJBOTg",
        "colab": {
          "base_uri": "https://localhost:8080/"
        },
        "outputId": "48330b9c-0bb7-4579-fa67-b9c5f5d9f404"
      },
      "source": [
        "len(korpus.dictionary)"
      ],
      "execution_count": 40,
      "outputs": [
        {
          "output_type": "execute_result",
          "data": {
            "text/plain": [
              "9352"
            ]
          },
          "metadata": {},
          "execution_count": 40
        }
      ]
    },
    {
      "cell_type": "code",
      "metadata": {
        "id": "SbnPLoilBjT4",
        "colab": {
          "base_uri": "https://localhost:8080/"
        },
        "outputId": "360d774a-4efb-43c7-a545-74dc78433b7d"
      },
      "source": [
        "korpus.matrix"
      ],
      "execution_count": 41,
      "outputs": [
        {
          "output_type": "execute_result",
          "data": {
            "text/plain": [
              "<9352x9352 sparse matrix of type '<class 'numpy.float64'>'\n",
              "\twith 400898 stored elements in COOrdinate format>"
            ]
          },
          "metadata": {},
          "execution_count": 41
        }
      ]
    },
    {
      "cell_type": "code",
      "metadata": {
        "id": "8H8uttV5LKfh"
      },
      "source": [
        "glove = Glove(no_components=100, learning_rate=0.05, alpha=0.75, max_count=100, max_loss=10.0, random_state=None)\n",
        "glove.fit(korpus.matrix)\n",
        "glove.add_dictionary(korpus.dictionary)\n",
        "glove.save('glove.model')\n"
      ],
      "execution_count": 42,
      "outputs": []
    },
    {
      "cell_type": "code",
      "metadata": {
        "id": "eymMIxQDON2m",
        "colab": {
          "base_uri": "https://localhost:8080/"
        },
        "outputId": "8070f500-b854-4782-ac38-86cb5dc688ac"
      },
      "source": [
        "glove"
      ],
      "execution_count": 43,
      "outputs": [
        {
          "output_type": "execute_result",
          "data": {
            "text/plain": [
              "<glove.glove.Glove at 0x7ff9537df710>"
            ]
          },
          "metadata": {},
          "execution_count": 43
        }
      ]
    },
    {
      "cell_type": "code",
      "metadata": {
        "id": "mPtDUgi6-tfz",
        "colab": {
          "base_uri": "https://localhost:8080/"
        },
        "outputId": "f1281854-a7ce-429f-e6c4-b2066ef4d960"
      },
      "source": [
        "glove.most_similar('i', number=10)"
      ],
      "execution_count": 44,
      "outputs": [
        {
          "output_type": "execute_result",
          "data": {
            "text/plain": [
              "[('knew', 0.9976477192160031),\n",
              " ('am', 0.9974291599232528),\n",
              " ('realized', 0.9970053274665215),\n",
              " ('thought', 0.9968076603101566),\n",
              " ('should', 0.9966902593320506),\n",
              " ('couldnt', 0.9966619664999298),\n",
              " ('feel', 0.9962648965757736),\n",
              " ('heard', 0.9961117430610662),\n",
              " ('didnt', 0.9959774809436786)]"
            ]
          },
          "metadata": {},
          "execution_count": 44
        }
      ]
    },
    {
      "cell_type": "code",
      "metadata": {
        "id": "kU8IheNtXQJm",
        "colab": {
          "base_uri": "https://localhost:8080/"
        },
        "outputId": "dc24841b-4233-4141-9d1f-b739f08584e9"
      },
      "source": [
        "glove.word_vectors[glove.dictionary['me']]"
      ],
      "execution_count": 45,
      "outputs": [
        {
          "output_type": "execute_result",
          "data": {
            "text/plain": [
              "array([ 0.20894088,  0.20160939,  0.26508384,  0.1927371 , -0.14651802,\n",
              "        0.27383447, -0.09266269,  0.1359848 ,  0.07925942, -0.12921977,\n",
              "        0.32314702, -0.22463803,  0.23000046, -0.22980292,  0.17807375,\n",
              "        0.22273489,  0.08885115, -0.16650816,  0.29022036, -0.11155406,\n",
              "       -0.23011949,  0.21691843, -0.10016841, -0.16963861, -0.04993882,\n",
              "        0.25298562,  0.32493546, -0.19487349, -0.29258486, -0.35226985,\n",
              "        0.0570647 , -0.30353447, -0.16358372,  0.23491409, -0.0520626 ,\n",
              "       -0.20913637, -0.00262646, -0.16667925,  0.1728972 , -0.0562746 ,\n",
              "       -0.09480902, -0.12869584,  0.10761062,  0.05763188,  0.27667054,\n",
              "       -0.0452335 ,  0.25123463, -0.13349426, -0.12592998,  0.06983922,\n",
              "       -0.16026253, -0.13212768, -0.08835417, -0.05666458,  0.02219076,\n",
              "        0.20301403,  0.12921908, -0.06956913,  0.09026353,  0.03560343,\n",
              "       -0.14860807,  0.18380145, -0.11590684,  0.02232946, -0.27134797,\n",
              "        0.15631068,  0.3273792 , -0.29375194,  0.22473591,  0.18640698,\n",
              "        0.15913594,  0.27782448, -0.0377131 , -0.13923874,  0.20706573,\n",
              "        0.12883044, -0.26806394, -0.19168867, -0.10729044,  0.25432922,\n",
              "        0.27894498,  0.06848627,  0.35496103,  0.23911152,  0.24691291,\n",
              "        0.2432947 ,  0.06249147, -0.01291548, -0.26318354, -0.01189292,\n",
              "       -0.18729122,  0.20381237, -0.33284437,  0.1402776 ,  0.02808964,\n",
              "        0.08213482,  0.23071204, -0.21169514, -0.2689997 ,  0.19078294])"
            ]
          },
          "metadata": {},
          "execution_count": 45
        }
      ]
    },
    {
      "cell_type": "code",
      "metadata": {
        "id": "YtD3_efVYEmQ",
        "colab": {
          "base_uri": "https://localhost:8080/"
        },
        "outputId": "69b79119-6df4-48ac-c85e-d25a3c05e95f"
      },
      "source": [
        "glove.word_vectors"
      ],
      "execution_count": 46,
      "outputs": [
        {
          "output_type": "execute_result",
          "data": {
            "text/plain": [
              "array([[ 0.15023635,  0.1316675 ,  0.21117878, ..., -0.14757797,\n",
              "        -0.18689867,  0.14853156],\n",
              "       [ 0.05939901,  0.04556015,  0.07831745, ..., -0.0619439 ,\n",
              "        -0.07603954,  0.05474599],\n",
              "       [ 0.23467244,  0.20156254,  0.29295146, ..., -0.22842686,\n",
              "        -0.29362946,  0.21661328],\n",
              "       ...,\n",
              "       [-0.01224976, -0.01220523, -0.01348603, ...,  0.00462596,\n",
              "         0.0120249 , -0.01041328],\n",
              "       [-0.0045423 , -0.00697319, -0.01184221, ...,  0.00732557,\n",
              "         0.00724442, -0.00971916],\n",
              "       [-0.0044687 , -0.00793263, -0.01011495, ...,  0.00731502,\n",
              "         0.00368306, -0.0082171 ]])"
            ]
          },
          "metadata": {},
          "execution_count": 46
        }
      ]
    },
    {
      "cell_type": "code",
      "metadata": {
        "id": "CycUf02hYEKd",
        "colab": {
          "base_uri": "https://localhost:8080/"
        },
        "outputId": "98cd851b-1075-46dd-e09c-5918177a77bd"
      },
      "source": [
        "glove.word_vectors.shape"
      ],
      "execution_count": 47,
      "outputs": [
        {
          "output_type": "execute_result",
          "data": {
            "text/plain": [
              "(9352, 100)"
            ]
          },
          "metadata": {},
          "execution_count": 47
        }
      ]
    },
    {
      "cell_type": "code",
      "metadata": {
        "id": "c3SUrgS4YN2F",
        "colab": {
          "base_uri": "https://localhost:8080/",
          "height": 172
        },
        "outputId": "792b614b-f6bc-4689-b8f0-76e09680397d"
      },
      "source": [
        "glove"
      ],
      "execution_count": 68,
      "outputs": [
        {
          "output_type": "error",
          "ename": "AttributeError",
          "evalue": "ignored",
          "traceback": [
            "\u001b[0;31m---------------------------------------------------------------------------\u001b[0m",
            "\u001b[0;31mAttributeError\u001b[0m                            Traceback (most recent call last)",
            "\u001b[0;32m<ipython-input-68-34e17ca287be>\u001b[0m in \u001b[0;36m<module>\u001b[0;34m()\u001b[0m\n\u001b[0;32m----> 1\u001b[0;31m \u001b[0mglove\u001b[0m\u001b[0;34m.\u001b[0m\u001b[0mmodel\u001b[0m\u001b[0;34m\u001b[0m\u001b[0;34m\u001b[0m\u001b[0m\n\u001b[0m",
            "\u001b[0;31mAttributeError\u001b[0m: 'Glove' object has no attribute 'model'"
          ]
        }
      ]
    },
    {
      "cell_type": "code",
      "metadata": {
        "id": "HPKhx0JC9zET"
      },
      "source": [
        "# tes1='friends'\n",
        "# tes2=['my', ' friend']\n",
        "# tes3='my friend'\n",
        "\n",
        "# glove.transform_paragraph(tes1)"
      ],
      "execution_count": null,
      "outputs": []
    },
    {
      "cell_type": "code",
      "metadata": {
        "id": "IckmQHd_DHxb"
      },
      "source": [
        "from gensim.test.utils import datapath, get_tmpfile\n",
        "from gensim.models import KeyedVectors\n",
        "from gensim.scripts.glove2word2vec import glove2word2vec\n",
        "from gensim.scripts.glove2word2vec import get_glove_info\n",
        "from gensim.models import Word2Vec\n",
        "import gensim"
      ],
      "execution_count": 19,
      "outputs": []
    },
    {
      "cell_type": "code",
      "metadata": {
        "colab": {
          "base_uri": "https://localhost:8080/"
        },
        "id": "ujnXSz2q65OO",
        "outputId": "aa75b09a-1450-49d5-a9a5-92d39c5cae6c"
      },
      "source": [
        "from google.colab import drive\n",
        "drive.mount('/content/drive')"
      ],
      "execution_count": 20,
      "outputs": [
        {
          "output_type": "stream",
          "name": "stdout",
          "text": [
            "Mounted at /content/drive\n"
          ]
        }
      ]
    },
    {
      "cell_type": "code",
      "metadata": {
        "colab": {
          "base_uri": "https://localhost:8080/"
        },
        "id": "Nv2Njk5U8jAi",
        "outputId": "10663e36-bb30-438c-8421-41e25dcd0a31"
      },
      "source": [
        "get_glove_info('/content/drive/MyDrive/glove.6B.100d.txt')"
      ],
      "execution_count": 50,
      "outputs": [
        {
          "output_type": "execute_result",
          "data": {
            "text/plain": [
              "(400000, 100)"
            ]
          },
          "metadata": {},
          "execution_count": 50
        }
      ]
    },
    {
      "cell_type": "code",
      "metadata": {
        "id": "hmqtIkxaU1-E",
        "outputId": "5cff6b43-649b-4dc0-b7df-f35dc4bbac07",
        "colab": {
          "base_uri": "https://localhost:8080/"
        }
      },
      "source": [
        "get_glove_info('/content/glove.model')"
      ],
      "execution_count": 52,
      "outputs": [
        {
          "output_type": "execute_result",
          "data": {
            "text/plain": [
              "(58924, 5)"
            ]
          },
          "metadata": {},
          "execution_count": 52
        }
      ]
    },
    {
      "cell_type": "code",
      "metadata": {
        "id": "13Zvqh7NDHt2"
      },
      "source": [
        "glove_file = '/content/glove.model'\n",
        "tmp_file = '/content/tes'\n",
        "\n",
        "glove2word2vec(glove_file, tmp_file)\n",
        "\n",
        "# KeyedVectors.load_word2vec_format dipakai jika c\n",
        "model = KeyedVectors.load_word2vec_format(tmp_file,binary=True, unicode_errors='ignore',limit=9352)\n",
        "# model = gensim.models.word2vec.Word2Vec.load(tmp_file)"
      ],
      "execution_count": 71,
      "outputs": []
    },
    {
      "cell_type": "code",
      "metadata": {
        "id": "-2RibbS_DHqH",
        "colab": {
          "base_uri": "https://localhost:8080/"
        },
        "outputId": "888af6c4-ae2a-4f28-d7f7-a806c017bef2"
      },
      "source": [
        "model.wv.vectors"
      ],
      "execution_count": 72,
      "outputs": [
        {
          "output_type": "stream",
          "name": "stderr",
          "text": [
            "/usr/local/lib/python3.7/dist-packages/ipykernel_launcher.py:1: DeprecationWarning: Call to deprecated `wv` (Attribute will be removed in 4.0.0, use self instead).\n",
            "  \"\"\"Entry point for launching an IPython kernel.\n"
          ]
        },
        {
          "output_type": "execute_result",
          "data": {
            "text/plain": [
              "array([[-6.6678461e+02, -1.1713548e-26, -9.3391578e+04, -1.2224200e-27,\n",
              "        -4.2755659e+05],\n",
              "       [-5.8424762e+04,  1.0080260e+16, -7.0968428e-16, -3.1331840e-10,\n",
              "        -3.7157341e-07],\n",
              "       [-1.6084446e-29, -8.5082135e-14, -9.8529891e-34,  1.2438367e+35,\n",
              "        -2.8793350e+25],\n",
              "       ...,\n",
              "       [ 9.5676678e-01, -3.7835398e+04,  1.1268523e+00, -6.5024461e-18,\n",
              "        -9.3119448e-01],\n",
              "       [ 1.0273114e+11,  2.4122879e+32, -5.1401392e+10,  6.0231556e+07,\n",
              "        -3.2439038e-19],\n",
              "       [-6.2719260e+06,  1.6779766e+16,  1.3784019e+19,  8.8002525e-33,\n",
              "        -5.6282967e-37]], dtype=float32)"
            ]
          },
          "metadata": {},
          "execution_count": 72
        }
      ]
    },
    {
      "cell_type": "code",
      "metadata": {
        "id": "h2h3yEzWDHmz",
        "colab": {
          "base_uri": "https://localhost:8080/"
        },
        "outputId": "4cc64bbc-2508-445e-e2eb-c3e9b15ed3bf"
      },
      "source": [
        "model.wv.vectors.shape"
      ],
      "execution_count": 73,
      "outputs": [
        {
          "output_type": "stream",
          "name": "stderr",
          "text": [
            "/usr/local/lib/python3.7/dist-packages/ipykernel_launcher.py:1: DeprecationWarning: Call to deprecated `wv` (Attribute will be removed in 4.0.0, use self instead).\n",
            "  \"\"\"Entry point for launching an IPython kernel.\n"
          ]
        },
        {
          "output_type": "execute_result",
          "data": {
            "text/plain": [
              "(9280, 5)"
            ]
          },
          "metadata": {},
          "execution_count": 73
        }
      ]
    },
    {
      "cell_type": "code",
      "metadata": {
        "id": "SB7V0gtLDHjl"
      },
      "source": [
        ""
      ],
      "execution_count": null,
      "outputs": []
    },
    {
      "cell_type": "code",
      "metadata": {
        "id": "A3L3OexiDHgL"
      },
      "source": [
        ""
      ],
      "execution_count": null,
      "outputs": []
    },
    {
      "cell_type": "code",
      "metadata": {
        "id": "njFSsOOkDHdN"
      },
      "source": [
        ""
      ],
      "execution_count": null,
      "outputs": []
    },
    {
      "cell_type": "code",
      "metadata": {
        "id": "nCxlaDqwDHYu"
      },
      "source": [
        ""
      ],
      "execution_count": null,
      "outputs": []
    },
    {
      "cell_type": "code",
      "metadata": {
        "id": "gk1V4HBPDHVw"
      },
      "source": [
        ""
      ],
      "execution_count": null,
      "outputs": []
    }
  ]
}