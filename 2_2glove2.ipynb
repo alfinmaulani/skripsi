{
  "nbformat": 4,
  "nbformat_minor": 0,
  "metadata": {
    "colab": {
      "name": "glove2.ipynb",
      "provenance": [],
      "authorship_tag": "ABX9TyMryZgPkO++vHuHcI1BFabK",
      "include_colab_link": true
    },
    "kernelspec": {
      "name": "python3",
      "display_name": "Python 3"
    },
    "language_info": {
      "name": "python"
    }
  },
  "cells": [
    {
      "cell_type": "markdown",
      "metadata": {
        "id": "view-in-github",
        "colab_type": "text"
      },
      "source": [
        "<a href=\"https://colab.research.google.com/github/alfinmaulani/skripsi/blob/master/2_2glove2.ipynb\" target=\"_parent\"><img src=\"https://colab.research.google.com/assets/colab-badge.svg\" alt=\"Open In Colab\"/></a>"
      ]
    },
    {
      "cell_type": "code",
      "metadata": {
        "colab": {
          "base_uri": "https://localhost:8080/"
        },
        "id": "ci3dfx-9C_ji",
        "outputId": "1ab9f0cc-6925-4528-d2a5-aaedc9e69531"
      },
      "source": [
        "import numpy as np\n",
        "import pandas as pd\n",
        "import io\n",
        "import os\n",
        "import matplotlib.pyplot as plt\n",
        "from nltk.tokenize import word_tokenize\n",
        "import nltk\n",
        "nltk.download('punkt')\n",
        "\n",
        "\n",
        "url1 = 'https://raw.githubusercontent.com/alfinmaulani/skripsi/master/dataisear(preputama).csv'\n",
        "url2 = 'tba'\n",
        "df = pd.read_csv(url1)\n",
        "# df.iloc[:,1]"
      ],
      "execution_count": 1,
      "outputs": [
        {
          "output_type": "stream",
          "name": "stdout",
          "text": [
            "[nltk_data] Downloading package punkt to /root/nltk_data...\n",
            "[nltk_data]   Unzipping tokenizers/punkt.zip.\n"
          ]
        }
      ]
    },
    {
      "cell_type": "code",
      "metadata": {
        "colab": {
          "base_uri": "https://localhost:8080/"
        },
        "id": "2VBTiPKHDIIp",
        "outputId": "690be86a-2ae9-4320-a09c-9d8568ee37d2"
      },
      "source": [
        "!pip install glove-python-binary"
      ],
      "execution_count": 2,
      "outputs": [
        {
          "output_type": "stream",
          "name": "stdout",
          "text": [
            "Collecting glove-python-binary\n",
            "  Downloading glove_python_binary-0.2.0-cp37-cp37m-manylinux1_x86_64.whl (948 kB)\n",
            "\u001b[?25l\r\u001b[K     |▍                               | 10 kB 26.1 MB/s eta 0:00:01\r\u001b[K     |▊                               | 20 kB 29.4 MB/s eta 0:00:01\r\u001b[K     |█                               | 30 kB 32.3 MB/s eta 0:00:01\r\u001b[K     |█▍                              | 40 kB 35.6 MB/s eta 0:00:01\r\u001b[K     |█▊                              | 51 kB 37.8 MB/s eta 0:00:01\r\u001b[K     |██                              | 61 kB 36.0 MB/s eta 0:00:01\r\u001b[K     |██▍                             | 71 kB 27.6 MB/s eta 0:00:01\r\u001b[K     |██▊                             | 81 kB 28.0 MB/s eta 0:00:01\r\u001b[K     |███                             | 92 kB 28.5 MB/s eta 0:00:01\r\u001b[K     |███▌                            | 102 kB 30.4 MB/s eta 0:00:01\r\u001b[K     |███▉                            | 112 kB 30.4 MB/s eta 0:00:01\r\u001b[K     |████▏                           | 122 kB 30.4 MB/s eta 0:00:01\r\u001b[K     |████▌                           | 133 kB 30.4 MB/s eta 0:00:01\r\u001b[K     |████▉                           | 143 kB 30.4 MB/s eta 0:00:01\r\u001b[K     |█████▏                          | 153 kB 30.4 MB/s eta 0:00:01\r\u001b[K     |█████▌                          | 163 kB 30.4 MB/s eta 0:00:01\r\u001b[K     |█████▉                          | 174 kB 30.4 MB/s eta 0:00:01\r\u001b[K     |██████▏                         | 184 kB 30.4 MB/s eta 0:00:01\r\u001b[K     |██████▋                         | 194 kB 30.4 MB/s eta 0:00:01\r\u001b[K     |███████                         | 204 kB 30.4 MB/s eta 0:00:01\r\u001b[K     |███████▎                        | 215 kB 30.4 MB/s eta 0:00:01\r\u001b[K     |███████▋                        | 225 kB 30.4 MB/s eta 0:00:01\r\u001b[K     |████████                        | 235 kB 30.4 MB/s eta 0:00:01\r\u001b[K     |████████▎                       | 245 kB 30.4 MB/s eta 0:00:01\r\u001b[K     |████████▋                       | 256 kB 30.4 MB/s eta 0:00:01\r\u001b[K     |█████████                       | 266 kB 30.4 MB/s eta 0:00:01\r\u001b[K     |█████████▎                      | 276 kB 30.4 MB/s eta 0:00:01\r\u001b[K     |█████████▊                      | 286 kB 30.4 MB/s eta 0:00:01\r\u001b[K     |██████████                      | 296 kB 30.4 MB/s eta 0:00:01\r\u001b[K     |██████████▍                     | 307 kB 30.4 MB/s eta 0:00:01\r\u001b[K     |██████████▊                     | 317 kB 30.4 MB/s eta 0:00:01\r\u001b[K     |███████████                     | 327 kB 30.4 MB/s eta 0:00:01\r\u001b[K     |███████████▍                    | 337 kB 30.4 MB/s eta 0:00:01\r\u001b[K     |███████████▊                    | 348 kB 30.4 MB/s eta 0:00:01\r\u001b[K     |████████████                    | 358 kB 30.4 MB/s eta 0:00:01\r\u001b[K     |████████████▍                   | 368 kB 30.4 MB/s eta 0:00:01\r\u001b[K     |████████████▊                   | 378 kB 30.4 MB/s eta 0:00:01\r\u001b[K     |█████████████▏                  | 389 kB 30.4 MB/s eta 0:00:01\r\u001b[K     |█████████████▌                  | 399 kB 30.4 MB/s eta 0:00:01\r\u001b[K     |█████████████▉                  | 409 kB 30.4 MB/s eta 0:00:01\r\u001b[K     |██████████████▏                 | 419 kB 30.4 MB/s eta 0:00:01\r\u001b[K     |██████████████▌                 | 430 kB 30.4 MB/s eta 0:00:01\r\u001b[K     |██████████████▉                 | 440 kB 30.4 MB/s eta 0:00:01\r\u001b[K     |███████████████▏                | 450 kB 30.4 MB/s eta 0:00:01\r\u001b[K     |███████████████▌                | 460 kB 30.4 MB/s eta 0:00:01\r\u001b[K     |███████████████▉                | 471 kB 30.4 MB/s eta 0:00:01\r\u001b[K     |████████████████▎               | 481 kB 30.4 MB/s eta 0:00:01\r\u001b[K     |████████████████▋               | 491 kB 30.4 MB/s eta 0:00:01\r\u001b[K     |█████████████████               | 501 kB 30.4 MB/s eta 0:00:01\r\u001b[K     |█████████████████▎              | 512 kB 30.4 MB/s eta 0:00:01\r\u001b[K     |█████████████████▋              | 522 kB 30.4 MB/s eta 0:00:01\r\u001b[K     |██████████████████              | 532 kB 30.4 MB/s eta 0:00:01\r\u001b[K     |██████████████████▎             | 542 kB 30.4 MB/s eta 0:00:01\r\u001b[K     |██████████████████▋             | 552 kB 30.4 MB/s eta 0:00:01\r\u001b[K     |███████████████████             | 563 kB 30.4 MB/s eta 0:00:01\r\u001b[K     |███████████████████▍            | 573 kB 30.4 MB/s eta 0:00:01\r\u001b[K     |███████████████████▊            | 583 kB 30.4 MB/s eta 0:00:01\r\u001b[K     |████████████████████            | 593 kB 30.4 MB/s eta 0:00:01\r\u001b[K     |████████████████████▍           | 604 kB 30.4 MB/s eta 0:00:01\r\u001b[K     |████████████████████▊           | 614 kB 30.4 MB/s eta 0:00:01\r\u001b[K     |█████████████████████           | 624 kB 30.4 MB/s eta 0:00:01\r\u001b[K     |█████████████████████▍          | 634 kB 30.4 MB/s eta 0:00:01\r\u001b[K     |█████████████████████▊          | 645 kB 30.4 MB/s eta 0:00:01\r\u001b[K     |██████████████████████          | 655 kB 30.4 MB/s eta 0:00:01\r\u001b[K     |██████████████████████▌         | 665 kB 30.4 MB/s eta 0:00:01\r\u001b[K     |██████████████████████▉         | 675 kB 30.4 MB/s eta 0:00:01\r\u001b[K     |███████████████████████▏        | 686 kB 30.4 MB/s eta 0:00:01\r\u001b[K     |███████████████████████▌        | 696 kB 30.4 MB/s eta 0:00:01\r\u001b[K     |███████████████████████▉        | 706 kB 30.4 MB/s eta 0:00:01\r\u001b[K     |████████████████████████▏       | 716 kB 30.4 MB/s eta 0:00:01\r\u001b[K     |████████████████████████▌       | 727 kB 30.4 MB/s eta 0:00:01\r\u001b[K     |████████████████████████▉       | 737 kB 30.4 MB/s eta 0:00:01\r\u001b[K     |█████████████████████████▏      | 747 kB 30.4 MB/s eta 0:00:01\r\u001b[K     |█████████████████████████▌      | 757 kB 30.4 MB/s eta 0:00:01\r\u001b[K     |██████████████████████████      | 768 kB 30.4 MB/s eta 0:00:01\r\u001b[K     |██████████████████████████▎     | 778 kB 30.4 MB/s eta 0:00:01\r\u001b[K     |██████████████████████████▋     | 788 kB 30.4 MB/s eta 0:00:01\r\u001b[K     |███████████████████████████     | 798 kB 30.4 MB/s eta 0:00:01\r\u001b[K     |███████████████████████████▎    | 808 kB 30.4 MB/s eta 0:00:01\r\u001b[K     |███████████████████████████▋    | 819 kB 30.4 MB/s eta 0:00:01\r\u001b[K     |████████████████████████████    | 829 kB 30.4 MB/s eta 0:00:01\r\u001b[K     |████████████████████████████▎   | 839 kB 30.4 MB/s eta 0:00:01\r\u001b[K     |████████████████████████████▋   | 849 kB 30.4 MB/s eta 0:00:01\r\u001b[K     |█████████████████████████████   | 860 kB 30.4 MB/s eta 0:00:01\r\u001b[K     |█████████████████████████████▍  | 870 kB 30.4 MB/s eta 0:00:01\r\u001b[K     |█████████████████████████████▊  | 880 kB 30.4 MB/s eta 0:00:01\r\u001b[K     |██████████████████████████████  | 890 kB 30.4 MB/s eta 0:00:01\r\u001b[K     |██████████████████████████████▍ | 901 kB 30.4 MB/s eta 0:00:01\r\u001b[K     |██████████████████████████████▊ | 911 kB 30.4 MB/s eta 0:00:01\r\u001b[K     |███████████████████████████████ | 921 kB 30.4 MB/s eta 0:00:01\r\u001b[K     |███████████████████████████████▍| 931 kB 30.4 MB/s eta 0:00:01\r\u001b[K     |███████████████████████████████▊| 942 kB 30.4 MB/s eta 0:00:01\r\u001b[K     |████████████████████████████████| 948 kB 30.4 MB/s \n",
            "\u001b[?25hRequirement already satisfied: scipy in /usr/local/lib/python3.7/dist-packages (from glove-python-binary) (1.4.1)\n",
            "Requirement already satisfied: numpy in /usr/local/lib/python3.7/dist-packages (from glove-python-binary) (1.19.5)\n",
            "Installing collected packages: glove-python-binary\n",
            "Successfully installed glove-python-binary-0.2.0\n"
          ]
        }
      ]
    },
    {
      "cell_type": "code",
      "metadata": {
        "id": "N_DqGeMmDIEM"
      },
      "source": [
        "from glove import Glove\n",
        "from glove import Corpus"
      ],
      "execution_count": 3,
      "outputs": []
    },
    {
      "cell_type": "code",
      "metadata": {
        "colab": {
          "base_uri": "https://localhost:8080/"
        },
        "id": "ecmoGKcODIAZ",
        "outputId": "89cb7180-3d6a-4760-9f0a-ad00fa93e70c"
      },
      "source": [
        "df.emosi.value_counts()"
      ],
      "execution_count": 4,
      "outputs": [
        {
          "output_type": "execute_result",
          "data": {
            "text/plain": [
              "joy        1092\n",
              "sadness    1082\n",
              "anger      1079\n",
              "fear       1076\n",
              "shame      1071\n",
              "disgust    1066\n",
              "guilt      1050\n",
              "Name: emosi, dtype: int64"
            ]
          },
          "metadata": {},
          "execution_count": 4
        }
      ]
    },
    {
      "cell_type": "code",
      "metadata": {
        "id": "CF0V6MfPDH8b"
      },
      "source": [
        "sentences = [word_tokenize(x) for x in df.dokumen] "
      ],
      "execution_count": 5,
      "outputs": []
    },
    {
      "cell_type": "code",
      "metadata": {
        "colab": {
          "base_uri": "https://localhost:8080/"
        },
        "id": "O_Fh1109Hig0",
        "outputId": "c40d56bb-d931-4e0c-bc54-caa364a7030d"
      },
      "source": [
        "df.dokumen"
      ],
      "execution_count": 6,
      "outputs": [
        {
          "output_type": "execute_result",
          "data": {
            "text/plain": [
              "0       on days when i feel close to my partner and ot...\n",
              "1       every time i imagine that someone i love or i ...\n",
              "2       when i had been obviously unjustly treated and...\n",
              "3       when i think about the short time that we live...\n",
              "4       at a gathering i found myself involuntarily si...\n",
              "                              ...                        \n",
              "7511    two years back someone invited me to be the tu...\n",
              "7512    i had taken the responsibility to do something...\n",
              "7513    i was at home and i heard a loud sound of spit...\n",
              "7514    i did not do the homework that the teacher had...\n",
              "7515    i had shouted at my younger brother and he was...\n",
              "Name: dokumen, Length: 7516, dtype: object"
            ]
          },
          "metadata": {},
          "execution_count": 6
        }
      ]
    },
    {
      "cell_type": "code",
      "metadata": {
        "id": "dGpucIPqGqBQ"
      },
      "source": [
        "korpus = Corpus()\n",
        "korpus.fit(sentences, window=10, ignore_missing=False)\n",
        "# korpus.save('glove.model')"
      ],
      "execution_count": 7,
      "outputs": []
    },
    {
      "cell_type": "code",
      "metadata": {
        "colab": {
          "base_uri": "https://localhost:8080/"
        },
        "id": "t_wKCMJiONdm",
        "outputId": "b8838d4e-726d-4409-e98e-497e0ec40e08"
      },
      "source": [
        "korpus.dictionary"
      ],
      "execution_count": 8,
      "outputs": [
        {
          "output_type": "execute_result",
          "data": {
            "text/plain": [
              "{'on': 0,\n",
              " 'days': 1,\n",
              " 'when': 2,\n",
              " 'i': 3,\n",
              " 'feel': 4,\n",
              " 'close': 5,\n",
              " 'to': 6,\n",
              " 'my': 7,\n",
              " 'partner': 8,\n",
              " 'and': 9,\n",
              " 'other': 10,\n",
              " 'friends': 11,\n",
              " 'at': 12,\n",
              " 'peace': 13,\n",
              " 'with': 14,\n",
              " 'myself': 15,\n",
              " 'also': 16,\n",
              " 'experience': 17,\n",
              " 'a': 18,\n",
              " 'contact': 19,\n",
              " 'people': 20,\n",
              " 'whom': 21,\n",
              " 'regard': 22,\n",
              " 'greatly': 23,\n",
              " 'every': 24,\n",
              " 'time': 25,\n",
              " 'imagine': 26,\n",
              " 'that': 27,\n",
              " 'someone': 28,\n",
              " 'love': 29,\n",
              " 'or': 30,\n",
              " 'could': 31,\n",
              " 'serious': 32,\n",
              " 'illness': 33,\n",
              " 'even': 34,\n",
              " 'death': 35,\n",
              " 'had': 36,\n",
              " 'been': 37,\n",
              " 'obviously': 38,\n",
              " 'unjustly': 39,\n",
              " 'treated': 40,\n",
              " 'no': 41,\n",
              " 'possibility': 42,\n",
              " 'of': 43,\n",
              " 'elucidating': 44,\n",
              " 'this': 45,\n",
              " 'think': 46,\n",
              " 'about': 47,\n",
              " 'the': 48,\n",
              " 'short': 49,\n",
              " 'we': 50,\n",
              " 'live': 51,\n",
              " 'relate': 52,\n",
              " 'it': 53,\n",
              " 'periods': 54,\n",
              " 'life': 55,\n",
              " 'did': 56,\n",
              " 'not': 57,\n",
              " 'use': 58,\n",
              " 'gathering': 59,\n",
              " 'found': 60,\n",
              " 'involuntarily': 61,\n",
              " 'sitting': 62,\n",
              " 'next': 63,\n",
              " 'two': 64,\n",
              " 'who': 65,\n",
              " 'expressed': 66,\n",
              " 'opinions': 67,\n",
              " 'considered': 68,\n",
              " 'very': 69,\n",
              " 'low': 70,\n",
              " 'discriminating': 71,\n",
              " 'realized': 72,\n",
              " 'was': 73,\n",
              " 'directing': 74,\n",
              " 'feelings': 75,\n",
              " 'discontent': 76,\n",
              " 'way': 77,\n",
              " 'trying': 78,\n",
              " 'put': 79,\n",
              " 'blame': 80,\n",
              " 'him': 81,\n",
              " 'instead': 82,\n",
              " 'sorting': 83,\n",
              " 'out': 84,\n",
              " 'own': 85,\n",
              " 'feeliings': 86,\n",
              " 'guilty': 87,\n",
              " 'realize': 88,\n",
              " 'consider': 89,\n",
              " 'material': 90,\n",
              " 'things': 91,\n",
              " 'more': 92,\n",
              " 'important': 93,\n",
              " 'than': 94,\n",
              " 'caring': 95,\n",
              " 'for': 96,\n",
              " 'relatives': 97,\n",
              " 'selfcentered': 98,\n",
              " 'after': 99,\n",
              " 'girlfriend': 100,\n",
              " 'taken': 101,\n",
              " 'her': 102,\n",
              " 'exam': 103,\n",
              " 'went': 104,\n",
              " 'parents': 105,\n",
              " 'place': 106,\n",
              " 'first': 107,\n",
              " 'meaning': 108,\n",
              " 'car': 109,\n",
              " 'is': 110,\n",
              " 'overtaking': 111,\n",
              " 'another': 112,\n",
              " 'am': 113,\n",
              " 'forced': 114,\n",
              " 'drive': 115,\n",
              " 'off': 116,\n",
              " 'road': 117,\n",
              " 'recently': 118,\n",
              " 'thought': 119,\n",
              " 'hard': 120,\n",
              " 'work': 121,\n",
              " 'takes': 122,\n",
              " 'study': 123,\n",
              " 'how': 124,\n",
              " 'one': 125,\n",
              " 'wants': 126,\n",
              " 'try': 127,\n",
              " 'something': 128,\n",
              " 'else': 129,\n",
              " 'read': 130,\n",
              " 'theoretical': 131,\n",
              " 'book': 132,\n",
              " 'in': 133,\n",
              " 'english': 134,\n",
              " 'understand': 135,\n",
              " 'bristle': 136,\n",
              " 'liver': 137,\n",
              " 'paste': 138,\n",
              " 'tube': 139,\n",
              " 'tired': 140,\n",
              " 'unmotivated': 141,\n",
              " 'shouted': 142,\n",
              " 'brought': 143,\n",
              " 'up': 144,\n",
              " 'negative': 145,\n",
              " 'sides': 146,\n",
              " 'character': 147,\n",
              " 'which': 148,\n",
              " 'are': 149,\n",
              " 'actually': 150,\n",
              " 'so': 151,\n",
              " 'do': 152,\n",
              " 'enough': 153,\n",
              " 'weekend': 154,\n",
              " 'should': 155,\n",
              " 'have': 156,\n",
              " 'able': 157,\n",
              " 'accomplished': 158,\n",
              " 'during': 159,\n",
              " 'pass': 160,\n",
              " 'an': 161,\n",
              " 'examination': 162,\n",
              " 'well': 163,\n",
              " 'has': 164,\n",
              " 'arranged': 165,\n",
              " 'meet': 166,\n",
              " 'person': 167,\n",
              " 'arrives': 168,\n",
              " 'late': 169,\n",
              " 'meantime': 170,\n",
              " 'starts': 171,\n",
              " 'thinking': 172,\n",
              " 'all': 173,\n",
              " 'gone': 174,\n",
              " 'wrong': 175,\n",
              " 'eg': 176,\n",
              " 'traffic': 177,\n",
              " 'accident': 178,\n",
              " 'accused': 179,\n",
              " 'done': 180,\n",
              " 'ones': 181,\n",
              " 'studies': 182,\n",
              " 'seem': 183,\n",
              " 'hopelessly': 184,\n",
              " 'difficult': 185,\n",
              " 'uninteresting': 186,\n",
              " 'finds': 187,\n",
              " 'you': 188,\n",
              " 'know': 189,\n",
              " 'like': 190,\n",
              " 'instance': 191,\n",
              " 'steal': 192,\n",
              " 'quite': 193,\n",
              " 'unwarranted': 194,\n",
              " 'unjust': 195,\n",
              " 'stupid': 196,\n",
              " 'towards': 197,\n",
              " 'neglected': 198,\n",
              " 'good': 199,\n",
              " 'friend': 200,\n",
              " 'passing': 201,\n",
              " 'expect': 202,\n",
              " 'climbed': 203,\n",
              " 'tree': 204,\n",
              " 'pick': 205,\n",
              " 'apples': 206,\n",
              " 'angle': 207,\n",
              " 'ladder': 208,\n",
              " 'enable': 209,\n",
              " 'me': 210,\n",
              " 'get': 211,\n",
              " 'high': 212,\n",
              " 'implied': 213,\n",
              " 'stable': 214,\n",
              " 'excuses': 215,\n",
              " 'necessary': 216,\n",
              " 'doing': 217,\n",
              " 'children': 218,\n",
              " '2': 219,\n",
              " 'year': 220,\n",
              " 'old': 221,\n",
              " 'son': 222,\n",
              " 'sat': 223,\n",
              " '7th': 224,\n",
              " 'floor': 225,\n",
              " 'balcony': 226,\n",
              " 'his': 227,\n",
              " 'legs': 228,\n",
              " 'hanging': 229,\n",
              " 'he': 230,\n",
              " 'holding': 231,\n",
              " 'tightly': 232,\n",
              " 'upper': 233,\n",
              " 'railing': 234,\n",
              " 'but': 235,\n",
              " 'easily': 236,\n",
              " 'lost': 237,\n",
              " 'balance': 238,\n",
              " 'down': 239,\n",
              " 'attacked': 240,\n",
              " 'three': 241,\n",
              " 'teeth': 242,\n",
              " 'see': 243,\n",
              " 'tv': 244,\n",
              " 'from': 245,\n",
              " 'areas': 246,\n",
              " 'devastated': 247,\n",
              " 'by': 248,\n",
              " 'drought': 249,\n",
              " 'war': 250,\n",
              " 'nearly': 251,\n",
              " 'walked': 252,\n",
              " 'blindworm': 253,\n",
              " 'then': 254,\n",
              " 'saw': 255,\n",
              " 'crawl': 256,\n",
              " 'away': 257,\n",
              " '18': 258,\n",
              " 'grab': 259,\n",
              " 'oxygen': 260,\n",
              " 'mask': 261,\n",
              " 'as': 262,\n",
              " 'breathing': 263,\n",
              " 'difficulties': 264,\n",
              " 'bad': 265,\n",
              " 'conscience': 266,\n",
              " 'because': 267,\n",
              " 'stopped': 268,\n",
              " 'smoking': 269,\n",
              " 'medication': 270,\n",
              " 'dilation': 271,\n",
              " 'tubes': 272,\n",
              " 'caused': 273,\n",
              " 'sense': 274,\n",
              " 'guilt': 275,\n",
              " 'middle': 276,\n",
              " 'can': 277,\n",
              " 'express': 278,\n",
              " 'himself': 279,\n",
              " 'neither': 280,\n",
              " 'verbally': 281,\n",
              " 'nor': 282,\n",
              " 'writing': 283,\n",
              " 'child': 284,\n",
              " 'born': 285,\n",
              " 'spring': 286,\n",
              " 'ice': 287,\n",
              " 'melting': 288,\n",
              " 'far': 289,\n",
              " 'jetty': 290,\n",
              " 'poked': 291,\n",
              " 'long': 292,\n",
              " 'branch': 293,\n",
              " 'break': 294,\n",
              " 'through': 295,\n",
              " 'fell': 296,\n",
              " 'water': 297,\n",
              " 'closed': 298,\n",
              " 'over': 299,\n",
              " 'head': 300,\n",
              " 'accusations': 301,\n",
              " 'directed': 302,\n",
              " 'acting': 303,\n",
              " 'failing': 304,\n",
              " 'drunkard': 305,\n",
              " 'started': 306,\n",
              " 'bleeding': 307,\n",
              " 'wet': 308,\n",
              " 'disgust': 309,\n",
              " 'turned': 310,\n",
              " 'into': 311,\n",
              " 'sadnessunpleasantness': 312,\n",
              " 'adult': 313,\n",
              " 'caught': 314,\n",
              " 'lying': 315,\n",
              " 'behaving': 316,\n",
              " 'badly': 317,\n",
              " 'environment': 318,\n",
              " 'much': 319,\n",
              " 'worse': 320,\n",
              " 'privileged': 321,\n",
              " 'seen': 322,\n",
              " 'knocked': 323,\n",
              " 'heard': 324,\n",
              " 'radio': 325,\n",
              " 'football': 326,\n",
              " 'match': 327,\n",
              " 'belgium': 328,\n",
              " 'ended': 329,\n",
              " 'catastrophe': 330,\n",
              " 'several': 331,\n",
              " 'died': 332,\n",
              " 'normal': 333,\n",
              " 'behave': 334,\n",
              " 'such': 335,\n",
              " 'lonely': 336,\n",
              " 'perhaps': 337,\n",
              " 'lot': 338,\n",
              " 'shut': 339,\n",
              " 'appartment': 340,\n",
              " 'nothing': 341,\n",
              " 'happens': 342,\n",
              " 'particular': 343,\n",
              " 'there': 344,\n",
              " 'anything': 345,\n",
              " 'learns': 346,\n",
              " 'mass': 347,\n",
              " 'media': 348,\n",
              " 'wars': 349,\n",
              " 'killing': 350,\n",
              " 'going': 351,\n",
              " 'world': 352,\n",
              " 'lied': 353,\n",
              " 'be': 354,\n",
              " 'precise': 355,\n",
              " 'cancelled': 356,\n",
              " 'meeting': 357,\n",
              " 'lets': 358,\n",
              " 'accepted': 359,\n",
              " 'course': 360,\n",
              " 'finance': 361,\n",
              " 'accounting': 362,\n",
              " 'bus': 363,\n",
              " 'drove': 364,\n",
              " 'right': 365,\n",
              " 'leg': 366,\n",
              " 'event': 367,\n",
              " 'itself': 368,\n",
              " 'frightening': 369,\n",
              " 'wait': 370,\n",
              " 'emergency': 371,\n",
              " 'ward': 372,\n",
              " 'hours': 373,\n",
              " 'began': 374,\n",
              " 'swell': 375,\n",
              " 'frightened': 376,\n",
              " 'summer': 377,\n",
              " 'job': 378,\n",
              " 'nobody': 379,\n",
              " 'looked': 380,\n",
              " 'learn': 381,\n",
              " 'student': 382,\n",
              " 'just': 383,\n",
              " 'moved': 384,\n",
              " 'new': 385,\n",
              " 'ventilator': 386,\n",
              " 'kitchen': 387,\n",
              " 'clean': 388,\n",
              " 'drum': 389,\n",
              " 'full': 390,\n",
              " 'mud': 391,\n",
              " 'slime': 392,\n",
              " 'felt': 393,\n",
              " 'disgusted': 394,\n",
              " 'elder': 395,\n",
              " 'brother': 396,\n",
              " 'always': 397,\n",
              " 'relationship': 398,\n",
              " 'ashamed': 399,\n",
              " 'call': 400,\n",
              " 'talk': 401,\n",
              " 'nowadays': 402,\n",
              " 'caretaker': 403,\n",
              " 'employed': 404,\n",
              " 'age': 405,\n",
              " 'preferred': 406,\n",
              " 'lunch': 407,\n",
              " 'accounts': 408,\n",
              " 'personnel': 409,\n",
              " 'rather': 410,\n",
              " 'passed': 411,\n",
              " 'points': 412,\n",
              " 'cottage': 413,\n",
              " 'large': 414,\n",
              " 'forest': 415,\n",
              " 'alone': 416,\n",
              " 'while': 417,\n",
              " 'dark': 418,\n",
              " 'railway': 419,\n",
              " 'station': 420,\n",
              " 'goodbye': 421,\n",
              " 'cripple': 422,\n",
              " 'rags': 423,\n",
              " 'small': 424,\n",
              " 'italy': 425,\n",
              " 'probably': 426,\n",
              " 'imposter': 427,\n",
              " 'told': 428,\n",
              " 'party': 429,\n",
              " 'would': 430,\n",
              " 'enjoy': 431,\n",
              " 'if': 432,\n",
              " 'came': 433,\n",
              " 'along': 434,\n",
              " 'understood': 435,\n",
              " 'fitted': 436,\n",
              " 'reason': 437,\n",
              " 'behind': 438,\n",
              " 'breakup': 439,\n",
              " 'she': 440,\n",
              " 'finished': 441,\n",
              " 'absolutely': 442,\n",
              " 'certain': 443,\n",
              " 'failed': 444,\n",
              " 'back': 445,\n",
              " 'denmark': 446,\n",
              " 'yatch': 447,\n",
              " 'storm': 448,\n",
              " 'blown': 449,\n",
              " 'overboard': 450,\n",
              " 'scared': 451,\n",
              " 'till': 452,\n",
              " 'managed': 453,\n",
              " 'onboard': 454,\n",
              " 'locked': 455,\n",
              " 'missed': 456,\n",
              " 'last': 457,\n",
              " 'tram': 458,\n",
              " 'home': 459,\n",
              " 'walk': 460,\n",
              " 'pouring': 461,\n",
              " 'rain': 462,\n",
              " 'some': 463,\n",
              " 'worms': 464,\n",
              " 'food': 465,\n",
              " 'eaten': 466,\n",
              " 'intoxicated': 467,\n",
              " 'police': 468,\n",
              " 'took': 469,\n",
              " 'they': 470,\n",
              " 'later': 471,\n",
              " 'contacted': 472,\n",
              " 'hapened': 473,\n",
              " 'overhear': 474,\n",
              " 'meant': 475,\n",
              " 'hear': 476,\n",
              " 'won': 477,\n",
              " 'trip': 478,\n",
              " 'greece': 479,\n",
              " 'competition': 480,\n",
              " 'suspicious': 481,\n",
              " 'looking': 482,\n",
              " 'comes': 483,\n",
              " 'elderly': 484,\n",
              " 'man': 485,\n",
              " 'complained': 486,\n",
              " 'unjustifiably': 487,\n",
              " 'distrusted': 488,\n",
              " 'lecture': 489,\n",
              " 'alcoholic': 490,\n",
              " 'stood': 491,\n",
              " 'dribbling': 492,\n",
              " 'counter': 493,\n",
              " 'were': 494,\n",
              " 'discussing': 495,\n",
              " 'looks': 496,\n",
              " 'guy': 497,\n",
              " 'listening': 498,\n",
              " 'colleague': 499,\n",
              " 'manager': 500,\n",
              " 'believing': 501,\n",
              " 'liked': 502,\n",
              " 'birthday': 503,\n",
              " 'closest': 504,\n",
              " 'pleasant': 505,\n",
              " 'say': 506,\n",
              " 'happy': 507,\n",
              " 'friday': 508,\n",
              " 'night': 509,\n",
              " 'heavy': 510,\n",
              " 'acquaplanned': 511,\n",
              " 'surface': 512,\n",
              " 'few': 513,\n",
              " 'seconds': 514,\n",
              " 'mad': 515,\n",
              " 'dad': 516,\n",
              " 'case': 517,\n",
              " 'unrequited': 518,\n",
              " 'smelling': 519,\n",
              " 'cucumber': 520,\n",
              " 'masturbating': 521,\n",
              " 'help': 522,\n",
              " 'pools': 523,\n",
              " 'flew': 524,\n",
              " 'athens': 525,\n",
              " 'copenhagen': 526,\n",
              " 'holiday': 527,\n",
              " 'plane': 528,\n",
              " 'shake': 529,\n",
              " 'thouhght': 530,\n",
              " 'crash': 531,\n",
              " 'stole': 532,\n",
              " 'bike': 533,\n",
              " 'list': 534,\n",
              " 'books': 535,\n",
              " 'acccouting': 536,\n",
              " 'oh': 537,\n",
              " 'god': 538,\n",
              " 'will': 539,\n",
              " 'ever': 540,\n",
              " 'manaage': 541,\n",
              " 'newspaper': 542,\n",
              " 'article': 543,\n",
              " 'future': 544,\n",
              " 'foresaw': 545,\n",
              " 'eating': 546,\n",
              " 'frogburgers': 547,\n",
              " '2000': 548,\n",
              " 'illustration': 549,\n",
              " 'showed': 550,\n",
              " 'frog': 551,\n",
              " 'between': 552,\n",
              " 'pieces': 553,\n",
              " 'bread': 554,\n",
              " 'dropped': 555,\n",
              " 'bottle': 556,\n",
              " 'state': 557,\n",
              " 'liquor': 558,\n",
              " 'store': 559,\n",
              " 'everyboby': 560,\n",
              " 'laughing': 561,\n",
              " 'young': 562,\n",
              " '14': 563,\n",
              " 'pinched': 564,\n",
              " 'whole': 565,\n",
              " 'family': 566,\n",
              " 'gets': 567,\n",
              " 'together': 568,\n",
              " 'week': 569,\n",
              " 'everybody': 570,\n",
              " 'feels': 571,\n",
              " 'free': 572,\n",
              " 'planned': 573,\n",
              " 'works': 574,\n",
              " 'ourselves': 575,\n",
              " 'find': 576,\n",
              " 'daughter': 577,\n",
              " 'ran': 578,\n",
              " 'everywhere': 579,\n",
              " 'finally': 580,\n",
              " 'bed': 581,\n",
              " 'sleep': 582,\n",
              " 'hurt': 583,\n",
              " 'marriage': 584,\n",
              " 'crises': 585,\n",
              " 'boredom': 586,\n",
              " 'makes': 587,\n",
              " 'advances': 588,\n",
              " 'does': 589,\n",
              " 'want': 590,\n",
              " 'discovery': 591,\n",
              " 'only': 592,\n",
              " 'oneself': 593,\n",
              " 'spanked': 594,\n",
              " 'anger': 595,\n",
              " 'regretted': 596,\n",
              " 'terribly': 597,\n",
              " 'repeat': 598,\n",
              " 'stockholm': 599,\n",
              " 'stora': 600,\n",
              " 'hissingen': 601,\n",
              " 'exit': 602,\n",
              " 'boyfriend': 603,\n",
              " 'month': 604,\n",
              " 'without': 605,\n",
              " 'worked': 606,\n",
              " 'holidays': 607,\n",
              " 'studied': 608,\n",
              " 'same': 609,\n",
              " 'dog': 610,\n",
              " 'left': 611,\n",
              " 'whining': 612,\n",
              " 'outside': 613,\n",
              " 'shop': 614,\n",
              " 'promised': 615,\n",
              " 'keep': 616,\n",
              " 'promise': 617,\n",
              " 'examinations': 618,\n",
              " 'take': 619,\n",
              " 'day': 620,\n",
              " 'economics': 621,\n",
              " 'taking': 622,\n",
              " 'cut': 623,\n",
              " 'vasa': 624,\n",
              " 'park': 625,\n",
              " 'surrounded': 626,\n",
              " 'tried': 627,\n",
              " 'money': 628,\n",
              " 'saved': 629,\n",
              " 'appearance': 630,\n",
              " 'restaurant': 631,\n",
              " 'observed': 632,\n",
              " 'gypsies': 633,\n",
              " 'cheating': 634,\n",
              " 'foreigners': 635,\n",
              " 'ie': 636,\n",
              " 'non': 637,\n",
              " 'swedish': 638,\n",
              " 'speaking': 639,\n",
              " 'hatred': 640,\n",
              " 'against': 641,\n",
              " 'expression': 642,\n",
              " 'being': 643,\n",
              " 'used': 644,\n",
              " 'begining': 645,\n",
              " 'afraid': 646,\n",
              " 'encountering': 647,\n",
              " 'problems': 648,\n",
              " 'manage': 649,\n",
              " 'thoughts': 650,\n",
              " 'revolve': 651,\n",
              " 'around': 652,\n",
              " 'subject': 653,\n",
              " 'consequences': 654,\n",
              " 'walking': 655,\n",
              " 'town': 656,\n",
              " 'noticed': 657,\n",
              " 'harrassed': 658,\n",
              " 'under': 659,\n",
              " 'influence': 660,\n",
              " 'alcohol': 661,\n",
              " 'terrified': 662,\n",
              " 'arrest': 663,\n",
              " 'driving': 664,\n",
              " 'pedestrian': 665,\n",
              " 'street': 666,\n",
              " 'gestures': 667,\n",
              " 'facial': 668,\n",
              " 'expressions': 669,\n",
              " 'policemen': 670,\n",
              " 'seemed': 671,\n",
              " 'enjoying': 672,\n",
              " 'themselves': 673,\n",
              " 'revealed': 674,\n",
              " 'knew': 675,\n",
              " 'discovered': 676,\n",
              " 'nature': 677,\n",
              " 'mentioned': 678,\n",
              " 'earlier': 679,\n",
              " 'dishonest': 680,\n",
              " 'gives': 681,\n",
              " 'different': 682,\n",
              " 'version': 683,\n",
              " 'truth': 684,\n",
              " 'corrected': 685,\n",
              " 'these': 686,\n",
              " 'mistakes': 687,\n",
              " 'aware': 688,\n",
              " 'exams': 689,\n",
              " 'margin': 690,\n",
              " 'marks': 691,\n",
              " 'father': 692,\n",
              " 'ill': 693,\n",
              " 'waiting': 694,\n",
              " 'results': 695,\n",
              " 'tests': 696,\n",
              " 'got': 697,\n",
              " 'thursday': 698,\n",
              " 'raincoat': 699,\n",
              " 'prepared': 700,\n",
              " 'contribution': 701,\n",
              " 'group': 702,\n",
              " 'thoroughly': 703,\n",
              " 'members': 704,\n",
              " 'result': 705,\n",
              " 'overall': 706,\n",
              " 'poor': 707,\n",
              " 'house': 708,\n",
              " 'recovered': 709,\n",
              " 'lazy': 710,\n",
              " 'gave': 711,\n",
              " 'birth': 712,\n",
              " 'alive': 713,\n",
              " 'too': 714,\n",
              " 'early': 715,\n",
              " 'malfunctioning': 716,\n",
              " 'lung': 717,\n",
              " 'happened': 718,\n",
              " 'ago': 719,\n",
              " 'cancer': 720,\n",
              " 'asked': 721,\n",
              " 'despite': 722,\n",
              " 'fact': 723,\n",
              " 'salary': 724,\n",
              " 'increase': 725,\n",
              " 'expecting': 726,\n",
              " 'little': 727,\n",
              " 'appreciated': 728,\n",
              " 'weeding': 729,\n",
              " 'garden': 730,\n",
              " 'lizard': 731,\n",
              " 'hand': 732,\n",
              " 'met': 733,\n",
              " 'troubles': 734,\n",
              " 'touch': 735,\n",
              " 'angry': 736,\n",
              " 'mother': 737,\n",
              " 'trivial': 738,\n",
              " 'mood': 739,\n",
              " 'really': 740,\n",
              " 'needed': 741,\n",
              " 'support': 742,\n",
              " 'reacted': 743,\n",
              " 'wrongly': 744,\n",
              " 'years': 745,\n",
              " 'eve': 746,\n",
              " '19831984': 747,\n",
              " 'steps': 748,\n",
              " 'kissed': 749,\n",
              " 'plain': 750,\n",
              " 'clothes': 751,\n",
              " 'overturned': 752,\n",
              " 'avenue': 753,\n",
              " 'fast': 754,\n",
              " 'questionned': 755,\n",
              " 'toild': 756,\n",
              " 'go': 757,\n",
              " 'situation': 758,\n",
              " 'happily': 759,\n",
              " 'since': 760,\n",
              " 'editor': 761,\n",
              " 'changed': 762,\n",
              " 'heading': 763,\n",
              " 'written': 764,\n",
              " 'derogatory': 765,\n",
              " 'acquaintance': 766,\n",
              " 'although': 767,\n",
              " 'expected': 768,\n",
              " 'still': 769,\n",
              " 'depressed': 770,\n",
              " 'picture': 771,\n",
              " 'gothenburg': 772,\n",
              " 'post': 773,\n",
              " 'totally': 774,\n",
              " 'demolished': 775,\n",
              " 'fatally': 776,\n",
              " 'injured': 777,\n",
              " 'passengers': 778,\n",
              " 'damaged': 779,\n",
              " 'couldnt': 780,\n",
              " 'bodies': 781,\n",
              " 'scene': 782,\n",
              " 'sexual': 783,\n",
              " 'intercourse': 784,\n",
              " 'desire': 785,\n",
              " 'curiosity': 786,\n",
              " 'made': 787,\n",
              " 'jump': 788,\n",
              " 'now': 789,\n",
              " 'due': 790,\n",
              " 'laziness': 791,\n",
              " 'term': 792,\n",
              " 'completely': 793,\n",
              " 'university': 794,\n",
              " 'wanted': 795,\n",
              " 'extent': 796,\n",
              " 'protest': 797,\n",
              " 'expectations': 798,\n",
              " 'loan': 799,\n",
              " 'dubious': 800,\n",
              " 'intentions': 801,\n",
              " 'alley': 802,\n",
              " 'wednesday': 803,\n",
              " 'news': 804,\n",
              " 'feature': 805,\n",
              " 'south': 806,\n",
              " 'africa': 807,\n",
              " 'policeman': 808,\n",
              " 'black': 809,\n",
              " 'whip': 810,\n",
              " 'having': 811,\n",
              " 'boring': 812,\n",
              " '400': 813,\n",
              " 'pages': 814,\n",
              " 'grovelling': 815,\n",
              " 'inability': 816,\n",
              " 'assert': 817,\n",
              " 'positively': 818,\n",
              " 'observing': 819,\n",
              " 'cafeteria': 820,\n",
              " 'noisily': 821,\n",
              " 'gulping': 822,\n",
              " 'extremely': 823,\n",
              " 'manners': 824,\n",
              " 'guess': 825,\n",
              " 'often': 826,\n",
              " 'talked': 827,\n",
              " 'unpleasant': 828,\n",
              " 'sister': 829,\n",
              " 'history': 830,\n",
              " 'abortion': 831,\n",
              " 'stillbirth': 832,\n",
              " 'perfectly': 833,\n",
              " 'healty': 834,\n",
              " 'boy': 835,\n",
              " 'emotionally': 836,\n",
              " 'deep': 837,\n",
              " 'recover': 838,\n",
              " 'starting': 839,\n",
              " 'project': 840,\n",
              " 'teacher': 841,\n",
              " 'helpful': 842,\n",
              " 'openly': 843,\n",
              " 'let': 844,\n",
              " 'preferring': 845,\n",
              " 'girl': 846,\n",
              " 'cant': 847,\n",
              " 'any': 848,\n",
              " 'before': 849,\n",
              " 'aunt': 850,\n",
              " 'offered': 851,\n",
              " 'front': 852,\n",
              " 'seat': 853,\n",
              " 'driver': 854,\n",
              " 'declined': 855,\n",
              " 'killed': 856,\n",
              " 'crashed': 857,\n",
              " 'unexpected': 858,\n",
              " 'visit': 859,\n",
              " 'hadnt': 860,\n",
              " 'half': 861,\n",
              " 'wandered': 862,\n",
              " 'mistake': 863,\n",
              " 'safety': 864,\n",
              " 'zone': 865,\n",
              " 'shooting': 866,\n",
              " 'range': 867,\n",
              " 'shot': 868,\n",
              " 'unfairly': 869,\n",
              " 'breaking': 870,\n",
              " 'none': 871,\n",
              " 'college': 872,\n",
              " 'possible': 873,\n",
              " 'arrive': 874,\n",
              " 'school': 875,\n",
              " 'grandmother': 876,\n",
              " 'applicable': 877,\n",
              " 'couple': 878,\n",
              " 'fishing': 879,\n",
              " 'lake': 880,\n",
              " 'husband': 881,\n",
              " 'suddenly': 882,\n",
              " 'raining': 883,\n",
              " 'sun': 884,\n",
              " 'shining': 885,\n",
              " 'experienced': 886,\n",
              " 'feeling': 887,\n",
              " 'joy': 888,\n",
              " 'happiness': 889,\n",
              " 'fulfillment': 890,\n",
              " 'music': 891,\n",
              " 'reading': 892,\n",
              " 'womens': 893,\n",
              " 'magazine': 894,\n",
              " 'storiees': 895,\n",
              " 'paranormal': 896,\n",
              " 'experiences': 897,\n",
              " 'itching': 898,\n",
              " 'stretched': 899,\n",
              " 'scratch': 900,\n",
              " 'strange': 901,\n",
              " 'corner': 902,\n",
              " 'blanket': 903,\n",
              " 'once': 904,\n",
              " 'again': 905,\n",
              " 'second': 906,\n",
              " 'attitude': 907,\n",
              " 'lecturer': 908,\n",
              " 'former': 909,\n",
              " 'superior': 910,\n",
              " 'mine': 911,\n",
              " 'our': 912,\n",
              " 'interaction': 913,\n",
              " 'longer': 914,\n",
              " 'limited': 915,\n",
              " 'scope': 916,\n",
              " 'human': 917,\n",
              " 'sad': 918,\n",
              " 'fat': 919,\n",
              " 'sickly': 920,\n",
              " 'woman': 921,\n",
              " 'asking': 922,\n",
              " 'directions': 923,\n",
              " 'thick': 924,\n",
              " 'voice': 925,\n",
              " 'disgusting': 926,\n",
              " 'smell': 927,\n",
              " 'urine': 928,\n",
              " 'choke': 929,\n",
              " 'remark': 930,\n",
              " 'friendly': 931,\n",
              " 'manner': 932,\n",
              " 'deed': 933,\n",
              " 'therefore': 934,\n",
              " 'shame': 935,\n",
              " 'concerning': 936,\n",
              " 'men': 937,\n",
              " 'compared': 938,\n",
              " 'evening': 939,\n",
              " 'sadness': 940,\n",
              " 'sweden': 941,\n",
              " 'practice': 942,\n",
              " 'association': 943,\n",
              " 'pals': 944,\n",
              " 'wake': 945,\n",
              " 'morning': 946,\n",
              " 'bringing': 947,\n",
              " 'played': 948,\n",
              " 'highest': 949,\n",
              " 'volume': 950,\n",
              " 'room': 951,\n",
              " 'service': 952,\n",
              " 'its': 953,\n",
              " 'loudest': 954,\n",
              " 'swindled': 955,\n",
              " 'customers': 956,\n",
              " 'detest': 957,\n",
              " 'arrived': 958,\n",
              " 'bank': 959,\n",
              " 'feeble': 960,\n",
              " 'polish': 961,\n",
              " 'visitors': 962,\n",
              " 'boat': 963,\n",
              " 'them': 964,\n",
              " 'chairman': 965,\n",
              " 'unexpectedly': 966,\n",
              " 'become': 967,\n",
              " 'vicechairman': 968,\n",
              " 'organisation': 969,\n",
              " 'surprised': 970,\n",
              " 'emotion': 971,\n",
              " 'though': 972,\n",
              " 'worry': 973,\n",
              " 'shall': 974,\n",
              " 'succeed': 975,\n",
              " 'tutorial': 976,\n",
              " 'soon': 977,\n",
              " 'divided': 978,\n",
              " 'names': 979,\n",
              " 'freshmen': 980,\n",
              " 'five': 981,\n",
              " 'each': 982,\n",
              " 'seminar': 983,\n",
              " 'wondered': 984,\n",
              " 'cope': 985,\n",
              " 'leader': 986,\n",
              " 'disco': 987,\n",
              " 'knowing': 988,\n",
              " 'why': 989,\n",
              " 'companion': 990,\n",
              " 'humour': 991,\n",
              " 'hide': 992,\n",
              " 'called': 993,\n",
              " 'sunday': 994,\n",
              " 'autumn': 995,\n",
              " 'hated': 996,\n",
              " 'moment': 997,\n",
              " 'sounded': 998,\n",
              " 'remained': 999,\n",
              " ...}"
            ]
          },
          "metadata": {},
          "execution_count": 8
        }
      ]
    },
    {
      "cell_type": "code",
      "metadata": {
        "id": "XcYcBwrbM2sZ"
      },
      "source": [
        "# corpus_model = Corpus.load('glove.model')"
      ],
      "execution_count": null,
      "outputs": []
    },
    {
      "cell_type": "code",
      "metadata": {
        "id": "40Wtz7kvBVIK",
        "colab": {
          "base_uri": "https://localhost:8080/"
        },
        "outputId": "3ea1a296-95f6-4902-9da9-12290aa878a7"
      },
      "source": [
        "korpus\n",
        "# corpus_model"
      ],
      "execution_count": 9,
      "outputs": [
        {
          "output_type": "execute_result",
          "data": {
            "text/plain": [
              "<glove.corpus.Corpus at 0x7ff953ddd750>"
            ]
          },
          "metadata": {},
          "execution_count": 9
        }
      ]
    },
    {
      "cell_type": "code",
      "metadata": {
        "id": "PGes8dUJBOTg",
        "colab": {
          "base_uri": "https://localhost:8080/"
        },
        "outputId": "f63f3453-5c27-42f5-d1a4-c25f33d5359d"
      },
      "source": [
        "len(korpus.dictionary)"
      ],
      "execution_count": 10,
      "outputs": [
        {
          "output_type": "execute_result",
          "data": {
            "text/plain": [
              "9352"
            ]
          },
          "metadata": {},
          "execution_count": 10
        }
      ]
    },
    {
      "cell_type": "code",
      "metadata": {
        "id": "SbnPLoilBjT4",
        "colab": {
          "base_uri": "https://localhost:8080/"
        },
        "outputId": "13460d81-7478-47eb-f751-4bff02800df1"
      },
      "source": [
        "korpus.matrix"
      ],
      "execution_count": 11,
      "outputs": [
        {
          "output_type": "execute_result",
          "data": {
            "text/plain": [
              "<9352x9352 sparse matrix of type '<class 'numpy.float64'>'\n",
              "\twith 400898 stored elements in COOrdinate format>"
            ]
          },
          "metadata": {},
          "execution_count": 11
        }
      ]
    },
    {
      "cell_type": "code",
      "metadata": {
        "id": "8H8uttV5LKfh"
      },
      "source": [
        "glove = Glove(no_components=100, learning_rate=0.05, alpha=0.75, max_count=100, max_loss=10.0, random_state=None)\n",
        "glove.fit(korpus.matrix)\n",
        "glove.add_dictionary(korpus.dictionary)\n",
        "glove.save('glove.model')\n"
      ],
      "execution_count": 12,
      "outputs": []
    },
    {
      "cell_type": "code",
      "metadata": {
        "id": "eymMIxQDON2m",
        "colab": {
          "base_uri": "https://localhost:8080/"
        },
        "outputId": "a725c8e7-4b6f-451d-bf19-46896a757225"
      },
      "source": [
        "glove"
      ],
      "execution_count": 13,
      "outputs": [
        {
          "output_type": "execute_result",
          "data": {
            "text/plain": [
              "<glove.glove.Glove at 0x7ff952c89610>"
            ]
          },
          "metadata": {},
          "execution_count": 13
        }
      ]
    },
    {
      "cell_type": "code",
      "metadata": {
        "id": "mPtDUgi6-tfz",
        "colab": {
          "base_uri": "https://localhost:8080/"
        },
        "outputId": "ba716d7d-7aad-4cd2-c11f-a28c36bb1263"
      },
      "source": [
        "glove.most_similar('i', number=10)"
      ],
      "execution_count": 14,
      "outputs": [
        {
          "output_type": "execute_result",
          "data": {
            "text/plain": [
              "[('am', 0.9978951258932937),\n",
              " ('knew', 0.9975246572658713),\n",
              " ('couldnt', 0.9973085964050031),\n",
              " ('felt', 0.9967032203597578),\n",
              " ('whom', 0.9961916175461469),\n",
              " ('once', 0.9961453821121397),\n",
              " ('guilty', 0.9961383203447636),\n",
              " ('failed', 0.9960309686700327),\n",
              " ('found', 0.995962949342289)]"
            ]
          },
          "metadata": {},
          "execution_count": 14
        }
      ]
    },
    {
      "cell_type": "code",
      "metadata": {
        "id": "kU8IheNtXQJm",
        "colab": {
          "base_uri": "https://localhost:8080/"
        },
        "outputId": "98800fcd-f852-413e-ecfb-0c3efb10e759"
      },
      "source": [
        "glove.word_vectors[glove.dictionary['me']]"
      ],
      "execution_count": 15,
      "outputs": [
        {
          "output_type": "execute_result",
          "data": {
            "text/plain": [
              "array([-0.2634262 , -0.23958119, -0.08990405, -0.25639378,  0.24299291,\n",
              "        0.24715168,  0.18415587, -0.15029599,  0.23541811,  0.27221706,\n",
              "       -0.26665286,  0.20850714, -0.19432634, -0.09326368,  0.11387769,\n",
              "       -0.23964981, -0.18578008, -0.15421777, -0.25829848, -0.28922803,\n",
              "       -0.11436411, -0.20145626, -0.09945749, -0.29870199, -0.1670376 ,\n",
              "       -0.10439499,  0.12769376, -0.10034001, -0.35504285,  0.14369338,\n",
              "       -0.01895844, -0.17345976,  0.11717973,  0.15210385,  0.21278497,\n",
              "        0.17528355,  0.18800252, -0.21110281, -0.14529023,  0.19352875,\n",
              "       -0.06340648, -0.15493803, -0.02781375, -0.00088039, -0.3084181 ,\n",
              "       -0.14862958, -0.03522046,  0.01569948, -0.23668028, -0.17026066,\n",
              "        0.07567862,  0.09538676,  0.12730438,  0.26356423,  0.31847713,\n",
              "        0.33986287, -0.13167366, -0.03821139, -0.12040468, -0.2341396 ,\n",
              "       -0.34039929,  0.01023273,  0.26165291,  0.10863511, -0.22988536,\n",
              "        0.0423545 ,  0.11985482, -0.25835153, -0.12755092, -0.09676337,\n",
              "        0.10932954, -0.28491872, -0.12667692,  0.16910131,  0.01985231,\n",
              "        0.00060655, -0.21965741,  0.24536196,  0.11296403, -0.03518444,\n",
              "        0.38470356, -0.12880726,  0.14116425,  0.17001135, -0.29242353,\n",
              "        0.13159032, -0.20140458, -0.09879058,  0.0027813 ,  0.13535616,\n",
              "       -0.2747001 ,  0.23099359,  0.30604124, -0.30432642, -0.29226032,\n",
              "       -0.02932406,  0.15103968,  0.21337791,  0.1195292 ,  0.17849899])"
            ]
          },
          "metadata": {},
          "execution_count": 15
        }
      ]
    },
    {
      "cell_type": "code",
      "metadata": {
        "id": "YtD3_efVYEmQ",
        "colab": {
          "base_uri": "https://localhost:8080/"
        },
        "outputId": "cc76d24c-8299-49a3-a90b-998333408df1"
      },
      "source": [
        "glove.word_vectors"
      ],
      "execution_count": 16,
      "outputs": [
        {
          "output_type": "execute_result",
          "data": {
            "text/plain": [
              "array([[-0.2056121 , -0.17679225, -0.0621422 , ...,  0.16801706,\n",
              "         0.06737465,  0.13283869],\n",
              "       [-0.0768231 , -0.06906408, -0.02099216, ...,  0.06204265,\n",
              "         0.01033204,  0.04787559],\n",
              "       [-0.28985902, -0.25889192, -0.03729695, ...,  0.22860317,\n",
              "         0.0689619 ,  0.1879484 ],\n",
              "       ...,\n",
              "       [ 0.00774853,  0.00668689,  0.0038018 , ..., -0.01151478,\n",
              "        -0.00275344, -0.00810476],\n",
              "       [ 0.01103666,  0.01021814,  0.00598209, ..., -0.01277559,\n",
              "        -0.00300024, -0.00288968],\n",
              "       [ 0.00657692,  0.00273574,  0.00572482, ..., -0.00148784,\n",
              "         0.0020353 , -0.00644256]])"
            ]
          },
          "metadata": {},
          "execution_count": 16
        }
      ]
    },
    {
      "cell_type": "code",
      "metadata": {
        "id": "CycUf02hYEKd",
        "colab": {
          "base_uri": "https://localhost:8080/"
        },
        "outputId": "250898c6-a01b-4be7-97d6-05a6b89403d9"
      },
      "source": [
        "glove.word_vectors.shape"
      ],
      "execution_count": 17,
      "outputs": [
        {
          "output_type": "execute_result",
          "data": {
            "text/plain": [
              "(9352, 100)"
            ]
          },
          "metadata": {},
          "execution_count": 17
        }
      ]
    },
    {
      "cell_type": "code",
      "metadata": {
        "id": "c3SUrgS4YN2F",
        "colab": {
          "base_uri": "https://localhost:8080/"
        },
        "outputId": "9eb5cbf9-677c-48a7-9d6c-eab3219a7954"
      },
      "source": [
        "glove.word_biases.shape"
      ],
      "execution_count": 18,
      "outputs": [
        {
          "output_type": "execute_result",
          "data": {
            "text/plain": [
              "(9352,)"
            ]
          },
          "metadata": {},
          "execution_count": 18
        }
      ]
    },
    {
      "cell_type": "code",
      "metadata": {
        "id": "HPKhx0JC9zET"
      },
      "source": [
        "# tes1='friends'\n",
        "# tes2=['my', ' friend']\n",
        "# tes3='my friend'\n",
        "\n",
        "# glove.transform_paragraph(tes1)"
      ],
      "execution_count": null,
      "outputs": []
    },
    {
      "cell_type": "code",
      "metadata": {
        "id": "IckmQHd_DHxb"
      },
      "source": [
        "from gensim.test.utils import datapath, get_tmpfile\n",
        "from gensim.models import KeyedVectors\n",
        "from gensim.scripts.glove2word2vec import glove2word2vec\n",
        "from gensim.scripts.glove2word2vec import get_glove_info\n",
        "from gensim.models import Word2Vec\n",
        "import gensim"
      ],
      "execution_count": 19,
      "outputs": []
    },
    {
      "cell_type": "code",
      "metadata": {
        "colab": {
          "base_uri": "https://localhost:8080/"
        },
        "id": "ujnXSz2q65OO",
        "outputId": "aa75b09a-1450-49d5-a9a5-92d39c5cae6c"
      },
      "source": [
        "from google.colab import drive\n",
        "drive.mount('/content/drive')"
      ],
      "execution_count": 20,
      "outputs": [
        {
          "output_type": "stream",
          "name": "stdout",
          "text": [
            "Mounted at /content/drive\n"
          ]
        }
      ]
    },
    {
      "cell_type": "code",
      "metadata": {
        "colab": {
          "base_uri": "https://localhost:8080/"
        },
        "id": "Nv2Njk5U8jAi",
        "outputId": "952905ce-bd05-4fa3-c379-5c52559da880"
      },
      "source": [
        "get_glove_info('/content/glove.model')"
      ],
      "execution_count": 21,
      "outputs": [
        {
          "output_type": "execute_result",
          "data": {
            "text/plain": [
              "(57834, 5)"
            ]
          },
          "metadata": {},
          "execution_count": 21
        }
      ]
    },
    {
      "cell_type": "code",
      "metadata": {
        "id": "13Zvqh7NDHt2"
      },
      "source": [
        "glove_file = '/content/drive/MyDrive/glove.6B.100d.txt'\n",
        "tmp_file = '/content/tes'\n",
        "\n",
        "glove2word2vec(glove_file, tmp_file)\n",
        "\n",
        "# KeyedVectors.load_word2vec_format dipakai jika c\n",
        "model = KeyedVectors.load_word2vec_format(tmp_file)\n",
        "# model = gensim.models.word2vec.Word2Vec.load(tmp_file)"
      ],
      "execution_count": 27,
      "outputs": []
    },
    {
      "cell_type": "code",
      "metadata": {
        "id": "-2RibbS_DHqH",
        "colab": {
          "base_uri": "https://localhost:8080/"
        },
        "outputId": "2458eacb-2bf1-4e8d-d445-b3288780f6c6"
      },
      "source": [
        "model.wv.vectors"
      ],
      "execution_count": 29,
      "outputs": [
        {
          "output_type": "stream",
          "name": "stderr",
          "text": [
            "/usr/local/lib/python3.7/dist-packages/ipykernel_launcher.py:1: DeprecationWarning: Call to deprecated `wv` (Attribute will be removed in 4.0.0, use self instead).\n",
            "  \"\"\"Entry point for launching an IPython kernel.\n"
          ]
        },
        {
          "output_type": "execute_result",
          "data": {
            "text/plain": [
              "array([[-0.038194, -0.24487 ,  0.72812 , ..., -0.1459  ,  0.8278  ,\n",
              "         0.27062 ],\n",
              "       [-0.10767 ,  0.11053 ,  0.59812 , ..., -0.83155 ,  0.45293 ,\n",
              "         0.082577],\n",
              "       [-0.33979 ,  0.20941 ,  0.46348 , ..., -0.23394 ,  0.47298 ,\n",
              "        -0.028803],\n",
              "       ...,\n",
              "       [ 0.36088 , -0.16919 , -0.32704 , ...,  0.27139 , -0.29188 ,\n",
              "         0.16109 ],\n",
              "       [-0.10461 , -0.5047  , -0.49331 , ...,  0.42527 , -0.5125  ,\n",
              "        -0.17054 ],\n",
              "       [ 0.28365 , -0.6263  , -0.44351 , ...,  0.43678 , -0.82607 ,\n",
              "        -0.15701 ]], dtype=float32)"
            ]
          },
          "metadata": {},
          "execution_count": 29
        }
      ]
    },
    {
      "cell_type": "code",
      "metadata": {
        "id": "h2h3yEzWDHmz",
        "colab": {
          "base_uri": "https://localhost:8080/"
        },
        "outputId": "0beb1fe5-c64d-4003-e1ed-708d616d3c9f"
      },
      "source": [
        "model.wv.vectors.shape"
      ],
      "execution_count": 30,
      "outputs": [
        {
          "output_type": "stream",
          "name": "stderr",
          "text": [
            "/usr/local/lib/python3.7/dist-packages/ipykernel_launcher.py:1: DeprecationWarning: Call to deprecated `wv` (Attribute will be removed in 4.0.0, use self instead).\n",
            "  \"\"\"Entry point for launching an IPython kernel.\n"
          ]
        },
        {
          "output_type": "execute_result",
          "data": {
            "text/plain": [
              "(400000, 100)"
            ]
          },
          "metadata": {},
          "execution_count": 30
        }
      ]
    },
    {
      "cell_type": "code",
      "metadata": {
        "id": "SB7V0gtLDHjl"
      },
      "source": [
        ""
      ],
      "execution_count": null,
      "outputs": []
    },
    {
      "cell_type": "code",
      "metadata": {
        "id": "A3L3OexiDHgL"
      },
      "source": [
        ""
      ],
      "execution_count": null,
      "outputs": []
    },
    {
      "cell_type": "code",
      "metadata": {
        "id": "njFSsOOkDHdN"
      },
      "source": [
        ""
      ],
      "execution_count": null,
      "outputs": []
    },
    {
      "cell_type": "code",
      "metadata": {
        "id": "nCxlaDqwDHYu"
      },
      "source": [
        ""
      ],
      "execution_count": null,
      "outputs": []
    },
    {
      "cell_type": "code",
      "metadata": {
        "id": "gk1V4HBPDHVw"
      },
      "source": [
        ""
      ],
      "execution_count": null,
      "outputs": []
    }
  ]
}