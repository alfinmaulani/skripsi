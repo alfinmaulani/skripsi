{
  "nbformat": 4,
  "nbformat_minor": 0,
  "metadata": {
    "colab": {
      "name": "2_2glove2.ipynb",
      "provenance": [],
      "authorship_tag": "ABX9TyM31RacxeIrL9bziPTO9tfI",
      "include_colab_link": true
    },
    "kernelspec": {
      "name": "python3",
      "display_name": "Python 3"
    },
    "language_info": {
      "name": "python"
    }
  },
  "cells": [
    {
      "cell_type": "markdown",
      "metadata": {
        "id": "view-in-github",
        "colab_type": "text"
      },
      "source": [
        "<a href=\"https://colab.research.google.com/github/alfinmaulani/skripsi/blob/master/2_2glove2.ipynb\" target=\"_parent\"><img src=\"https://colab.research.google.com/assets/colab-badge.svg\" alt=\"Open In Colab\"/></a>"
      ]
    },
    {
      "cell_type": "code",
      "metadata": {
        "colab": {
          "base_uri": "https://localhost:8080/"
        },
        "id": "ci3dfx-9C_ji",
        "outputId": "7c7e3749-9176-4fa7-b2d9-69ff576d61de"
      },
      "source": [
        "import numpy as np\n",
        "import pandas as pd\n",
        "import io\n",
        "import os\n",
        "import matplotlib.pyplot as plt\n",
        "from nltk.tokenize import word_tokenize\n",
        "import nltk\n",
        "nltk.download('punkt')\n",
        "\n",
        "\n",
        "url1 = 'https://raw.githubusercontent.com/alfinmaulani/skripsi/master/dataisear(preputama).csv'\n",
        "url2 = 'tba'\n",
        "df = pd.read_csv(url1)\n",
        "# df.iloc[:,1]"
      ],
      "execution_count": 44,
      "outputs": [
        {
          "output_type": "stream",
          "name": "stdout",
          "text": [
            "[nltk_data] Downloading package punkt to /root/nltk_data...\n",
            "[nltk_data]   Package punkt is already up-to-date!\n"
          ]
        }
      ]
    },
    {
      "cell_type": "code",
      "metadata": {
        "colab": {
          "base_uri": "https://localhost:8080/"
        },
        "id": "2VBTiPKHDIIp",
        "outputId": "8765ad57-a238-4a26-9f98-774fc724a782"
      },
      "source": [
        "!pip install glove-python-binary"
      ],
      "execution_count": 45,
      "outputs": [
        {
          "output_type": "stream",
          "name": "stdout",
          "text": [
            "Requirement already satisfied: glove-python-binary in /usr/local/lib/python3.7/dist-packages (0.2.0)\n",
            "Requirement already satisfied: scipy in /usr/local/lib/python3.7/dist-packages (from glove-python-binary) (1.4.1)\n",
            "Requirement already satisfied: numpy in /usr/local/lib/python3.7/dist-packages (from glove-python-binary) (1.19.5)\n"
          ]
        }
      ]
    },
    {
      "cell_type": "code",
      "metadata": {
        "id": "N_DqGeMmDIEM"
      },
      "source": [
        "from glove import Glove\n",
        "from glove import Corpus"
      ],
      "execution_count": 46,
      "outputs": []
    },
    {
      "cell_type": "code",
      "metadata": {
        "colab": {
          "base_uri": "https://localhost:8080/"
        },
        "id": "ecmoGKcODIAZ",
        "outputId": "f1b5c4d6-4ed8-4785-df29-3f519f2047cc"
      },
      "source": [
        "df.emosi.value_counts()"
      ],
      "execution_count": 47,
      "outputs": [
        {
          "output_type": "execute_result",
          "data": {
            "text/plain": [
              "joy        1092\n",
              "sadness    1082\n",
              "anger      1079\n",
              "fear       1076\n",
              "shame      1071\n",
              "disgust    1066\n",
              "guilt      1050\n",
              "Name: emosi, dtype: int64"
            ]
          },
          "metadata": {},
          "execution_count": 47
        }
      ]
    },
    {
      "cell_type": "code",
      "metadata": {
        "id": "CF0V6MfPDH8b"
      },
      "source": [
        "sentences = [word_tokenize(x) for x in df.dokumen] "
      ],
      "execution_count": 48,
      "outputs": []
    },
    {
      "cell_type": "code",
      "metadata": {
        "colab": {
          "base_uri": "https://localhost:8080/"
        },
        "id": "O_Fh1109Hig0",
        "outputId": "108044a0-98b5-470e-b06a-30a1267690ee"
      },
      "source": [
        "df.dokumen"
      ],
      "execution_count": 49,
      "outputs": [
        {
          "output_type": "execute_result",
          "data": {
            "text/plain": [
              "0       on days when i feel close to my partner and ot...\n",
              "1       every time i imagine that someone i love or i ...\n",
              "2       when i had been obviously unjustly treated and...\n",
              "3       when i think about the short time that we live...\n",
              "4       at a gathering i found myself involuntarily si...\n",
              "                              ...                        \n",
              "7511    two years back someone invited me to be the tu...\n",
              "7512    i had taken the responsibility to do something...\n",
              "7513    i was at home and i heard a loud sound of spit...\n",
              "7514    i did not do the homework that the teacher had...\n",
              "7515    i had shouted at my younger brother and he was...\n",
              "Name: dokumen, Length: 7516, dtype: object"
            ]
          },
          "metadata": {},
          "execution_count": 49
        }
      ]
    },
    {
      "cell_type": "code",
      "metadata": {
        "id": "dGpucIPqGqBQ"
      },
      "source": [
        "korpus = Corpus()\n",
        "korpus.fit(sentences, window=10, ignore_missing=False)\n",
        "# korpus.save('glove.model')"
      ],
      "execution_count": 50,
      "outputs": []
    },
    {
      "cell_type": "code",
      "metadata": {
        "id": "t_wKCMJiONdm"
      },
      "source": [
        "korpus.dictionary"
      ],
      "execution_count": null,
      "outputs": []
    },
    {
      "cell_type": "code",
      "metadata": {
        "id": "XcYcBwrbM2sZ"
      },
      "source": [
        "# corpus_model = Corpus.load('glove.model')"
      ],
      "execution_count": null,
      "outputs": []
    },
    {
      "cell_type": "code",
      "metadata": {
        "id": "40Wtz7kvBVIK",
        "colab": {
          "base_uri": "https://localhost:8080/"
        },
        "outputId": "972ba0f8-4b4d-4ad1-d6a4-85ab87e22961"
      },
      "source": [
        "korpus\n",
        "# corpus_model"
      ],
      "execution_count": 52,
      "outputs": [
        {
          "output_type": "execute_result",
          "data": {
            "text/plain": [
              "<glove.corpus.Corpus at 0x7f9c6b712a50>"
            ]
          },
          "metadata": {},
          "execution_count": 52
        }
      ]
    },
    {
      "cell_type": "code",
      "metadata": {
        "id": "PGes8dUJBOTg",
        "colab": {
          "base_uri": "https://localhost:8080/"
        },
        "outputId": "d87c6ebd-ba9a-4501-ceb8-ffba39355ee4"
      },
      "source": [
        "len(korpus.dictionary)"
      ],
      "execution_count": 53,
      "outputs": [
        {
          "output_type": "execute_result",
          "data": {
            "text/plain": [
              "9352"
            ]
          },
          "metadata": {},
          "execution_count": 53
        }
      ]
    },
    {
      "cell_type": "code",
      "metadata": {
        "id": "SbnPLoilBjT4",
        "colab": {
          "base_uri": "https://localhost:8080/"
        },
        "outputId": "bf07352c-ba8d-448b-ff3b-f11580ee6e68"
      },
      "source": [
        "korpus.matrix"
      ],
      "execution_count": 54,
      "outputs": [
        {
          "output_type": "execute_result",
          "data": {
            "text/plain": [
              "<9352x9352 sparse matrix of type '<class 'numpy.float64'>'\n",
              "\twith 400898 stored elements in COOrdinate format>"
            ]
          },
          "metadata": {},
          "execution_count": 54
        }
      ]
    },
    {
      "cell_type": "code",
      "metadata": {
        "id": "8H8uttV5LKfh"
      },
      "source": [
        "glove = Glove(no_components=100, learning_rate=0.05, alpha=0.75, max_count=100, max_loss=10.0, random_state=None)\n",
        "glove.fit(korpus.matrix)\n",
        "glove.add_dictionary(korpus.dictionary)"
      ],
      "execution_count": 55,
      "outputs": []
    },
    {
      "cell_type": "code",
      "metadata": {
        "id": "bLp-RexboXnA"
      },
      "source": [
        "glove.save('glove.model')"
      ],
      "execution_count": 63,
      "outputs": []
    },
    {
      "cell_type": "code",
      "metadata": {
        "id": "eymMIxQDON2m",
        "colab": {
          "base_uri": "https://localhost:8080/"
        },
        "outputId": "cc50499d-b759-45ca-a384-bf01c0828bbd"
      },
      "source": [
        "glove"
      ],
      "execution_count": 56,
      "outputs": [
        {
          "output_type": "execute_result",
          "data": {
            "text/plain": [
              "<glove.glove.Glove at 0x7f9c6c4714d0>"
            ]
          },
          "metadata": {},
          "execution_count": 56
        }
      ]
    },
    {
      "cell_type": "code",
      "metadata": {
        "id": "YtD3_efVYEmQ",
        "colab": {
          "base_uri": "https://localhost:8080/"
        },
        "outputId": "0d7085fb-e3a0-4b25-f154-6f078f8e0936"
      },
      "source": [
        "glove.word_vectors"
      ],
      "execution_count": 13,
      "outputs": [
        {
          "output_type": "execute_result",
          "data": {
            "text/plain": [
              "array([[-2.34474774e-02, -2.00683398e-01, -2.46898295e-01, ...,\n",
              "        -1.78302576e-01, -1.72343204e-01, -1.04842518e-01],\n",
              "       [-9.58242894e-03, -7.76613627e-02, -8.78979284e-02, ...,\n",
              "        -6.40624163e-02, -5.93609954e-02, -4.06558985e-02],\n",
              "       [-1.12341269e-01, -2.71889839e-01, -3.31551970e-01, ...,\n",
              "        -2.58786101e-01, -2.54880265e-01, -1.65551829e-01],\n",
              "       ...,\n",
              "       [ 9.87097166e-04,  1.13871451e-02,  1.31365841e-02, ...,\n",
              "         7.23698275e-03,  8.07332501e-03,  2.53575585e-04],\n",
              "       [ 3.26751468e-03,  5.78238824e-03,  1.31165921e-02, ...,\n",
              "         1.37505928e-02,  1.36685431e-02,  3.81072465e-03],\n",
              "       [ 3.27733057e-03,  5.47956208e-03,  6.89103051e-03, ...,\n",
              "         1.54705105e-03,  5.69275338e-05,  3.85085208e-03]])"
            ]
          },
          "metadata": {},
          "execution_count": 13
        }
      ]
    },
    {
      "cell_type": "code",
      "metadata": {
        "id": "CycUf02hYEKd",
        "colab": {
          "base_uri": "https://localhost:8080/"
        },
        "outputId": "e28269a1-49be-42cd-c281-6bad076531c3"
      },
      "source": [
        "glove.word_vectors.shape"
      ],
      "execution_count": 57,
      "outputs": [
        {
          "output_type": "execute_result",
          "data": {
            "text/plain": [
              "(9352, 100)"
            ]
          },
          "metadata": {},
          "execution_count": 57
        }
      ]
    },
    {
      "cell_type": "code",
      "metadata": {
        "id": "4pVDrOHLo2pG",
        "colab": {
          "base_uri": "https://localhost:8080/"
        },
        "outputId": "ec51961f-87af-4608-de7f-a407d735a3cf"
      },
      "source": [
        "glove.most_similar('i', number=10)"
      ],
      "execution_count": null,
      "outputs": [
        {
          "output_type": "execute_result",
          "data": {
            "text/plain": [
              "[('am', 0.997013081204825),\n",
              " ('realized', 0.995790314416636),\n",
              " ('think', 0.995535752590722),\n",
              " ('remember', 0.9953009800019226),\n",
              " ('knew', 0.9951777906668989),\n",
              " ('feel', 0.994664290865196),\n",
              " ('never', 0.9939717111259972),\n",
              " ('should', 0.9938763148105081),\n",
              " ('feared', 0.9937647653626294)]"
            ]
          },
          "metadata": {},
          "execution_count": 28
        }
      ]
    },
    {
      "cell_type": "code",
      "metadata": {
        "id": "06iKCm4do9sV",
        "colab": {
          "base_uri": "https://localhost:8080/"
        },
        "outputId": "a75d155b-60fc-4a52-b4fe-a52655056eb7"
      },
      "source": [
        "glove.word_vectors[glove.dictionary['me']]"
      ],
      "execution_count": 15,
      "outputs": [
        {
          "output_type": "execute_result",
          "data": {
            "text/plain": [
              "array([-0.03255904, -0.24741555, -0.32917131, -0.25710498,  0.17819011,\n",
              "        0.13116598, -0.2656656 , -0.05031443, -0.03726894, -0.1242091 ,\n",
              "       -0.29505749, -0.13472902, -0.23668658,  0.20678415, -0.03136584,\n",
              "       -0.02908277,  0.11536859, -0.08801572,  0.26362637,  0.26598555,\n",
              "       -0.00337509,  0.18809174, -0.25143509,  0.18910896, -0.00291719,\n",
              "       -0.12587793, -0.04850888, -0.12676655, -0.2657141 ,  0.28480549,\n",
              "       -0.08991637, -0.20771582,  0.18903267,  0.02648139, -0.27163516,\n",
              "       -0.26671358,  0.15242992, -0.03938952, -0.27974181, -0.04234029,\n",
              "       -0.3183729 ,  0.02290336, -0.09149297, -0.00190616,  0.16570145,\n",
              "       -0.2985235 , -0.06980545, -0.0935501 , -0.16742645, -0.0248719 ,\n",
              "       -0.14596632, -0.21626633,  0.06799297,  0.23632975, -0.0387019 ,\n",
              "        0.17037057, -0.22727442,  0.05179288, -0.03672119, -0.12621835,\n",
              "        0.10938573,  0.2646735 , -0.1543997 , -0.18313716,  0.2720704 ,\n",
              "        0.06412225, -0.05548513,  0.16913055,  0.13686685,  0.16222523,\n",
              "       -0.15166199,  0.12572703, -0.12868481,  0.20329815, -0.08661747,\n",
              "        0.08224305,  0.30752095,  0.31019681,  0.23754596, -0.11818176,\n",
              "       -0.25098681,  0.23019692,  0.33482253,  0.36447015,  0.10989577,\n",
              "        0.30798706,  0.27941852,  0.18889329, -0.32245825,  0.2614305 ,\n",
              "        0.21149852,  0.17789407,  0.20428339,  0.15615802,  0.19248079,\n",
              "        0.04213758,  0.12924877, -0.20583274, -0.23922632, -0.11988607])"
            ]
          },
          "metadata": {},
          "execution_count": 15
        }
      ]
    },
    {
      "cell_type": "code",
      "metadata": {
        "id": "c3SUrgS4YN2F"
      },
      "source": [
        "sentences"
      ],
      "execution_count": null,
      "outputs": []
    },
    {
      "cell_type": "code",
      "metadata": {
        "id": "HPKhx0JC9zET"
      },
      "source": [
        "# def eksfit(sentence, model):\n",
        "#   vec = [model[word] for word in word_tokenize(sentence)]\n",
        "#   sent_vec = np.mean(vec, axis=0)\n",
        "#   return sent_vec"
      ],
      "execution_count": null,
      "outputs": []
    },
    {
      "cell_type": "code",
      "metadata": {
        "id": "yhcGMBfawdwE"
      },
      "source": [
        "word='me'\n",
        "glove.word_vectors[glove.dictionary[word]]"
      ],
      "execution_count": null,
      "outputs": []
    },
    {
      "cell_type": "code",
      "metadata": {
        "colab": {
          "base_uri": "https://localhost:8080/"
        },
        "id": "vxm6LXgK091K",
        "outputId": "d72619c5-93cb-4902-d504-543c30019d25"
      },
      "source": [
        "a=[1,2,3]\n",
        "b=[2,3,4]\n",
        "print(np.add(a,b))"
      ],
      "execution_count": 31,
      "outputs": [
        {
          "output_type": "stream",
          "name": "stdout",
          "text": [
            "[3 5 7]\n"
          ]
        }
      ]
    },
    {
      "cell_type": "code",
      "metadata": {
        "id": "8ykSyX9Ot3tx"
      },
      "source": [
        "import array\n",
        "ekstrak=[]\n",
        "temp=array.array('i',(0,)*100)\n",
        "for senten in sentences:\n",
        "  for word in senten:\n",
        "    temp=np.add(temp,glove.word_vectors[glove.dictionary[word]])\n",
        "  temp=temp/len(senten)\n",
        "  ekstrak.append(temp)"
      ],
      "execution_count": 60,
      "outputs": []
    },
    {
      "cell_type": "code",
      "metadata": {
        "id": "480zZGISt3nN",
        "colab": {
          "base_uri": "https://localhost:8080/"
        },
        "outputId": "c817d12d-223a-4af2-e5d9-71584d1cf402"
      },
      "source": [
        "np.shape(ekstrak)"
      ],
      "execution_count": 61,
      "outputs": [
        {
          "output_type": "execute_result",
          "data": {
            "text/plain": [
              "(7516, 100)"
            ]
          },
          "metadata": {},
          "execution_count": 61
        }
      ]
    },
    {
      "cell_type": "code",
      "metadata": {
        "id": "DvUkcyckt3jt"
      },
      "source": [
        ""
      ],
      "execution_count": 62,
      "outputs": []
    },
    {
      "cell_type": "code",
      "metadata": {
        "id": "62ZF5gRet3gf"
      },
      "source": [
        ""
      ],
      "execution_count": null,
      "outputs": []
    },
    {
      "cell_type": "code",
      "metadata": {
        "id": "5glvogu8t3dl"
      },
      "source": [
        ""
      ],
      "execution_count": null,
      "outputs": []
    },
    {
      "cell_type": "code",
      "metadata": {
        "id": "RQcYUNJot3Z8"
      },
      "source": [
        ""
      ],
      "execution_count": null,
      "outputs": []
    },
    {
      "cell_type": "code",
      "metadata": {
        "id": "jrSbyPtxt3WL"
      },
      "source": [
        ""
      ],
      "execution_count": null,
      "outputs": []
    },
    {
      "cell_type": "code",
      "metadata": {
        "id": "OHoeRaprt3Tr"
      },
      "source": [
        ""
      ],
      "execution_count": null,
      "outputs": []
    },
    {
      "cell_type": "code",
      "metadata": {
        "id": "IckmQHd_DHxb"
      },
      "source": [
        "from gensim.test.utils import datapath, get_tmpfile\n",
        "from gensim.models import KeyedVectors\n",
        "from gensim.scripts.glove2word2vec import glove2word2vec\n",
        "from gensim.scripts.glove2word2vec import get_glove_info\n",
        "from gensim.models import Word2Vec\n",
        "import gensim"
      ],
      "execution_count": null,
      "outputs": []
    },
    {
      "cell_type": "code",
      "metadata": {
        "colab": {
          "base_uri": "https://localhost:8080/"
        },
        "id": "ujnXSz2q65OO",
        "outputId": "3b8dd946-eb6d-4038-8e70-6fff53a55a4a"
      },
      "source": [
        "from google.colab import drive\n",
        "drive.mount('/content/drive')"
      ],
      "execution_count": null,
      "outputs": [
        {
          "output_type": "stream",
          "name": "stdout",
          "text": [
            "Mounted at /content/drive\n"
          ]
        }
      ]
    },
    {
      "cell_type": "code",
      "metadata": {
        "colab": {
          "base_uri": "https://localhost:8080/"
        },
        "id": "Nv2Njk5U8jAi",
        "outputId": "550a9e49-08df-4325-dba9-13ae1603cc74"
      },
      "source": [
        "get_glove_info('/content/drive/MyDrive/glove.6B.100d.txt')"
      ],
      "execution_count": null,
      "outputs": [
        {
          "output_type": "execute_result",
          "data": {
            "text/plain": [
              "(400000, 100)"
            ]
          },
          "metadata": {},
          "execution_count": 37
        }
      ]
    },
    {
      "cell_type": "code",
      "metadata": {
        "colab": {
          "base_uri": "https://localhost:8080/"
        },
        "id": "hmqtIkxaU1-E",
        "outputId": "bc873780-1027-4745-c7a7-5f5c7d8dc165"
      },
      "source": [
        "get_glove_info('/content/glovetrain.model')"
      ],
      "execution_count": null,
      "outputs": [
        {
          "output_type": "execute_result",
          "data": {
            "text/plain": [
              "(58473, 5)"
            ]
          },
          "metadata": {},
          "execution_count": 39
        }
      ]
    },
    {
      "cell_type": "code",
      "metadata": {
        "id": "eFEXWY2DpUv7",
        "colab": {
          "base_uri": "https://localhost:8080/"
        },
        "outputId": "b1f815b8-8b98-485d-a3e3-0e2ff4d53629"
      },
      "source": [
        "glove.word_vectors.shape"
      ],
      "execution_count": null,
      "outputs": [
        {
          "output_type": "execute_result",
          "data": {
            "text/plain": [
              "(9352, 100)"
            ]
          },
          "metadata": {},
          "execution_count": 35
        }
      ]
    },
    {
      "cell_type": "code",
      "metadata": {
        "id": "13Zvqh7NDHt2"
      },
      "source": [
        "# glove_file = '/content/glove.model'\n",
        "glove_file = '/content/drive/MyDrive/glove.6B.100d.txt'\n",
        "tmp_file = '/content/tes'\n",
        "\n",
        "glove2word2vec(glove_file, tmp_file)\n",
        "\n",
        "# KeyedVectors.load_word2vec_format dipakai jika c\n",
        "model = KeyedVectors.load_word2vec_format(tmp_file)\n",
        "# model = KeyedVectors.load_word2vec_format(tmp_file,binary=True, unicode_errors='ignore',limit=41500)\n",
        "# model = gensim.models.word2vec.Word2Vec.load(tmp_file)"
      ],
      "execution_count": null,
      "outputs": []
    },
    {
      "cell_type": "code",
      "metadata": {
        "id": "-2RibbS_DHqH",
        "colab": {
          "base_uri": "https://localhost:8080/"
        },
        "outputId": "7367bbaf-cc27-4c1b-8abd-69b1ec548e5b"
      },
      "source": [
        "model.wv.vectors"
      ],
      "execution_count": null,
      "outputs": [
        {
          "output_type": "stream",
          "name": "stderr",
          "text": [
            "/usr/local/lib/python3.7/dist-packages/ipykernel_launcher.py:1: DeprecationWarning: Call to deprecated `wv` (Attribute will be removed in 4.0.0, use self instead).\n",
            "  \"\"\"Entry point for launching an IPython kernel.\n"
          ]
        },
        {
          "output_type": "execute_result",
          "data": {
            "text/plain": [
              "array([[-0.038194, -0.24487 ,  0.72812 , ..., -0.1459  ,  0.8278  ,\n",
              "         0.27062 ],\n",
              "       [-0.10767 ,  0.11053 ,  0.59812 , ..., -0.83155 ,  0.45293 ,\n",
              "         0.082577],\n",
              "       [-0.33979 ,  0.20941 ,  0.46348 , ..., -0.23394 ,  0.47298 ,\n",
              "        -0.028803],\n",
              "       ...,\n",
              "       [ 0.36088 , -0.16919 , -0.32704 , ...,  0.27139 , -0.29188 ,\n",
              "         0.16109 ],\n",
              "       [-0.10461 , -0.5047  , -0.49331 , ...,  0.42527 , -0.5125  ,\n",
              "        -0.17054 ],\n",
              "       [ 0.28365 , -0.6263  , -0.44351 , ...,  0.43678 , -0.82607 ,\n",
              "        -0.15701 ]], dtype=float32)"
            ]
          },
          "metadata": {},
          "execution_count": 91
        }
      ]
    },
    {
      "cell_type": "code",
      "metadata": {
        "id": "h2h3yEzWDHmz",
        "colab": {
          "base_uri": "https://localhost:8080/"
        },
        "outputId": "43d5f8d7-170a-4cce-9ae4-e491547e4d5d"
      },
      "source": [
        "model.wv.vectors.shape"
      ],
      "execution_count": null,
      "outputs": [
        {
          "output_type": "stream",
          "name": "stderr",
          "text": [
            "/usr/local/lib/python3.7/dist-packages/ipykernel_launcher.py:1: DeprecationWarning: Call to deprecated `wv` (Attribute will be removed in 4.0.0, use self instead).\n",
            "  \"\"\"Entry point for launching an IPython kernel.\n"
          ]
        },
        {
          "output_type": "execute_result",
          "data": {
            "text/plain": [
              "(400000, 100)"
            ]
          },
          "metadata": {},
          "execution_count": 93
        }
      ]
    },
    {
      "cell_type": "code",
      "metadata": {
        "id": "SB7V0gtLDHjl",
        "colab": {
          "base_uri": "https://localhost:8080/"
        },
        "outputId": "32be33a2-0f6b-420e-bce7-10f449d1c484"
      },
      "source": [
        "model.wv.vocab"
      ],
      "execution_count": null,
      "outputs": [
        {
          "output_type": "stream",
          "name": "stderr",
          "text": [
            "/usr/local/lib/python3.7/dist-packages/ipykernel_launcher.py:1: DeprecationWarning: Call to deprecated `wv` (Attribute will be removed in 4.0.0, use self instead).\n",
            "  \"\"\"Entry point for launching an IPython kernel.\n"
          ]
        },
        {
          "output_type": "execute_result",
          "data": {
            "text/plain": [
              "{'the': <gensim.models.keyedvectors.Vocab at 0x7ff942999550>,\n",
              " ',': <gensim.models.keyedvectors.Vocab at 0x7ff942987d50>,\n",
              " '.': <gensim.models.keyedvectors.Vocab at 0x7ff942999590>,\n",
              " 'of': <gensim.models.keyedvectors.Vocab at 0x7ff942993ad0>,\n",
              " 'to': <gensim.models.keyedvectors.Vocab at 0x7ff9429995d0>,\n",
              " 'and': <gensim.models.keyedvectors.Vocab at 0x7ff942993710>,\n",
              " 'in': <gensim.models.keyedvectors.Vocab at 0x7ff9429996d0>,\n",
              " 'a': <gensim.models.keyedvectors.Vocab at 0x7ff942993a50>,\n",
              " '\"': <gensim.models.keyedvectors.Vocab at 0x7ff942999690>,\n",
              " \"'s\": <gensim.models.keyedvectors.Vocab at 0x7ff9429930d0>,\n",
              " 'for': <gensim.models.keyedvectors.Vocab at 0x7ff942999750>,\n",
              " '-': <gensim.models.keyedvectors.Vocab at 0x7ff942993a90>,\n",
              " 'that': <gensim.models.keyedvectors.Vocab at 0x7ff942999710>,\n",
              " 'on': <gensim.models.keyedvectors.Vocab at 0x7ff942993050>,\n",
              " 'is': <gensim.models.keyedvectors.Vocab at 0x7ff9429997d0>,\n",
              " 'was': <gensim.models.keyedvectors.Vocab at 0x7ff942993d90>,\n",
              " 'said': <gensim.models.keyedvectors.Vocab at 0x7ff942999890>,\n",
              " 'with': <gensim.models.keyedvectors.Vocab at 0x7ff942993cd0>,\n",
              " 'he': <gensim.models.keyedvectors.Vocab at 0x7ff9429998d0>,\n",
              " 'as': <gensim.models.keyedvectors.Vocab at 0x7ff9429938d0>,\n",
              " 'it': <gensim.models.keyedvectors.Vocab at 0x7ff942999950>,\n",
              " 'by': <gensim.models.keyedvectors.Vocab at 0x7ff942993190>,\n",
              " 'at': <gensim.models.keyedvectors.Vocab at 0x7ff942999990>,\n",
              " '(': <gensim.models.keyedvectors.Vocab at 0x7ff942981c90>,\n",
              " ')': <gensim.models.keyedvectors.Vocab at 0x7ff9429999d0>,\n",
              " 'from': <gensim.models.keyedvectors.Vocab at 0x7ff942981c10>,\n",
              " 'his': <gensim.models.keyedvectors.Vocab at 0x7ff942999a90>,\n",
              " \"''\": <gensim.models.keyedvectors.Vocab at 0x7ff942981e10>,\n",
              " '``': <gensim.models.keyedvectors.Vocab at 0x7ff942999b50>,\n",
              " 'an': <gensim.models.keyedvectors.Vocab at 0x7ff942981850>,\n",
              " 'be': <gensim.models.keyedvectors.Vocab at 0x7ff942999b90>,\n",
              " 'has': <gensim.models.keyedvectors.Vocab at 0x7ff942981810>,\n",
              " 'are': <gensim.models.keyedvectors.Vocab at 0x7ff942999c10>,\n",
              " 'have': <gensim.models.keyedvectors.Vocab at 0x7ff942981dd0>,\n",
              " 'but': <gensim.models.keyedvectors.Vocab at 0x7ff942999c50>,\n",
              " 'were': <gensim.models.keyedvectors.Vocab at 0x7ff942981e50>,\n",
              " 'not': <gensim.models.keyedvectors.Vocab at 0x7ff942999d10>,\n",
              " 'this': <gensim.models.keyedvectors.Vocab at 0x7ff942981890>,\n",
              " 'who': <gensim.models.keyedvectors.Vocab at 0x7ff942999dd0>,\n",
              " 'they': <gensim.models.keyedvectors.Vocab at 0x7ff942981f90>,\n",
              " 'had': <gensim.models.keyedvectors.Vocab at 0x7ff942999d90>,\n",
              " 'i': <gensim.models.keyedvectors.Vocab at 0x7ff94299b650>,\n",
              " 'which': <gensim.models.keyedvectors.Vocab at 0x7ff942999e50>,\n",
              " 'will': <gensim.models.keyedvectors.Vocab at 0x7ff94299b7d0>,\n",
              " 'their': <gensim.models.keyedvectors.Vocab at 0x7ff942999ed0>,\n",
              " ':': <gensim.models.keyedvectors.Vocab at 0x7ff94299b6d0>,\n",
              " 'or': <gensim.models.keyedvectors.Vocab at 0x7ff942999f10>,\n",
              " 'its': <gensim.models.keyedvectors.Vocab at 0x7ff94299bf90>,\n",
              " 'one': <gensim.models.keyedvectors.Vocab at 0x7ff942999f50>,\n",
              " 'after': <gensim.models.keyedvectors.Vocab at 0x7ff94299b790>,\n",
              " 'new': <gensim.models.keyedvectors.Vocab at 0x7ff9429a8050>,\n",
              " 'been': <gensim.models.keyedvectors.Vocab at 0x7ff94299b590>,\n",
              " 'also': <gensim.models.keyedvectors.Vocab at 0x7ff9429a80d0>,\n",
              " 'we': <gensim.models.keyedvectors.Vocab at 0x7ff94299bf10>,\n",
              " 'would': <gensim.models.keyedvectors.Vocab at 0x7ff9429a8190>,\n",
              " 'two': <gensim.models.keyedvectors.Vocab at 0x7ff94299bfd0>,\n",
              " 'more': <gensim.models.keyedvectors.Vocab at 0x7ff9429a8150>,\n",
              " \"'\": <gensim.models.keyedvectors.Vocab at 0x7ff94299b850>,\n",
              " 'first': <gensim.models.keyedvectors.Vocab at 0x7ff9429a8210>,\n",
              " 'about': <gensim.models.keyedvectors.Vocab at 0x7ff94299be50>,\n",
              " 'up': <gensim.models.keyedvectors.Vocab at 0x7ff9429a8290>,\n",
              " 'when': <gensim.models.keyedvectors.Vocab at 0x7ff94299b950>,\n",
              " 'year': <gensim.models.keyedvectors.Vocab at 0x7ff9429a8310>,\n",
              " 'there': <gensim.models.keyedvectors.Vocab at 0x7ff94299be90>,\n",
              " 'all': <gensim.models.keyedvectors.Vocab at 0x7ff9429a8390>,\n",
              " '--': <gensim.models.keyedvectors.Vocab at 0x7ff94299bdd0>,\n",
              " 'out': <gensim.models.keyedvectors.Vocab at 0x7ff9429a8410>,\n",
              " 'she': <gensim.models.keyedvectors.Vocab at 0x7ff94299b390>,\n",
              " 'other': <gensim.models.keyedvectors.Vocab at 0x7ff9429a84d0>,\n",
              " 'people': <gensim.models.keyedvectors.Vocab at 0x7ff94299b890>,\n",
              " \"n't\": <gensim.models.keyedvectors.Vocab at 0x7ff9429a8510>,\n",
              " 'her': <gensim.models.keyedvectors.Vocab at 0x7ff94299bf50>,\n",
              " 'percent': <gensim.models.keyedvectors.Vocab at 0x7ff9429a8590>,\n",
              " 'than': <gensim.models.keyedvectors.Vocab at 0x7ff94299bd50>,\n",
              " 'over': <gensim.models.keyedvectors.Vocab at 0x7ff9429a8610>,\n",
              " 'into': <gensim.models.keyedvectors.Vocab at 0x7ff94299bcd0>,\n",
              " 'last': <gensim.models.keyedvectors.Vocab at 0x7ff9429a8690>,\n",
              " 'some': <gensim.models.keyedvectors.Vocab at 0x7ff94299b510>,\n",
              " 'government': <gensim.models.keyedvectors.Vocab at 0x7ff9429a8710>,\n",
              " 'time': <gensim.models.keyedvectors.Vocab at 0x7ff94299ba10>,\n",
              " '$': <gensim.models.keyedvectors.Vocab at 0x7ff9429a87d0>,\n",
              " 'you': <gensim.models.keyedvectors.Vocab at 0x7ff94299b210>,\n",
              " 'years': <gensim.models.keyedvectors.Vocab at 0x7ff9429a8810>,\n",
              " 'if': <gensim.models.keyedvectors.Vocab at 0x7ff94299b990>,\n",
              " 'no': <gensim.models.keyedvectors.Vocab at 0x7ff9429a8890>,\n",
              " 'world': <gensim.models.keyedvectors.Vocab at 0x7ff94299be10>,\n",
              " 'can': <gensim.models.keyedvectors.Vocab at 0x7ff9429a8910>,\n",
              " 'three': <gensim.models.keyedvectors.Vocab at 0x7ff942999090>,\n",
              " 'do': <gensim.models.keyedvectors.Vocab at 0x7ff9429a8990>,\n",
              " ';': <gensim.models.keyedvectors.Vocab at 0x7ff9429990d0>,\n",
              " 'president': <gensim.models.keyedvectors.Vocab at 0x7ff9429a89d0>,\n",
              " 'only': <gensim.models.keyedvectors.Vocab at 0x7ff942999190>,\n",
              " 'state': <gensim.models.keyedvectors.Vocab at 0x7ff9429a8a90>,\n",
              " 'million': <gensim.models.keyedvectors.Vocab at 0x7ff942999250>,\n",
              " 'could': <gensim.models.keyedvectors.Vocab at 0x7ff9429a8a50>,\n",
              " 'us': <gensim.models.keyedvectors.Vocab at 0x7ff942999210>,\n",
              " 'most': <gensim.models.keyedvectors.Vocab at 0x7ff9429a8b50>,\n",
              " '_': <gensim.models.keyedvectors.Vocab at 0x7ff942999310>,\n",
              " 'against': <gensim.models.keyedvectors.Vocab at 0x7ff9429a8b90>,\n",
              " 'u.s.': <gensim.models.keyedvectors.Vocab at 0x7ff942999390>,\n",
              " 'so': <gensim.models.keyedvectors.Vocab at 0x7ff9429a8c10>,\n",
              " 'them': <gensim.models.keyedvectors.Vocab at 0x7ff9429993d0>,\n",
              " 'what': <gensim.models.keyedvectors.Vocab at 0x7ff9429a8c90>,\n",
              " 'him': <gensim.models.keyedvectors.Vocab at 0x7ff942999490>,\n",
              " 'united': <gensim.models.keyedvectors.Vocab at 0x7ff9429a8d10>,\n",
              " 'during': <gensim.models.keyedvectors.Vocab at 0x7ff9429a8e90>,\n",
              " 'before': <gensim.models.keyedvectors.Vocab at 0x7ff9429a8dd0>,\n",
              " 'may': <gensim.models.keyedvectors.Vocab at 0x7ff9429a8f90>,\n",
              " 'since': <gensim.models.keyedvectors.Vocab at 0x7ff9429a8e10>,\n",
              " 'many': <gensim.models.keyedvectors.Vocab at 0x7ff942984090>,\n",
              " 'while': <gensim.models.keyedvectors.Vocab at 0x7ff9429a8ed0>,\n",
              " 'where': <gensim.models.keyedvectors.Vocab at 0x7ff942984210>,\n",
              " 'states': <gensim.models.keyedvectors.Vocab at 0x7ff9429a8fd0>,\n",
              " 'because': <gensim.models.keyedvectors.Vocab at 0x7ff9429842d0>,\n",
              " 'now': <gensim.models.keyedvectors.Vocab at 0x7ff9429840d0>,\n",
              " 'city': <gensim.models.keyedvectors.Vocab at 0x7ff942984350>,\n",
              " 'made': <gensim.models.keyedvectors.Vocab at 0x7ff9429841d0>,\n",
              " 'like': <gensim.models.keyedvectors.Vocab at 0x7ff9429844d0>,\n",
              " 'between': <gensim.models.keyedvectors.Vocab at 0x7ff942984390>,\n",
              " 'did': <gensim.models.keyedvectors.Vocab at 0x7ff9429845d0>,\n",
              " 'just': <gensim.models.keyedvectors.Vocab at 0x7ff942984450>,\n",
              " 'national': <gensim.models.keyedvectors.Vocab at 0x7ff942984650>,\n",
              " 'day': <gensim.models.keyedvectors.Vocab at 0x7ff942984550>,\n",
              " 'country': <gensim.models.keyedvectors.Vocab at 0x7ff9429847d0>,\n",
              " 'under': <gensim.models.keyedvectors.Vocab at 0x7ff942984690>,\n",
              " 'such': <gensim.models.keyedvectors.Vocab at 0x7ff942984890>,\n",
              " 'second': <gensim.models.keyedvectors.Vocab at 0x7ff942984750>,\n",
              " 'then': <gensim.models.keyedvectors.Vocab at 0x7ff9429849d0>,\n",
              " 'company': <gensim.models.keyedvectors.Vocab at 0x7ff942984850>,\n",
              " 'group': <gensim.models.keyedvectors.Vocab at 0x7ff942984a90>,\n",
              " 'any': <gensim.models.keyedvectors.Vocab at 0x7ff942984910>,\n",
              " 'through': <gensim.models.keyedvectors.Vocab at 0x7ff942984b90>,\n",
              " 'china': <gensim.models.keyedvectors.Vocab at 0x7ff942984a10>,\n",
              " 'four': <gensim.models.keyedvectors.Vocab at 0x7ff942984c10>,\n",
              " 'being': <gensim.models.keyedvectors.Vocab at 0x7ff942984b10>,\n",
              " 'down': <gensim.models.keyedvectors.Vocab at 0x7ff942984d90>,\n",
              " 'war': <gensim.models.keyedvectors.Vocab at 0x7ff942984c50>,\n",
              " 'back': <gensim.models.keyedvectors.Vocab at 0x7ff942984e90>,\n",
              " 'off': <gensim.models.keyedvectors.Vocab at 0x7ff942984d10>,\n",
              " 'south': <gensim.models.keyedvectors.Vocab at 0x7ff942984f90>,\n",
              " 'american': <gensim.models.keyedvectors.Vocab at 0x7ff942984e10>,\n",
              " 'minister': <gensim.models.keyedvectors.Vocab at 0x7ff94292b0d0>,\n",
              " 'police': <gensim.models.keyedvectors.Vocab at 0x7ff942984f10>,\n",
              " 'well': <gensim.models.keyedvectors.Vocab at 0x7ff94292b190>,\n",
              " 'including': <gensim.models.keyedvectors.Vocab at 0x7ff94292b050>,\n",
              " 'team': <gensim.models.keyedvectors.Vocab at 0x7ff94292b290>,\n",
              " 'international': <gensim.models.keyedvectors.Vocab at 0x7ff94292b1d0>,\n",
              " 'week': <gensim.models.keyedvectors.Vocab at 0x7ff94292b350>,\n",
              " 'officials': <gensim.models.keyedvectors.Vocab at 0x7ff94292b2d0>,\n",
              " 'still': <gensim.models.keyedvectors.Vocab at 0x7ff94292b450>,\n",
              " 'both': <gensim.models.keyedvectors.Vocab at 0x7ff94292b3d0>,\n",
              " 'even': <gensim.models.keyedvectors.Vocab at 0x7ff94292b550>,\n",
              " 'high': <gensim.models.keyedvectors.Vocab at 0x7ff94292b4d0>,\n",
              " 'part': <gensim.models.keyedvectors.Vocab at 0x7ff94292b650>,\n",
              " 'told': <gensim.models.keyedvectors.Vocab at 0x7ff94292b5d0>,\n",
              " 'those': <gensim.models.keyedvectors.Vocab at 0x7ff94292b750>,\n",
              " 'end': <gensim.models.keyedvectors.Vocab at 0x7ff94292b6d0>,\n",
              " 'former': <gensim.models.keyedvectors.Vocab at 0x7ff94292b850>,\n",
              " 'these': <gensim.models.keyedvectors.Vocab at 0x7ff94292b7d0>,\n",
              " 'make': <gensim.models.keyedvectors.Vocab at 0x7ff94292b910>,\n",
              " 'billion': <gensim.models.keyedvectors.Vocab at 0x7ff94292b950>,\n",
              " 'work': <gensim.models.keyedvectors.Vocab at 0x7ff94292ba10>,\n",
              " 'our': <gensim.models.keyedvectors.Vocab at 0x7ff94292ba50>,\n",
              " 'home': <gensim.models.keyedvectors.Vocab at 0x7ff94292bb10>,\n",
              " 'school': <gensim.models.keyedvectors.Vocab at 0x7ff94292bb50>,\n",
              " 'party': <gensim.models.keyedvectors.Vocab at 0x7ff94292bc10>,\n",
              " 'house': <gensim.models.keyedvectors.Vocab at 0x7ff94292bc50>,\n",
              " 'old': <gensim.models.keyedvectors.Vocab at 0x7ff94292bd10>,\n",
              " 'later': <gensim.models.keyedvectors.Vocab at 0x7ff94292bd50>,\n",
              " 'get': <gensim.models.keyedvectors.Vocab at 0x7ff94292be10>,\n",
              " 'another': <gensim.models.keyedvectors.Vocab at 0x7ff94292be50>,\n",
              " 'tuesday': <gensim.models.keyedvectors.Vocab at 0x7ff94292bf10>,\n",
              " 'news': <gensim.models.keyedvectors.Vocab at 0x7ff94292bf50>,\n",
              " 'long': <gensim.models.keyedvectors.Vocab at 0x7ff94292d050>,\n",
              " 'five': <gensim.models.keyedvectors.Vocab at 0x7ff94292d090>,\n",
              " 'called': <gensim.models.keyedvectors.Vocab at 0x7ff94292d150>,\n",
              " '1': <gensim.models.keyedvectors.Vocab at 0x7ff94292d190>,\n",
              " 'wednesday': <gensim.models.keyedvectors.Vocab at 0x7ff94292d210>,\n",
              " 'military': <gensim.models.keyedvectors.Vocab at 0x7ff94292d290>,\n",
              " 'way': <gensim.models.keyedvectors.Vocab at 0x7ff94292d310>,\n",
              " 'used': <gensim.models.keyedvectors.Vocab at 0x7ff94292d390>,\n",
              " 'much': <gensim.models.keyedvectors.Vocab at 0x7ff94292d410>,\n",
              " 'next': <gensim.models.keyedvectors.Vocab at 0x7ff94292d450>,\n",
              " 'monday': <gensim.models.keyedvectors.Vocab at 0x7ff94292d510>,\n",
              " 'thursday': <gensim.models.keyedvectors.Vocab at 0x7ff94292d550>,\n",
              " 'friday': <gensim.models.keyedvectors.Vocab at 0x7ff94292d610>,\n",
              " 'game': <gensim.models.keyedvectors.Vocab at 0x7ff94292d650>,\n",
              " 'here': <gensim.models.keyedvectors.Vocab at 0x7ff94292d710>,\n",
              " '?': <gensim.models.keyedvectors.Vocab at 0x7ff94292d750>,\n",
              " 'should': <gensim.models.keyedvectors.Vocab at 0x7ff94292d7d0>,\n",
              " 'take': <gensim.models.keyedvectors.Vocab at 0x7ff94292d850>,\n",
              " 'very': <gensim.models.keyedvectors.Vocab at 0x7ff94292d890>,\n",
              " 'my': <gensim.models.keyedvectors.Vocab at 0x7ff94292d950>,\n",
              " 'north': <gensim.models.keyedvectors.Vocab at 0x7ff94292d990>,\n",
              " 'security': <gensim.models.keyedvectors.Vocab at 0x7ff94292da50>,\n",
              " 'season': <gensim.models.keyedvectors.Vocab at 0x7ff94292da90>,\n",
              " 'york': <gensim.models.keyedvectors.Vocab at 0x7ff94292db50>,\n",
              " 'how': <gensim.models.keyedvectors.Vocab at 0x7ff94292db90>,\n",
              " 'public': <gensim.models.keyedvectors.Vocab at 0x7ff94292dcd0>,\n",
              " 'early': <gensim.models.keyedvectors.Vocab at 0x7ff94292dc50>,\n",
              " 'according': <gensim.models.keyedvectors.Vocab at 0x7ff94292ddd0>,\n",
              " 'several': <gensim.models.keyedvectors.Vocab at 0x7ff94292dd50>,\n",
              " 'court': <gensim.models.keyedvectors.Vocab at 0x7ff94292ded0>,\n",
              " 'say': <gensim.models.keyedvectors.Vocab at 0x7ff94292de50>,\n",
              " 'around': <gensim.models.keyedvectors.Vocab at 0x7ff94292dfd0>,\n",
              " 'foreign': <gensim.models.keyedvectors.Vocab at 0x7ff94292df50>,\n",
              " '10': <gensim.models.keyedvectors.Vocab at 0x7ff94292f110>,\n",
              " 'until': <gensim.models.keyedvectors.Vocab at 0x7ff94292f090>,\n",
              " 'set': <gensim.models.keyedvectors.Vocab at 0x7ff94292f210>,\n",
              " 'political': <gensim.models.keyedvectors.Vocab at 0x7ff94292f190>,\n",
              " 'says': <gensim.models.keyedvectors.Vocab at 0x7ff94292f310>,\n",
              " 'market': <gensim.models.keyedvectors.Vocab at 0x7ff94292f290>,\n",
              " 'however': <gensim.models.keyedvectors.Vocab at 0x7ff94292f410>,\n",
              " 'family': <gensim.models.keyedvectors.Vocab at 0x7ff94292f390>,\n",
              " 'life': <gensim.models.keyedvectors.Vocab at 0x7ff94292f510>,\n",
              " 'same': <gensim.models.keyedvectors.Vocab at 0x7ff94292f490>,\n",
              " 'general': <gensim.models.keyedvectors.Vocab at 0x7ff94292f610>,\n",
              " '–': <gensim.models.keyedvectors.Vocab at 0x7ff94292f590>,\n",
              " 'left': <gensim.models.keyedvectors.Vocab at 0x7ff94292f650>,\n",
              " 'good': <gensim.models.keyedvectors.Vocab at 0x7ff94292f690>,\n",
              " 'top': <gensim.models.keyedvectors.Vocab at 0x7ff94292f750>,\n",
              " 'university': <gensim.models.keyedvectors.Vocab at 0x7ff94292f790>,\n",
              " 'going': <gensim.models.keyedvectors.Vocab at 0x7ff94292f850>,\n",
              " 'number': <gensim.models.keyedvectors.Vocab at 0x7ff94292f890>,\n",
              " 'major': <gensim.models.keyedvectors.Vocab at 0x7ff94292f950>,\n",
              " 'known': <gensim.models.keyedvectors.Vocab at 0x7ff94292f990>,\n",
              " 'points': <gensim.models.keyedvectors.Vocab at 0x7ff94292fa50>,\n",
              " 'won': <gensim.models.keyedvectors.Vocab at 0x7ff94292fa90>,\n",
              " 'six': <gensim.models.keyedvectors.Vocab at 0x7ff94292fb50>,\n",
              " 'month': <gensim.models.keyedvectors.Vocab at 0x7ff94292fb90>,\n",
              " 'dollars': <gensim.models.keyedvectors.Vocab at 0x7ff94292fc50>,\n",
              " 'bank': <gensim.models.keyedvectors.Vocab at 0x7ff94292fc90>,\n",
              " '2': <gensim.models.keyedvectors.Vocab at 0x7ff94292fd50>,\n",
              " 'iraq': <gensim.models.keyedvectors.Vocab at 0x7ff94292fcd0>,\n",
              " 'use': <gensim.models.keyedvectors.Vocab at 0x7ff94292fe50>,\n",
              " 'members': <gensim.models.keyedvectors.Vocab at 0x7ff94292fdd0>,\n",
              " 'each': <gensim.models.keyedvectors.Vocab at 0x7ff94292ff50>,\n",
              " 'area': <gensim.models.keyedvectors.Vocab at 0x7ff94292fed0>,\n",
              " 'found': <gensim.models.keyedvectors.Vocab at 0x7ff942930090>,\n",
              " 'official': <gensim.models.keyedvectors.Vocab at 0x7ff94292ffd0>,\n",
              " 'sunday': <gensim.models.keyedvectors.Vocab at 0x7ff942930190>,\n",
              " 'place': <gensim.models.keyedvectors.Vocab at 0x7ff942930110>,\n",
              " 'go': <gensim.models.keyedvectors.Vocab at 0x7ff942930290>,\n",
              " 'based': <gensim.models.keyedvectors.Vocab at 0x7ff942930210>,\n",
              " 'among': <gensim.models.keyedvectors.Vocab at 0x7ff942930390>,\n",
              " 'third': <gensim.models.keyedvectors.Vocab at 0x7ff942930310>,\n",
              " 'times': <gensim.models.keyedvectors.Vocab at 0x7ff942930490>,\n",
              " 'took': <gensim.models.keyedvectors.Vocab at 0x7ff942930410>,\n",
              " 'right': <gensim.models.keyedvectors.Vocab at 0x7ff942930590>,\n",
              " 'days': <gensim.models.keyedvectors.Vocab at 0x7ff942930510>,\n",
              " 'local': <gensim.models.keyedvectors.Vocab at 0x7ff942930690>,\n",
              " 'economic': <gensim.models.keyedvectors.Vocab at 0x7ff942930610>,\n",
              " 'countries': <gensim.models.keyedvectors.Vocab at 0x7ff942930790>,\n",
              " 'see': <gensim.models.keyedvectors.Vocab at 0x7ff942930710>,\n",
              " 'best': <gensim.models.keyedvectors.Vocab at 0x7ff942930890>,\n",
              " 'report': <gensim.models.keyedvectors.Vocab at 0x7ff942930810>,\n",
              " 'killed': <gensim.models.keyedvectors.Vocab at 0x7ff942930990>,\n",
              " 'held': <gensim.models.keyedvectors.Vocab at 0x7ff942930910>,\n",
              " 'business': <gensim.models.keyedvectors.Vocab at 0x7ff942930a90>,\n",
              " 'west': <gensim.models.keyedvectors.Vocab at 0x7ff942930a10>,\n",
              " 'does': <gensim.models.keyedvectors.Vocab at 0x7ff942930b90>,\n",
              " 'own': <gensim.models.keyedvectors.Vocab at 0x7ff942930b10>,\n",
              " '%': <gensim.models.keyedvectors.Vocab at 0x7ff942930c90>,\n",
              " 'came': <gensim.models.keyedvectors.Vocab at 0x7ff942930bd0>,\n",
              " 'law': <gensim.models.keyedvectors.Vocab at 0x7ff942930d90>,\n",
              " 'months': <gensim.models.keyedvectors.Vocab at 0x7ff942930cd0>,\n",
              " 'women': <gensim.models.keyedvectors.Vocab at 0x7ff942930e90>,\n",
              " \"'re\": <gensim.models.keyedvectors.Vocab at 0x7ff942930dd0>,\n",
              " 'power': <gensim.models.keyedvectors.Vocab at 0x7ff942930f90>,\n",
              " 'think': <gensim.models.keyedvectors.Vocab at 0x7ff942930ed0>,\n",
              " 'service': <gensim.models.keyedvectors.Vocab at 0x7ff9429340d0>,\n",
              " 'children': <gensim.models.keyedvectors.Vocab at 0x7ff942930fd0>,\n",
              " 'bush': <gensim.models.keyedvectors.Vocab at 0x7ff9429341d0>,\n",
              " 'show': <gensim.models.keyedvectors.Vocab at 0x7ff942934110>,\n",
              " '/': <gensim.models.keyedvectors.Vocab at 0x7ff9429342d0>,\n",
              " 'help': <gensim.models.keyedvectors.Vocab at 0x7ff942934150>,\n",
              " 'chief': <gensim.models.keyedvectors.Vocab at 0x7ff9429343d0>,\n",
              " 'saturday': <gensim.models.keyedvectors.Vocab at 0x7ff942934250>,\n",
              " 'system': <gensim.models.keyedvectors.Vocab at 0x7ff942934490>,\n",
              " 'john': <gensim.models.keyedvectors.Vocab at 0x7ff942934350>,\n",
              " 'support': <gensim.models.keyedvectors.Vocab at 0x7ff942934590>,\n",
              " 'series': <gensim.models.keyedvectors.Vocab at 0x7ff9429344d0>,\n",
              " 'play': <gensim.models.keyedvectors.Vocab at 0x7ff942934690>,\n",
              " 'office': <gensim.models.keyedvectors.Vocab at 0x7ff9429345d0>,\n",
              " 'following': <gensim.models.keyedvectors.Vocab at 0x7ff942934790>,\n",
              " 'me': <gensim.models.keyedvectors.Vocab at 0x7ff9429346d0>,\n",
              " 'meeting': <gensim.models.keyedvectors.Vocab at 0x7ff942934890>,\n",
              " 'expected': <gensim.models.keyedvectors.Vocab at 0x7ff9429347d0>,\n",
              " 'late': <gensim.models.keyedvectors.Vocab at 0x7ff942934990>,\n",
              " 'washington': <gensim.models.keyedvectors.Vocab at 0x7ff9429348d0>,\n",
              " 'games': <gensim.models.keyedvectors.Vocab at 0x7ff942934a50>,\n",
              " 'european': <gensim.models.keyedvectors.Vocab at 0x7ff9429349d0>,\n",
              " 'league': <gensim.models.keyedvectors.Vocab at 0x7ff942934b50>,\n",
              " 'reported': <gensim.models.keyedvectors.Vocab at 0x7ff942934ad0>,\n",
              " 'final': <gensim.models.keyedvectors.Vocab at 0x7ff942934c50>,\n",
              " 'added': <gensim.models.keyedvectors.Vocab at 0x7ff942934bd0>,\n",
              " 'without': <gensim.models.keyedvectors.Vocab at 0x7ff942934d50>,\n",
              " 'british': <gensim.models.keyedvectors.Vocab at 0x7ff942934cd0>,\n",
              " 'white': <gensim.models.keyedvectors.Vocab at 0x7ff942934e50>,\n",
              " 'history': <gensim.models.keyedvectors.Vocab at 0x7ff942934dd0>,\n",
              " 'man': <gensim.models.keyedvectors.Vocab at 0x7ff942934f50>,\n",
              " 'men': <gensim.models.keyedvectors.Vocab at 0x7ff942934ed0>,\n",
              " 'became': <gensim.models.keyedvectors.Vocab at 0x7ff942936090>,\n",
              " 'want': <gensim.models.keyedvectors.Vocab at 0x7ff942934fd0>,\n",
              " 'march': <gensim.models.keyedvectors.Vocab at 0x7ff942936190>,\n",
              " 'case': <gensim.models.keyedvectors.Vocab at 0x7ff942936110>,\n",
              " 'few': <gensim.models.keyedvectors.Vocab at 0x7ff942936290>,\n",
              " 'run': <gensim.models.keyedvectors.Vocab at 0x7ff942936210>,\n",
              " 'money': <gensim.models.keyedvectors.Vocab at 0x7ff942936390>,\n",
              " 'began': <gensim.models.keyedvectors.Vocab at 0x7ff942936310>,\n",
              " 'open': <gensim.models.keyedvectors.Vocab at 0x7ff942936490>,\n",
              " 'name': <gensim.models.keyedvectors.Vocab at 0x7ff942936410>,\n",
              " 'trade': <gensim.models.keyedvectors.Vocab at 0x7ff942936590>,\n",
              " 'center': <gensim.models.keyedvectors.Vocab at 0x7ff942936510>,\n",
              " '3': <gensim.models.keyedvectors.Vocab at 0x7ff942936690>,\n",
              " 'israel': <gensim.models.keyedvectors.Vocab at 0x7ff9429365d0>,\n",
              " 'oil': <gensim.models.keyedvectors.Vocab at 0x7ff942936790>,\n",
              " 'too': <gensim.models.keyedvectors.Vocab at 0x7ff9429366d0>,\n",
              " 'al': <gensim.models.keyedvectors.Vocab at 0x7ff942936910>,\n",
              " 'film': <gensim.models.keyedvectors.Vocab at 0x7ff9429367d0>,\n",
              " 'win': <gensim.models.keyedvectors.Vocab at 0x7ff942936a10>,\n",
              " 'led': <gensim.models.keyedvectors.Vocab at 0x7ff942936890>,\n",
              " 'east': <gensim.models.keyedvectors.Vocab at 0x7ff942936b10>,\n",
              " 'central': <gensim.models.keyedvectors.Vocab at 0x7ff942936990>,\n",
              " '20': <gensim.models.keyedvectors.Vocab at 0x7ff942936c10>,\n",
              " 'air': <gensim.models.keyedvectors.Vocab at 0x7ff942936a90>,\n",
              " 'come': <gensim.models.keyedvectors.Vocab at 0x7ff942936d10>,\n",
              " 'chinese': <gensim.models.keyedvectors.Vocab at 0x7ff942936b90>,\n",
              " 'town': <gensim.models.keyedvectors.Vocab at 0x7ff942936e10>,\n",
              " 'leader': <gensim.models.keyedvectors.Vocab at 0x7ff942936c90>,\n",
              " 'army': <gensim.models.keyedvectors.Vocab at 0x7ff942936f10>,\n",
              " 'line': <gensim.models.keyedvectors.Vocab at 0x7ff942936d90>,\n",
              " 'never': <gensim.models.keyedvectors.Vocab at 0x7ff942936fd0>,\n",
              " 'little': <gensim.models.keyedvectors.Vocab at 0x7ff942936e90>,\n",
              " 'played': <gensim.models.keyedvectors.Vocab at 0x7ff942938110>,\n",
              " 'prime': <gensim.models.keyedvectors.Vocab at 0x7ff942936f90>,\n",
              " 'death': <gensim.models.keyedvectors.Vocab at 0x7ff942938210>,\n",
              " 'companies': <gensim.models.keyedvectors.Vocab at 0x7ff9429380d0>,\n",
              " 'least': <gensim.models.keyedvectors.Vocab at 0x7ff942938310>,\n",
              " 'put': <gensim.models.keyedvectors.Vocab at 0x7ff9429381d0>,\n",
              " 'forces': <gensim.models.keyedvectors.Vocab at 0x7ff942938410>,\n",
              " 'past': <gensim.models.keyedvectors.Vocab at 0x7ff9429382d0>,\n",
              " 'de': <gensim.models.keyedvectors.Vocab at 0x7ff942938510>,\n",
              " 'half': <gensim.models.keyedvectors.Vocab at 0x7ff9429383d0>,\n",
              " 'june': <gensim.models.keyedvectors.Vocab at 0x7ff942938610>,\n",
              " 'saying': <gensim.models.keyedvectors.Vocab at 0x7ff9429384d0>,\n",
              " 'know': <gensim.models.keyedvectors.Vocab at 0x7ff942938710>,\n",
              " 'federal': <gensim.models.keyedvectors.Vocab at 0x7ff9429385d0>,\n",
              " 'french': <gensim.models.keyedvectors.Vocab at 0x7ff942938810>,\n",
              " 'peace': <gensim.models.keyedvectors.Vocab at 0x7ff9429386d0>,\n",
              " 'earlier': <gensim.models.keyedvectors.Vocab at 0x7ff942938910>,\n",
              " 'capital': <gensim.models.keyedvectors.Vocab at 0x7ff9429387d0>,\n",
              " 'force': <gensim.models.keyedvectors.Vocab at 0x7ff942938a10>,\n",
              " 'great': <gensim.models.keyedvectors.Vocab at 0x7ff9429388d0>,\n",
              " 'union': <gensim.models.keyedvectors.Vocab at 0x7ff942938b10>,\n",
              " 'near': <gensim.models.keyedvectors.Vocab at 0x7ff9429389d0>,\n",
              " 'released': <gensim.models.keyedvectors.Vocab at 0x7ff942938c10>,\n",
              " 'small': <gensim.models.keyedvectors.Vocab at 0x7ff942938ad0>,\n",
              " 'department': <gensim.models.keyedvectors.Vocab at 0x7ff942938d10>,\n",
              " 'every': <gensim.models.keyedvectors.Vocab at 0x7ff942938bd0>,\n",
              " 'health': <gensim.models.keyedvectors.Vocab at 0x7ff942938e10>,\n",
              " 'japan': <gensim.models.keyedvectors.Vocab at 0x7ff942938cd0>,\n",
              " 'head': <gensim.models.keyedvectors.Vocab at 0x7ff942938ed0>,\n",
              " 'ago': <gensim.models.keyedvectors.Vocab at 0x7ff942938dd0>,\n",
              " 'night': <gensim.models.keyedvectors.Vocab at 0x7ff942938fd0>,\n",
              " 'big': <gensim.models.keyedvectors.Vocab at 0x7ff942938f50>,\n",
              " 'cup': <gensim.models.keyedvectors.Vocab at 0x7ff94293b110>,\n",
              " 'election': <gensim.models.keyedvectors.Vocab at 0x7ff94293b090>,\n",
              " 'region': <gensim.models.keyedvectors.Vocab at 0x7ff94293b210>,\n",
              " 'director': <gensim.models.keyedvectors.Vocab at 0x7ff94293b190>,\n",
              " 'talks': <gensim.models.keyedvectors.Vocab at 0x7ff94293b310>,\n",
              " 'program': <gensim.models.keyedvectors.Vocab at 0x7ff94293b290>,\n",
              " 'far': <gensim.models.keyedvectors.Vocab at 0x7ff94293b410>,\n",
              " 'today': <gensim.models.keyedvectors.Vocab at 0x7ff94293b390>,\n",
              " 'statement': <gensim.models.keyedvectors.Vocab at 0x7ff94293b4d0>,\n",
              " 'july': <gensim.models.keyedvectors.Vocab at 0x7ff94293b490>,\n",
              " 'although': <gensim.models.keyedvectors.Vocab at 0x7ff94293b5d0>,\n",
              " 'district': <gensim.models.keyedvectors.Vocab at 0x7ff94293b590>,\n",
              " 'again': <gensim.models.keyedvectors.Vocab at 0x7ff94293b6d0>,\n",
              " 'born': <gensim.models.keyedvectors.Vocab at 0x7ff94293b690>,\n",
              " 'development': <gensim.models.keyedvectors.Vocab at 0x7ff94293b7d0>,\n",
              " 'leaders': <gensim.models.keyedvectors.Vocab at 0x7ff94293b790>,\n",
              " 'council': <gensim.models.keyedvectors.Vocab at 0x7ff94293b8d0>,\n",
              " 'close': <gensim.models.keyedvectors.Vocab at 0x7ff94293b890>,\n",
              " 'record': <gensim.models.keyedvectors.Vocab at 0x7ff94293b9d0>,\n",
              " 'along': <gensim.models.keyedvectors.Vocab at 0x7ff94293b990>,\n",
              " 'county': <gensim.models.keyedvectors.Vocab at 0x7ff94293bad0>,\n",
              " 'france': <gensim.models.keyedvectors.Vocab at 0x7ff94293ba90>,\n",
              " 'went': <gensim.models.keyedvectors.Vocab at 0x7ff94293bbd0>,\n",
              " 'point': <gensim.models.keyedvectors.Vocab at 0x7ff94293bb90>,\n",
              " 'must': <gensim.models.keyedvectors.Vocab at 0x7ff94293bcd0>,\n",
              " 'spokesman': <gensim.models.keyedvectors.Vocab at 0x7ff94293bc90>,\n",
              " 'your': <gensim.models.keyedvectors.Vocab at 0x7ff94293bdd0>,\n",
              " 'member': <gensim.models.keyedvectors.Vocab at 0x7ff94293bd90>,\n",
              " 'plan': <gensim.models.keyedvectors.Vocab at 0x7ff94293bed0>,\n",
              " 'financial': <gensim.models.keyedvectors.Vocab at 0x7ff94293be90>,\n",
              " 'april': <gensim.models.keyedvectors.Vocab at 0x7ff94293bfd0>,\n",
              " 'recent': <gensim.models.keyedvectors.Vocab at 0x7ff94293bf90>,\n",
              " 'campaign': <gensim.models.keyedvectors.Vocab at 0x7ff94293d110>,\n",
              " 'become': <gensim.models.keyedvectors.Vocab at 0x7ff94293d0d0>,\n",
              " 'troops': <gensim.models.keyedvectors.Vocab at 0x7ff94293d210>,\n",
              " 'whether': <gensim.models.keyedvectors.Vocab at 0x7ff94293d1d0>,\n",
              " 'lost': <gensim.models.keyedvectors.Vocab at 0x7ff94293d310>,\n",
              " 'music': <gensim.models.keyedvectors.Vocab at 0x7ff94293d2d0>,\n",
              " '15': <gensim.models.keyedvectors.Vocab at 0x7ff94293d410>,\n",
              " 'got': <gensim.models.keyedvectors.Vocab at 0x7ff94293d3d0>,\n",
              " 'israeli': <gensim.models.keyedvectors.Vocab at 0x7ff94293d510>,\n",
              " '30': <gensim.models.keyedvectors.Vocab at 0x7ff94293d4d0>,\n",
              " 'need': <gensim.models.keyedvectors.Vocab at 0x7ff94293d610>,\n",
              " '4': <gensim.models.keyedvectors.Vocab at 0x7ff94293d5d0>,\n",
              " 'lead': <gensim.models.keyedvectors.Vocab at 0x7ff94293d650>,\n",
              " 'already': <gensim.models.keyedvectors.Vocab at 0x7ff94293d6d0>,\n",
              " 'russia': <gensim.models.keyedvectors.Vocab at 0x7ff94293d750>,\n",
              " 'though': <gensim.models.keyedvectors.Vocab at 0x7ff94293d7d0>,\n",
              " 'might': <gensim.models.keyedvectors.Vocab at 0x7ff94293d850>,\n",
              " 'free': <gensim.models.keyedvectors.Vocab at 0x7ff94293d950>,\n",
              " 'hit': <gensim.models.keyedvectors.Vocab at 0x7ff94293d910>,\n",
              " 'rights': <gensim.models.keyedvectors.Vocab at 0x7ff94293da50>,\n",
              " '11': <gensim.models.keyedvectors.Vocab at 0x7ff94293da10>,\n",
              " 'information': <gensim.models.keyedvectors.Vocab at 0x7ff94293db50>,\n",
              " 'away': <gensim.models.keyedvectors.Vocab at 0x7ff94293db10>,\n",
              " '12': <gensim.models.keyedvectors.Vocab at 0x7ff94293dc50>,\n",
              " '5': <gensim.models.keyedvectors.Vocab at 0x7ff94293dc10>,\n",
              " 'others': <gensim.models.keyedvectors.Vocab at 0x7ff94293dc90>,\n",
              " 'control': <gensim.models.keyedvectors.Vocab at 0x7ff94293dd10>,\n",
              " 'within': <gensim.models.keyedvectors.Vocab at 0x7ff94293dd90>,\n",
              " 'large': <gensim.models.keyedvectors.Vocab at 0x7ff94293de10>,\n",
              " 'economy': <gensim.models.keyedvectors.Vocab at 0x7ff94293de90>,\n",
              " 'press': <gensim.models.keyedvectors.Vocab at 0x7ff94293df10>,\n",
              " 'agency': <gensim.models.keyedvectors.Vocab at 0x7ff94293df90>,\n",
              " 'water': <gensim.models.keyedvectors.Vocab at 0x7ff942940050>,\n",
              " 'died': <gensim.models.keyedvectors.Vocab at 0x7ff9429400d0>,\n",
              " 'career': <gensim.models.keyedvectors.Vocab at 0x7ff942940150>,\n",
              " 'making': <gensim.models.keyedvectors.Vocab at 0x7ff9429401d0>,\n",
              " '...': <gensim.models.keyedvectors.Vocab at 0x7ff942940250>,\n",
              " 'deal': <gensim.models.keyedvectors.Vocab at 0x7ff9429402d0>,\n",
              " 'attack': <gensim.models.keyedvectors.Vocab at 0x7ff942940350>,\n",
              " 'side': <gensim.models.keyedvectors.Vocab at 0x7ff9429403d0>,\n",
              " 'seven': <gensim.models.keyedvectors.Vocab at 0x7ff942940450>,\n",
              " 'better': <gensim.models.keyedvectors.Vocab at 0x7ff9429404d0>,\n",
              " 'less': <gensim.models.keyedvectors.Vocab at 0x7ff942940550>,\n",
              " 'september': <gensim.models.keyedvectors.Vocab at 0x7ff9429405d0>,\n",
              " 'once': <gensim.models.keyedvectors.Vocab at 0x7ff942940650>,\n",
              " 'clinton': <gensim.models.keyedvectors.Vocab at 0x7ff9429406d0>,\n",
              " 'main': <gensim.models.keyedvectors.Vocab at 0x7ff942940750>,\n",
              " 'due': <gensim.models.keyedvectors.Vocab at 0x7ff9429407d0>,\n",
              " 'committee': <gensim.models.keyedvectors.Vocab at 0x7ff942940850>,\n",
              " 'building': <gensim.models.keyedvectors.Vocab at 0x7ff9429408d0>,\n",
              " 'conference': <gensim.models.keyedvectors.Vocab at 0x7ff942940950>,\n",
              " 'club': <gensim.models.keyedvectors.Vocab at 0x7ff9429409d0>,\n",
              " 'january': <gensim.models.keyedvectors.Vocab at 0x7ff942940a50>,\n",
              " 'decision': <gensim.models.keyedvectors.Vocab at 0x7ff942940ad0>,\n",
              " 'stock': <gensim.models.keyedvectors.Vocab at 0x7ff942940b50>,\n",
              " 'america': <gensim.models.keyedvectors.Vocab at 0x7ff942940bd0>,\n",
              " 'given': <gensim.models.keyedvectors.Vocab at 0x7ff942940c50>,\n",
              " 'give': <gensim.models.keyedvectors.Vocab at 0x7ff942940cd0>,\n",
              " 'often': <gensim.models.keyedvectors.Vocab at 0x7ff942940d50>,\n",
              " 'announced': <gensim.models.keyedvectors.Vocab at 0x7ff942940dd0>,\n",
              " 'television': <gensim.models.keyedvectors.Vocab at 0x7ff942940e50>,\n",
              " 'industry': <gensim.models.keyedvectors.Vocab at 0x7ff942940ed0>,\n",
              " 'order': <gensim.models.keyedvectors.Vocab at 0x7ff942940f50>,\n",
              " 'young': <gensim.models.keyedvectors.Vocab at 0x7ff942940fd0>,\n",
              " \"'ve\": <gensim.models.keyedvectors.Vocab at 0x7ff942942090>,\n",
              " 'palestinian': <gensim.models.keyedvectors.Vocab at 0x7ff942942110>,\n",
              " 'age': <gensim.models.keyedvectors.Vocab at 0x7ff942942190>,\n",
              " 'start': <gensim.models.keyedvectors.Vocab at 0x7ff942942210>,\n",
              " 'administration': <gensim.models.keyedvectors.Vocab at 0x7ff942942290>,\n",
              " 'russian': <gensim.models.keyedvectors.Vocab at 0x7ff942942310>,\n",
              " 'prices': <gensim.models.keyedvectors.Vocab at 0x7ff942942390>,\n",
              " 'round': <gensim.models.keyedvectors.Vocab at 0x7ff942942410>,\n",
              " 'december': <gensim.models.keyedvectors.Vocab at 0x7ff942942490>,\n",
              " 'nations': <gensim.models.keyedvectors.Vocab at 0x7ff942942510>,\n",
              " \"'m\": <gensim.models.keyedvectors.Vocab at 0x7ff942942590>,\n",
              " 'human': <gensim.models.keyedvectors.Vocab at 0x7ff942942610>,\n",
              " 'india': <gensim.models.keyedvectors.Vocab at 0x7ff942942690>,\n",
              " 'defense': <gensim.models.keyedvectors.Vocab at 0x7ff942942710>,\n",
              " 'asked': <gensim.models.keyedvectors.Vocab at 0x7ff942942790>,\n",
              " 'total': <gensim.models.keyedvectors.Vocab at 0x7ff942942810>,\n",
              " 'october': <gensim.models.keyedvectors.Vocab at 0x7ff942942890>,\n",
              " 'players': <gensim.models.keyedvectors.Vocab at 0x7ff942942910>,\n",
              " 'bill': <gensim.models.keyedvectors.Vocab at 0x7ff942942990>,\n",
              " 'important': <gensim.models.keyedvectors.Vocab at 0x7ff942942a10>,\n",
              " 'southern': <gensim.models.keyedvectors.Vocab at 0x7ff942942a90>,\n",
              " 'move': <gensim.models.keyedvectors.Vocab at 0x7ff942942b10>,\n",
              " 'fire': <gensim.models.keyedvectors.Vocab at 0x7ff942942b90>,\n",
              " 'population': <gensim.models.keyedvectors.Vocab at 0x7ff942942c10>,\n",
              " 'rose': <gensim.models.keyedvectors.Vocab at 0x7ff942942c90>,\n",
              " 'november': <gensim.models.keyedvectors.Vocab at 0x7ff942942d10>,\n",
              " 'include': <gensim.models.keyedvectors.Vocab at 0x7ff942942d90>,\n",
              " 'further': <gensim.models.keyedvectors.Vocab at 0x7ff942942e10>,\n",
              " 'nuclear': <gensim.models.keyedvectors.Vocab at 0x7ff942942e90>,\n",
              " 'street': <gensim.models.keyedvectors.Vocab at 0x7ff942942f10>,\n",
              " 'taken': <gensim.models.keyedvectors.Vocab at 0x7ff942942f90>,\n",
              " 'media': <gensim.models.keyedvectors.Vocab at 0x7ff942944050>,\n",
              " 'different': <gensim.models.keyedvectors.Vocab at 0x7ff9429440d0>,\n",
              " 'issue': <gensim.models.keyedvectors.Vocab at 0x7ff942944150>,\n",
              " 'received': <gensim.models.keyedvectors.Vocab at 0x7ff9429441d0>,\n",
              " 'secretary': <gensim.models.keyedvectors.Vocab at 0x7ff942944250>,\n",
              " 'return': <gensim.models.keyedvectors.Vocab at 0x7ff9429442d0>,\n",
              " 'college': <gensim.models.keyedvectors.Vocab at 0x7ff942944350>,\n",
              " 'working': <gensim.models.keyedvectors.Vocab at 0x7ff9429443d0>,\n",
              " 'community': <gensim.models.keyedvectors.Vocab at 0x7ff942944450>,\n",
              " 'eight': <gensim.models.keyedvectors.Vocab at 0x7ff9429444d0>,\n",
              " 'groups': <gensim.models.keyedvectors.Vocab at 0x7ff942944550>,\n",
              " 'despite': <gensim.models.keyedvectors.Vocab at 0x7ff9429445d0>,\n",
              " 'level': <gensim.models.keyedvectors.Vocab at 0x7ff942944650>,\n",
              " 'largest': <gensim.models.keyedvectors.Vocab at 0x7ff9429446d0>,\n",
              " 'whose': <gensim.models.keyedvectors.Vocab at 0x7ff942944750>,\n",
              " 'attacks': <gensim.models.keyedvectors.Vocab at 0x7ff9429447d0>,\n",
              " 'germany': <gensim.models.keyedvectors.Vocab at 0x7ff942944850>,\n",
              " 'august': <gensim.models.keyedvectors.Vocab at 0x7ff942944950>,\n",
              " 'change': <gensim.models.keyedvectors.Vocab at 0x7ff942944910>,\n",
              " 'church': <gensim.models.keyedvectors.Vocab at 0x7ff942944a50>,\n",
              " 'nation': <gensim.models.keyedvectors.Vocab at 0x7ff942944a10>,\n",
              " 'german': <gensim.models.keyedvectors.Vocab at 0x7ff942944b50>,\n",
              " 'station': <gensim.models.keyedvectors.Vocab at 0x7ff942944b10>,\n",
              " 'london': <gensim.models.keyedvectors.Vocab at 0x7ff942944c50>,\n",
              " 'weeks': <gensim.models.keyedvectors.Vocab at 0x7ff942944c10>,\n",
              " 'having': <gensim.models.keyedvectors.Vocab at 0x7ff942944d50>,\n",
              " '18': <gensim.models.keyedvectors.Vocab at 0x7ff942944d10>,\n",
              " 'research': <gensim.models.keyedvectors.Vocab at 0x7ff942944e50>,\n",
              " 'black': <gensim.models.keyedvectors.Vocab at 0x7ff942944e10>,\n",
              " 'services': <gensim.models.keyedvectors.Vocab at 0x7ff942944f10>,\n",
              " 'story': <gensim.models.keyedvectors.Vocab at 0x7ff942944f90>,\n",
              " '6': <gensim.models.keyedvectors.Vocab at 0x7ff942947050>,\n",
              " 'europe': <gensim.models.keyedvectors.Vocab at 0x7ff942944fd0>,\n",
              " 'sales': <gensim.models.keyedvectors.Vocab at 0x7ff942947150>,\n",
              " 'policy': <gensim.models.keyedvectors.Vocab at 0x7ff942947110>,\n",
              " 'visit': <gensim.models.keyedvectors.Vocab at 0x7ff942947250>,\n",
              " 'northern': <gensim.models.keyedvectors.Vocab at 0x7ff942947210>,\n",
              " 'lot': <gensim.models.keyedvectors.Vocab at 0x7ff942947350>,\n",
              " 'across': <gensim.models.keyedvectors.Vocab at 0x7ff942947310>,\n",
              " 'per': <gensim.models.keyedvectors.Vocab at 0x7ff942947450>,\n",
              " 'current': <gensim.models.keyedvectors.Vocab at 0x7ff942947410>,\n",
              " 'board': <gensim.models.keyedvectors.Vocab at 0x7ff942947550>,\n",
              " 'football': <gensim.models.keyedvectors.Vocab at 0x7ff942947510>,\n",
              " 'ministry': <gensim.models.keyedvectors.Vocab at 0x7ff942947650>,\n",
              " 'workers': <gensim.models.keyedvectors.Vocab at 0x7ff942947610>,\n",
              " 'vote': <gensim.models.keyedvectors.Vocab at 0x7ff942947750>,\n",
              " 'book': <gensim.models.keyedvectors.Vocab at 0x7ff942947710>,\n",
              " 'fell': <gensim.models.keyedvectors.Vocab at 0x7ff942947850>,\n",
              " 'seen': <gensim.models.keyedvectors.Vocab at 0x7ff942947810>,\n",
              " 'role': <gensim.models.keyedvectors.Vocab at 0x7ff942947950>,\n",
              " 'students': <gensim.models.keyedvectors.Vocab at 0x7ff942947910>,\n",
              " 'shares': <gensim.models.keyedvectors.Vocab at 0x7ff942947a50>,\n",
              " 'iran': <gensim.models.keyedvectors.Vocab at 0x7ff942947a10>,\n",
              " 'process': <gensim.models.keyedvectors.Vocab at 0x7ff942947b50>,\n",
              " 'agreement': <gensim.models.keyedvectors.Vocab at 0x7ff942947b10>,\n",
              " 'quarter': <gensim.models.keyedvectors.Vocab at 0x7ff942947c50>,\n",
              " 'full': <gensim.models.keyedvectors.Vocab at 0x7ff942947c10>,\n",
              " 'match': <gensim.models.keyedvectors.Vocab at 0x7ff942947d50>,\n",
              " 'started': <gensim.models.keyedvectors.Vocab at 0x7ff942947d10>,\n",
              " 'growth': <gensim.models.keyedvectors.Vocab at 0x7ff942947e50>,\n",
              " 'yet': <gensim.models.keyedvectors.Vocab at 0x7ff942947e10>,\n",
              " 'moved': <gensim.models.keyedvectors.Vocab at 0x7ff942947f50>,\n",
              " 'possible': <gensim.models.keyedvectors.Vocab at 0x7ff942947f10>,\n",
              " 'western': <gensim.models.keyedvectors.Vocab at 0x7ff94294a090>,\n",
              " 'special': <gensim.models.keyedvectors.Vocab at 0x7ff94294a050>,\n",
              " '100': <gensim.models.keyedvectors.Vocab at 0x7ff94294a190>,\n",
              " 'plans': <gensim.models.keyedvectors.Vocab at 0x7ff94294a150>,\n",
              " 'interest': <gensim.models.keyedvectors.Vocab at 0x7ff94294a290>,\n",
              " 'behind': <gensim.models.keyedvectors.Vocab at 0x7ff94294a250>,\n",
              " 'strong': <gensim.models.keyedvectors.Vocab at 0x7ff94294a390>,\n",
              " 'england': <gensim.models.keyedvectors.Vocab at 0x7ff94294a350>,\n",
              " 'named': <gensim.models.keyedvectors.Vocab at 0x7ff94294a490>,\n",
              " 'food': <gensim.models.keyedvectors.Vocab at 0x7ff94294a410>,\n",
              " 'period': <gensim.models.keyedvectors.Vocab at 0x7ff94294a590>,\n",
              " 'real': <gensim.models.keyedvectors.Vocab at 0x7ff94294a550>,\n",
              " 'authorities': <gensim.models.keyedvectors.Vocab at 0x7ff94294a690>,\n",
              " 'car': <gensim.models.keyedvectors.Vocab at 0x7ff94294a650>,\n",
              " 'term': <gensim.models.keyedvectors.Vocab at 0x7ff94294a790>,\n",
              " 'rate': <gensim.models.keyedvectors.Vocab at 0x7ff94294a750>,\n",
              " 'race': <gensim.models.keyedvectors.Vocab at 0x7ff94294a890>,\n",
              " 'nearly': <gensim.models.keyedvectors.Vocab at 0x7ff94294a850>,\n",
              " 'korea': <gensim.models.keyedvectors.Vocab at 0x7ff94294a990>,\n",
              " 'enough': <gensim.models.keyedvectors.Vocab at 0x7ff94294a950>,\n",
              " 'site': <gensim.models.keyedvectors.Vocab at 0x7ff94294aa90>,\n",
              " 'opposition': <gensim.models.keyedvectors.Vocab at 0x7ff94294aa50>,\n",
              " 'keep': <gensim.models.keyedvectors.Vocab at 0x7ff94294ab90>,\n",
              " '25': <gensim.models.keyedvectors.Vocab at 0x7ff94294ab50>,\n",
              " 'call': <gensim.models.keyedvectors.Vocab at 0x7ff94294ac90>,\n",
              " 'future': <gensim.models.keyedvectors.Vocab at 0x7ff94294ac50>,\n",
              " 'taking': <gensim.models.keyedvectors.Vocab at 0x7ff94294ad90>,\n",
              " 'island': <gensim.models.keyedvectors.Vocab at 0x7ff94294ad50>,\n",
              " '2008': <gensim.models.keyedvectors.Vocab at 0x7ff94294ae90>,\n",
              " '2006': <gensim.models.keyedvectors.Vocab at 0x7ff94294ae50>,\n",
              " 'road': <gensim.models.keyedvectors.Vocab at 0x7ff94294af90>,\n",
              " 'outside': <gensim.models.keyedvectors.Vocab at 0x7ff94294af50>,\n",
              " 'really': <gensim.models.keyedvectors.Vocab at 0x7ff94294c0d0>,\n",
              " 'century': <gensim.models.keyedvectors.Vocab at 0x7ff94294c090>,\n",
              " 'democratic': <gensim.models.keyedvectors.Vocab at 0x7ff94294c1d0>,\n",
              " 'almost': <gensim.models.keyedvectors.Vocab at 0x7ff94294c190>,\n",
              " 'single': <gensim.models.keyedvectors.Vocab at 0x7ff94294c2d0>,\n",
              " 'share': <gensim.models.keyedvectors.Vocab at 0x7ff94294c290>,\n",
              " 'leading': <gensim.models.keyedvectors.Vocab at 0x7ff94294c3d0>,\n",
              " 'trying': <gensim.models.keyedvectors.Vocab at 0x7ff94294c390>,\n",
              " 'find': <gensim.models.keyedvectors.Vocab at 0x7ff94294c4d0>,\n",
              " 'album': <gensim.models.keyedvectors.Vocab at 0x7ff94294c490>,\n",
              " 'senior': <gensim.models.keyedvectors.Vocab at 0x7ff94294c5d0>,\n",
              " 'minutes': <gensim.models.keyedvectors.Vocab at 0x7ff94294c590>,\n",
              " 'together': <gensim.models.keyedvectors.Vocab at 0x7ff94294c6d0>,\n",
              " 'congress': <gensim.models.keyedvectors.Vocab at 0x7ff94294c690>,\n",
              " 'index': <gensim.models.keyedvectors.Vocab at 0x7ff94294c7d0>,\n",
              " 'australia': <gensim.models.keyedvectors.Vocab at 0x7ff94294c790>,\n",
              " 'results': <gensim.models.keyedvectors.Vocab at 0x7ff94294c8d0>,\n",
              " 'hard': <gensim.models.keyedvectors.Vocab at 0x7ff94294c890>,\n",
              " 'hours': <gensim.models.keyedvectors.Vocab at 0x7ff94294c9d0>,\n",
              " 'land': <gensim.models.keyedvectors.Vocab at 0x7ff94294c990>,\n",
              " 'action': <gensim.models.keyedvectors.Vocab at 0x7ff94294cad0>,\n",
              " 'higher': <gensim.models.keyedvectors.Vocab at 0x7ff94294ca90>,\n",
              " 'field': <gensim.models.keyedvectors.Vocab at 0x7ff94294cbd0>,\n",
              " 'cut': <gensim.models.keyedvectors.Vocab at 0x7ff94294cb90>,\n",
              " 'coach': <gensim.models.keyedvectors.Vocab at 0x7ff94294ccd0>,\n",
              " 'elections': <gensim.models.keyedvectors.Vocab at 0x7ff94294cc90>,\n",
              " 'san': <gensim.models.keyedvectors.Vocab at 0x7ff94294cdd0>,\n",
              " 'issues': <gensim.models.keyedvectors.Vocab at 0x7ff94294cd90>,\n",
              " 'executive': <gensim.models.keyedvectors.Vocab at 0x7ff94294ced0>,\n",
              " 'february': <gensim.models.keyedvectors.Vocab at 0x7ff94294ce90>,\n",
              " 'production': <gensim.models.keyedvectors.Vocab at 0x7ff94294cfd0>,\n",
              " 'areas': <gensim.models.keyedvectors.Vocab at 0x7ff94294cf90>,\n",
              " 'river': <gensim.models.keyedvectors.Vocab at 0x7ff94294f110>,\n",
              " 'face': <gensim.models.keyedvectors.Vocab at 0x7ff94294f0d0>,\n",
              " 'using': <gensim.models.keyedvectors.Vocab at 0x7ff94294f210>,\n",
              " 'japanese': <gensim.models.keyedvectors.Vocab at 0x7ff94294f1d0>,\n",
              " 'province': <gensim.models.keyedvectors.Vocab at 0x7ff94294f2d0>,\n",
              " 'park': <gensim.models.keyedvectors.Vocab at 0x7ff94294f350>,\n",
              " 'price': <gensim.models.keyedvectors.Vocab at 0x7ff94294f3d0>,\n",
              " 'commission': <gensim.models.keyedvectors.Vocab at 0x7ff94294f450>,\n",
              " 'california': <gensim.models.keyedvectors.Vocab at 0x7ff94294f4d0>,\n",
              " 'father': <gensim.models.keyedvectors.Vocab at 0x7ff94294f550>,\n",
              " 'son': <gensim.models.keyedvectors.Vocab at 0x7ff94294f5d0>,\n",
              " 'education': <gensim.models.keyedvectors.Vocab at 0x7ff94294f650>,\n",
              " '7': <gensim.models.keyedvectors.Vocab at 0x7ff94294f6d0>,\n",
              " 'village': <gensim.models.keyedvectors.Vocab at 0x7ff94294f690>,\n",
              " 'energy': <gensim.models.keyedvectors.Vocab at 0x7ff94294f7d0>,\n",
              " 'shot': <gensim.models.keyedvectors.Vocab at 0x7ff94294f790>,\n",
              " 'short': <gensim.models.keyedvectors.Vocab at 0x7ff94294f8d0>,\n",
              " 'africa': <gensim.models.keyedvectors.Vocab at 0x7ff94294f890>,\n",
              " 'key': <gensim.models.keyedvectors.Vocab at 0x7ff94294f9d0>,\n",
              " 'red': <gensim.models.keyedvectors.Vocab at 0x7ff94294f990>,\n",
              " 'association': <gensim.models.keyedvectors.Vocab at 0x7ff94294fad0>,\n",
              " 'average': <gensim.models.keyedvectors.Vocab at 0x7ff94294fa90>,\n",
              " 'pay': <gensim.models.keyedvectors.Vocab at 0x7ff94294fbd0>,\n",
              " 'exchange': <gensim.models.keyedvectors.Vocab at 0x7ff94294fb90>,\n",
              " 'eu': <gensim.models.keyedvectors.Vocab at 0x7ff94294fcd0>,\n",
              " 'something': <gensim.models.keyedvectors.Vocab at 0x7ff94294fc90>,\n",
              " 'gave': <gensim.models.keyedvectors.Vocab at 0x7ff94294fdd0>,\n",
              " 'likely': <gensim.models.keyedvectors.Vocab at 0x7ff94294fd90>,\n",
              " 'player': <gensim.models.keyedvectors.Vocab at 0x7ff94294fed0>,\n",
              " 'george': <gensim.models.keyedvectors.Vocab at 0x7ff94294fe90>,\n",
              " '2007': <gensim.models.keyedvectors.Vocab at 0x7ff94294ffd0>,\n",
              " 'victory': <gensim.models.keyedvectors.Vocab at 0x7ff94294ff90>,\n",
              " '8': <gensim.models.keyedvectors.Vocab at 0x7ff942951110>,\n",
              " 'low': <gensim.models.keyedvectors.Vocab at 0x7ff942951090>,\n",
              " 'things': <gensim.models.keyedvectors.Vocab at 0x7ff942951210>,\n",
              " '2010': <gensim.models.keyedvectors.Vocab at 0x7ff942951190>,\n",
              " 'pakistan': <gensim.models.keyedvectors.Vocab at 0x7ff942951310>,\n",
              " '14': <gensim.models.keyedvectors.Vocab at 0x7ff942951290>,\n",
              " 'post': <gensim.models.keyedvectors.Vocab at 0x7ff942951410>,\n",
              " 'social': <gensim.models.keyedvectors.Vocab at 0x7ff942951390>,\n",
              " 'continue': <gensim.models.keyedvectors.Vocab at 0x7ff942951510>,\n",
              " 'ever': <gensim.models.keyedvectors.Vocab at 0x7ff942951490>,\n",
              " 'look': <gensim.models.keyedvectors.Vocab at 0x7ff942951610>,\n",
              " 'chairman': <gensim.models.keyedvectors.Vocab at 0x7ff942951590>,\n",
              " 'job': <gensim.models.keyedvectors.Vocab at 0x7ff942951710>,\n",
              " '2000': <gensim.models.keyedvectors.Vocab at 0x7ff942951690>,\n",
              " 'soldiers': <gensim.models.keyedvectors.Vocab at 0x7ff942951810>,\n",
              " 'able': <gensim.models.keyedvectors.Vocab at 0x7ff942951790>,\n",
              " 'parliament': <gensim.models.keyedvectors.Vocab at 0x7ff942951910>,\n",
              " 'front': <gensim.models.keyedvectors.Vocab at 0x7ff942951890>,\n",
              " 'himself': <gensim.models.keyedvectors.Vocab at 0x7ff942951a10>,\n",
              " 'problems': <gensim.models.keyedvectors.Vocab at 0x7ff942951990>,\n",
              " 'private': <gensim.models.keyedvectors.Vocab at 0x7ff942951b10>,\n",
              " 'lower': <gensim.models.keyedvectors.Vocab at 0x7ff942951a90>,\n",
              " 'list': <gensim.models.keyedvectors.Vocab at 0x7ff942951c10>,\n",
              " 'built': <gensim.models.keyedvectors.Vocab at 0x7ff942951b90>,\n",
              " '13': <gensim.models.keyedvectors.Vocab at 0x7ff942951d10>,\n",
              " 'efforts': <gensim.models.keyedvectors.Vocab at 0x7ff942951c90>,\n",
              " 'dollar': <gensim.models.keyedvectors.Vocab at 0x7ff942951e10>,\n",
              " 'miles': <gensim.models.keyedvectors.Vocab at 0x7ff942951d90>,\n",
              " 'included': <gensim.models.keyedvectors.Vocab at 0x7ff942951f10>,\n",
              " 'radio': <gensim.models.keyedvectors.Vocab at 0x7ff942951e90>,\n",
              " 'live': <gensim.models.keyedvectors.Vocab at 0x7ff942954050>,\n",
              " 'form': <gensim.models.keyedvectors.Vocab at 0x7ff942951f90>,\n",
              " 'david': <gensim.models.keyedvectors.Vocab at 0x7ff942954150>,\n",
              " 'african': <gensim.models.keyedvectors.Vocab at 0x7ff9429540d0>,\n",
              " 'increase': <gensim.models.keyedvectors.Vocab at 0x7ff942954250>,\n",
              " 'reports': <gensim.models.keyedvectors.Vocab at 0x7ff9429541d0>,\n",
              " 'sent': <gensim.models.keyedvectors.Vocab at 0x7ff942954350>,\n",
              " 'fourth': <gensim.models.keyedvectors.Vocab at 0x7ff9429542d0>,\n",
              " 'always': <gensim.models.keyedvectors.Vocab at 0x7ff942954450>,\n",
              " 'king': <gensim.models.keyedvectors.Vocab at 0x7ff9429543d0>,\n",
              " '50': <gensim.models.keyedvectors.Vocab at 0x7ff942954550>,\n",
              " 'tax': <gensim.models.keyedvectors.Vocab at 0x7ff9429544d0>,\n",
              " 'taiwan': <gensim.models.keyedvectors.Vocab at 0x7ff942954650>,\n",
              " 'britain': <gensim.models.keyedvectors.Vocab at 0x7ff9429545d0>,\n",
              " '16': <gensim.models.keyedvectors.Vocab at 0x7ff942954750>,\n",
              " 'playing': <gensim.models.keyedvectors.Vocab at 0x7ff9429546d0>,\n",
              " 'title': <gensim.models.keyedvectors.Vocab at 0x7ff942954850>,\n",
              " 'middle': <gensim.models.keyedvectors.Vocab at 0x7ff9429547d0>,\n",
              " 'meet': <gensim.models.keyedvectors.Vocab at 0x7ff942954950>,\n",
              " 'global': <gensim.models.keyedvectors.Vocab at 0x7ff9429548d0>,\n",
              " 'wife': <gensim.models.keyedvectors.Vocab at 0x7ff942954a50>,\n",
              " '2009': <gensim.models.keyedvectors.Vocab at 0x7ff9429549d0>,\n",
              " 'position': <gensim.models.keyedvectors.Vocab at 0x7ff942954b50>,\n",
              " 'located': <gensim.models.keyedvectors.Vocab at 0x7ff942954ad0>,\n",
              " 'clear': <gensim.models.keyedvectors.Vocab at 0x7ff942954c50>,\n",
              " 'ahead': <gensim.models.keyedvectors.Vocab at 0x7ff942954bd0>,\n",
              " '2004': <gensim.models.keyedvectors.Vocab at 0x7ff942954d50>,\n",
              " '2005': <gensim.models.keyedvectors.Vocab at 0x7ff942954cd0>,\n",
              " 'iraqi': <gensim.models.keyedvectors.Vocab at 0x7ff942954e50>,\n",
              " 'english': <gensim.models.keyedvectors.Vocab at 0x7ff942954dd0>,\n",
              " 'result': <gensim.models.keyedvectors.Vocab at 0x7ff942954f50>,\n",
              " 'release': <gensim.models.keyedvectors.Vocab at 0x7ff942954ed0>,\n",
              " 'violence': <gensim.models.keyedvectors.Vocab at 0x7ff942956090>,\n",
              " 'goal': <gensim.models.keyedvectors.Vocab at 0x7ff942954fd0>,\n",
              " 'project': <gensim.models.keyedvectors.Vocab at 0x7ff942956190>,\n",
              " 'closed': <gensim.models.keyedvectors.Vocab at 0x7ff942956110>,\n",
              " 'border': <gensim.models.keyedvectors.Vocab at 0x7ff942956290>,\n",
              " 'body': <gensim.models.keyedvectors.Vocab at 0x7ff942956210>,\n",
              " 'soon': <gensim.models.keyedvectors.Vocab at 0x7ff942956390>,\n",
              " 'crisis': <gensim.models.keyedvectors.Vocab at 0x7ff942956310>,\n",
              " 'division': <gensim.models.keyedvectors.Vocab at 0x7ff942956490>,\n",
              " '&amp;': <gensim.models.keyedvectors.Vocab at 0x7ff942956410>,\n",
              " 'served': <gensim.models.keyedvectors.Vocab at 0x7ff942956590>,\n",
              " 'tour': <gensim.models.keyedvectors.Vocab at 0x7ff942956510>,\n",
              " 'hospital': <gensim.models.keyedvectors.Vocab at 0x7ff942956690>,\n",
              " 'kong': <gensim.models.keyedvectors.Vocab at 0x7ff942956610>,\n",
              " 'test': <gensim.models.keyedvectors.Vocab at 0x7ff942956790>,\n",
              " 'hong': <gensim.models.keyedvectors.Vocab at 0x7ff942956710>,\n",
              " 'u.n.': <gensim.models.keyedvectors.Vocab at 0x7ff942956890>,\n",
              " 'inc.': <gensim.models.keyedvectors.Vocab at 0x7ff942956810>,\n",
              " 'technology': <gensim.models.keyedvectors.Vocab at 0x7ff942956950>,\n",
              " 'believe': <gensim.models.keyedvectors.Vocab at 0x7ff942956910>,\n",
              " 'organization': <gensim.models.keyedvectors.Vocab at 0x7ff942956a50>,\n",
              " 'published': <gensim.models.keyedvectors.Vocab at 0x7ff942956a10>,\n",
              " 'weapons': <gensim.models.keyedvectors.Vocab at 0x7ff942956b50>,\n",
              " 'agreed': <gensim.models.keyedvectors.Vocab at 0x7ff942956b10>,\n",
              " 'why': <gensim.models.keyedvectors.Vocab at 0x7ff942956c50>,\n",
              " 'nine': <gensim.models.keyedvectors.Vocab at 0x7ff942956c10>,\n",
              " 'summer': <gensim.models.keyedvectors.Vocab at 0x7ff942956d50>,\n",
              " 'wanted': <gensim.models.keyedvectors.Vocab at 0x7ff942956d10>,\n",
              " 'republican': <gensim.models.keyedvectors.Vocab at 0x7ff942956e50>,\n",
              " 'act': <gensim.models.keyedvectors.Vocab at 0x7ff942956e10>,\n",
              " 'recently': <gensim.models.keyedvectors.Vocab at 0x7ff942956f50>,\n",
              " 'texas': <gensim.models.keyedvectors.Vocab at 0x7ff942956f10>,\n",
              " 'course': <gensim.models.keyedvectors.Vocab at 0x7ff942958090>,\n",
              " 'problem': <gensim.models.keyedvectors.Vocab at 0x7ff942958050>,\n",
              " 'senate': <gensim.models.keyedvectors.Vocab at 0x7ff942958190>,\n",
              " 'medical': <gensim.models.keyedvectors.Vocab at 0x7ff942958150>,\n",
              " 'un': <gensim.models.keyedvectors.Vocab at 0x7ff942958290>,\n",
              " 'done': <gensim.models.keyedvectors.Vocab at 0x7ff942958250>,\n",
              " 'reached': <gensim.models.keyedvectors.Vocab at 0x7ff942958350>,\n",
              " 'star': <gensim.models.keyedvectors.Vocab at 0x7ff9429583d0>,\n",
              " 'continued': <gensim.models.keyedvectors.Vocab at 0x7ff942958450>,\n",
              " 'investors': <gensim.models.keyedvectors.Vocab at 0x7ff9429584d0>,\n",
              " 'living': <gensim.models.keyedvectors.Vocab at 0x7ff942958550>,\n",
              " 'care': <gensim.models.keyedvectors.Vocab at 0x7ff9429585d0>,\n",
              " 'signed': <gensim.models.keyedvectors.Vocab at 0x7ff942958650>,\n",
              " '17': <gensim.models.keyedvectors.Vocab at 0x7ff9429586d0>,\n",
              " 'art': <gensim.models.keyedvectors.Vocab at 0x7ff942958750>,\n",
              " 'provide': <gensim.models.keyedvectors.Vocab at 0x7ff9429587d0>,\n",
              " 'worked': <gensim.models.keyedvectors.Vocab at 0x7ff942958850>,\n",
              " 'presidential': <gensim.models.keyedvectors.Vocab at 0x7ff9429588d0>,\n",
              " 'gold': <gensim.models.keyedvectors.Vocab at 0x7ff942958950>,\n",
              " 'obama': <gensim.models.keyedvectors.Vocab at 0x7ff9429589d0>,\n",
              " 'morning': <gensim.models.keyedvectors.Vocab at 0x7ff942958a50>,\n",
              " 'dead': <gensim.models.keyedvectors.Vocab at 0x7ff942958ad0>,\n",
              " 'opened': <gensim.models.keyedvectors.Vocab at 0x7ff942958b50>,\n",
              " \"'ll\": <gensim.models.keyedvectors.Vocab at 0x7ff942958bd0>,\n",
              " 'event': <gensim.models.keyedvectors.Vocab at 0x7ff942958c50>,\n",
              " 'previous': <gensim.models.keyedvectors.Vocab at 0x7ff942958cd0>,\n",
              " 'cost': <gensim.models.keyedvectors.Vocab at 0x7ff942958d50>,\n",
              " 'instead': <gensim.models.keyedvectors.Vocab at 0x7ff942958dd0>,\n",
              " 'canada': <gensim.models.keyedvectors.Vocab at 0x7ff942958e50>,\n",
              " 'band': <gensim.models.keyedvectors.Vocab at 0x7ff942958ed0>,\n",
              " 'teams': <gensim.models.keyedvectors.Vocab at 0x7ff942958f50>,\n",
              " 'daily': <gensim.models.keyedvectors.Vocab at 0x7ff942958fd0>,\n",
              " '2001': <gensim.models.keyedvectors.Vocab at 0x7ff94295b090>,\n",
              " 'available': <gensim.models.keyedvectors.Vocab at 0x7ff94295b110>,\n",
              " 'drug': <gensim.models.keyedvectors.Vocab at 0x7ff94295b190>,\n",
              " 'coming': <gensim.models.keyedvectors.Vocab at 0x7ff94295b210>,\n",
              " '2003': <gensim.models.keyedvectors.Vocab at 0x7ff94295b290>,\n",
              " 'investment': <gensim.models.keyedvectors.Vocab at 0x7ff94295b310>,\n",
              " '’s': <gensim.models.keyedvectors.Vocab at 0x7ff94295b390>,\n",
              " 'michael': <gensim.models.keyedvectors.Vocab at 0x7ff94295b350>,\n",
              " 'civil': <gensim.models.keyedvectors.Vocab at 0x7ff94295b490>,\n",
              " 'woman': <gensim.models.keyedvectors.Vocab at 0x7ff94295b450>,\n",
              " 'training': <gensim.models.keyedvectors.Vocab at 0x7ff94295b590>,\n",
              " 'appeared': <gensim.models.keyedvectors.Vocab at 0x7ff94295b550>,\n",
              " '9': <gensim.models.keyedvectors.Vocab at 0x7ff94295b690>,\n",
              " 'involved': <gensim.models.keyedvectors.Vocab at 0x7ff94295b610>,\n",
              " 'indian': <gensim.models.keyedvectors.Vocab at 0x7ff94295b790>,\n",
              " 'similar': <gensim.models.keyedvectors.Vocab at 0x7ff94295b710>,\n",
              " 'situation': <gensim.models.keyedvectors.Vocab at 0x7ff94295b890>,\n",
              " '24': <gensim.models.keyedvectors.Vocab at 0x7ff94295b810>,\n",
              " 'los': <gensim.models.keyedvectors.Vocab at 0x7ff94295b990>,\n",
              " 'running': <gensim.models.keyedvectors.Vocab at 0x7ff94295b910>,\n",
              " 'fighting': <gensim.models.keyedvectors.Vocab at 0x7ff94295ba90>,\n",
              " 'mark': <gensim.models.keyedvectors.Vocab at 0x7ff94295ba10>,\n",
              " '40': <gensim.models.keyedvectors.Vocab at 0x7ff94295bb90>,\n",
              " 'trial': <gensim.models.keyedvectors.Vocab at 0x7ff94295bb10>,\n",
              " 'hold': <gensim.models.keyedvectors.Vocab at 0x7ff94295bc90>,\n",
              " 'australian': <gensim.models.keyedvectors.Vocab at 0x7ff94295bc10>,\n",
              " 'thought': <gensim.models.keyedvectors.Vocab at 0x7ff94295bd90>,\n",
              " '!': <gensim.models.keyedvectors.Vocab at 0x7ff94295bd10>,\n",
              " 'study': <gensim.models.keyedvectors.Vocab at 0x7ff94295bdd0>,\n",
              " 'fall': <gensim.models.keyedvectors.Vocab at 0x7ff94295be10>,\n",
              " 'mother': <gensim.models.keyedvectors.Vocab at 0x7ff94295bed0>,\n",
              " 'met': <gensim.models.keyedvectors.Vocab at 0x7ff94295bf10>,\n",
              " 'relations': <gensim.models.keyedvectors.Vocab at 0x7ff94295bfd0>,\n",
              " 'anti': <gensim.models.keyedvectors.Vocab at 0x7ff94295e050>,\n",
              " '2002': <gensim.models.keyedvectors.Vocab at 0x7ff94295e110>,\n",
              " 'song': <gensim.models.keyedvectors.Vocab at 0x7ff94295e150>,\n",
              " 'popular': <gensim.models.keyedvectors.Vocab at 0x7ff94295e210>,\n",
              " 'base': <gensim.models.keyedvectors.Vocab at 0x7ff94295e250>,\n",
              " 'tv': <gensim.models.keyedvectors.Vocab at 0x7ff94295e310>,\n",
              " 'ground': <gensim.models.keyedvectors.Vocab at 0x7ff94295e350>,\n",
              " 'markets': <gensim.models.keyedvectors.Vocab at 0x7ff94295e410>,\n",
              " 'ii': <gensim.models.keyedvectors.Vocab at 0x7ff94295e450>,\n",
              " 'newspaper': <gensim.models.keyedvectors.Vocab at 0x7ff94295e510>,\n",
              " 'staff': <gensim.models.keyedvectors.Vocab at 0x7ff94295e550>,\n",
              " 'saw': <gensim.models.keyedvectors.Vocab at 0x7ff94295e610>,\n",
              " 'hand': <gensim.models.keyedvectors.Vocab at 0x7ff94295e650>,\n",
              " 'hope': <gensim.models.keyedvectors.Vocab at 0x7ff94295e710>,\n",
              " 'operations': <gensim.models.keyedvectors.Vocab at 0x7ff94295e750>,\n",
              " 'pressure': <gensim.models.keyedvectors.Vocab at 0x7ff94295e810>,\n",
              " 'americans': <gensim.models.keyedvectors.Vocab at 0x7ff94295e850>,\n",
              " 'eastern': <gensim.models.keyedvectors.Vocab at 0x7ff94295e910>,\n",
              " 'st.': <gensim.models.keyedvectors.Vocab at 0x7ff94295e950>,\n",
              " 'legal': <gensim.models.keyedvectors.Vocab at 0x7ff94295ea10>,\n",
              " 'asia': <gensim.models.keyedvectors.Vocab at 0x7ff94295ea50>,\n",
              " 'budget': <gensim.models.keyedvectors.Vocab at 0x7ff94295eb10>,\n",
              " 'returned': <gensim.models.keyedvectors.Vocab at 0x7ff94295eb50>,\n",
              " 'considered': <gensim.models.keyedvectors.Vocab at 0x7ff94295ec10>,\n",
              " 'love': <gensim.models.keyedvectors.Vocab at 0x7ff94295ec50>,\n",
              " 'wrote': <gensim.models.keyedvectors.Vocab at 0x7ff94295ed10>,\n",
              " 'stop': <gensim.models.keyedvectors.Vocab at 0x7ff94295ed50>,\n",
              " 'fight': <gensim.models.keyedvectors.Vocab at 0x7ff94295ee10>,\n",
              " 'currently': <gensim.models.keyedvectors.Vocab at 0x7ff94295ee50>,\n",
              " 'charges': <gensim.models.keyedvectors.Vocab at 0x7ff94295ef10>,\n",
              " 'try': <gensim.models.keyedvectors.Vocab at 0x7ff94295ef50>,\n",
              " 'aid': <gensim.models.keyedvectors.Vocab at 0x7ff942960050>,\n",
              " 'ended': <gensim.models.keyedvectors.Vocab at 0x7ff942960090>,\n",
              " 'management': <gensim.models.keyedvectors.Vocab at 0x7ff942960150>,\n",
              " 'brought': <gensim.models.keyedvectors.Vocab at 0x7ff942960190>,\n",
              " 'cases': <gensim.models.keyedvectors.Vocab at 0x7ff942960250>,\n",
              " 'decided': <gensim.models.keyedvectors.Vocab at 0x7ff942960290>,\n",
              " 'failed': <gensim.models.keyedvectors.Vocab at 0x7ff942960350>,\n",
              " 'network': <gensim.models.keyedvectors.Vocab at 0x7ff942960390>,\n",
              " 'works': <gensim.models.keyedvectors.Vocab at 0x7ff942960450>,\n",
              " 'gas': <gensim.models.keyedvectors.Vocab at 0x7ff942960490>,\n",
              " 'turned': <gensim.models.keyedvectors.Vocab at 0x7ff942960550>,\n",
              " 'fact': <gensim.models.keyedvectors.Vocab at 0x7ff942960590>,\n",
              " 'vice': <gensim.models.keyedvectors.Vocab at 0x7ff942960650>,\n",
              " 'ca': <gensim.models.keyedvectors.Vocab at 0x7ff942960690>,\n",
              " 'mexico': <gensim.models.keyedvectors.Vocab at 0x7ff942960750>,\n",
              " 'trading': <gensim.models.keyedvectors.Vocab at 0x7ff942960790>,\n",
              " 'especially': <gensim.models.keyedvectors.Vocab at 0x7ff942960850>,\n",
              " 'reporters': <gensim.models.keyedvectors.Vocab at 0x7ff942960890>,\n",
              " 'afghanistan': <gensim.models.keyedvectors.Vocab at 0x7ff942960950>,\n",
              " 'common': <gensim.models.keyedvectors.Vocab at 0x7ff942960990>,\n",
              " 'looking': <gensim.models.keyedvectors.Vocab at 0x7ff942960a50>,\n",
              " 'space': <gensim.models.keyedvectors.Vocab at 0x7ff942960a90>,\n",
              " 'rates': <gensim.models.keyedvectors.Vocab at 0x7ff942960b50>,\n",
              " 'manager': <gensim.models.keyedvectors.Vocab at 0x7ff942960b90>,\n",
              " 'loss': <gensim.models.keyedvectors.Vocab at 0x7ff942960c50>,\n",
              " '2011': <gensim.models.keyedvectors.Vocab at 0x7ff942960c90>,\n",
              " 'justice': <gensim.models.keyedvectors.Vocab at 0x7ff942960d50>,\n",
              " 'thousands': <gensim.models.keyedvectors.Vocab at 0x7ff942960d90>,\n",
              " 'james': <gensim.models.keyedvectors.Vocab at 0x7ff942960e50>,\n",
              " 'rather': <gensim.models.keyedvectors.Vocab at 0x7ff942960e90>,\n",
              " 'fund': <gensim.models.keyedvectors.Vocab at 0x7ff942960f50>,\n",
              " 'thing': <gensim.models.keyedvectors.Vocab at 0x7ff942960f90>,\n",
              " 'republic': <gensim.models.keyedvectors.Vocab at 0x7ff942963090>,\n",
              " 'opening': <gensim.models.keyedvectors.Vocab at 0x7ff9429630d0>,\n",
              " 'accused': <gensim.models.keyedvectors.Vocab at 0x7ff942963190>,\n",
              " 'winning': <gensim.models.keyedvectors.Vocab at 0x7ff9429631d0>,\n",
              " 'scored': <gensim.models.keyedvectors.Vocab at 0x7ff942963290>,\n",
              " 'championship': <gensim.models.keyedvectors.Vocab at 0x7ff9429632d0>,\n",
              " 'example': <gensim.models.keyedvectors.Vocab at 0x7ff942963390>,\n",
              " 'getting': <gensim.models.keyedvectors.Vocab at 0x7ff9429633d0>,\n",
              " 'biggest': <gensim.models.keyedvectors.Vocab at 0x7ff942963490>,\n",
              " 'performance': <gensim.models.keyedvectors.Vocab at 0x7ff9429634d0>,\n",
              " 'sports': <gensim.models.keyedvectors.Vocab at 0x7ff942963590>,\n",
              " '1998': <gensim.models.keyedvectors.Vocab at 0x7ff9429635d0>,\n",
              " 'let': <gensim.models.keyedvectors.Vocab at 0x7ff942963650>,\n",
              " 'allowed': <gensim.models.keyedvectors.Vocab at 0x7ff9429636d0>,\n",
              " 'schools': <gensim.models.keyedvectors.Vocab at 0x7ff942963750>,\n",
              " 'means': <gensim.models.keyedvectors.Vocab at 0x7ff9429637d0>,\n",
              " 'turn': <gensim.models.keyedvectors.Vocab at 0x7ff942963850>,\n",
              " 'leave': <gensim.models.keyedvectors.Vocab at 0x7ff942963950>,\n",
              " 'no.': <gensim.models.keyedvectors.Vocab at 0x7ff942963910>,\n",
              " 'robert': <gensim.models.keyedvectors.Vocab at 0x7ff942963a50>,\n",
              " 'personal': <gensim.models.keyedvectors.Vocab at 0x7ff942963a10>,\n",
              " 'stocks': <gensim.models.keyedvectors.Vocab at 0x7ff942963b50>,\n",
              " 'showed': <gensim.models.keyedvectors.Vocab at 0x7ff942963b10>,\n",
              " 'light': <gensim.models.keyedvectors.Vocab at 0x7ff942963c50>,\n",
              " 'arrested': <gensim.models.keyedvectors.Vocab at 0x7ff942963c10>,\n",
              " 'person': <gensim.models.keyedvectors.Vocab at 0x7ff942963d50>,\n",
              " 'either': <gensim.models.keyedvectors.Vocab at 0x7ff942963d10>,\n",
              " 'offer': <gensim.models.keyedvectors.Vocab at 0x7ff942963e50>,\n",
              " 'majority': <gensim.models.keyedvectors.Vocab at 0x7ff942963e10>,\n",
              " 'battle': <gensim.models.keyedvectors.Vocab at 0x7ff942963f50>,\n",
              " '19': <gensim.models.keyedvectors.Vocab at 0x7ff942963f10>,\n",
              " 'class': <gensim.models.keyedvectors.Vocab at 0x7ff942965050>,\n",
              " 'evidence': <gensim.models.keyedvectors.Vocab at 0x7ff9429650d0>,\n",
              " 'makes': <gensim.models.keyedvectors.Vocab at 0x7ff942965150>,\n",
              " 'society': <gensim.models.keyedvectors.Vocab at 0x7ff9429651d0>,\n",
              " 'products': <gensim.models.keyedvectors.Vocab at 0x7ff942965250>,\n",
              " 'regional': <gensim.models.keyedvectors.Vocab at 0x7ff9429652d0>,\n",
              " 'needed': <gensim.models.keyedvectors.Vocab at 0x7ff942965350>,\n",
              " 'stage': <gensim.models.keyedvectors.Vocab at 0x7ff9429653d0>,\n",
              " 'am': <gensim.models.keyedvectors.Vocab at 0x7ff942965450>,\n",
              " 'doing': <gensim.models.keyedvectors.Vocab at 0x7ff9429654d0>,\n",
              " 'families': <gensim.models.keyedvectors.Vocab at 0x7ff942965550>,\n",
              " 'construction': <gensim.models.keyedvectors.Vocab at 0x7ff9429655d0>,\n",
              " 'various': <gensim.models.keyedvectors.Vocab at 0x7ff942965650>,\n",
              " '1996': <gensim.models.keyedvectors.Vocab at 0x7ff9429656d0>,\n",
              " 'sold': <gensim.models.keyedvectors.Vocab at 0x7ff942965750>,\n",
              " 'independent': <gensim.models.keyedvectors.Vocab at 0x7ff9429657d0>,\n",
              " 'kind': <gensim.models.keyedvectors.Vocab at 0x7ff942965850>,\n",
              " 'airport': <gensim.models.keyedvectors.Vocab at 0x7ff9429658d0>,\n",
              " 'paul': <gensim.models.keyedvectors.Vocab at 0x7ff942965950>,\n",
              " 'judge': <gensim.models.keyedvectors.Vocab at 0x7ff9429659d0>,\n",
              " 'internet': <gensim.models.keyedvectors.Vocab at 0x7ff942965a50>,\n",
              " 'movement': <gensim.models.keyedvectors.Vocab at 0x7ff942965ad0>,\n",
              " 'room': <gensim.models.keyedvectors.Vocab at 0x7ff942965b50>,\n",
              " 'followed': <gensim.models.keyedvectors.Vocab at 0x7ff942965bd0>,\n",
              " 'original': <gensim.models.keyedvectors.Vocab at 0x7ff942965c50>,\n",
              " 'angeles': <gensim.models.keyedvectors.Vocab at 0x7ff942965cd0>,\n",
              " 'italy': <gensim.models.keyedvectors.Vocab at 0x7ff942965d50>,\n",
              " '`': <gensim.models.keyedvectors.Vocab at 0x7ff942965dd0>,\n",
              " 'data': <gensim.models.keyedvectors.Vocab at 0x7ff942965d90>,\n",
              " 'comes': <gensim.models.keyedvectors.Vocab at 0x7ff942965ed0>,\n",
              " 'parties': <gensim.models.keyedvectors.Vocab at 0x7ff942965e90>,\n",
              " 'nothing': <gensim.models.keyedvectors.Vocab at 0x7ff942965fd0>,\n",
              " 'sea': <gensim.models.keyedvectors.Vocab at 0x7ff942965f90>,\n",
              " 'bring': <gensim.models.keyedvectors.Vocab at 0x7ff942968110>,\n",
              " '2012': <gensim.models.keyedvectors.Vocab at 0x7ff9429680d0>,\n",
              " 'annual': <gensim.models.keyedvectors.Vocab at 0x7ff942968210>,\n",
              " 'officer': <gensim.models.keyedvectors.Vocab at 0x7ff9429681d0>,\n",
              " 'beijing': <gensim.models.keyedvectors.Vocab at 0x7ff942968310>,\n",
              " 'present': <gensim.models.keyedvectors.Vocab at 0x7ff9429682d0>,\n",
              " 'remain': <gensim.models.keyedvectors.Vocab at 0x7ff942968410>,\n",
              " 'nato': <gensim.models.keyedvectors.Vocab at 0x7ff9429683d0>,\n",
              " '1999': <gensim.models.keyedvectors.Vocab at 0x7ff942968510>,\n",
              " '22': <gensim.models.keyedvectors.Vocab at 0x7ff9429684d0>,\n",
              " 'remains': <gensim.models.keyedvectors.Vocab at 0x7ff942968610>,\n",
              " 'allow': <gensim.models.keyedvectors.Vocab at 0x7ff9429685d0>,\n",
              " 'florida': <gensim.models.keyedvectors.Vocab at 0x7ff942968710>,\n",
              " 'computer': <gensim.models.keyedvectors.Vocab at 0x7ff9429686d0>,\n",
              " '21': <gensim.models.keyedvectors.Vocab at 0x7ff942968810>,\n",
              " 'contract': <gensim.models.keyedvectors.Vocab at 0x7ff9429687d0>,\n",
              " 'coast': <gensim.models.keyedvectors.Vocab at 0x7ff942968910>,\n",
              " 'created': <gensim.models.keyedvectors.Vocab at 0x7ff9429688d0>,\n",
              " 'demand': <gensim.models.keyedvectors.Vocab at 0x7ff942968a10>,\n",
              " 'operation': <gensim.models.keyedvectors.Vocab at 0x7ff9429689d0>,\n",
              " 'events': <gensim.models.keyedvectors.Vocab at 0x7ff942968b10>,\n",
              " 'islamic': <gensim.models.keyedvectors.Vocab at 0x7ff942968ad0>,\n",
              " 'beat': <gensim.models.keyedvectors.Vocab at 0x7ff942968c10>,\n",
              " 'analysts': <gensim.models.keyedvectors.Vocab at 0x7ff942968bd0>,\n",
              " 'interview': <gensim.models.keyedvectors.Vocab at 0x7ff942968d10>,\n",
              " 'helped': <gensim.models.keyedvectors.Vocab at 0x7ff942968cd0>,\n",
              " 'child': <gensim.models.keyedvectors.Vocab at 0x7ff942968e10>,\n",
              " 'probably': <gensim.models.keyedvectors.Vocab at 0x7ff942968dd0>,\n",
              " 'spent': <gensim.models.keyedvectors.Vocab at 0x7ff942968f10>,\n",
              " 'asian': <gensim.models.keyedvectors.Vocab at 0x7ff942968ed0>,\n",
              " 'effort': <gensim.models.keyedvectors.Vocab at 0x7ff9428aa050>,\n",
              " 'cooperation': <gensim.models.keyedvectors.Vocab at 0x7ff942968fd0>,\n",
              " 'shows': <gensim.models.keyedvectors.Vocab at 0x7ff9428aa150>,\n",
              " 'calls': <gensim.models.keyedvectors.Vocab at 0x7ff9428aa110>,\n",
              " 'investigation': <gensim.models.keyedvectors.Vocab at 0x7ff9428aa250>,\n",
              " 'lives': <gensim.models.keyedvectors.Vocab at 0x7ff9428aa210>,\n",
              " 'video': <gensim.models.keyedvectors.Vocab at 0x7ff9428aa350>,\n",
              " 'yen': <gensim.models.keyedvectors.Vocab at 0x7ff9428aa310>,\n",
              " 'runs': <gensim.models.keyedvectors.Vocab at 0x7ff9428aa450>,\n",
              " 'tried': <gensim.models.keyedvectors.Vocab at 0x7ff9428aa410>,\n",
              " 'bad': <gensim.models.keyedvectors.Vocab at 0x7ff9428aa550>,\n",
              " 'described': <gensim.models.keyedvectors.Vocab at 0x7ff9428aa510>,\n",
              " '1994': <gensim.models.keyedvectors.Vocab at 0x7ff9428aa650>,\n",
              " 'toward': <gensim.models.keyedvectors.Vocab at 0x7ff9428aa610>,\n",
              " 'written': <gensim.models.keyedvectors.Vocab at 0x7ff9428aa750>,\n",
              " 'throughout': <gensim.models.keyedvectors.Vocab at 0x7ff9428aa710>,\n",
              " 'established': <gensim.models.keyedvectors.Vocab at 0x7ff9428aa850>,\n",
              " 'mission': <gensim.models.keyedvectors.Vocab at 0x7ff9428aa810>,\n",
              " 'associated': <gensim.models.keyedvectors.Vocab at 0x7ff9428aa950>,\n",
              " 'buy': <gensim.models.keyedvectors.Vocab at 0x7ff9428aa910>,\n",
              " 'growing': <gensim.models.keyedvectors.Vocab at 0x7ff9428aaa50>,\n",
              " 'green': <gensim.models.keyedvectors.Vocab at 0x7ff9428aaa10>,\n",
              " 'forward': <gensim.models.keyedvectors.Vocab at 0x7ff9428aab50>,\n",
              " 'competition': <gensim.models.keyedvectors.Vocab at 0x7ff9428aab10>,\n",
              " 'poor': <gensim.models.keyedvectors.Vocab at 0x7ff9428aac50>,\n",
              " 'latest': <gensim.models.keyedvectors.Vocab at 0x7ff9428aac10>,\n",
              " 'banks': <gensim.models.keyedvectors.Vocab at 0x7ff9428aad50>,\n",
              " 'question': <gensim.models.keyedvectors.Vocab at 0x7ff9428aad10>,\n",
              " '1997': <gensim.models.keyedvectors.Vocab at 0x7ff9428aae50>,\n",
              " 'prison': <gensim.models.keyedvectors.Vocab at 0x7ff9428aae10>,\n",
              " 'feel': <gensim.models.keyedvectors.Vocab at 0x7ff9428aaf50>,\n",
              " 'attention': <gensim.models.keyedvectors.Vocab at 0x7ff9428aaf10>,\n",
              " ...}"
            ]
          },
          "metadata": {},
          "execution_count": 94
        }
      ]
    },
    {
      "cell_type": "code",
      "metadata": {
        "id": "A3L3OexiDHgL"
      },
      "source": [
        ""
      ],
      "execution_count": null,
      "outputs": []
    },
    {
      "cell_type": "code",
      "metadata": {
        "id": "njFSsOOkDHdN"
      },
      "source": [
        ""
      ],
      "execution_count": null,
      "outputs": []
    },
    {
      "cell_type": "code",
      "metadata": {
        "id": "nCxlaDqwDHYu"
      },
      "source": [
        ""
      ],
      "execution_count": null,
      "outputs": []
    },
    {
      "cell_type": "code",
      "metadata": {
        "id": "gk1V4HBPDHVw"
      },
      "source": [
        ""
      ],
      "execution_count": null,
      "outputs": []
    }
  ]
}