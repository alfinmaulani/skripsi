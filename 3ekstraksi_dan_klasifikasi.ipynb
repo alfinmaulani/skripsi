{
  "nbformat": 4,
  "nbformat_minor": 0,
  "metadata": {
    "colab": {
      "name": "3ekstraksi_dan_klasifikasi.ipynb",
      "provenance": [],
      "mount_file_id": "https://github.com/alfinmaulani/skripsi/blob/master/3ekstraksi_dan_klasifikasi.ipynb",
      "authorship_tag": "ABX9TyO3QB0sWkYMjLECg5mJ1Kpw",
      "include_colab_link": true
    },
    "kernelspec": {
      "name": "python3",
      "display_name": "Python 3"
    },
    "language_info": {
      "name": "python"
    }
  },
  "cells": [
    {
      "cell_type": "markdown",
      "metadata": {
        "id": "view-in-github",
        "colab_type": "text"
      },
      "source": [
        "<a href=\"https://colab.research.google.com/github/alfinmaulani/skripsi/blob/master/3ekstraksi_dan_klasifikasi.ipynb\" target=\"_parent\"><img src=\"https://colab.research.google.com/assets/colab-badge.svg\" alt=\"Open In Colab\"/></a>"
      ]
    },
    {
      "cell_type": "code",
      "metadata": {
        "id": "ppjHrKAMn5M3",
        "colab": {
          "base_uri": "https://localhost:8080/"
        },
        "outputId": "ac7607b8-1b71-435a-8ed0-5eb18f306241"
      },
      "source": [
        "!pip install --upgrade scikit-learn\n",
        "import numpy as np\n",
        "import pandas as pd\n",
        "import io\n",
        "import os\n",
        "from nltk.tokenize import word_tokenize\n",
        "import nltk\n",
        "nltk.download('punkt')\n",
        "import gensim\n",
        "import ast"
      ],
      "execution_count": 1,
      "outputs": [
        {
          "output_type": "stream",
          "name": "stdout",
          "text": [
            "Requirement already satisfied: scikit-learn in /usr/local/lib/python3.7/dist-packages (1.0.1)\n",
            "Requirement already satisfied: numpy>=1.14.6 in /usr/local/lib/python3.7/dist-packages (from scikit-learn) (1.19.5)\n",
            "Requirement already satisfied: scipy>=1.1.0 in /usr/local/lib/python3.7/dist-packages (from scikit-learn) (1.4.1)\n",
            "Requirement already satisfied: threadpoolctl>=2.0.0 in /usr/local/lib/python3.7/dist-packages (from scikit-learn) (3.0.0)\n",
            "Requirement already satisfied: joblib>=0.11 in /usr/local/lib/python3.7/dist-packages (from scikit-learn) (1.1.0)\n",
            "[nltk_data] Downloading package punkt to /root/nltk_data...\n",
            "[nltk_data]   Unzipping tokenizers/punkt.zip.\n"
          ]
        }
      ]
    },
    {
      "cell_type": "code",
      "metadata": {
        "id": "ELuaZrDFBIZn"
      },
      "source": [
        "from google.colab import drive\n",
        "drive.mount('/content/drive')"
      ],
      "execution_count": null,
      "outputs": []
    },
    {
      "cell_type": "markdown",
      "metadata": {
        "id": "JfjGwTOUIGMw"
      },
      "source": [
        "load korpus"
      ]
    },
    {
      "cell_type": "code",
      "metadata": {
        "id": "GXFu7i-AIGCe"
      },
      "source": [
        "url1 = '/content/drive/MyDrive/dataisear(preputama).csv'\n",
        "url2 = '/content/drive/MyDrive/dataisear(preptambah).csv'\n",
        "df = pd.read_csv(url2)"
      ],
      "execution_count": 2,
      "outputs": []
    },
    {
      "cell_type": "code",
      "metadata": {
        "id": "Rbg31w7OWstj"
      },
      "source": [
        "temp=[]\n",
        "for senten in df.dokumen:\n",
        "  temp.append(ast.literal_eval(senten))\n",
        "df.dokumen=temp"
      ],
      "execution_count": 3,
      "outputs": []
    },
    {
      "cell_type": "markdown",
      "metadata": {
        "id": "YSsV7F8iH6Fc"
      },
      "source": [
        "pilih model"
      ]
    },
    {
      "cell_type": "code",
      "metadata": {
        "id": "3YDHk0dTHK3I"
      },
      "source": [
        "pakai_model=1"
      ],
      "execution_count": 4,
      "outputs": []
    },
    {
      "cell_type": "markdown",
      "metadata": {
        "id": "D7KNPMXgKuTh"
      },
      "source": [
        "load model"
      ]
    },
    {
      "cell_type": "code",
      "metadata": {
        "id": "sk1ui5z-HgVp"
      },
      "source": [
        "if pakai_model == 1:#load model word2vec\n",
        "  from gensim.models import word2vec\n",
        "  model = gensim.models.word2vec.Word2Vec.load('/content/drive/MyDrive/korpusblognewstweet(preptambah).w2v')\n",
        "\n",
        "elif pakai_model == 2:#load model glove\n",
        "  !pip install glove-python-binary\n",
        "  from glove import Glove\n",
        "  from glove import Corpus\n",
        "  model=Glove.load('/content/drive/MyDrive/korpusblognewstweet(preptambah).glove')"
      ],
      "execution_count": 5,
      "outputs": []
    },
    {
      "cell_type": "markdown",
      "metadata": {
        "id": "B3U7TJuRJdBO"
      },
      "source": [
        "cek model"
      ]
    },
    {
      "cell_type": "code",
      "metadata": {
        "id": "P2Q0Z6Y9Og7a",
        "colab": {
          "base_uri": "https://localhost:8080/"
        },
        "outputId": "eb31abcf-e9db-42d9-81ac-121292f9f9b7"
      },
      "source": [
        "if pakai_model == 1:\n",
        "  print(model.wv.vectors.shape)\n",
        "elif pakai_model == 2:\n",
        "  print(model.word_vectors.shape)"
      ],
      "execution_count": 9,
      "outputs": [
        {
          "output_type": "stream",
          "name": "stdout",
          "text": [
            "(896991, 100)\n"
          ]
        }
      ]
    },
    {
      "cell_type": "code",
      "metadata": {
        "id": "xb2GLdHHK0jY"
      },
      "source": [
        "if pakai_model == 1:\n",
        "  print(model.wv[\"moment\"])\n",
        "elif pakai_model == 2:\n",
        "  print(model.word_vectors[model.dictionary['moment']])"
      ],
      "execution_count": null,
      "outputs": []
    },
    {
      "cell_type": "markdown",
      "metadata": {
        "id": "Poh0hOslBSOE"
      },
      "source": [
        "average base ekstraksi fitur"
      ]
    },
    {
      "cell_type": "code",
      "metadata": {
        "id": "HugbL2uCLlIq"
      },
      "source": [
        "import array\n",
        "ekstrak=[]\n",
        "temp=array.array('i',(0,)*100)\n",
        "\n",
        "if pakai_model == 1:\n",
        "  for senten in df.dokumen:\n",
        "    for word in senten:\n",
        "      temp=np.add(temp,model.wv[word])\n",
        "    temp=temp/len(senten)\n",
        "    ekstrak.append(temp)\n",
        "\n",
        "elif pakai_model == 2:\n",
        "  for senten in df.dokumen:\n",
        "    for word in senten:\n",
        "      temp=np.add(temp,model.word_vectors[model.dictionary[word]])\n",
        "    temp=temp/len(senten)\n",
        "    ekstrak.append(temp)\n",
        "\n",
        "has_vec=ekstrak"
      ],
      "execution_count": 6,
      "outputs": []
    },
    {
      "cell_type": "code",
      "metadata": {
        "id": "Z-n3bpfF16vJ",
        "colab": {
          "base_uri": "https://localhost:8080/"
        },
        "outputId": "f8b7f903-8705-4eff-b51d-a4d24065542e"
      },
      "source": [
        "X=has_vec\n",
        "y=df.emosi\n",
        "print(np.shape(X))\n",
        "print(np.shape(y))\n",
        "# print(X)\n",
        "# print(y)"
      ],
      "execution_count": 7,
      "outputs": [
        {
          "output_type": "stream",
          "name": "stdout",
          "text": [
            "(5395, 100)\n",
            "(5395,)\n"
          ]
        }
      ]
    },
    {
      "cell_type": "markdown",
      "metadata": {
        "id": "y-VBfpD9PmVe"
      },
      "source": [
        "klasifikasi svm"
      ]
    },
    {
      "cell_type": "code",
      "metadata": {
        "id": "xba_npk4MTuy"
      },
      "source": [
        "from sklearn import svm\n",
        "from sklearn.metrics import confusion_matrix\n",
        "from sklearn.metrics import accuracy_score\n",
        "from sklearn.model_selection import cross_val_predict\n",
        "import matplotlib.pyplot as plt\n",
        "from sklearn.metrics import ConfusionMatrixDisplay\n",
        "from sklearn.metrics import precision_recall_fscore_support"
      ],
      "execution_count": 8,
      "outputs": []
    },
    {
      "cell_type": "code",
      "metadata": {
        "id": "EqFIpy1m-Nly"
      },
      "source": [
        "def klasifikasi(y_pred):\n",
        "  ConfusionMatrixDisplay.from_predictions(y, y_pred)\n",
        "  plt.show()\n",
        "  print(accuracy_score(y, y_pred))\n",
        "  print(precision_recall_fscore_support(y, y_pred, average='macro'))"
      ],
      "execution_count": 9,
      "outputs": []
    },
    {
      "cell_type": "code",
      "metadata": {
        "id": "ENBn6uuK1TmE",
        "colab": {
          "base_uri": "https://localhost:8080/",
          "height": 316
        },
        "outputId": "9784974c-9154-4c21-f50a-36b811e3de96"
      },
      "source": [
        "clf = svm.SVC(kernel='poly', decision_function_shape='ovr')\n",
        "y_pred = cross_val_predict(clf, X, y, cv=10)\n",
        "klasifikasi(y_pred)"
      ],
      "execution_count": 10,
      "outputs": [
        {
          "output_type": "display_data",
          "data": {
            "image/png": "[encoded data removed]",
            "text/plain": [
              "<Figure size 432x288 with 2 Axes>"
            ]
          },
          "metadata": {
            "needs_background": "light"
          }
        },
        {
          "output_type": "stream",
          "name": "stdout",
          "text": [
            "0.6042632066728453\n",
            "(0.6096333683197119, 0.6038157600955542, 0.6044291923391855, None)\n"
          ]
        }
      ]
    },
    {
      "cell_type": "code",
      "metadata": {
        "id": "3zxYveF-1Tgt",
        "colab": {
          "base_uri": "https://localhost:8080/",
          "height": 320
        },
        "outputId": "eed092b9-b52e-40e8-dd98-8a5d72b25141"
      },
      "source": [
        "clf = svm.SVC(kernel='rbf', decision_function_shape='ovr')\n",
        "y_pred = cross_val_predict(clf, X, y, cv=10)\n",
        "klasifikasi(y_pred)"
      ],
      "execution_count": 11,
      "outputs": [
        {
          "output_type": "display_data",
          "data": {
            "image/png": "[encoded data removed]",
            "text/plain": [
              "<Figure size 432x288 with 2 Axes>"
            ]
          },
          "metadata": {
            "needs_background": "light"
          }
        },
        {
          "output_type": "stream",
          "name": "stdout",
          "text": [
            "0.6048192771084338\n",
            "(0.607040224244084, 0.6043254425331418, 0.6037736947775468, None)\n"
          ]
        }
      ]
    },
    {
      "cell_type": "code",
      "metadata": {
        "id": "Q5ApUnrpQ-1C",
        "colab": {
          "base_uri": "https://localhost:8080/",
          "height": 316
        },
        "outputId": "670a0231-f5c2-4fd7-8052-9d3537c7d22e"
      },
      "source": [
        "clf = svm.SVC(kernel='linear', decision_function_shape='ovr')\n",
        "y_pred = cross_val_predict(clf, X, y, cv=10)\n",
        "klasifikasi(y_pred)"
      ],
      "execution_count": 12,
      "outputs": [
        {
          "output_type": "display_data",
          "data": {
            "image/png": "[encoded data removed]",
            "text/plain": [
              "<Figure size 432x288 with 2 Axes>"
            ]
          },
          "metadata": {
            "needs_background": "light"
          }
        },
        {
          "output_type": "stream",
          "name": "stdout",
          "text": [
            "0.6083410565338276\n",
            "(0.6088007521818323, 0.6079631849091175, 0.6076638401636976, None)\n"
          ]
        }
      ]
    }
  ]
}