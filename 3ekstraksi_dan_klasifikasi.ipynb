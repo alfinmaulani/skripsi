{
  "nbformat": 4,
  "nbformat_minor": 0,
  "metadata": {
    "colab": {
      "name": "3ekstraksi_dan_klasifikasi.ipynb",
      "provenance": [],
      "mount_file_id": "https://github.com/alfinmaulani/skripsi/blob/master/3ekstraksi_dan_klasifikasi.ipynb",
      "authorship_tag": "ABX9TyMxVhZ3SLyQxmRa9CFqRPna",
      "include_colab_link": true
    },
    "kernelspec": {
      "name": "python3",
      "display_name": "Python 3"
    },
    "language_info": {
      "name": "python"
    }
  },
  "cells": [
    {
      "cell_type": "markdown",
      "metadata": {
        "id": "view-in-github",
        "colab_type": "text"
      },
      "source": [
        "<a href=\"https://colab.research.google.com/github/alfinmaulani/skripsi/blob/master/3ekstraksi_dan_klasifikasi.ipynb\" target=\"_parent\"><img src=\"https://colab.research.google.com/assets/colab-badge.svg\" alt=\"Open In Colab\"/></a>"
      ]
    },
    {
      "cell_type": "code",
      "metadata": {
        "id": "ppjHrKAMn5M3",
        "colab": {
          "base_uri": "https://localhost:8080/"
        },
        "outputId": "6c6b50c9-66bd-4ae8-f2f3-4476578eede4"
      },
      "source": [
        "!pip install --upgrade scikit-learn\n",
        "import numpy as np\n",
        "import pandas as pd\n",
        "import io\n",
        "import os\n",
        "from nltk.tokenize import word_tokenize\n",
        "import nltk\n",
        "nltk.download('punkt')\n",
        "import gensim\n",
        "import ast"
      ],
      "execution_count": 4,
      "outputs": [
        {
          "output_type": "stream",
          "name": "stdout",
          "text": [
            "Requirement already satisfied: scikit-learn in /usr/local/lib/python3.7/dist-packages (1.0.1)\n",
            "Requirement already satisfied: threadpoolctl>=2.0.0 in /usr/local/lib/python3.7/dist-packages (from scikit-learn) (3.0.0)\n",
            "Requirement already satisfied: numpy>=1.14.6 in /usr/local/lib/python3.7/dist-packages (from scikit-learn) (1.19.5)\n",
            "Requirement already satisfied: joblib>=0.11 in /usr/local/lib/python3.7/dist-packages (from scikit-learn) (1.1.0)\n",
            "Requirement already satisfied: scipy>=1.1.0 in /usr/local/lib/python3.7/dist-packages (from scikit-learn) (1.4.1)\n",
            "[nltk_data] Downloading package punkt to /root/nltk_data...\n",
            "[nltk_data]   Package punkt is already up-to-date!\n"
          ]
        }
      ]
    },
    {
      "cell_type": "code",
      "metadata": {
        "id": "ELuaZrDFBIZn"
      },
      "source": [
        "from google.colab import drive\n",
        "drive.mount('/content/drive')"
      ],
      "execution_count": null,
      "outputs": []
    },
    {
      "cell_type": "markdown",
      "metadata": {
        "id": "JfjGwTOUIGMw"
      },
      "source": [
        "load korpus"
      ]
    },
    {
      "cell_type": "code",
      "metadata": {
        "id": "GXFu7i-AIGCe"
      },
      "source": [
        "url1 = '/content/drive/MyDrive/dataisear(preputama).csv'\n",
        "url2 = '/content/drive/MyDrive/dataisear(preptambah).csv'\n",
        "df = pd.read_csv(url1)"
      ],
      "execution_count": 2,
      "outputs": []
    },
    {
      "cell_type": "code",
      "metadata": {
        "id": "Rbg31w7OWstj"
      },
      "source": [
        "temp=[]\n",
        "for senten in df.dokumen:\n",
        "  temp.append(ast.literal_eval(senten))\n",
        "df.dokumen=temp"
      ],
      "execution_count": 5,
      "outputs": []
    },
    {
      "cell_type": "markdown",
      "metadata": {
        "id": "YSsV7F8iH6Fc"
      },
      "source": [
        "pilih model"
      ]
    },
    {
      "cell_type": "code",
      "metadata": {
        "id": "3YDHk0dTHK3I"
      },
      "source": [
        "pakai_model=1"
      ],
      "execution_count": 7,
      "outputs": []
    },
    {
      "cell_type": "markdown",
      "metadata": {
        "id": "D7KNPMXgKuTh"
      },
      "source": [
        "load model"
      ]
    },
    {
      "cell_type": "code",
      "metadata": {
        "id": "sk1ui5z-HgVp"
      },
      "source": [
        "if pakai_model == 1:#load model word2vec\n",
        "  from gensim.models import word2vec\n",
        "  model = gensim.models.word2vec.Word2Vec.load('/content/drive/MyDrive/korpuswiki600M(preputama).w2v')\n",
        "elif pakai_model == 2:#load model glove\n",
        "  !pip install glove-python-binary\n",
        "  from glove import Glove\n",
        "  from glove import Corpus\n",
        "  model=Glove.load('/content/drive/MyDrive/glove.model')"
      ],
      "execution_count": 8,
      "outputs": []
    },
    {
      "cell_type": "markdown",
      "metadata": {
        "id": "B3U7TJuRJdBO"
      },
      "source": [
        "cek model word2vec"
      ]
    },
    {
      "cell_type": "code",
      "metadata": {
        "id": "P2Q0Z6Y9Og7a",
        "colab": {
          "base_uri": "https://localhost:8080/"
        },
        "outputId": "f10785bd-ee9b-4aeb-ba43-1b328afc7e8f"
      },
      "source": [
        "model.wv.vectors.shape"
      ],
      "execution_count": 9,
      "outputs": [
        {
          "output_type": "execute_result",
          "data": {
            "text/plain": [
              "(1263138, 100)"
            ]
          },
          "metadata": {},
          "execution_count": 9
        }
      ]
    },
    {
      "cell_type": "code",
      "metadata": {
        "id": "xb2GLdHHK0jY"
      },
      "source": [
        "model.wv[\"moment\"]"
      ],
      "execution_count": null,
      "outputs": []
    },
    {
      "cell_type": "markdown",
      "metadata": {
        "id": "5Pha9pFZK0cV"
      },
      "source": [
        "cek model glove"
      ]
    },
    {
      "cell_type": "code",
      "metadata": {
        "id": "y0mJOFsBKKPQ",
        "colab": {
          "base_uri": "https://localhost:8080/"
        },
        "outputId": "52179e9f-bb5d-4303-c309-fbf250c7be10"
      },
      "source": [
        "model.word_vectors.shape"
      ],
      "execution_count": null,
      "outputs": [
        {
          "output_type": "execute_result",
          "data": {
            "text/plain": [
              "array([[-1.38042110e-01, -7.22731061e-02,  8.60750999e-02, ...,\n",
              "         2.08342204e-01, -1.09346167e-03,  2.49755065e-01],\n",
              "       [-4.86669324e-02, -3.01531564e-02,  2.96433428e-02, ...,\n",
              "         7.29205770e-02,  1.32343629e-03,  8.70889215e-02],\n",
              "       [-2.10199762e-01, -7.48029439e-02,  1.29497352e-01, ...,\n",
              "         2.79371546e-01, -3.23691685e-02,  3.27171828e-01],\n",
              "       ...,\n",
              "       [ 8.08056025e-03, -6.31030540e-04, -3.63506564e-03, ...,\n",
              "        -1.06357003e-02,  8.07690243e-05, -1.00125495e-02],\n",
              "       [ 1.02141356e-02,  2.92651032e-03, -7.15933501e-03, ...,\n",
              "        -1.50295605e-02, -3.31608783e-03, -1.47873352e-02],\n",
              "       [-2.46649635e-04, -3.15596556e-03, -5.07804675e-03, ...,\n",
              "        -1.69652998e-03,  4.01892947e-03, -2.10104997e-03]])"
            ]
          },
          "metadata": {},
          "execution_count": 17
        }
      ]
    },
    {
      "cell_type": "code",
      "metadata": {
        "colab": {
          "base_uri": "https://localhost:8080/"
        },
        "id": "uDA37_nPi-N_",
        "outputId": "3f35a6d8-bdba-4ef6-8b2b-545c205fdcfa"
      },
      "source": [
        "model.word_vectors[glove.dictionary['moment']]"
      ],
      "execution_count": null,
      "outputs": [
        {
          "output_type": "execute_result",
          "data": {
            "text/plain": [
              "(9352, 100)"
            ]
          },
          "metadata": {},
          "execution_count": 18
        }
      ]
    },
    {
      "cell_type": "markdown",
      "metadata": {
        "id": "Poh0hOslBSOE"
      },
      "source": [
        "average base ekstraksi fitur"
      ]
    },
    {
      "cell_type": "code",
      "metadata": {
        "id": "HugbL2uCLlIq"
      },
      "source": [
        "import array\n",
        "ekstrak=[]\n",
        "temp=array.array('i',(0,)*100)\n",
        "\n",
        "if pakai_model == 1:\n",
        "  for senten in df.dokumen:\n",
        "    for word in senten:\n",
        "      temp=np.add(temp,model.wv[word])\n",
        "    temp=temp/len(senten)\n",
        "    ekstrak.append(temp)\n",
        "\n",
        "elif pakai_model == 2:\n",
        "  for senten in sentences:\n",
        "    for word in senten:\n",
        "      temp=np.add(temp,model.word_vectors[model.dictionary[word]])\n",
        "    temp=temp/len(senten)\n",
        "    ekstrak.append(temp)\n",
        "\n",
        "has_vec=ekstrak"
      ],
      "execution_count": 11,
      "outputs": []
    },
    {
      "cell_type": "code",
      "metadata": {
        "id": "Z-n3bpfF16vJ",
        "colab": {
          "base_uri": "https://localhost:8080/"
        },
        "outputId": "e513f99a-75d4-46f0-a760-752993d589d3"
      },
      "source": [
        "X=has_vec\n",
        "y=df.emosi\n",
        "print(np.shape(X))\n",
        "print(np.shape(y))\n",
        "# print(X)\n",
        "# print(y)"
      ],
      "execution_count": 12,
      "outputs": [
        {
          "output_type": "stream",
          "name": "stdout",
          "text": [
            "(5395, 100)\n",
            "(5395,)\n"
          ]
        }
      ]
    },
    {
      "cell_type": "markdown",
      "metadata": {
        "id": "y-VBfpD9PmVe"
      },
      "source": [
        "klasifikasi svm"
      ]
    },
    {
      "cell_type": "code",
      "metadata": {
        "id": "xba_npk4MTuy"
      },
      "source": [
        "from sklearn import svm\n",
        "from sklearn.metrics import confusion_matrix\n",
        "from sklearn.metrics import accuracy_score\n",
        "from sklearn.model_selection import cross_val_predict\n",
        "import matplotlib.pyplot as plt\n",
        "from sklearn.metrics import ConfusionMatrixDisplay\n",
        "from sklearn.metrics import precision_recall_fscore_support"
      ],
      "execution_count": 13,
      "outputs": []
    },
    {
      "cell_type": "code",
      "metadata": {
        "id": "EqFIpy1m-Nly"
      },
      "source": [
        "def klasifikasi(krnl):\n",
        "  clf = svm.SVC(kernel=krnl, decision_function_shape='ovr')\n",
        "  y_pred = cross_val_predict(clf, X, y, cv=10)\n",
        "  ConfusionMatrixDisplay.from_predictions(y, y_pred)\n",
        "  plt.show()\n",
        "  print(accuracy_score(y, y_pred))\n",
        "  print(precision_recall_fscore_support(y, y_pred, average='macro'))"
      ],
      "execution_count": 14,
      "outputs": []
    },
    {
      "cell_type": "code",
      "metadata": {
        "id": "ENBn6uuK1TmE",
        "colab": {
          "base_uri": "https://localhost:8080/",
          "height": 316
        },
        "outputId": "ee1133f7-4ed0-407e-8f7c-acc7ad2cf3ff"
      },
      "source": [
        "klasifikasi('poly')"
      ],
      "execution_count": 15,
      "outputs": [
        {
          "output_type": "display_data",
          "data": {
            "image/png": "[encoded data removed]",
            "text/plain": [
              "<Figure size 432x288 with 2 Axes>"
            ]
          },
          "metadata": {
            "needs_background": "light"
          }
        },
        {
          "output_type": "stream",
          "name": "stdout",
          "text": [
            "0.5734939759036145\n",
            "(0.5818176405825259, 0.5730452600500087, 0.5738229990318399, None)\n"
          ]
        }
      ]
    },
    {
      "cell_type": "code",
      "metadata": {
        "id": "3zxYveF-1Tgt",
        "colab": {
          "base_uri": "https://localhost:8080/",
          "height": 316
        },
        "outputId": "cb1dcaee-da1e-42c6-eab4-5d179c7ed78a"
      },
      "source": [
        "klasifikasi('rbf')"
      ],
      "execution_count": 16,
      "outputs": [
        {
          "output_type": "display_data",
          "data": {
            "image/png": "[encoded data removed]",
            "text/plain": [
              "<Figure size 432x288 with 2 Axes>"
            ]
          },
          "metadata": {
            "needs_background": "light"
          }
        },
        {
          "output_type": "stream",
          "name": "stdout",
          "text": [
            "0.5684893419833179\n",
            "(0.5766891164115153, 0.5679917447483561, 0.5683661849628768, None)\n"
          ]
        }
      ]
    },
    {
      "cell_type": "code",
      "metadata": {
        "id": "Q5ApUnrpQ-1C",
        "colab": {
          "base_uri": "https://localhost:8080/",
          "height": 316
        },
        "outputId": "7f99801e-a439-4f35-f7e9-0b1445305adf"
      },
      "source": [
        "klasifikasi('linear')"
      ],
      "execution_count": 17,
      "outputs": [
        {
          "output_type": "display_data",
          "data": {
            "image/png": "[encoded data removed]",
            "text/plain": [
              "<Figure size 432x288 with 2 Axes>"
            ]
          },
          "metadata": {
            "needs_background": "light"
          }
        },
        {
          "output_type": "stream",
          "name": "stdout",
          "text": [
            "0.5855421686746988\n",
            "(0.5885795695598431, 0.5850764847599113, 0.5851992418504869, None)\n"
          ]
        }
      ]
    }
  ]
}