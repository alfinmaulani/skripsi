{
  "nbformat": 4,
  "nbformat_minor": 0,
  "metadata": {
    "colab": {
      "name": "3ekstraksi_dan_klasifikasi.ipynb",
      "provenance": [],
      "mount_file_id": "https://github.com/alfinmaulani/skripsi/blob/master/3ekstraksi_dan_klasifikasi.ipynb",
      "authorship_tag": "ABX9TyMKgg17nYQR/jyXDkA6TAoL",
      "include_colab_link": true
    },
    "kernelspec": {
      "name": "python3",
      "display_name": "Python 3"
    },
    "language_info": {
      "name": "python"
    }
  },
  "cells": [
    {
      "cell_type": "markdown",
      "metadata": {
        "id": "view-in-github",
        "colab_type": "text"
      },
      "source": [
        "<a href=\"https://colab.research.google.com/github/alfinmaulani/skripsi/blob/master/3ekstraksi_dan_klasifikasi.ipynb\" target=\"_parent\"><img src=\"https://colab.research.google.com/assets/colab-badge.svg\" alt=\"Open In Colab\"/></a>"
      ]
    },
    {
      "cell_type": "code",
      "metadata": {
        "id": "ppjHrKAMn5M3",
        "colab": {
          "base_uri": "https://localhost:8080/"
        },
        "outputId": "3f3acad2-fb7c-493a-9ded-5fa0322244f6"
      },
      "source": [
        "!pip install --upgrade scikit-learn\n",
        "import numpy as np\n",
        "import pandas as pd\n",
        "import io\n",
        "import os\n",
        "from nltk.tokenize import word_tokenize\n",
        "import nltk\n",
        "nltk.download('punkt')\n",
        "import gensim\n",
        "import ast"
      ],
      "execution_count": 1,
      "outputs": [
        {
          "output_type": "stream",
          "name": "stdout",
          "text": [
            "Requirement already satisfied: scikit-learn in /usr/local/lib/python3.7/dist-packages (1.0.1)\n",
            "Requirement already satisfied: threadpoolctl>=2.0.0 in /usr/local/lib/python3.7/dist-packages (from scikit-learn) (3.0.0)\n",
            "Requirement already satisfied: joblib>=0.11 in /usr/local/lib/python3.7/dist-packages (from scikit-learn) (1.1.0)\n",
            "Requirement already satisfied: scipy>=1.1.0 in /usr/local/lib/python3.7/dist-packages (from scikit-learn) (1.4.1)\n",
            "Requirement already satisfied: numpy>=1.14.6 in /usr/local/lib/python3.7/dist-packages (from scikit-learn) (1.19.5)\n",
            "[nltk_data] Downloading package punkt to /root/nltk_data...\n",
            "[nltk_data]   Unzipping tokenizers/punkt.zip.\n"
          ]
        }
      ]
    },
    {
      "cell_type": "code",
      "metadata": {
        "id": "ELuaZrDFBIZn"
      },
      "source": [
        "from google.colab import drive\n",
        "drive.mount('/content/drive')"
      ],
      "execution_count": null,
      "outputs": []
    },
    {
      "cell_type": "markdown",
      "metadata": {
        "id": "JfjGwTOUIGMw"
      },
      "source": [
        "load korpus"
      ]
    },
    {
      "cell_type": "code",
      "metadata": {
        "id": "GXFu7i-AIGCe"
      },
      "source": [
        "url1 = '/content/drive/MyDrive/dataisear(preputama).csv'\n",
        "url2 = '/content/drive/MyDrive/dataisear(preptambah).csv'\n",
        "df = pd.read_csv(url1)"
      ],
      "execution_count": 2,
      "outputs": []
    },
    {
      "cell_type": "code",
      "metadata": {
        "id": "Rbg31w7OWstj"
      },
      "source": [
        "temp=[]\n",
        "for senten in df.dokumen:\n",
        "  temp.append(ast.literal_eval(senten))\n",
        "df.dokumen=temp"
      ],
      "execution_count": 3,
      "outputs": []
    },
    {
      "cell_type": "markdown",
      "metadata": {
        "id": "YSsV7F8iH6Fc"
      },
      "source": [
        "pilih model"
      ]
    },
    {
      "cell_type": "code",
      "metadata": {
        "id": "3YDHk0dTHK3I"
      },
      "source": [
        "pakai_model=2"
      ],
      "execution_count": 4,
      "outputs": []
    },
    {
      "cell_type": "markdown",
      "metadata": {
        "id": "D7KNPMXgKuTh"
      },
      "source": [
        "load model"
      ]
    },
    {
      "cell_type": "code",
      "metadata": {
        "id": "sk1ui5z-HgVp",
        "outputId": "75b8eae6-3ef9-4321-8693-45be734093dd",
        "colab": {
          "base_uri": "https://localhost:8080/"
        }
      },
      "source": [
        "if pakai_model == 1:#load model word2vec\n",
        "  from gensim.models import word2vec\n",
        "  model = gensim.models.word2vec.Word2Vec.load('/content/drive/MyDrive/korpuswiki600M(preputama).w2v')\n",
        "elif pakai_model == 2:#load model glove\n",
        "  !pip install glove-python-binary\n",
        "  from glove import Glove\n",
        "  from glove import Corpus\n",
        "  model=Glove.load('/content/drive/MyDrive/korpuswiki600M(preputama).glove')"
      ],
      "execution_count": 5,
      "outputs": [
        {
          "output_type": "stream",
          "name": "stdout",
          "text": [
            "Collecting glove-python-binary\n",
            "  Downloading glove_python_binary-0.2.0-cp37-cp37m-manylinux1_x86_64.whl (948 kB)\n",
            "\u001b[?25l\r\u001b[K     |▍                               | 10 kB 16.7 MB/s eta 0:00:01\r\u001b[K     |▊                               | 20 kB 19.7 MB/s eta 0:00:01\r\u001b[K     |█                               | 30 kB 21.6 MB/s eta 0:00:01\r\u001b[K     |█▍                              | 40 kB 23.9 MB/s eta 0:00:01\r\u001b[K     |█▊                              | 51 kB 25.0 MB/s eta 0:00:01\r\u001b[K     |██                              | 61 kB 25.1 MB/s eta 0:00:01\r\u001b[K     |██▍                             | 71 kB 24.9 MB/s eta 0:00:01\r\u001b[K     |██▊                             | 81 kB 25.0 MB/s eta 0:00:01\r\u001b[K     |███                             | 92 kB 25.6 MB/s eta 0:00:01\r\u001b[K     |███▌                            | 102 kB 26.8 MB/s eta 0:00:01\r\u001b[K     |███▉                            | 112 kB 26.8 MB/s eta 0:00:01\r\u001b[K     |████▏                           | 122 kB 26.8 MB/s eta 0:00:01\r\u001b[K     |████▌                           | 133 kB 26.8 MB/s eta 0:00:01\r\u001b[K     |████▉                           | 143 kB 26.8 MB/s eta 0:00:01\r\u001b[K     |█████▏                          | 153 kB 26.8 MB/s eta 0:00:01\r\u001b[K     |█████▌                          | 163 kB 26.8 MB/s eta 0:00:01\r\u001b[K     |█████▉                          | 174 kB 26.8 MB/s eta 0:00:01\r\u001b[K     |██████▏                         | 184 kB 26.8 MB/s eta 0:00:01\r\u001b[K     |██████▋                         | 194 kB 26.8 MB/s eta 0:00:01\r\u001b[K     |███████                         | 204 kB 26.8 MB/s eta 0:00:01\r\u001b[K     |███████▎                        | 215 kB 26.8 MB/s eta 0:00:01\r\u001b[K     |███████▋                        | 225 kB 26.8 MB/s eta 0:00:01\r\u001b[K     |████████                        | 235 kB 26.8 MB/s eta 0:00:01\r\u001b[K     |████████▎                       | 245 kB 26.8 MB/s eta 0:00:01\r\u001b[K     |████████▋                       | 256 kB 26.8 MB/s eta 0:00:01\r\u001b[K     |█████████                       | 266 kB 26.8 MB/s eta 0:00:01\r\u001b[K     |█████████▎                      | 276 kB 26.8 MB/s eta 0:00:01\r\u001b[K     |█████████▊                      | 286 kB 26.8 MB/s eta 0:00:01\r\u001b[K     |██████████                      | 296 kB 26.8 MB/s eta 0:00:01\r\u001b[K     |██████████▍                     | 307 kB 26.8 MB/s eta 0:00:01\r\u001b[K     |██████████▊                     | 317 kB 26.8 MB/s eta 0:00:01\r\u001b[K     |███████████                     | 327 kB 26.8 MB/s eta 0:00:01\r\u001b[K     |███████████▍                    | 337 kB 26.8 MB/s eta 0:00:01\r\u001b[K     |███████████▊                    | 348 kB 26.8 MB/s eta 0:00:01\r\u001b[K     |████████████                    | 358 kB 26.8 MB/s eta 0:00:01\r\u001b[K     |████████████▍                   | 368 kB 26.8 MB/s eta 0:00:01\r\u001b[K     |████████████▊                   | 378 kB 26.8 MB/s eta 0:00:01\r\u001b[K     |█████████████▏                  | 389 kB 26.8 MB/s eta 0:00:01\r\u001b[K     |█████████████▌                  | 399 kB 26.8 MB/s eta 0:00:01\r\u001b[K     |█████████████▉                  | 409 kB 26.8 MB/s eta 0:00:01\r\u001b[K     |██████████████▏                 | 419 kB 26.8 MB/s eta 0:00:01\r\u001b[K     |██████████████▌                 | 430 kB 26.8 MB/s eta 0:00:01\r\u001b[K     |██████████████▉                 | 440 kB 26.8 MB/s eta 0:00:01\r\u001b[K     |███████████████▏                | 450 kB 26.8 MB/s eta 0:00:01\r\u001b[K     |███████████████▌                | 460 kB 26.8 MB/s eta 0:00:01\r\u001b[K     |███████████████▉                | 471 kB 26.8 MB/s eta 0:00:01\r\u001b[K     |████████████████▎               | 481 kB 26.8 MB/s eta 0:00:01\r\u001b[K     |████████████████▋               | 491 kB 26.8 MB/s eta 0:00:01\r\u001b[K     |█████████████████               | 501 kB 26.8 MB/s eta 0:00:01\r\u001b[K     |█████████████████▎              | 512 kB 26.8 MB/s eta 0:00:01\r\u001b[K     |█████████████████▋              | 522 kB 26.8 MB/s eta 0:00:01\r\u001b[K     |██████████████████              | 532 kB 26.8 MB/s eta 0:00:01\r\u001b[K     |██████████████████▎             | 542 kB 26.8 MB/s eta 0:00:01\r\u001b[K     |██████████████████▋             | 552 kB 26.8 MB/s eta 0:00:01\r\u001b[K     |███████████████████             | 563 kB 26.8 MB/s eta 0:00:01\r\u001b[K     |███████████████████▍            | 573 kB 26.8 MB/s eta 0:00:01\r\u001b[K     |███████████████████▊            | 583 kB 26.8 MB/s eta 0:00:01\r\u001b[K     |████████████████████            | 593 kB 26.8 MB/s eta 0:00:01\r\u001b[K     |████████████████████▍           | 604 kB 26.8 MB/s eta 0:00:01\r\u001b[K     |████████████████████▊           | 614 kB 26.8 MB/s eta 0:00:01\r\u001b[K     |█████████████████████           | 624 kB 26.8 MB/s eta 0:00:01\r\u001b[K     |█████████████████████▍          | 634 kB 26.8 MB/s eta 0:00:01\r\u001b[K     |█████████████████████▊          | 645 kB 26.8 MB/s eta 0:00:01\r\u001b[K     |██████████████████████          | 655 kB 26.8 MB/s eta 0:00:01\r\u001b[K     |██████████████████████▌         | 665 kB 26.8 MB/s eta 0:00:01\r\u001b[K     |██████████████████████▉         | 675 kB 26.8 MB/s eta 0:00:01\r\u001b[K     |███████████████████████▏        | 686 kB 26.8 MB/s eta 0:00:01\r\u001b[K     |███████████████████████▌        | 696 kB 26.8 MB/s eta 0:00:01\r\u001b[K     |███████████████████████▉        | 706 kB 26.8 MB/s eta 0:00:01\r\u001b[K     |████████████████████████▏       | 716 kB 26.8 MB/s eta 0:00:01\r\u001b[K     |████████████████████████▌       | 727 kB 26.8 MB/s eta 0:00:01\r\u001b[K     |████████████████████████▉       | 737 kB 26.8 MB/s eta 0:00:01\r\u001b[K     |█████████████████████████▏      | 747 kB 26.8 MB/s eta 0:00:01\r\u001b[K     |█████████████████████████▌      | 757 kB 26.8 MB/s eta 0:00:01\r\u001b[K     |██████████████████████████      | 768 kB 26.8 MB/s eta 0:00:01\r\u001b[K     |██████████████████████████▎     | 778 kB 26.8 MB/s eta 0:00:01\r\u001b[K     |██████████████████████████▋     | 788 kB 26.8 MB/s eta 0:00:01\r\u001b[K     |███████████████████████████     | 798 kB 26.8 MB/s eta 0:00:01\r\u001b[K     |███████████████████████████▎    | 808 kB 26.8 MB/s eta 0:00:01\r\u001b[K     |███████████████████████████▋    | 819 kB 26.8 MB/s eta 0:00:01\r\u001b[K     |████████████████████████████    | 829 kB 26.8 MB/s eta 0:00:01\r\u001b[K     |████████████████████████████▎   | 839 kB 26.8 MB/s eta 0:00:01\r\u001b[K     |████████████████████████████▋   | 849 kB 26.8 MB/s eta 0:00:01\r\u001b[K     |█████████████████████████████   | 860 kB 26.8 MB/s eta 0:00:01\r\u001b[K     |█████████████████████████████▍  | 870 kB 26.8 MB/s eta 0:00:01\r\u001b[K     |█████████████████████████████▊  | 880 kB 26.8 MB/s eta 0:00:01\r\u001b[K     |██████████████████████████████  | 890 kB 26.8 MB/s eta 0:00:01\r\u001b[K     |██████████████████████████████▍ | 901 kB 26.8 MB/s eta 0:00:01\r\u001b[K     |██████████████████████████████▊ | 911 kB 26.8 MB/s eta 0:00:01\r\u001b[K     |███████████████████████████████ | 921 kB 26.8 MB/s eta 0:00:01\r\u001b[K     |███████████████████████████████▍| 931 kB 26.8 MB/s eta 0:00:01\r\u001b[K     |███████████████████████████████▊| 942 kB 26.8 MB/s eta 0:00:01\r\u001b[K     |████████████████████████████████| 948 kB 26.8 MB/s \n",
            "\u001b[?25hRequirement already satisfied: numpy in /usr/local/lib/python3.7/dist-packages (from glove-python-binary) (1.19.5)\n",
            "Requirement already satisfied: scipy in /usr/local/lib/python3.7/dist-packages (from glove-python-binary) (1.4.1)\n",
            "Installing collected packages: glove-python-binary\n",
            "Successfully installed glove-python-binary-0.2.0\n"
          ]
        }
      ]
    },
    {
      "cell_type": "markdown",
      "metadata": {
        "id": "B3U7TJuRJdBO"
      },
      "source": [
        "cek model word2vec"
      ]
    },
    {
      "cell_type": "code",
      "metadata": {
        "id": "P2Q0Z6Y9Og7a",
        "colab": {
          "base_uri": "https://localhost:8080/"
        },
        "outputId": "f10785bd-ee9b-4aeb-ba43-1b328afc7e8f"
      },
      "source": [
        "model.wv.vectors.shape"
      ],
      "execution_count": null,
      "outputs": [
        {
          "output_type": "execute_result",
          "data": {
            "text/plain": [
              "(1263138, 100)"
            ]
          },
          "metadata": {},
          "execution_count": 9
        }
      ]
    },
    {
      "cell_type": "code",
      "metadata": {
        "id": "xb2GLdHHK0jY"
      },
      "source": [
        "model.wv[\"moment\"]"
      ],
      "execution_count": null,
      "outputs": []
    },
    {
      "cell_type": "markdown",
      "metadata": {
        "id": "5Pha9pFZK0cV"
      },
      "source": [
        "cek model glove"
      ]
    },
    {
      "cell_type": "code",
      "metadata": {
        "id": "y0mJOFsBKKPQ",
        "colab": {
          "base_uri": "https://localhost:8080/"
        },
        "outputId": "6ae11150-377c-483b-d46d-43215330afce"
      },
      "source": [
        "model.word_vectors.shape"
      ],
      "execution_count": 6,
      "outputs": [
        {
          "output_type": "execute_result",
          "data": {
            "text/plain": [
              "(7961, 100)"
            ]
          },
          "metadata": {},
          "execution_count": 6
        }
      ]
    },
    {
      "cell_type": "code",
      "metadata": {
        "id": "uDA37_nPi-N_"
      },
      "source": [
        "model.word_vectors[model.dictionary['moment']]"
      ],
      "execution_count": null,
      "outputs": []
    },
    {
      "cell_type": "markdown",
      "metadata": {
        "id": "Poh0hOslBSOE"
      },
      "source": [
        "average base ekstraksi fitur"
      ]
    },
    {
      "cell_type": "code",
      "metadata": {
        "id": "HugbL2uCLlIq"
      },
      "source": [
        "import array\n",
        "ekstrak=[]\n",
        "temp=array.array('i',(0,)*100)\n",
        "\n",
        "if pakai_model == 1:\n",
        "  for senten in df.dokumen:\n",
        "    for word in senten:\n",
        "      temp=np.add(temp,model.wv[word])\n",
        "    temp=temp/len(senten)\n",
        "    ekstrak.append(temp)\n",
        "\n",
        "elif pakai_model == 2:\n",
        "  for senten in df.dokumen:\n",
        "    for word in senten:\n",
        "      temp=np.add(temp,model.word_vectors[model.dictionary[word]])\n",
        "    temp=temp/len(senten)\n",
        "    ekstrak.append(temp)\n",
        "\n",
        "has_vec=ekstrak"
      ],
      "execution_count": 10,
      "outputs": []
    },
    {
      "cell_type": "code",
      "metadata": {
        "id": "Z-n3bpfF16vJ",
        "colab": {
          "base_uri": "https://localhost:8080/"
        },
        "outputId": "f45c0265-e8ac-4ce9-d41f-7c4235d016db"
      },
      "source": [
        "X=has_vec\n",
        "y=df.emosi\n",
        "print(np.shape(X))\n",
        "print(np.shape(y))\n",
        "# print(X)\n",
        "# print(y)"
      ],
      "execution_count": 11,
      "outputs": [
        {
          "output_type": "stream",
          "name": "stdout",
          "text": [
            "(5395, 100)\n",
            "(5395,)\n"
          ]
        }
      ]
    },
    {
      "cell_type": "markdown",
      "metadata": {
        "id": "y-VBfpD9PmVe"
      },
      "source": [
        "klasifikasi svm"
      ]
    },
    {
      "cell_type": "code",
      "metadata": {
        "id": "xba_npk4MTuy"
      },
      "source": [
        "from sklearn import svm\n",
        "from sklearn.metrics import confusion_matrix\n",
        "from sklearn.metrics import accuracy_score\n",
        "from sklearn.model_selection import cross_val_predict\n",
        "import matplotlib.pyplot as plt\n",
        "from sklearn.metrics import ConfusionMatrixDisplay\n",
        "from sklearn.metrics import precision_recall_fscore_support"
      ],
      "execution_count": 12,
      "outputs": []
    },
    {
      "cell_type": "code",
      "metadata": {
        "id": "EqFIpy1m-Nly"
      },
      "source": [
        "def klasifikasi(krnl):\n",
        "  clf = svm.SVC(kernel=krnl, decision_function_shape='ovr')\n",
        "  y_pred = cross_val_predict(clf, X, y, cv=10)\n",
        "  ConfusionMatrixDisplay.from_predictions(y, y_pred)\n",
        "  plt.show()\n",
        "  print(accuracy_score(y, y_pred))\n",
        "  print(precision_recall_fscore_support(y, y_pred, average='macro'))"
      ],
      "execution_count": 13,
      "outputs": []
    },
    {
      "cell_type": "code",
      "metadata": {
        "id": "ENBn6uuK1TmE",
        "colab": {
          "base_uri": "https://localhost:8080/",
          "height": 316
        },
        "outputId": "d19d8f9b-6194-4d0f-8ba2-fee9e8b730bb"
      },
      "source": [
        "klasifikasi('poly')"
      ],
      "execution_count": 14,
      "outputs": [
        {
          "output_type": "display_data",
          "data": {
            "image/png": "[encoded data removed]",
            "text/plain": [
              "<Figure size 432x288 with 2 Axes>"
            ]
          },
          "metadata": {
            "needs_background": "light"
          }
        },
        {
          "output_type": "stream",
          "name": "stdout",
          "text": [
            "0.45430954587581096\n",
            "(0.48148229310396584, 0.45472134380108126, 0.4565367917869506, None)\n"
          ]
        }
      ]
    },
    {
      "cell_type": "code",
      "metadata": {
        "id": "3zxYveF-1Tgt",
        "colab": {
          "base_uri": "https://localhost:8080/",
          "height": 316
        },
        "outputId": "f9991b89-c858-43cc-eccf-b323c4efbb7b"
      },
      "source": [
        "klasifikasi('rbf')"
      ],
      "execution_count": 15,
      "outputs": [
        {
          "output_type": "display_data",
          "data": {
            "image/png": "[encoded data removed]",
            "text/plain": [
              "<Figure size 432x288 with 2 Axes>"
            ]
          },
          "metadata": {
            "needs_background": "light"
          }
        },
        {
          "output_type": "stream",
          "name": "stdout",
          "text": [
            "0.45746061167747915\n",
            "(0.46847785416906157, 0.45752245308612505, 0.45790229554444084, None)\n"
          ]
        }
      ]
    },
    {
      "cell_type": "code",
      "metadata": {
        "id": "Q5ApUnrpQ-1C",
        "colab": {
          "base_uri": "https://localhost:8080/",
          "height": 316
        },
        "outputId": "b348fcab-fff0-43d6-cc72-7ffd2145500a"
      },
      "source": [
        "klasifikasi('linear')"
      ],
      "execution_count": 16,
      "outputs": [
        {
          "output_type": "display_data",
          "data": {
            "image/png": "[encoded data removed]",
            "text/plain": [
              "<Figure size 432x288 with 2 Axes>"
            ]
          },
          "metadata": {
            "needs_background": "light"
          }
        },
        {
          "output_type": "stream",
          "name": "stdout",
          "text": [
            "0.45264133456904543\n",
            "(0.4593659591809677, 0.45265962700486834, 0.4529663387340155, None)\n"
          ]
        }
      ]
    }
  ]
}