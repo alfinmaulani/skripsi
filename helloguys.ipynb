{
  "nbformat": 4,
  "nbformat_minor": 0,
  "metadata": {
    "colab": {
      "name": "helloguys.ipynb",
      "provenance": [],
      "authorship_tag": "ABX9TyN2zV2gZw0+5zmMLGGJIBQu",
      "include_colab_link": true
    },
    "kernelspec": {
      "name": "python3",
      "display_name": "Python 3"
    }
  },
  "cells": [
    {
      "cell_type": "markdown",
      "metadata": {
        "id": "view-in-github",
        "colab_type": "text"
      },
      "source": [
        "<a href=\"https://colab.research.google.com/github/alfinmaulani/skripsi/blob/master/helloguys.ipynb\" target=\"_parent\"><img src=\"https://colab.research.google.com/assets/colab-badge.svg\" alt=\"Open In Colab\"/></a>"
      ]
    },
    {
      "cell_type": "markdown",
      "metadata": {
        "id": "yT8sPWWo9IoN"
      },
      "source": [
        "uji"
      ]
    },
    {
      "cell_type": "code",
      "metadata": {
        "colab": {
          "base_uri": "https://localhost:8080/"
        },
        "id": "i8AM-WX9vaM8",
        "outputId": "27936d48-ca65-4ad7-ef18-6f5b2a49320f"
      },
      "source": [
        "print(\"tes\")"
      ],
      "execution_count": null,
      "outputs": [
        {
          "output_type": "stream",
          "text": [
            "tes\n"
          ],
          "name": "stdout"
        }
      ]
    }
  ]
}