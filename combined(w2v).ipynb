{
  "nbformat": 4,
  "nbformat_minor": 0,
  "metadata": {
    "colab": {
      "name": "w2v.ipynb",
      "provenance": [],
      "authorship_tag": "ABX9TyNe5UaAqhj1Zi0yuNxlz5ji",
      "include_colab_link": true
    },
    "kernelspec": {
      "name": "python3",
      "display_name": "Python 3"
    },
    "language_info": {
      "name": "python"
    }
  },
  "cells": [
    {
      "cell_type": "markdown",
      "metadata": {
        "id": "view-in-github",
        "colab_type": "text"
      },
      "source": [
        "<a href=\"https://colab.research.google.com/github/alfinmaulani/skripsi/blob/master/combined(w2v).ipynb\" target=\"_parent\"><img src=\"https://colab.research.google.com/assets/colab-badge.svg\" alt=\"Open In Colab\"/></a>"
      ]
    },
    {
      "cell_type": "code",
      "metadata": {
        "colab": {
          "base_uri": "https://localhost:8080/"
        },
        "id": "ci3dfx-9C_ji",
        "outputId": "6a10b7f6-b603-42b2-f809-71cd16b0596a"
      },
      "source": [
        "!pip install --upgrade scikit-learn\n",
        "import numpy as np\n",
        "import pandas as pd\n",
        "import io\n",
        "import os\n",
        "import matplotlib.pyplot as plt\n",
        "from nltk.tokenize import word_tokenize\n",
        "import nltk\n",
        "nltk.download('punkt')\n",
        "import gensim"
      ],
      "execution_count": 1,
      "outputs": [
        {
          "output_type": "stream",
          "name": "stdout",
          "text": [
            "Requirement already satisfied: scikit-learn in /usr/local/lib/python3.7/dist-packages (0.22.2.post1)\n",
            "Collecting scikit-learn\n",
            "  Downloading scikit_learn-1.0.1-cp37-cp37m-manylinux_2_12_x86_64.manylinux2010_x86_64.whl (23.2 MB)\n",
            "\u001b[K     |████████████████████████████████| 23.2 MB 1.3 MB/s \n",
            "\u001b[?25hRequirement already satisfied: joblib>=0.11 in /usr/local/lib/python3.7/dist-packages (from scikit-learn) (1.1.0)\n",
            "Collecting threadpoolctl>=2.0.0\n",
            "  Downloading threadpoolctl-3.0.0-py3-none-any.whl (14 kB)\n",
            "Requirement already satisfied: numpy>=1.14.6 in /usr/local/lib/python3.7/dist-packages (from scikit-learn) (1.19.5)\n",
            "Requirement already satisfied: scipy>=1.1.0 in /usr/local/lib/python3.7/dist-packages (from scikit-learn) (1.4.1)\n",
            "Installing collected packages: threadpoolctl, scikit-learn\n",
            "  Attempting uninstall: scikit-learn\n",
            "    Found existing installation: scikit-learn 0.22.2.post1\n",
            "    Uninstalling scikit-learn-0.22.2.post1:\n",
            "      Successfully uninstalled scikit-learn-0.22.2.post1\n",
            "Successfully installed scikit-learn-1.0.1 threadpoolctl-3.0.0\n",
            "[nltk_data] Downloading package punkt to /root/nltk_data...\n",
            "[nltk_data]   Unzipping tokenizers/punkt.zip.\n"
          ]
        }
      ]
    },
    {
      "cell_type": "code",
      "metadata": {
        "id": "-2hacXvT3mX8"
      },
      "source": [
        "url0='https://raw.githubusercontent.com/alfinmaulani/skripsi/master/dataISEAR.csv'\n",
        "df = pd.read_csv(url0)"
      ],
      "execution_count": 2,
      "outputs": []
    },
    {
      "cell_type": "code",
      "metadata": {
        "colab": {
          "base_uri": "https://localhost:8080/"
        },
        "id": "ecmoGKcODIAZ",
        "outputId": "dcf7ce10-480e-4662-f801-c7e39d780bfe"
      },
      "source": [
        "df.emosi.value_counts()"
      ],
      "execution_count": 7,
      "outputs": [
        {
          "output_type": "execute_result",
          "data": {
            "text/plain": [
              "joy        1092\n",
              "sadness    1082\n",
              "anger      1079\n",
              "fear       1076\n",
              "disgust    1066\n",
              "Name: emosi, dtype: int64"
            ]
          },
          "metadata": {},
          "execution_count": 7
        }
      ]
    },
    {
      "cell_type": "code",
      "metadata": {
        "id": "O4Z-0nnxJEVR"
      },
      "source": [
        "df=df.drop(df[df['emosi'] == 'shame'].sample(frac=1).index)\n",
        "df=df.drop(df[df['emosi'] == 'guilt'].sample(frac=1).index)"
      ],
      "execution_count": 4,
      "outputs": []
    },
    {
      "cell_type": "code",
      "metadata": {
        "colab": {
          "base_uri": "https://localhost:8080/"
        },
        "id": "qaR1xIQ7wSjI",
        "outputId": "e7a1768a-d691-4995-cd07-316c1bcd17a2"
      },
      "source": [
        "from google.colab import drive\n",
        "drive.mount('/content/drive')"
      ],
      "execution_count": 6,
      "outputs": [
        {
          "output_type": "stream",
          "name": "stdout",
          "text": [
            "Mounted at /content/drive\n"
          ]
        }
      ]
    },
    {
      "cell_type": "code",
      "metadata": {
        "id": "YoIxmDkPwgYc"
      },
      "source": [
        "df2 = pd.read_csv('/content/drive/MyDrive/twitter_prosessed.csv')"
      ],
      "execution_count": 8,
      "outputs": []
    },
    {
      "cell_type": "markdown",
      "metadata": {
        "id": "9_Vnr7idZXyY"
      },
      "source": [
        "preputama : lower case"
      ]
    },
    {
      "cell_type": "code",
      "metadata": {
        "id": "WhpBZ6kQ9Wb5"
      },
      "source": [
        "df['dokumen']=df['dokumen'].str.lower()\n",
        "# print(df.iloc[4,1])"
      ],
      "execution_count": 9,
      "outputs": []
    },
    {
      "cell_type": "code",
      "metadata": {
        "id": "Z5AtEjx_y6ZZ"
      },
      "source": [
        "df2['tweet']=df2['tweet'].str.lower()"
      ],
      "execution_count": 10,
      "outputs": []
    },
    {
      "cell_type": "markdown",
      "metadata": {
        "id": "b82j_2JPZaQ8"
      },
      "source": [
        "preputama : Pembersihan noise (over enter and space)"
      ]
    },
    {
      "cell_type": "code",
      "metadata": {
        "id": "Pe0GqxmE9WP2"
      },
      "source": [
        "df=df.replace(' \\n', ' ', regex=True)\n",
        "df=df.replace('   ', ' ', regex=True)\n",
        "df=df.replace('  ', ' ', regex=True)"
      ],
      "execution_count": 11,
      "outputs": []
    },
    {
      "cell_type": "code",
      "metadata": {
        "id": "zo4VQ2Qgy49Q"
      },
      "source": [
        "df2=df2.replace(' \\n', ' ', regex=True)\n",
        "df2=df2.replace('   ', ' ', regex=True)\n",
        "df2=df2.replace('  ', ' ', regex=True)"
      ],
      "execution_count": 12,
      "outputs": []
    },
    {
      "cell_type": "markdown",
      "metadata": {
        "id": "1KUKEZPEZdku"
      },
      "source": [
        "preptambah : expand contractions"
      ]
    },
    {
      "cell_type": "code",
      "metadata": {
        "id": "DvUkcyckt3jt",
        "colab": {
          "base_uri": "https://localhost:8080/"
        },
        "outputId": "7bd1d35a-8afe-40c4-e706-a90ad016c2f4"
      },
      "source": [
        "!pip install contractions\n",
        "import contractions"
      ],
      "execution_count": null,
      "outputs": [
        {
          "output_type": "stream",
          "name": "stdout",
          "text": [
            "Collecting contractions\n",
            "  Downloading contractions-0.0.55-py2.py3-none-any.whl (7.9 kB)\n",
            "Collecting textsearch>=0.0.21\n",
            "  Downloading textsearch-0.0.21-py2.py3-none-any.whl (7.5 kB)\n",
            "Collecting pyahocorasick\n",
            "  Downloading pyahocorasick-1.4.2.tar.gz (321 kB)\n",
            "\u001b[K     |████████████████████████████████| 321 kB 4.0 MB/s \n",
            "\u001b[?25hCollecting anyascii\n",
            "  Downloading anyascii-0.3.0-py3-none-any.whl (284 kB)\n",
            "\u001b[K     |████████████████████████████████| 284 kB 56.6 MB/s \n",
            "\u001b[?25hBuilding wheels for collected packages: pyahocorasick\n",
            "  Building wheel for pyahocorasick (setup.py) ... \u001b[?25l\u001b[?25hdone\n",
            "  Created wheel for pyahocorasick: filename=pyahocorasick-1.4.2-cp37-cp37m-linux_x86_64.whl size=85448 sha256=539a77e1f259b9b041b802afe333b2fd1df0db179fa167635e167ac6426ec897\n",
            "  Stored in directory: /root/.cache/pip/wheels/25/19/a6/8f363d9939162782bb8439d886469756271abc01f76fbd790f\n",
            "Successfully built pyahocorasick\n",
            "Installing collected packages: pyahocorasick, anyascii, textsearch, contractions\n",
            "Successfully installed anyascii-0.3.0 contractions-0.0.55 pyahocorasick-1.4.2 textsearch-0.0.21\n"
          ]
        }
      ]
    },
    {
      "cell_type": "code",
      "metadata": {
        "id": "5glvogu8t3dl"
      },
      "source": [
        "expanded_words = []\n",
        "for word in df.dokumen:\n",
        "  expanded_words.append(contractions.fix(word))\n",
        "df.dokumen=expanded_words"
      ],
      "execution_count": null,
      "outputs": []
    },
    {
      "cell_type": "code",
      "metadata": {
        "id": "4x5xoGarZw3c"
      },
      "source": [
        "expanded_words = []\n",
        "for word in df2.tweet:\n",
        "  expanded_words.append(contractions.fix(word))\n",
        "df2.tweet=expanded_words"
      ],
      "execution_count": null,
      "outputs": []
    },
    {
      "cell_type": "markdown",
      "metadata": {
        "id": "rS8J8JjJamsx"
      },
      "source": [
        "preputama : cleansing punctuation"
      ]
    },
    {
      "cell_type": "code",
      "metadata": {
        "id": "2z_rN6_Famg-"
      },
      "source": [
        "df['dokumen'] = df['dokumen'].str.replace(r'[^\\w\\s]+', '')"
      ],
      "execution_count": 13,
      "outputs": []
    },
    {
      "cell_type": "code",
      "metadata": {
        "id": "AZFkyajP0I84"
      },
      "source": [
        "df2['tweet'] = df2['tweet'].str.replace(r'[^\\w\\s]+', '')"
      ],
      "execution_count": 14,
      "outputs": []
    },
    {
      "cell_type": "markdown",
      "metadata": {
        "id": "Gh0Jgm7Fsx_T"
      },
      "source": [
        "preputama : cleansing number"
      ]
    },
    {
      "cell_type": "code",
      "metadata": {
        "id": "RVx7XGQf-B1-",
        "outputId": "919666ac-d914-422e-c466-9c1527b5996c",
        "colab": {
          "base_uri": "https://localhost:8080/"
        }
      },
      "source": [
        "!pip install tweet-preprocessor\n",
        "import preprocessor as p"
      ],
      "execution_count": 15,
      "outputs": [
        {
          "output_type": "stream",
          "name": "stdout",
          "text": [
            "Collecting tweet-preprocessor\n",
            "  Downloading tweet_preprocessor-0.6.0-py3-none-any.whl (27 kB)\n",
            "Installing collected packages: tweet-preprocessor\n",
            "Successfully installed tweet-preprocessor-0.6.0\n"
          ]
        }
      ]
    },
    {
      "cell_type": "code",
      "metadata": {
        "id": "PEAaEdHX-Sfe"
      },
      "source": [
        "p.set_options(p.OPT.NUMBER)"
      ],
      "execution_count": 16,
      "outputs": []
    },
    {
      "cell_type": "code",
      "metadata": {
        "id": "0ZcRI_qo-SYZ"
      },
      "source": [
        "sementara=[]\n",
        "for word in df.dokumen:\n",
        "  sementara.append(p.clean(word))\n",
        "df.dokumen=sementara"
      ],
      "execution_count": 17,
      "outputs": []
    },
    {
      "cell_type": "code",
      "metadata": {
        "id": "_-s4x0QU-rDu"
      },
      "source": [
        "sementara=[]\n",
        "for word in df2.tweet:\n",
        "  sementara.append(p.clean(word))\n",
        "df2.tweet=sementara"
      ],
      "execution_count": 18,
      "outputs": []
    },
    {
      "cell_type": "markdown",
      "metadata": {
        "id": "Hrfg5PlYaK_o"
      },
      "source": [
        "preptambah : remove stopword"
      ]
    },
    {
      "cell_type": "code",
      "metadata": {
        "colab": {
          "base_uri": "https://localhost:8080/"
        },
        "id": "Ol3lV82FbtgA",
        "outputId": "fdfb355f-b577-459c-cae8-c48a99de7758"
      },
      "source": [
        "from nltk.corpus import stopwords\n",
        "nltk.download('stopwords')\n",
        "stop = stopwords.words('english')"
      ],
      "execution_count": null,
      "outputs": [
        {
          "output_type": "stream",
          "name": "stdout",
          "text": [
            "[nltk_data] Downloading package stopwords to /root/nltk_data...\n",
            "[nltk_data]   Unzipping corpora/stopwords.zip.\n"
          ]
        }
      ]
    },
    {
      "cell_type": "code",
      "metadata": {
        "id": "UOGp3mi0s_EJ"
      },
      "source": [
        "pat = r'\\b(?:{})\\b'.format('|'.join(stop))"
      ],
      "execution_count": null,
      "outputs": []
    },
    {
      "cell_type": "code",
      "metadata": {
        "id": "RKuF-6uCZ9Y1"
      },
      "source": [
        "df['dokumen'] = df['dokumen'].str.replace(pat, '')\n",
        "df['dokumen'] = df['dokumen'].str.replace(r'\\s+', ' ')"
      ],
      "execution_count": null,
      "outputs": []
    },
    {
      "cell_type": "code",
      "metadata": {
        "id": "eaN5rbCj0VaW"
      },
      "source": [
        "df2['tweet'] = df2['tweet'].str.replace(pat, '')\n",
        "df2['tweet'] = df2['tweet'].str.replace(r'\\s+', ' ')"
      ],
      "execution_count": null,
      "outputs": []
    },
    {
      "cell_type": "markdown",
      "metadata": {
        "id": "DnbrT-4daeEK"
      },
      "source": [
        "tokenizing"
      ]
    },
    {
      "cell_type": "code",
      "metadata": {
        "id": "XpqeTa21Z9OS"
      },
      "source": [
        "sentences = [word_tokenize(x) for x in df.dokumen] \n",
        "df.dokumen=sentences"
      ],
      "execution_count": 19,
      "outputs": []
    },
    {
      "cell_type": "code",
      "metadata": {
        "id": "7i87GrAz0mGh"
      },
      "source": [
        "sentences = [word_tokenize(x) for x in df2.tweet]\n",
        "df2.tweet=sentences"
      ],
      "execution_count": 20,
      "outputs": []
    },
    {
      "cell_type": "markdown",
      "metadata": {
        "id": "kuXE9IGwXtZ2"
      },
      "source": [
        "preptambah : Lemmatization"
      ]
    },
    {
      "cell_type": "code",
      "metadata": {
        "id": "K1ywmZGYZ9RJ"
      },
      "source": [
        "from nltk.stem.snowball import SnowballStemmer\n",
        "# Use English stemmer.\n",
        "stemmer = SnowballStemmer(\"english\")"
      ],
      "execution_count": null,
      "outputs": []
    },
    {
      "cell_type": "code",
      "metadata": {
        "id": "vonaeiobZ9Lh",
        "colab": {
          "base_uri": "https://localhost:8080/"
        },
        "outputId": "9535f92d-4f77-4394-cb78-4679c9d5ad04"
      },
      "source": [
        "# temp = df.dokumen.apply(lambda x: [stemmer.stem(y) for y in x])\n",
        "df['dokumen'].apply(lambda x: [stemmer.stem(y) for y in x])"
      ],
      "execution_count": null,
      "outputs": [
        {
          "output_type": "execute_result",
          "data": {
            "text/plain": [
              "0       [day, feel, close, partner, friend, feel, peac...\n",
              "1       [everi, time, imagin, someon, love, could, con...\n",
              "2               [obvious, unjust, treat, possibl, elucid]\n",
              "3       [think, short, time, live, relat, period, life...\n",
              "4       [gather, found, involuntarili, sit, next, two,...\n",
              "                              ...                        \n",
              "7511    [two, year, back, someon, invit, tutor, grandd...\n",
              "7512    [taken, respons, someth, prepar, howev, fail, ...\n",
              "7513    [home, heard, loud, sound, spit, outsid, door,...\n",
              "7514          [homework, teacher, ask, us, scold, immedi]\n",
              "7515    [shout, younger, brother, alway, afraid, call,...\n",
              "Name: dokumen, Length: 7516, dtype: object"
            ]
          },
          "metadata": {},
          "execution_count": 26
        }
      ]
    },
    {
      "cell_type": "code",
      "metadata": {
        "colab": {
          "base_uri": "https://localhost:8080/"
        },
        "id": "AwjFAKCg1A8P",
        "outputId": "c52eaf92-dd0d-4444-b1e2-f2f24c49a3a5"
      },
      "source": [
        "df2['tweet'].apply(lambda x: [stemmer.stem(y) for y in x])"
      ],
      "execution_count": null,
      "outputs": [
        {
          "output_type": "execute_result",
          "data": {
            "text/plain": [
              "0          [upset, can, not, updat, facebook, text, might...\n",
              "1          [dive, mani, time, ball, manag, save, rest, go...\n",
              "2                     [whole, bodi, feel, itchi, like, fire]\n",
              "3                             [behav, i, mad, can, not, see]\n",
              "4                                              [whole, crew]\n",
              "                                 ...                        \n",
              "1596959                     [woke, school, best, feel, ever]\n",
              "1596960     [thewdbcom, cool, hear, old, walt, interview, â]\n",
              "1596961                   [readi, mojo, makeov, ask, detail]\n",
              "1596962    [happi, th, birthday, boo, alll, time, tupac, ...\n",
              "1596963                                              [happi]\n",
              "Name: tweet, Length: 1596964, dtype: object"
            ]
          },
          "metadata": {},
          "execution_count": 27
        }
      ]
    },
    {
      "cell_type": "markdown",
      "metadata": {
        "id": "K-NOlQnGbDUj"
      },
      "source": [
        "save df"
      ]
    },
    {
      "cell_type": "code",
      "metadata": {
        "id": "gk1V4HBPDHVw"
      },
      "source": [
        "# df.to_csv(r'dataisear(preptambah).csv', index = False)"
      ],
      "execution_count": null,
      "outputs": []
    },
    {
      "cell_type": "markdown",
      "metadata": {
        "id": "Sz4dK1iB_tpc"
      },
      "source": [
        "gabung corpus"
      ]
    },
    {
      "cell_type": "code",
      "metadata": {
        "id": "vUZgpFYz0jnF"
      },
      "source": [
        "# sent=df.dokumen"
      ],
      "execution_count": null,
      "outputs": []
    },
    {
      "cell_type": "code",
      "metadata": {
        "id": "XqHid8j4BNvj"
      },
      "source": [
        "sent=df2.tweet.append(df.dokumen,ignore_index=True)"
      ],
      "execution_count": 21,
      "outputs": []
    },
    {
      "cell_type": "markdown",
      "metadata": {
        "id": "a2CO8Rbb2f54"
      },
      "source": [
        "word2ec"
      ]
    },
    {
      "cell_type": "code",
      "metadata": {
        "id": "DboqVfIk2eZJ"
      },
      "source": [
        "from gensim.models import Word2Vec"
      ],
      "execution_count": 22,
      "outputs": []
    },
    {
      "cell_type": "code",
      "metadata": {
        "id": "uH4GIOTu-a4x"
      },
      "source": [
        "w2v = Word2Vec(sent, window=2, min_count=1, workers=4, sg=1)"
      ],
      "execution_count": 23,
      "outputs": []
    },
    {
      "cell_type": "code",
      "metadata": {
        "id": "M1W-9O2-3CWk"
      },
      "source": [
        "cek=w2v.wv"
      ],
      "execution_count": 24,
      "outputs": []
    },
    {
      "cell_type": "markdown",
      "metadata": {
        "id": "Gl5QgszsXz9I"
      },
      "source": [
        "cek model"
      ]
    },
    {
      "cell_type": "code",
      "metadata": {
        "colab": {
          "base_uri": "https://localhost:8080/"
        },
        "id": "TWu2zy-n3DYa",
        "outputId": "cfe61ab8-3216-4541-931d-1ea1acbf2e88"
      },
      "source": [
        "words=w2v.wv.vocab\n",
        "# words\n",
        "cek.vector_size"
      ],
      "execution_count": null,
      "outputs": [
        {
          "output_type": "execute_result",
          "data": {
            "text/plain": [
              "100"
            ]
          },
          "metadata": {},
          "execution_count": 46
        }
      ]
    },
    {
      "cell_type": "code",
      "metadata": {
        "colab": {
          "base_uri": "https://localhost:8080/"
        },
        "id": "IWqWUoSV3F3t",
        "outputId": "88aa8d3f-6daa-4aeb-e684-f2fbeccfe93c"
      },
      "source": [
        "cek.vectors.shape"
      ],
      "execution_count": null,
      "outputs": [
        {
          "output_type": "execute_result",
          "data": {
            "text/plain": [
              "(442381, 100)"
            ]
          },
          "metadata": {},
          "execution_count": 47
        }
      ]
    },
    {
      "cell_type": "code",
      "metadata": {
        "colab": {
          "base_uri": "https://localhost:8080/"
        },
        "id": "4r1Bhtt63OFA",
        "outputId": "0277a985-0876-4f26-d206-8523fa4f8ce3"
      },
      "source": [
        "len(cek.vocab)"
      ],
      "execution_count": null,
      "outputs": [
        {
          "output_type": "execute_result",
          "data": {
            "text/plain": [
              "9192"
            ]
          },
          "metadata": {},
          "execution_count": 66
        }
      ]
    },
    {
      "cell_type": "code",
      "metadata": {
        "colab": {
          "base_uri": "https://localhost:8080/"
        },
        "id": "R6GsJv-YWyQi",
        "outputId": "db75e949-d31a-42dc-cead-622a15b62743"
      },
      "source": [
        "cek[\"moment\"]"
      ],
      "execution_count": null,
      "outputs": [
        {
          "output_type": "execute_result",
          "data": {
            "text/plain": [
              "array([ 0.27969   , -0.04074705, -0.2732618 ,  0.17059597, -0.0566575 ,\n",
              "        0.22154164,  0.04799413, -0.22830814,  0.46554455,  0.47342637,\n",
              "       -0.06254962, -0.03081691, -0.00158358, -0.09411842, -0.4625419 ,\n",
              "       -0.29507542, -0.02135062, -0.14482166, -0.25527653,  0.06358406,\n",
              "       -0.06260474,  0.13054442,  0.14356533, -0.16021872, -0.09310925,\n",
              "        0.22482166,  0.15930392,  0.27778736, -0.2941564 , -0.12835085,\n",
              "        0.2778452 , -0.02994143, -0.07942306, -0.18619187,  0.11510776,\n",
              "       -0.10212002,  0.23349683,  0.43196627, -0.24234013,  0.09918298,\n",
              "       -0.21515411,  0.13683397,  0.14239877,  0.22898738, -0.0880629 ,\n",
              "       -0.20002627, -0.25326008,  0.05245483, -0.42636654,  0.30673406,\n",
              "       -0.16179715, -0.20850863,  0.18761359,  0.00555527, -0.19485697,\n",
              "        0.1494716 , -0.03088063,  0.15144156,  0.22128993,  0.08645695,\n",
              "        0.0956853 , -0.18642326,  0.1678185 ,  0.0259022 , -0.2759077 ,\n",
              "        0.0111359 , -0.12221067,  0.30497456,  0.38536498,  0.03552762,\n",
              "        0.106083  , -0.13134834,  0.07363314, -0.23405477,  0.18752116,\n",
              "        0.04657674,  0.0477713 , -0.02779428,  0.06570175, -0.05197806,\n",
              "       -0.12530978,  0.3637702 ,  0.16015069,  0.08127309, -0.01039525,\n",
              "       -0.1168847 , -0.24863416,  0.13884132, -0.10897729,  0.3369199 ,\n",
              "       -0.2240591 , -0.19739261, -0.30093437,  0.30610463, -0.25110197,\n",
              "       -0.14259072,  0.01235958, -0.0292713 ,  0.13486102,  0.22737929],\n",
              "      dtype=float32)"
            ]
          },
          "metadata": {},
          "execution_count": 67
        }
      ]
    },
    {
      "cell_type": "markdown",
      "metadata": {
        "id": "myQsetPR3tLU"
      },
      "source": [
        "ekstraksi fitur"
      ]
    },
    {
      "cell_type": "code",
      "metadata": {
        "id": "IxR45IUU3QxR"
      },
      "source": [
        "import array\n",
        "ekstrak=[]\n",
        "temp=array.array('i',(0,)*100)\n",
        "for senten in df.dokumen:\n",
        "  for word in senten:\n",
        "    temp=np.add(temp,cek[word])\n",
        "  temp=temp/len(senten)\n",
        "  ekstrak.append(temp)\n",
        "has_vec=ekstrak"
      ],
      "execution_count": 25,
      "outputs": []
    },
    {
      "cell_type": "code",
      "metadata": {
        "id": "pRTuBH09XfkI",
        "colab": {
          "base_uri": "https://localhost:8080/"
        },
        "outputId": "78a78f47-7911-444e-8cda-5d54adfd8147"
      },
      "source": [
        "X=has_vec\n",
        "y=df.emosi\n",
        "print(np.shape(X))\n",
        "print(np.shape(y))\n",
        "# print(X)\n",
        "# print(y)"
      ],
      "execution_count": 26,
      "outputs": [
        {
          "output_type": "stream",
          "name": "stdout",
          "text": [
            "(5395, 100)\n",
            "(5395,)\n"
          ]
        }
      ]
    },
    {
      "cell_type": "markdown",
      "metadata": {
        "id": "9REgAm12XkXE"
      },
      "source": [
        "klasifikasi svm"
      ]
    },
    {
      "cell_type": "code",
      "metadata": {
        "id": "N_7cSx4lXl7N"
      },
      "source": [
        "from sklearn import svm\n",
        "from sklearn.model_selection import cross_val_score"
      ],
      "execution_count": 27,
      "outputs": []
    },
    {
      "cell_type": "code",
      "metadata": {
        "colab": {
          "base_uri": "https://localhost:8080/"
        },
        "id": "nXGSL_-1XpMg",
        "outputId": "e106c354-115d-465d-acb4-3fd3f748591f"
      },
      "source": [
        "# langsung cari score\n",
        "\n",
        "# clf = svm.SVC(kernel='poly', decision_function_shape='ovr')\n",
        "# scores = cross_val_score(clf, X, y, cv=10)\n",
        "# # scores.mean()"
      ],
      "execution_count": null,
      "outputs": [
        {
          "output_type": "execute_result",
          "data": {
            "text/plain": [
              "0.19651563872283764"
            ]
          },
          "metadata": {},
          "execution_count": 93
        }
      ]
    },
    {
      "cell_type": "markdown",
      "metadata": {
        "id": "meJ2peGBYxm9"
      },
      "source": [
        "conf matrix dan akurasi"
      ]
    },
    {
      "cell_type": "code",
      "metadata": {
        "id": "PSsCGIVXKdvv"
      },
      "source": [
        "from sklearn.metrics import confusion_matrix\n",
        "from sklearn.metrics import accuracy_score\n",
        "from sklearn.model_selection import cross_val_predict\n",
        "import matplotlib.pyplot as plt\n",
        "from sklearn.metrics import ConfusionMatrixDisplay\n",
        "from sklearn.metrics import precision_recall_fscore_support"
      ],
      "execution_count": 28,
      "outputs": []
    },
    {
      "cell_type": "code",
      "metadata": {
        "id": "k6ZhyusnY1Fl",
        "colab": {
          "base_uri": "https://localhost:8080/",
          "height": 316
        },
        "outputId": "6d20c174-0e06-4c62-d301-213ab7ad7927"
      },
      "source": [
        "clf = svm.SVC(kernel='poly', decision_function_shape='ovr',)\n",
        "y_pred = cross_val_predict(clf, X, y, cv=10)\n",
        "ConfusionMatrixDisplay.from_predictions(y, y_pred)\n",
        "plt.show()\n",
        "print(accuracy_score(y, y_pred))\n",
        "print(precision_recall_fscore_support(y, y_pred, average='macro'))"
      ],
      "execution_count": 29,
      "outputs": [
        {
          "output_type": "display_data",
          "data": {
            "image/png": "[encoded data removed]",
            "text/plain": [
              "<Figure size 432x288 with 2 Axes>"
            ]
          },
          "metadata": {
            "needs_background": "light"
          }
        },
        {
          "output_type": "stream",
          "name": "stdout",
          "text": [
            "0.5490268767377201\n",
            "(0.5609819643896541, 0.5485251630987774, 0.5492897389552709, None)\n"
          ]
        }
      ]
    },
    {
      "cell_type": "code",
      "metadata": {
        "id": "IIcjn4VEjQgn",
        "colab": {
          "base_uri": "https://localhost:8080/",
          "height": 316
        },
        "outputId": "8515726a-3c8d-486d-b6bd-8f1f1b57556f"
      },
      "source": [
        "clf = svm.SVC(kernel='rbf', decision_function_shape='ovr')\n",
        "y_pred = cross_val_predict(clf, X, y, cv=10)\n",
        "ConfusionMatrixDisplay.from_predictions(y, y_pred)\n",
        "plt.show()\n",
        "print(accuracy_score(y, y_pred))\n",
        "print(precision_recall_fscore_support(y, y_pred, average='macro'))"
      ],
      "execution_count": 30,
      "outputs": [
        {
          "output_type": "display_data",
          "data": {
            "image/png": "[encoded data removed]",
            "text/plain": [
              "<Figure size 432x288 with 2 Axes>"
            ]
          },
          "metadata": {
            "needs_background": "light"
          }
        },
        {
          "output_type": "stream",
          "name": "stdout",
          "text": [
            "0.542354031510658\n",
            "(0.5524230095844846, 0.5418135638527161, 0.5417469296791382, None)\n"
          ]
        }
      ]
    },
    {
      "cell_type": "code",
      "metadata": {
        "id": "LnjpDIKci_cF",
        "colab": {
          "base_uri": "https://localhost:8080/",
          "height": 316
        },
        "outputId": "06889029-da7d-4184-8259-7a34883e060c"
      },
      "source": [
        "clf = svm.SVC(kernel='linear', decision_function_shape='ovr')\n",
        "y_pred = cross_val_predict(clf, X, y, cv=10)\n",
        "ConfusionMatrixDisplay.from_predictions(y, y_pred)\n",
        "plt.show()\n",
        "print(accuracy_score(y, y_pred))\n",
        "print(precision_recall_fscore_support(y, y_pred, average='macro'))"
      ],
      "execution_count": 31,
      "outputs": [
        {
          "output_type": "display_data",
          "data": {
            "image/png": "[encoded data removed]",
            "text/plain": [
              "<Figure size 432x288 with 2 Axes>"
            ]
          },
          "metadata": {
            "needs_background": "light"
          }
        },
        {
          "output_type": "stream",
          "name": "stdout",
          "text": [
            "0.5531047265987025\n",
            "(0.5549902483403537, 0.5525620852475223, 0.5518411520976555, None)\n"
          ]
        }
      ]
    }
  ]
}