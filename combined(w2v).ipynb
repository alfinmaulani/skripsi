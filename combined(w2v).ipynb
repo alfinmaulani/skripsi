{
  "nbformat": 4,
  "nbformat_minor": 0,
  "metadata": {
    "colab": {
      "name": "w2v.ipynb",
      "provenance": [],
      "authorship_tag": "ABX9TyPOjbbrBxFrrPKEUuC0pb+S",
      "include_colab_link": true
    },
    "kernelspec": {
      "name": "python3",
      "display_name": "Python 3"
    },
    "language_info": {
      "name": "python"
    }
  },
  "cells": [
    {
      "cell_type": "markdown",
      "metadata": {
        "id": "view-in-github",
        "colab_type": "text"
      },
      "source": [
        "<a href=\"https://colab.research.google.com/github/alfinmaulani/skripsi/blob/master/combined(w2v).ipynb\" target=\"_parent\"><img src=\"https://colab.research.google.com/assets/colab-badge.svg\" alt=\"Open In Colab\"/></a>"
      ]
    },
    {
      "cell_type": "code",
      "metadata": {
        "colab": {
          "base_uri": "https://localhost:8080/"
        },
        "id": "ci3dfx-9C_ji",
        "outputId": "8e21d6ba-d70e-420a-80bf-b30df3260968"
      },
      "source": [
        "!pip install --upgrade scikit-learn\n",
        "import numpy as np\n",
        "import pandas as pd\n",
        "import io\n",
        "import os\n",
        "import matplotlib.pyplot as plt\n",
        "from nltk.tokenize import word_tokenize\n",
        "import nltk\n",
        "nltk.download('punkt')\n",
        "import gensim"
      ],
      "execution_count": 1,
      "outputs": [
        {
          "output_type": "stream",
          "name": "stdout",
          "text": [
            "Requirement already satisfied: scikit-learn in /usr/local/lib/python3.7/dist-packages (0.22.2.post1)\n",
            "Collecting scikit-learn\n",
            "  Downloading scikit_learn-1.0.1-cp37-cp37m-manylinux_2_12_x86_64.manylinux2010_x86_64.whl (23.2 MB)\n",
            "\u001b[K     |████████████████████████████████| 23.2 MB 1.6 MB/s \n",
            "\u001b[?25hCollecting threadpoolctl>=2.0.0\n",
            "  Downloading threadpoolctl-3.0.0-py3-none-any.whl (14 kB)\n",
            "Requirement already satisfied: numpy>=1.14.6 in /usr/local/lib/python3.7/dist-packages (from scikit-learn) (1.19.5)\n",
            "Requirement already satisfied: joblib>=0.11 in /usr/local/lib/python3.7/dist-packages (from scikit-learn) (1.1.0)\n",
            "Requirement already satisfied: scipy>=1.1.0 in /usr/local/lib/python3.7/dist-packages (from scikit-learn) (1.4.1)\n",
            "Installing collected packages: threadpoolctl, scikit-learn\n",
            "  Attempting uninstall: scikit-learn\n",
            "    Found existing installation: scikit-learn 0.22.2.post1\n",
            "    Uninstalling scikit-learn-0.22.2.post1:\n",
            "      Successfully uninstalled scikit-learn-0.22.2.post1\n",
            "Successfully installed scikit-learn-1.0.1 threadpoolctl-3.0.0\n",
            "[nltk_data] Downloading package punkt to /root/nltk_data...\n",
            "[nltk_data]   Unzipping tokenizers/punkt.zip.\n"
          ]
        }
      ]
    },
    {
      "cell_type": "code",
      "metadata": {
        "id": "-2hacXvT3mX8"
      },
      "source": [
        "url0='https://raw.githubusercontent.com/alfinmaulani/skripsi/master/dataISEAR.csv'\n",
        "# url1 = 'https://raw.githubusercontent.com/alfinmaulani/skripsi/master/dataisear(preputama).csv'\n",
        "# url2 = 'tba'\n",
        "df1 = pd.read_csv(url0)\n",
        "# df.iloc[:,1]"
      ],
      "execution_count": 21,
      "outputs": []
    },
    {
      "cell_type": "code",
      "metadata": {
        "colab": {
          "base_uri": "https://localhost:8080/"
        },
        "id": "ecmoGKcODIAZ",
        "outputId": "dc344b1e-8729-4884-d4b0-bf5200dcc0b5"
      },
      "source": [
        "df1.emosi.value_counts()"
      ],
      "execution_count": 23,
      "outputs": [
        {
          "output_type": "execute_result",
          "data": {
            "text/plain": [
              "joy        1092\n",
              "sadness    1082\n",
              "anger      1079\n",
              "fear       1076\n",
              "shame      1071\n",
              "disgust    1066\n",
              "guilt      1050\n",
              "Name: emosi, dtype: int64"
            ]
          },
          "metadata": {},
          "execution_count": 23
        }
      ]
    },
    {
      "cell_type": "code",
      "metadata": {
        "id": "O4Z-0nnxJEVR"
      },
      "source": [
        "# df=df.drop(df[df['emosi'] == 'anger'].sample(frac=1).index)\n",
        "# df=df.drop(df[df['emosi'] == 'disgust'].sample(frac=1).index)"
      ],
      "execution_count": null,
      "outputs": []
    },
    {
      "cell_type": "code",
      "metadata": {
        "id": "qaR1xIQ7wSjI",
        "outputId": "42f6cea0-c354-4332-c1d6-f0d8fa4d75ff",
        "colab": {
          "base_uri": "https://localhost:8080/"
        }
      },
      "source": [
        "from google.colab import drive\n",
        "drive.mount('/content/drive')"
      ],
      "execution_count": 5,
      "outputs": [
        {
          "output_type": "stream",
          "name": "stdout",
          "text": [
            "Mounted at /content/drive\n"
          ]
        }
      ]
    },
    {
      "cell_type": "code",
      "metadata": {
        "id": "YoIxmDkPwgYc"
      },
      "source": [
        "df2 = pd.read_csv('/content/drive/MyDrive/twitter_prosessed.csv')"
      ],
      "execution_count": 24,
      "outputs": []
    },
    {
      "cell_type": "markdown",
      "metadata": {
        "id": "9_Vnr7idZXyY"
      },
      "source": [
        "preputama : lower case"
      ]
    },
    {
      "cell_type": "code",
      "metadata": {
        "id": "WhpBZ6kQ9Wb5"
      },
      "source": [
        "df1['dokumen']=df['dokumen'].str.lower()\n",
        "# print(df.iloc[4,1])"
      ],
      "execution_count": 26,
      "outputs": []
    },
    {
      "cell_type": "code",
      "metadata": {
        "id": "Z5AtEjx_y6ZZ"
      },
      "source": [
        "df2['tweet']=df['tweet'].str.lower()"
      ],
      "execution_count": null,
      "outputs": []
    },
    {
      "cell_type": "markdown",
      "metadata": {
        "id": "b82j_2JPZaQ8"
      },
      "source": [
        "preputama : Pembersihan noise (over enter and space)"
      ]
    },
    {
      "cell_type": "code",
      "metadata": {
        "id": "Pe0GqxmE9WP2"
      },
      "source": [
        "df1=df1.replace(' \\n', ' ', regex=True)\n",
        "df1=df1.replace('   ', ' ', regex=True)\n",
        "df1=df1.replace('  ', ' ', regex=True)"
      ],
      "execution_count": 27,
      "outputs": []
    },
    {
      "cell_type": "code",
      "metadata": {
        "id": "zo4VQ2Qgy49Q"
      },
      "source": [
        "df2=df2.replace(' \\n', ' ', regex=True)\n",
        "df2=df2.replace('   ', ' ', regex=True)\n",
        "df2=df2.replace('  ', ' ', regex=True)"
      ],
      "execution_count": 28,
      "outputs": []
    },
    {
      "cell_type": "markdown",
      "metadata": {
        "id": "1KUKEZPEZdku"
      },
      "source": [
        "preptambah : expand contractions"
      ]
    },
    {
      "cell_type": "code",
      "metadata": {
        "id": "DvUkcyckt3jt",
        "colab": {
          "base_uri": "https://localhost:8080/"
        },
        "outputId": "a1e6a7b6-b10e-463c-f7aa-45752bebffa9"
      },
      "source": [
        "!pip install contractions\n",
        "import contractions"
      ],
      "execution_count": 16,
      "outputs": [
        {
          "output_type": "stream",
          "name": "stdout",
          "text": [
            "Collecting contractions\n",
            "  Downloading contractions-0.0.55-py2.py3-none-any.whl (7.9 kB)\n",
            "Collecting textsearch>=0.0.21\n",
            "  Downloading textsearch-0.0.21-py2.py3-none-any.whl (7.5 kB)\n",
            "Collecting anyascii\n",
            "  Downloading anyascii-0.3.0-py3-none-any.whl (284 kB)\n",
            "\u001b[K     |████████████████████████████████| 284 kB 7.2 MB/s \n",
            "\u001b[?25hCollecting pyahocorasick\n",
            "  Downloading pyahocorasick-1.4.2.tar.gz (321 kB)\n",
            "\u001b[K     |████████████████████████████████| 321 kB 63.7 MB/s \n",
            "\u001b[?25hBuilding wheels for collected packages: pyahocorasick\n",
            "  Building wheel for pyahocorasick (setup.py) ... \u001b[?25l\u001b[?25hdone\n",
            "  Created wheel for pyahocorasick: filename=pyahocorasick-1.4.2-cp37-cp37m-linux_x86_64.whl size=85428 sha256=ce1de862385621754e69f7651603f65ccf5b9bbe34707296e047093c712af18c\n",
            "  Stored in directory: /root/.cache/pip/wheels/25/19/a6/8f363d9939162782bb8439d886469756271abc01f76fbd790f\n",
            "Successfully built pyahocorasick\n",
            "Installing collected packages: pyahocorasick, anyascii, textsearch, contractions\n",
            "Successfully installed anyascii-0.3.0 contractions-0.0.55 pyahocorasick-1.4.2 textsearch-0.0.21\n"
          ]
        }
      ]
    },
    {
      "cell_type": "code",
      "metadata": {
        "id": "zlzIsqZA--mh",
        "colab": {
          "base_uri": "https://localhost:8080/",
          "height": 424
        },
        "outputId": "53b5a27b-0ac9-48f0-f391-128aa41f6f43"
      },
      "source": [
        "df1[df1['dokumen'].str.contains(\"couldn't\")]"
      ],
      "execution_count": 29,
      "outputs": [
        {
          "output_type": "execute_result",
          "data": {
            "text/html": [
              "<div>\n",
              "<style scoped>\n",
              "    .dataframe tbody tr th:only-of-type {\n",
              "        vertical-align: middle;\n",
              "    }\n",
              "\n",
              "    .dataframe tbody tr th {\n",
              "        vertical-align: top;\n",
              "    }\n",
              "\n",
              "    .dataframe thead th {\n",
              "        text-align: right;\n",
              "    }\n",
              "</style>\n",
              "<table border=\"1\" class=\"dataframe\">\n",
              "  <thead>\n",
              "    <tr style=\"text-align: right;\">\n",
              "      <th></th>\n",
              "      <th>emosi</th>\n",
              "      <th>dokumen</th>\n",
              "    </tr>\n",
              "  </thead>\n",
              "  <tbody>\n",
              "    <tr>\n",
              "      <th>124</th>\n",
              "      <td>disgust</td>\n",
              "      <td>when i saw a picture, in the gothenburg post, ...</td>\n",
              "    </tr>\n",
              "    <tr>\n",
              "      <th>526</th>\n",
              "      <td>anger</td>\n",
              "      <td>a friend suggested in a round-about way that t...</td>\n",
              "    </tr>\n",
              "    <tr>\n",
              "      <th>545</th>\n",
              "      <td>fear</td>\n",
              "      <td>i was rock-climbing and absailing &amp; felt ok, b...</td>\n",
              "    </tr>\n",
              "    <tr>\n",
              "      <th>553</th>\n",
              "      <td>anger</td>\n",
              "      <td>getting a terrible exam mark, which i couldn't...</td>\n",
              "    </tr>\n",
              "    <tr>\n",
              "      <th>673</th>\n",
              "      <td>fear</td>\n",
              "      <td>after seeing a terror movie at the cinema, i w...</td>\n",
              "    </tr>\n",
              "    <tr>\n",
              "      <th>...</th>\n",
              "      <td>...</td>\n",
              "      <td>...</td>\n",
              "    </tr>\n",
              "    <tr>\n",
              "      <th>6589</th>\n",
              "      <td>joy</td>\n",
              "      <td>when my boyfriend came form rumphi to lilongwe...</td>\n",
              "    </tr>\n",
              "    <tr>\n",
              "      <th>6592</th>\n",
              "      <td>sadness</td>\n",
              "      <td>i wrote a letter to my boyfriend but he couldn...</td>\n",
              "    </tr>\n",
              "    <tr>\n",
              "      <th>6595</th>\n",
              "      <td>guilt</td>\n",
              "      <td>one day i found an incontinent man in the ward...</td>\n",
              "    </tr>\n",
              "    <tr>\n",
              "      <th>6624</th>\n",
              "      <td>joy</td>\n",
              "      <td>it was in 1983 september when mce results were...</td>\n",
              "    </tr>\n",
              "    <tr>\n",
              "      <th>6647</th>\n",
              "      <td>anger</td>\n",
              "      <td>somebody took my wristwatch and promised to ha...</td>\n",
              "    </tr>\n",
              "  </tbody>\n",
              "</table>\n",
              "<p>61 rows × 2 columns</p>\n",
              "</div>"
            ],
            "text/plain": [
              "        emosi                                            dokumen\n",
              "124   disgust  when i saw a picture, in the gothenburg post, ...\n",
              "526     anger  a friend suggested in a round-about way that t...\n",
              "545      fear  i was rock-climbing and absailing & felt ok, b...\n",
              "553     anger  getting a terrible exam mark, which i couldn't...\n",
              "673      fear  after seeing a terror movie at the cinema, i w...\n",
              "...       ...                                                ...\n",
              "6589      joy  when my boyfriend came form rumphi to lilongwe...\n",
              "6592  sadness  i wrote a letter to my boyfriend but he couldn...\n",
              "6595    guilt  one day i found an incontinent man in the ward...\n",
              "6624      joy  it was in 1983 september when mce results were...\n",
              "6647    anger  somebody took my wristwatch and promised to ha...\n",
              "\n",
              "[61 rows x 2 columns]"
            ]
          },
          "metadata": {},
          "execution_count": 29
        }
      ]
    },
    {
      "cell_type": "code",
      "metadata": {
        "id": "62ZF5gRet3gf"
      },
      "source": [
        "expanded_words = []    "
      ],
      "execution_count": 30,
      "outputs": []
    },
    {
      "cell_type": "code",
      "metadata": {
        "id": "5glvogu8t3dl"
      },
      "source": [
        "for word in df1.dokumen:\n",
        "  expanded_words.append(contractions.fix(word))"
      ],
      "execution_count": 31,
      "outputs": []
    },
    {
      "cell_type": "code",
      "metadata": {
        "id": "jrSbyPtxt3WL",
        "colab": {
          "base_uri": "https://localhost:8080/"
        },
        "outputId": "58fce0c8-13e1-4aeb-869e-2b10d753653e"
      },
      "source": [
        "np.shape(expanded_words)"
      ],
      "execution_count": 32,
      "outputs": [
        {
          "output_type": "execute_result",
          "data": {
            "text/plain": [
              "(7516,)"
            ]
          },
          "metadata": {},
          "execution_count": 32
        }
      ]
    },
    {
      "cell_type": "code",
      "metadata": {
        "id": "Ftx4dckWY5MQ"
      },
      "source": [
        "df1.dokumen=expanded_words"
      ],
      "execution_count": 34,
      "outputs": []
    },
    {
      "cell_type": "code",
      "metadata": {
        "colab": {
          "base_uri": "https://localhost:8080/",
          "height": 49
        },
        "id": "iVmrpIOBZAdZ",
        "outputId": "8a517662-ebbc-4fa6-b31e-0eccfc5b57c5"
      },
      "source": [
        "df1[df1['dokumen'].str.contains(\"couldn't\")]"
      ],
      "execution_count": 35,
      "outputs": [
        {
          "output_type": "execute_result",
          "data": {
            "text/html": [
              "<div>\n",
              "<style scoped>\n",
              "    .dataframe tbody tr th:only-of-type {\n",
              "        vertical-align: middle;\n",
              "    }\n",
              "\n",
              "    .dataframe tbody tr th {\n",
              "        vertical-align: top;\n",
              "    }\n",
              "\n",
              "    .dataframe thead th {\n",
              "        text-align: right;\n",
              "    }\n",
              "</style>\n",
              "<table border=\"1\" class=\"dataframe\">\n",
              "  <thead>\n",
              "    <tr style=\"text-align: right;\">\n",
              "      <th></th>\n",
              "      <th>emosi</th>\n",
              "      <th>dokumen</th>\n",
              "    </tr>\n",
              "  </thead>\n",
              "  <tbody>\n",
              "  </tbody>\n",
              "</table>\n",
              "</div>"
            ],
            "text/plain": [
              "Empty DataFrame\n",
              "Columns: [emosi, dokumen]\n",
              "Index: []"
            ]
          },
          "metadata": {},
          "execution_count": 35
        }
      ]
    },
    {
      "cell_type": "code",
      "metadata": {
        "id": "4x5xoGarZw3c"
      },
      "source": [
        "expanded_words = []\n",
        "for word in df2.tweet:\n",
        "  expanded_words.append(contractions.fix(word))"
      ],
      "execution_count": 37,
      "outputs": []
    },
    {
      "cell_type": "code",
      "metadata": {
        "id": "4EZ65vaszkPI"
      },
      "source": [
        "df2.tweet=expanded_words"
      ],
      "execution_count": 39,
      "outputs": []
    },
    {
      "cell_type": "code",
      "metadata": {
        "id": "ABfcfuiJz9VM",
        "outputId": "25ddac18-9fe7-4584-b7aa-18f28e854276",
        "colab": {
          "base_uri": "https://localhost:8080/",
          "height": 206
        }
      },
      "source": [
        "df2.head()"
      ],
      "execution_count": 41,
      "outputs": [
        {
          "output_type": "execute_result",
          "data": {
            "text/html": [
              "<div>\n",
              "<style scoped>\n",
              "    .dataframe tbody tr th:only-of-type {\n",
              "        vertical-align: middle;\n",
              "    }\n",
              "\n",
              "    .dataframe tbody tr th {\n",
              "        vertical-align: top;\n",
              "    }\n",
              "\n",
              "    .dataframe thead th {\n",
              "        text-align: right;\n",
              "    }\n",
              "</style>\n",
              "<table border=\"1\" class=\"dataframe\">\n",
              "  <thead>\n",
              "    <tr style=\"text-align: right;\">\n",
              "      <th></th>\n",
              "      <th>tweet</th>\n",
              "    </tr>\n",
              "  </thead>\n",
              "  <tbody>\n",
              "    <tr>\n",
              "      <th>0</th>\n",
              "      <td>is upset that he cannot update his facebook by...</td>\n",
              "    </tr>\n",
              "    <tr>\n",
              "      <th>1</th>\n",
              "      <td>i dived many times for the ball. managed to sa...</td>\n",
              "    </tr>\n",
              "    <tr>\n",
              "      <th>2</th>\n",
              "      <td>my whole body feels itchy and like its on fire</td>\n",
              "    </tr>\n",
              "    <tr>\n",
              "      <th>3</th>\n",
              "      <td>no, it is not behaving at all. I am mad. why a...</td>\n",
              "    </tr>\n",
              "    <tr>\n",
              "      <th>4</th>\n",
              "      <td>not the whole crew</td>\n",
              "    </tr>\n",
              "  </tbody>\n",
              "</table>\n",
              "</div>"
            ],
            "text/plain": [
              "                                               tweet\n",
              "0  is upset that he cannot update his facebook by...\n",
              "1  i dived many times for the ball. managed to sa...\n",
              "2     my whole body feels itchy and like its on fire\n",
              "3  no, it is not behaving at all. I am mad. why a...\n",
              "4                                 not the whole crew"
            ]
          },
          "metadata": {},
          "execution_count": 41
        }
      ]
    },
    {
      "cell_type": "markdown",
      "metadata": {
        "id": "rS8J8JjJamsx"
      },
      "source": [
        "preputama : cleansing"
      ]
    },
    {
      "cell_type": "code",
      "metadata": {
        "id": "2z_rN6_Famg-"
      },
      "source": [
        "df1['dokumen'] = df1['dokumen'].str.replace(r'[^\\w\\s]+', '')"
      ],
      "execution_count": 42,
      "outputs": []
    },
    {
      "cell_type": "code",
      "metadata": {
        "id": "AZFkyajP0I84"
      },
      "source": [
        "df2['tweet'] = df2['tweet'].str.replace(r'[^\\w\\s]+', '')"
      ],
      "execution_count": 43,
      "outputs": []
    },
    {
      "cell_type": "code",
      "metadata": {
        "id": "FugbI_iu052g",
        "colab": {
          "base_uri": "https://localhost:8080/"
        },
        "outputId": "4c7a8ac0-f0b4-4e06-c6dc-d80f5621af25"
      },
      "source": [
        "df1.shape"
      ],
      "execution_count": 44,
      "outputs": [
        {
          "output_type": "execute_result",
          "data": {
            "text/plain": [
              "(7516, 2)"
            ]
          },
          "metadata": {},
          "execution_count": 44
        }
      ]
    },
    {
      "cell_type": "markdown",
      "metadata": {
        "id": "Hrfg5PlYaK_o"
      },
      "source": [
        "preptambah : remove stopword"
      ]
    },
    {
      "cell_type": "code",
      "metadata": {
        "colab": {
          "base_uri": "https://localhost:8080/"
        },
        "id": "Ol3lV82FbtgA",
        "outputId": "637fb7b5-c55c-45b3-d4d6-043322f48bc5"
      },
      "source": [
        "from nltk.corpus import stopwords\n",
        "nltk.download('stopwords')\n",
        "stop = stopwords.words('english')"
      ],
      "execution_count": 45,
      "outputs": [
        {
          "output_type": "stream",
          "name": "stdout",
          "text": [
            "[nltk_data] Downloading package stopwords to /root/nltk_data...\n",
            "[nltk_data]   Unzipping corpora/stopwords.zip.\n"
          ]
        }
      ]
    },
    {
      "cell_type": "code",
      "metadata": {
        "id": "RKuF-6uCZ9Y1"
      },
      "source": [
        "pat = r'\\b(?:{})\\b'.format('|'.join(stop))\n",
        "df1['dokumen'] = df1['dokumen'].str.replace(pat, '')\n",
        "df1['dokumen'] = df1['dokumen'].str.replace(r'\\s+', ' ')"
      ],
      "execution_count": 46,
      "outputs": []
    },
    {
      "cell_type": "code",
      "metadata": {
        "id": "eaN5rbCj0VaW"
      },
      "source": [
        "df2['tweet'] = df2['tweet'].str.replace(pat, '')\n",
        "df2['tweet'] = df2['tweet'].str.replace(r'\\s+', ' ')"
      ],
      "execution_count": 47,
      "outputs": []
    },
    {
      "cell_type": "code",
      "metadata": {
        "colab": {
          "base_uri": "https://localhost:8080/",
          "height": 206
        },
        "id": "dve1Ha9fZ9WR",
        "outputId": "cd4860a1-aa91-423b-8593-d714f992e14a"
      },
      "source": [
        "df1.head()"
      ],
      "execution_count": null,
      "outputs": [
        {
          "output_type": "execute_result",
          "data": {
            "text/html": [
              "<div>\n",
              "<style scoped>\n",
              "    .dataframe tbody tr th:only-of-type {\n",
              "        vertical-align: middle;\n",
              "    }\n",
              "\n",
              "    .dataframe tbody tr th {\n",
              "        vertical-align: top;\n",
              "    }\n",
              "\n",
              "    .dataframe thead th {\n",
              "        text-align: right;\n",
              "    }\n",
              "</style>\n",
              "<table border=\"1\" class=\"dataframe\">\n",
              "  <thead>\n",
              "    <tr style=\"text-align: right;\">\n",
              "      <th></th>\n",
              "      <th>emosi</th>\n",
              "      <th>dokumen</th>\n",
              "    </tr>\n",
              "  </thead>\n",
              "  <tbody>\n",
              "    <tr>\n",
              "      <th>0</th>\n",
              "      <td>joy</td>\n",
              "      <td>days feel close partner friends feel peace al...</td>\n",
              "    </tr>\n",
              "    <tr>\n",
              "      <th>1</th>\n",
              "      <td>fear</td>\n",
              "      <td>every time imagine someone love could contact ...</td>\n",
              "    </tr>\n",
              "    <tr>\n",
              "      <th>2</th>\n",
              "      <td>anger</td>\n",
              "      <td>obviously unjustly treated possibility elucid...</td>\n",
              "    </tr>\n",
              "    <tr>\n",
              "      <th>3</th>\n",
              "      <td>sadness</td>\n",
              "      <td>think short time live relate periods life thi...</td>\n",
              "    </tr>\n",
              "    <tr>\n",
              "      <th>4</th>\n",
              "      <td>disgust</td>\n",
              "      <td>gathering found involuntarily sitting next tw...</td>\n",
              "    </tr>\n",
              "  </tbody>\n",
              "</table>\n",
              "</div>"
            ],
            "text/plain": [
              "     emosi                                            dokumen\n",
              "0      joy   days feel close partner friends feel peace al...\n",
              "1     fear  every time imagine someone love could contact ...\n",
              "2    anger   obviously unjustly treated possibility elucid...\n",
              "3  sadness   think short time live relate periods life thi...\n",
              "4  disgust   gathering found involuntarily sitting next tw..."
            ]
          },
          "metadata": {},
          "execution_count": 75
        }
      ]
    },
    {
      "cell_type": "code",
      "metadata": {
        "id": "sOhcWRl94ygC",
        "colab": {
          "base_uri": "https://localhost:8080/"
        },
        "outputId": "c62dba7d-0e6c-4598-ec8a-b007a8a21442"
      },
      "source": [
        "df1.shape"
      ],
      "execution_count": 48,
      "outputs": [
        {
          "output_type": "execute_result",
          "data": {
            "text/plain": [
              "(7516, 2)"
            ]
          },
          "metadata": {},
          "execution_count": 48
        }
      ]
    },
    {
      "cell_type": "markdown",
      "metadata": {
        "id": "DnbrT-4daeEK"
      },
      "source": [
        "preputama : Lemmatization(d laporan salah tkoniize word)"
      ]
    },
    {
      "cell_type": "code",
      "metadata": {
        "id": "XpqeTa21Z9OS"
      },
      "source": [
        "sentences = [word_tokenize(x) for x in df1.dokumen] \n",
        "# df = pd.DataFrame(df.apply(list,axis=1), columns=['dokumen'])"
      ],
      "execution_count": 49,
      "outputs": []
    },
    {
      "cell_type": "code",
      "metadata": {
        "id": "lSYO9qJUCeta"
      },
      "source": [
        "df1.dokumen=sentences"
      ],
      "execution_count": 50,
      "outputs": []
    },
    {
      "cell_type": "code",
      "metadata": {
        "id": "7i87GrAz0mGh"
      },
      "source": [
        "sentences = [word_tokenize(x) for x in df2.tweet] "
      ],
      "execution_count": 51,
      "outputs": []
    },
    {
      "cell_type": "code",
      "metadata": {
        "id": "cFJfYX0W0uPR"
      },
      "source": [
        "df2.tweet=sentences"
      ],
      "execution_count": 52,
      "outputs": []
    },
    {
      "cell_type": "markdown",
      "metadata": {
        "id": "kuXE9IGwXtZ2"
      },
      "source": [
        "preptambah : steming (di laporan lematization salah karna lematization = tokenize)"
      ]
    },
    {
      "cell_type": "code",
      "metadata": {
        "id": "K1ywmZGYZ9RJ"
      },
      "source": [
        "from nltk.stem.snowball import SnowballStemmer\n",
        "\n",
        "# Use English stemmer.\n",
        "stemmer = SnowballStemmer(\"english\")"
      ],
      "execution_count": 53,
      "outputs": []
    },
    {
      "cell_type": "code",
      "metadata": {
        "id": "vonaeiobZ9Lh",
        "colab": {
          "base_uri": "https://localhost:8080/"
        },
        "outputId": "7c037dd9-3d8b-4b59-9755-840239848f55"
      },
      "source": [
        "# temp = df.dokumen.apply(lambda x: [stemmer.stem(y) for y in x])\n",
        "df1['dokumen'].apply(lambda x: [stemmer.stem(y) for y in x])"
      ],
      "execution_count": 54,
      "outputs": [
        {
          "output_type": "execute_result",
          "data": {
            "text/plain": [
              "0       [day, feel, close, partner, friend, feel, peac...\n",
              "1       [everi, time, imagin, someon, love, could, con...\n",
              "2               [obvious, unjust, treat, possibl, elucid]\n",
              "3       [think, short, time, live, relat, period, life...\n",
              "4       [gather, found, involuntarili, sit, next, two,...\n",
              "                              ...                        \n",
              "7511    [two, year, back, someon, invit, tutor, grandd...\n",
              "7512    [taken, respons, someth, prepar, howev, fail, ...\n",
              "7513    [home, heard, loud, sound, spit, outsid, door,...\n",
              "7514          [homework, teacher, ask, us, scold, immedi]\n",
              "7515    [shout, younger, brother, alway, afraid, call,...\n",
              "Name: dokumen, Length: 7516, dtype: object"
            ]
          },
          "metadata": {},
          "execution_count": 54
        }
      ]
    },
    {
      "cell_type": "code",
      "metadata": {
        "id": "AwjFAKCg1A8P",
        "outputId": "ceb9f706-a33b-4f3f-e7bc-f82610ccc9df",
        "colab": {
          "base_uri": "https://localhost:8080/"
        }
      },
      "source": [
        "df2['tweet'].apply(lambda x: [stemmer.stem(y) for y in x])"
      ],
      "execution_count": 55,
      "outputs": [
        {
          "output_type": "execute_result",
          "data": {
            "text/plain": [
              "0          [upset, can, not, updat, facebook, text, might...\n",
              "1          [dive, mani, time, ball, manag, save, 50, rest...\n",
              "2                     [whole, bodi, feel, itchi, like, fire]\n",
              "3                             [behav, i, mad, can, not, see]\n",
              "4                                              [whole, crew]\n",
              "                                 ...                        \n",
              "1596959                     [woke, school, best, feel, ever]\n",
              "1596960     [thewdbcom, cool, hear, old, walt, interview, â]\n",
              "1596961                   [readi, mojo, makeov, ask, detail]\n",
              "1596962    [happi, 38th, birthday, boo, alll, time, tupac...\n",
              "1596963                                              [happi]\n",
              "Name: tweet, Length: 1596964, dtype: object"
            ]
          },
          "metadata": {},
          "execution_count": 55
        }
      ]
    },
    {
      "cell_type": "code",
      "metadata": {
        "id": "Lf2yV0_wdOEF",
        "colab": {
          "base_uri": "https://localhost:8080/",
          "height": 206
        },
        "outputId": "e2432818-e115-4ec5-d468-3c88d6edc978"
      },
      "source": [
        "df2.head()"
      ],
      "execution_count": 57,
      "outputs": [
        {
          "output_type": "execute_result",
          "data": {
            "text/html": [
              "<div>\n",
              "<style scoped>\n",
              "    .dataframe tbody tr th:only-of-type {\n",
              "        vertical-align: middle;\n",
              "    }\n",
              "\n",
              "    .dataframe tbody tr th {\n",
              "        vertical-align: top;\n",
              "    }\n",
              "\n",
              "    .dataframe thead th {\n",
              "        text-align: right;\n",
              "    }\n",
              "</style>\n",
              "<table border=\"1\" class=\"dataframe\">\n",
              "  <thead>\n",
              "    <tr style=\"text-align: right;\">\n",
              "      <th></th>\n",
              "      <th>tweet</th>\n",
              "    </tr>\n",
              "  </thead>\n",
              "  <tbody>\n",
              "    <tr>\n",
              "      <th>0</th>\n",
              "      <td>[upset, can, not, update, facebook, texting, m...</td>\n",
              "    </tr>\n",
              "    <tr>\n",
              "      <th>1</th>\n",
              "      <td>[dived, many, times, ball, managed, save, 50, ...</td>\n",
              "    </tr>\n",
              "    <tr>\n",
              "      <th>2</th>\n",
              "      <td>[whole, body, feels, itchy, like, fire]</td>\n",
              "    </tr>\n",
              "    <tr>\n",
              "      <th>3</th>\n",
              "      <td>[behaving, I, mad, can, not, see]</td>\n",
              "    </tr>\n",
              "    <tr>\n",
              "      <th>4</th>\n",
              "      <td>[whole, crew]</td>\n",
              "    </tr>\n",
              "  </tbody>\n",
              "</table>\n",
              "</div>"
            ],
            "text/plain": [
              "                                               tweet\n",
              "0  [upset, can, not, update, facebook, texting, m...\n",
              "1  [dived, many, times, ball, managed, save, 50, ...\n",
              "2            [whole, body, feels, itchy, like, fire]\n",
              "3                  [behaving, I, mad, can, not, see]\n",
              "4                                      [whole, crew]"
            ]
          },
          "metadata": {},
          "execution_count": 57
        }
      ]
    },
    {
      "cell_type": "markdown",
      "metadata": {
        "id": "K-NOlQnGbDUj"
      },
      "source": [
        "save df"
      ]
    },
    {
      "cell_type": "code",
      "metadata": {
        "id": "gk1V4HBPDHVw"
      },
      "source": [
        "# df.to_csv(r'dataisear(preptambah).csv', index = False)"
      ],
      "execution_count": null,
      "outputs": []
    },
    {
      "cell_type": "markdown",
      "metadata": {
        "id": "a2CO8Rbb2f54"
      },
      "source": [
        "word2ec"
      ]
    },
    {
      "cell_type": "code",
      "metadata": {
        "id": "DboqVfIk2eZJ"
      },
      "source": [
        "from gensim.models import Word2Vec"
      ],
      "execution_count": null,
      "outputs": []
    },
    {
      "cell_type": "code",
      "metadata": {
        "colab": {
          "base_uri": "https://localhost:8080/"
        },
        "id": "elyuEtW62W2h",
        "outputId": "2bb33498-2ca5-4a53-e590-f924491e216f"
      },
      "source": [
        "len(df)"
      ],
      "execution_count": null,
      "outputs": [
        {
          "output_type": "execute_result",
          "data": {
            "text/plain": [
              "5371"
            ]
          },
          "metadata": {},
          "execution_count": 28
        }
      ]
    },
    {
      "cell_type": "code",
      "metadata": {
        "id": "vnJlv_Lw2_5P"
      },
      "source": [
        "w2v = Word2Vec(df.dokumen, window=2, min_count=1, workers=4, sg=1)"
      ],
      "execution_count": null,
      "outputs": []
    },
    {
      "cell_type": "markdown",
      "metadata": {
        "id": "Gl5QgszsXz9I"
      },
      "source": [
        "cek model"
      ]
    },
    {
      "cell_type": "code",
      "metadata": {
        "colab": {
          "base_uri": "https://localhost:8080/"
        },
        "id": "TWu2zy-n3DYa",
        "outputId": "2cc1bb49-8a4f-4544-ec19-70dd1b9edc2c"
      },
      "source": [
        "cek=w2v.wv\n",
        "words=w2v.wv.vocab\n",
        "# words\n",
        "cek.vector_size"
      ],
      "execution_count": null,
      "outputs": [
        {
          "output_type": "execute_result",
          "data": {
            "text/plain": [
              "100"
            ]
          },
          "metadata": {},
          "execution_count": 30
        }
      ]
    },
    {
      "cell_type": "code",
      "metadata": {
        "colab": {
          "base_uri": "https://localhost:8080/"
        },
        "id": "IWqWUoSV3F3t",
        "outputId": "2e60aecb-ea8e-444a-92b0-81832de1b614"
      },
      "source": [
        "cek.vectors.shape"
      ],
      "execution_count": null,
      "outputs": [
        {
          "output_type": "execute_result",
          "data": {
            "text/plain": [
              "(7360, 100)"
            ]
          },
          "metadata": {},
          "execution_count": 31
        }
      ]
    },
    {
      "cell_type": "code",
      "metadata": {
        "colab": {
          "base_uri": "https://localhost:8080/"
        },
        "id": "4r1Bhtt63OFA",
        "outputId": "a17b7ca4-aa09-4a8c-e34a-9c2d91d38016"
      },
      "source": [
        "len(cek.vocab)"
      ],
      "execution_count": null,
      "outputs": [
        {
          "output_type": "execute_result",
          "data": {
            "text/plain": [
              "7360"
            ]
          },
          "metadata": {},
          "execution_count": 32
        }
      ]
    },
    {
      "cell_type": "code",
      "metadata": {
        "colab": {
          "base_uri": "https://localhost:8080/"
        },
        "id": "R6GsJv-YWyQi",
        "outputId": "6a88dbf5-1a93-46b0-e381-92d98f84d33f"
      },
      "source": [
        "cek[\"moment\"]"
      ],
      "execution_count": null,
      "outputs": [
        {
          "output_type": "execute_result",
          "data": {
            "text/plain": [
              "array([-0.05862299,  0.22508198, -0.13850515,  0.31722715,  0.11889735,\n",
              "       -0.11807713, -0.06262606,  0.02021961,  0.23428036, -0.06522927,\n",
              "       -0.02008539,  0.07633714, -0.28694856, -0.11772314,  0.02065589,\n",
              "       -0.23596933, -0.49432677,  0.17330706,  0.08011135, -0.11707683,\n",
              "        0.33306676, -0.08878564, -0.23450159, -0.03837556,  0.17644224,\n",
              "        0.29376775,  0.00698024,  0.06053988,  0.07317508,  0.13594294,\n",
              "       -0.04905974, -0.2246355 ,  0.00548952,  0.05084601,  0.24990462,\n",
              "        0.21754509, -0.04135342, -0.10074922,  0.39971665, -0.34514573,\n",
              "        0.07501674, -0.3883192 ,  0.03999413,  0.06995467,  0.23146112,\n",
              "       -0.02485915,  0.35272306, -0.01243439,  0.30022946,  0.19303165,\n",
              "        0.18677832,  0.03394024,  0.14273503,  0.02596203,  0.06884047,\n",
              "       -0.17319521,  0.00270883, -0.25664157, -0.08708991, -0.25344396,\n",
              "       -0.01000275, -0.10763717, -0.4692845 ,  0.09882941,  0.11066502,\n",
              "       -0.03902414, -0.05765903,  0.00720209, -0.10195552, -0.15815929,\n",
              "       -0.17085743, -0.01296524, -0.15710275, -0.38577217, -0.1296577 ,\n",
              "        0.00677829, -0.05534827, -0.41268733, -0.08057538,  0.03803543,\n",
              "       -0.08712812, -0.09405888, -0.2494008 , -0.02032493,  0.06544086,\n",
              "       -0.31585965, -0.13865401,  0.12073067, -0.18669918,  0.10507258,\n",
              "       -0.14225988, -0.14785771,  0.17583577, -0.1234166 , -0.16753969,\n",
              "        0.03779866,  0.21300176,  0.10693377,  0.32911992, -0.17251064],\n",
              "      dtype=float32)"
            ]
          },
          "metadata": {},
          "execution_count": 33
        }
      ]
    },
    {
      "cell_type": "markdown",
      "metadata": {
        "id": "myQsetPR3tLU"
      },
      "source": [
        "ekstraksi fitur"
      ]
    },
    {
      "cell_type": "code",
      "metadata": {
        "id": "IxR45IUU3QxR"
      },
      "source": [
        "import array\n",
        "ekstrak=[]\n",
        "temp=array.array('i',(0,)*100)\n",
        "for senten in df.dokumen:\n",
        "  for word in senten:\n",
        "    temp=np.add(temp,cek[word])\n",
        "  temp=temp/len(senten)\n",
        "  ekstrak.append(temp)\n",
        "has_vec=ekstrak"
      ],
      "execution_count": null,
      "outputs": []
    },
    {
      "cell_type": "code",
      "metadata": {
        "colab": {
          "base_uri": "https://localhost:8080/"
        },
        "id": "pRTuBH09XfkI",
        "outputId": "3ca4b1d3-9a36-424a-a583-eb22c7958ae8"
      },
      "source": [
        "X=has_vec\n",
        "y=df.emosi\n",
        "print(np.shape(X))\n",
        "print(np.shape(y))\n",
        "# print(X)\n",
        "# print(y)"
      ],
      "execution_count": null,
      "outputs": [
        {
          "output_type": "stream",
          "name": "stdout",
          "text": [
            "(5371, 100)\n",
            "(5371,)\n"
          ]
        }
      ]
    },
    {
      "cell_type": "markdown",
      "metadata": {
        "id": "9REgAm12XkXE"
      },
      "source": [
        "klasifikasi svm"
      ]
    },
    {
      "cell_type": "code",
      "metadata": {
        "id": "N_7cSx4lXl7N"
      },
      "source": [
        "from sklearn import svm\n",
        "from sklearn.model_selection import cross_val_score"
      ],
      "execution_count": null,
      "outputs": []
    },
    {
      "cell_type": "code",
      "metadata": {
        "colab": {
          "base_uri": "https://localhost:8080/"
        },
        "id": "nXGSL_-1XpMg",
        "outputId": "e106c354-115d-465d-acb4-3fd3f748591f"
      },
      "source": [
        "# langsung cari score\n",
        "\n",
        "# clf = svm.SVC(kernel='poly', decision_function_shape='ovr')\n",
        "# scores = cross_val_score(clf, X, y, cv=10)\n",
        "# # scores.mean()"
      ],
      "execution_count": null,
      "outputs": [
        {
          "output_type": "execute_result",
          "data": {
            "text/plain": [
              "0.19651563872283764"
            ]
          },
          "metadata": {},
          "execution_count": 93
        }
      ]
    },
    {
      "cell_type": "markdown",
      "metadata": {
        "id": "meJ2peGBYxm9"
      },
      "source": [
        "conf matrix dan akurasi"
      ]
    },
    {
      "cell_type": "code",
      "metadata": {
        "id": "PSsCGIVXKdvv"
      },
      "source": [
        "from sklearn.metrics import confusion_matrix\n",
        "from sklearn.metrics import accuracy_score\n",
        "from sklearn.model_selection import cross_val_predict\n",
        "import matplotlib.pyplot as plt\n",
        "from sklearn.metrics import ConfusionMatrixDisplay\n",
        "from sklearn.metrics import precision_recall_fscore_support"
      ],
      "execution_count": null,
      "outputs": []
    },
    {
      "cell_type": "code",
      "metadata": {
        "id": "k6ZhyusnY1Fl",
        "colab": {
          "base_uri": "https://localhost:8080/",
          "height": 318
        },
        "outputId": "3a85f189-7fd4-4f7a-9a67-33346ca18e74"
      },
      "source": [
        "clf = svm.SVC(kernel='poly', decision_function_shape='ovr')\n",
        "y_pred = cross_val_predict(clf, X, y, cv=10)\n",
        "ConfusionMatrixDisplay.from_predictions(y, y_pred)\n",
        "plt.show()\n",
        "print(accuracy_score(y, y_pred))\n",
        "print(precision_recall_fscore_support(y, y_pred, average='macro'))"
      ],
      "execution_count": null,
      "outputs": [
        {
          "output_type": "display_data",
          "data": {
            "image/png": "[encoded data removed]",
            "text/plain": [
              "<Figure size 432x288 with 2 Axes>"
            ]
          },
          "metadata": {
            "needs_background": "light"
          }
        },
        {
          "output_type": "stream",
          "name": "stdout",
          "text": [
            "0.3636194377210948\n",
            "(0.3783209001715788, 0.3642763432692806, 0.3446222480852813, None)\n"
          ]
        }
      ]
    },
    {
      "cell_type": "code",
      "metadata": {
        "id": "IIcjn4VEjQgn",
        "colab": {
          "base_uri": "https://localhost:8080/",
          "height": 297
        },
        "outputId": "900c47ee-0d91-47b8-c243-291f198a67ab"
      },
      "source": [
        "clf = svm.SVC(kernel='rbf', decision_function_shape='ovr')\n",
        "y_pred = cross_val_predict(clf, X, y, cv=10)\n",
        "ConfusionMatrixDisplay.from_predictions(y, y_pred)\n",
        "plt.show()\n",
        "print(accuracy_score(y, y_pred))\n",
        "print(precision_recall_fscore_support(y, y_pred, average='macro'))"
      ],
      "execution_count": null,
      "outputs": [
        {
          "output_type": "display_data",
          "data": {
            "image/png": "[encoded data removed]",
            "text/plain": [
              "<Figure size 432x288 with 2 Axes>"
            ]
          },
          "metadata": {
            "needs_background": "light"
          }
        },
        {
          "output_type": "execute_result",
          "data": {
            "text/plain": [
              "0.36250232731334947"
            ]
          },
          "metadata": {},
          "execution_count": 39
        }
      ]
    },
    {
      "cell_type": "code",
      "metadata": {
        "id": "LnjpDIKci_cF",
        "colab": {
          "base_uri": "https://localhost:8080/",
          "height": 297
        },
        "outputId": "238c486e-082c-4d4a-c5f1-a9db589be84b"
      },
      "source": [
        "clf = svm.SVC(kernel='linear', decision_function_shape='ovr')\n",
        "y_pred = cross_val_predict(clf, X, y, cv=10)\n",
        "ConfusionMatrixDisplay.from_predictions(y, y_pred)\n",
        "plt.show()\n",
        "print(accuracy_score(y, y_pred))\n",
        "print(precision_recall_fscore_support(y, y_pred, average='macro'))"
      ],
      "execution_count": null,
      "outputs": [
        {
          "output_type": "display_data",
          "data": {
            "image/png": "[encoded data removed]",
            "text/plain": [
              "<Figure size 432x288 with 2 Axes>"
            ]
          },
          "metadata": {
            "needs_background": "light"
          }
        },
        {
          "output_type": "execute_result",
          "data": {
            "text/plain": [
              "0.3712530255073543"
            ]
          },
          "metadata": {},
          "execution_count": 40
        }
      ]
    },
    {
      "cell_type": "code",
      "metadata": {
        "id": "xfE4hK-yjSP3",
        "colab": {
          "base_uri": "https://localhost:8080/",
          "height": 300
        },
        "outputId": "0c7f096b-8f2e-4715-9f7f-d84d399df1d3"
      },
      "source": [
        "clf = svm.SVC(kernel='sigmoid', decision_function_shape='ovr')\n",
        "y_pred = cross_val_predict(clf, X, y, cv=10)\n",
        "ConfusionMatrixDisplay.from_predictions(y, y_pred)\n",
        "plt.show()\n",
        "print(accuracy_score(y, y_pred))\n",
        "print(precision_recall_fscore_support(y, y_pred, average='macro'))"
      ],
      "execution_count": null,
      "outputs": [
        {
          "output_type": "display_data",
          "data": {
            "image/png": "[encoded data removed]",
            "text/plain": [
              "<Figure size 432x288 with 2 Axes>"
            ]
          },
          "metadata": {
            "needs_background": "light"
          }
        },
        {
          "output_type": "execute_result",
          "data": {
            "text/plain": [
              "0.24129584807298454"
            ]
          },
          "metadata": {},
          "execution_count": 41
        }
      ]
    }
  ]
}