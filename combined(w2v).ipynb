{
  "nbformat": 4,
  "nbformat_minor": 0,
  "metadata": {
    "colab": {
      "name": "w2v.ipynb",
      "provenance": [],
      "authorship_tag": "ABX9TyO2g8VaQx3F8Wro0pqurKkB",
      "include_colab_link": true
    },
    "kernelspec": {
      "name": "python3",
      "display_name": "Python 3"
    },
    "language_info": {
      "name": "python"
    }
  },
  "cells": [
    {
      "cell_type": "markdown",
      "metadata": {
        "id": "view-in-github",
        "colab_type": "text"
      },
      "source": [
        "<a href=\"https://colab.research.google.com/github/alfinmaulani/skripsi/blob/master/combined(w2v).ipynb\" target=\"_parent\"><img src=\"https://colab.research.google.com/assets/colab-badge.svg\" alt=\"Open In Colab\"/></a>"
      ]
    },
    {
      "cell_type": "code",
      "metadata": {
        "colab": {
          "base_uri": "https://localhost:8080/"
        },
        "id": "ci3dfx-9C_ji",
        "outputId": "ebca1888-9ecb-4582-f01f-360d2da17804"
      },
      "source": [
        "!pip install --upgrade scikit-learn\n",
        "import numpy as np\n",
        "import pandas as pd\n",
        "import io\n",
        "import os\n",
        "from nltk.tokenize import word_tokenize\n",
        "import nltk\n",
        "nltk.download('punkt')\n",
        "import gensim"
      ],
      "execution_count": 6,
      "outputs": [
        {
          "output_type": "stream",
          "name": "stdout",
          "text": [
            "Requirement already satisfied: scikit-learn in /usr/local/lib/python3.7/dist-packages (1.0.1)\n",
            "Requirement already satisfied: threadpoolctl>=2.0.0 in /usr/local/lib/python3.7/dist-packages (from scikit-learn) (3.0.0)\n",
            "Requirement already satisfied: joblib>=0.11 in /usr/local/lib/python3.7/dist-packages (from scikit-learn) (1.1.0)\n",
            "Requirement already satisfied: scipy>=1.1.0 in /usr/local/lib/python3.7/dist-packages (from scikit-learn) (1.4.1)\n",
            "Requirement already satisfied: numpy>=1.14.6 in /usr/local/lib/python3.7/dist-packages (from scikit-learn) (1.19.5)\n",
            "[nltk_data] Downloading package punkt to /root/nltk_data...\n",
            "[nltk_data]   Package punkt is already up-to-date!\n"
          ]
        }
      ]
    },
    {
      "cell_type": "code",
      "metadata": {
        "id": "-2hacXvT3mX8"
      },
      "source": [
        "url0='https://raw.githubusercontent.com/alfinmaulani/skripsi/master/dataISEAR.csv'\n",
        "df = pd.read_csv(url0)"
      ],
      "execution_count": 7,
      "outputs": []
    },
    {
      "cell_type": "code",
      "metadata": {
        "id": "O4Z-0nnxJEVR"
      },
      "source": [
        "df=df.drop(df[df['emosi'] == 'shame'].sample(frac=1).index)\n",
        "df=df.drop(df[df['emosi'] == 'guilt'].sample(frac=1).index)"
      ],
      "execution_count": 8,
      "outputs": []
    },
    {
      "cell_type": "code",
      "metadata": {
        "colab": {
          "base_uri": "https://localhost:8080/"
        },
        "id": "ecmoGKcODIAZ",
        "outputId": "1885be57-02c5-4d19-c3c8-623fc5219b9b"
      },
      "source": [
        "df.emosi.value_counts()"
      ],
      "execution_count": null,
      "outputs": [
        {
          "output_type": "execute_result",
          "data": {
            "text/plain": [
              "joy        1092\n",
              "sadness    1082\n",
              "anger      1079\n",
              "fear       1076\n",
              "disgust    1066\n",
              "Name: emosi, dtype: int64"
            ]
          },
          "metadata": {},
          "execution_count": 4
        }
      ]
    },
    {
      "cell_type": "code",
      "metadata": {
        "colab": {
          "base_uri": "https://localhost:8080/"
        },
        "id": "qaR1xIQ7wSjI",
        "outputId": "78d12db2-659f-4d39-b478-71c40bd0961e"
      },
      "source": [
        "from google.colab import drive\n",
        "drive.mount('/content/drive')"
      ],
      "execution_count": 9,
      "outputs": [
        {
          "output_type": "stream",
          "name": "stdout",
          "text": [
            "Drive already mounted at /content/drive; to attempt to forcibly remount, call drive.mount(\"/content/drive\", force_remount=True).\n"
          ]
        }
      ]
    },
    {
      "cell_type": "code",
      "metadata": {
        "id": "ruW71PnjYYWo"
      },
      "source": [
        "dfblog = pd.read_csv('/content/drive/MyDrive/korpusblogspertiga.csv')"
      ],
      "execution_count": 5,
      "outputs": []
    },
    {
      "cell_type": "code",
      "metadata": {
        "id": "YoIxmDkPwgYc"
      },
      "source": [
        "dftwit = pd.read_csv('/content/drive/MyDrive/twitter_prosessed.csv')#good"
      ],
      "execution_count": 10,
      "outputs": []
    },
    {
      "cell_type": "code",
      "metadata": {
        "id": "9EySiKNqqAei"
      },
      "source": [
        "df1 = pd.read_csv(url0)\n",
        "df1=df1.drop(df1[df1['emosi'] == 'joy'].sample(frac=1).index)\n",
        "df1=df1.drop(df1[df1['emosi'] == 'sadness'].sample(frac=1).index)\n",
        "df1=df1.drop(df1[df1['emosi'] == 'anger'].sample(frac=1).index)\n",
        "df1=df1.drop(df1[df1['emosi'] == 'fear'].sample(frac=1).index)\n",
        "df1=df1.drop(df1[df1['emosi'] == 'disgust'].sample(frac=1).index)"
      ],
      "execution_count": null,
      "outputs": []
    },
    {
      "cell_type": "code",
      "metadata": {
        "id": "UsD_f0bRqUU6"
      },
      "source": [
        "df2=pd.read_csv('https://raw.githubusercontent.com/alfinmaulani/skripsi/master/korpus2.txt', delimiter = \";\")#good\n",
        "df2.columns=['dok','tes']"
      ],
      "execution_count": null,
      "outputs": []
    },
    {
      "cell_type": "code",
      "metadata": {
        "id": "dLw6UoM4qWrW"
      },
      "source": [
        "df3=pd.read_csv('https://raw.githubusercontent.com/alfinmaulani/skripsi/master/korpus3.csv')#vgood"
      ],
      "execution_count": null,
      "outputs": []
    },
    {
      "cell_type": "code",
      "metadata": {
        "id": "zBmtQXu1RhCA"
      },
      "source": [
        "df4=pd.read_csv('https://raw.githubusercontent.com/alfinmaulani/skripsi/master/korpus4.tsv', delimiter = \"\t\")#good\n",
        "df4.columns=['dok','num','code']"
      ],
      "execution_count": null,
      "outputs": []
    },
    {
      "cell_type": "code",
      "metadata": {
        "id": "4qKQjHhbbIyN"
      },
      "source": [
        "df5=pd.read_csv('https://raw.githubusercontent.com/alfinmaulani/skripsi/master/twitter_prosessed2.csv')#good"
      ],
      "execution_count": null,
      "outputs": []
    },
    {
      "cell_type": "code",
      "metadata": {
        "id": "GjIszK-Q-ItN"
      },
      "source": [
        "# df3 = pd.read_csv('/content/drive/MyDrive/idwiki_new_lower.txt', delimiter = \"\\t\")\n",
        "# df3.columns = [\"arti\"]"
      ],
      "execution_count": null,
      "outputs": []
    },
    {
      "cell_type": "markdown",
      "metadata": {
        "id": "gmkGbSnbqzDT"
      },
      "source": [
        "persiapan corpus tambahan"
      ]
    },
    {
      "cell_type": "code",
      "metadata": {
        "id": "0xiibmT3ulNV"
      },
      "source": [
        "final=[]"
      ],
      "execution_count": 11,
      "outputs": []
    },
    {
      "cell_type": "code",
      "metadata": {
        "id": "SSb5niA3YkLu"
      },
      "source": [
        "final.extend(dfblog.teks)"
      ],
      "execution_count": null,
      "outputs": []
    },
    {
      "cell_type": "code",
      "metadata": {
        "id": "ULhUGfZvSAZa"
      },
      "source": [
        "final.extend(dftwit.tweet)"
      ],
      "execution_count": 12,
      "outputs": []
    },
    {
      "cell_type": "code",
      "metadata": {
        "id": "skgMT54qqyMH"
      },
      "source": [
        "final.extend(df1.dokumen)"
      ],
      "execution_count": null,
      "outputs": []
    },
    {
      "cell_type": "code",
      "metadata": {
        "id": "qJg2f6PDrhLO"
      },
      "source": [
        "final.extend(df2.dok)"
      ],
      "execution_count": null,
      "outputs": []
    },
    {
      "cell_type": "code",
      "metadata": {
        "id": "nKXQWkY82SRl"
      },
      "source": [
        "final.extend(df3.content)"
      ],
      "execution_count": null,
      "outputs": []
    },
    {
      "cell_type": "code",
      "metadata": {
        "id": "SQQyyotD3XJq"
      },
      "source": [
        "final.extend(df4.dok)"
      ],
      "execution_count": null,
      "outputs": []
    },
    {
      "cell_type": "code",
      "metadata": {
        "id": "EPWOzLg9fIqt"
      },
      "source": [
        "final.extend(df5.content)"
      ],
      "execution_count": null,
      "outputs": []
    },
    {
      "cell_type": "code",
      "metadata": {
        "id": "KzreJN1huUMf"
      },
      "source": [
        "dfg = pd.DataFrame(final)\n",
        "dfg.columns=[\"dok\"]"
      ],
      "execution_count": 13,
      "outputs": []
    },
    {
      "cell_type": "markdown",
      "metadata": {
        "id": "9_Vnr7idZXyY"
      },
      "source": [
        "preputama : lower case"
      ]
    },
    {
      "cell_type": "code",
      "metadata": {
        "id": "gi_tcQibuhCO"
      },
      "source": [
        "def lower(temp):\n",
        "  return temp.str.lower()"
      ],
      "execution_count": 14,
      "outputs": []
    },
    {
      "cell_type": "code",
      "metadata": {
        "id": "WhpBZ6kQ9Wb5"
      },
      "source": [
        "df['dokumen']=lower(df['dokumen'])"
      ],
      "execution_count": 15,
      "outputs": []
    },
    {
      "cell_type": "code",
      "metadata": {
        "id": "Z5AtEjx_y6ZZ"
      },
      "source": [
        "dfg['dok']=lower(dfg['dok'])"
      ],
      "execution_count": 16,
      "outputs": []
    },
    {
      "cell_type": "markdown",
      "metadata": {
        "id": "b82j_2JPZaQ8"
      },
      "source": [
        "preputama : Pembersihan noise (over enter and space)"
      ]
    },
    {
      "cell_type": "code",
      "metadata": {
        "id": "j5pxwzRnus2l"
      },
      "source": [
        "def bersih_noise(temp):\n",
        "  temp=temp.replace(' \\n', ' ', regex=True)\n",
        "  temp=temp.replace('   ', ' ', regex=True)\n",
        "  return temp.replace('  ', ' ', regex=True)"
      ],
      "execution_count": 17,
      "outputs": []
    },
    {
      "cell_type": "code",
      "metadata": {
        "id": "Pe0GqxmE9WP2"
      },
      "source": [
        "df=bersih_noise(df)"
      ],
      "execution_count": 18,
      "outputs": []
    },
    {
      "cell_type": "code",
      "metadata": {
        "id": "zo4VQ2Qgy49Q"
      },
      "source": [
        "dfg=bersih_noise(dfg)"
      ],
      "execution_count": 19,
      "outputs": []
    },
    {
      "cell_type": "markdown",
      "metadata": {
        "id": "1KUKEZPEZdku"
      },
      "source": [
        "preptambah : expand contractions"
      ]
    },
    {
      "cell_type": "code",
      "metadata": {
        "id": "DvUkcyckt3jt",
        "colab": {
          "base_uri": "https://localhost:8080/"
        },
        "outputId": "1780a915-4504-4d18-d28a-81a24798cf98"
      },
      "source": [
        "!pip install contractions\n",
        "import contractions\n",
        "def expand_word(temp):\n",
        "  expanded_words = []   \n",
        "  for word in temp:\n",
        "    expanded_words.append(contractions.fix(word))\n",
        "  return expanded_words"
      ],
      "execution_count": null,
      "outputs": [
        {
          "output_type": "stream",
          "name": "stdout",
          "text": [
            "Collecting contractions\n",
            "  Downloading contractions-0.0.58-py2.py3-none-any.whl (8.0 kB)\n",
            "Collecting textsearch>=0.0.21\n",
            "  Downloading textsearch-0.0.21-py2.py3-none-any.whl (7.5 kB)\n",
            "Collecting pyahocorasick\n",
            "  Downloading pyahocorasick-1.4.2.tar.gz (321 kB)\n",
            "\u001b[K     |████████████████████████████████| 321 kB 5.3 MB/s \n",
            "\u001b[?25hCollecting anyascii\n",
            "  Downloading anyascii-0.3.0-py3-none-any.whl (284 kB)\n",
            "\u001b[K     |████████████████████████████████| 284 kB 50.1 MB/s \n",
            "\u001b[?25hBuilding wheels for collected packages: pyahocorasick\n",
            "  Building wheel for pyahocorasick (setup.py) ... \u001b[?25l\u001b[?25hdone\n",
            "  Created wheel for pyahocorasick: filename=pyahocorasick-1.4.2-cp37-cp37m-linux_x86_64.whl size=85443 sha256=9c0413765493ab040e0746a83e5975db74eff06e22ed217c25d9a3835a5a6be4\n",
            "  Stored in directory: /root/.cache/pip/wheels/25/19/a6/8f363d9939162782bb8439d886469756271abc01f76fbd790f\n",
            "Successfully built pyahocorasick\n",
            "Installing collected packages: pyahocorasick, anyascii, textsearch, contractions\n",
            "Successfully installed anyascii-0.3.0 contractions-0.0.58 pyahocorasick-1.4.2 textsearch-0.0.21\n"
          ]
        }
      ]
    },
    {
      "cell_type": "code",
      "metadata": {
        "id": "5glvogu8t3dl"
      },
      "source": [
        "df.dokumen=expand_word(df.dokumen)"
      ],
      "execution_count": null,
      "outputs": []
    },
    {
      "cell_type": "code",
      "metadata": {
        "id": "4x5xoGarZw3c"
      },
      "source": [
        "dfg.dok=expand_word(dfg.dok)"
      ],
      "execution_count": null,
      "outputs": []
    },
    {
      "cell_type": "markdown",
      "metadata": {
        "id": "rS8J8JjJamsx"
      },
      "source": [
        "preputama : cleansing punctuation"
      ]
    },
    {
      "cell_type": "code",
      "metadata": {
        "id": "OnvaHyYXvGOa"
      },
      "source": [
        "def clns_punc(temp):\n",
        "  return temp.str.replace(r'[^\\w\\s]+', '')"
      ],
      "execution_count": 20,
      "outputs": []
    },
    {
      "cell_type": "code",
      "metadata": {
        "id": "2z_rN6_Famg-"
      },
      "source": [
        "df['dokumen'] = clns_punc(df['dokumen'])"
      ],
      "execution_count": 21,
      "outputs": []
    },
    {
      "cell_type": "code",
      "metadata": {
        "id": "AZFkyajP0I84"
      },
      "source": [
        "dfg['dok'] = clns_punc(dfg['dok'])"
      ],
      "execution_count": 22,
      "outputs": []
    },
    {
      "cell_type": "markdown",
      "metadata": {
        "id": "Gh0Jgm7Fsx_T"
      },
      "source": [
        "preputama : cleansing number"
      ]
    },
    {
      "cell_type": "code",
      "metadata": {
        "id": "RVx7XGQf-B1-",
        "colab": {
          "base_uri": "https://localhost:8080/"
        },
        "outputId": "d371cd25-b8d0-4688-adc7-614fe548a382"
      },
      "source": [
        "!pip install tweet-preprocessor\n",
        "import preprocessor as p\n",
        "p.set_options(p.OPT.NUMBER)\n",
        "def clns_numb(temp):\n",
        "  sementara=[]\n",
        "  for word in temp:\n",
        "    sementara.append(p.clean(word))\n",
        "  return sementara"
      ],
      "execution_count": 23,
      "outputs": [
        {
          "output_type": "stream",
          "name": "stdout",
          "text": [
            "Collecting tweet-preprocessor\n",
            "  Downloading tweet_preprocessor-0.6.0-py3-none-any.whl (27 kB)\n",
            "Installing collected packages: tweet-preprocessor\n",
            "Successfully installed tweet-preprocessor-0.6.0\n"
          ]
        }
      ]
    },
    {
      "cell_type": "code",
      "metadata": {
        "id": "0ZcRI_qo-SYZ"
      },
      "source": [
        "df.dokumen=clns_numb(df.dokumen)"
      ],
      "execution_count": 24,
      "outputs": []
    },
    {
      "cell_type": "code",
      "metadata": {
        "id": "_-s4x0QU-rDu"
      },
      "source": [
        "dfg.dok=clns_numb(dfg.dok)"
      ],
      "execution_count": 25,
      "outputs": []
    },
    {
      "cell_type": "markdown",
      "metadata": {
        "id": "Hrfg5PlYaK_o"
      },
      "source": [
        "preptambah : remove stopword"
      ]
    },
    {
      "cell_type": "code",
      "metadata": {
        "colab": {
          "base_uri": "https://localhost:8080/"
        },
        "id": "Ol3lV82FbtgA",
        "outputId": "8cee07f0-d7f6-4316-bb0b-0a71ba29b483"
      },
      "source": [
        "from nltk.corpus import stopwords\n",
        "nltk.download('stopwords')\n",
        "stop = stopwords.words('english')\n",
        "pat = r'\\b(?:{})\\b'.format('|'.join(stop))\n",
        "def remove_stopw(temp):\n",
        "  temp=temp.str.replace(pat, '')\n",
        "  return temp.str.replace(r'\\s+', ' ')"
      ],
      "execution_count": null,
      "outputs": [
        {
          "output_type": "stream",
          "name": "stdout",
          "text": [
            "[nltk_data] Downloading package stopwords to /root/nltk_data...\n",
            "[nltk_data]   Unzipping corpora/stopwords.zip.\n"
          ]
        }
      ]
    },
    {
      "cell_type": "code",
      "metadata": {
        "id": "RKuF-6uCZ9Y1"
      },
      "source": [
        "df['dokumen'] = remove_stopw(df['dokumen'])"
      ],
      "execution_count": null,
      "outputs": []
    },
    {
      "cell_type": "code",
      "metadata": {
        "id": "eaN5rbCj0VaW"
      },
      "source": [
        "dfg['dok'] = remove_stopw(dfg['dok'])"
      ],
      "execution_count": null,
      "outputs": []
    },
    {
      "cell_type": "markdown",
      "metadata": {
        "id": "DnbrT-4daeEK"
      },
      "source": [
        "tokenizing"
      ]
    },
    {
      "cell_type": "code",
      "metadata": {
        "id": "T05fxhVYvmq-"
      },
      "source": [
        "def token(temp):\n",
        "  return [word_tokenize(x) for x in temp]"
      ],
      "execution_count": 26,
      "outputs": []
    },
    {
      "cell_type": "code",
      "metadata": {
        "id": "XpqeTa21Z9OS"
      },
      "source": [
        "df.dokumen=token(df.dokumen)"
      ],
      "execution_count": 27,
      "outputs": []
    },
    {
      "cell_type": "code",
      "metadata": {
        "id": "7i87GrAz0mGh"
      },
      "source": [
        "dfg.dok=token(dfg.dok)"
      ],
      "execution_count": 28,
      "outputs": []
    },
    {
      "cell_type": "markdown",
      "metadata": {
        "id": "kuXE9IGwXtZ2"
      },
      "source": [
        "preptambah : Lemmatization"
      ]
    },
    {
      "cell_type": "code",
      "metadata": {
        "id": "K1ywmZGYZ9RJ"
      },
      "source": [
        "from nltk.stem.snowball import SnowballStemmer\n",
        "stemmer = SnowballStemmer(\"english\")\n",
        "def lemma(temp):\n",
        "  temp.apply(lambda x: [stemmer.stem(y) for y in x])"
      ],
      "execution_count": null,
      "outputs": []
    },
    {
      "cell_type": "code",
      "metadata": {
        "id": "vonaeiobZ9Lh"
      },
      "source": [
        "lemma(df['dokumen'])"
      ],
      "execution_count": null,
      "outputs": []
    },
    {
      "cell_type": "code",
      "metadata": {
        "id": "AwjFAKCg1A8P"
      },
      "source": [
        "lemma(dfg['dok'])"
      ],
      "execution_count": null,
      "outputs": []
    },
    {
      "cell_type": "markdown",
      "metadata": {
        "id": "K-NOlQnGbDUj"
      },
      "source": [
        "save df"
      ]
    },
    {
      "cell_type": "code",
      "metadata": {
        "id": "gk1V4HBPDHVw"
      },
      "source": [
        "# df.to_csv(r'dataisear(preptambah).csv', index = False)"
      ],
      "execution_count": null,
      "outputs": []
    },
    {
      "cell_type": "markdown",
      "metadata": {
        "id": "Sz4dK1iB_tpc"
      },
      "source": [
        "gabung corpus"
      ]
    },
    {
      "cell_type": "code",
      "metadata": {
        "id": "vUZgpFYz0jnF"
      },
      "source": [
        "# sent=df.dokumen"
      ],
      "execution_count": null,
      "outputs": []
    },
    {
      "cell_type": "code",
      "metadata": {
        "id": "w0b3OsYx-sCI"
      },
      "source": [
        "sent=dfg.dok.append(df.dokumen,ignore_index=True)"
      ],
      "execution_count": 29,
      "outputs": []
    },
    {
      "cell_type": "markdown",
      "metadata": {
        "id": "a2CO8Rbb2f54"
      },
      "source": [
        "word2ec"
      ]
    },
    {
      "cell_type": "code",
      "metadata": {
        "id": "DboqVfIk2eZJ"
      },
      "source": [
        "from gensim.models import Word2Vec"
      ],
      "execution_count": 30,
      "outputs": []
    },
    {
      "cell_type": "code",
      "metadata": {
        "id": "uH4GIOTu-a4x"
      },
      "source": [
        "w2v = Word2Vec(sent, window=10, min_count=1, sg=1)"
      ],
      "execution_count": 53,
      "outputs": []
    },
    {
      "cell_type": "markdown",
      "metadata": {
        "id": "Gl5QgszsXz9I"
      },
      "source": [
        "cek model"
      ]
    },
    {
      "cell_type": "code",
      "metadata": {
        "colab": {
          "base_uri": "https://localhost:8080/"
        },
        "id": "IWqWUoSV3F3t",
        "outputId": "ec4ad4ba-d833-45cc-dc37-7602e5abca26"
      },
      "source": [
        "w2v.wv.vectors.shape"
      ],
      "execution_count": 32,
      "outputs": [
        {
          "output_type": "execute_result",
          "data": {
            "text/plain": [
              "(430832, 100)"
            ]
          },
          "metadata": {},
          "execution_count": 32
        }
      ]
    },
    {
      "cell_type": "code",
      "metadata": {
        "id": "R6GsJv-YWyQi"
      },
      "source": [
        "w2v.wv[\"moment\"]"
      ],
      "execution_count": null,
      "outputs": []
    },
    {
      "cell_type": "markdown",
      "metadata": {
        "id": "myQsetPR3tLU"
      },
      "source": [
        "ekstraksi fitur"
      ]
    },
    {
      "cell_type": "code",
      "metadata": {
        "id": "IxR45IUU3QxR"
      },
      "source": [
        "import array\n",
        "ekstrak=[]\n",
        "temp=array.array('i',(0,)*100)\n",
        "for senten in df.dokumen:\n",
        "  for word in senten:\n",
        "    temp=np.add(temp,w2v.wv[word])\n",
        "  temp=temp/len(senten)\n",
        "  ekstrak.append(temp)\n",
        "has_vec=ekstrak"
      ],
      "execution_count": 54,
      "outputs": []
    },
    {
      "cell_type": "code",
      "metadata": {
        "id": "pRTuBH09XfkI",
        "colab": {
          "base_uri": "https://localhost:8080/"
        },
        "outputId": "814e4c3f-d848-4529-9260-e0d09671f48a"
      },
      "source": [
        "X=has_vec\n",
        "y=df.emosi\n",
        "print(np.shape(X))\n",
        "print(np.shape(y))\n",
        "# print(X)\n",
        "# print(y)"
      ],
      "execution_count": 55,
      "outputs": [
        {
          "output_type": "stream",
          "name": "stdout",
          "text": [
            "(5395, 100)\n",
            "(5395,)\n"
          ]
        }
      ]
    },
    {
      "cell_type": "markdown",
      "metadata": {
        "id": "9REgAm12XkXE"
      },
      "source": [
        "klasifikasi svm"
      ]
    },
    {
      "cell_type": "code",
      "metadata": {
        "id": "N_7cSx4lXl7N"
      },
      "source": [
        "from sklearn import svm\n",
        "from sklearn.model_selection import cross_val_score"
      ],
      "execution_count": 35,
      "outputs": []
    },
    {
      "cell_type": "code",
      "metadata": {
        "id": "nXGSL_-1XpMg"
      },
      "source": [
        "# langsung cari score\n",
        "\n",
        "# clf = svm.SVC(kernel='poly', decision_function_shape='ovr')\n",
        "# scores = cross_val_score(clf, X, y, cv=10)\n",
        "# # scores.mean()"
      ],
      "execution_count": null,
      "outputs": []
    },
    {
      "cell_type": "markdown",
      "metadata": {
        "id": "meJ2peGBYxm9"
      },
      "source": [
        "conf matrix dan akurasi"
      ]
    },
    {
      "cell_type": "code",
      "metadata": {
        "id": "PSsCGIVXKdvv"
      },
      "source": [
        "from sklearn.metrics import confusion_matrix\n",
        "from sklearn.metrics import accuracy_score\n",
        "from sklearn.model_selection import cross_val_predict\n",
        "import matplotlib.pyplot as plt\n",
        "from sklearn.metrics import ConfusionMatrixDisplay\n",
        "from sklearn.metrics import precision_recall_fscore_support"
      ],
      "execution_count": 36,
      "outputs": []
    },
    {
      "cell_type": "code",
      "metadata": {
        "id": "bR2blQN2jfL7"
      },
      "source": [
        "# svm.SVC(C=1.0, kernel='rbf', degree=3, gamma='scale', coef0=0.0, shrinking=True, probability=False, tol=0.001, cache_size=200, \n",
        "#  class_weight=None, verbose=False, max_iter=- 1, decision_function_shape='ovr', break_ties=False, random_state=None)"
      ],
      "execution_count": null,
      "outputs": []
    },
    {
      "cell_type": "code",
      "metadata": {
        "id": "KyD-5uhcjfC4"
      },
      "source": [
        "# cross_val_predict(estimator, X, y=None, *, groups=None, cv=None, n_jobs=None, verbose=0, fit_params=None, \n",
        "# pre_dispatch='2*n_jobs', method='predict')"
      ],
      "execution_count": null,
      "outputs": []
    },
    {
      "cell_type": "code",
      "metadata": {
        "id": "bPXBbgcowxY7"
      },
      "source": [
        "def klasifikasi(krnl):\n",
        "  clf = svm.SVC(kernel=krnl, decision_function_shape='ovr')\n",
        "  y_pred = cross_val_predict(clf, X, y, cv=10)\n",
        "  ConfusionMatrixDisplay.from_predictions(y, y_pred)\n",
        "  plt.show()\n",
        "  print(accuracy_score(y, y_pred))\n",
        "  print(precision_recall_fscore_support(y, y_pred, average='macro'))"
      ],
      "execution_count": 37,
      "outputs": []
    },
    {
      "cell_type": "code",
      "metadata": {
        "id": "juuaYpx_wzTK",
        "colab": {
          "base_uri": "https://localhost:8080/",
          "height": 316
        },
        "outputId": "da205da3-8197-4289-c8a8-b1f420a69eeb"
      },
      "source": [
        "klasifikasi('poly')"
      ],
      "execution_count": 56,
      "outputs": [
        {
          "output_type": "display_data",
          "data": {
            "image/png": "[encoded data removed]",
            "text/plain": [
              "<Figure size 432x288 with 2 Axes>"
            ]
          },
          "metadata": {
            "needs_background": "light"
          }
        },
        {
          "output_type": "stream",
          "name": "stdout",
          "text": [
            "0.5723818350324374\n",
            "(0.5810193896653065, 0.5718635954281044, 0.570969207501623, None)\n"
          ]
        }
      ]
    },
    {
      "cell_type": "code",
      "metadata": {
        "id": "UgULTGqFwzDx",
        "colab": {
          "base_uri": "https://localhost:8080/",
          "height": 316
        },
        "outputId": "b0ed9b4b-2a0b-4072-9933-165ea21e346e"
      },
      "source": [
        "klasifikasi('rbf')"
      ],
      "execution_count": 57,
      "outputs": [
        {
          "output_type": "display_data",
          "data": {
            "image/png": "[encoded data removed]",
            "text/plain": [
              "<Figure size 432x288 with 2 Axes>"
            ]
          },
          "metadata": {
            "needs_background": "light"
          }
        },
        {
          "output_type": "stream",
          "name": "stdout",
          "text": [
            "0.5720111214087118\n",
            "(0.5788673623702716, 0.5714441250816692, 0.5698195404284805, None)\n"
          ]
        }
      ]
    },
    {
      "cell_type": "code",
      "metadata": {
        "id": "fSryKwrSwy7E",
        "colab": {
          "base_uri": "https://localhost:8080/",
          "height": 316
        },
        "outputId": "dd591864-e8f9-4157-f400-0baf0d214ea2"
      },
      "source": [
        "klasifikasi('linear')"
      ],
      "execution_count": 58,
      "outputs": [
        {
          "output_type": "display_data",
          "data": {
            "image/png": "[encoded data removed]",
            "text/plain": [
              "<Figure size 432x288 with 2 Axes>"
            ]
          },
          "metadata": {
            "needs_background": "light"
          }
        },
        {
          "output_type": "stream",
          "name": "stdout",
          "text": [
            "0.5820203892493049\n",
            "(0.5852679027259089, 0.5816018670648726, 0.5809378838513231, None)\n"
          ]
        }
      ]
    }
  ]
}