{
  "nbformat": 4,
  "nbformat_minor": 0,
  "metadata": {
    "colab": {
      "name": "w2v.ipynb",
      "provenance": [],
      "authorship_tag": "ABX9TyOcfin+bIPkfMML9xMVehaf",
      "include_colab_link": true
    },
    "kernelspec": {
      "name": "python3",
      "display_name": "Python 3"
    },
    "language_info": {
      "name": "python"
    }
  },
  "cells": [
    {
      "cell_type": "markdown",
      "metadata": {
        "id": "view-in-github",
        "colab_type": "text"
      },
      "source": [
        "<a href=\"https://colab.research.google.com/github/alfinmaulani/skripsi/blob/master/combined(w2v).ipynb\" target=\"_parent\"><img src=\"https://colab.research.google.com/assets/colab-badge.svg\" alt=\"Open In Colab\"/></a>"
      ]
    },
    {
      "cell_type": "code",
      "metadata": {
        "colab": {
          "base_uri": "https://localhost:8080/"
        },
        "id": "ci3dfx-9C_ji",
        "outputId": "ed63e6fb-c21f-43e7-d22d-8d255b9796aa"
      },
      "source": [
        "!pip install --upgrade scikit-learn\n",
        "import numpy as np\n",
        "import pandas as pd\n",
        "import io\n",
        "import os\n",
        "import matplotlib.pyplot as plt\n",
        "from nltk.tokenize import word_tokenize\n",
        "import nltk\n",
        "nltk.download('punkt')\n",
        "import gensim"
      ],
      "execution_count": 1,
      "outputs": [
        {
          "output_type": "stream",
          "name": "stdout",
          "text": [
            "Requirement already satisfied: scikit-learn in /usr/local/lib/python3.7/dist-packages (1.0.1)\n",
            "Requirement already satisfied: threadpoolctl>=2.0.0 in /usr/local/lib/python3.7/dist-packages (from scikit-learn) (3.0.0)\n",
            "Requirement already satisfied: joblib>=0.11 in /usr/local/lib/python3.7/dist-packages (from scikit-learn) (1.1.0)\n",
            "Requirement already satisfied: scipy>=1.1.0 in /usr/local/lib/python3.7/dist-packages (from scikit-learn) (1.4.1)\n",
            "Requirement already satisfied: numpy>=1.14.6 in /usr/local/lib/python3.7/dist-packages (from scikit-learn) (1.19.5)\n",
            "[nltk_data] Downloading package punkt to /root/nltk_data...\n",
            "[nltk_data]   Unzipping tokenizers/punkt.zip.\n"
          ]
        }
      ]
    },
    {
      "cell_type": "code",
      "metadata": {
        "id": "-2hacXvT3mX8"
      },
      "source": [
        "url0='https://raw.githubusercontent.com/alfinmaulani/skripsi/master/dataISEAR.csv'\n",
        "df = pd.read_csv(url0)"
      ],
      "execution_count": 99,
      "outputs": []
    },
    {
      "cell_type": "code",
      "metadata": {
        "id": "O4Z-0nnxJEVR"
      },
      "source": [
        "df=df.drop(df[df['emosi'] == 'shame'].sample(frac=1).index)\n",
        "df=df.drop(df[df['emosi'] == 'guilt'].sample(frac=1).index)"
      ],
      "execution_count": 100,
      "outputs": []
    },
    {
      "cell_type": "code",
      "metadata": {
        "colab": {
          "base_uri": "https://localhost:8080/"
        },
        "id": "ecmoGKcODIAZ",
        "outputId": "3541f52b-082a-4cba-f6a2-5819801f3704"
      },
      "source": [
        "df.emosi.value_counts()"
      ],
      "execution_count": 101,
      "outputs": [
        {
          "output_type": "execute_result",
          "data": {
            "text/plain": [
              "joy        1092\n",
              "sadness    1082\n",
              "anger      1079\n",
              "fear       1076\n",
              "disgust    1066\n",
              "Name: emosi, dtype: int64"
            ]
          },
          "metadata": {},
          "execution_count": 101
        }
      ]
    },
    {
      "cell_type": "code",
      "metadata": {
        "id": "RkERyt59p8sX"
      },
      "source": [
        "df1 = pd.read_csv(url0)"
      ],
      "execution_count": 102,
      "outputs": []
    },
    {
      "cell_type": "code",
      "metadata": {
        "id": "9EySiKNqqAei"
      },
      "source": [
        "df1=df1.drop(df1[df1['emosi'] == 'joy'].sample(frac=1).index)\n",
        "df1=df1.drop(df1[df1['emosi'] == 'sadness'].sample(frac=1).index)\n",
        "df1=df1.drop(df1[df1['emosi'] == 'anger'].sample(frac=1).index)\n",
        "df1=df1.drop(df1[df1['emosi'] == 'fear'].sample(frac=1).index)\n",
        "df1=df1.drop(df1[df1['emosi'] == 'disgust'].sample(frac=1).index)"
      ],
      "execution_count": 103,
      "outputs": []
    },
    {
      "cell_type": "code",
      "metadata": {
        "id": "H2hbytdfqO1C",
        "outputId": "dfa705e7-b1de-44e7-c71a-bfe931b90d72",
        "colab": {
          "base_uri": "https://localhost:8080/"
        }
      },
      "source": [
        "df1.emosi.value_counts()"
      ],
      "execution_count": 8,
      "outputs": [
        {
          "output_type": "execute_result",
          "data": {
            "text/plain": [
              "shame    1071\n",
              "guilt    1050\n",
              "Name: emosi, dtype: int64"
            ]
          },
          "metadata": {},
          "execution_count": 8
        }
      ]
    },
    {
      "cell_type": "code",
      "metadata": {
        "id": "UsD_f0bRqUU6"
      },
      "source": [
        "df2=pd.read_csv('https://raw.githubusercontent.com/alfinmaulani/skripsi/master/korpus2.txt', delimiter = \";\")\n",
        "df2.columns=['dok','tes']"
      ],
      "execution_count": 54,
      "outputs": []
    },
    {
      "cell_type": "code",
      "metadata": {
        "id": "dLw6UoM4qWrW"
      },
      "source": [
        "df3=pd.read_csv('https://raw.githubusercontent.com/alfinmaulani/skripsi/master/korpus3.csv')"
      ],
      "execution_count": 55,
      "outputs": []
    },
    {
      "cell_type": "code",
      "metadata": {
        "colab": {
          "base_uri": "https://localhost:8080/"
        },
        "id": "qaR1xIQ7wSjI",
        "outputId": "89974751-bed1-42e0-c0c2-c882f2f2dfba"
      },
      "source": [
        "# from google.colab import drive\n",
        "# drive.mount('/content/drive')"
      ],
      "execution_count": null,
      "outputs": [
        {
          "output_type": "stream",
          "name": "stdout",
          "text": [
            "Mounted at /content/drive\n"
          ]
        }
      ]
    },
    {
      "cell_type": "code",
      "metadata": {
        "id": "YoIxmDkPwgYc"
      },
      "source": [
        "# df2 = pd.read_csv('/content/drive/MyDrive/twitter_prosessed.csv')"
      ],
      "execution_count": null,
      "outputs": []
    },
    {
      "cell_type": "code",
      "metadata": {
        "id": "GjIszK-Q-ItN"
      },
      "source": [
        "# df3 = pd.read_csv('/content/drive/MyDrive/idwiki_new_lower.txt', delimiter = \"\\t\")\n",
        "# df3.columns = [\"arti\"]"
      ],
      "execution_count": null,
      "outputs": []
    },
    {
      "cell_type": "markdown",
      "metadata": {
        "id": "gmkGbSnbqzDT"
      },
      "source": [
        "persiapan corpus tambahan"
      ]
    },
    {
      "cell_type": "code",
      "metadata": {
        "id": "0xiibmT3ulNV"
      },
      "source": [
        "final=[]"
      ],
      "execution_count": 104,
      "outputs": []
    },
    {
      "cell_type": "code",
      "metadata": {
        "id": "skgMT54qqyMH"
      },
      "source": [
        "final.extend(df1.dokumen)"
      ],
      "execution_count": 105,
      "outputs": []
    },
    {
      "cell_type": "code",
      "metadata": {
        "id": "qJg2f6PDrhLO"
      },
      "source": [
        "final.extend(df2.dok)"
      ],
      "execution_count": 58,
      "outputs": []
    },
    {
      "cell_type": "code",
      "metadata": {
        "id": "KzreJN1huUMf"
      },
      "source": [
        "dfg = pd.DataFrame(final)\n",
        "dfg.columns=[\"dok\"]"
      ],
      "execution_count": 59,
      "outputs": []
    },
    {
      "cell_type": "markdown",
      "metadata": {
        "id": "9_Vnr7idZXyY"
      },
      "source": [
        "preputama : lower case"
      ]
    },
    {
      "cell_type": "code",
      "metadata": {
        "id": "gi_tcQibuhCO"
      },
      "source": [
        "def lower(temp):\n",
        "  return temp.str.lower()"
      ],
      "execution_count": 60,
      "outputs": []
    },
    {
      "cell_type": "code",
      "metadata": {
        "id": "WhpBZ6kQ9Wb5"
      },
      "source": [
        "df['dokumen']=lower(df['dokumen'])"
      ],
      "execution_count": 106,
      "outputs": []
    },
    {
      "cell_type": "code",
      "metadata": {
        "id": "Z5AtEjx_y6ZZ"
      },
      "source": [
        "dfg['dok']=lower(dfg['dok'])"
      ],
      "execution_count": 62,
      "outputs": []
    },
    {
      "cell_type": "markdown",
      "metadata": {
        "id": "b82j_2JPZaQ8"
      },
      "source": [
        "preputama : Pembersihan noise (over enter and space)"
      ]
    },
    {
      "cell_type": "code",
      "metadata": {
        "id": "j5pxwzRnus2l"
      },
      "source": [
        "def bersih_noise(temp):\n",
        "  temp=temp.replace(' \\n', ' ', regex=True)\n",
        "  temp=temp.replace('   ', ' ', regex=True)\n",
        "  return temp.replace('  ', ' ', regex=True)"
      ],
      "execution_count": 63,
      "outputs": []
    },
    {
      "cell_type": "code",
      "metadata": {
        "id": "Pe0GqxmE9WP2"
      },
      "source": [
        "df=bersih_noise(df)"
      ],
      "execution_count": 64,
      "outputs": []
    },
    {
      "cell_type": "code",
      "metadata": {
        "id": "zo4VQ2Qgy49Q"
      },
      "source": [
        "dfg=bersih_noise(dfg)"
      ],
      "execution_count": 65,
      "outputs": []
    },
    {
      "cell_type": "markdown",
      "metadata": {
        "id": "1KUKEZPEZdku"
      },
      "source": [
        "preptambah : expand contractions"
      ]
    },
    {
      "cell_type": "code",
      "metadata": {
        "id": "DvUkcyckt3jt",
        "colab": {
          "base_uri": "https://localhost:8080/"
        },
        "outputId": "8bfa097a-8c23-4a2b-ea1b-f6e70ec29a91"
      },
      "source": [
        "!pip install contractions\n",
        "import contractions\n",
        "def expand_word(temp):\n",
        "  expanded_words = []   \n",
        "  for word in temp:\n",
        "    expanded_words.append(contractions.fix(word))\n",
        "  return expanded_words"
      ],
      "execution_count": 67,
      "outputs": [
        {
          "output_type": "stream",
          "name": "stdout",
          "text": [
            "Requirement already satisfied: contractions in /usr/local/lib/python3.7/dist-packages (0.0.58)\n",
            "Requirement already satisfied: textsearch>=0.0.21 in /usr/local/lib/python3.7/dist-packages (from contractions) (0.0.21)\n",
            "Requirement already satisfied: pyahocorasick in /usr/local/lib/python3.7/dist-packages (from textsearch>=0.0.21->contractions) (1.4.2)\n",
            "Requirement already satisfied: anyascii in /usr/local/lib/python3.7/dist-packages (from textsearch>=0.0.21->contractions) (0.3.0)\n"
          ]
        }
      ]
    },
    {
      "cell_type": "code",
      "metadata": {
        "id": "5glvogu8t3dl"
      },
      "source": [
        "df.dokumen=expand_word(df.dokumen)"
      ],
      "execution_count": 68,
      "outputs": []
    },
    {
      "cell_type": "code",
      "metadata": {
        "id": "4x5xoGarZw3c"
      },
      "source": [
        "dfg.dok=expand_word(dfg.dok)"
      ],
      "execution_count": 69,
      "outputs": []
    },
    {
      "cell_type": "markdown",
      "metadata": {
        "id": "rS8J8JjJamsx"
      },
      "source": [
        "preputama : cleansing punctuation"
      ]
    },
    {
      "cell_type": "code",
      "metadata": {
        "id": "OnvaHyYXvGOa"
      },
      "source": [
        "def clns_punc(temp):\n",
        "  return temp.str.replace(r'[^\\w\\s]+', '')"
      ],
      "execution_count": 70,
      "outputs": []
    },
    {
      "cell_type": "code",
      "metadata": {
        "id": "2z_rN6_Famg-"
      },
      "source": [
        "df['dokumen'] = clns_punc(df['dokumen'])"
      ],
      "execution_count": 71,
      "outputs": []
    },
    {
      "cell_type": "code",
      "metadata": {
        "id": "AZFkyajP0I84"
      },
      "source": [
        "dfg['dok'] = clns_punc(dfg['dok'])"
      ],
      "execution_count": 72,
      "outputs": []
    },
    {
      "cell_type": "markdown",
      "metadata": {
        "id": "Gh0Jgm7Fsx_T"
      },
      "source": [
        "preputama : cleansing number"
      ]
    },
    {
      "cell_type": "code",
      "metadata": {
        "id": "RVx7XGQf-B1-",
        "colab": {
          "base_uri": "https://localhost:8080/"
        },
        "outputId": "9db29594-a1bd-418e-8621-4c004b0a6789"
      },
      "source": [
        "!pip install tweet-preprocessor\n",
        "import preprocessor as p\n",
        "p.set_options(p.OPT.NUMBER)\n",
        "def clns_numb(temp):\n",
        "  sementara=[]\n",
        "  for word in temp:\n",
        "    sementara.append(p.clean(word))\n",
        "  return sementara"
      ],
      "execution_count": 73,
      "outputs": [
        {
          "output_type": "stream",
          "name": "stdout",
          "text": [
            "Collecting tweet-preprocessor\n",
            "  Downloading tweet_preprocessor-0.6.0-py3-none-any.whl (27 kB)\n",
            "Installing collected packages: tweet-preprocessor\n",
            "Successfully installed tweet-preprocessor-0.6.0\n"
          ]
        }
      ]
    },
    {
      "cell_type": "code",
      "metadata": {
        "id": "0ZcRI_qo-SYZ"
      },
      "source": [
        "df.dokumen=clns_numb(df.dokumen)"
      ],
      "execution_count": 74,
      "outputs": []
    },
    {
      "cell_type": "code",
      "metadata": {
        "id": "_-s4x0QU-rDu"
      },
      "source": [
        "dfg.dok=clns_numb(dfg.dok)"
      ],
      "execution_count": 75,
      "outputs": []
    },
    {
      "cell_type": "markdown",
      "metadata": {
        "id": "Hrfg5PlYaK_o"
      },
      "source": [
        "preptambah : remove stopword"
      ]
    },
    {
      "cell_type": "code",
      "metadata": {
        "colab": {
          "base_uri": "https://localhost:8080/"
        },
        "id": "Ol3lV82FbtgA",
        "outputId": "df8fb1a7-3926-401c-f5cc-f21670a26bd4"
      },
      "source": [
        "from nltk.corpus import stopwords\n",
        "nltk.download('stopwords')\n",
        "stop = stopwords.words('english')\n",
        "pat = r'\\b(?:{})\\b'.format('|'.join(stop))\n",
        "def remove_stopw(temp):\n",
        "  temp=temp.str.replace(pat, '')\n",
        "  return temp.str.replace(r'\\s+', ' ')"
      ],
      "execution_count": 76,
      "outputs": [
        {
          "output_type": "stream",
          "name": "stdout",
          "text": [
            "[nltk_data] Downloading package stopwords to /root/nltk_data...\n",
            "[nltk_data]   Unzipping corpora/stopwords.zip.\n"
          ]
        }
      ]
    },
    {
      "cell_type": "code",
      "metadata": {
        "id": "RKuF-6uCZ9Y1"
      },
      "source": [
        "df['dokumen'] = remove_stopw(df['dokumen'])"
      ],
      "execution_count": 77,
      "outputs": []
    },
    {
      "cell_type": "code",
      "metadata": {
        "id": "eaN5rbCj0VaW"
      },
      "source": [
        "dfg['dok'] = remove_stopw(dfg['dok'])"
      ],
      "execution_count": 78,
      "outputs": []
    },
    {
      "cell_type": "markdown",
      "metadata": {
        "id": "DnbrT-4daeEK"
      },
      "source": [
        "tokenizing"
      ]
    },
    {
      "cell_type": "code",
      "metadata": {
        "id": "T05fxhVYvmq-"
      },
      "source": [
        "def token(temp):\n",
        "  return [word_tokenize(x) for x in temp]"
      ],
      "execution_count": 79,
      "outputs": []
    },
    {
      "cell_type": "code",
      "metadata": {
        "id": "XpqeTa21Z9OS"
      },
      "source": [
        "df.dokumen=token(df.dokumen)"
      ],
      "execution_count": 107,
      "outputs": []
    },
    {
      "cell_type": "code",
      "metadata": {
        "id": "7i87GrAz0mGh"
      },
      "source": [
        "dfg.dok=token(dfg.dok)"
      ],
      "execution_count": 81,
      "outputs": []
    },
    {
      "cell_type": "markdown",
      "metadata": {
        "id": "kuXE9IGwXtZ2"
      },
      "source": [
        "preptambah : Lemmatization"
      ]
    },
    {
      "cell_type": "code",
      "metadata": {
        "id": "K1ywmZGYZ9RJ"
      },
      "source": [
        "from nltk.stem.snowball import SnowballStemmer\n",
        "stemmer = SnowballStemmer(\"english\")\n",
        "def lemma(temp):\n",
        "  temp.apply(lambda x: [stemmer.stem(y) for y in x])"
      ],
      "execution_count": 83,
      "outputs": []
    },
    {
      "cell_type": "code",
      "metadata": {
        "id": "vonaeiobZ9Lh"
      },
      "source": [
        "lemma(df['dokumen'])"
      ],
      "execution_count": 84,
      "outputs": []
    },
    {
      "cell_type": "code",
      "metadata": {
        "id": "AwjFAKCg1A8P"
      },
      "source": [
        "lemma(dfg['dok'])"
      ],
      "execution_count": 85,
      "outputs": []
    },
    {
      "cell_type": "markdown",
      "metadata": {
        "id": "K-NOlQnGbDUj"
      },
      "source": [
        "save df"
      ]
    },
    {
      "cell_type": "code",
      "metadata": {
        "id": "gk1V4HBPDHVw"
      },
      "source": [
        "# df.to_csv(r'dataisear(preptambah).csv', index = False)"
      ],
      "execution_count": null,
      "outputs": []
    },
    {
      "cell_type": "markdown",
      "metadata": {
        "id": "Sz4dK1iB_tpc"
      },
      "source": [
        "gabung corpus"
      ]
    },
    {
      "cell_type": "code",
      "metadata": {
        "id": "vUZgpFYz0jnF"
      },
      "source": [
        "# sent=df.dokumen"
      ],
      "execution_count": null,
      "outputs": []
    },
    {
      "cell_type": "code",
      "metadata": {
        "id": "w0b3OsYx-sCI"
      },
      "source": [
        "sent=dfg.dok.append(df.dokumen,ignore_index=True)"
      ],
      "execution_count": 86,
      "outputs": []
    },
    {
      "cell_type": "markdown",
      "metadata": {
        "id": "a2CO8Rbb2f54"
      },
      "source": [
        "word2ec"
      ]
    },
    {
      "cell_type": "code",
      "metadata": {
        "id": "DboqVfIk2eZJ"
      },
      "source": [
        "from gensim.models import Word2Vec"
      ],
      "execution_count": 87,
      "outputs": []
    },
    {
      "cell_type": "code",
      "metadata": {
        "id": "uH4GIOTu-a4x"
      },
      "source": [
        "w2v = Word2Vec(sent, window=5, min_count=1, workers=12, sg=1, iter=1)"
      ],
      "execution_count": 108,
      "outputs": []
    },
    {
      "cell_type": "code",
      "metadata": {
        "id": "oFqkpCM0pf9R"
      },
      "source": [
        "# (sentences=None, corpus_file=None, size=100, alpha=0.025, window=5, min_count=5, max_vocab_size=None, sample=0.001, \n",
        "#  seed=1, workers=3, min_alpha=0.0001, sg=0, hs=0, negative=5, ns_exponent=0.75, cbow_mean=1, hashfxn=hash, iter=5, \n",
        "#  null_word=0, trim_rule=None, sorted_vocab=1, batch_words=MAX_WORDS_IN_BATCH, compute_loss=False, callbacks=(), max_final_vocab=None)"
      ],
      "execution_count": null,
      "outputs": []
    },
    {
      "cell_type": "markdown",
      "metadata": {
        "id": "Gl5QgszsXz9I"
      },
      "source": [
        "cek model"
      ]
    },
    {
      "cell_type": "code",
      "metadata": {
        "colab": {
          "base_uri": "https://localhost:8080/"
        },
        "id": "IWqWUoSV3F3t",
        "outputId": "631b6e8a-0682-492d-9ea1-7dabcc366188"
      },
      "source": [
        "w2v.wv.vectors.shape"
      ],
      "execution_count": 89,
      "outputs": [
        {
          "output_type": "execute_result",
          "data": {
            "text/plain": [
              "(20277, 100)"
            ]
          },
          "metadata": {},
          "execution_count": 89
        }
      ]
    },
    {
      "cell_type": "code",
      "metadata": {
        "colab": {
          "base_uri": "https://localhost:8080/"
        },
        "id": "R6GsJv-YWyQi",
        "outputId": "65cf703e-b422-4a33-89c9-3cad496a4ef1"
      },
      "source": [
        "w2v.wv[\"moment\"]"
      ],
      "execution_count": 90,
      "outputs": [
        {
          "output_type": "execute_result",
          "data": {
            "text/plain": [
              "array([ 0.12867427,  0.01396201,  0.01432298, -0.32870272, -0.17106979,\n",
              "        0.01627971,  0.34612995,  0.12494966,  0.0356646 , -0.12782395,\n",
              "        0.13928081,  0.13240905, -0.07025223, -0.07753775, -0.15582228,\n",
              "       -0.08078723,  0.07190374,  0.40107775, -0.00895387, -0.20060022,\n",
              "        0.0984357 , -0.13035437, -0.10303079,  0.1140699 ,  0.14040287,\n",
              "        0.22521396, -0.31365946,  0.35828522,  0.0273714 , -0.22181247,\n",
              "       -0.36703914,  0.01398883,  0.09007971, -0.05221056, -0.28456688,\n",
              "        0.05537104,  0.0393889 , -0.05825359, -0.18170862, -0.36297542,\n",
              "        0.17426002, -0.14353864,  0.09834726,  0.01072918,  0.12362657,\n",
              "       -0.09041401,  0.20942108, -0.03129197, -0.18391465,  0.04475451,\n",
              "        0.07904385,  0.09538324,  0.32528087, -0.3420382 ,  0.10028277,\n",
              "       -0.43569213,  0.06053071, -0.35447505,  0.01213595,  0.23388828,\n",
              "       -0.04178898,  0.09657025,  0.0048168 ,  0.38916576,  0.07542612,\n",
              "       -0.09407083, -0.13882567,  0.11582655, -0.27038068, -0.12100986,\n",
              "        0.04544887,  0.35550368,  0.3645781 ,  0.4894785 , -0.338755  ,\n",
              "       -0.04638533,  0.09430879,  0.06505109, -0.1614489 , -0.1748866 ,\n",
              "        0.24390292,  0.08797814,  0.11444349,  0.3276823 ,  0.12936588,\n",
              "       -0.11713773, -0.04040707, -0.12883875,  0.06386171,  0.15618506,\n",
              "       -0.14368773, -0.03551374,  0.24141312, -0.36512628, -0.4359879 ,\n",
              "       -0.1388291 , -0.06452614, -0.04811822, -0.1873623 ,  0.10723289],\n",
              "      dtype=float32)"
            ]
          },
          "metadata": {},
          "execution_count": 90
        }
      ]
    },
    {
      "cell_type": "markdown",
      "metadata": {
        "id": "myQsetPR3tLU"
      },
      "source": [
        "ekstraksi fitur"
      ]
    },
    {
      "cell_type": "code",
      "metadata": {
        "id": "IxR45IUU3QxR",
        "outputId": "01ef2972-54a5-4fe1-8b9c-3d006cd330b3",
        "colab": {
          "base_uri": "https://localhost:8080/",
          "height": 398
        }
      },
      "source": [
        "import array\n",
        "ekstrak=[]\n",
        "temp=array.array('i',(0,)*100)\n",
        "for senten in df.dokumen:\n",
        "  for word in senten:\n",
        "    temp=np.add(temp,w2v.wv[word])\n",
        "  temp=temp/len(senten)\n",
        "  ekstrak.append(temp)\n",
        "has_vec=ekstrak"
      ],
      "execution_count": 109,
      "outputs": [
        {
          "output_type": "error",
          "ename": "KeyError",
          "evalue": "ignored",
          "traceback": [
            "\u001b[0;31m---------------------------------------------------------------------------\u001b[0m",
            "\u001b[0;31mKeyError\u001b[0m                                  Traceback (most recent call last)",
            "\u001b[0;32m<ipython-input-109-b094fcfe5043>\u001b[0m in \u001b[0;36m<module>\u001b[0;34m()\u001b[0m\n\u001b[1;32m      4\u001b[0m \u001b[0;32mfor\u001b[0m \u001b[0msenten\u001b[0m \u001b[0;32min\u001b[0m \u001b[0mdf\u001b[0m\u001b[0;34m.\u001b[0m\u001b[0mdokumen\u001b[0m\u001b[0;34m:\u001b[0m\u001b[0;34m\u001b[0m\u001b[0;34m\u001b[0m\u001b[0m\n\u001b[1;32m      5\u001b[0m   \u001b[0;32mfor\u001b[0m \u001b[0mword\u001b[0m \u001b[0;32min\u001b[0m \u001b[0msenten\u001b[0m\u001b[0;34m:\u001b[0m\u001b[0;34m\u001b[0m\u001b[0;34m\u001b[0m\u001b[0m\n\u001b[0;32m----> 6\u001b[0;31m     \u001b[0mtemp\u001b[0m\u001b[0;34m=\u001b[0m\u001b[0mnp\u001b[0m\u001b[0;34m.\u001b[0m\u001b[0madd\u001b[0m\u001b[0;34m(\u001b[0m\u001b[0mtemp\u001b[0m\u001b[0;34m,\u001b[0m\u001b[0mw2v\u001b[0m\u001b[0;34m.\u001b[0m\u001b[0mwv\u001b[0m\u001b[0;34m[\u001b[0m\u001b[0mword\u001b[0m\u001b[0;34m]\u001b[0m\u001b[0;34m)\u001b[0m\u001b[0;34m\u001b[0m\u001b[0;34m\u001b[0m\u001b[0m\n\u001b[0m\u001b[1;32m      7\u001b[0m   \u001b[0mtemp\u001b[0m\u001b[0;34m=\u001b[0m\u001b[0mtemp\u001b[0m\u001b[0;34m/\u001b[0m\u001b[0mlen\u001b[0m\u001b[0;34m(\u001b[0m\u001b[0msenten\u001b[0m\u001b[0;34m)\u001b[0m\u001b[0;34m\u001b[0m\u001b[0;34m\u001b[0m\u001b[0m\n\u001b[1;32m      8\u001b[0m   \u001b[0mekstrak\u001b[0m\u001b[0;34m.\u001b[0m\u001b[0mappend\u001b[0m\u001b[0;34m(\u001b[0m\u001b[0mtemp\u001b[0m\u001b[0;34m)\u001b[0m\u001b[0;34m\u001b[0m\u001b[0;34m\u001b[0m\u001b[0m\n",
            "\u001b[0;32m/usr/local/lib/python3.7/dist-packages/gensim/models/keyedvectors.py\u001b[0m in \u001b[0;36m__getitem__\u001b[0;34m(self, entities)\u001b[0m\n\u001b[1;32m    335\u001b[0m         \u001b[0;32mif\u001b[0m \u001b[0misinstance\u001b[0m\u001b[0;34m(\u001b[0m\u001b[0mentities\u001b[0m\u001b[0;34m,\u001b[0m \u001b[0mstring_types\u001b[0m\u001b[0;34m)\u001b[0m\u001b[0;34m:\u001b[0m\u001b[0;34m\u001b[0m\u001b[0;34m\u001b[0m\u001b[0m\n\u001b[1;32m    336\u001b[0m             \u001b[0;31m# allow calls like trained_model['office'], as a shorthand for trained_model[['office']]\u001b[0m\u001b[0;34m\u001b[0m\u001b[0;34m\u001b[0m\u001b[0;34m\u001b[0m\u001b[0m\n\u001b[0;32m--> 337\u001b[0;31m             \u001b[0;32mreturn\u001b[0m \u001b[0mself\u001b[0m\u001b[0;34m.\u001b[0m\u001b[0mget_vector\u001b[0m\u001b[0;34m(\u001b[0m\u001b[0mentities\u001b[0m\u001b[0;34m)\u001b[0m\u001b[0;34m\u001b[0m\u001b[0;34m\u001b[0m\u001b[0m\n\u001b[0m\u001b[1;32m    338\u001b[0m \u001b[0;34m\u001b[0m\u001b[0m\n\u001b[1;32m    339\u001b[0m         \u001b[0;32mreturn\u001b[0m \u001b[0mvstack\u001b[0m\u001b[0;34m(\u001b[0m\u001b[0;34m[\u001b[0m\u001b[0mself\u001b[0m\u001b[0;34m.\u001b[0m\u001b[0mget_vector\u001b[0m\u001b[0;34m(\u001b[0m\u001b[0mentity\u001b[0m\u001b[0;34m)\u001b[0m \u001b[0;32mfor\u001b[0m \u001b[0mentity\u001b[0m \u001b[0;32min\u001b[0m \u001b[0mentities\u001b[0m\u001b[0;34m]\u001b[0m\u001b[0;34m)\u001b[0m\u001b[0;34m\u001b[0m\u001b[0;34m\u001b[0m\u001b[0m\n",
            "\u001b[0;32m/usr/local/lib/python3.7/dist-packages/gensim/models/keyedvectors.py\u001b[0m in \u001b[0;36mget_vector\u001b[0;34m(self, word)\u001b[0m\n\u001b[1;32m    453\u001b[0m \u001b[0;34m\u001b[0m\u001b[0m\n\u001b[1;32m    454\u001b[0m     \u001b[0;32mdef\u001b[0m \u001b[0mget_vector\u001b[0m\u001b[0;34m(\u001b[0m\u001b[0mself\u001b[0m\u001b[0;34m,\u001b[0m \u001b[0mword\u001b[0m\u001b[0;34m)\u001b[0m\u001b[0;34m:\u001b[0m\u001b[0;34m\u001b[0m\u001b[0;34m\u001b[0m\u001b[0m\n\u001b[0;32m--> 455\u001b[0;31m         \u001b[0;32mreturn\u001b[0m \u001b[0mself\u001b[0m\u001b[0;34m.\u001b[0m\u001b[0mword_vec\u001b[0m\u001b[0;34m(\u001b[0m\u001b[0mword\u001b[0m\u001b[0;34m)\u001b[0m\u001b[0;34m\u001b[0m\u001b[0;34m\u001b[0m\u001b[0m\n\u001b[0m\u001b[1;32m    456\u001b[0m \u001b[0;34m\u001b[0m\u001b[0m\n\u001b[1;32m    457\u001b[0m     \u001b[0;32mdef\u001b[0m \u001b[0mwords_closer_than\u001b[0m\u001b[0;34m(\u001b[0m\u001b[0mself\u001b[0m\u001b[0;34m,\u001b[0m \u001b[0mw1\u001b[0m\u001b[0;34m,\u001b[0m \u001b[0mw2\u001b[0m\u001b[0;34m)\u001b[0m\u001b[0;34m:\u001b[0m\u001b[0;34m\u001b[0m\u001b[0;34m\u001b[0m\u001b[0m\n",
            "\u001b[0;32m/usr/local/lib/python3.7/dist-packages/gensim/models/keyedvectors.py\u001b[0m in \u001b[0;36mword_vec\u001b[0;34m(self, word, use_norm)\u001b[0m\n\u001b[1;32m    450\u001b[0m             \u001b[0;32mreturn\u001b[0m \u001b[0mresult\u001b[0m\u001b[0;34m\u001b[0m\u001b[0;34m\u001b[0m\u001b[0m\n\u001b[1;32m    451\u001b[0m         \u001b[0;32melse\u001b[0m\u001b[0;34m:\u001b[0m\u001b[0;34m\u001b[0m\u001b[0;34m\u001b[0m\u001b[0m\n\u001b[0;32m--> 452\u001b[0;31m             \u001b[0;32mraise\u001b[0m \u001b[0mKeyError\u001b[0m\u001b[0;34m(\u001b[0m\u001b[0;34m\"word '%s' not in vocabulary\"\u001b[0m \u001b[0;34m%\u001b[0m \u001b[0mword\u001b[0m\u001b[0;34m)\u001b[0m\u001b[0;34m\u001b[0m\u001b[0;34m\u001b[0m\u001b[0m\n\u001b[0m\u001b[1;32m    453\u001b[0m \u001b[0;34m\u001b[0m\u001b[0m\n\u001b[1;32m    454\u001b[0m     \u001b[0;32mdef\u001b[0m \u001b[0mget_vector\u001b[0m\u001b[0;34m(\u001b[0m\u001b[0mself\u001b[0m\u001b[0;34m,\u001b[0m \u001b[0mword\u001b[0m\u001b[0;34m)\u001b[0m\u001b[0;34m:\u001b[0m\u001b[0;34m\u001b[0m\u001b[0;34m\u001b[0m\u001b[0m\n",
            "\u001b[0;31mKeyError\u001b[0m: \"word 'on' not in vocabulary\""
          ]
        }
      ]
    },
    {
      "cell_type": "code",
      "metadata": {
        "id": "pRTuBH09XfkI"
      },
      "source": [
        "X=has_vec\n",
        "y=df.emosi\n",
        "print(np.shape(X))\n",
        "print(np.shape(y))\n",
        "# print(X)\n",
        "# print(y)"
      ],
      "execution_count": null,
      "outputs": []
    },
    {
      "cell_type": "markdown",
      "metadata": {
        "id": "9REgAm12XkXE"
      },
      "source": [
        "klasifikasi svm"
      ]
    },
    {
      "cell_type": "code",
      "metadata": {
        "id": "N_7cSx4lXl7N"
      },
      "source": [
        "from sklearn import svm\n",
        "from sklearn.model_selection import cross_val_score"
      ],
      "execution_count": 93,
      "outputs": []
    },
    {
      "cell_type": "code",
      "metadata": {
        "id": "nXGSL_-1XpMg"
      },
      "source": [
        "# langsung cari score\n",
        "\n",
        "# clf = svm.SVC(kernel='poly', decision_function_shape='ovr')\n",
        "# scores = cross_val_score(clf, X, y, cv=10)\n",
        "# # scores.mean()"
      ],
      "execution_count": null,
      "outputs": []
    },
    {
      "cell_type": "markdown",
      "metadata": {
        "id": "meJ2peGBYxm9"
      },
      "source": [
        "conf matrix dan akurasi"
      ]
    },
    {
      "cell_type": "code",
      "metadata": {
        "id": "PSsCGIVXKdvv"
      },
      "source": [
        "from sklearn.metrics import confusion_matrix\n",
        "from sklearn.metrics import accuracy_score\n",
        "from sklearn.model_selection import cross_val_predict\n",
        "import matplotlib.pyplot as plt\n",
        "from sklearn.metrics import ConfusionMatrixDisplay\n",
        "from sklearn.metrics import precision_recall_fscore_support"
      ],
      "execution_count": 94,
      "outputs": []
    },
    {
      "cell_type": "code",
      "metadata": {
        "id": "bR2blQN2jfL7"
      },
      "source": [
        "# svm.SVC(C=1.0, kernel='rbf', degree=3, gamma='scale', coef0=0.0, shrinking=True, probability=False, tol=0.001, cache_size=200, \n",
        "#  class_weight=None, verbose=False, max_iter=- 1, decision_function_shape='ovr', break_ties=False, random_state=None)"
      ],
      "execution_count": null,
      "outputs": []
    },
    {
      "cell_type": "code",
      "metadata": {
        "id": "KyD-5uhcjfC4"
      },
      "source": [
        "# cross_val_predict(estimator, X, y=None, *, groups=None, cv=None, n_jobs=None, verbose=0, fit_params=None, \n",
        "# pre_dispatch='2*n_jobs', method='predict')"
      ],
      "execution_count": null,
      "outputs": []
    },
    {
      "cell_type": "code",
      "metadata": {
        "id": "bPXBbgcowxY7"
      },
      "source": [
        "def klasifikasi(krnl):\n",
        "  clf = svm.SVC(kernel=krnl, decision_function_shape='ovr')\n",
        "  y_pred = cross_val_predict(clf, X, y, cv=10)\n",
        "  ConfusionMatrixDisplay.from_predictions(y, y_pred)\n",
        "  plt.show()\n",
        "  print(accuracy_score(y, y_pred))\n",
        "  print(precision_recall_fscore_support(y, y_pred, average='macro'))"
      ],
      "execution_count": 95,
      "outputs": []
    },
    {
      "cell_type": "code",
      "metadata": {
        "id": "juuaYpx_wzTK",
        "colab": {
          "base_uri": "https://localhost:8080/",
          "height": 316
        },
        "outputId": "d8466160-bc47-4f0c-d20b-05ce3e45dbd7"
      },
      "source": [
        "klasifikasi('poly')"
      ],
      "execution_count": 110,
      "outputs": [
        {
          "output_type": "display_data",
          "data": {
            "image/png": "[encoded data removed]",
            "text/plain": [
              "<Figure size 432x288 with 2 Axes>"
            ]
          },
          "metadata": {
            "needs_background": "light"
          }
        },
        {
          "output_type": "stream",
          "name": "stdout",
          "text": [
            "0.2329935125115848\n",
            "(0.22547149274826078, 0.23336833115645822, 0.19405260253826212, None)\n"
          ]
        }
      ]
    },
    {
      "cell_type": "code",
      "metadata": {
        "id": "UgULTGqFwzDx",
        "colab": {
          "base_uri": "https://localhost:8080/",
          "height": 316
        },
        "outputId": "c0d93f66-c970-407c-fc75-cb47d073711d"
      },
      "source": [
        "klasifikasi('rbf')"
      ],
      "execution_count": 111,
      "outputs": [
        {
          "output_type": "display_data",
          "data": {
            "image/png": "[encoded data removed]",
            "text/plain": [
              "<Figure size 432x288 with 2 Axes>"
            ]
          },
          "metadata": {
            "needs_background": "light"
          }
        },
        {
          "output_type": "stream",
          "name": "stdout",
          "text": [
            "0.2511584800741427\n",
            "(0.2585385706276634, 0.2515659260041818, 0.1873929872156951, None)\n"
          ]
        }
      ]
    },
    {
      "cell_type": "code",
      "metadata": {
        "id": "fSryKwrSwy7E",
        "colab": {
          "base_uri": "https://localhost:8080/",
          "height": 372
        },
        "outputId": "c42cb759-d4fa-4708-9c64-c2612d792015"
      },
      "source": [
        "klasifikasi('linear')"
      ],
      "execution_count": 112,
      "outputs": [
        {
          "output_type": "display_data",
          "data": {
            "image/png": "[encoded data removed]",
            "text/plain": [
              "<Figure size 432x288 with 2 Axes>"
            ]
          },
          "metadata": {
            "needs_background": "light"
          }
        },
        {
          "output_type": "stream",
          "name": "stdout",
          "text": [
            "0.2548656163113994\n",
            "(0.19468500205954892, 0.2556149171276467, 0.20253158153166284, None)\n"
          ]
        },
        {
          "output_type": "stream",
          "name": "stderr",
          "text": [
            "/usr/local/lib/python3.7/dist-packages/sklearn/metrics/_classification.py:1308: UndefinedMetricWarning: Precision and F-score are ill-defined and being set to 0.0 in labels with no predicted samples. Use `zero_division` parameter to control this behavior.\n",
            "  _warn_prf(average, modifier, msg_start, len(result))\n"
          ]
        }
      ]
    }
  ]
}