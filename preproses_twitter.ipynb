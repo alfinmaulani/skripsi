{
  "nbformat": 4,
  "nbformat_minor": 0,
  "metadata": {
    "colab": {
      "name": "Untitled7.ipynb",
      "provenance": [],
      "authorship_tag": "ABX9TyMDj7GIgh0fk+k05/k2aNRk",
      "include_colab_link": true
    },
    "kernelspec": {
      "name": "python3",
      "display_name": "Python 3"
    },
    "language_info": {
      "name": "python"
    }
  },
  "cells": [
    {
      "cell_type": "markdown",
      "metadata": {
        "id": "view-in-github",
        "colab_type": "text"
      },
      "source": [
        "<a href=\"https://colab.research.google.com/github/alfinmaulani/skripsi/blob/master/preproses_twitter.ipynb\" target=\"_parent\"><img src=\"https://colab.research.google.com/assets/colab-badge.svg\" alt=\"Open In Colab\"/></a>"
      ]
    },
    {
      "cell_type": "code",
      "metadata": {
        "id": "WfLZKnH8_FcK"
      },
      "source": [
        "import re\n",
        "import csv\n",
        "import numpy as np\n",
        "import gensim\n",
        "import pandas as pd\n",
        "import io\n",
        "import matplotlib.pyplot as plt\n",
        "from nltk.tokenize import word_tokenize\n",
        "import nltk"
      ],
      "execution_count": 1,
      "outputs": []
    },
    {
      "cell_type": "code",
      "metadata": {
        "colab": {
          "base_uri": "https://localhost:8080/"
        },
        "id": "XD71WfA2__l1",
        "outputId": "c4ed85d8-151a-4bb3-b0b3-a079eb5d03e5"
      },
      "source": [
        "from google.colab import drive\n",
        "drive.mount('/content/drive')"
      ],
      "execution_count": 2,
      "outputs": [
        {
          "output_type": "stream",
          "name": "stdout",
          "text": [
            "Mounted at /content/drive\n"
          ]
        }
      ]
    },
    {
      "cell_type": "code",
      "metadata": {
        "id": "PGIyDUfsALev"
      },
      "source": [
        "df = pd.read_csv('/content/drive/MyDrive/training.1600000.processed.noemoticon.csv',encoding='latin-1')"
      ],
      "execution_count": 3,
      "outputs": []
    },
    {
      "cell_type": "code",
      "metadata": {
        "id": "nfRVTYGqX5TO"
      },
      "source": [
        "df"
      ],
      "execution_count": null,
      "outputs": []
    },
    {
      "cell_type": "code",
      "metadata": {
        "id": "BYNJ059fA9MA"
      },
      "source": [
        "df.columns=[\"1\",\"2\",\"3\",\"4\",\"5\",\"tweet\"]"
      ],
      "execution_count": 4,
      "outputs": []
    },
    {
      "cell_type": "code",
      "metadata": {
        "id": "Z5zjpbZTChhJ"
      },
      "source": [
        "df.drop(df.columns[0],axis=1, inplace=True)\n",
        "df.drop(df.columns[0],axis=1, inplace=True)\n",
        "df.drop(df.columns[0],axis=1, inplace=True)\n",
        "df.drop(df.columns[0],axis=1, inplace=True)\n",
        "df.drop(df.columns[0],axis=1, inplace=True)"
      ],
      "execution_count": 5,
      "outputs": []
    },
    {
      "cell_type": "code",
      "metadata": {
        "id": "MuK1i-ZpCGH9",
        "colab": {
          "base_uri": "https://localhost:8080/",
          "height": 36
        },
        "outputId": "f2a80faa-b0bb-43ce-9d81-648eefcf716a"
      },
      "source": [
        "df.tweet[1]"
      ],
      "execution_count": 6,
      "outputs": [
        {
          "output_type": "execute_result",
          "data": {
            "application/vnd.google.colaboratory.intrinsic+json": {
              "type": "string"
            },
            "text/plain": [
              "'@Kenichan I dived many times for the ball. Managed to save 50%  The rest go out of bounds'"
            ]
          },
          "metadata": {},
          "execution_count": 6
        }
      ]
    },
    {
      "cell_type": "code",
      "metadata": {
        "id": "q6x75foSC66R",
        "colab": {
          "base_uri": "https://localhost:8080/",
          "height": 424
        },
        "outputId": "02628349-2cf3-4f49-9efd-ed038712eafd"
      },
      "source": [
        "df"
      ],
      "execution_count": null,
      "outputs": [
        {
          "output_type": "execute_result",
          "data": {
            "text/html": [
              "<div>\n",
              "<style scoped>\n",
              "    .dataframe tbody tr th:only-of-type {\n",
              "        vertical-align: middle;\n",
              "    }\n",
              "\n",
              "    .dataframe tbody tr th {\n",
              "        vertical-align: top;\n",
              "    }\n",
              "\n",
              "    .dataframe thead th {\n",
              "        text-align: right;\n",
              "    }\n",
              "</style>\n",
              "<table border=\"1\" class=\"dataframe\">\n",
              "  <thead>\n",
              "    <tr style=\"text-align: right;\">\n",
              "      <th></th>\n",
              "      <th>tweet</th>\n",
              "    </tr>\n",
              "  </thead>\n",
              "  <tbody>\n",
              "    <tr>\n",
              "      <th>0</th>\n",
              "      <td>is upset that he can't update his Facebook by ...</td>\n",
              "    </tr>\n",
              "    <tr>\n",
              "      <th>1</th>\n",
              "      <td>@Kenichan I dived many times for the ball. Man...</td>\n",
              "    </tr>\n",
              "    <tr>\n",
              "      <th>2</th>\n",
              "      <td>my whole body feels itchy and like its on fire</td>\n",
              "    </tr>\n",
              "    <tr>\n",
              "      <th>3</th>\n",
              "      <td>@nationwideclass no, it's not behaving at all....</td>\n",
              "    </tr>\n",
              "    <tr>\n",
              "      <th>4</th>\n",
              "      <td>@Kwesidei not the whole crew</td>\n",
              "    </tr>\n",
              "    <tr>\n",
              "      <th>...</th>\n",
              "      <td>...</td>\n",
              "    </tr>\n",
              "    <tr>\n",
              "      <th>1599994</th>\n",
              "      <td>Just woke up. Having no school is the best fee...</td>\n",
              "    </tr>\n",
              "    <tr>\n",
              "      <th>1599995</th>\n",
              "      <td>TheWDB.com - Very cool to hear old Walt interv...</td>\n",
              "    </tr>\n",
              "    <tr>\n",
              "      <th>1599996</th>\n",
              "      <td>Are you ready for your MoJo Makeover? Ask me f...</td>\n",
              "    </tr>\n",
              "    <tr>\n",
              "      <th>1599997</th>\n",
              "      <td>Happy 38th Birthday to my boo of alll time!!! ...</td>\n",
              "    </tr>\n",
              "    <tr>\n",
              "      <th>1599998</th>\n",
              "      <td>happy #charitytuesday @theNSPCC @SparksCharity...</td>\n",
              "    </tr>\n",
              "  </tbody>\n",
              "</table>\n",
              "<p>1599999 rows × 1 columns</p>\n",
              "</div>"
            ],
            "text/plain": [
              "                                                     tweet\n",
              "0        is upset that he can't update his Facebook by ...\n",
              "1        @Kenichan I dived many times for the ball. Man...\n",
              "2          my whole body feels itchy and like its on fire \n",
              "3        @nationwideclass no, it's not behaving at all....\n",
              "4                            @Kwesidei not the whole crew \n",
              "...                                                    ...\n",
              "1599994  Just woke up. Having no school is the best fee...\n",
              "1599995  TheWDB.com - Very cool to hear old Walt interv...\n",
              "1599996  Are you ready for your MoJo Makeover? Ask me f...\n",
              "1599997  Happy 38th Birthday to my boo of alll time!!! ...\n",
              "1599998  happy #charitytuesday @theNSPCC @SparksCharity...\n",
              "\n",
              "[1599999 rows x 1 columns]"
            ]
          },
          "metadata": {},
          "execution_count": 28
        }
      ]
    },
    {
      "cell_type": "code",
      "metadata": {
        "id": "1vB56WnaXWEg",
        "colab": {
          "base_uri": "https://localhost:8080/"
        },
        "outputId": "75bf4f37-3f25-4fda-9638-1be10f1f6692"
      },
      "source": [
        "!pip install tweet-preprocessor\n",
        "import preprocessor as p"
      ],
      "execution_count": 7,
      "outputs": [
        {
          "output_type": "stream",
          "name": "stdout",
          "text": [
            "Collecting tweet-preprocessor\n",
            "  Downloading tweet_preprocessor-0.6.0-py3-none-any.whl (27 kB)\n",
            "Installing collected packages: tweet-preprocessor\n",
            "Successfully installed tweet-preprocessor-0.6.0\n"
          ]
        }
      ]
    },
    {
      "cell_type": "code",
      "metadata": {
        "id": "4_i5HQadnF0r",
        "outputId": "665f5c38-02e8-4385-c3ea-a97c4db2a50b",
        "colab": {
          "base_uri": "https://localhost:8080/",
          "height": 424
        }
      },
      "source": [
        "df[df['tweet'].str.contains(\"com\")]"
      ],
      "execution_count": 10,
      "outputs": [
        {
          "output_type": "execute_result",
          "data": {
            "text/html": [
              "<div>\n",
              "<style scoped>\n",
              "    .dataframe tbody tr th:only-of-type {\n",
              "        vertical-align: middle;\n",
              "    }\n",
              "\n",
              "    .dataframe tbody tr th {\n",
              "        vertical-align: top;\n",
              "    }\n",
              "\n",
              "    .dataframe thead th {\n",
              "        text-align: right;\n",
              "    }\n",
              "</style>\n",
              "<table border=\"1\" class=\"dataframe\">\n",
              "  <thead>\n",
              "    <tr style=\"text-align: right;\">\n",
              "      <th></th>\n",
              "      <th>tweet</th>\n",
              "    </tr>\n",
              "  </thead>\n",
              "  <tbody>\n",
              "    <tr>\n",
              "      <th>35</th>\n",
              "      <td>@cocomix04 ill tell ya the story later  not a ...</td>\n",
              "    </tr>\n",
              "    <tr>\n",
              "      <th>42</th>\n",
              "      <td>@JonathanRKnight Awww I soo wish I was there t...</td>\n",
              "    </tr>\n",
              "    <tr>\n",
              "      <th>49</th>\n",
              "      <td>Broadband plan 'a massive broken promise' http...</td>\n",
              "    </tr>\n",
              "    <tr>\n",
              "      <th>54</th>\n",
              "      <td>@andywana Not sure what they are, only that th...</td>\n",
              "    </tr>\n",
              "    <tr>\n",
              "      <th>59</th>\n",
              "      <td>@BatManYNG I miss my ps3, it's out of commissi...</td>\n",
              "    </tr>\n",
              "    <tr>\n",
              "      <th>...</th>\n",
              "      <td>...</td>\n",
              "    </tr>\n",
              "    <tr>\n",
              "      <th>1599949</th>\n",
              "      <td>OMG how good is ben and jerrys cookie dough ic...</td>\n",
              "    </tr>\n",
              "    <tr>\n",
              "      <th>1599972</th>\n",
              "      <td>http://twitpic.com/7jp4n - OMG! Office Space.....</td>\n",
              "    </tr>\n",
              "    <tr>\n",
              "      <th>1599980</th>\n",
              "      <td>Another Commenting Contest! [;: Yay!!!  http:/...</td>\n",
              "    </tr>\n",
              "    <tr>\n",
              "      <th>1599984</th>\n",
              "      <td>if ur the lead singer in a band, beware fallin...</td>\n",
              "    </tr>\n",
              "    <tr>\n",
              "      <th>1599995</th>\n",
              "      <td>TheWDB.com - Very cool to hear old Walt interv...</td>\n",
              "    </tr>\n",
              "  </tbody>\n",
              "</table>\n",
              "<p>127023 rows × 1 columns</p>\n",
              "</div>"
            ],
            "text/plain": [
              "                                                     tweet\n",
              "35       @cocomix04 ill tell ya the story later  not a ...\n",
              "42       @JonathanRKnight Awww I soo wish I was there t...\n",
              "49       Broadband plan 'a massive broken promise' http...\n",
              "54       @andywana Not sure what they are, only that th...\n",
              "59       @BatManYNG I miss my ps3, it's out of commissi...\n",
              "...                                                    ...\n",
              "1599949  OMG how good is ben and jerrys cookie dough ic...\n",
              "1599972  http://twitpic.com/7jp4n - OMG! Office Space.....\n",
              "1599980  Another Commenting Contest! [;: Yay!!!  http:/...\n",
              "1599984  if ur the lead singer in a band, beware fallin...\n",
              "1599995  TheWDB.com - Very cool to hear old Walt interv...\n",
              "\n",
              "[127023 rows x 1 columns]"
            ]
          },
          "metadata": {},
          "execution_count": 10
        }
      ]
    },
    {
      "cell_type": "code",
      "metadata": {
        "id": "-vINm3dlZMJl"
      },
      "source": [
        "p.set_options(p.OPT.URL, p.OPT.MENTION,p.OPT.HASHTAG)"
      ],
      "execution_count": 9,
      "outputs": []
    },
    {
      "cell_type": "code",
      "metadata": {
        "id": "71eWFf8VYsN8"
      },
      "source": [
        "sementara=[]\n",
        "for word in df.tweet:\n",
        "  sementara.append(p.clean(word))"
      ],
      "execution_count": 11,
      "outputs": []
    },
    {
      "cell_type": "code",
      "metadata": {
        "id": "2ZSKSEyab7Ou",
        "colab": {
          "base_uri": "https://localhost:8080/"
        },
        "outputId": "a944195f-80ac-453a-d5b3-3a50473e0035"
      },
      "source": [
        "df.tweet.shape"
      ],
      "execution_count": null,
      "outputs": [
        {
          "output_type": "execute_result",
          "data": {
            "text/plain": [
              "(1599999,)"
            ]
          },
          "metadata": {},
          "execution_count": 10
        }
      ]
    },
    {
      "cell_type": "code",
      "metadata": {
        "id": "h-qDZGQeb-8O"
      },
      "source": [
        "df.tweet=sementara"
      ],
      "execution_count": 13,
      "outputs": []
    },
    {
      "cell_type": "code",
      "metadata": {
        "id": "F-JedgFToHSs",
        "outputId": "5b0ef10d-ce87-4027-f246-d93405530972",
        "colab": {
          "base_uri": "https://localhost:8080/",
          "height": 424
        }
      },
      "source": [
        "df[df['tweet'].str.contains(\"com\")]"
      ],
      "execution_count": 18,
      "outputs": [
        {
          "output_type": "execute_result",
          "data": {
            "text/html": [
              "<div>\n",
              "<style scoped>\n",
              "    .dataframe tbody tr th:only-of-type {\n",
              "        vertical-align: middle;\n",
              "    }\n",
              "\n",
              "    .dataframe tbody tr th {\n",
              "        vertical-align: top;\n",
              "    }\n",
              "\n",
              "    .dataframe thead th {\n",
              "        text-align: right;\n",
              "    }\n",
              "</style>\n",
              "<table border=\"1\" class=\"dataframe\">\n",
              "  <thead>\n",
              "    <tr style=\"text-align: right;\">\n",
              "      <th></th>\n",
              "      <th>tweet</th>\n",
              "    </tr>\n",
              "  </thead>\n",
              "  <tbody>\n",
              "    <tr>\n",
              "      <th>42</th>\n",
              "      <td>Awww I soo wish I was there to see you finally...</td>\n",
              "    </tr>\n",
              "    <tr>\n",
              "      <th>54</th>\n",
              "      <td>Not sure what they are, only that they are PoS...</td>\n",
              "    </tr>\n",
              "    <tr>\n",
              "      <th>59</th>\n",
              "      <td>I miss my ps3, it's out of commission Wutcha p...</td>\n",
              "    </tr>\n",
              "    <tr>\n",
              "      <th>63</th>\n",
              "      <td>I had such a nice day. Too bad the rain comes ...</td>\n",
              "    </tr>\n",
              "    <tr>\n",
              "      <th>75</th>\n",
              "      <td>My donkey is sensitive about such comments. Ne...</td>\n",
              "    </tr>\n",
              "    <tr>\n",
              "      <th>...</th>\n",
              "      <td>...</td>\n",
              "    </tr>\n",
              "    <tr>\n",
              "      <th>1599846</th>\n",
              "      <td>You're quite welcome.</td>\n",
              "    </tr>\n",
              "    <tr>\n",
              "      <th>1599885</th>\n",
              "      <td>Then we head out again Denmark here we come</td>\n",
              "    </tr>\n",
              "    <tr>\n",
              "      <th>1599890</th>\n",
              "      <td>actually my other PSN ID is GUNSnSPEEDO O_o an...</td>\n",
              "    </tr>\n",
              "    <tr>\n",
              "      <th>1599949</th>\n",
              "      <td>OMG how good is ben and jerrys cookie dough ic...</td>\n",
              "    </tr>\n",
              "    <tr>\n",
              "      <th>1599995</th>\n",
              "      <td>TheWDB.com - Very cool to hear old Walt interv...</td>\n",
              "    </tr>\n",
              "  </tbody>\n",
              "</table>\n",
              "<p>82635 rows × 1 columns</p>\n",
              "</div>"
            ],
            "text/plain": [
              "                                                     tweet\n",
              "42       Awww I soo wish I was there to see you finally...\n",
              "54       Not sure what they are, only that they are PoS...\n",
              "59       I miss my ps3, it's out of commission Wutcha p...\n",
              "63       I had such a nice day. Too bad the rain comes ...\n",
              "75       My donkey is sensitive about such comments. Ne...\n",
              "...                                                    ...\n",
              "1599846                              You're quite welcome.\n",
              "1599885        Then we head out again Denmark here we come\n",
              "1599890  actually my other PSN ID is GUNSnSPEEDO O_o an...\n",
              "1599949  OMG how good is ben and jerrys cookie dough ic...\n",
              "1599995  TheWDB.com - Very cool to hear old Walt interv...\n",
              "\n",
              "[82635 rows x 1 columns]"
            ]
          },
          "metadata": {},
          "execution_count": 18
        }
      ]
    },
    {
      "cell_type": "code",
      "metadata": {
        "id": "pnL_1O2IcGcn",
        "colab": {
          "base_uri": "https://localhost:8080/"
        },
        "outputId": "0571c0dc-cd79-4272-c360-5ecd57289ee4"
      },
      "source": [
        "df.tweet.shape"
      ],
      "execution_count": null,
      "outputs": [
        {
          "output_type": "execute_result",
          "data": {
            "text/plain": [
              "(1599999,)"
            ]
          },
          "metadata": {},
          "execution_count": 12
        }
      ]
    },
    {
      "cell_type": "code",
      "metadata": {
        "id": "ry-MvigVwTTx",
        "colab": {
          "base_uri": "https://localhost:8080/",
          "height": 49
        },
        "outputId": "365b9080-d8f9-4f37-87eb-8e2738d090ba"
      },
      "source": [
        "df[df.iloc[:,0].isnull()]"
      ],
      "execution_count": 20,
      "outputs": [
        {
          "output_type": "execute_result",
          "data": {
            "text/html": [
              "<div>\n",
              "<style scoped>\n",
              "    .dataframe tbody tr th:only-of-type {\n",
              "        vertical-align: middle;\n",
              "    }\n",
              "\n",
              "    .dataframe tbody tr th {\n",
              "        vertical-align: top;\n",
              "    }\n",
              "\n",
              "    .dataframe thead th {\n",
              "        text-align: right;\n",
              "    }\n",
              "</style>\n",
              "<table border=\"1\" class=\"dataframe\">\n",
              "  <thead>\n",
              "    <tr style=\"text-align: right;\">\n",
              "      <th></th>\n",
              "      <th>tweet</th>\n",
              "    </tr>\n",
              "  </thead>\n",
              "  <tbody>\n",
              "  </tbody>\n",
              "</table>\n",
              "</div>"
            ],
            "text/plain": [
              "Empty DataFrame\n",
              "Columns: [tweet]\n",
              "Index: []"
            ]
          },
          "metadata": {},
          "execution_count": 20
        }
      ]
    },
    {
      "cell_type": "code",
      "metadata": {
        "id": "PFoSPne8xa5U"
      },
      "source": [
        "df = df.dropna(how='any',axis=0) "
      ],
      "execution_count": 21,
      "outputs": []
    },
    {
      "cell_type": "code",
      "metadata": {
        "id": "JOd43KfvxdIX",
        "colab": {
          "base_uri": "https://localhost:8080/",
          "height": 49
        },
        "outputId": "918c02d4-d564-41cc-b19d-28a84fa5fbde"
      },
      "source": [
        "df[df.iloc[:,0].isnull()]"
      ],
      "execution_count": 22,
      "outputs": [
        {
          "output_type": "execute_result",
          "data": {
            "text/html": [
              "<div>\n",
              "<style scoped>\n",
              "    .dataframe tbody tr th:only-of-type {\n",
              "        vertical-align: middle;\n",
              "    }\n",
              "\n",
              "    .dataframe tbody tr th {\n",
              "        vertical-align: top;\n",
              "    }\n",
              "\n",
              "    .dataframe thead th {\n",
              "        text-align: right;\n",
              "    }\n",
              "</style>\n",
              "<table border=\"1\" class=\"dataframe\">\n",
              "  <thead>\n",
              "    <tr style=\"text-align: right;\">\n",
              "      <th></th>\n",
              "      <th>tweet</th>\n",
              "    </tr>\n",
              "  </thead>\n",
              "  <tbody>\n",
              "  </tbody>\n",
              "</table>\n",
              "</div>"
            ],
            "text/plain": [
              "Empty DataFrame\n",
              "Columns: [tweet]\n",
              "Index: []"
            ]
          },
          "metadata": {},
          "execution_count": 22
        }
      ]
    },
    {
      "cell_type": "code",
      "metadata": {
        "id": "27PPnb4VcZIm"
      },
      "source": [
        "df.to_csv(r'twitter_prosessed.csv', index = False)"
      ],
      "execution_count": 23,
      "outputs": []
    }
  ]
}