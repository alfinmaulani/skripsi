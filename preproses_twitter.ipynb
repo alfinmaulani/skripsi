{
  "nbformat": 4,
  "nbformat_minor": 0,
  "metadata": {
    "colab": {
      "name": "Untitled7.ipynb",
      "provenance": [],
      "authorship_tag": "ABX9TyNKN+QHRm5BT09wtT/FzY0E",
      "include_colab_link": true
    },
    "kernelspec": {
      "name": "python3",
      "display_name": "Python 3"
    },
    "language_info": {
      "name": "python"
    }
  },
  "cells": [
    {
      "cell_type": "markdown",
      "metadata": {
        "id": "view-in-github",
        "colab_type": "text"
      },
      "source": [
        "<a href=\"https://colab.research.google.com/github/alfinmaulani/skripsi/blob/master/preproses_twitter.ipynb\" target=\"_parent\"><img src=\"https://colab.research.google.com/assets/colab-badge.svg\" alt=\"Open In Colab\"/></a>"
      ]
    },
    {
      "cell_type": "code",
      "metadata": {
        "id": "WfLZKnH8_FcK"
      },
      "source": [
        "import re\n",
        "import csv\n",
        "import numpy as np\n",
        "import gensim\n",
        "import pandas as pd\n",
        "import io\n",
        "import matplotlib.pyplot as plt\n",
        "from nltk.tokenize import word_tokenize\n",
        "import nltk"
      ],
      "execution_count": 1,
      "outputs": []
    },
    {
      "cell_type": "code",
      "metadata": {
        "colab": {
          "base_uri": "https://localhost:8080/"
        },
        "id": "XD71WfA2__l1",
        "outputId": "78924d9b-d49a-41e9-a987-788bf7228cf1"
      },
      "source": [
        "from google.colab import drive\n",
        "drive.mount('/content/drive')"
      ],
      "execution_count": null,
      "outputs": [
        {
          "output_type": "stream",
          "name": "stdout",
          "text": [
            "Mounted at /content/drive\n"
          ]
        }
      ]
    },
    {
      "cell_type": "code",
      "metadata": {
        "id": "PGIyDUfsALev"
      },
      "source": [
        "df = pd.read_csv('/content/drive/MyDrive/training.1600000.processed.noemoticon.csv',encoding='latin-1')"
      ],
      "execution_count": 2,
      "outputs": []
    },
    {
      "cell_type": "code",
      "metadata": {
        "id": "LsTXC4M1ZxKW"
      },
      "source": [
        "df = pd.read_csv('https://raw.githubusercontent.com/alfinmaulani/skripsi/master/tweet_emotions.csv')"
      ],
      "execution_count": null,
      "outputs": []
    },
    {
      "cell_type": "code",
      "metadata": {
        "id": "nfRVTYGqX5TO",
        "colab": {
          "base_uri": "https://localhost:8080/",
          "height": 424
        },
        "outputId": "45f994de-6392-4f93-eba8-eb7279934997"
      },
      "source": [
        "df"
      ],
      "execution_count": 3,
      "outputs": [
        {
          "output_type": "execute_result",
          "data": {
            "text/html": [
              "<div>\n",
              "<style scoped>\n",
              "    .dataframe tbody tr th:only-of-type {\n",
              "        vertical-align: middle;\n",
              "    }\n",
              "\n",
              "    .dataframe tbody tr th {\n",
              "        vertical-align: top;\n",
              "    }\n",
              "\n",
              "    .dataframe thead th {\n",
              "        text-align: right;\n",
              "    }\n",
              "</style>\n",
              "<table border=\"1\" class=\"dataframe\">\n",
              "  <thead>\n",
              "    <tr style=\"text-align: right;\">\n",
              "      <th></th>\n",
              "      <th>tweet_id</th>\n",
              "      <th>sentiment</th>\n",
              "      <th>content</th>\n",
              "    </tr>\n",
              "  </thead>\n",
              "  <tbody>\n",
              "    <tr>\n",
              "      <th>0</th>\n",
              "      <td>1956967341</td>\n",
              "      <td>empty</td>\n",
              "      <td>@tiffanylue i know  i was listenin to bad habi...</td>\n",
              "    </tr>\n",
              "    <tr>\n",
              "      <th>1</th>\n",
              "      <td>1956967666</td>\n",
              "      <td>sadness</td>\n",
              "      <td>Layin n bed with a headache  ughhhh...waitin o...</td>\n",
              "    </tr>\n",
              "    <tr>\n",
              "      <th>2</th>\n",
              "      <td>1956967696</td>\n",
              "      <td>sadness</td>\n",
              "      <td>Funeral ceremony...gloomy friday...</td>\n",
              "    </tr>\n",
              "    <tr>\n",
              "      <th>3</th>\n",
              "      <td>1956967789</td>\n",
              "      <td>enthusiasm</td>\n",
              "      <td>wants to hang out with friends SOON!</td>\n",
              "    </tr>\n",
              "    <tr>\n",
              "      <th>4</th>\n",
              "      <td>1956968416</td>\n",
              "      <td>neutral</td>\n",
              "      <td>@dannycastillo We want to trade with someone w...</td>\n",
              "    </tr>\n",
              "    <tr>\n",
              "      <th>...</th>\n",
              "      <td>...</td>\n",
              "      <td>...</td>\n",
              "      <td>...</td>\n",
              "    </tr>\n",
              "    <tr>\n",
              "      <th>39995</th>\n",
              "      <td>1753918954</td>\n",
              "      <td>neutral</td>\n",
              "      <td>@JohnLloydTaylor</td>\n",
              "    </tr>\n",
              "    <tr>\n",
              "      <th>39996</th>\n",
              "      <td>1753919001</td>\n",
              "      <td>love</td>\n",
              "      <td>Happy Mothers Day  All my love</td>\n",
              "    </tr>\n",
              "    <tr>\n",
              "      <th>39997</th>\n",
              "      <td>1753919005</td>\n",
              "      <td>love</td>\n",
              "      <td>Happy Mother's Day to all the mommies out ther...</td>\n",
              "    </tr>\n",
              "    <tr>\n",
              "      <th>39998</th>\n",
              "      <td>1753919043</td>\n",
              "      <td>happiness</td>\n",
              "      <td>@niariley WASSUP BEAUTIFUL!!! FOLLOW ME!!  PEE...</td>\n",
              "    </tr>\n",
              "    <tr>\n",
              "      <th>39999</th>\n",
              "      <td>1753919049</td>\n",
              "      <td>love</td>\n",
              "      <td>@mopedronin bullet train from tokyo    the gf ...</td>\n",
              "    </tr>\n",
              "  </tbody>\n",
              "</table>\n",
              "<p>40000 rows × 3 columns</p>\n",
              "</div>"
            ],
            "text/plain": [
              "         tweet_id  ...                                            content\n",
              "0      1956967341  ...  @tiffanylue i know  i was listenin to bad habi...\n",
              "1      1956967666  ...  Layin n bed with a headache  ughhhh...waitin o...\n",
              "2      1956967696  ...                Funeral ceremony...gloomy friday...\n",
              "3      1956967789  ...               wants to hang out with friends SOON!\n",
              "4      1956968416  ...  @dannycastillo We want to trade with someone w...\n",
              "...           ...  ...                                                ...\n",
              "39995  1753918954  ...                                   @JohnLloydTaylor\n",
              "39996  1753919001  ...                     Happy Mothers Day  All my love\n",
              "39997  1753919005  ...  Happy Mother's Day to all the mommies out ther...\n",
              "39998  1753919043  ...  @niariley WASSUP BEAUTIFUL!!! FOLLOW ME!!  PEE...\n",
              "39999  1753919049  ...  @mopedronin bullet train from tokyo    the gf ...\n",
              "\n",
              "[40000 rows x 3 columns]"
            ]
          },
          "metadata": {},
          "execution_count": 3
        }
      ]
    },
    {
      "cell_type": "code",
      "metadata": {
        "id": "BYNJ059fA9MA"
      },
      "source": [
        "df.columns=[\"1\",\"2\",\"3\",\"4\",\"5\",\"tweet\"]"
      ],
      "execution_count": null,
      "outputs": []
    },
    {
      "cell_type": "code",
      "metadata": {
        "id": "Z5zjpbZTChhJ"
      },
      "source": [
        "df.drop(df.columns[0],axis=1, inplace=True)\n",
        "df.drop(df.columns[0],axis=1, inplace=True)\n",
        "# df.drop(df.columns[0],axis=1, inplace=True)\n",
        "# df.drop(df.columns[0],axis=1, inplace=True)\n",
        "# df.drop(df.columns[0],axis=1, inplace=True)"
      ],
      "execution_count": 4,
      "outputs": []
    },
    {
      "cell_type": "code",
      "metadata": {
        "id": "P5TS7AsmZ5lw",
        "outputId": "34c74123-89a7-4c31-f99c-134499268f19",
        "colab": {
          "base_uri": "https://localhost:8080/",
          "height": 424
        }
      },
      "source": [
        "df"
      ],
      "execution_count": 5,
      "outputs": [
        {
          "output_type": "execute_result",
          "data": {
            "text/html": [
              "<div>\n",
              "<style scoped>\n",
              "    .dataframe tbody tr th:only-of-type {\n",
              "        vertical-align: middle;\n",
              "    }\n",
              "\n",
              "    .dataframe tbody tr th {\n",
              "        vertical-align: top;\n",
              "    }\n",
              "\n",
              "    .dataframe thead th {\n",
              "        text-align: right;\n",
              "    }\n",
              "</style>\n",
              "<table border=\"1\" class=\"dataframe\">\n",
              "  <thead>\n",
              "    <tr style=\"text-align: right;\">\n",
              "      <th></th>\n",
              "      <th>content</th>\n",
              "    </tr>\n",
              "  </thead>\n",
              "  <tbody>\n",
              "    <tr>\n",
              "      <th>0</th>\n",
              "      <td>@tiffanylue i know  i was listenin to bad habi...</td>\n",
              "    </tr>\n",
              "    <tr>\n",
              "      <th>1</th>\n",
              "      <td>Layin n bed with a headache  ughhhh...waitin o...</td>\n",
              "    </tr>\n",
              "    <tr>\n",
              "      <th>2</th>\n",
              "      <td>Funeral ceremony...gloomy friday...</td>\n",
              "    </tr>\n",
              "    <tr>\n",
              "      <th>3</th>\n",
              "      <td>wants to hang out with friends SOON!</td>\n",
              "    </tr>\n",
              "    <tr>\n",
              "      <th>4</th>\n",
              "      <td>@dannycastillo We want to trade with someone w...</td>\n",
              "    </tr>\n",
              "    <tr>\n",
              "      <th>...</th>\n",
              "      <td>...</td>\n",
              "    </tr>\n",
              "    <tr>\n",
              "      <th>39995</th>\n",
              "      <td>@JohnLloydTaylor</td>\n",
              "    </tr>\n",
              "    <tr>\n",
              "      <th>39996</th>\n",
              "      <td>Happy Mothers Day  All my love</td>\n",
              "    </tr>\n",
              "    <tr>\n",
              "      <th>39997</th>\n",
              "      <td>Happy Mother's Day to all the mommies out ther...</td>\n",
              "    </tr>\n",
              "    <tr>\n",
              "      <th>39998</th>\n",
              "      <td>@niariley WASSUP BEAUTIFUL!!! FOLLOW ME!!  PEE...</td>\n",
              "    </tr>\n",
              "    <tr>\n",
              "      <th>39999</th>\n",
              "      <td>@mopedronin bullet train from tokyo    the gf ...</td>\n",
              "    </tr>\n",
              "  </tbody>\n",
              "</table>\n",
              "<p>40000 rows × 1 columns</p>\n",
              "</div>"
            ],
            "text/plain": [
              "                                                 content\n",
              "0      @tiffanylue i know  i was listenin to bad habi...\n",
              "1      Layin n bed with a headache  ughhhh...waitin o...\n",
              "2                    Funeral ceremony...gloomy friday...\n",
              "3                   wants to hang out with friends SOON!\n",
              "4      @dannycastillo We want to trade with someone w...\n",
              "...                                                  ...\n",
              "39995                                   @JohnLloydTaylor\n",
              "39996                     Happy Mothers Day  All my love\n",
              "39997  Happy Mother's Day to all the mommies out ther...\n",
              "39998  @niariley WASSUP BEAUTIFUL!!! FOLLOW ME!!  PEE...\n",
              "39999  @mopedronin bullet train from tokyo    the gf ...\n",
              "\n",
              "[40000 rows x 1 columns]"
            ]
          },
          "metadata": {},
          "execution_count": 5
        }
      ]
    },
    {
      "cell_type": "code",
      "metadata": {
        "id": "MuK1i-ZpCGH9"
      },
      "source": [
        "df.tweet[1]"
      ],
      "execution_count": null,
      "outputs": []
    },
    {
      "cell_type": "code",
      "metadata": {
        "id": "q6x75foSC66R",
        "colab": {
          "base_uri": "https://localhost:8080/",
          "height": 36
        },
        "outputId": "676f2a8e-9a0e-4ba4-8534-27ef5fe41e69"
      },
      "source": [
        "df.iloc[124163,0]"
      ],
      "execution_count": null,
      "outputs": [
        {
          "output_type": "execute_result",
          "data": {
            "application/vnd.google.colaboratory.intrinsic+json": {
              "type": "string"
            },
            "text/plain": [
              "\"@paulanicole you're so right  ok I'll turn them on, but only if you @replyz me every day.\""
            ]
          },
          "metadata": {},
          "execution_count": 14
        }
      ]
    },
    {
      "cell_type": "code",
      "metadata": {
        "id": "1vB56WnaXWEg",
        "colab": {
          "base_uri": "https://localhost:8080/"
        },
        "outputId": "47082aa7-aea8-4139-85de-24e34359afa6"
      },
      "source": [
        "!pip install tweet-preprocessor\n",
        "import preprocessor as p"
      ],
      "execution_count": 7,
      "outputs": [
        {
          "output_type": "stream",
          "name": "stdout",
          "text": [
            "Collecting tweet-preprocessor\n",
            "  Downloading tweet_preprocessor-0.6.0-py3-none-any.whl (27 kB)\n",
            "Installing collected packages: tweet-preprocessor\n",
            "Successfully installed tweet-preprocessor-0.6.0\n"
          ]
        }
      ]
    },
    {
      "cell_type": "code",
      "metadata": {
        "id": "4_i5HQadnF0r",
        "colab": {
          "base_uri": "https://localhost:8080/",
          "height": 424
        },
        "outputId": "665f5c38-02e8-4385-c3ea-a97c4db2a50b"
      },
      "source": [
        "df[df['tweet'].str.contains(\"com\")]"
      ],
      "execution_count": null,
      "outputs": [
        {
          "output_type": "execute_result",
          "data": {
            "text/html": [
              "<div>\n",
              "<style scoped>\n",
              "    .dataframe tbody tr th:only-of-type {\n",
              "        vertical-align: middle;\n",
              "    }\n",
              "\n",
              "    .dataframe tbody tr th {\n",
              "        vertical-align: top;\n",
              "    }\n",
              "\n",
              "    .dataframe thead th {\n",
              "        text-align: right;\n",
              "    }\n",
              "</style>\n",
              "<table border=\"1\" class=\"dataframe\">\n",
              "  <thead>\n",
              "    <tr style=\"text-align: right;\">\n",
              "      <th></th>\n",
              "      <th>tweet</th>\n",
              "    </tr>\n",
              "  </thead>\n",
              "  <tbody>\n",
              "    <tr>\n",
              "      <th>35</th>\n",
              "      <td>@cocomix04 ill tell ya the story later  not a ...</td>\n",
              "    </tr>\n",
              "    <tr>\n",
              "      <th>42</th>\n",
              "      <td>@JonathanRKnight Awww I soo wish I was there t...</td>\n",
              "    </tr>\n",
              "    <tr>\n",
              "      <th>49</th>\n",
              "      <td>Broadband plan 'a massive broken promise' http...</td>\n",
              "    </tr>\n",
              "    <tr>\n",
              "      <th>54</th>\n",
              "      <td>@andywana Not sure what they are, only that th...</td>\n",
              "    </tr>\n",
              "    <tr>\n",
              "      <th>59</th>\n",
              "      <td>@BatManYNG I miss my ps3, it's out of commissi...</td>\n",
              "    </tr>\n",
              "    <tr>\n",
              "      <th>...</th>\n",
              "      <td>...</td>\n",
              "    </tr>\n",
              "    <tr>\n",
              "      <th>1599949</th>\n",
              "      <td>OMG how good is ben and jerrys cookie dough ic...</td>\n",
              "    </tr>\n",
              "    <tr>\n",
              "      <th>1599972</th>\n",
              "      <td>http://twitpic.com/7jp4n - OMG! Office Space.....</td>\n",
              "    </tr>\n",
              "    <tr>\n",
              "      <th>1599980</th>\n",
              "      <td>Another Commenting Contest! [;: Yay!!!  http:/...</td>\n",
              "    </tr>\n",
              "    <tr>\n",
              "      <th>1599984</th>\n",
              "      <td>if ur the lead singer in a band, beware fallin...</td>\n",
              "    </tr>\n",
              "    <tr>\n",
              "      <th>1599995</th>\n",
              "      <td>TheWDB.com - Very cool to hear old Walt interv...</td>\n",
              "    </tr>\n",
              "  </tbody>\n",
              "</table>\n",
              "<p>127023 rows × 1 columns</p>\n",
              "</div>"
            ],
            "text/plain": [
              "                                                     tweet\n",
              "35       @cocomix04 ill tell ya the story later  not a ...\n",
              "42       @JonathanRKnight Awww I soo wish I was there t...\n",
              "49       Broadband plan 'a massive broken promise' http...\n",
              "54       @andywana Not sure what they are, only that th...\n",
              "59       @BatManYNG I miss my ps3, it's out of commissi...\n",
              "...                                                    ...\n",
              "1599949  OMG how good is ben and jerrys cookie dough ic...\n",
              "1599972  http://twitpic.com/7jp4n - OMG! Office Space.....\n",
              "1599980  Another Commenting Contest! [;: Yay!!!  http:/...\n",
              "1599984  if ur the lead singer in a band, beware fallin...\n",
              "1599995  TheWDB.com - Very cool to hear old Walt interv...\n",
              "\n",
              "[127023 rows x 1 columns]"
            ]
          },
          "metadata": {},
          "execution_count": 10
        }
      ]
    },
    {
      "cell_type": "code",
      "metadata": {
        "id": "-vINm3dlZMJl"
      },
      "source": [
        "p.set_options(p.OPT.URL, p.OPT.MENTION,p.OPT.HASHTAG)"
      ],
      "execution_count": 8,
      "outputs": []
    },
    {
      "cell_type": "code",
      "metadata": {
        "id": "71eWFf8VYsN8"
      },
      "source": [
        "sementara=[]\n",
        "for word in df.content:\n",
        "  sementara.append(p.clean(word))"
      ],
      "execution_count": 10,
      "outputs": []
    },
    {
      "cell_type": "code",
      "metadata": {
        "id": "2ZSKSEyab7Ou",
        "colab": {
          "base_uri": "https://localhost:8080/"
        },
        "outputId": "f49edce2-90cb-40a4-9b16-0a798714bc5e"
      },
      "source": [
        "df.tweet.shape"
      ],
      "execution_count": null,
      "outputs": [
        {
          "output_type": "execute_result",
          "data": {
            "text/plain": [
              "(1599999,)"
            ]
          },
          "metadata": {},
          "execution_count": 18
        }
      ]
    },
    {
      "cell_type": "code",
      "metadata": {
        "id": "h-qDZGQeb-8O"
      },
      "source": [
        "df.content=sementara"
      ],
      "execution_count": 12,
      "outputs": []
    },
    {
      "cell_type": "code",
      "metadata": {
        "id": "HbJr9H67aREK",
        "outputId": "fa9d8e0c-4497-4001-e64f-ad977c109e87",
        "colab": {
          "base_uri": "https://localhost:8080/",
          "height": 424
        }
      },
      "source": [
        "df"
      ],
      "execution_count": 13,
      "outputs": [
        {
          "output_type": "execute_result",
          "data": {
            "text/html": [
              "<div>\n",
              "<style scoped>\n",
              "    .dataframe tbody tr th:only-of-type {\n",
              "        vertical-align: middle;\n",
              "    }\n",
              "\n",
              "    .dataframe tbody tr th {\n",
              "        vertical-align: top;\n",
              "    }\n",
              "\n",
              "    .dataframe thead th {\n",
              "        text-align: right;\n",
              "    }\n",
              "</style>\n",
              "<table border=\"1\" class=\"dataframe\">\n",
              "  <thead>\n",
              "    <tr style=\"text-align: right;\">\n",
              "      <th></th>\n",
              "      <th>content</th>\n",
              "    </tr>\n",
              "  </thead>\n",
              "  <tbody>\n",
              "    <tr>\n",
              "      <th>0</th>\n",
              "      <td>i know i was listenin to bad habit earlier and...</td>\n",
              "    </tr>\n",
              "    <tr>\n",
              "      <th>1</th>\n",
              "      <td>Layin n bed with a headache ughhhh...waitin on...</td>\n",
              "    </tr>\n",
              "    <tr>\n",
              "      <th>2</th>\n",
              "      <td>Funeral ceremony...gloomy friday...</td>\n",
              "    </tr>\n",
              "    <tr>\n",
              "      <th>3</th>\n",
              "      <td>wants to hang out with friends SOON!</td>\n",
              "    </tr>\n",
              "    <tr>\n",
              "      <th>4</th>\n",
              "      <td>We want to trade with someone who has Houston ...</td>\n",
              "    </tr>\n",
              "    <tr>\n",
              "      <th>...</th>\n",
              "      <td>...</td>\n",
              "    </tr>\n",
              "    <tr>\n",
              "      <th>39995</th>\n",
              "      <td></td>\n",
              "    </tr>\n",
              "    <tr>\n",
              "      <th>39996</th>\n",
              "      <td>Happy Mothers Day All my love</td>\n",
              "    </tr>\n",
              "    <tr>\n",
              "      <th>39997</th>\n",
              "      <td>Happy Mother's Day to all the mommies out ther...</td>\n",
              "    </tr>\n",
              "    <tr>\n",
              "      <th>39998</th>\n",
              "      <td>WASSUP BEAUTIFUL!!! FOLLOW ME!! PEEP OUT MY NE...</td>\n",
              "    </tr>\n",
              "    <tr>\n",
              "      <th>39999</th>\n",
              "      <td>bullet train from tokyo the gf and i have been...</td>\n",
              "    </tr>\n",
              "  </tbody>\n",
              "</table>\n",
              "<p>40000 rows × 1 columns</p>\n",
              "</div>"
            ],
            "text/plain": [
              "                                                 content\n",
              "0      i know i was listenin to bad habit earlier and...\n",
              "1      Layin n bed with a headache ughhhh...waitin on...\n",
              "2                    Funeral ceremony...gloomy friday...\n",
              "3                   wants to hang out with friends SOON!\n",
              "4      We want to trade with someone who has Houston ...\n",
              "...                                                  ...\n",
              "39995                                                   \n",
              "39996                      Happy Mothers Day All my love\n",
              "39997  Happy Mother's Day to all the mommies out ther...\n",
              "39998  WASSUP BEAUTIFUL!!! FOLLOW ME!! PEEP OUT MY NE...\n",
              "39999  bullet train from tokyo the gf and i have been...\n",
              "\n",
              "[40000 rows x 1 columns]"
            ]
          },
          "metadata": {},
          "execution_count": 13
        }
      ]
    },
    {
      "cell_type": "code",
      "metadata": {
        "id": "EtaMql_HVacE",
        "colab": {
          "base_uri": "https://localhost:8080/",
          "height": 36
        },
        "outputId": "f8e2e6cb-5dae-4997-ba4b-3342a1ae07cf"
      },
      "source": [
        "df.iloc[124163,0]"
      ],
      "execution_count": null,
      "outputs": [
        {
          "output_type": "execute_result",
          "data": {
            "application/vnd.google.colaboratory.intrinsic+json": {
              "type": "string"
            },
            "text/plain": [
              "\"you're so right ok I'll turn them on, but only if you me every day.\""
            ]
          },
          "metadata": {},
          "execution_count": 20
        }
      ]
    },
    {
      "cell_type": "code",
      "metadata": {
        "id": "F-JedgFToHSs",
        "colab": {
          "base_uri": "https://localhost:8080/",
          "height": 424
        },
        "outputId": "5b0ef10d-ce87-4027-f246-d93405530972"
      },
      "source": [
        "df[df['tweet'].str.contains(\"com\")]"
      ],
      "execution_count": null,
      "outputs": [
        {
          "output_type": "execute_result",
          "data": {
            "text/html": [
              "<div>\n",
              "<style scoped>\n",
              "    .dataframe tbody tr th:only-of-type {\n",
              "        vertical-align: middle;\n",
              "    }\n",
              "\n",
              "    .dataframe tbody tr th {\n",
              "        vertical-align: top;\n",
              "    }\n",
              "\n",
              "    .dataframe thead th {\n",
              "        text-align: right;\n",
              "    }\n",
              "</style>\n",
              "<table border=\"1\" class=\"dataframe\">\n",
              "  <thead>\n",
              "    <tr style=\"text-align: right;\">\n",
              "      <th></th>\n",
              "      <th>tweet</th>\n",
              "    </tr>\n",
              "  </thead>\n",
              "  <tbody>\n",
              "    <tr>\n",
              "      <th>42</th>\n",
              "      <td>Awww I soo wish I was there to see you finally...</td>\n",
              "    </tr>\n",
              "    <tr>\n",
              "      <th>54</th>\n",
              "      <td>Not sure what they are, only that they are PoS...</td>\n",
              "    </tr>\n",
              "    <tr>\n",
              "      <th>59</th>\n",
              "      <td>I miss my ps3, it's out of commission Wutcha p...</td>\n",
              "    </tr>\n",
              "    <tr>\n",
              "      <th>63</th>\n",
              "      <td>I had such a nice day. Too bad the rain comes ...</td>\n",
              "    </tr>\n",
              "    <tr>\n",
              "      <th>75</th>\n",
              "      <td>My donkey is sensitive about such comments. Ne...</td>\n",
              "    </tr>\n",
              "    <tr>\n",
              "      <th>...</th>\n",
              "      <td>...</td>\n",
              "    </tr>\n",
              "    <tr>\n",
              "      <th>1599846</th>\n",
              "      <td>You're quite welcome.</td>\n",
              "    </tr>\n",
              "    <tr>\n",
              "      <th>1599885</th>\n",
              "      <td>Then we head out again Denmark here we come</td>\n",
              "    </tr>\n",
              "    <tr>\n",
              "      <th>1599890</th>\n",
              "      <td>actually my other PSN ID is GUNSnSPEEDO O_o an...</td>\n",
              "    </tr>\n",
              "    <tr>\n",
              "      <th>1599949</th>\n",
              "      <td>OMG how good is ben and jerrys cookie dough ic...</td>\n",
              "    </tr>\n",
              "    <tr>\n",
              "      <th>1599995</th>\n",
              "      <td>TheWDB.com - Very cool to hear old Walt interv...</td>\n",
              "    </tr>\n",
              "  </tbody>\n",
              "</table>\n",
              "<p>82635 rows × 1 columns</p>\n",
              "</div>"
            ],
            "text/plain": [
              "                                                     tweet\n",
              "42       Awww I soo wish I was there to see you finally...\n",
              "54       Not sure what they are, only that they are PoS...\n",
              "59       I miss my ps3, it's out of commission Wutcha p...\n",
              "63       I had such a nice day. Too bad the rain comes ...\n",
              "75       My donkey is sensitive about such comments. Ne...\n",
              "...                                                    ...\n",
              "1599846                              You're quite welcome.\n",
              "1599885        Then we head out again Denmark here we come\n",
              "1599890  actually my other PSN ID is GUNSnSPEEDO O_o an...\n",
              "1599949  OMG how good is ben and jerrys cookie dough ic...\n",
              "1599995  TheWDB.com - Very cool to hear old Walt interv...\n",
              "\n",
              "[82635 rows x 1 columns]"
            ]
          },
          "metadata": {},
          "execution_count": 18
        }
      ]
    },
    {
      "cell_type": "code",
      "metadata": {
        "id": "pnL_1O2IcGcn",
        "colab": {
          "base_uri": "https://localhost:8080/"
        },
        "outputId": "0571c0dc-cd79-4272-c360-5ecd57289ee4"
      },
      "source": [
        "df.tweet.shape"
      ],
      "execution_count": null,
      "outputs": [
        {
          "output_type": "execute_result",
          "data": {
            "text/plain": [
              "(1599999,)"
            ]
          },
          "metadata": {},
          "execution_count": 12
        }
      ]
    },
    {
      "cell_type": "code",
      "metadata": {
        "id": "ry-MvigVwTTx",
        "colab": {
          "base_uri": "https://localhost:8080/",
          "height": 49
        },
        "outputId": "365b9080-d8f9-4f37-87eb-8e2738d090ba"
      },
      "source": [
        "df[df.iloc[:,0].isnull()]"
      ],
      "execution_count": null,
      "outputs": [
        {
          "output_type": "execute_result",
          "data": {
            "text/html": [
              "<div>\n",
              "<style scoped>\n",
              "    .dataframe tbody tr th:only-of-type {\n",
              "        vertical-align: middle;\n",
              "    }\n",
              "\n",
              "    .dataframe tbody tr th {\n",
              "        vertical-align: top;\n",
              "    }\n",
              "\n",
              "    .dataframe thead th {\n",
              "        text-align: right;\n",
              "    }\n",
              "</style>\n",
              "<table border=\"1\" class=\"dataframe\">\n",
              "  <thead>\n",
              "    <tr style=\"text-align: right;\">\n",
              "      <th></th>\n",
              "      <th>tweet</th>\n",
              "    </tr>\n",
              "  </thead>\n",
              "  <tbody>\n",
              "  </tbody>\n",
              "</table>\n",
              "</div>"
            ],
            "text/plain": [
              "Empty DataFrame\n",
              "Columns: [tweet]\n",
              "Index: []"
            ]
          },
          "metadata": {},
          "execution_count": 20
        }
      ]
    },
    {
      "cell_type": "code",
      "metadata": {
        "id": "PFoSPne8xa5U"
      },
      "source": [
        "df = df.dropna(how='any',axis=0) "
      ],
      "execution_count": null,
      "outputs": []
    },
    {
      "cell_type": "code",
      "metadata": {
        "id": "JOd43KfvxdIX",
        "colab": {
          "base_uri": "https://localhost:8080/",
          "height": 49
        },
        "outputId": "918c02d4-d564-41cc-b19d-28a84fa5fbde"
      },
      "source": [
        "df[df.iloc[:,0].isnull()]"
      ],
      "execution_count": null,
      "outputs": [
        {
          "output_type": "execute_result",
          "data": {
            "text/html": [
              "<div>\n",
              "<style scoped>\n",
              "    .dataframe tbody tr th:only-of-type {\n",
              "        vertical-align: middle;\n",
              "    }\n",
              "\n",
              "    .dataframe tbody tr th {\n",
              "        vertical-align: top;\n",
              "    }\n",
              "\n",
              "    .dataframe thead th {\n",
              "        text-align: right;\n",
              "    }\n",
              "</style>\n",
              "<table border=\"1\" class=\"dataframe\">\n",
              "  <thead>\n",
              "    <tr style=\"text-align: right;\">\n",
              "      <th></th>\n",
              "      <th>tweet</th>\n",
              "    </tr>\n",
              "  </thead>\n",
              "  <tbody>\n",
              "  </tbody>\n",
              "</table>\n",
              "</div>"
            ],
            "text/plain": [
              "Empty DataFrame\n",
              "Columns: [tweet]\n",
              "Index: []"
            ]
          },
          "metadata": {},
          "execution_count": 22
        }
      ]
    },
    {
      "cell_type": "code",
      "metadata": {
        "id": "27PPnb4VcZIm"
      },
      "source": [
        "df.to_csv(r'twitter_prosessed2.csv', index = False)"
      ],
      "execution_count": 14,
      "outputs": []
    }
  ]
}