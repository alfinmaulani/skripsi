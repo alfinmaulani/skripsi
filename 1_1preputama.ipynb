{
  "nbformat": 4,
  "nbformat_minor": 0,
  "metadata": {
    "colab": {
      "name": "preprocessing.ipynb",
      "provenance": [],
      "authorship_tag": "ABX9TyM9vh93bs3oKMzY8NMmEkLt",
      "include_colab_link": true
    },
    "kernelspec": {
      "name": "python3",
      "display_name": "Python 3"
    },
    "language_info": {
      "name": "python"
    }
  },
  "cells": [
    {
      "cell_type": "markdown",
      "metadata": {
        "id": "view-in-github",
        "colab_type": "text"
      },
      "source": [
        "<a href=\"https://colab.research.google.com/github/alfinmaulani/skripsi/blob/master/preprocessing.ipynb\" target=\"_parent\"><img src=\"https://colab.research.google.com/assets/colab-badge.svg\" alt=\"Open In Colab\"/></a>"
      ]
    },
    {
      "cell_type": "code",
      "metadata": {
        "id": "7srUQXzLjIHp"
      },
      "source": [
        "import numpy as np\n",
        "import pandas as pd\n",
        "import io\n",
        "\n",
        "#dari github\n",
        "url = 'https://raw.githubusercontent.com/alfinmaulani/skripsi/master/dataISEAR.csv'\n",
        "df = pd.read_csv(url)"
      ],
      "execution_count": null,
      "outputs": []
    },
    {
      "cell_type": "code",
      "metadata": {
        "id": "zDefY7O2CcHr",
        "colab": {
          "base_uri": "https://localhost:8080/",
          "height": 206
        },
        "outputId": "32dbee5c-1fee-4bea-e2aa-1ddf8a91fb43"
      },
      "source": [
        "df.head()"
      ],
      "execution_count": null,
      "outputs": [
        {
          "output_type": "execute_result",
          "data": {
            "text/html": [
              "<div>\n",
              "<style scoped>\n",
              "    .dataframe tbody tr th:only-of-type {\n",
              "        vertical-align: middle;\n",
              "    }\n",
              "\n",
              "    .dataframe tbody tr th {\n",
              "        vertical-align: top;\n",
              "    }\n",
              "\n",
              "    .dataframe thead th {\n",
              "        text-align: right;\n",
              "    }\n",
              "</style>\n",
              "<table border=\"1\" class=\"dataframe\">\n",
              "  <thead>\n",
              "    <tr style=\"text-align: right;\">\n",
              "      <th></th>\n",
              "      <th>emosi</th>\n",
              "      <th>dokumen</th>\n",
              "      <th>Unnamed: 2</th>\n",
              "    </tr>\n",
              "  </thead>\n",
              "  <tbody>\n",
              "    <tr>\n",
              "      <th>0</th>\n",
              "      <td>joy</td>\n",
              "      <td>On days when I feel close to my partner and ot...</td>\n",
              "      <td>NaN</td>\n",
              "    </tr>\n",
              "    <tr>\n",
              "      <th>1</th>\n",
              "      <td>fear</td>\n",
              "      <td>Every time I imagine that someone I love or I ...</td>\n",
              "      <td>NaN</td>\n",
              "    </tr>\n",
              "    <tr>\n",
              "      <th>2</th>\n",
              "      <td>anger</td>\n",
              "      <td>When I had been obviously unjustly treated and...</td>\n",
              "      <td>NaN</td>\n",
              "    </tr>\n",
              "    <tr>\n",
              "      <th>3</th>\n",
              "      <td>sadness</td>\n",
              "      <td>When I think about the short time that we live...</td>\n",
              "      <td>NaN</td>\n",
              "    </tr>\n",
              "    <tr>\n",
              "      <th>4</th>\n",
              "      <td>disgust</td>\n",
              "      <td>At a gathering I found myself involuntarily si...</td>\n",
              "      <td>NaN</td>\n",
              "    </tr>\n",
              "  </tbody>\n",
              "</table>\n",
              "</div>"
            ],
            "text/plain": [
              "     emosi                                            dokumen  Unnamed: 2\n",
              "0      joy  On days when I feel close to my partner and ot...         NaN\n",
              "1     fear  Every time I imagine that someone I love or I ...         NaN\n",
              "2    anger  When I had been obviously unjustly treated and...         NaN\n",
              "3  sadness  When I think about the short time that we live...         NaN\n",
              "4  disgust  At a gathering I found myself involuntarily si...         NaN"
            ]
          },
          "metadata": {},
          "execution_count": 6
        }
      ]
    },
    {
      "cell_type": "code",
      "metadata": {
        "id": "R5QF-vfB_hVH",
        "colab": {
          "base_uri": "https://localhost:8080/"
        },
        "outputId": "20af9b9a-7341-456b-ba0d-73d6a3eb07dc"
      },
      "source": [
        "df.iloc[4,0]\n",
        "df['dokumen'].values"
      ],
      "execution_count": null,
      "outputs": [
        {
          "output_type": "execute_result",
          "data": {
            "text/plain": [
              "array(['On days when I feel close to my partner and other friends.   \\nWhen I feel at peace with myself and also experience a close  \\ncontact with people whom I regard greatly.',\n",
              "       'Every time I imagine that someone I love or I could contact a  \\nserious illness, even death.',\n",
              "       'When I had been obviously unjustly treated and had no possibility  \\nof elucidating this.',\n",
              "       ...,\n",
              "       'I was at home and I heard a loud sound of spitting outside the  \\ndoor.  I thought that one of my family members would step on the spit  \\nand bring the germs in the house.',\n",
              "       'I did not do the homework that the teacher had asked us to do.  I  \\nwas scolded immediately.',\n",
              "       'I had shouted at my younger brother and he was always afraid when  \\nI called out loudly.'],\n",
              "      dtype=object)"
            ]
          },
          "metadata": {},
          "execution_count": 7
        }
      ]
    },
    {
      "cell_type": "code",
      "metadata": {
        "id": "RFh7L_Qzk5-7",
        "colab": {
          "base_uri": "https://localhost:8080/"
        },
        "outputId": "736cb8b4-6e54-4d22-daa6-fa8e4608421f"
      },
      "source": [
        "df['dokumen']=df['dokumen'].str.lower()\n",
        "print(df.iloc[4,1])"
      ],
      "execution_count": null,
      "outputs": [
        {
          "output_type": "stream",
          "text": [
            "at a gathering i found myself involuntarily sitting next to two  \n",
            "people who expressed opinions that i considered very low and  \n",
            "discriminating.\n"
          ],
          "name": "stdout"
        }
      ]
    },
    {
      "cell_type": "code",
      "metadata": {
        "id": "oOmlCXUKRYcC",
        "colab": {
          "base_uri": "https://localhost:8080/",
          "height": 54
        },
        "outputId": "d116f42e-1e71-40cf-c214-f95179c53618"
      },
      "source": [
        "#precleaning hapus enter dan space berlebih\n",
        "df=df.replace(' \\n', ' ', regex=True)\n",
        "df=df.replace('   ', ' ', regex=True)\n",
        "df=df.replace('  ', ' ', regex=True)\n",
        "df.iloc[0,1]"
      ],
      "execution_count": null,
      "outputs": [
        {
          "output_type": "execute_result",
          "data": {
            "application/vnd.google.colaboratory.intrinsic+json": {
              "type": "string"
            },
            "text/plain": [
              "'on days when i feel close to my partner and other friends. when i feel at peace with myself and also experience a close contact with people whom i regard greatly.'"
            ]
          },
          "metadata": {},
          "execution_count": 9
        }
      ]
    },
    {
      "cell_type": "code",
      "metadata": {
        "id": "knFcUPFOMCEk",
        "colab": {
          "base_uri": "https://localhost:8080/"
        },
        "outputId": "013ef779-d0e7-42e5-c18c-0886757671a8"
      },
      "source": [
        "df['dokumen'] = df['dokumen'].str.replace(r'[^\\w\\s]+', '')\n",
        "print(df.iloc[0,1])\n",
        "print(df.head())"
      ],
      "execution_count": null,
      "outputs": [
        {
          "output_type": "stream",
          "text": [
            "on days when i feel close to my partner and other friends when i feel at peace with myself and also experience a close contact with people whom i regard greatly\n",
            "     emosi                                            dokumen  Unnamed: 2\n",
            "0      joy  on days when i feel close to my partner and ot...         NaN\n",
            "1     fear  every time i imagine that someone i love or i ...         NaN\n",
            "2    anger  when i had been obviously unjustly treated and...         NaN\n",
            "3  sadness  when i think about the short time that we live...         NaN\n",
            "4  disgust  at a gathering i found myself involuntarily si...         NaN\n"
          ],
          "name": "stdout"
        }
      ]
    },
    {
      "cell_type": "code",
      "metadata": {
        "id": "_KHHMaGJkqqs",
        "colab": {
          "base_uri": "https://localhost:8080/",
          "height": 424
        },
        "outputId": "0543a2d3-22af-49dc-f19f-426d0970a294"
      },
      "source": [
        "df.to_csv(r'dataisear preprocesing utama.csv', index = False)\n",
        "df"
      ],
      "execution_count": null,
      "outputs": [
        {
          "output_type": "execute_result",
          "data": {
            "text/html": [
              "<div>\n",
              "<style scoped>\n",
              "    .dataframe tbody tr th:only-of-type {\n",
              "        vertical-align: middle;\n",
              "    }\n",
              "\n",
              "    .dataframe tbody tr th {\n",
              "        vertical-align: top;\n",
              "    }\n",
              "\n",
              "    .dataframe thead th {\n",
              "        text-align: right;\n",
              "    }\n",
              "</style>\n",
              "<table border=\"1\" class=\"dataframe\">\n",
              "  <thead>\n",
              "    <tr style=\"text-align: right;\">\n",
              "      <th></th>\n",
              "      <th>emosi</th>\n",
              "      <th>dokumen</th>\n",
              "      <th>Unnamed: 2</th>\n",
              "    </tr>\n",
              "  </thead>\n",
              "  <tbody>\n",
              "    <tr>\n",
              "      <th>0</th>\n",
              "      <td>joy</td>\n",
              "      <td>on days when i feel close to my partner and ot...</td>\n",
              "      <td>NaN</td>\n",
              "    </tr>\n",
              "    <tr>\n",
              "      <th>1</th>\n",
              "      <td>fear</td>\n",
              "      <td>every time i imagine that someone i love or i ...</td>\n",
              "      <td>NaN</td>\n",
              "    </tr>\n",
              "    <tr>\n",
              "      <th>2</th>\n",
              "      <td>anger</td>\n",
              "      <td>when i had been obviously unjustly treated and...</td>\n",
              "      <td>NaN</td>\n",
              "    </tr>\n",
              "    <tr>\n",
              "      <th>3</th>\n",
              "      <td>sadness</td>\n",
              "      <td>when i think about the short time that we live...</td>\n",
              "      <td>NaN</td>\n",
              "    </tr>\n",
              "    <tr>\n",
              "      <th>4</th>\n",
              "      <td>disgust</td>\n",
              "      <td>at a gathering i found myself involuntarily si...</td>\n",
              "      <td>NaN</td>\n",
              "    </tr>\n",
              "    <tr>\n",
              "      <th>...</th>\n",
              "      <td>...</td>\n",
              "      <td>...</td>\n",
              "      <td>...</td>\n",
              "    </tr>\n",
              "    <tr>\n",
              "      <th>7511</th>\n",
              "      <td>shame</td>\n",
              "      <td>two years back someone invited me to be the tu...</td>\n",
              "      <td>NaN</td>\n",
              "    </tr>\n",
              "    <tr>\n",
              "      <th>7512</th>\n",
              "      <td>shame</td>\n",
              "      <td>i had taken the responsibility to do something...</td>\n",
              "      <td>NaN</td>\n",
              "    </tr>\n",
              "    <tr>\n",
              "      <th>7513</th>\n",
              "      <td>fear</td>\n",
              "      <td>i was at home and i heard a loud sound of spit...</td>\n",
              "      <td>NaN</td>\n",
              "    </tr>\n",
              "    <tr>\n",
              "      <th>7514</th>\n",
              "      <td>guilt</td>\n",
              "      <td>i did not do the homework that the teacher had...</td>\n",
              "      <td>NaN</td>\n",
              "    </tr>\n",
              "    <tr>\n",
              "      <th>7515</th>\n",
              "      <td>fear</td>\n",
              "      <td>i had shouted at my younger brother and he was...</td>\n",
              "      <td>NaN</td>\n",
              "    </tr>\n",
              "  </tbody>\n",
              "</table>\n",
              "<p>7516 rows × 3 columns</p>\n",
              "</div>"
            ],
            "text/plain": [
              "        emosi                                            dokumen  Unnamed: 2\n",
              "0         joy  on days when i feel close to my partner and ot...         NaN\n",
              "1        fear  every time i imagine that someone i love or i ...         NaN\n",
              "2       anger  when i had been obviously unjustly treated and...         NaN\n",
              "3     sadness  when i think about the short time that we live...         NaN\n",
              "4     disgust  at a gathering i found myself involuntarily si...         NaN\n",
              "...       ...                                                ...         ...\n",
              "7511    shame  two years back someone invited me to be the tu...         NaN\n",
              "7512    shame  i had taken the responsibility to do something...         NaN\n",
              "7513     fear  i was at home and i heard a loud sound of spit...         NaN\n",
              "7514    guilt  i did not do the homework that the teacher had...         NaN\n",
              "7515     fear  i had shouted at my younger brother and he was...         NaN\n",
              "\n",
              "[7516 rows x 3 columns]"
            ]
          },
          "metadata": {},
          "execution_count": 11
        }
      ]
    },
    {
      "cell_type": "code",
      "metadata": {
        "id": "XejXRe1s6ld8"
      },
      "source": [
        "df.iloc[:,1].to_csv(r'dataisear(dokumen aja).csv', index = False)"
      ],
      "execution_count": null,
      "outputs": []
    }
  ]
}
