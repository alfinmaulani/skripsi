{
  "nbformat": 4,
  "nbformat_minor": 0,
  "metadata": {
    "colab": {
      "name": "3ekstraksi_dan_klasifikasi.ipynb",
      "provenance": [],
      "mount_file_id": "https://github.com/alfinmaulani/skripsi/blob/master/3.1ekstraksi_dan_klasifikasi.ipynb",
      "authorship_tag": "ABX9TyP3VZ+qoPpx0qcRAVhCqZS2",
      "include_colab_link": true
    },
    "kernelspec": {
      "name": "python3",
      "display_name": "Python 3"
    },
    "language_info": {
      "name": "python"
    }
  },
  "cells": [
    {
      "cell_type": "markdown",
      "metadata": {
        "id": "view-in-github",
        "colab_type": "text"
      },
      "source": [
        "<a href=\"https://colab.research.google.com/github/alfinmaulani/skripsi/blob/master/3.1ekstraksi_dan_klasifikasi.ipynb\" target=\"_parent\"><img src=\"https://colab.research.google.com/assets/colab-badge.svg\" alt=\"Open In Colab\"/></a>"
      ]
    },
    {
      "cell_type": "code",
      "metadata": {
        "id": "ppjHrKAMn5M3",
        "colab": {
          "base_uri": "https://localhost:8080/"
        },
        "outputId": "aa1ae0ff-51bd-48dd-deea-e55594e15f04"
      },
      "source": [
        "!pip install --upgrade scikit-learn\n",
        "import numpy as np\n",
        "import pandas as pd\n",
        "import io\n",
        "import os\n",
        "from nltk.tokenize import word_tokenize\n",
        "import nltk\n",
        "nltk.download('punkt')\n",
        "import gensim\n",
        "import ast"
      ],
      "execution_count": 1,
      "outputs": [
        {
          "output_type": "stream",
          "name": "stdout",
          "text": [
            "Requirement already satisfied: scikit-learn in /usr/local/lib/python3.7/dist-packages (1.0.2)\n",
            "Requirement already satisfied: threadpoolctl>=2.0.0 in /usr/local/lib/python3.7/dist-packages (from scikit-learn) (3.1.0)\n",
            "Requirement already satisfied: joblib>=0.11 in /usr/local/lib/python3.7/dist-packages (from scikit-learn) (1.1.0)\n",
            "Requirement already satisfied: scipy>=1.1.0 in /usr/local/lib/python3.7/dist-packages (from scikit-learn) (1.4.1)\n",
            "Requirement already satisfied: numpy>=1.14.6 in /usr/local/lib/python3.7/dist-packages (from scikit-learn) (1.21.6)\n",
            "[nltk_data] Downloading package punkt to /root/nltk_data...\n",
            "[nltk_data]   Unzipping tokenizers/punkt.zip.\n"
          ]
        }
      ]
    },
    {
      "cell_type": "code",
      "metadata": {
        "id": "ELuaZrDFBIZn"
      },
      "source": [
        "from google.colab import drive\n",
        "drive.mount('/content/drive')"
      ],
      "execution_count": null,
      "outputs": []
    },
    {
      "cell_type": "markdown",
      "metadata": {
        "id": "JfjGwTOUIGMw"
      },
      "source": [
        "load korpus"
      ]
    },
    {
      "cell_type": "code",
      "metadata": {
        "id": "GXFu7i-AIGCe"
      },
      "source": [
        "korpus1a = '/content/drive/MyDrive/korpus1dataisear(preputama).csv'\n",
        "korpus1b = '/content/drive/MyDrive/korpus1dataisear(preptambah).csv'\n",
        "korpus2a = '/content/drive/MyDrive/korpus2(preputama).csv'\n",
        "korpus2b = '/content/drive/MyDrive/korpus2(preptambah).csv'\n",
        "df = pd.read_csv(korpus1b)"
      ],
      "execution_count": 2,
      "outputs": []
    },
    {
      "cell_type": "code",
      "metadata": {
        "id": "3CS0rBIEkhNb"
      },
      "source": [
        "# df=df.drop(df[df['emosi'] == 'shame'].sample(frac=1).index)\n",
        "# df=df.drop(df[df['emosi'] == 'guilt'].sample(frac=1).index)\n",
        "# df=df.drop(df[df['emosi'] == 'disgust'].sample(frac=1).index)"
      ],
      "execution_count": null,
      "outputs": []
    },
    {
      "cell_type": "code",
      "metadata": {
        "id": "Rbg31w7OWstj",
        "outputId": "5db63f22-a5d7-4c3e-f955-25f4df762bd0",
        "colab": {
          "base_uri": "https://localhost:8080/"
        }
      },
      "source": [
        "temp=[]\n",
        "for senten in df.dokumen:\n",
        "  temp.append(ast.literal_eval(senten))\n",
        "df.content=temp"
      ],
      "execution_count": 3,
      "outputs": [
        {
          "output_type": "stream",
          "name": "stderr",
          "text": [
            "/usr/local/lib/python3.7/dist-packages/ipykernel_launcher.py:4: UserWarning: Pandas doesn't allow columns to be created via a new attribute name - see https://pandas.pydata.org/pandas-docs/stable/indexing.html#attribute-access\n",
            "  after removing the cwd from sys.path.\n"
          ]
        }
      ]
    },
    {
      "cell_type": "markdown",
      "metadata": {
        "id": "YSsV7F8iH6Fc"
      },
      "source": [
        "pilih model"
      ]
    },
    {
      "cell_type": "code",
      "metadata": {
        "id": "3YDHk0dTHK3I"
      },
      "source": [
        "pakai_model=1"
      ],
      "execution_count": 11,
      "outputs": []
    },
    {
      "cell_type": "markdown",
      "metadata": {
        "id": "D7KNPMXgKuTh"
      },
      "source": [
        "load model"
      ]
    },
    {
      "cell_type": "code",
      "metadata": {
        "id": "51MGV-yPrjeI",
        "colab": {
          "base_uri": "https://localhost:8080/"
        },
        "outputId": "d53b78e6-e600-43a4-b38c-4f47f66ca711"
      },
      "source": [
        "from gensim.models import word2vec\n",
        "!pip install glove-python-binary\n",
        "from glove import Glove\n",
        "from glove import Corpus"
      ],
      "execution_count": null,
      "outputs": [
        {
          "output_type": "stream",
          "name": "stdout",
          "text": [
            "Collecting glove-python-binary\n",
            "  Downloading glove_python_binary-0.2.0-cp37-cp37m-manylinux1_x86_64.whl (948 kB)\n",
            "\u001b[?25l\r\u001b[K     |▍                               | 10 kB 19.4 MB/s eta 0:00:01\r\u001b[K     |▊                               | 20 kB 20.7 MB/s eta 0:00:01\r\u001b[K     |█                               | 30 kB 10.9 MB/s eta 0:00:01\r\u001b[K     |█▍                              | 40 kB 4.0 MB/s eta 0:00:01\r\u001b[K     |█▊                              | 51 kB 3.8 MB/s eta 0:00:01\r\u001b[K     |██                              | 61 kB 4.4 MB/s eta 0:00:01\r\u001b[K     |██▍                             | 71 kB 4.8 MB/s eta 0:00:01\r\u001b[K     |██▊                             | 81 kB 4.8 MB/s eta 0:00:01\r\u001b[K     |███                             | 92 kB 5.3 MB/s eta 0:00:01\r\u001b[K     |███▌                            | 102 kB 4.4 MB/s eta 0:00:01\r\u001b[K     |███▉                            | 112 kB 4.4 MB/s eta 0:00:01\r\u001b[K     |████▏                           | 122 kB 4.4 MB/s eta 0:00:01\r\u001b[K     |████▌                           | 133 kB 4.4 MB/s eta 0:00:01\r\u001b[K     |████▉                           | 143 kB 4.4 MB/s eta 0:00:01\r\u001b[K     |█████▏                          | 153 kB 4.4 MB/s eta 0:00:01\r\u001b[K     |█████▌                          | 163 kB 4.4 MB/s eta 0:00:01\r\u001b[K     |█████▉                          | 174 kB 4.4 MB/s eta 0:00:01\r\u001b[K     |██████▏                         | 184 kB 4.4 MB/s eta 0:00:01\r\u001b[K     |██████▋                         | 194 kB 4.4 MB/s eta 0:00:01\r\u001b[K     |███████                         | 204 kB 4.4 MB/s eta 0:00:01\r\u001b[K     |███████▎                        | 215 kB 4.4 MB/s eta 0:00:01\r\u001b[K     |███████▋                        | 225 kB 4.4 MB/s eta 0:00:01\r\u001b[K     |████████                        | 235 kB 4.4 MB/s eta 0:00:01\r\u001b[K     |████████▎                       | 245 kB 4.4 MB/s eta 0:00:01\r\u001b[K     |████████▋                       | 256 kB 4.4 MB/s eta 0:00:01\r\u001b[K     |█████████                       | 266 kB 4.4 MB/s eta 0:00:01\r\u001b[K     |█████████▎                      | 276 kB 4.4 MB/s eta 0:00:01\r\u001b[K     |█████████▊                      | 286 kB 4.4 MB/s eta 0:00:01\r\u001b[K     |██████████                      | 296 kB 4.4 MB/s eta 0:00:01\r\u001b[K     |██████████▍                     | 307 kB 4.4 MB/s eta 0:00:01\r\u001b[K     |██████████▊                     | 317 kB 4.4 MB/s eta 0:00:01\r\u001b[K     |███████████                     | 327 kB 4.4 MB/s eta 0:00:01\r\u001b[K     |███████████▍                    | 337 kB 4.4 MB/s eta 0:00:01\r\u001b[K     |███████████▊                    | 348 kB 4.4 MB/s eta 0:00:01\r\u001b[K     |████████████                    | 358 kB 4.4 MB/s eta 0:00:01\r\u001b[K     |████████████▍                   | 368 kB 4.4 MB/s eta 0:00:01\r\u001b[K     |████████████▊                   | 378 kB 4.4 MB/s eta 0:00:01\r\u001b[K     |█████████████▏                  | 389 kB 4.4 MB/s eta 0:00:01\r\u001b[K     |█████████████▌                  | 399 kB 4.4 MB/s eta 0:00:01\r\u001b[K     |█████████████▉                  | 409 kB 4.4 MB/s eta 0:00:01\r\u001b[K     |██████████████▏                 | 419 kB 4.4 MB/s eta 0:00:01\r\u001b[K     |██████████████▌                 | 430 kB 4.4 MB/s eta 0:00:01\r\u001b[K     |██████████████▉                 | 440 kB 4.4 MB/s eta 0:00:01\r\u001b[K     |███████████████▏                | 450 kB 4.4 MB/s eta 0:00:01\r\u001b[K     |███████████████▌                | 460 kB 4.4 MB/s eta 0:00:01\r\u001b[K     |███████████████▉                | 471 kB 4.4 MB/s eta 0:00:01\r\u001b[K     |████████████████▎               | 481 kB 4.4 MB/s eta 0:00:01\r\u001b[K     |████████████████▋               | 491 kB 4.4 MB/s eta 0:00:01\r\u001b[K     |█████████████████               | 501 kB 4.4 MB/s eta 0:00:01\r\u001b[K     |█████████████████▎              | 512 kB 4.4 MB/s eta 0:00:01\r\u001b[K     |█████████████████▋              | 522 kB 4.4 MB/s eta 0:00:01\r\u001b[K     |██████████████████              | 532 kB 4.4 MB/s eta 0:00:01\r\u001b[K     |██████████████████▎             | 542 kB 4.4 MB/s eta 0:00:01\r\u001b[K     |██████████████████▋             | 552 kB 4.4 MB/s eta 0:00:01\r\u001b[K     |███████████████████             | 563 kB 4.4 MB/s eta 0:00:01\r\u001b[K     |███████████████████▍            | 573 kB 4.4 MB/s eta 0:00:01\r\u001b[K     |███████████████████▊            | 583 kB 4.4 MB/s eta 0:00:01\r\u001b[K     |████████████████████            | 593 kB 4.4 MB/s eta 0:00:01\r\u001b[K     |████████████████████▍           | 604 kB 4.4 MB/s eta 0:00:01\r\u001b[K     |████████████████████▊           | 614 kB 4.4 MB/s eta 0:00:01\r\u001b[K     |█████████████████████           | 624 kB 4.4 MB/s eta 0:00:01\r\u001b[K     |█████████████████████▍          | 634 kB 4.4 MB/s eta 0:00:01\r\u001b[K     |█████████████████████▊          | 645 kB 4.4 MB/s eta 0:00:01\r\u001b[K     |██████████████████████          | 655 kB 4.4 MB/s eta 0:00:01\r\u001b[K     |██████████████████████▌         | 665 kB 4.4 MB/s eta 0:00:01\r\u001b[K     |██████████████████████▉         | 675 kB 4.4 MB/s eta 0:00:01\r\u001b[K     |███████████████████████▏        | 686 kB 4.4 MB/s eta 0:00:01\r\u001b[K     |███████████████████████▌        | 696 kB 4.4 MB/s eta 0:00:01\r\u001b[K     |███████████████████████▉        | 706 kB 4.4 MB/s eta 0:00:01\r\u001b[K     |████████████████████████▏       | 716 kB 4.4 MB/s eta 0:00:01\r\u001b[K     |████████████████████████▌       | 727 kB 4.4 MB/s eta 0:00:01\r\u001b[K     |████████████████████████▉       | 737 kB 4.4 MB/s eta 0:00:01\r\u001b[K     |█████████████████████████▏      | 747 kB 4.4 MB/s eta 0:00:01\r\u001b[K     |█████████████████████████▌      | 757 kB 4.4 MB/s eta 0:00:01\r\u001b[K     |██████████████████████████      | 768 kB 4.4 MB/s eta 0:00:01\r\u001b[K     |██████████████████████████▎     | 778 kB 4.4 MB/s eta 0:00:01\r\u001b[K     |██████████████████████████▋     | 788 kB 4.4 MB/s eta 0:00:01\r\u001b[K     |███████████████████████████     | 798 kB 4.4 MB/s eta 0:00:01\r\u001b[K     |███████████████████████████▎    | 808 kB 4.4 MB/s eta 0:00:01\r\u001b[K     |███████████████████████████▋    | 819 kB 4.4 MB/s eta 0:00:01\r\u001b[K     |████████████████████████████    | 829 kB 4.4 MB/s eta 0:00:01\r\u001b[K     |████████████████████████████▎   | 839 kB 4.4 MB/s eta 0:00:01\r\u001b[K     |████████████████████████████▋   | 849 kB 4.4 MB/s eta 0:00:01\r\u001b[K     |█████████████████████████████   | 860 kB 4.4 MB/s eta 0:00:01\r\u001b[K     |█████████████████████████████▍  | 870 kB 4.4 MB/s eta 0:00:01\r\u001b[K     |█████████████████████████████▊  | 880 kB 4.4 MB/s eta 0:00:01\r\u001b[K     |██████████████████████████████  | 890 kB 4.4 MB/s eta 0:00:01\r\u001b[K     |██████████████████████████████▍ | 901 kB 4.4 MB/s eta 0:00:01\r\u001b[K     |██████████████████████████████▊ | 911 kB 4.4 MB/s eta 0:00:01\r\u001b[K     |███████████████████████████████ | 921 kB 4.4 MB/s eta 0:00:01\r\u001b[K     |███████████████████████████████▍| 931 kB 4.4 MB/s eta 0:00:01\r\u001b[K     |███████████████████████████████▊| 942 kB 4.4 MB/s eta 0:00:01\r\u001b[K     |████████████████████████████████| 948 kB 4.4 MB/s \n",
            "\u001b[?25hRequirement already satisfied: scipy in /usr/local/lib/python3.7/dist-packages (from glove-python-binary) (1.4.1)\n",
            "Requirement already satisfied: numpy in /usr/local/lib/python3.7/dist-packages (from glove-python-binary) (1.21.5)\n",
            "Installing collected packages: glove-python-binary\n",
            "Successfully installed glove-python-binary-0.2.0\n"
          ]
        }
      ]
    },
    {
      "cell_type": "code",
      "metadata": {
        "id": "sk1ui5z-HgVp"
      },
      "source": [
        "if pakai_model == 1:#load model word2vec\n",
        "  model = gensim.models.word2vec.Word2Vec.load('/content/drive/MyDrive/korpus2+blog(preptambah).w2v')\n",
        "\n",
        "elif pakai_model == 2:#load model glove\n",
        "  model=Glove.load('/content/drive/MyDrive/korpus2+blog(preputama).glove')"
      ],
      "execution_count": null,
      "outputs": []
    },
    {
      "cell_type": "markdown",
      "source": [
        "ft"
      ],
      "metadata": {
        "id": "06xrYvSzahe0"
      }
    },
    {
      "cell_type": "code",
      "source": [
        "import gensim\n",
        "import multiprocessing\n",
        "from gensim.models import FastText"
      ],
      "metadata": {
        "id": "lAg15jdDZ7R2"
      },
      "execution_count": 5,
      "outputs": []
    },
    {
      "cell_type": "code",
      "source": [
        "model=gensim.models.FastText.load('/content/drive/MyDrive/korpus1+blog(preptambah).ft')"
      ],
      "metadata": {
        "id": "8Cvp5pTtZsBX"
      },
      "execution_count": 10,
      "outputs": []
    },
    {
      "cell_type": "code",
      "source": [
        "model.wv.vectors.shape"
      ],
      "metadata": {
        "id": "YAjzIQDqajNb",
        "outputId": "c56b93e7-9c37-4dc8-f9a6-169808e079ef",
        "colab": {
          "base_uri": "https://localhost:8080/"
        }
      },
      "execution_count": 25,
      "outputs": [
        {
          "output_type": "execute_result",
          "data": {
            "text/plain": [
              "(908097, 100)"
            ]
          },
          "metadata": {},
          "execution_count": 25
        }
      ]
    },
    {
      "cell_type": "code",
      "source": [
        "model.wv[\"yes\"]"
      ],
      "metadata": {
        "id": "IG8SGBAydW-e",
        "outputId": "f4c5dd86-253a-401e-b86e-16f19303ca5e",
        "colab": {
          "base_uri": "https://localhost:8080/"
        }
      },
      "execution_count": 27,
      "outputs": [
        {
          "output_type": "execute_result",
          "data": {
            "text/plain": [
              "array([-1.6030304e-01,  7.4624933e-02, -6.6067569e-02, -1.9056515e-01,\n",
              "       -1.0811662e-01, -1.5898502e-01,  2.9597646e-01, -4.9413821e-01,\n",
              "        2.1252683e-01, -2.1294379e-01,  3.7743473e-01,  1.4332914e-01,\n",
              "        1.4581354e-01, -5.7055080e-01,  2.0915738e-01,  2.4308136e-01,\n",
              "       -1.4109777e-01, -4.7160303e-03, -2.7090126e-01, -3.0724242e-01,\n",
              "        1.4733352e-02, -3.5831356e-01,  9.4068901e-06,  3.6258164e-01,\n",
              "       -1.8123712e-02, -9.6960090e-02,  9.9078618e-02, -5.3254449e-01,\n",
              "       -2.8545660e-01,  7.3417984e-02, -2.3300426e-01,  1.8089540e-01,\n",
              "        6.9177553e-02,  5.4255271e-01, -6.1472241e-02, -1.8647979e-01,\n",
              "        4.5107561e-01, -1.5016389e-01,  5.9499055e-01, -2.1075526e-02,\n",
              "       -1.6485551e-01,  1.6829541e-02, -4.1091588e-01, -2.7934644e-02,\n",
              "       -3.9017105e-01, -6.2679189e-01, -1.1576921e-02, -5.5312060e-02,\n",
              "        3.4623152e-01, -3.5690212e-01, -8.1305422e-02, -6.4371251e-02,\n",
              "       -1.6630973e-01,  3.2814007e-02,  3.3163077e-01,  2.6075128e-01,\n",
              "       -1.9765241e-02, -7.4357376e-02, -5.8203217e-02,  1.3356081e-02,\n",
              "       -3.8230425e-01,  1.4460786e-01,  3.4959835e-01, -1.2472988e-01,\n",
              "       -4.6244461e-02,  2.1938038e-01, -5.1498424e-02, -7.2800744e-01,\n",
              "        3.8593844e-01, -1.8280371e-01, -3.6049432e-01,  4.2952603e-01,\n",
              "       -6.9881305e-02, -1.4293408e-01, -9.2987977e-02, -1.9340906e-02,\n",
              "       -5.6156952e-02,  5.5939364e-01,  6.2138093e-01, -7.1658856e-01,\n",
              "        8.8203020e-02, -6.5201092e-01,  5.0277424e-01,  1.7799003e-01,\n",
              "        1.6060042e-01,  4.6538410e-01, -2.4630950e-01, -4.7714370e-01,\n",
              "        4.2622128e-01,  2.5223181e-01, -3.3694711e-01, -1.4109284e-01,\n",
              "        5.2808297e-01, -1.8708217e-01, -1.6453731e-01,  2.1814875e-01,\n",
              "       -7.5006537e-02, -2.6215723e-01, -2.4909210e-01,  8.0013620e-03],\n",
              "      dtype=float32)"
            ]
          },
          "metadata": {},
          "execution_count": 27
        }
      ]
    },
    {
      "cell_type": "markdown",
      "metadata": {
        "id": "B3U7TJuRJdBO"
      },
      "source": [
        "cek model"
      ]
    },
    {
      "cell_type": "code",
      "metadata": {
        "id": "P2Q0Z6Y9Og7a",
        "colab": {
          "base_uri": "https://localhost:8080/"
        },
        "outputId": "a42c30a6-0530-4d3f-9adf-3b6b1ba6a558"
      },
      "source": [
        "if pakai_model == 1:\n",
        "  print(model.wv.vectors.shape)\n",
        "elif pakai_model == 2:\n",
        "  print(model.word_vectors.shape)"
      ],
      "execution_count": null,
      "outputs": [
        {
          "output_type": "stream",
          "name": "stdout",
          "text": [
            "(909479, 100)\n"
          ]
        }
      ]
    },
    {
      "cell_type": "code",
      "metadata": {
        "id": "xb2GLdHHK0jY",
        "outputId": "c702a911-ffdd-448e-9822-51890d93893b",
        "colab": {
          "base_uri": "https://localhost:8080/"
        }
      },
      "source": [
        "if pakai_model == 1:\n",
        "  print(model.wv[\"yes\"])\n",
        "elif pakai_model == 2:\n",
        "  print(model.word_vectors[model.dictionary['yes']])"
      ],
      "execution_count": null,
      "outputs": [
        {
          "output_type": "stream",
          "name": "stdout",
          "text": [
            "[-2.82227862e-01 -9.93760340e-02 -1.04850553e-01 -3.08547528e-02\n",
            "  4.31177631e-02  2.61965730e-02  4.38989563e-01 -1.74258680e-01\n",
            "  3.84116058e-01 -2.12612538e-01 -1.86424062e-01 -2.55049147e-01\n",
            "  2.44699459e-01  6.31840312e-01 -3.72159326e-01  1.73144801e-02\n",
            "  1.56414569e-01 -5.23148252e-01 -4.17538878e-01  5.04786464e-01\n",
            "  1.52033974e-01 -5.33830670e-02 -9.62067298e-02 -1.03583431e-01\n",
            "  4.72128608e-01  5.14354400e-02 -2.10955207e-01  1.30368907e-01\n",
            "  1.55843518e-01  2.32764707e-01  3.48478150e-01  4.99723577e-02\n",
            " -1.71293213e-01 -1.48894154e-01  5.14757034e-01  3.33235230e-01\n",
            " -7.39486066e-03 -8.80872704e-02 -7.13559355e-02 -5.75969545e-02\n",
            " -6.05742374e-02  7.07580593e-02  5.33689287e-01  3.28259941e-02\n",
            " -1.33465973e+00 -7.43962031e-01 -5.61848027e-02 -7.24593521e-02\n",
            "  1.43055352e-01  4.19189096e-01 -2.19449216e-01 -1.22251511e-01\n",
            " -7.62292716e-01  1.97460497e-03  3.33678047e-01  1.18453830e-01\n",
            " -2.74877198e-01  2.70904650e-02 -2.56731958e-01  3.28700418e-01\n",
            " -1.44555705e-01 -1.47594409e-01 -2.55208623e-01  2.84989924e-01\n",
            "  2.18935515e-02  3.06121523e-02  9.31796403e-02  7.00004100e-02\n",
            "  3.62144741e-01  9.18943202e-02  2.95832426e-01 -1.10372508e-01\n",
            " -5.96249849e-02  5.52063377e-01  5.47283792e-03 -7.23268445e-01\n",
            " -1.44601694e-01 -1.78207673e-02 -2.86028019e-02 -1.19059089e-01\n",
            "  6.94276199e-01 -2.51209404e-05  2.90751559e-01  2.89365561e-01\n",
            " -5.17204693e-03 -1.61181975e-01 -1.15929118e-01 -1.12477456e-01\n",
            "  5.88131137e-01  2.72635314e-01 -4.10592068e-02 -6.23651915e-02\n",
            "  8.10233767e-01 -2.51854977e-01 -2.89167725e-01 -9.76054358e-01\n",
            " -2.34353695e-01 -2.00782249e-01 -1.96468396e-01  3.90780389e-02]\n"
          ]
        }
      ]
    },
    {
      "cell_type": "markdown",
      "metadata": {
        "id": "ClKPzISwOBo5"
      },
      "source": [
        "ambil conntoh model wor embedding"
      ]
    },
    {
      "cell_type": "code",
      "metadata": {
        "id": "fkjKjtJx-HOi"
      },
      "source": [
        "import array\n",
        "count=0\n",
        "simpanang=[]\n",
        "simpankat=[]\n",
        "jml=24\n",
        "if pakai_model == 1:\n",
        "  for senten in df.dokumen:\n",
        "    for word in senten:\n",
        "      simpanang.append(model.wv[word])\n",
        "      simpankat.append(word)\n",
        "      if count<jml:\n",
        "        count+=1\n",
        "      else :\n",
        "        break\n",
        "    if count<jml:\n",
        "      count+=1\n",
        "    else :\n",
        "      break\n",
        "\n",
        "elif pakai_model == 2:\n",
        "  for senten in df.dokumen:\n",
        "    for word in senten:\n",
        "      simpanang.append(model.word_vectors[model.dictionary[word]])\n",
        "      simpankat.append(word)\n",
        "      if count<jml:\n",
        "        count+=1\n",
        "      else :\n",
        "        break\n",
        "    if count<jml:\n",
        "      count+=1\n",
        "    else :\n",
        "      break\n"
      ],
      "execution_count": null,
      "outputs": []
    },
    {
      "cell_type": "code",
      "metadata": {
        "id": "r8PzZg0FGdX3",
        "colab": {
          "base_uri": "https://localhost:8080/"
        },
        "outputId": "367ad9d8-721c-4ab3-e7de-15c841559979"
      },
      "source": [
        "dfang=pd.DataFrame(simpanang)\n",
        "dfkat=pd.DataFrame(simpankat)\n",
        "result = pd.concat([dfkat, dfang], axis=1)\n",
        "result.shape"
      ],
      "execution_count": null,
      "outputs": [
        {
          "output_type": "execute_result",
          "data": {
            "text/plain": [
              "(24, 101)"
            ]
          },
          "metadata": {},
          "execution_count": 20
        }
      ]
    },
    {
      "cell_type": "code",
      "metadata": {
        "id": "ztHqCBwyLTVi"
      },
      "source": [
        "result.to_excel(\"preptambah,glove.xlsx\")"
      ],
      "execution_count": null,
      "outputs": []
    },
    {
      "cell_type": "markdown",
      "source": [
        "sum base ekstraksi fitur"
      ],
      "metadata": {
        "id": "KhSE7eW0m2M_"
      }
    },
    {
      "cell_type": "code",
      "source": [
        "import array\n",
        "ekstrak=[]\n",
        "temp=array.array('i',(0,)*100)\n",
        "hitungbiasa=0\n",
        "hitungpre=0\n",
        "\n",
        "if pakai_model == 1:\n",
        "  for senten in df.dokumen:\n",
        "    for word in senten:\n",
        "      temp=np.add(temp,model.wv[word])\n",
        "    # temp=temp/len(senten)\n",
        "    ekstrak.append(temp)\n",
        "\n",
        "elif pakai_model == 2:\n",
        "  for senten in df.dokumen:\n",
        "    for word in senten:\n",
        "      temp=np.add(temp,model.word_vectors[model.dictionary[word]])\n",
        "    # temp=temp/len(senten)\n",
        "    ekstrak.append(temp)\n",
        "\n",
        "has_vec=ekstrak"
      ],
      "metadata": {
        "id": "9msY8nk5m10i"
      },
      "execution_count": null,
      "outputs": []
    },
    {
      "cell_type": "markdown",
      "metadata": {
        "id": "Poh0hOslBSOE"
      },
      "source": [
        "average base ekstraksi fitur"
      ]
    },
    {
      "cell_type": "code",
      "metadata": {
        "id": "HugbL2uCLlIq"
      },
      "source": [
        "import array\n",
        "ekstrak=[]\n",
        "temp=array.array('i',(0,)*100)\n",
        "\n",
        "if pakai_model == 1:\n",
        "  for senten in df.content:\n",
        "    for word in senten:\n",
        "      temp=np.add(temp,model.wv[word])\n",
        "    temp=temp/len(senten)\n",
        "    ekstrak.append(temp)\n",
        "\n",
        "elif pakai_model == 2:\n",
        "  for senten in df.content:\n",
        "    for word in senten:\n",
        "      temp=np.add(temp,model.word_vectors[model.dictionary[word]])\n",
        "    temp=temp/len(senten)\n",
        "    ekstrak.append(temp)\n",
        "\n",
        "has_vec=ekstrak"
      ],
      "execution_count": 13,
      "outputs": []
    },
    {
      "cell_type": "code",
      "metadata": {
        "id": "Z-n3bpfF16vJ",
        "colab": {
          "base_uri": "https://localhost:8080/"
        },
        "outputId": "c40d4c08-9d30-4dd4-944a-4b7665678f21"
      },
      "source": [
        "X=has_vec\n",
        "y=df.emosi\n",
        "print(np.shape(X))\n",
        "print(np.shape(y))\n",
        "# print(X)\n",
        "# print(y)"
      ],
      "execution_count": 15,
      "outputs": [
        {
          "output_type": "stream",
          "name": "stdout",
          "text": [
            "(7516, 100)\n",
            "(7516,)\n"
          ]
        }
      ]
    },
    {
      "cell_type": "markdown",
      "metadata": {
        "id": "y-VBfpD9PmVe"
      },
      "source": [
        "klasifikasi svm"
      ]
    },
    {
      "cell_type": "code",
      "metadata": {
        "id": "xba_npk4MTuy"
      },
      "source": [
        "from sklearn import svm\n",
        "from sklearn.metrics import confusion_matrix\n",
        "from sklearn.metrics import accuracy_score\n",
        "from sklearn.model_selection import cross_val_predict\n",
        "import matplotlib.pyplot as plt\n",
        "from sklearn.metrics import ConfusionMatrixDisplay\n",
        "from sklearn.metrics import precision_recall_fscore_support\n",
        "from sklearn.model_selection import cross_val_score"
      ],
      "execution_count": 16,
      "outputs": []
    },
    {
      "cell_type": "code",
      "metadata": {
        "id": "EqFIpy1m-Nly"
      },
      "source": [
        "def klasifikasi(y_pred):\n",
        "  ConfusionMatrixDisplay.from_predictions(y, y_pred)\n",
        "  plt.show()\n",
        "  print(accuracy_score(y, y_pred))\n",
        "  print(precision_recall_fscore_support(y, y_pred, average='macro'))"
      ],
      "execution_count": 17,
      "outputs": []
    },
    {
      "cell_type": "code",
      "metadata": {
        "id": "ENBn6uuK1TmE",
        "colab": {
          "base_uri": "https://localhost:8080/",
          "height": 316
        },
        "outputId": "afb944af-eff5-4f5a-a4d3-22a3b80994b3"
      },
      "source": [
        "clf = svm.SVC(kernel='poly', decision_function_shape='ovr', C=17.0)\n",
        "# acc10k=cross_val_score(clf, X, y, cv=10)\n",
        "# np.mean(acc10k)\n",
        "y_pred = cross_val_predict(clf, X, y, cv=10)\n",
        "klasifikasi(y_pred)"
      ],
      "execution_count": 24,
      "outputs": [
        {
          "output_type": "display_data",
          "data": {
            "text/plain": [
              "<Figure size 432x288 with 2 Axes>"
            ],
            "image/png": "[encoded data removed]"
          },
          "metadata": {
            "needs_background": "light"
          }
        },
        {
          "output_type": "stream",
          "name": "stdout",
          "text": [
            "0.5367216604576902\n",
            "(0.537115615377793, 0.5359553591167441, 0.535028426978429, None)\n"
          ]
        }
      ]
    },
    {
      "cell_type": "code",
      "metadata": {
        "id": "3zxYveF-1Tgt",
        "colab": {
          "base_uri": "https://localhost:8080/",
          "height": 316
        },
        "outputId": "76a05915-7ade-4ec4-bb5a-659ca44ff40f"
      },
      "source": [
        "clf = svm.SVC(kernel='rbf', decision_function_shape='ovr')\n",
        "y_pred = cross_val_predict(clf, X, y, cv=10)\n",
        "klasifikasi(y_pred)"
      ],
      "execution_count": null,
      "outputs": [
        {
          "output_type": "display_data",
          "data": {
            "text/plain": [
              "<Figure size 432x288 with 2 Axes>"
            ],
            "image/png": "[encoded data removed]"
          },
          "metadata": {
            "needs_background": "light"
          }
        },
        {
          "output_type": "stream",
          "name": "stdout",
          "text": [
            "0.36081474296799226\n",
            "(0.3580829056740232, 0.36055181581190343, 0.35620886810733376, None)\n"
          ]
        }
      ]
    },
    {
      "cell_type": "code",
      "metadata": {
        "id": "Q5ApUnrpQ-1C",
        "outputId": "acfe6d6e-c5f5-4c4b-c9f7-a31d1c1acae8",
        "colab": {
          "base_uri": "https://localhost:8080/",
          "height": 316
        }
      },
      "source": [
        "clf = svm.SVC(kernel='linear', decision_function_shape='ovr')\n",
        "y_pred = cross_val_predict(clf, X, y, cv=10)\n",
        "klasifikasi(y_pred)"
      ],
      "execution_count": null,
      "outputs": [
        {
          "output_type": "display_data",
          "data": {
            "text/plain": [
              "<Figure size 432x288 with 2 Axes>"
            ],
            "image/png": "[encoded data removed]"
          },
          "metadata": {
            "needs_background": "light"
          }
        },
        {
          "output_type": "stream",
          "name": "stdout",
          "text": [
            "0.34540359952581096\n",
            "(0.33967824084291826, 0.34500963056815764, 0.33876363950124333, None)\n"
          ]
        }
      ]
    }
  ]
}