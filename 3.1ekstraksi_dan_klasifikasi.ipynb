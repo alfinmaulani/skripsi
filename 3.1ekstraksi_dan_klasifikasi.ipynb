{
  "nbformat": 4,
  "nbformat_minor": 0,
  "metadata": {
    "colab": {
      "name": "3ekstraksi_dan_klasifikasi.ipynb",
      "provenance": [],
      "mount_file_id": "https://github.com/alfinmaulani/skripsi/blob/master/3.1ekstraksi_dan_klasifikasi.ipynb",
      "authorship_tag": "ABX9TyOpR6FJZl09KMYkiEP2EwG1",
      "include_colab_link": true
    },
    "kernelspec": {
      "name": "python3",
      "display_name": "Python 3"
    },
    "language_info": {
      "name": "python"
    }
  },
  "cells": [
    {
      "cell_type": "markdown",
      "metadata": {
        "id": "view-in-github",
        "colab_type": "text"
      },
      "source": [
        "<a href=\"https://colab.research.google.com/github/alfinmaulani/skripsi/blob/master/3.1ekstraksi_dan_klasifikasi.ipynb\" target=\"_parent\"><img src=\"https://colab.research.google.com/assets/colab-badge.svg\" alt=\"Open In Colab\"/></a>"
      ]
    },
    {
      "cell_type": "code",
      "metadata": {
        "id": "ppjHrKAMn5M3",
        "colab": {
          "base_uri": "https://localhost:8080/"
        },
        "outputId": "bc8a1e4e-23d7-436c-ac73-575531e986c4"
      },
      "source": [
        "!pip install --upgrade scikit-learn\n",
        "import numpy as np\n",
        "import pandas as pd\n",
        "import io\n",
        "import os\n",
        "from nltk.tokenize import word_tokenize\n",
        "import nltk\n",
        "nltk.download('punkt')\n",
        "import gensim\n",
        "import ast"
      ],
      "execution_count": 1,
      "outputs": [
        {
          "output_type": "stream",
          "name": "stdout",
          "text": [
            "Requirement already satisfied: scikit-learn in /usr/local/lib/python3.7/dist-packages (1.0.2)\n",
            "Requirement already satisfied: scipy>=1.1.0 in /usr/local/lib/python3.7/dist-packages (from scikit-learn) (1.4.1)\n",
            "Requirement already satisfied: joblib>=0.11 in /usr/local/lib/python3.7/dist-packages (from scikit-learn) (1.1.0)\n",
            "Requirement already satisfied: numpy>=1.14.6 in /usr/local/lib/python3.7/dist-packages (from scikit-learn) (1.21.5)\n",
            "Requirement already satisfied: threadpoolctl>=2.0.0 in /usr/local/lib/python3.7/dist-packages (from scikit-learn) (3.1.0)\n",
            "[nltk_data] Downloading package punkt to /root/nltk_data...\n",
            "[nltk_data]   Unzipping tokenizers/punkt.zip.\n"
          ]
        }
      ]
    },
    {
      "cell_type": "code",
      "metadata": {
        "id": "ELuaZrDFBIZn"
      },
      "source": [
        "from google.colab import drive\n",
        "drive.mount('/content/drive')"
      ],
      "execution_count": null,
      "outputs": []
    },
    {
      "cell_type": "markdown",
      "metadata": {
        "id": "JfjGwTOUIGMw"
      },
      "source": [
        "load korpus"
      ]
    },
    {
      "cell_type": "code",
      "metadata": {
        "id": "GXFu7i-AIGCe"
      },
      "source": [
        "url1 = '/content/drive/MyDrive/dataisear(preputama).csv'\n",
        "url2 = '/content/drive/MyDrive/dataisear(preptambah).csv'\n",
        "korpus2='/content/drive/MyDrive/korpusklasifikasi2(preputama).csv'\n",
        "df = pd.read_csv(korpus2)"
      ],
      "execution_count": 3,
      "outputs": []
    },
    {
      "cell_type": "code",
      "metadata": {
        "id": "3CS0rBIEkhNb"
      },
      "source": [
        "# df=df.drop(df[df['emosi'] == 'shame'].sample(frac=1).index)\n",
        "# df=df.drop(df[df['emosi'] == 'guilt'].sample(frac=1).index)\n",
        "# df=df.drop(df[df['emosi'] == 'disgust'].sample(frac=1).index)"
      ],
      "execution_count": null,
      "outputs": []
    },
    {
      "cell_type": "code",
      "metadata": {
        "id": "Rbg31w7OWstj"
      },
      "source": [
        "temp=[]\n",
        "for senten in df.content:\n",
        "  temp.append(ast.literal_eval(senten))\n",
        "df.content=temp"
      ],
      "execution_count": 5,
      "outputs": []
    },
    {
      "cell_type": "markdown",
      "metadata": {
        "id": "YSsV7F8iH6Fc"
      },
      "source": [
        "pilih model"
      ]
    },
    {
      "cell_type": "code",
      "metadata": {
        "id": "3YDHk0dTHK3I"
      },
      "source": [
        "pakai_model=1"
      ],
      "execution_count": 6,
      "outputs": []
    },
    {
      "cell_type": "markdown",
      "metadata": {
        "id": "D7KNPMXgKuTh"
      },
      "source": [
        "load model"
      ]
    },
    {
      "cell_type": "code",
      "metadata": {
        "id": "51MGV-yPrjeI",
        "colab": {
          "base_uri": "https://localhost:8080/"
        },
        "outputId": "eb619001-8d44-4d91-f867-55980bac9bee"
      },
      "source": [
        "from gensim.models import word2vec\n",
        "!pip install glove-python-binary\n",
        "from glove import Glove\n",
        "from glove import Corpus"
      ],
      "execution_count": 7,
      "outputs": [
        {
          "output_type": "stream",
          "name": "stdout",
          "text": [
            "Collecting glove-python-binary\n",
            "  Downloading glove_python_binary-0.2.0-cp37-cp37m-manylinux1_x86_64.whl (948 kB)\n",
            "\u001b[?25l\r\u001b[K     |▍                               | 10 kB 18.3 MB/s eta 0:00:01\r\u001b[K     |▊                               | 20 kB 24.3 MB/s eta 0:00:01\r\u001b[K     |█                               | 30 kB 21.7 MB/s eta 0:00:01\r\u001b[K     |█▍                              | 40 kB 15.8 MB/s eta 0:00:01\r\u001b[K     |█▊                              | 51 kB 7.7 MB/s eta 0:00:01\r\u001b[K     |██                              | 61 kB 8.7 MB/s eta 0:00:01\r\u001b[K     |██▍                             | 71 kB 9.1 MB/s eta 0:00:01\r\u001b[K     |██▊                             | 81 kB 9.3 MB/s eta 0:00:01\r\u001b[K     |███                             | 92 kB 10.2 MB/s eta 0:00:01\r\u001b[K     |███▌                            | 102 kB 8.7 MB/s eta 0:00:01\r\u001b[K     |███▉                            | 112 kB 8.7 MB/s eta 0:00:01\r\u001b[K     |████▏                           | 122 kB 8.7 MB/s eta 0:00:01\r\u001b[K     |████▌                           | 133 kB 8.7 MB/s eta 0:00:01\r\u001b[K     |████▉                           | 143 kB 8.7 MB/s eta 0:00:01\r\u001b[K     |█████▏                          | 153 kB 8.7 MB/s eta 0:00:01\r\u001b[K     |█████▌                          | 163 kB 8.7 MB/s eta 0:00:01\r\u001b[K     |█████▉                          | 174 kB 8.7 MB/s eta 0:00:01\r\u001b[K     |██████▏                         | 184 kB 8.7 MB/s eta 0:00:01\r\u001b[K     |██████▋                         | 194 kB 8.7 MB/s eta 0:00:01\r\u001b[K     |███████                         | 204 kB 8.7 MB/s eta 0:00:01\r\u001b[K     |███████▎                        | 215 kB 8.7 MB/s eta 0:00:01\r\u001b[K     |███████▋                        | 225 kB 8.7 MB/s eta 0:00:01\r\u001b[K     |████████                        | 235 kB 8.7 MB/s eta 0:00:01\r\u001b[K     |████████▎                       | 245 kB 8.7 MB/s eta 0:00:01\r\u001b[K     |████████▋                       | 256 kB 8.7 MB/s eta 0:00:01\r\u001b[K     |█████████                       | 266 kB 8.7 MB/s eta 0:00:01\r\u001b[K     |█████████▎                      | 276 kB 8.7 MB/s eta 0:00:01\r\u001b[K     |█████████▊                      | 286 kB 8.7 MB/s eta 0:00:01\r\u001b[K     |██████████                      | 296 kB 8.7 MB/s eta 0:00:01\r\u001b[K     |██████████▍                     | 307 kB 8.7 MB/s eta 0:00:01\r\u001b[K     |██████████▊                     | 317 kB 8.7 MB/s eta 0:00:01\r\u001b[K     |███████████                     | 327 kB 8.7 MB/s eta 0:00:01\r\u001b[K     |███████████▍                    | 337 kB 8.7 MB/s eta 0:00:01\r\u001b[K     |███████████▊                    | 348 kB 8.7 MB/s eta 0:00:01\r\u001b[K     |████████████                    | 358 kB 8.7 MB/s eta 0:00:01\r\u001b[K     |████████████▍                   | 368 kB 8.7 MB/s eta 0:00:01\r\u001b[K     |████████████▊                   | 378 kB 8.7 MB/s eta 0:00:01\r\u001b[K     |█████████████▏                  | 389 kB 8.7 MB/s eta 0:00:01\r\u001b[K     |█████████████▌                  | 399 kB 8.7 MB/s eta 0:00:01\r\u001b[K     |█████████████▉                  | 409 kB 8.7 MB/s eta 0:00:01\r\u001b[K     |██████████████▏                 | 419 kB 8.7 MB/s eta 0:00:01\r\u001b[K     |██████████████▌                 | 430 kB 8.7 MB/s eta 0:00:01\r\u001b[K     |██████████████▉                 | 440 kB 8.7 MB/s eta 0:00:01\r\u001b[K     |███████████████▏                | 450 kB 8.7 MB/s eta 0:00:01\r\u001b[K     |███████████████▌                | 460 kB 8.7 MB/s eta 0:00:01\r\u001b[K     |███████████████▉                | 471 kB 8.7 MB/s eta 0:00:01\r\u001b[K     |████████████████▎               | 481 kB 8.7 MB/s eta 0:00:01\r\u001b[K     |████████████████▋               | 491 kB 8.7 MB/s eta 0:00:01\r\u001b[K     |█████████████████               | 501 kB 8.7 MB/s eta 0:00:01\r\u001b[K     |█████████████████▎              | 512 kB 8.7 MB/s eta 0:00:01\r\u001b[K     |█████████████████▋              | 522 kB 8.7 MB/s eta 0:00:01\r\u001b[K     |██████████████████              | 532 kB 8.7 MB/s eta 0:00:01\r\u001b[K     |██████████████████▎             | 542 kB 8.7 MB/s eta 0:00:01\r\u001b[K     |██████████████████▋             | 552 kB 8.7 MB/s eta 0:00:01\r\u001b[K     |███████████████████             | 563 kB 8.7 MB/s eta 0:00:01\r\u001b[K     |███████████████████▍            | 573 kB 8.7 MB/s eta 0:00:01\r\u001b[K     |███████████████████▊            | 583 kB 8.7 MB/s eta 0:00:01\r\u001b[K     |████████████████████            | 593 kB 8.7 MB/s eta 0:00:01\r\u001b[K     |████████████████████▍           | 604 kB 8.7 MB/s eta 0:00:01\r\u001b[K     |████████████████████▊           | 614 kB 8.7 MB/s eta 0:00:01\r\u001b[K     |█████████████████████           | 624 kB 8.7 MB/s eta 0:00:01\r\u001b[K     |█████████████████████▍          | 634 kB 8.7 MB/s eta 0:00:01\r\u001b[K     |█████████████████████▊          | 645 kB 8.7 MB/s eta 0:00:01\r\u001b[K     |██████████████████████          | 655 kB 8.7 MB/s eta 0:00:01\r\u001b[K     |██████████████████████▌         | 665 kB 8.7 MB/s eta 0:00:01\r\u001b[K     |██████████████████████▉         | 675 kB 8.7 MB/s eta 0:00:01\r\u001b[K     |███████████████████████▏        | 686 kB 8.7 MB/s eta 0:00:01\r\u001b[K     |███████████████████████▌        | 696 kB 8.7 MB/s eta 0:00:01\r\u001b[K     |███████████████████████▉        | 706 kB 8.7 MB/s eta 0:00:01\r\u001b[K     |████████████████████████▏       | 716 kB 8.7 MB/s eta 0:00:01\r\u001b[K     |████████████████████████▌       | 727 kB 8.7 MB/s eta 0:00:01\r\u001b[K     |████████████████████████▉       | 737 kB 8.7 MB/s eta 0:00:01\r\u001b[K     |█████████████████████████▏      | 747 kB 8.7 MB/s eta 0:00:01\r\u001b[K     |█████████████████████████▌      | 757 kB 8.7 MB/s eta 0:00:01\r\u001b[K     |██████████████████████████      | 768 kB 8.7 MB/s eta 0:00:01\r\u001b[K     |██████████████████████████▎     | 778 kB 8.7 MB/s eta 0:00:01\r\u001b[K     |██████████████████████████▋     | 788 kB 8.7 MB/s eta 0:00:01\r\u001b[K     |███████████████████████████     | 798 kB 8.7 MB/s eta 0:00:01\r\u001b[K     |███████████████████████████▎    | 808 kB 8.7 MB/s eta 0:00:01\r\u001b[K     |███████████████████████████▋    | 819 kB 8.7 MB/s eta 0:00:01\r\u001b[K     |████████████████████████████    | 829 kB 8.7 MB/s eta 0:00:01\r\u001b[K     |████████████████████████████▎   | 839 kB 8.7 MB/s eta 0:00:01\r\u001b[K     |████████████████████████████▋   | 849 kB 8.7 MB/s eta 0:00:01\r\u001b[K     |█████████████████████████████   | 860 kB 8.7 MB/s eta 0:00:01\r\u001b[K     |█████████████████████████████▍  | 870 kB 8.7 MB/s eta 0:00:01\r\u001b[K     |█████████████████████████████▊  | 880 kB 8.7 MB/s eta 0:00:01\r\u001b[K     |██████████████████████████████  | 890 kB 8.7 MB/s eta 0:00:01\r\u001b[K     |██████████████████████████████▍ | 901 kB 8.7 MB/s eta 0:00:01\r\u001b[K     |██████████████████████████████▊ | 911 kB 8.7 MB/s eta 0:00:01\r\u001b[K     |███████████████████████████████ | 921 kB 8.7 MB/s eta 0:00:01\r\u001b[K     |███████████████████████████████▍| 931 kB 8.7 MB/s eta 0:00:01\r\u001b[K     |███████████████████████████████▊| 942 kB 8.7 MB/s eta 0:00:01\r\u001b[K     |████████████████████████████████| 948 kB 8.7 MB/s \n",
            "\u001b[?25hRequirement already satisfied: numpy in /usr/local/lib/python3.7/dist-packages (from glove-python-binary) (1.21.5)\n",
            "Requirement already satisfied: scipy in /usr/local/lib/python3.7/dist-packages (from glove-python-binary) (1.4.1)\n",
            "Installing collected packages: glove-python-binary\n",
            "Successfully installed glove-python-binary-0.2.0\n"
          ]
        }
      ]
    },
    {
      "cell_type": "code",
      "metadata": {
        "id": "sk1ui5z-HgVp"
      },
      "source": [
        "if pakai_model == 1:#load model word2vec\n",
        "  model = gensim.models.word2vec.Word2Vec.load('/content/drive/MyDrive/korpusklasifikasi2-korpusblogspertiga(iter=10)(preptambah).w2v')\n",
        "\n",
        "elif pakai_model == 2:#load model glove\n",
        "  model=Glove.load('/content/drive/MyDrive/dataisear(preputama).glove')"
      ],
      "execution_count": 9,
      "outputs": []
    },
    {
      "cell_type": "markdown",
      "metadata": {
        "id": "B3U7TJuRJdBO"
      },
      "source": [
        "cek model"
      ]
    },
    {
      "cell_type": "code",
      "metadata": {
        "id": "P2Q0Z6Y9Og7a",
        "colab": {
          "base_uri": "https://localhost:8080/"
        },
        "outputId": "992ce21e-2e31-4cb1-fd35-dfa05004eee5"
      },
      "source": [
        "if pakai_model == 1:\n",
        "  print(model.wv.vectors.shape)\n",
        "elif pakai_model == 2:\n",
        "  print(model.word_vectors.shape)"
      ],
      "execution_count": 10,
      "outputs": [
        {
          "output_type": "stream",
          "name": "stdout",
          "text": [
            "(1050252, 100)\n"
          ]
        }
      ]
    },
    {
      "cell_type": "code",
      "metadata": {
        "id": "xb2GLdHHK0jY",
        "outputId": "9234e383-ca89-4698-99a0-2ebda0a0d708",
        "colab": {
          "base_uri": "https://localhost:8080/"
        }
      },
      "source": [
        "if pakai_model == 1:\n",
        "  print(model.wv[\"moment\"])\n",
        "elif pakai_model == 2:\n",
        "  print(model.word_vectors[model.dictionary['moment']])"
      ],
      "execution_count": 11,
      "outputs": [
        {
          "output_type": "stream",
          "name": "stdout",
          "text": [
            "[ 0.1829412  -0.20841646 -0.11841379  0.06176512  0.01843286 -0.7476842\n",
            " -0.1357768   0.3570584   0.18467973  0.16314124  0.2689292  -0.47091943\n",
            "  0.33631173  0.26520896  0.11842588 -0.15842985 -0.22777186 -0.07783151\n",
            " -0.10990053  0.5176937   0.31532422 -0.19624393 -0.61611104 -0.42727137\n",
            "  0.19681047  0.15604298 -0.1645814  -0.40701595 -0.16730142 -0.16952306\n",
            "  0.0133235  -0.07503093 -0.40253013  0.07726142  0.27738926  0.06713627\n",
            " -0.38675132 -0.3568831   0.76168394 -0.25269416  0.14883569 -0.23769385\n",
            " -0.6898097   0.10890555 -0.22432788  0.1385622   0.30645022  0.47575903\n",
            " -0.6767433   0.13522422 -0.09588455 -0.40097758 -0.08793411  0.48063126\n",
            "  0.10320238 -0.42691207 -0.22164477 -0.03949981  0.5404436  -0.46945146\n",
            "  0.32360876 -0.11010793 -0.01495369 -0.06109467 -0.557356   -0.04228628\n",
            " -0.3911382   0.7630794   0.24903841  0.4150474  -0.0036241  -0.15069517\n",
            "  0.02419975 -0.5002108   0.1296005  -0.13342938  0.05289614  0.43966338\n",
            " -0.25862262  0.05307459  0.15369318 -0.32402948 -0.18302955  0.31281617\n",
            " -0.33086896 -0.3491924  -0.51912135  0.09701858 -0.25446114 -0.33270717\n",
            " -0.299187    0.05866808  0.42532077 -0.01407013 -0.4650231   0.32225794\n",
            " -0.03808571  0.0415264  -0.18309781 -0.08113106]\n"
          ]
        }
      ]
    },
    {
      "cell_type": "markdown",
      "metadata": {
        "id": "ClKPzISwOBo5"
      },
      "source": [
        "ambil conntoh model wor embedding"
      ]
    },
    {
      "cell_type": "code",
      "metadata": {
        "id": "fkjKjtJx-HOi"
      },
      "source": [
        "import array\n",
        "count=0\n",
        "simpanang=[]\n",
        "simpankat=[]\n",
        "jml=24\n",
        "if pakai_model == 1:\n",
        "  for senten in df.dokumen:\n",
        "    for word in senten:\n",
        "      simpanang.append(model.wv[word])\n",
        "      simpankat.append(word)\n",
        "      if count<jml:\n",
        "        count+=1\n",
        "      else :\n",
        "        break\n",
        "    if count<jml:\n",
        "      count+=1\n",
        "    else :\n",
        "      break\n",
        "\n",
        "elif pakai_model == 2:\n",
        "  for senten in df.dokumen:\n",
        "    for word in senten:\n",
        "      simpanang.append(model.word_vectors[model.dictionary[word]])\n",
        "      simpankat.append(word)\n",
        "      if count<jml:\n",
        "        count+=1\n",
        "      else :\n",
        "        break\n",
        "    if count<jml:\n",
        "      count+=1\n",
        "    else :\n",
        "      break\n"
      ],
      "execution_count": null,
      "outputs": []
    },
    {
      "cell_type": "code",
      "metadata": {
        "id": "r8PzZg0FGdX3",
        "colab": {
          "base_uri": "https://localhost:8080/"
        },
        "outputId": "367ad9d8-721c-4ab3-e7de-15c841559979"
      },
      "source": [
        "dfang=pd.DataFrame(simpanang)\n",
        "dfkat=pd.DataFrame(simpankat)\n",
        "result = pd.concat([dfkat, dfang], axis=1)\n",
        "result.shape"
      ],
      "execution_count": null,
      "outputs": [
        {
          "output_type": "execute_result",
          "data": {
            "text/plain": [
              "(24, 101)"
            ]
          },
          "metadata": {},
          "execution_count": 20
        }
      ]
    },
    {
      "cell_type": "code",
      "metadata": {
        "id": "ztHqCBwyLTVi"
      },
      "source": [
        "result.to_excel(\"preptambah,glove.xlsx\")"
      ],
      "execution_count": null,
      "outputs": []
    },
    {
      "cell_type": "markdown",
      "source": [
        "sum base ekstraksi fitur"
      ],
      "metadata": {
        "id": "KhSE7eW0m2M_"
      }
    },
    {
      "cell_type": "code",
      "source": [
        "import array\n",
        "ekstrak=[]\n",
        "temp=array.array('i',(0,)*100)\n",
        "hitungbiasa=0\n",
        "\n",
        "if pakai_model == 1:\n",
        "  for senten in df.content:\n",
        "    jumlah_dipakai=0\n",
        "    for word in senten:\n",
        "      try:\n",
        "        temp=np.add(temp,model.wv[word])\n",
        "        jumlah_dipakai+=1\n",
        "        hitungpre+=1\n",
        "      except:\n",
        "        temp=np.add(temp,np.zeros((100)))\n",
        "        hitungbiasa+=1\n",
        "    if jumlah_dipakai!=0:\n",
        "      temp=temp/jumlah_dipakai\n",
        "    ekstrak.append(temp)\n",
        "\n",
        "elif pakai_model == 2:\n",
        "  for senten in df.dokumen:\n",
        "    for word in senten:\n",
        "      temp=np.add(temp,model.word_vectors[model.dictionary[word]])\n",
        "    # temp=temp/len(senten)\n",
        "    ekstrak.append(temp)\n",
        "\n",
        "has_vec=ekstrak"
      ],
      "metadata": {
        "id": "9msY8nk5m10i"
      },
      "execution_count": 13,
      "outputs": []
    },
    {
      "cell_type": "markdown",
      "metadata": {
        "id": "Poh0hOslBSOE"
      },
      "source": [
        "average base ekstraksi fitur"
      ]
    },
    {
      "cell_type": "code",
      "metadata": {
        "id": "HugbL2uCLlIq"
      },
      "source": [
        "import array\n",
        "ekstrak=[]\n",
        "temp=array.array('i',(0,)*100)\n",
        "hitungpre=0\n",
        "hitungbiasa=0\n",
        "\n",
        "if pakai_model == 1:\n",
        "  for senten in df.content:\n",
        "    jumlah_dipakai=0\n",
        "    for word in senten:\n",
        "      try:\n",
        "        temp=np.add(temp,model.wv[word])\n",
        "        jumlah_dipakai+=1\n",
        "        hitungpre+=1\n",
        "      except:\n",
        "        temp=np.add(temp,np.zeros((100)))\n",
        "        hitungbiasa+=1\n",
        "    if jumlah_dipakai!=0:\n",
        "      temp=temp/jumlah_dipakai\n",
        "    ekstrak.append(temp)\n",
        "\n",
        "elif pakai_model == 2:\n",
        "  for senten in df.dokumen:\n",
        "    for word in senten:\n",
        "      temp=np.add(temp,model.word_vectors[model.dictionary[word]])\n",
        "    temp=temp/len(senten)\n",
        "    ekstrak.append(temp)\n",
        "\n",
        "has_vec=ekstrak"
      ],
      "execution_count": 14,
      "outputs": []
    },
    {
      "cell_type": "code",
      "metadata": {
        "id": "Z-n3bpfF16vJ",
        "colab": {
          "base_uri": "https://localhost:8080/"
        },
        "outputId": "c9b978c2-c001-4f3b-fb7c-f8370fda1d1b"
      },
      "source": [
        "X=has_vec\n",
        "y=df.sentiment\n",
        "print(np.shape(X))\n",
        "print(np.shape(y))\n",
        "# print(X)\n",
        "# print(y)"
      ],
      "execution_count": 16,
      "outputs": [
        {
          "output_type": "stream",
          "name": "stdout",
          "text": [
            "(9301, 100)\n",
            "(9301,)\n"
          ]
        }
      ]
    },
    {
      "cell_type": "markdown",
      "metadata": {
        "id": "y-VBfpD9PmVe"
      },
      "source": [
        "klasifikasi svm"
      ]
    },
    {
      "cell_type": "code",
      "metadata": {
        "id": "xba_npk4MTuy"
      },
      "source": [
        "from sklearn import svm\n",
        "from sklearn.metrics import confusion_matrix\n",
        "from sklearn.metrics import accuracy_score\n",
        "from sklearn.model_selection import cross_val_predict\n",
        "import matplotlib.pyplot as plt\n",
        "from sklearn.metrics import ConfusionMatrixDisplay\n",
        "from sklearn.metrics import precision_recall_fscore_support\n",
        "from sklearn.model_selection import cross_val_score"
      ],
      "execution_count": 17,
      "outputs": []
    },
    {
      "cell_type": "code",
      "metadata": {
        "id": "EqFIpy1m-Nly"
      },
      "source": [
        "def klasifikasi(y_pred):\n",
        "  ConfusionMatrixDisplay.from_predictions(y, y_pred)\n",
        "  plt.show()\n",
        "  print(accuracy_score(y, y_pred))\n",
        "  print(precision_recall_fscore_support(y, y_pred, average='macro'))"
      ],
      "execution_count": 18,
      "outputs": []
    },
    {
      "cell_type": "code",
      "metadata": {
        "id": "ENBn6uuK1TmE",
        "colab": {
          "base_uri": "https://localhost:8080/",
          "height": 316
        },
        "outputId": "8ec06bef-003e-4957-f1c8-4cb1a20db8b6"
      },
      "source": [
        "clf = svm.SVC(kernel='poly', decision_function_shape='ovr', C=17.0)\n",
        "# acc10k=cross_val_score(clf, X, y, cv=10)\n",
        "# np.mean(acc10k)\n",
        "y_pred = cross_val_predict(clf, X, y, cv=10)\n",
        "klasifikasi(y_pred)"
      ],
      "execution_count": 19,
      "outputs": [
        {
          "output_type": "display_data",
          "data": {
            "text/plain": [
              "<Figure size 432x288 with 2 Axes>"
            ],
            "image/png": "[encoded data removed]"
          },
          "metadata": {
            "needs_background": "light"
          }
        },
        {
          "output_type": "stream",
          "name": "stdout",
          "text": [
            "0.3465218793678099\n",
            "(0.33747027335969076, 0.3462193079128793, 0.33929647399732105, None)\n"
          ]
        }
      ]
    },
    {
      "cell_type": "code",
      "metadata": {
        "id": "3zxYveF-1Tgt",
        "colab": {
          "base_uri": "https://localhost:8080/",
          "height": 316
        },
        "outputId": "ddf1ecec-d69d-4a58-f5ac-aafd88e41f4f"
      },
      "source": [
        "clf = svm.SVC(kernel='rbf', decision_function_shape='ovr')\n",
        "y_pred = cross_val_predict(clf, X, y, cv=10)\n",
        "klasifikasi(y_pred)"
      ],
      "execution_count": 20,
      "outputs": [
        {
          "output_type": "display_data",
          "data": {
            "text/plain": [
              "<Figure size 432x288 with 2 Axes>"
            ],
            "image/png": "[encoded data removed]"
          },
          "metadata": {
            "needs_background": "light"
          }
        },
        {
          "output_type": "stream",
          "name": "stdout",
          "text": [
            "0.3615740242984625\n",
            "(0.3570576234456086, 0.3613195787591571, 0.35772602562112976, None)\n"
          ]
        }
      ]
    },
    {
      "cell_type": "code",
      "metadata": {
        "id": "Q5ApUnrpQ-1C"
      },
      "source": [
        "clf = svm.SVC(kernel='linear', decision_function_shape='ovr')\n",
        "y_pred = cross_val_predict(clf, X, y, cv=10)\n",
        "klasifikasi(y_pred)"
      ],
      "execution_count": null,
      "outputs": []
    }
  ]
}