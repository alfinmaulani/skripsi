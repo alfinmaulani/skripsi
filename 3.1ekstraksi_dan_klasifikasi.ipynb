{
  "nbformat": 4,
  "nbformat_minor": 0,
  "metadata": {
    "colab": {
      "name": "3ekstraksi_dan_klasifikasi.ipynb",
      "provenance": [],
      "mount_file_id": "https://github.com/alfinmaulani/skripsi/blob/master/3.1ekstraksi_dan_klasifikasi.ipynb",
      "authorship_tag": "ABX9TyPYriTCyOAf4HBxxCZbsU5T",
      "include_colab_link": true
    },
    "kernelspec": {
      "name": "python3",
      "display_name": "Python 3"
    },
    "language_info": {
      "name": "python"
    }
  },
  "cells": [
    {
      "cell_type": "markdown",
      "metadata": {
        "id": "view-in-github",
        "colab_type": "text"
      },
      "source": [
        "<a href=\"https://colab.research.google.com/github/alfinmaulani/skripsi/blob/master/3.1ekstraksi_dan_klasifikasi.ipynb\" target=\"_parent\"><img src=\"https://colab.research.google.com/assets/colab-badge.svg\" alt=\"Open In Colab\"/></a>"
      ]
    },
    {
      "cell_type": "code",
      "metadata": {
        "id": "ppjHrKAMn5M3",
        "colab": {
          "base_uri": "https://localhost:8080/"
        },
        "outputId": "e39a2eea-2327-4c20-fb4a-506591c57462"
      },
      "source": [
        "!pip install --upgrade scikit-learn\n",
        "import numpy as np\n",
        "import pandas as pd\n",
        "import io\n",
        "import os\n",
        "from nltk.tokenize import word_tokenize\n",
        "import nltk\n",
        "nltk.download('punkt')\n",
        "import gensim\n",
        "import ast"
      ],
      "execution_count": 1,
      "outputs": [
        {
          "output_type": "stream",
          "name": "stdout",
          "text": [
            "Requirement already satisfied: scikit-learn in /usr/local/lib/python3.7/dist-packages (1.0.2)\n",
            "Requirement already satisfied: joblib>=0.11 in /usr/local/lib/python3.7/dist-packages (from scikit-learn) (1.1.0)\n",
            "Requirement already satisfied: numpy>=1.14.6 in /usr/local/lib/python3.7/dist-packages (from scikit-learn) (1.21.5)\n",
            "Requirement already satisfied: threadpoolctl>=2.0.0 in /usr/local/lib/python3.7/dist-packages (from scikit-learn) (3.1.0)\n",
            "Requirement already satisfied: scipy>=1.1.0 in /usr/local/lib/python3.7/dist-packages (from scikit-learn) (1.4.1)\n",
            "[nltk_data] Downloading package punkt to /root/nltk_data...\n",
            "[nltk_data]   Unzipping tokenizers/punkt.zip.\n"
          ]
        }
      ]
    },
    {
      "cell_type": "code",
      "metadata": {
        "id": "ELuaZrDFBIZn"
      },
      "source": [
        "from google.colab import drive\n",
        "drive.mount('/content/drive')"
      ],
      "execution_count": null,
      "outputs": []
    },
    {
      "cell_type": "markdown",
      "metadata": {
        "id": "JfjGwTOUIGMw"
      },
      "source": [
        "load korpus"
      ]
    },
    {
      "cell_type": "code",
      "metadata": {
        "id": "GXFu7i-AIGCe"
      },
      "source": [
        "url1 = '/content/drive/MyDrive/dataisear(preputama).csv'\n",
        "url2 = '/content/drive/MyDrive/dataisear(preptambah).csv'\n",
        "df = pd.read_csv(url1)"
      ],
      "execution_count": 2,
      "outputs": []
    },
    {
      "cell_type": "code",
      "metadata": {
        "id": "3CS0rBIEkhNb"
      },
      "source": [
        "# df=df.drop(df[df['emosi'] == 'shame'].sample(frac=1).index)\n",
        "# df=df.drop(df[df['emosi'] == 'guilt'].sample(frac=1).index)\n",
        "# df=df.drop(df[df['emosi'] == 'disgust'].sample(frac=1).index)"
      ],
      "execution_count": null,
      "outputs": []
    },
    {
      "cell_type": "code",
      "metadata": {
        "id": "Rbg31w7OWstj"
      },
      "source": [
        "temp=[]\n",
        "for senten in df.dokumen:\n",
        "  temp.append(ast.literal_eval(senten))\n",
        "df.dokumen=temp"
      ],
      "execution_count": 3,
      "outputs": []
    },
    {
      "cell_type": "markdown",
      "metadata": {
        "id": "YSsV7F8iH6Fc"
      },
      "source": [
        "pilih model"
      ]
    },
    {
      "cell_type": "code",
      "metadata": {
        "id": "3YDHk0dTHK3I"
      },
      "source": [
        "pakai_model=1"
      ],
      "execution_count": 4,
      "outputs": []
    },
    {
      "cell_type": "markdown",
      "metadata": {
        "id": "D7KNPMXgKuTh"
      },
      "source": [
        "load model"
      ]
    },
    {
      "cell_type": "code",
      "metadata": {
        "id": "51MGV-yPrjeI",
        "colab": {
          "base_uri": "https://localhost:8080/"
        },
        "outputId": "9b5380a9-fbd0-4660-906b-8cb7650a054a"
      },
      "source": [
        "from gensim.models import word2vec\n",
        "!pip install glove-python-binary\n",
        "from glove import Glove\n",
        "from glove import Corpus"
      ],
      "execution_count": 5,
      "outputs": [
        {
          "output_type": "stream",
          "name": "stdout",
          "text": [
            "Collecting glove-python-binary\n",
            "  Downloading glove_python_binary-0.2.0-cp37-cp37m-manylinux1_x86_64.whl (948 kB)\n",
            "\u001b[?25l\r\u001b[K     |▍                               | 10 kB 19.1 MB/s eta 0:00:01\r\u001b[K     |▊                               | 20 kB 23.7 MB/s eta 0:00:01\r\u001b[K     |█                               | 30 kB 22.6 MB/s eta 0:00:01\r\u001b[K     |█▍                              | 40 kB 14.8 MB/s eta 0:00:01\r\u001b[K     |█▊                              | 51 kB 4.9 MB/s eta 0:00:01\r\u001b[K     |██                              | 61 kB 5.7 MB/s eta 0:00:01\r\u001b[K     |██▍                             | 71 kB 6.1 MB/s eta 0:00:01\r\u001b[K     |██▊                             | 81 kB 4.8 MB/s eta 0:00:01\r\u001b[K     |███                             | 92 kB 5.3 MB/s eta 0:00:01\r\u001b[K     |███▌                            | 102 kB 5.8 MB/s eta 0:00:01\r\u001b[K     |███▉                            | 112 kB 5.8 MB/s eta 0:00:01\r\u001b[K     |████▏                           | 122 kB 5.8 MB/s eta 0:00:01\r\u001b[K     |████▌                           | 133 kB 5.8 MB/s eta 0:00:01\r\u001b[K     |████▉                           | 143 kB 5.8 MB/s eta 0:00:01\r\u001b[K     |█████▏                          | 153 kB 5.8 MB/s eta 0:00:01\r\u001b[K     |█████▌                          | 163 kB 5.8 MB/s eta 0:00:01\r\u001b[K     |█████▉                          | 174 kB 5.8 MB/s eta 0:00:01\r\u001b[K     |██████▏                         | 184 kB 5.8 MB/s eta 0:00:01\r\u001b[K     |██████▋                         | 194 kB 5.8 MB/s eta 0:00:01\r\u001b[K     |███████                         | 204 kB 5.8 MB/s eta 0:00:01\r\u001b[K     |███████▎                        | 215 kB 5.8 MB/s eta 0:00:01\r\u001b[K     |███████▋                        | 225 kB 5.8 MB/s eta 0:00:01\r\u001b[K     |████████                        | 235 kB 5.8 MB/s eta 0:00:01\r\u001b[K     |████████▎                       | 245 kB 5.8 MB/s eta 0:00:01\r\u001b[K     |████████▋                       | 256 kB 5.8 MB/s eta 0:00:01\r\u001b[K     |█████████                       | 266 kB 5.8 MB/s eta 0:00:01\r\u001b[K     |█████████▎                      | 276 kB 5.8 MB/s eta 0:00:01\r\u001b[K     |█████████▊                      | 286 kB 5.8 MB/s eta 0:00:01\r\u001b[K     |██████████                      | 296 kB 5.8 MB/s eta 0:00:01\r\u001b[K     |██████████▍                     | 307 kB 5.8 MB/s eta 0:00:01\r\u001b[K     |██████████▊                     | 317 kB 5.8 MB/s eta 0:00:01\r\u001b[K     |███████████                     | 327 kB 5.8 MB/s eta 0:00:01\r\u001b[K     |███████████▍                    | 337 kB 5.8 MB/s eta 0:00:01\r\u001b[K     |███████████▊                    | 348 kB 5.8 MB/s eta 0:00:01\r\u001b[K     |████████████                    | 358 kB 5.8 MB/s eta 0:00:01\r\u001b[K     |████████████▍                   | 368 kB 5.8 MB/s eta 0:00:01\r\u001b[K     |████████████▊                   | 378 kB 5.8 MB/s eta 0:00:01\r\u001b[K     |█████████████▏                  | 389 kB 5.8 MB/s eta 0:00:01\r\u001b[K     |█████████████▌                  | 399 kB 5.8 MB/s eta 0:00:01\r\u001b[K     |█████████████▉                  | 409 kB 5.8 MB/s eta 0:00:01\r\u001b[K     |██████████████▏                 | 419 kB 5.8 MB/s eta 0:00:01\r\u001b[K     |██████████████▌                 | 430 kB 5.8 MB/s eta 0:00:01\r\u001b[K     |██████████████▉                 | 440 kB 5.8 MB/s eta 0:00:01\r\u001b[K     |███████████████▏                | 450 kB 5.8 MB/s eta 0:00:01\r\u001b[K     |███████████████▌                | 460 kB 5.8 MB/s eta 0:00:01\r\u001b[K     |███████████████▉                | 471 kB 5.8 MB/s eta 0:00:01\r\u001b[K     |████████████████▎               | 481 kB 5.8 MB/s eta 0:00:01\r\u001b[K     |████████████████▋               | 491 kB 5.8 MB/s eta 0:00:01\r\u001b[K     |█████████████████               | 501 kB 5.8 MB/s eta 0:00:01\r\u001b[K     |█████████████████▎              | 512 kB 5.8 MB/s eta 0:00:01\r\u001b[K     |█████████████████▋              | 522 kB 5.8 MB/s eta 0:00:01\r\u001b[K     |██████████████████              | 532 kB 5.8 MB/s eta 0:00:01\r\u001b[K     |██████████████████▎             | 542 kB 5.8 MB/s eta 0:00:01\r\u001b[K     |██████████████████▋             | 552 kB 5.8 MB/s eta 0:00:01\r\u001b[K     |███████████████████             | 563 kB 5.8 MB/s eta 0:00:01\r\u001b[K     |███████████████████▍            | 573 kB 5.8 MB/s eta 0:00:01\r\u001b[K     |███████████████████▊            | 583 kB 5.8 MB/s eta 0:00:01\r\u001b[K     |████████████████████            | 593 kB 5.8 MB/s eta 0:00:01\r\u001b[K     |████████████████████▍           | 604 kB 5.8 MB/s eta 0:00:01\r\u001b[K     |████████████████████▊           | 614 kB 5.8 MB/s eta 0:00:01\r\u001b[K     |█████████████████████           | 624 kB 5.8 MB/s eta 0:00:01\r\u001b[K     |█████████████████████▍          | 634 kB 5.8 MB/s eta 0:00:01\r\u001b[K     |█████████████████████▊          | 645 kB 5.8 MB/s eta 0:00:01\r\u001b[K     |██████████████████████          | 655 kB 5.8 MB/s eta 0:00:01\r\u001b[K     |██████████████████████▌         | 665 kB 5.8 MB/s eta 0:00:01\r\u001b[K     |██████████████████████▉         | 675 kB 5.8 MB/s eta 0:00:01\r\u001b[K     |███████████████████████▏        | 686 kB 5.8 MB/s eta 0:00:01\r\u001b[K     |███████████████████████▌        | 696 kB 5.8 MB/s eta 0:00:01\r\u001b[K     |███████████████████████▉        | 706 kB 5.8 MB/s eta 0:00:01\r\u001b[K     |████████████████████████▏       | 716 kB 5.8 MB/s eta 0:00:01\r\u001b[K     |████████████████████████▌       | 727 kB 5.8 MB/s eta 0:00:01\r\u001b[K     |████████████████████████▉       | 737 kB 5.8 MB/s eta 0:00:01\r\u001b[K     |█████████████████████████▏      | 747 kB 5.8 MB/s eta 0:00:01\r\u001b[K     |█████████████████████████▌      | 757 kB 5.8 MB/s eta 0:00:01\r\u001b[K     |██████████████████████████      | 768 kB 5.8 MB/s eta 0:00:01\r\u001b[K     |██████████████████████████▎     | 778 kB 5.8 MB/s eta 0:00:01\r\u001b[K     |██████████████████████████▋     | 788 kB 5.8 MB/s eta 0:00:01\r\u001b[K     |███████████████████████████     | 798 kB 5.8 MB/s eta 0:00:01\r\u001b[K     |███████████████████████████▎    | 808 kB 5.8 MB/s eta 0:00:01\r\u001b[K     |███████████████████████████▋    | 819 kB 5.8 MB/s eta 0:00:01\r\u001b[K     |████████████████████████████    | 829 kB 5.8 MB/s eta 0:00:01\r\u001b[K     |████████████████████████████▎   | 839 kB 5.8 MB/s eta 0:00:01\r\u001b[K     |████████████████████████████▋   | 849 kB 5.8 MB/s eta 0:00:01\r\u001b[K     |█████████████████████████████   | 860 kB 5.8 MB/s eta 0:00:01\r\u001b[K     |█████████████████████████████▍  | 870 kB 5.8 MB/s eta 0:00:01\r\u001b[K     |█████████████████████████████▊  | 880 kB 5.8 MB/s eta 0:00:01\r\u001b[K     |██████████████████████████████  | 890 kB 5.8 MB/s eta 0:00:01\r\u001b[K     |██████████████████████████████▍ | 901 kB 5.8 MB/s eta 0:00:01\r\u001b[K     |██████████████████████████████▊ | 911 kB 5.8 MB/s eta 0:00:01\r\u001b[K     |███████████████████████████████ | 921 kB 5.8 MB/s eta 0:00:01\r\u001b[K     |███████████████████████████████▍| 931 kB 5.8 MB/s eta 0:00:01\r\u001b[K     |███████████████████████████████▊| 942 kB 5.8 MB/s eta 0:00:01\r\u001b[K     |████████████████████████████████| 948 kB 5.8 MB/s \n",
            "\u001b[?25hRequirement already satisfied: scipy in /usr/local/lib/python3.7/dist-packages (from glove-python-binary) (1.4.1)\n",
            "Requirement already satisfied: numpy in /usr/local/lib/python3.7/dist-packages (from glove-python-binary) (1.21.5)\n",
            "Installing collected packages: glove-python-binary\n",
            "Successfully installed glove-python-binary-0.2.0\n"
          ]
        }
      ]
    },
    {
      "cell_type": "code",
      "metadata": {
        "id": "sk1ui5z-HgVp"
      },
      "source": [
        "if pakai_model == 1:#load model word2vec\n",
        "  model = gensim.models.word2vec.Word2Vec.load('/content/drive/MyDrive/korpusblogspertiga(preputama).w2v')\n",
        "\n",
        "elif pakai_model == 2:#load model glove\n",
        "  model=Glove.load('/content/drive/MyDrive/dataisear(preputama).glove')"
      ],
      "execution_count": 8,
      "outputs": []
    },
    {
      "cell_type": "markdown",
      "metadata": {
        "id": "B3U7TJuRJdBO"
      },
      "source": [
        "cek model"
      ]
    },
    {
      "cell_type": "code",
      "metadata": {
        "id": "P2Q0Z6Y9Og7a",
        "colab": {
          "base_uri": "https://localhost:8080/"
        },
        "outputId": "b3aa515b-8e6b-4ea6-84f7-4278eb6dd6f4"
      },
      "source": [
        "if pakai_model == 1:\n",
        "  print(model.wv.vectors.shape)\n",
        "elif pakai_model == 2:\n",
        "  print(model.word_vectors.shape)"
      ],
      "execution_count": 9,
      "outputs": [
        {
          "output_type": "stream",
          "name": "stdout",
          "text": [
            "(1048781, 100)\n"
          ]
        }
      ]
    },
    {
      "cell_type": "code",
      "metadata": {
        "id": "xb2GLdHHK0jY",
        "outputId": "4f1a5e42-bc00-4869-e3c4-9e7e54a7c45d",
        "colab": {
          "base_uri": "https://localhost:8080/"
        }
      },
      "source": [
        "if pakai_model == 1:\n",
        "  print(model.wv[\"moment\"])\n",
        "elif pakai_model == 2:\n",
        "  print(model.word_vectors[model.dictionary['moment']])"
      ],
      "execution_count": 10,
      "outputs": [
        {
          "output_type": "stream",
          "name": "stdout",
          "text": [
            "[-0.52128315 -0.79088104 -0.15055113 -0.31512925  0.14744855  0.07264802\n",
            " -0.2913117  -0.03864964  0.33448783 -0.38321584 -0.12776025  0.16693452\n",
            " -0.036732    0.736858   -0.22089869  0.30637467 -0.34601235  0.02692696\n",
            "  0.42270225  0.14580129  0.34575212  0.34704852 -0.38253692  0.5232027\n",
            " -0.5892915   0.24635637  0.29069707 -0.15231234  0.23371382 -0.02552057\n",
            "  0.5403861  -0.32759118  0.22016506  0.24308042 -0.33714053 -0.25229603\n",
            "  0.15955421 -0.2699975  -0.07551649 -0.00739359  0.18757325  0.4116258\n",
            " -0.03943484 -0.29445037  0.19409174 -0.49860442 -0.44503042 -0.36773324\n",
            "  0.56713533  0.20831311 -0.00298472  0.267926    0.4929098   0.22879563\n",
            " -0.05912206  0.17915553  0.15342142 -0.18735889 -0.0977503   0.05288584\n",
            " -0.0898988  -0.25296098  0.22592372 -0.01546502 -0.09625263 -0.51878595\n",
            "  0.1541172   0.6803038   0.10103451 -0.02387618  0.5089661  -0.36266452\n",
            "  0.5969234   0.16905098  0.07498565  0.06403165  0.36039498  0.28974342\n",
            "  0.02168966  0.17164262 -0.508625   -0.11300381 -0.2725527  -0.5471821\n",
            " -0.23390158  0.4032553  -0.01326431 -0.1296481  -0.36912835  0.22224939\n",
            " -0.73611575  0.16631842 -0.2022079  -0.06419954  0.30822882  0.31114423\n",
            "  0.14599927  0.01415083  0.60678893 -0.62257844]\n"
          ]
        }
      ]
    },
    {
      "cell_type": "markdown",
      "metadata": {
        "id": "ClKPzISwOBo5"
      },
      "source": [
        "ambil conntoh model wor embedding"
      ]
    },
    {
      "cell_type": "code",
      "metadata": {
        "id": "fkjKjtJx-HOi"
      },
      "source": [
        "import array\n",
        "count=0\n",
        "simpanang=[]\n",
        "simpankat=[]\n",
        "jml=24\n",
        "if pakai_model == 1:\n",
        "  for senten in df.dokumen:\n",
        "    for word in senten:\n",
        "      simpanang.append(model.wv[word])\n",
        "      simpankat.append(word)\n",
        "      if count<jml:\n",
        "        count+=1\n",
        "      else :\n",
        "        break\n",
        "    if count<jml:\n",
        "      count+=1\n",
        "    else :\n",
        "      break\n",
        "\n",
        "elif pakai_model == 2:\n",
        "  for senten in df.dokumen:\n",
        "    for word in senten:\n",
        "      simpanang.append(model.word_vectors[model.dictionary[word]])\n",
        "      simpankat.append(word)\n",
        "      if count<jml:\n",
        "        count+=1\n",
        "      else :\n",
        "        break\n",
        "    if count<jml:\n",
        "      count+=1\n",
        "    else :\n",
        "      break\n"
      ],
      "execution_count": null,
      "outputs": []
    },
    {
      "cell_type": "code",
      "metadata": {
        "id": "r8PzZg0FGdX3",
        "colab": {
          "base_uri": "https://localhost:8080/"
        },
        "outputId": "367ad9d8-721c-4ab3-e7de-15c841559979"
      },
      "source": [
        "dfang=pd.DataFrame(simpanang)\n",
        "dfkat=pd.DataFrame(simpankat)\n",
        "result = pd.concat([dfkat, dfang], axis=1)\n",
        "result.shape"
      ],
      "execution_count": null,
      "outputs": [
        {
          "output_type": "execute_result",
          "data": {
            "text/plain": [
              "(24, 101)"
            ]
          },
          "metadata": {},
          "execution_count": 20
        }
      ]
    },
    {
      "cell_type": "code",
      "metadata": {
        "id": "ztHqCBwyLTVi"
      },
      "source": [
        "result.to_excel(\"preptambah,glove.xlsx\")"
      ],
      "execution_count": null,
      "outputs": []
    },
    {
      "cell_type": "markdown",
      "source": [
        "sum base ekstraksi fitur"
      ],
      "metadata": {
        "id": "KhSE7eW0m2M_"
      }
    },
    {
      "cell_type": "code",
      "source": [
        "import array\n",
        "ekstrak=[]\n",
        "temp=array.array('i',(0,)*100)\n",
        "\n",
        "if pakai_model == 1:\n",
        "  for senten in df.dokumen:\n",
        "    for word in senten:\n",
        "      temp=np.add(temp,model.wv[word])\n",
        "    # temp=temp/len(senten)\n",
        "    ekstrak.append(temp)\n",
        "\n",
        "elif pakai_model == 2:\n",
        "  for senten in df.dokumen:\n",
        "    for word in senten:\n",
        "      temp=np.add(temp,model.word_vectors[model.dictionary[word]])\n",
        "    # temp=temp/len(senten)\n",
        "    ekstrak.append(temp)\n",
        "\n",
        "has_vec=ekstrak"
      ],
      "metadata": {
        "id": "9msY8nk5m10i"
      },
      "execution_count": 11,
      "outputs": []
    },
    {
      "cell_type": "markdown",
      "metadata": {
        "id": "Poh0hOslBSOE"
      },
      "source": [
        "average base ekstraksi fitur"
      ]
    },
    {
      "cell_type": "code",
      "metadata": {
        "id": "HugbL2uCLlIq"
      },
      "source": [
        "import array\n",
        "ekstrak=[]\n",
        "temp=array.array('i',(0,)*100)\n",
        "\n",
        "if pakai_model == 1:\n",
        "  for senten in df.dokumen:\n",
        "    for word in senten:\n",
        "      temp=np.add(temp,model.wv[word])\n",
        "    temp=temp/len(senten)\n",
        "    ekstrak.append(temp)\n",
        "\n",
        "elif pakai_model == 2:\n",
        "  for senten in df.dokumen:\n",
        "    for word in senten:\n",
        "      temp=np.add(temp,model.word_vectors[model.dictionary[word]])\n",
        "    temp=temp/len(senten)\n",
        "    ekstrak.append(temp)\n",
        "\n",
        "has_vec=ekstrak"
      ],
      "execution_count": null,
      "outputs": []
    },
    {
      "cell_type": "code",
      "metadata": {
        "id": "Z-n3bpfF16vJ",
        "colab": {
          "base_uri": "https://localhost:8080/"
        },
        "outputId": "13f1bf7f-76c4-4525-844a-9c125afe7e58"
      },
      "source": [
        "X=has_vec\n",
        "y=df.emosi\n",
        "print(np.shape(X))\n",
        "print(np.shape(y))\n",
        "# print(X)\n",
        "# print(y)"
      ],
      "execution_count": 12,
      "outputs": [
        {
          "output_type": "stream",
          "name": "stdout",
          "text": [
            "(7516, 100)\n",
            "(7516,)\n"
          ]
        }
      ]
    },
    {
      "cell_type": "markdown",
      "metadata": {
        "id": "y-VBfpD9PmVe"
      },
      "source": [
        "klasifikasi svm"
      ]
    },
    {
      "cell_type": "code",
      "metadata": {
        "id": "xba_npk4MTuy"
      },
      "source": [
        "from sklearn import svm\n",
        "from sklearn.metrics import confusion_matrix\n",
        "from sklearn.metrics import accuracy_score\n",
        "from sklearn.model_selection import cross_val_predict\n",
        "import matplotlib.pyplot as plt\n",
        "from sklearn.metrics import ConfusionMatrixDisplay\n",
        "from sklearn.metrics import precision_recall_fscore_support\n",
        "from sklearn.model_selection import cross_val_score"
      ],
      "execution_count": 13,
      "outputs": []
    },
    {
      "cell_type": "code",
      "metadata": {
        "id": "EqFIpy1m-Nly"
      },
      "source": [
        "def klasifikasi(y_pred):\n",
        "  ConfusionMatrixDisplay.from_predictions(y, y_pred)\n",
        "  plt.show()\n",
        "  print(accuracy_score(y, y_pred))\n",
        "  print(precision_recall_fscore_support(y, y_pred, average='macro'))"
      ],
      "execution_count": 14,
      "outputs": []
    },
    {
      "cell_type": "code",
      "metadata": {
        "id": "ENBn6uuK1TmE",
        "colab": {
          "base_uri": "https://localhost:8080/",
          "height": 372
        },
        "outputId": "de4cc7d5-17f6-4fbf-a56c-f293262f1aa3"
      },
      "source": [
        "clf = svm.SVC(kernel='poly', decision_function_shape='ovr', C=17.0)\n",
        "# acc10k=cross_val_score(clf, X, y, cv=10)\n",
        "# np.mean(acc10k)\n",
        "y_pred = cross_val_predict(clf, X, y, cv=10)\n",
        "klasifikasi(y_pred)"
      ],
      "execution_count": 15,
      "outputs": [
        {
          "output_type": "display_data",
          "data": {
            "image/png": "[encoded data removed]",
            "text/plain": [
              "<Figure size 432x288 with 2 Axes>"
            ]
          },
          "metadata": {
            "needs_background": "light"
          }
        },
        {
          "output_type": "stream",
          "name": "stdout",
          "text": [
            "0.14542309739222992\n",
            "(0.041706218341465505, 0.14354972758334103, 0.05950989890194071, None)\n"
          ]
        },
        {
          "output_type": "stream",
          "name": "stderr",
          "text": [
            "/usr/local/lib/python3.7/dist-packages/sklearn/metrics/_classification.py:1318: UndefinedMetricWarning: Precision and F-score are ill-defined and being set to 0.0 in labels with no predicted samples. Use `zero_division` parameter to control this behavior.\n",
            "  _warn_prf(average, modifier, msg_start, len(result))\n"
          ]
        }
      ]
    },
    {
      "cell_type": "code",
      "metadata": {
        "id": "3zxYveF-1Tgt",
        "colab": {
          "base_uri": "https://localhost:8080/",
          "height": 372
        },
        "outputId": "6af875d5-42f6-4cb2-9231-3751b8b34111"
      },
      "source": [
        "clf = svm.SVC(kernel='rbf', decision_function_shape='ovr')\n",
        "y_pred = cross_val_predict(clf, X, y, cv=10)\n",
        "klasifikasi(y_pred)"
      ],
      "execution_count": 16,
      "outputs": [
        {
          "output_type": "display_data",
          "data": {
            "image/png": "[encoded data removed]",
            "text/plain": [
              "<Figure size 432x288 with 2 Axes>"
            ]
          },
          "metadata": {
            "needs_background": "light"
          }
        },
        {
          "output_type": "stream",
          "name": "stdout",
          "text": [
            "0.14515699840340607\n",
            "(0.06247946249290522, 0.14374798627867885, 0.08235039896128368, None)\n"
          ]
        },
        {
          "output_type": "stream",
          "name": "stderr",
          "text": [
            "/usr/local/lib/python3.7/dist-packages/sklearn/metrics/_classification.py:1318: UndefinedMetricWarning: Precision and F-score are ill-defined and being set to 0.0 in labels with no predicted samples. Use `zero_division` parameter to control this behavior.\n",
            "  _warn_prf(average, modifier, msg_start, len(result))\n"
          ]
        }
      ]
    },
    {
      "cell_type": "code",
      "metadata": {
        "id": "Q5ApUnrpQ-1C"
      },
      "source": [
        "clf = svm.SVC(kernel='linear', decision_function_shape='ovr')\n",
        "y_pred = cross_val_predict(clf, X, y, cv=10)\n",
        "klasifikasi(y_pred)"
      ],
      "execution_count": null,
      "outputs": []
    }
  ]
}