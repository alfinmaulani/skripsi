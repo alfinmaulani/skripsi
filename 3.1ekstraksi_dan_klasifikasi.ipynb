{
  "nbformat": 4,
  "nbformat_minor": 0,
  "metadata": {
    "colab": {
      "name": "3ekstraksi_dan_klasifikasi.ipynb",
      "provenance": [],
      "mount_file_id": "https://github.com/alfinmaulani/skripsi/blob/master/3.1ekstraksi_dan_klasifikasi.ipynb",
      "authorship_tag": "ABX9TyPL5j8JjrJyYaaUHkMPGec6",
      "include_colab_link": true
    },
    "kernelspec": {
      "name": "python3",
      "display_name": "Python 3"
    },
    "language_info": {
      "name": "python"
    }
  },
  "cells": [
    {
      "cell_type": "markdown",
      "metadata": {
        "id": "view-in-github",
        "colab_type": "text"
      },
      "source": [
        "<a href=\"https://colab.research.google.com/github/alfinmaulani/skripsi/blob/master/3.1ekstraksi_dan_klasifikasi.ipynb\" target=\"_parent\"><img src=\"https://colab.research.google.com/assets/colab-badge.svg\" alt=\"Open In Colab\"/></a>"
      ]
    },
    {
      "cell_type": "code",
      "metadata": {
        "id": "ppjHrKAMn5M3",
        "colab": {
          "base_uri": "https://localhost:8080/"
        },
        "outputId": "7c34a91a-f3b8-421e-c2bb-a5f599f93f17"
      },
      "source": [
        "!pip install --upgrade scikit-learn\n",
        "import numpy as np\n",
        "import pandas as pd\n",
        "import io\n",
        "import os\n",
        "from nltk.tokenize import word_tokenize\n",
        "import nltk\n",
        "nltk.download('punkt')\n",
        "import gensim\n",
        "import ast"
      ],
      "execution_count": 1,
      "outputs": [
        {
          "output_type": "stream",
          "name": "stdout",
          "text": [
            "Requirement already satisfied: scikit-learn in /usr/local/lib/python3.7/dist-packages (1.0.2)\n",
            "Requirement already satisfied: threadpoolctl>=2.0.0 in /usr/local/lib/python3.7/dist-packages (from scikit-learn) (3.1.0)\n",
            "Requirement already satisfied: scipy>=1.1.0 in /usr/local/lib/python3.7/dist-packages (from scikit-learn) (1.4.1)\n",
            "Requirement already satisfied: numpy>=1.14.6 in /usr/local/lib/python3.7/dist-packages (from scikit-learn) (1.21.5)\n",
            "Requirement already satisfied: joblib>=0.11 in /usr/local/lib/python3.7/dist-packages (from scikit-learn) (1.1.0)\n",
            "[nltk_data] Downloading package punkt to /root/nltk_data...\n",
            "[nltk_data]   Unzipping tokenizers/punkt.zip.\n"
          ]
        }
      ]
    },
    {
      "cell_type": "code",
      "metadata": {
        "id": "ELuaZrDFBIZn"
      },
      "source": [
        "from google.colab import drive\n",
        "drive.mount('/content/drive')"
      ],
      "execution_count": null,
      "outputs": []
    },
    {
      "cell_type": "markdown",
      "metadata": {
        "id": "JfjGwTOUIGMw"
      },
      "source": [
        "load korpus"
      ]
    },
    {
      "cell_type": "code",
      "metadata": {
        "id": "GXFu7i-AIGCe"
      },
      "source": [
        "korpus1a = '/content/drive/MyDrive/korpus1dataisear(preputama).csv'\n",
        "korpus1b = '/content/drive/MyDrive/korpus1dataisear(preptambah).csv'\n",
        "korpus2a = '/content/drive/MyDrive/korpus2(preputama).csv'\n",
        "korpus2b = '/content/drive/MyDrive/korpus2(preptambah).csv'\n",
        "df = pd.read_csv(korpus2b)"
      ],
      "execution_count": 2,
      "outputs": []
    },
    {
      "cell_type": "code",
      "metadata": {
        "id": "3CS0rBIEkhNb"
      },
      "source": [
        "# df=df.drop(df[df['emosi'] == 'shame'].sample(frac=1).index)\n",
        "# df=df.drop(df[df['emosi'] == 'guilt'].sample(frac=1).index)\n",
        "# df=df.drop(df[df['emosi'] == 'disgust'].sample(frac=1).index)"
      ],
      "execution_count": null,
      "outputs": []
    },
    {
      "cell_type": "code",
      "metadata": {
        "id": "Rbg31w7OWstj"
      },
      "source": [
        "temp=[]\n",
        "for senten in df.content:\n",
        "  temp.append(ast.literal_eval(senten))\n",
        "df.content=temp"
      ],
      "execution_count": 3,
      "outputs": []
    },
    {
      "cell_type": "markdown",
      "metadata": {
        "id": "YSsV7F8iH6Fc"
      },
      "source": [
        "pilih model"
      ]
    },
    {
      "cell_type": "code",
      "metadata": {
        "id": "3YDHk0dTHK3I"
      },
      "source": [
        "pakai_model=2"
      ],
      "execution_count": 15,
      "outputs": []
    },
    {
      "cell_type": "markdown",
      "metadata": {
        "id": "D7KNPMXgKuTh"
      },
      "source": [
        "load model"
      ]
    },
    {
      "cell_type": "code",
      "metadata": {
        "id": "51MGV-yPrjeI",
        "colab": {
          "base_uri": "https://localhost:8080/"
        },
        "outputId": "6201bf56-be49-4ffc-9405-a7b4caebfbcb"
      },
      "source": [
        "from gensim.models import word2vec\n",
        "!pip install glove-python-binary\n",
        "from glove import Glove\n",
        "from glove import Corpus"
      ],
      "execution_count": 5,
      "outputs": [
        {
          "output_type": "stream",
          "name": "stdout",
          "text": [
            "Collecting glove-python-binary\n",
            "  Downloading glove_python_binary-0.2.0-cp37-cp37m-manylinux1_x86_64.whl (948 kB)\n",
            "\u001b[K     |████████████████████████████████| 948 kB 5.1 MB/s \n",
            "\u001b[?25hRequirement already satisfied: scipy in /usr/local/lib/python3.7/dist-packages (from glove-python-binary) (1.4.1)\n",
            "Requirement already satisfied: numpy in /usr/local/lib/python3.7/dist-packages (from glove-python-binary) (1.21.5)\n",
            "Installing collected packages: glove-python-binary\n",
            "Successfully installed glove-python-binary-0.2.0\n"
          ]
        }
      ]
    },
    {
      "cell_type": "code",
      "metadata": {
        "id": "sk1ui5z-HgVp"
      },
      "source": [
        "if pakai_model == 1:#load model word2vec\n",
        "  model = gensim.models.word2vec.Word2Vec.load('/content/drive/MyDrive/korpus2+blog(preptambah).w2v')\n",
        "\n",
        "elif pakai_model == 2:#load model glove\n",
        "  model=Glove.load('/content/drive/MyDrive/korpus2+blog(preptambah).glove')"
      ],
      "execution_count": 16,
      "outputs": []
    },
    {
      "cell_type": "markdown",
      "metadata": {
        "id": "B3U7TJuRJdBO"
      },
      "source": [
        "cek model"
      ]
    },
    {
      "cell_type": "code",
      "metadata": {
        "id": "P2Q0Z6Y9Og7a",
        "colab": {
          "base_uri": "https://localhost:8080/"
        },
        "outputId": "b05b2edb-4cea-4f7e-fd30-8f4493880c13"
      },
      "source": [
        "if pakai_model == 1:\n",
        "  print(model.wv.vectors.shape)\n",
        "elif pakai_model == 2:\n",
        "  print(model.word_vectors.shape)"
      ],
      "execution_count": 17,
      "outputs": [
        {
          "output_type": "stream",
          "name": "stdout",
          "text": [
            "(909479, 100)\n"
          ]
        }
      ]
    },
    {
      "cell_type": "code",
      "metadata": {
        "id": "xb2GLdHHK0jY",
        "outputId": "a880821c-346e-4bb2-e2a0-97e285912190",
        "colab": {
          "base_uri": "https://localhost:8080/"
        }
      },
      "source": [
        "if pakai_model == 1:\n",
        "  print(model.wv[\"yes\"])\n",
        "elif pakai_model == 2:\n",
        "  print(model.word_vectors[model.dictionary['yes']])"
      ],
      "execution_count": 18,
      "outputs": [
        {
          "output_type": "stream",
          "name": "stdout",
          "text": [
            "[-2.82227862e-01 -9.93760340e-02 -1.04850553e-01 -3.08547528e-02\n",
            "  4.31177631e-02  2.61965730e-02  4.38989563e-01 -1.74258680e-01\n",
            "  3.84116058e-01 -2.12612538e-01 -1.86424062e-01 -2.55049147e-01\n",
            "  2.44699459e-01  6.31840312e-01 -3.72159326e-01  1.73144801e-02\n",
            "  1.56414569e-01 -5.23148252e-01 -4.17538878e-01  5.04786464e-01\n",
            "  1.52033974e-01 -5.33830670e-02 -9.62067298e-02 -1.03583431e-01\n",
            "  4.72128608e-01  5.14354400e-02 -2.10955207e-01  1.30368907e-01\n",
            "  1.55843518e-01  2.32764707e-01  3.48478150e-01  4.99723577e-02\n",
            " -1.71293213e-01 -1.48894154e-01  5.14757034e-01  3.33235230e-01\n",
            " -7.39486066e-03 -8.80872704e-02 -7.13559355e-02 -5.75969545e-02\n",
            " -6.05742374e-02  7.07580593e-02  5.33689287e-01  3.28259941e-02\n",
            " -1.33465973e+00 -7.43962031e-01 -5.61848027e-02 -7.24593521e-02\n",
            "  1.43055352e-01  4.19189096e-01 -2.19449216e-01 -1.22251511e-01\n",
            " -7.62292716e-01  1.97460497e-03  3.33678047e-01  1.18453830e-01\n",
            " -2.74877198e-01  2.70904650e-02 -2.56731958e-01  3.28700418e-01\n",
            " -1.44555705e-01 -1.47594409e-01 -2.55208623e-01  2.84989924e-01\n",
            "  2.18935515e-02  3.06121523e-02  9.31796403e-02  7.00004100e-02\n",
            "  3.62144741e-01  9.18943202e-02  2.95832426e-01 -1.10372508e-01\n",
            " -5.96249849e-02  5.52063377e-01  5.47283792e-03 -7.23268445e-01\n",
            " -1.44601694e-01 -1.78207673e-02 -2.86028019e-02 -1.19059089e-01\n",
            "  6.94276199e-01 -2.51209404e-05  2.90751559e-01  2.89365561e-01\n",
            " -5.17204693e-03 -1.61181975e-01 -1.15929118e-01 -1.12477456e-01\n",
            "  5.88131137e-01  2.72635314e-01 -4.10592068e-02 -6.23651915e-02\n",
            "  8.10233767e-01 -2.51854977e-01 -2.89167725e-01 -9.76054358e-01\n",
            " -2.34353695e-01 -2.00782249e-01 -1.96468396e-01  3.90780389e-02]\n"
          ]
        }
      ]
    },
    {
      "cell_type": "markdown",
      "metadata": {
        "id": "ClKPzISwOBo5"
      },
      "source": [
        "ambil conntoh model wor embedding"
      ]
    },
    {
      "cell_type": "code",
      "metadata": {
        "id": "fkjKjtJx-HOi"
      },
      "source": [
        "import array\n",
        "count=0\n",
        "simpanang=[]\n",
        "simpankat=[]\n",
        "jml=24\n",
        "if pakai_model == 1:\n",
        "  for senten in df.dokumen:\n",
        "    for word in senten:\n",
        "      simpanang.append(model.wv[word])\n",
        "      simpankat.append(word)\n",
        "      if count<jml:\n",
        "        count+=1\n",
        "      else :\n",
        "        break\n",
        "    if count<jml:\n",
        "      count+=1\n",
        "    else :\n",
        "      break\n",
        "\n",
        "elif pakai_model == 2:\n",
        "  for senten in df.dokumen:\n",
        "    for word in senten:\n",
        "      simpanang.append(model.word_vectors[model.dictionary[word]])\n",
        "      simpankat.append(word)\n",
        "      if count<jml:\n",
        "        count+=1\n",
        "      else :\n",
        "        break\n",
        "    if count<jml:\n",
        "      count+=1\n",
        "    else :\n",
        "      break\n"
      ],
      "execution_count": null,
      "outputs": []
    },
    {
      "cell_type": "code",
      "metadata": {
        "id": "r8PzZg0FGdX3",
        "colab": {
          "base_uri": "https://localhost:8080/"
        },
        "outputId": "367ad9d8-721c-4ab3-e7de-15c841559979"
      },
      "source": [
        "dfang=pd.DataFrame(simpanang)\n",
        "dfkat=pd.DataFrame(simpankat)\n",
        "result = pd.concat([dfkat, dfang], axis=1)\n",
        "result.shape"
      ],
      "execution_count": null,
      "outputs": [
        {
          "output_type": "execute_result",
          "data": {
            "text/plain": [
              "(24, 101)"
            ]
          },
          "metadata": {},
          "execution_count": 20
        }
      ]
    },
    {
      "cell_type": "code",
      "metadata": {
        "id": "ztHqCBwyLTVi"
      },
      "source": [
        "result.to_excel(\"preptambah,glove.xlsx\")"
      ],
      "execution_count": null,
      "outputs": []
    },
    {
      "cell_type": "markdown",
      "source": [
        "sum base ekstraksi fitur"
      ],
      "metadata": {
        "id": "KhSE7eW0m2M_"
      }
    },
    {
      "cell_type": "code",
      "source": [
        "import array\n",
        "ekstrak=[]\n",
        "temp=array.array('i',(0,)*100)\n",
        "hitungbiasa=0\n",
        "hitungpre=0\n",
        "\n",
        "if pakai_model == 1:\n",
        "  for senten in df.content:\n",
        "    jumlah_dipakai=0\n",
        "    for word in senten:\n",
        "      try:\n",
        "        temp=np.add(temp,model.wv[word])\n",
        "        jumlah_dipakai+=1\n",
        "        hitungpre+=1\n",
        "      except:\n",
        "        temp=np.add(temp,np.zeros((100)))\n",
        "        hitungbiasa+=1\n",
        "    if jumlah_dipakai!=0:\n",
        "      temp=temp/jumlah_dipakai\n",
        "    ekstrak.append(temp)\n",
        "\n",
        "elif pakai_model == 2:\n",
        "  for senten in df.dokumen:\n",
        "    for word in senten:\n",
        "      temp=np.add(temp,model.word_vectors[model.dictionary[word]])\n",
        "    # temp=temp/len(senten)\n",
        "    ekstrak.append(temp)\n",
        "\n",
        "has_vec=ekstrak"
      ],
      "metadata": {
        "id": "9msY8nk5m10i"
      },
      "execution_count": null,
      "outputs": []
    },
    {
      "cell_type": "markdown",
      "metadata": {
        "id": "Poh0hOslBSOE"
      },
      "source": [
        "average base ekstraksi fitur"
      ]
    },
    {
      "cell_type": "code",
      "metadata": {
        "id": "HugbL2uCLlIq"
      },
      "source": [
        "import array\n",
        "ekstrak=[]\n",
        "temp=array.array('i',(0,)*100)\n",
        "\n",
        "if pakai_model == 1:\n",
        "  for senten in df.content:\n",
        "    for word in senten:\n",
        "      temp=np.add(temp,model.wv[word])\n",
        "    temp=temp/len(senten)\n",
        "    ekstrak.append(temp)\n",
        "\n",
        "elif pakai_model == 2:\n",
        "  for senten in df.content:\n",
        "    for word in senten:\n",
        "      temp=np.add(temp,model.word_vectors[model.dictionary[word]])\n",
        "    temp=temp/len(senten)\n",
        "    ekstrak.append(temp)\n",
        "\n",
        "has_vec=ekstrak"
      ],
      "execution_count": 20,
      "outputs": []
    },
    {
      "cell_type": "code",
      "metadata": {
        "id": "Z-n3bpfF16vJ",
        "colab": {
          "base_uri": "https://localhost:8080/"
        },
        "outputId": "fde54e5f-7700-4754-c144-4fd5d1155aef"
      },
      "source": [
        "X=has_vec\n",
        "y=df.sentiment\n",
        "print(np.shape(X))\n",
        "print(np.shape(y))\n",
        "# print(X)\n",
        "# print(y)"
      ],
      "execution_count": 21,
      "outputs": [
        {
          "output_type": "stream",
          "name": "stdout",
          "text": [
            "(9279, 100)\n",
            "(9279,)\n"
          ]
        }
      ]
    },
    {
      "cell_type": "markdown",
      "metadata": {
        "id": "y-VBfpD9PmVe"
      },
      "source": [
        "klasifikasi svm"
      ]
    },
    {
      "cell_type": "code",
      "metadata": {
        "id": "xba_npk4MTuy"
      },
      "source": [
        "from sklearn import svm\n",
        "from sklearn.metrics import confusion_matrix\n",
        "from sklearn.metrics import accuracy_score\n",
        "from sklearn.model_selection import cross_val_predict\n",
        "import matplotlib.pyplot as plt\n",
        "from sklearn.metrics import ConfusionMatrixDisplay\n",
        "from sklearn.metrics import precision_recall_fscore_support\n",
        "from sklearn.model_selection import cross_val_score"
      ],
      "execution_count": 11,
      "outputs": []
    },
    {
      "cell_type": "code",
      "metadata": {
        "id": "EqFIpy1m-Nly"
      },
      "source": [
        "def klasifikasi(y_pred):\n",
        "  ConfusionMatrixDisplay.from_predictions(y, y_pred)\n",
        "  plt.show()\n",
        "  print(accuracy_score(y, y_pred))\n",
        "  print(precision_recall_fscore_support(y, y_pred, average='macro'))"
      ],
      "execution_count": 12,
      "outputs": []
    },
    {
      "cell_type": "code",
      "metadata": {
        "id": "ENBn6uuK1TmE",
        "colab": {
          "base_uri": "https://localhost:8080/",
          "height": 316
        },
        "outputId": "3d473633-8896-4cf4-ae68-9c0b80c5e75b"
      },
      "source": [
        "clf = svm.SVC(kernel='poly', decision_function_shape='ovr', C=17.0)\n",
        "# acc10k=cross_val_score(clf, X, y, cv=10)\n",
        "# np.mean(acc10k)\n",
        "y_pred = cross_val_predict(clf, X, y, cv=10)\n",
        "klasifikasi(y_pred)"
      ],
      "execution_count": 22,
      "outputs": [
        {
          "output_type": "display_data",
          "data": {
            "text/plain": [
              "<Figure size 432x288 with 2 Axes>"
            ],
            "image/png": "[encoded data removed]"
          },
          "metadata": {
            "needs_background": "light"
          }
        },
        {
          "output_type": "stream",
          "name": "stdout",
          "text": [
            "0.33818299385709666\n",
            "(0.33221670158116273, 0.33787116644318, 0.3217501263820562, None)\n"
          ]
        }
      ]
    },
    {
      "cell_type": "code",
      "metadata": {
        "id": "3zxYveF-1Tgt",
        "colab": {
          "base_uri": "https://localhost:8080/",
          "height": 316
        },
        "outputId": "76a05915-7ade-4ec4-bb5a-659ca44ff40f"
      },
      "source": [
        "clf = svm.SVC(kernel='rbf', decision_function_shape='ovr')\n",
        "y_pred = cross_val_predict(clf, X, y, cv=10)\n",
        "klasifikasi(y_pred)"
      ],
      "execution_count": 23,
      "outputs": [
        {
          "output_type": "display_data",
          "data": {
            "text/plain": [
              "<Figure size 432x288 with 2 Axes>"
            ],
            "image/png": "[encoded data removed]"
          },
          "metadata": {
            "needs_background": "light"
          }
        },
        {
          "output_type": "stream",
          "name": "stdout",
          "text": [
            "0.36081474296799226\n",
            "(0.3580829056740232, 0.36055181581190343, 0.35620886810733376, None)\n"
          ]
        }
      ]
    },
    {
      "cell_type": "code",
      "metadata": {
        "id": "Q5ApUnrpQ-1C",
        "outputId": "acfe6d6e-c5f5-4c4b-c9f7-a31d1c1acae8",
        "colab": {
          "base_uri": "https://localhost:8080/",
          "height": 316
        }
      },
      "source": [
        "clf = svm.SVC(kernel='linear', decision_function_shape='ovr')\n",
        "y_pred = cross_val_predict(clf, X, y, cv=10)\n",
        "klasifikasi(y_pred)"
      ],
      "execution_count": 24,
      "outputs": [
        {
          "output_type": "display_data",
          "data": {
            "text/plain": [
              "<Figure size 432x288 with 2 Axes>"
            ],
            "image/png": "[encoded data removed]"
          },
          "metadata": {
            "needs_background": "light"
          }
        },
        {
          "output_type": "stream",
          "name": "stdout",
          "text": [
            "0.34540359952581096\n",
            "(0.33967824084291826, 0.34500963056815764, 0.33876363950124333, None)\n"
          ]
        }
      ]
    }
  ]
}