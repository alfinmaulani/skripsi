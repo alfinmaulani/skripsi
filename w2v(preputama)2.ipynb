{
  "nbformat": 4,
  "nbformat_minor": 0,
  "metadata": {
    "colab": {
      "name": "preutamaw2v.ipynb",
      "provenance": [],
      "authorship_tag": "ABX9TyP8oTCpj6tbXXRvh4PpMJVl",
      "include_colab_link": true
    },
    "kernelspec": {
      "name": "python3",
      "display_name": "Python 3"
    },
    "language_info": {
      "name": "python"
    }
  },
  "cells": [
    {
      "cell_type": "markdown",
      "metadata": {
        "id": "view-in-github",
        "colab_type": "text"
      },
      "source": [
        "<a href=\"https://colab.research.google.com/github/alfinmaulani/skripsi/blob/master/w2v(preputama)2.ipynb\" target=\"_parent\"><img src=\"https://colab.research.google.com/assets/colab-badge.svg\" alt=\"Open In Colab\"/></a>"
      ]
    },
    {
      "cell_type": "code",
      "metadata": {
        "id": "ZleysLyWBLzR"
      },
      "source": [
        "import numpy as np\n",
        "import pandas as pd\n",
        "import io\n",
        "\n",
        "url = 'https://raw.githubusercontent.com/alfinmaulani/skripsi/master/dataisear(dokumen).csv'\n",
        "df = pd.read_csv(url)\n",
        "# df.iloc[:,1]\n",
        "\n",
        "\n",
        "#!pip install --upgrade gensim\n",
        "# from gensim.test.utils import common_texts\n",
        "from gensim.models import Word2Vec\n",
        "from gensim.models.word2vec import LineSentence\n",
        "from gensim.test.utils import datapath\n"
      ],
      "execution_count": 9,
      "outputs": []
    },
    {
      "cell_type": "code",
      "metadata": {
        "id": "gJoVWZ-aFHva",
        "colab": {
          "base_uri": "https://localhost:8080/",
          "height": 206
        },
        "outputId": "3b9df51a-6897-4606-f2cf-7757e1a2e116"
      },
      "source": [
        "df.head()"
      ],
      "execution_count": 10,
      "outputs": [
        {
          "output_type": "execute_result",
          "data": {
            "text/html": [
              "<div>\n",
              "<style scoped>\n",
              "    .dataframe tbody tr th:only-of-type {\n",
              "        vertical-align: middle;\n",
              "    }\n",
              "\n",
              "    .dataframe tbody tr th {\n",
              "        vertical-align: top;\n",
              "    }\n",
              "\n",
              "    .dataframe thead th {\n",
              "        text-align: right;\n",
              "    }\n",
              "</style>\n",
              "<table border=\"1\" class=\"dataframe\">\n",
              "  <thead>\n",
              "    <tr style=\"text-align: right;\">\n",
              "      <th></th>\n",
              "      <th>dokumen</th>\n",
              "    </tr>\n",
              "  </thead>\n",
              "  <tbody>\n",
              "    <tr>\n",
              "      <th>0</th>\n",
              "      <td>on days when i feel close to my partner and ot...</td>\n",
              "    </tr>\n",
              "    <tr>\n",
              "      <th>1</th>\n",
              "      <td>every time i imagine that someone i love or i ...</td>\n",
              "    </tr>\n",
              "    <tr>\n",
              "      <th>2</th>\n",
              "      <td>when i had been obviously unjustly treated and...</td>\n",
              "    </tr>\n",
              "    <tr>\n",
              "      <th>3</th>\n",
              "      <td>when i think about the short time that we live...</td>\n",
              "    </tr>\n",
              "    <tr>\n",
              "      <th>4</th>\n",
              "      <td>at a gathering i found myself involuntarily si...</td>\n",
              "    </tr>\n",
              "  </tbody>\n",
              "</table>\n",
              "</div>"
            ],
            "text/plain": [
              "                                             dokumen\n",
              "0  on days when i feel close to my partner and ot...\n",
              "1  every time i imagine that someone i love or i ...\n",
              "2  when i had been obviously unjustly treated and...\n",
              "3  when i think about the short time that we live...\n",
              "4  at a gathering i found myself involuntarily si..."
            ]
          },
          "metadata": {},
          "execution_count": 10
        }
      ]
    },
    {
      "cell_type": "code",
      "metadata": {
        "id": "TmfiEQr4XUrO"
      },
      "source": [
        "sentences = LineSentence(url)"
      ],
      "execution_count": 11,
      "outputs": []
    },
    {
      "cell_type": "code",
      "metadata": {
        "colab": {
          "base_uri": "https://localhost:8080/"
        },
        "id": "dNKgx8OVEXpF",
        "outputId": "96e35e52-5b56-4cf8-a4aa-8b1e98a95444"
      },
      "source": [
        "print(sentences)\n",
        "# sentences"
      ],
      "execution_count": 12,
      "outputs": [
        {
          "output_type": "stream",
          "name": "stdout",
          "text": [
            "<gensim.models.word2vec.LineSentence object at 0x7fc1da655c90>\n"
          ]
        }
      ]
    },
    {
      "cell_type": "code",
      "metadata": {
        "id": "6bmRGPjmD_U-"
      },
      "source": [
        "w2v = Word2Vec(sentences, window=5, min_count=1, workers=4)\n",
        "# id_w2v = Word2vec Word2vec (sentences, size=100, workers=multiprocessing.cpu_count() 1)\n",
        "# model.save(\"word2vec.model\")"
      ],
      "execution_count": 13,
      "outputs": []
    },
    {
      "cell_type": "code",
      "metadata": {
        "id": "mfoBbSmYbwuC"
      },
      "source": [
        "words=w2v.wv.vocab\n",
        "# words"
      ],
      "execution_count": 14,
      "outputs": []
    },
    {
      "cell_type": "code",
      "metadata": {
        "id": "GYCnjvh3cedu",
        "colab": {
          "base_uri": "https://localhost:8080/"
        },
        "outputId": "3df1ea61-2960-419a-899f-944b2b11ff3d"
      },
      "source": [
        "w1=w2v.wv[\"moment\"]\n",
        "print(w1)"
      ],
      "execution_count": 15,
      "outputs": [
        {
          "output_type": "stream",
          "name": "stdout",
          "text": [
            "[-0.13674608  0.15330586  0.12287804 -0.02218869 -0.03867317 -0.01567825\n",
            "  0.18657157  0.00483812 -0.08314389 -0.3522412   0.02650157 -0.12782978\n",
            " -0.2175783   0.0483261  -0.02628935 -0.05918876 -0.07926243 -0.11122691\n",
            " -0.19533426 -0.03313478 -0.11282252  0.22821826 -0.05035606  0.13128749\n",
            " -0.0208461   0.17763099 -0.0009371   0.13731217  0.33228865  0.03329263\n",
            "  0.32254493  0.1365303   0.12251297  0.1885822   0.05491142 -0.21905327\n",
            " -0.0572724   0.11558171 -0.1474155   0.07505737  0.3036899  -0.18902668\n",
            " -0.16197893  0.18262225 -0.2686954  -0.313048   -0.05125001  0.2526531\n",
            " -0.04937948  0.41196427 -0.19085708 -0.06963842 -0.22959656 -0.27967635\n",
            " -0.22511122 -0.17763816  0.01033688  0.11041404 -0.00503243  0.28486523\n",
            "  0.18844882 -0.26080656  0.31206003  0.23573638  0.09613326 -0.03601671\n",
            "  0.15866712  0.13909842  0.10784646  0.24719556  0.30945635 -0.25709397\n",
            " -0.1674907  -0.19289465  0.01818696  0.08762166 -0.20191406 -0.31218413\n",
            " -0.28549814 -0.09778075 -0.06879475 -0.16048513  0.18768078 -0.3131952\n",
            " -0.12590894  0.00687112  0.15644482  0.11153982 -0.07481723 -0.05207179\n",
            "  0.12906982 -0.01890103  0.30354428 -0.0787449  -0.02564786 -0.00806813\n",
            " -0.06834727 -0.06092636 -0.26657635 -0.37491092]\n"
          ]
        }
      ]
    },
    {
      "cell_type": "code",
      "metadata": {
        "id": "3oGjKRW1Cm0I"
      },
      "source": [
        "w2v.save('w2v(non).model')"
      ],
      "execution_count": 16,
      "outputs": []
    }
  ]
}