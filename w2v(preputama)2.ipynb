{
  "nbformat": 4,
  "nbformat_minor": 0,
  "metadata": {
    "colab": {
      "name": "preutamaw2v.ipynb",
      "provenance": [],
      "authorship_tag": "ABX9TyP8oTCpj6tbXXRvh4PpMJVl",
      "include_colab_link": true
    },
    "kernelspec": {
      "name": "python3",
      "display_name": "Python 3"
    },
    "language_info": {
      "name": "python"
    }
  },
  "cells": [
    {
      "cell_type": "markdown",
      "metadata": {
        "id": "view-in-github",
        "colab_type": "text"
      },
      "source": [
        "<a href=\"https://colab.research.google.com/github/alfinmaulani/skripsi/blob/master/w2v(preputama)2.ipynb\" target=\"_parent\"><img src=\"https://colab.research.google.com/assets/colab-badge.svg\" alt=\"Open In Colab\"/></a>"
      ]
    },
    {
      "cell_type": "code",
      "metadata": {
        "id": "ZleysLyWBLzR"
      },
      "source": [
        "import numpy as np\n",
        "import pandas as pd\n",
        "import io\n",
        "\n",
        "url = 'https://raw.githubusercontent.com/alfinmaulani/skripsi/master/dataisear(dokumen).csv'\n",
        "df = pd.read_csv(url)\n",
        "# df.iloc[:,1]\n",
        "\n",
        "\n",
        "#!pip install --upgrade gensim\n",
        "# from gensim.test.utils import common_texts\n",
        "from gensim.models import Word2Vec\n",
        "from gensim.models.word2vec import LineSentence\n",
        "from gensim.test.utils import datapath\n"
      ],
      "execution_count": 21,
      "outputs": []
    },
    {
      "cell_type": "code",
      "metadata": {
        "id": "gJoVWZ-aFHva",
        "outputId": "637cc51c-ed28-4ea4-fb2b-19ae1bc32811",
        "colab": {
          "base_uri": "https://localhost:8080/",
          "height": 224
        }
      },
      "source": [
        "df.head()"
      ],
      "execution_count": 22,
      "outputs": [
        {
          "output_type": "execute_result",
          "data": {
            "text/html": [
              "<div>\n",
              "<style scoped>\n",
              "    .dataframe tbody tr th:only-of-type {\n",
              "        vertical-align: middle;\n",
              "    }\n",
              "\n",
              "    .dataframe tbody tr th {\n",
              "        vertical-align: top;\n",
              "    }\n",
              "\n",
              "    .dataframe thead th {\n",
              "        text-align: right;\n",
              "    }\n",
              "</style>\n",
              "<table border=\"1\" class=\"dataframe\">\n",
              "  <thead>\n",
              "    <tr style=\"text-align: right;\">\n",
              "      <th></th>\n",
              "      <th>on days when i feel close to my partner and other friends when i feel at peace with myself and also experience a close contact with people whom i regard greatly</th>\n",
              "    </tr>\n",
              "  </thead>\n",
              "  <tbody>\n",
              "    <tr>\n",
              "      <th>0</th>\n",
              "      <td>every time i imagine that someone i love or i ...</td>\n",
              "    </tr>\n",
              "    <tr>\n",
              "      <th>1</th>\n",
              "      <td>when i had been obviously unjustly treated and...</td>\n",
              "    </tr>\n",
              "    <tr>\n",
              "      <th>2</th>\n",
              "      <td>when i think about the short time that we live...</td>\n",
              "    </tr>\n",
              "    <tr>\n",
              "      <th>3</th>\n",
              "      <td>at a gathering i found myself involuntarily si...</td>\n",
              "    </tr>\n",
              "    <tr>\n",
              "      <th>4</th>\n",
              "      <td>when i realized that i was directing the feeli...</td>\n",
              "    </tr>\n",
              "  </tbody>\n",
              "</table>\n",
              "</div>"
            ],
            "text/plain": [
              "  on days when i feel close to my partner and other friends when i feel at peace with myself and also experience a close contact with people whom i regard greatly\n",
              "0  every time i imagine that someone i love or i ...                                                                                                              \n",
              "1  when i had been obviously unjustly treated and...                                                                                                              \n",
              "2  when i think about the short time that we live...                                                                                                              \n",
              "3  at a gathering i found myself involuntarily si...                                                                                                              \n",
              "4  when i realized that i was directing the feeli...                                                                                                              "
            ]
          },
          "metadata": {},
          "execution_count": 22
        }
      ]
    },
    {
      "cell_type": "code",
      "metadata": {
        "id": "TmfiEQr4XUrO"
      },
      "source": [
        "sentences = LineSentence(url)"
      ],
      "execution_count": 23,
      "outputs": []
    },
    {
      "cell_type": "code",
      "metadata": {
        "colab": {
          "base_uri": "https://localhost:8080/"
        },
        "id": "dNKgx8OVEXpF",
        "outputId": "0a2ba744-2d91-4a3c-a1a6-a614e9de2990"
      },
      "source": [
        "print(sentences)\n",
        "# sentences"
      ],
      "execution_count": 24,
      "outputs": [
        {
          "output_type": "stream",
          "name": "stdout",
          "text": [
            "<gensim.models.word2vec.LineSentence object at 0x7f40821d2b10>\n"
          ]
        }
      ]
    },
    {
      "cell_type": "code",
      "metadata": {
        "id": "6bmRGPjmD_U-"
      },
      "source": [
        "w2v = Word2Vec(sentences, window=5, min_count=1, workers=4)\n",
        "# id_w2v = Word2vec Word2vec (sentences, size=100, workers=multiprocessing.cpu_count() 1)\n",
        "# model.save(\"word2vec.model\")"
      ],
      "execution_count": 25,
      "outputs": []
    },
    {
      "cell_type": "code",
      "metadata": {
        "id": "mfoBbSmYbwuC"
      },
      "source": [
        "words=w2v.wv.vocab\n",
        "# words"
      ],
      "execution_count": 26,
      "outputs": []
    },
    {
      "cell_type": "code",
      "metadata": {
        "id": "GYCnjvh3cedu",
        "colab": {
          "base_uri": "https://localhost:8080/"
        },
        "outputId": "ecab3665-6e8e-4fba-f3e5-396b7769d35f"
      },
      "source": [
        "w1=w2v.wv[\"moment\"]\n",
        "print(w1)"
      ],
      "execution_count": 27,
      "outputs": [
        {
          "output_type": "stream",
          "name": "stdout",
          "text": [
            "[-4.90287691e-02 -2.35475767e-02  1.07285447e-01 -3.94307710e-02\n",
            " -4.47063372e-02  2.73589697e-02  3.42509717e-01 -7.65183493e-02\n",
            "  6.65260628e-02 -7.03778937e-02  3.04884344e-01  7.72224143e-02\n",
            "  1.83203429e-01 -1.16856597e-01  1.89625487e-01  1.67187691e-01\n",
            "  1.71919033e-01  1.00955375e-01 -2.95095295e-01  1.62326545e-01\n",
            "  1.79778308e-01  7.64896721e-02 -1.86327472e-02 -1.50749728e-01\n",
            "  7.52565218e-03 -1.90579787e-01  2.86417007e-01  5.44848070e-02\n",
            "  1.70536280e-01  4.11039367e-02 -2.93637425e-01  3.53347272e-01\n",
            " -1.60808578e-01 -1.85470089e-01 -1.26838118e-01 -4.10529792e-01\n",
            " -1.68113604e-01  1.81511313e-01  8.12608972e-02  5.42453708e-05\n",
            "  3.00174922e-01 -1.04601517e-01 -3.07277832e-02  1.49009168e-01\n",
            "  4.15695943e-02 -1.97779581e-01 -1.80830479e-01  1.29242912e-01\n",
            "  2.65174985e-01  1.97687075e-01  1.61140740e-01 -1.30270580e-02\n",
            " -1.93921119e-01 -1.38149992e-01 -3.30905944e-01  9.74971205e-02\n",
            " -3.38122755e-01 -2.58667260e-01  1.09845027e-01 -2.71691829e-01\n",
            "  1.05544329e-01 -7.43058175e-02 -1.27997592e-01 -1.52155444e-01\n",
            " -4.39036712e-02  2.97383457e-01  2.83364624e-01 -1.32872567e-01\n",
            " -2.40693823e-01  1.25321791e-01  2.38758460e-01 -1.66622564e-01\n",
            "  6.21905364e-02  6.95293546e-02 -2.78755009e-01  3.04106176e-01\n",
            "  2.32799888e-01  1.67250261e-01  9.01977122e-02  9.98686701e-02\n",
            " -3.30160744e-02 -4.04739380e-01  3.46088588e-01  2.37942580e-02\n",
            " -8.75367820e-02 -2.35298648e-01 -6.06696960e-03 -2.25716177e-02\n",
            " -1.52975162e-02 -3.43367481e-03 -6.71911240e-02 -1.28762126e-01\n",
            "  1.80613473e-01  2.06990596e-02 -3.90739471e-01 -2.25053027e-01\n",
            " -2.00919151e-01  3.33662510e-01 -2.49055419e-02 -3.47295493e-01]\n"
          ]
        }
      ]
    },
    {
      "cell_type": "code",
      "metadata": {
        "id": "3oGjKRW1Cm0I"
      },
      "source": [
        "w2v.save('w2v(non).model')"
      ],
      "execution_count": 28,
      "outputs": []
    }
  ]
}