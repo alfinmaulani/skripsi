{
  "nbformat": 4,
  "nbformat_minor": 0,
  "metadata": {
    "colab": {
      "name": "preutamaw2v.ipynb",
      "provenance": [],
      "authorship_tag": "ABX9TyN7A/zDiMDBMZToLoJcj4QY",
      "include_colab_link": true
    },
    "kernelspec": {
      "name": "python3",
      "display_name": "Python 3"
    },
    "language_info": {
      "name": "python"
    }
  },
  "cells": [
    {
      "cell_type": "markdown",
      "metadata": {
        "id": "view-in-github",
        "colab_type": "text"
      },
      "source": [
        "<a href=\"https://colab.research.google.com/github/alfinmaulani/skripsi/blob/master/w2v(preputama)2.ipynb\" target=\"_parent\"><img src=\"https://colab.research.google.com/assets/colab-badge.svg\" alt=\"Open In Colab\"/></a>"
      ]
    },
    {
      "cell_type": "code",
      "metadata": {
        "id": "ZleysLyWBLzR"
      },
      "source": [
        "import numpy as np\n",
        "import pandas as pd\n",
        "import io\n",
        "\n",
        "url = 'https://raw.githubusercontent.com/alfinmaulani/skripsi/master/dataisear(dokumen).csv'\n",
        "# df = pd.read_csv(url)\n",
        "# df.iloc[:,1]\n",
        "\n",
        "\n",
        "#!pip install --upgrade gensim\n",
        "# from gensim.test.utils import common_texts\n",
        "from gensim.models import Word2Vec\n",
        "from gensim.models.word2vec import LineSentence\n",
        "from gensim.test.utils import datapath\n"
      ],
      "execution_count": 1,
      "outputs": []
    },
    {
      "cell_type": "code",
      "metadata": {
        "id": "TmfiEQr4XUrO"
      },
      "source": [
        "sentences = LineSentence(url)"
      ],
      "execution_count": 7,
      "outputs": []
    },
    {
      "cell_type": "code",
      "metadata": {
        "id": "dNKgx8OVEXpF",
        "outputId": "74283ef9-15dd-4b49-8f4b-409e98551406",
        "colab": {
          "base_uri": "https://localhost:8080/"
        }
      },
      "source": [
        "print(sentences)\n",
        "# sentences"
      ],
      "execution_count": 6,
      "outputs": [
        {
          "output_type": "stream",
          "name": "stdout",
          "text": [
            "<gensim.models.word2vec.LineSentence object at 0x7f4082c091d0>\n"
          ]
        }
      ]
    },
    {
      "cell_type": "code",
      "metadata": {
        "id": "6bmRGPjmD_U-"
      },
      "source": [
        "w2v = Word2Vec(sentences, window=5, min_count=1, workers=4)\n",
        "# id_w2v = Word2vec Word2vec (sentences, size=100, workers=multiprocessing.cpu_count() 1)\n",
        "# model.save(\"word2vec.model\")"
      ],
      "execution_count": null,
      "outputs": []
    },
    {
      "cell_type": "code",
      "metadata": {
        "id": "mfoBbSmYbwuC"
      },
      "source": [
        "words=w2v.wv.vocab\n",
        "# words"
      ],
      "execution_count": null,
      "outputs": []
    },
    {
      "cell_type": "code",
      "metadata": {
        "id": "GYCnjvh3cedu",
        "colab": {
          "base_uri": "https://localhost:8080/"
        },
        "outputId": "47f1dfe7-2ee6-438a-b107-c6ebd66ed9db"
      },
      "source": [
        "w1=w2v.wv[\"moment\"]\n",
        "print(w1)"
      ],
      "execution_count": null,
      "outputs": [
        {
          "output_type": "stream",
          "name": "stdout",
          "text": [
            "[-0.35838214  0.2884352  -0.15503651 -0.00355601  0.04057793 -0.22667651\n",
            "  0.10298466 -0.03112014  0.10580429  0.00069061 -0.03405802 -0.08702156\n",
            "  0.09407973  0.16179101  0.06966323 -0.21424274  0.08090118 -0.11435937\n",
            "  0.07996418  0.2129685  -0.13921668 -0.12517494 -0.12515685 -0.20229885\n",
            " -0.08820613  0.04822283 -0.29273537  0.01204859 -0.31943005 -0.39992005\n",
            " -0.08305116 -0.24412163 -0.13248129  0.19205314 -0.04905923  0.05621328\n",
            "  0.22341956 -0.27084765  0.04588524 -0.33801332 -0.03866234  0.24164733\n",
            " -0.417127   -0.00169468 -0.08539547 -0.03872937  0.14930043 -0.04330186\n",
            " -0.13059492  0.01391691  0.38167635 -0.19113056  0.28297123  0.01894435\n",
            "  0.18038915 -0.19442038  0.25442412  0.14950413  0.21948741  0.05574213\n",
            " -0.06914251 -0.5814384  -0.16060396 -0.02823639 -0.22299261 -0.09891535\n",
            " -0.3359385  -0.02559913 -0.13992985 -0.05597627 -0.24964492  0.26803273\n",
            " -0.04786096  0.15343258 -0.06042824  0.15815902  0.29447597  0.33727255\n",
            "  0.11961062 -0.06438447  0.00641037  0.19803895 -0.07878256 -0.14573959\n",
            "  0.28567433 -0.22946575 -0.08137107  0.3294117   0.25959322 -0.03933502\n",
            " -0.07692121  0.23003085  0.0488618  -0.07763167  0.03834388  0.00800042\n",
            "  0.06919195  0.042985    0.10565713 -0.33532587]\n"
          ]
        }
      ]
    },
    {
      "cell_type": "code",
      "metadata": {
        "id": "3oGjKRW1Cm0I"
      },
      "source": [
        "w2v.save('w2v(non).model')"
      ],
      "execution_count": null,
      "outputs": []
    }
  ]
}