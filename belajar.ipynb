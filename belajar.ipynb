{
  "nbformat": 4,
  "nbformat_minor": 0,
  "metadata": {
    "colab": {
      "name": "belajar.ipynb",
      "provenance": [],
      "authorship_tag": "ABX9TyMcQaRytUYlc8UkRi+ztNvu",
      "include_colab_link": true
    },
    "kernelspec": {
      "name": "python3",
      "display_name": "Python 3"
    },
    "language_info": {
      "name": "python"
    }
  },
  "cells": [
    {
      "cell_type": "markdown",
      "metadata": {
        "id": "view-in-github",
        "colab_type": "text"
      },
      "source": [
        "<a href=\"https://colab.research.google.com/github/alfinmaulani/skripsi/blob/master/belajar.ipynb\" target=\"_parent\"><img src=\"https://colab.research.google.com/assets/colab-badge.svg\" alt=\"Open In Colab\"/></a>"
      ]
    },
    {
      "cell_type": "code",
      "metadata": {
        "id": "tbargeYm7wE-"
      },
      "source": [
        "import re\n",
        "import csv\n",
        "import numpy as np\n",
        "import gensim\n",
        "import pandas as pd"
      ],
      "execution_count": null,
      "outputs": []
    },
    {
      "cell_type": "code",
      "metadata": {
        "id": "KoNMK0og7496"
      },
      "source": [
        "def tes(x):\n",
        "  hasil =x*x\n",
        "  return hasil\n",
        "tes(7)\n",
        "\n",
        "def same_initial(wd1, wd2):\n",
        "        \"\"\"Tests if two words start with the same character,  \n",
        "        and returns True/False. Case distinction is ignored.\"\"\" \n",
        "        if wd1[0].lower() == wd2[0].lower(): \n",
        "            return wd1[0]\n",
        "        else: \n",
        "            return wd2\n",
        "\n",
        "help(same_initial)\n",
        "\n",
        "print(tes(7))\n",
        "\n",
        "same_initial('apple', 'orange')\n",
        "\n",
        "print(same_initial('Annie', 'apple'))\n",
        "\n",
        "print(same_initial('apple', 'orange'))\n",
        "\n",
        "\n",
        "def in_both(wd1, wd2):\n",
        "        \"Takes two strings, returns a sorted list of common characters\" \n",
        "        common = []\n",
        "        for c in wd1:\n",
        "            if c in wd2:\n",
        "                common.append(c)\t\t\t\n",
        "        return sorted(common)\n",
        "\n",
        "print(in_both('pear', 'apple'))\n",
        "\n",
        "in_both('linguistics', 'economics')"
      ],
      "execution_count": null,
      "outputs": []
    },
    {
      "cell_type": "code",
      "metadata": {
        "id": "ADl9QyH8754j"
      },
      "source": [
        "#function returnining\n",
        "def get_ing(wd):\n",
        "  # print(wd)\n",
        "  return wd + 'ing'\n",
        "\n",
        "#funtion void\n",
        "def print_ing(wd):\n",
        "        print(wd + 'ing')\n",
        "\n",
        "#return output\n",
        "print_ing('walk')\n",
        "#return value\n",
        "get_ing('sing')\n"
      ],
      "execution_count": null,
      "outputs": []
    }
  ]
}