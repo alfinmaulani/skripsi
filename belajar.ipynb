{
  "nbformat": 4,
  "nbformat_minor": 0,
  "metadata": {
    "colab": {
      "name": "belajar.ipynb",
      "provenance": [],
      "authorship_tag": "ABX9TyMJ0cYtsuaXuU1Z5AB7qr7Q",
      "include_colab_link": true
    },
    "kernelspec": {
      "name": "python3",
      "display_name": "Python 3"
    },
    "language_info": {
      "name": "python"
    }
  },
  "cells": [
    {
      "cell_type": "markdown",
      "metadata": {
        "id": "view-in-github",
        "colab_type": "text"
      },
      "source": [
        "<a href=\"https://colab.research.google.com/github/alfinmaulani/skripsi/blob/master/belajar.ipynb\" target=\"_parent\"><img src=\"https://colab.research.google.com/assets/colab-badge.svg\" alt=\"Open In Colab\"/></a>"
      ]
    },
    {
      "cell_type": "code",
      "metadata": {
        "id": "tbargeYm7wE-"
      },
      "source": [
        "import re\n",
        "import csv\n",
        "import numpy as np\n",
        "import gensim\n",
        "import pandas as pd\n",
        "import io\n",
        "\n",
        "#upload dari komputer\n",
        "#from google.colab import files\n",
        "#uploaded = files.upload()\n",
        "#datem = pd.read_csv(io.BytesIO(uploaded['dataISEAR.csv']))\n",
        "\n",
        "#dari github\n",
        "url = 'https://raw.githubusercontent.com/alfinmaulani/skripsi/master/dataISEAR.csv'\n",
        "df = pd.read_csv(url)\n",
        "# df[df.iloc[:,2].notnull()]\n",
        "# df = df.loc[:, ~df.columns.str.contains('^Unnamed')]"
      ],
      "execution_count": 4,
      "outputs": []
    },
    {
      "cell_type": "code",
      "metadata": {
        "colab": {
          "base_uri": "https://localhost:8080/"
        },
        "id": "5dGxbdls8ql9",
        "outputId": "1bebc4f2-266b-4c58-97c5-465a1beff4e9"
      },
      "source": [
        "df.head()\n",
        "df.iloc[4,0]\n",
        "df['dokumen'].values"
      ],
      "execution_count": null,
      "outputs": [
        {
          "output_type": "execute_result",
          "data": {
            "text/plain": [
              "array(['On days when I feel close to my partner and other friends.   \\nWhen I feel at peace with myself and also experience a close  \\ncontact with people whom I regard greatly.',\n",
              "       'Every time I imagine that someone I love or I could contact a  \\nserious illness, even death.',\n",
              "       'When I had been obviously unjustly treated and had no possibility  \\nof elucidating this.',\n",
              "       ...,\n",
              "       'I was at home and I heard a loud sound of spitting outside the  \\ndoor.  I thought that one of my family members would step on the spit  \\nand bring the germs in the house.',\n",
              "       'I did not do the homework that the teacher had asked us to do.  I  \\nwas scolded immediately.',\n",
              "       'I had shouted at my younger brother and he was always afraid when  \\nI called out loudly.'],\n",
              "      dtype=object)"
            ]
          },
          "metadata": {},
          "execution_count": 2
        }
      ]
    },
    {
      "cell_type": "code",
      "metadata": {
        "id": "vufL7Qie87ib"
      },
      "source": [
        "#print(df.head())\n",
        "\n",
        "#print(df.columns)\n",
        "\n",
        "#print(df[['dokumen','emosi']][0:5])\n",
        "\n",
        "#print(df.iloc[3:4])\n",
        "#[dari:sampai]\n",
        "\n",
        "#print(df.iloc[5,0])\n",
        "#[baris,kolom]\n",
        "\n",
        "#sc leower case\n",
        "df['dokumen']=df['dokumen'].str.lower()\n",
        "print(df.iloc[4,1])\n",
        "# df.iloc[4,1]"
      ],
      "execution_count": null,
      "outputs": []
    },
    {
      "cell_type": "code",
      "metadata": {
        "id": "qwFUcgAG9NY4"
      },
      "source": [
        "# coba='tes ssssssssssssssssssssssssssssssssssssssssssssssssss sssssssssssssssssssssssssssssssssssssssssssssssssssssss sssssssssssssssssssssss ssss'\n",
        "# print(coba)\n",
        "# print(coba.replace('tes', 'uhuy'))\n",
        "# coba=coba.replace('tes', 'uhuy')\n",
        "# print(coba)\n",
        "#df['dokumen']\n",
        "#precleaning hapus enter dan space berlebih\n",
        "df=df.replace(' \\n', ' ', regex=True)\n",
        "df=df.replace('   ', ' ', regex=True)\n",
        "df=df.replace('  ', ' ', regex=True)\n",
        "df.iloc[0,1]\n",
        "#df['dokumen']"
      ],
      "execution_count": null,
      "outputs": []
    },
    {
      "cell_type": "code",
      "metadata": {
        "colab": {
          "base_uri": "https://localhost:8080/"
        },
        "id": "KoNMK0og7496",
        "outputId": "37f84a8e-29e9-44a9-f75c-19d7b6ce69c7"
      },
      "source": [
        "def tes(x):\n",
        "  hasil =x*x\n",
        "  return hasil\n",
        "tes(7)\n",
        "\n",
        "def same_initial(wd1, wd2):\n",
        "        \"\"\"Tests if two words start with the same character,  \n",
        "        and returns True/False. Case distinction is ignored.\"\"\" \n",
        "        if wd1[0].lower() == wd2[0].lower(): \n",
        "            return wd1[0]\n",
        "        else: \n",
        "            return wd2\n",
        "\n",
        "help(same_initial)\n",
        "\n",
        "print(tes(7))\n",
        "\n",
        "same_initial('apple', 'orange')\n",
        "\n",
        "print(same_initial('Annie', 'apple'))\n",
        "\n",
        "print(same_initial('apple', 'orange'))\n",
        "\n",
        "\n",
        "def in_both(wd1, wd2):\n",
        "        \"Takes two strings, returns a sorted list of common characters\" \n",
        "        common = []\n",
        "        for c in wd1:\n",
        "            if c in wd2:\n",
        "                common.append(c)\t\t\t\n",
        "        return sorted(common)\n",
        "\n",
        "print(in_both('pear', 'apple'))\n",
        "\n",
        "in_both('linguistics', 'economics')"
      ],
      "execution_count": null,
      "outputs": [
        {
          "output_type": "stream",
          "name": "stdout",
          "text": [
            "Help on function same_initial in module __main__:\n",
            "\n",
            "same_initial(wd1, wd2)\n",
            "    Tests if two words start with the same character,  \n",
            "    and returns True/False. Case distinction is ignored.\n",
            "\n",
            "49\n",
            "A\n",
            "orange\n",
            "['a', 'e', 'p']\n"
          ]
        },
        {
          "output_type": "execute_result",
          "data": {
            "text/plain": [
              "['c', 'i', 'i', 'i', 'n', 's', 's']"
            ]
          },
          "metadata": {},
          "execution_count": 3
        }
      ]
    },
    {
      "cell_type": "code",
      "metadata": {
        "colab": {
          "base_uri": "https://localhost:8080/",
          "height": 54
        },
        "id": "ADl9QyH8754j",
        "outputId": "f549c704-0130-4701-ccb0-748c517a4cda"
      },
      "source": [
        "#function returnining\n",
        "def get_ing(wd):\n",
        "  # print(wd)\n",
        "  return wd + 'ing'\n",
        "\n",
        "#funtion void\n",
        "def print_ing(wd):\n",
        "        print(wd + 'ing')\n",
        "\n",
        "#return output\n",
        "print_ing('walk')\n",
        "#return value\n",
        "get_ing('sing')\n"
      ],
      "execution_count": null,
      "outputs": [
        {
          "output_type": "stream",
          "name": "stdout",
          "text": [
            "walking\n"
          ]
        },
        {
          "output_type": "execute_result",
          "data": {
            "application/vnd.google.colaboratory.intrinsic+json": {
              "type": "string"
            },
            "text/plain": [
              "'singing'"
            ]
          },
          "metadata": {},
          "execution_count": 4
        }
      ]
    },
    {
      "cell_type": "markdown",
      "metadata": {
        "id": "-rd25QKqgk-K"
      },
      "source": [
        "list"
      ]
    },
    {
      "cell_type": "code",
      "metadata": {
        "id": "Oc2vvY7kgjSR",
        "outputId": "49afdcbf-1c17-4860-9eba-560c9b0cfe2c",
        "colab": {
          "base_uri": "https://localhost:8080/"
        }
      },
      "source": [
        "thislist = [\"apple\", \"banana\", \"cherry\"]\n",
        "print(thislist)"
      ],
      "execution_count": 1,
      "outputs": [
        {
          "output_type": "stream",
          "name": "stdout",
          "text": [
            "['apple', 'banana', 'cherry']\n"
          ]
        }
      ]
    },
    {
      "cell_type": "code",
      "metadata": {
        "id": "DhsO_EXHhJQp",
        "outputId": "baee7a86-5690-4ecc-d7af-bed7127dacd0",
        "colab": {
          "base_uri": "https://localhost:8080/"
        }
      },
      "source": [
        "thislist = [\"apple\", \"banana\", \"cherry\", \"apple\", \"cherry\"]\n",
        "print(thislist)"
      ],
      "execution_count": 2,
      "outputs": [
        {
          "output_type": "stream",
          "name": "stdout",
          "text": [
            "['apple', 'banana', 'cherry', 'apple', 'cherry']\n"
          ]
        }
      ]
    },
    {
      "cell_type": "code",
      "metadata": {
        "id": "Z34R5piOhYXM",
        "outputId": "e6cb4c07-f010-4104-abdd-b7bafb57d3dc",
        "colab": {
          "base_uri": "https://localhost:8080/"
        }
      },
      "source": [
        "thislist = list((\"apple\", \"banana\", \"cherry\")) # note the double round-brackets\n",
        "print(thislist)"
      ],
      "execution_count": 3,
      "outputs": [
        {
          "output_type": "stream",
          "name": "stdout",
          "text": [
            "['apple', 'banana', 'cherry']\n"
          ]
        }
      ]
    },
    {
      "cell_type": "code",
      "metadata": {
        "id": "qItIfidZhezL",
        "outputId": "2d61a6f7-d463-4a6c-e243-ad5c096aade9",
        "colab": {
          "base_uri": "https://localhost:8080/"
        }
      },
      "source": [
        "data=list(df)\n",
        "print(data)"
      ],
      "execution_count": 6,
      "outputs": [
        {
          "output_type": "stream",
          "name": "stdout",
          "text": [
            "['emosi', 'dokumen', 'Unnamed: 2']\n"
          ]
        }
      ]
    }
  ]
}