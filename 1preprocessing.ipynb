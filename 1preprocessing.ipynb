{
  "nbformat": 4,
  "nbformat_minor": 0,
  "metadata": {
    "colab": {
      "name": "preprocessing.ipynb",
      "provenance": [],
      "mount_file_id": "https://github.com/alfinmaulani/skripsi/blob/master/1preprocessing.ipynb",
      "authorship_tag": "ABX9TyO/SPm2yXQILqovSHsRltkh",
      "include_colab_link": true
    },
    "kernelspec": {
      "name": "python3",
      "display_name": "Python 3"
    },
    "language_info": {
      "name": "python"
    }
  },
  "cells": [
    {
      "cell_type": "markdown",
      "metadata": {
        "id": "view-in-github",
        "colab_type": "text"
      },
      "source": [
        "<a href=\"https://colab.research.google.com/github/alfinmaulani/skripsi/blob/master/1preprocessing.ipynb\" target=\"_parent\"><img src=\"https://colab.research.google.com/assets/colab-badge.svg\" alt=\"Open In Colab\"/></a>"
      ]
    },
    {
      "cell_type": "code",
      "metadata": {
        "colab": {
          "base_uri": "https://localhost:8080/"
        },
        "id": "ci3dfx-9C_ji",
        "outputId": "9b3b2b65-e1ba-4074-fb83-11aff1e04d5d"
      },
      "source": [
        "import numpy as np\n",
        "import pandas as pd\n",
        "import io\n",
        "import os\n",
        "from nltk.tokenize import word_tokenize\n",
        "import nltk\n",
        "nltk.download('punkt')"
      ],
      "execution_count": 199,
      "outputs": [
        {
          "output_type": "stream",
          "name": "stdout",
          "text": [
            "[nltk_data] Downloading package punkt to /root/nltk_data...\n",
            "[nltk_data]   Package punkt is already up-to-date!\n"
          ]
        },
        {
          "output_type": "execute_result",
          "data": {
            "text/plain": [
              "True"
            ]
          },
          "metadata": {},
          "execution_count": 199
        }
      ]
    },
    {
      "cell_type": "code",
      "metadata": {
        "id": "VEL_vr3qwbvB"
      },
      "source": [
        "# pd.set_option('display.max_colwidth', None)"
      ],
      "execution_count": null,
      "outputs": []
    },
    {
      "cell_type": "code",
      "metadata": {
        "id": "-2hacXvT3mX8"
      },
      "source": [
        "url0='https://raw.githubusercontent.com/alfinmaulani/skripsi/master/dataISEAR.csv'\n",
        "urlmin='https://raw.githubusercontent.com/alfinmaulani/skripsi/master/dataisearmini.csv'\n",
        "df = pd.read_csv(url0)"
      ],
      "execution_count": 200,
      "outputs": []
    },
    {
      "cell_type": "code",
      "metadata": {
        "id": "4s6cPpmkEK98"
      },
      "source": [
        "# df[df['dokumen'].str.contains(\"i'm\")]"
      ],
      "execution_count": null,
      "outputs": []
    },
    {
      "cell_type": "code",
      "metadata": {
        "colab": {
          "base_uri": "https://localhost:8080/",
          "height": 54
        },
        "id": "w7xHiezBF40v",
        "outputId": "f7919ca9-1da2-4bf0-9f1f-5224b1900f90"
      },
      "source": [
        "# df.iloc[1502,1]"
      ],
      "execution_count": 80,
      "outputs": [
        {
          "output_type": "execute_result",
          "data": {
            "application/vnd.google.colaboratory.intrinsic+json": {
              "type": "string"
            },
            "text/plain": [
              "'eating too much i felt guilty afterwards because i knew i should not have overeaten as I am putting on too much weight.'"
            ]
          },
          "metadata": {},
          "execution_count": 80
        }
      ]
    },
    {
      "cell_type": "code",
      "metadata": {
        "colab": {
          "base_uri": "https://localhost:8080/"
        },
        "id": "ecmoGKcODIAZ",
        "outputId": "e5ff6cac-22cc-443a-f571-74f3e7579f26"
      },
      "source": [
        "df.emosi.value_counts()"
      ],
      "execution_count": 203,
      "outputs": [
        {
          "output_type": "execute_result",
          "data": {
            "text/plain": [
              "joy        1092\n",
              "sadness    1082\n",
              "anger      1079\n",
              "fear       1076\n",
              "shame      1071\n",
              "disgust    1066\n",
              "guilt      1050\n",
              "Name: emosi, dtype: int64"
            ]
          },
          "metadata": {},
          "execution_count": 203
        }
      ]
    },
    {
      "cell_type": "code",
      "metadata": {
        "id": "5APBEuD1Hw5H",
        "colab": {
          "base_uri": "https://localhost:8080/"
        },
        "outputId": "4dc6d205-62e2-4125-d6b7-e480f4e6d241"
      },
      "source": [
        "from google.colab import drive\n",
        "drive.mount('/content/drive')"
      ],
      "execution_count": null,
      "outputs": [
        {
          "output_type": "stream",
          "name": "stdout",
          "text": [
            "Drive already mounted at /content/drive; to attempt to forcibly remount, call drive.mount(\"/content/drive\", force_remount=True).\n"
          ]
        }
      ]
    },
    {
      "cell_type": "code",
      "metadata": {
        "id": "78BBpIJ2Rlrj"
      },
      "source": [
        "dfblog = pd.read_csv('/content/drive/MyDrive/korpusblogspertiga.csv')\n",
        "dfblog.rename(columns={\"text\":\"teks\"},inplace=True)"
      ],
      "execution_count": 204,
      "outputs": []
    },
    {
      "cell_type": "code",
      "metadata": {
        "id": "0GRBinzhRAs_"
      },
      "source": [
        "dfgab=pd.read_csv('/content/drive/MyDrive/korpusblognewstweet.csv')"
      ],
      "execution_count": null,
      "outputs": []
    },
    {
      "cell_type": "code",
      "metadata": {
        "id": "sNtvPjXBH3EY"
      },
      "source": [
        "dftwit = pd.read_csv('/content/drive/MyDrive/twitter_prosessed.csv')"
      ],
      "execution_count": null,
      "outputs": []
    },
    {
      "cell_type": "code",
      "metadata": {
        "id": "dJQ2WLfjHRWr"
      },
      "source": [
        "dftwit2 = pd.read_csv('/content/drive/MyDrive/cstwitter_prosessed.csv')"
      ],
      "execution_count": null,
      "outputs": []
    },
    {
      "cell_type": "code",
      "metadata": {
        "id": "Dzk74fea1tsg"
      },
      "source": [
        "df1 = pd.read_csv(url0)\n",
        "df1=df1.drop(df1[df1['emosi'] == 'joy'].sample(frac=1).index)\n",
        "df1=df1.drop(df1[df1['emosi'] == 'sadness'].sample(frac=1).index)\n",
        "df1=df1.drop(df1[df1['emosi'] == 'anger'].sample(frac=1).index)\n",
        "df1=df1.drop(df1[df1['emosi'] == 'fear'].sample(frac=1).index)\n",
        "df1=df1.drop(df1[df1['emosi'] == 'disgust'].sample(frac=1).index)"
      ],
      "execution_count": null,
      "outputs": []
    },
    {
      "cell_type": "code",
      "metadata": {
        "id": "MMa_pQzM4dQb"
      },
      "source": [
        "df2=pd.read_csv('https://raw.githubusercontent.com/alfinmaulani/skripsi/master/korpus2.txt', delimiter = \";\")\n",
        "df2.columns=['dok','tes']"
      ],
      "execution_count": null,
      "outputs": []
    },
    {
      "cell_type": "code",
      "metadata": {
        "id": "hlpBZNIA90g7"
      },
      "source": [
        "df3=pd.read_csv('https://raw.githubusercontent.com/alfinmaulani/skripsi/master/korpus3.csv')"
      ],
      "execution_count": null,
      "outputs": []
    },
    {
      "cell_type": "code",
      "metadata": {
        "id": "KUFbo1WTSp2S"
      },
      "source": [
        "df4=pd.read_csv('https://raw.githubusercontent.com/alfinmaulani/skripsi/master/korpus4.tsv', delimiter = \"\t\")\n",
        "df4.columns=['dok','num','code']"
      ],
      "execution_count": null,
      "outputs": []
    },
    {
      "cell_type": "code",
      "metadata": {
        "id": "aTtcjTDCa4QQ"
      },
      "source": [
        "df5=pd.read_csv('https://raw.githubusercontent.com/alfinmaulani/skripsi/master/twitter_prosessed2.csv')#bad"
      ],
      "execution_count": null,
      "outputs": []
    },
    {
      "cell_type": "code",
      "metadata": {
        "id": "-zQ0bincqHri"
      },
      "source": [
        "dfwiki = pd.read_csv('/content/drive/MyDrive/idwiki_new_lower2.txt', delimiter = \"\\t\")\n",
        "dfwiki.columns = [\"arti\"]"
      ],
      "execution_count": null,
      "outputs": []
    },
    {
      "cell_type": "code",
      "metadata": {
        "id": "O1bl3-ku96wm"
      },
      "source": [
        "# df4 = pd.read_csv('/content/drive/MyDrive/idwiki_new_lower2.txt', delimiter = \"\\t\")\n",
        "# df4.columns = [\"arti\"]"
      ],
      "execution_count": null,
      "outputs": []
    },
    {
      "cell_type": "markdown",
      "metadata": {
        "id": "2EpWZexEyv1v"
      },
      "source": [
        "persiapan corpus tambahan"
      ]
    },
    {
      "cell_type": "code",
      "metadata": {
        "id": "akKqMCydM_cp"
      },
      "source": [
        "final=[]"
      ],
      "execution_count": 205,
      "outputs": []
    },
    {
      "cell_type": "code",
      "metadata": {
        "id": "EE-0DNNCRvVg"
      },
      "source": [
        "final.extend(dfblog.teks)"
      ],
      "execution_count": 206,
      "outputs": []
    },
    {
      "cell_type": "code",
      "metadata": {
        "id": "foRO9OiuRxUn"
      },
      "source": [
        "final.extend(dfgab.teks)"
      ],
      "execution_count": null,
      "outputs": []
    },
    {
      "cell_type": "code",
      "metadata": {
        "id": "W7pNlgpBSvT3"
      },
      "source": [
        "final.extend(dftwit.tweet)"
      ],
      "execution_count": null,
      "outputs": []
    },
    {
      "cell_type": "code",
      "metadata": {
        "id": "jLVsQkwIHUXI"
      },
      "source": [
        "final.extend(dftwit2.teks)"
      ],
      "execution_count": null,
      "outputs": []
    },
    {
      "cell_type": "code",
      "metadata": {
        "id": "7-qhku9KYLvT"
      },
      "source": [
        "final.extend(dfwiki.arti)"
      ],
      "execution_count": null,
      "outputs": []
    },
    {
      "cell_type": "code",
      "metadata": {
        "id": "xhgrRcxoytWJ"
      },
      "source": [
        "final.extend(df1.dokumen)"
      ],
      "execution_count": null,
      "outputs": []
    },
    {
      "cell_type": "code",
      "metadata": {
        "id": "kFpOfINNWwQp"
      },
      "source": [
        "final.extend(df2.dok)"
      ],
      "execution_count": null,
      "outputs": []
    },
    {
      "cell_type": "code",
      "metadata": {
        "id": "7Ui9LGKtytkd"
      },
      "source": [
        "final.extend(df3.content)"
      ],
      "execution_count": null,
      "outputs": []
    },
    {
      "cell_type": "code",
      "metadata": {
        "id": "e3ZfwA7j-Cvq"
      },
      "source": [
        "final.extend(df4.dok)"
      ],
      "execution_count": null,
      "outputs": []
    },
    {
      "cell_type": "code",
      "metadata": {
        "id": "iVv4vqdIbMGv"
      },
      "source": [
        "final.extend(df5.content)"
      ],
      "execution_count": null,
      "outputs": []
    },
    {
      "cell_type": "code",
      "metadata": {
        "id": "nurscmjE-Cf4"
      },
      "source": [
        "dfg = pd.DataFrame(final)\n",
        "dfg.columns=[\"dok\"]"
      ],
      "execution_count": 207,
      "outputs": []
    },
    {
      "cell_type": "markdown",
      "metadata": {
        "id": "9_Vnr7idZXyY"
      },
      "source": [
        "preputama : lower case"
      ]
    },
    {
      "cell_type": "code",
      "metadata": {
        "id": "RypDx3ICZPoM"
      },
      "source": [
        "def lower(temp):\n",
        "  return temp.str.lower()"
      ],
      "execution_count": 208,
      "outputs": []
    },
    {
      "cell_type": "code",
      "metadata": {
        "id": "WhpBZ6kQ9Wb5"
      },
      "source": [
        "df['dokumen']=lower(df['dokumen'])"
      ],
      "execution_count": 209,
      "outputs": []
    },
    {
      "cell_type": "code",
      "metadata": {
        "id": "PhbcH2FevErI"
      },
      "source": [
        "dfg['dok']=lower(dfg['dok'])"
      ],
      "execution_count": 210,
      "outputs": []
    },
    {
      "cell_type": "code",
      "metadata": {
        "colab": {
          "base_uri": "https://localhost:8080/",
          "height": 597
        },
        "id": "NBAE4fRABJzj",
        "outputId": "1f558630-79db-41ef-a0c8-f693f33e9728"
      },
      "source": [
        "df"
      ],
      "execution_count": 211,
      "outputs": [
        {
          "output_type": "execute_result",
          "data": {
            "text/html": [
              "<div>\n",
              "<style scoped>\n",
              "    .dataframe tbody tr th:only-of-type {\n",
              "        vertical-align: middle;\n",
              "    }\n",
              "\n",
              "    .dataframe tbody tr th {\n",
              "        vertical-align: top;\n",
              "    }\n",
              "\n",
              "    .dataframe thead th {\n",
              "        text-align: right;\n",
              "    }\n",
              "</style>\n",
              "<table border=\"1\" class=\"dataframe\">\n",
              "  <thead>\n",
              "    <tr style=\"text-align: right;\">\n",
              "      <th></th>\n",
              "      <th>emosi</th>\n",
              "      <th>dokumen</th>\n",
              "    </tr>\n",
              "  </thead>\n",
              "  <tbody>\n",
              "    <tr>\n",
              "      <th>0</th>\n",
              "      <td>joy</td>\n",
              "      <td>on days when i feel close to my partner and other friends.   \\nwhen i feel at peace with myself and also experience a close  \\ncontact with people whom i regard greatly.</td>\n",
              "    </tr>\n",
              "    <tr>\n",
              "      <th>1</th>\n",
              "      <td>fear</td>\n",
              "      <td>every time i imagine that someone i love or i could contact a  \\nserious illness, even death.</td>\n",
              "    </tr>\n",
              "    <tr>\n",
              "      <th>2</th>\n",
              "      <td>anger</td>\n",
              "      <td>when i had been obviously unjustly treated and had no possibility  \\nof elucidating this.</td>\n",
              "    </tr>\n",
              "    <tr>\n",
              "      <th>3</th>\n",
              "      <td>sadness</td>\n",
              "      <td>when i think about the short time that we live and relate it to  \\nthe periods of my life when i think that i did not use this  \\nshort time.</td>\n",
              "    </tr>\n",
              "    <tr>\n",
              "      <th>4</th>\n",
              "      <td>disgust</td>\n",
              "      <td>at a gathering i found myself involuntarily sitting next to two  \\npeople who expressed opinions that i considered very low and  \\ndiscriminating.</td>\n",
              "    </tr>\n",
              "    <tr>\n",
              "      <th>...</th>\n",
              "      <td>...</td>\n",
              "      <td>...</td>\n",
              "    </tr>\n",
              "    <tr>\n",
              "      <th>7511</th>\n",
              "      <td>shame</td>\n",
              "      <td>two years back someone invited me to be the tutor of her  \\ngrand-daughter.  the grand-daughter asked me some questions in  \\nmathematics so i taught her.  however she did not listen to me  \\nand this made me feel unhappy.  the second year it was the same.   \\nwhen i entered university the girl's parents suggested that i be  \\nemployed as their daghters tutor.  they told me that at university   \\nthere was no homework and i would have a lot of time so they  \\nmade a time-table  for me which required me to be the tutor five  \\ndays a week.  they did not respect me and anyway i had another  \\nchild to teach.</td>\n",
              "    </tr>\n",
              "    <tr>\n",
              "      <th>7512</th>\n",
              "      <td>shame</td>\n",
              "      <td>i had taken the responsibility to do something and i had  \\nprepared for it.  however i failed because of my timidity.  after  \\nthree attempts i still could not adapt to the atmosphere and  \\nfailed as before.  i felt imcompetent and felt that the others  \\nwould think that i had not prepared for it.</td>\n",
              "    </tr>\n",
              "    <tr>\n",
              "      <th>7513</th>\n",
              "      <td>fear</td>\n",
              "      <td>i was at home and i heard a loud sound of spitting outside the  \\ndoor.  i thought that one of my family members would step on the spit  \\nand bring the germs in the house.</td>\n",
              "    </tr>\n",
              "    <tr>\n",
              "      <th>7514</th>\n",
              "      <td>guilt</td>\n",
              "      <td>i did not do the homework that the teacher had asked us to do.  i  \\nwas scolded immediately.</td>\n",
              "    </tr>\n",
              "    <tr>\n",
              "      <th>7515</th>\n",
              "      <td>fear</td>\n",
              "      <td>i had shouted at my younger brother and he was always afraid when  \\ni called out loudly.</td>\n",
              "    </tr>\n",
              "  </tbody>\n",
              "</table>\n",
              "<p>7516 rows × 2 columns</p>\n",
              "</div>"
            ],
            "text/plain": [
              "        emosi                                                                                                                                                                                                                                                                                                                                                                                                                                                                                                                                                                                                                                dokumen\n",
              "0         joy                                                                                                                                                                                                                                                                                                                                                                                                                                                              on days when i feel close to my partner and other friends.   \\nwhen i feel at peace with myself and also experience a close  \\ncontact with people whom i regard greatly.\n",
              "1        fear                                                                                                                                                                                                                                                                                                                                                                                                                                                                                                                                          every time i imagine that someone i love or i could contact a  \\nserious illness, even death.\n",
              "2       anger                                                                                                                                                                                                                                                                                                                                                                                                                                                                                                                                              when i had been obviously unjustly treated and had no possibility  \\nof elucidating this.\n",
              "3     sadness                                                                                                                                                                                                                                                                                                                                                                                                                                                                                          when i think about the short time that we live and relate it to  \\nthe periods of my life when i think that i did not use this  \\nshort time.\n",
              "4     disgust                                                                                                                                                                                                                                                                                                                                                                                                                                                                                     at a gathering i found myself involuntarily sitting next to two  \\npeople who expressed opinions that i considered very low and  \\ndiscriminating.\n",
              "...       ...                                                                                                                                                                                                                                                                                                                                                                                                                                                                                                                                                                                                                                    ...\n",
              "7511    shame  two years back someone invited me to be the tutor of her  \\ngrand-daughter.  the grand-daughter asked me some questions in  \\nmathematics so i taught her.  however she did not listen to me  \\nand this made me feel unhappy.  the second year it was the same.   \\nwhen i entered university the girl's parents suggested that i be  \\nemployed as their daghters tutor.  they told me that at university   \\nthere was no homework and i would have a lot of time so they  \\nmade a time-table  for me which required me to be the tutor five  \\ndays a week.  they did not respect me and anyway i had another  \\nchild to teach.\n",
              "7512    shame                                                                                                                                                                                                                                                                                                                         i had taken the responsibility to do something and i had  \\nprepared for it.  however i failed because of my timidity.  after  \\nthree attempts i still could not adapt to the atmosphere and  \\nfailed as before.  i felt imcompetent and felt that the others  \\nwould think that i had not prepared for it.\n",
              "7513     fear                                                                                                                                                                                                                                                                                                                                                                                                                                                           i was at home and i heard a loud sound of spitting outside the  \\ndoor.  i thought that one of my family members would step on the spit  \\nand bring the germs in the house.\n",
              "7514    guilt                                                                                                                                                                                                                                                                                                                                                                                                                                                                                                                                          i did not do the homework that the teacher had asked us to do.  i  \\nwas scolded immediately.\n",
              "7515     fear                                                                                                                                                                                                                                                                                                                                                                                                                                                                                                                                              i had shouted at my younger brother and he was always afraid when  \\ni called out loudly.\n",
              "\n",
              "[7516 rows x 2 columns]"
            ]
          },
          "metadata": {},
          "execution_count": 211
        }
      ]
    },
    {
      "cell_type": "markdown",
      "metadata": {
        "id": "b82j_2JPZaQ8"
      },
      "source": [
        "preputama : Pembersihan noise (over enter and space)"
      ]
    },
    {
      "cell_type": "code",
      "metadata": {
        "id": "_RQsSdV6Z6ZF"
      },
      "source": [
        "def bersih_noise(temp):\n",
        "  temp=temp.replace(' \\n', ' ', regex=True)\n",
        "  temp=temp.replace('   ', ' ', regex=True)\n",
        "  return temp.replace('  ', ' ', regex=True)"
      ],
      "execution_count": 212,
      "outputs": []
    },
    {
      "cell_type": "code",
      "metadata": {
        "id": "Pe0GqxmE9WP2"
      },
      "source": [
        "df=bersih_noise(df)"
      ],
      "execution_count": 213,
      "outputs": []
    },
    {
      "cell_type": "code",
      "metadata": {
        "id": "PIur4tdzIBzl"
      },
      "source": [
        "dfg=bersih_noise(dfg)"
      ],
      "execution_count": 214,
      "outputs": []
    },
    {
      "cell_type": "code",
      "metadata": {
        "colab": {
          "base_uri": "https://localhost:8080/",
          "height": 580
        },
        "id": "8v07cozGC16a",
        "outputId": "dafe08ec-2057-4b58-b8d8-7e58533e2a13"
      },
      "source": [
        "df"
      ],
      "execution_count": 215,
      "outputs": [
        {
          "output_type": "execute_result",
          "data": {
            "text/html": [
              "<div>\n",
              "<style scoped>\n",
              "    .dataframe tbody tr th:only-of-type {\n",
              "        vertical-align: middle;\n",
              "    }\n",
              "\n",
              "    .dataframe tbody tr th {\n",
              "        vertical-align: top;\n",
              "    }\n",
              "\n",
              "    .dataframe thead th {\n",
              "        text-align: right;\n",
              "    }\n",
              "</style>\n",
              "<table border=\"1\" class=\"dataframe\">\n",
              "  <thead>\n",
              "    <tr style=\"text-align: right;\">\n",
              "      <th></th>\n",
              "      <th>emosi</th>\n",
              "      <th>dokumen</th>\n",
              "    </tr>\n",
              "  </thead>\n",
              "  <tbody>\n",
              "    <tr>\n",
              "      <th>0</th>\n",
              "      <td>joy</td>\n",
              "      <td>on days when i feel close to my partner and other friends. when i feel at peace with myself and also experience a close contact with people whom i regard greatly.</td>\n",
              "    </tr>\n",
              "    <tr>\n",
              "      <th>1</th>\n",
              "      <td>fear</td>\n",
              "      <td>every time i imagine that someone i love or i could contact a serious illness, even death.</td>\n",
              "    </tr>\n",
              "    <tr>\n",
              "      <th>2</th>\n",
              "      <td>anger</td>\n",
              "      <td>when i had been obviously unjustly treated and had no possibility of elucidating this.</td>\n",
              "    </tr>\n",
              "    <tr>\n",
              "      <th>3</th>\n",
              "      <td>sadness</td>\n",
              "      <td>when i think about the short time that we live and relate it to the periods of my life when i think that i did not use this short time.</td>\n",
              "    </tr>\n",
              "    <tr>\n",
              "      <th>4</th>\n",
              "      <td>disgust</td>\n",
              "      <td>at a gathering i found myself involuntarily sitting next to two people who expressed opinions that i considered very low and discriminating.</td>\n",
              "    </tr>\n",
              "    <tr>\n",
              "      <th>...</th>\n",
              "      <td>...</td>\n",
              "      <td>...</td>\n",
              "    </tr>\n",
              "    <tr>\n",
              "      <th>7511</th>\n",
              "      <td>shame</td>\n",
              "      <td>two years back someone invited me to be the tutor of her grand-daughter. the grand-daughter asked me some questions in mathematics so i taught her. however she did not listen to me and this made me feel unhappy. the second year it was the same. when i entered university the girl's parents suggested that i be employed as their daghters tutor. they told me that at university there was no homework and i would have a lot of time so they made a time-table for me which required me to be the tutor five days a week. they did not respect me and anyway i had another child to teach.</td>\n",
              "    </tr>\n",
              "    <tr>\n",
              "      <th>7512</th>\n",
              "      <td>shame</td>\n",
              "      <td>i had taken the responsibility to do something and i had prepared for it. however i failed because of my timidity. after three attempts i still could not adapt to the atmosphere and failed as before. i felt imcompetent and felt that the others would think that i had not prepared for it.</td>\n",
              "    </tr>\n",
              "    <tr>\n",
              "      <th>7513</th>\n",
              "      <td>fear</td>\n",
              "      <td>i was at home and i heard a loud sound of spitting outside the door. i thought that one of my family members would step on the spit and bring the germs in the house.</td>\n",
              "    </tr>\n",
              "    <tr>\n",
              "      <th>7514</th>\n",
              "      <td>guilt</td>\n",
              "      <td>i did not do the homework that the teacher had asked us to do. i was scolded immediately.</td>\n",
              "    </tr>\n",
              "    <tr>\n",
              "      <th>7515</th>\n",
              "      <td>fear</td>\n",
              "      <td>i had shouted at my younger brother and he was always afraid when i called out loudly.</td>\n",
              "    </tr>\n",
              "  </tbody>\n",
              "</table>\n",
              "<p>7516 rows × 2 columns</p>\n",
              "</div>"
            ],
            "text/plain": [
              "        emosi                                                                                                                                                                                                                                                                                                                                                                                                                                                                                                                                                                                             dokumen\n",
              "0         joy                                                                                                                                                                                                                                                                                                                                                                                                                                  on days when i feel close to my partner and other friends. when i feel at peace with myself and also experience a close contact with people whom i regard greatly.\n",
              "1        fear                                                                                                                                                                                                                                                                                                                                                                                                                                                                                                          every time i imagine that someone i love or i could contact a serious illness, even death.\n",
              "2       anger                                                                                                                                                                                                                                                                                                                                                                                                                                                                                                              when i had been obviously unjustly treated and had no possibility of elucidating this.\n",
              "3     sadness                                                                                                                                                                                                                                                                                                                                                                                                                                                             when i think about the short time that we live and relate it to the periods of my life when i think that i did not use this short time.\n",
              "4     disgust                                                                                                                                                                                                                                                                                                                                                                                                                                                        at a gathering i found myself involuntarily sitting next to two people who expressed opinions that i considered very low and discriminating.\n",
              "...       ...                                                                                                                                                                                                                                                                                                                                                                                                                                                                                                                                                                                                 ...\n",
              "7511    shame  two years back someone invited me to be the tutor of her grand-daughter. the grand-daughter asked me some questions in mathematics so i taught her. however she did not listen to me and this made me feel unhappy. the second year it was the same. when i entered university the girl's parents suggested that i be employed as their daghters tutor. they told me that at university there was no homework and i would have a lot of time so they made a time-table for me which required me to be the tutor five days a week. they did not respect me and anyway i had another child to teach.\n",
              "7512    shame                                                                                                                                                                                                                                                                                                     i had taken the responsibility to do something and i had prepared for it. however i failed because of my timidity. after three attempts i still could not adapt to the atmosphere and failed as before. i felt imcompetent and felt that the others would think that i had not prepared for it.\n",
              "7513     fear                                                                                                                                                                                                                                                                                                                                                                                                                               i was at home and i heard a loud sound of spitting outside the door. i thought that one of my family members would step on the spit and bring the germs in the house.\n",
              "7514    guilt                                                                                                                                                                                                                                                                                                                                                                                                                                                                                                           i did not do the homework that the teacher had asked us to do. i was scolded immediately.\n",
              "7515     fear                                                                                                                                                                                                                                                                                                                                                                                                                                                                                                              i had shouted at my younger brother and he was always afraid when i called out loudly.\n",
              "\n",
              "[7516 rows x 2 columns]"
            ]
          },
          "metadata": {},
          "execution_count": 215
        }
      ]
    },
    {
      "cell_type": "markdown",
      "metadata": {
        "id": "1KUKEZPEZdku"
      },
      "source": [
        "preptambah : expand contractions"
      ]
    },
    {
      "cell_type": "code",
      "metadata": {
        "id": "DvUkcyckt3jt",
        "colab": {
          "base_uri": "https://localhost:8080/"
        },
        "outputId": "aca18377-384c-4ab4-a4b5-7a841cd11054"
      },
      "source": [
        "!pip install contractions\n",
        "import contractions\n",
        "def expand_word(temp):\n",
        "  expanded_words = []   \n",
        "  for word in temp:\n",
        "    expanded_words.append(contractions.fix(word))\n",
        "  return expanded_words"
      ],
      "execution_count": 216,
      "outputs": [
        {
          "output_type": "stream",
          "name": "stdout",
          "text": [
            "Requirement already satisfied: contractions in /usr/local/lib/python3.7/dist-packages (0.0.58)\n",
            "Requirement already satisfied: textsearch>=0.0.21 in /usr/local/lib/python3.7/dist-packages (from contractions) (0.0.21)\n",
            "Requirement already satisfied: anyascii in /usr/local/lib/python3.7/dist-packages (from textsearch>=0.0.21->contractions) (0.3.0)\n",
            "Requirement already satisfied: pyahocorasick in /usr/local/lib/python3.7/dist-packages (from textsearch>=0.0.21->contractions) (1.4.2)\n"
          ]
        }
      ]
    },
    {
      "cell_type": "code",
      "metadata": {
        "id": "5glvogu8t3dl"
      },
      "source": [
        "df.dokumen=expand_word(df.dokumen)"
      ],
      "execution_count": 217,
      "outputs": []
    },
    {
      "cell_type": "code",
      "metadata": {
        "id": "nVjxLBLIIjXV"
      },
      "source": [
        "dfg.dok=expand_word(dfg.dok)"
      ],
      "execution_count": 218,
      "outputs": []
    },
    {
      "cell_type": "code",
      "metadata": {
        "colab": {
          "base_uri": "https://localhost:8080/",
          "height": 580
        },
        "id": "mfAL8plYpfaD",
        "outputId": "29f4b3ba-79b4-4729-a356-029787a68fbc"
      },
      "source": [
        "df"
      ],
      "execution_count": 219,
      "outputs": [
        {
          "output_type": "execute_result",
          "data": {
            "text/html": [
              "<div>\n",
              "<style scoped>\n",
              "    .dataframe tbody tr th:only-of-type {\n",
              "        vertical-align: middle;\n",
              "    }\n",
              "\n",
              "    .dataframe tbody tr th {\n",
              "        vertical-align: top;\n",
              "    }\n",
              "\n",
              "    .dataframe thead th {\n",
              "        text-align: right;\n",
              "    }\n",
              "</style>\n",
              "<table border=\"1\" class=\"dataframe\">\n",
              "  <thead>\n",
              "    <tr style=\"text-align: right;\">\n",
              "      <th></th>\n",
              "      <th>emosi</th>\n",
              "      <th>dokumen</th>\n",
              "    </tr>\n",
              "  </thead>\n",
              "  <tbody>\n",
              "    <tr>\n",
              "      <th>0</th>\n",
              "      <td>joy</td>\n",
              "      <td>on days when i feel close to my partner and other friends. when i feel at peace with myself and also experience a close contact with people whom i regard greatly.</td>\n",
              "    </tr>\n",
              "    <tr>\n",
              "      <th>1</th>\n",
              "      <td>fear</td>\n",
              "      <td>every time i imagine that someone i love or i could contact a serious illness, even death.</td>\n",
              "    </tr>\n",
              "    <tr>\n",
              "      <th>2</th>\n",
              "      <td>anger</td>\n",
              "      <td>when i had been obviously unjustly treated and had no possibility of elucidating this.</td>\n",
              "    </tr>\n",
              "    <tr>\n",
              "      <th>3</th>\n",
              "      <td>sadness</td>\n",
              "      <td>when i think about the short time that we live and relate it to the periods of my life when i think that i did not use this short time.</td>\n",
              "    </tr>\n",
              "    <tr>\n",
              "      <th>4</th>\n",
              "      <td>disgust</td>\n",
              "      <td>at a gathering i found myself involuntarily sitting next to two people who expressed opinions that i considered very low and discriminating.</td>\n",
              "    </tr>\n",
              "    <tr>\n",
              "      <th>...</th>\n",
              "      <td>...</td>\n",
              "      <td>...</td>\n",
              "    </tr>\n",
              "    <tr>\n",
              "      <th>7511</th>\n",
              "      <td>shame</td>\n",
              "      <td>two years back someone invited me to be the tutor of her grand-daughter. the grand-daughter asked me some questions in mathematics so i taught her. however she did not listen to me and this made me feel unhappy. the second year it was the same. when i entered university the girl's parents suggested that i be employed as their daghters tutor. they told me that at university there was no homework and i would have a lot of time so they made a time-table for me which required me to be the tutor five days a week. they did not respect me and anyway i had another child to teach.</td>\n",
              "    </tr>\n",
              "    <tr>\n",
              "      <th>7512</th>\n",
              "      <td>shame</td>\n",
              "      <td>i had taken the responsibility to do something and i had prepared for it. however i failed because of my timidity. after three attempts i still could not adapt to the atmosphere and failed as before. i felt imcompetent and felt that the others would think that i had not prepared for it.</td>\n",
              "    </tr>\n",
              "    <tr>\n",
              "      <th>7513</th>\n",
              "      <td>fear</td>\n",
              "      <td>i was at home and i heard a loud sound of spitting outside the door. i thought that one of my family members would step on the spit and bring the germs in the house.</td>\n",
              "    </tr>\n",
              "    <tr>\n",
              "      <th>7514</th>\n",
              "      <td>guilt</td>\n",
              "      <td>i did not do the homework that the teacher had asked us to do. i was scolded immediately.</td>\n",
              "    </tr>\n",
              "    <tr>\n",
              "      <th>7515</th>\n",
              "      <td>fear</td>\n",
              "      <td>i had shouted at my younger brother and he was always afraid when i called out loudly.</td>\n",
              "    </tr>\n",
              "  </tbody>\n",
              "</table>\n",
              "<p>7516 rows × 2 columns</p>\n",
              "</div>"
            ],
            "text/plain": [
              "        emosi                                                                                                                                                                                                                                                                                                                                                                                                                                                                                                                                                                                             dokumen\n",
              "0         joy                                                                                                                                                                                                                                                                                                                                                                                                                                  on days when i feel close to my partner and other friends. when i feel at peace with myself and also experience a close contact with people whom i regard greatly.\n",
              "1        fear                                                                                                                                                                                                                                                                                                                                                                                                                                                                                                          every time i imagine that someone i love or i could contact a serious illness, even death.\n",
              "2       anger                                                                                                                                                                                                                                                                                                                                                                                                                                                                                                              when i had been obviously unjustly treated and had no possibility of elucidating this.\n",
              "3     sadness                                                                                                                                                                                                                                                                                                                                                                                                                                                             when i think about the short time that we live and relate it to the periods of my life when i think that i did not use this short time.\n",
              "4     disgust                                                                                                                                                                                                                                                                                                                                                                                                                                                        at a gathering i found myself involuntarily sitting next to two people who expressed opinions that i considered very low and discriminating.\n",
              "...       ...                                                                                                                                                                                                                                                                                                                                                                                                                                                                                                                                                                                                 ...\n",
              "7511    shame  two years back someone invited me to be the tutor of her grand-daughter. the grand-daughter asked me some questions in mathematics so i taught her. however she did not listen to me and this made me feel unhappy. the second year it was the same. when i entered university the girl's parents suggested that i be employed as their daghters tutor. they told me that at university there was no homework and i would have a lot of time so they made a time-table for me which required me to be the tutor five days a week. they did not respect me and anyway i had another child to teach.\n",
              "7512    shame                                                                                                                                                                                                                                                                                                     i had taken the responsibility to do something and i had prepared for it. however i failed because of my timidity. after three attempts i still could not adapt to the atmosphere and failed as before. i felt imcompetent and felt that the others would think that i had not prepared for it.\n",
              "7513     fear                                                                                                                                                                                                                                                                                                                                                                                                                               i was at home and i heard a loud sound of spitting outside the door. i thought that one of my family members would step on the spit and bring the germs in the house.\n",
              "7514    guilt                                                                                                                                                                                                                                                                                                                                                                                                                                                                                                           i did not do the homework that the teacher had asked us to do. i was scolded immediately.\n",
              "7515     fear                                                                                                                                                                                                                                                                                                                                                                                                                                                                                                              i had shouted at my younger brother and he was always afraid when i called out loudly.\n",
              "\n",
              "[7516 rows x 2 columns]"
            ]
          },
          "metadata": {},
          "execution_count": 219
        }
      ]
    },
    {
      "cell_type": "markdown",
      "metadata": {
        "id": "rS8J8JjJamsx"
      },
      "source": [
        "preputama : cleansing punctuation"
      ]
    },
    {
      "cell_type": "code",
      "metadata": {
        "id": "H3Hx4NpTbtrT"
      },
      "source": [
        "def clns_punc(temp):\n",
        "  return temp.str.replace(r'[^\\w\\s]+', '')"
      ],
      "execution_count": 220,
      "outputs": []
    },
    {
      "cell_type": "code",
      "metadata": {
        "id": "2z_rN6_Famg-"
      },
      "source": [
        "df['dokumen'] = clns_punc(df['dokumen'])"
      ],
      "execution_count": 221,
      "outputs": []
    },
    {
      "cell_type": "code",
      "metadata": {
        "id": "J5TnuwyKqmyj"
      },
      "source": [
        "dfg['dok'] = clns_punc(dfg['dok'])"
      ],
      "execution_count": 222,
      "outputs": []
    },
    {
      "cell_type": "markdown",
      "metadata": {
        "id": "g3p4Wtl9TWVY"
      },
      "source": [
        "preputama : cleansing number"
      ]
    },
    {
      "cell_type": "code",
      "metadata": {
        "id": "C9OjkbaHDMU6",
        "colab": {
          "base_uri": "https://localhost:8080/"
        },
        "outputId": "8100d420-d02a-4015-f3dc-35837795244d"
      },
      "source": [
        "!pip install tweet-preprocessor\n",
        "import preprocessor as p\n",
        "p.set_options(p.OPT.NUMBER)\n",
        "def clns_numb(temp):\n",
        "  sementara=[]\n",
        "  for word in temp:\n",
        "    sementara.append(p.clean(word))\n",
        "  return sementara"
      ],
      "execution_count": 223,
      "outputs": [
        {
          "output_type": "stream",
          "name": "stdout",
          "text": [
            "Requirement already satisfied: tweet-preprocessor in /usr/local/lib/python3.7/dist-packages (0.6.0)\n"
          ]
        }
      ]
    },
    {
      "cell_type": "code",
      "metadata": {
        "id": "tbDKUmvtDRjN"
      },
      "source": [
        "df.dokumen=clns_numb(df.dokumen)"
      ],
      "execution_count": 224,
      "outputs": []
    },
    {
      "cell_type": "code",
      "metadata": {
        "id": "GmWovA8ADRby"
      },
      "source": [
        "dfg.dok=clns_numb(dfg.dok)"
      ],
      "execution_count": 225,
      "outputs": []
    },
    {
      "cell_type": "code",
      "metadata": {
        "colab": {
          "base_uri": "https://localhost:8080/",
          "height": 580
        },
        "id": "pw8VxOIPlTMY",
        "outputId": "88268727-b75a-4a2a-8421-402635a5688a"
      },
      "source": [
        "df"
      ],
      "execution_count": 226,
      "outputs": [
        {
          "output_type": "execute_result",
          "data": {
            "text/html": [
              "<div>\n",
              "<style scoped>\n",
              "    .dataframe tbody tr th:only-of-type {\n",
              "        vertical-align: middle;\n",
              "    }\n",
              "\n",
              "    .dataframe tbody tr th {\n",
              "        vertical-align: top;\n",
              "    }\n",
              "\n",
              "    .dataframe thead th {\n",
              "        text-align: right;\n",
              "    }\n",
              "</style>\n",
              "<table border=\"1\" class=\"dataframe\">\n",
              "  <thead>\n",
              "    <tr style=\"text-align: right;\">\n",
              "      <th></th>\n",
              "      <th>emosi</th>\n",
              "      <th>dokumen</th>\n",
              "    </tr>\n",
              "  </thead>\n",
              "  <tbody>\n",
              "    <tr>\n",
              "      <th>0</th>\n",
              "      <td>joy</td>\n",
              "      <td>on days when i feel close to my partner and other friends when i feel at peace with myself and also experience a close contact with people whom i regard greatly</td>\n",
              "    </tr>\n",
              "    <tr>\n",
              "      <th>1</th>\n",
              "      <td>fear</td>\n",
              "      <td>every time i imagine that someone i love or i could contact a serious illness even death</td>\n",
              "    </tr>\n",
              "    <tr>\n",
              "      <th>2</th>\n",
              "      <td>anger</td>\n",
              "      <td>when i had been obviously unjustly treated and had no possibility of elucidating this</td>\n",
              "    </tr>\n",
              "    <tr>\n",
              "      <th>3</th>\n",
              "      <td>sadness</td>\n",
              "      <td>when i think about the short time that we live and relate it to the periods of my life when i think that i did not use this short time</td>\n",
              "    </tr>\n",
              "    <tr>\n",
              "      <th>4</th>\n",
              "      <td>disgust</td>\n",
              "      <td>at a gathering i found myself involuntarily sitting next to two people who expressed opinions that i considered very low and discriminating</td>\n",
              "    </tr>\n",
              "    <tr>\n",
              "      <th>...</th>\n",
              "      <td>...</td>\n",
              "      <td>...</td>\n",
              "    </tr>\n",
              "    <tr>\n",
              "      <th>7511</th>\n",
              "      <td>shame</td>\n",
              "      <td>two years back someone invited me to be the tutor of her granddaughter the granddaughter asked me some questions in mathematics so i taught her however she did not listen to me and this made me feel unhappy the second year it was the same when i entered university the girls parents suggested that i be employed as their daghters tutor they told me that at university there was no homework and i would have a lot of time so they made a timetable for me which required me to be the tutor five days a week they did not respect me and anyway i had another child to teach</td>\n",
              "    </tr>\n",
              "    <tr>\n",
              "      <th>7512</th>\n",
              "      <td>shame</td>\n",
              "      <td>i had taken the responsibility to do something and i had prepared for it however i failed because of my timidity after three attempts i still could not adapt to the atmosphere and failed as before i felt imcompetent and felt that the others would think that i had not prepared for it</td>\n",
              "    </tr>\n",
              "    <tr>\n",
              "      <th>7513</th>\n",
              "      <td>fear</td>\n",
              "      <td>i was at home and i heard a loud sound of spitting outside the door i thought that one of my family members would step on the spit and bring the germs in the house</td>\n",
              "    </tr>\n",
              "    <tr>\n",
              "      <th>7514</th>\n",
              "      <td>guilt</td>\n",
              "      <td>i did not do the homework that the teacher had asked us to do i was scolded immediately</td>\n",
              "    </tr>\n",
              "    <tr>\n",
              "      <th>7515</th>\n",
              "      <td>fear</td>\n",
              "      <td>i had shouted at my younger brother and he was always afraid when i called out loudly</td>\n",
              "    </tr>\n",
              "  </tbody>\n",
              "</table>\n",
              "<p>7516 rows × 2 columns</p>\n",
              "</div>"
            ],
            "text/plain": [
              "        emosi                                                                                                                                                                                                                                                                                                                                                                                                                                                                                                                                                                                  dokumen\n",
              "0         joy                                                                                                                                                                                                                                                                                                                                                                                                                         on days when i feel close to my partner and other friends when i feel at peace with myself and also experience a close contact with people whom i regard greatly\n",
              "1        fear                                                                                                                                                                                                                                                                                                                                                                                                                                                                                                 every time i imagine that someone i love or i could contact a serious illness even death\n",
              "2       anger                                                                                                                                                                                                                                                                                                                                                                                                                                                                                                    when i had been obviously unjustly treated and had no possibility of elucidating this\n",
              "3     sadness                                                                                                                                                                                                                                                                                                                                                                                                                                                   when i think about the short time that we live and relate it to the periods of my life when i think that i did not use this short time\n",
              "4     disgust                                                                                                                                                                                                                                                                                                                                                                                                                                              at a gathering i found myself involuntarily sitting next to two people who expressed opinions that i considered very low and discriminating\n",
              "...       ...                                                                                                                                                                                                                                                                                                                                                                                                                                                                                                                                                                                      ...\n",
              "7511    shame  two years back someone invited me to be the tutor of her granddaughter the granddaughter asked me some questions in mathematics so i taught her however she did not listen to me and this made me feel unhappy the second year it was the same when i entered university the girls parents suggested that i be employed as their daghters tutor they told me that at university there was no homework and i would have a lot of time so they made a timetable for me which required me to be the tutor five days a week they did not respect me and anyway i had another child to teach\n",
              "7512    shame                                                                                                                                                                                                                                                                                              i had taken the responsibility to do something and i had prepared for it however i failed because of my timidity after three attempts i still could not adapt to the atmosphere and failed as before i felt imcompetent and felt that the others would think that i had not prepared for it\n",
              "7513     fear                                                                                                                                                                                                                                                                                                                                                                                                                      i was at home and i heard a loud sound of spitting outside the door i thought that one of my family members would step on the spit and bring the germs in the house\n",
              "7514    guilt                                                                                                                                                                                                                                                                                                                                                                                                                                                                                                  i did not do the homework that the teacher had asked us to do i was scolded immediately\n",
              "7515     fear                                                                                                                                                                                                                                                                                                                                                                                                                                                                                                    i had shouted at my younger brother and he was always afraid when i called out loudly\n",
              "\n",
              "[7516 rows x 2 columns]"
            ]
          },
          "metadata": {},
          "execution_count": 226
        }
      ]
    },
    {
      "cell_type": "markdown",
      "metadata": {
        "id": "Hrfg5PlYaK_o"
      },
      "source": [
        "preptambah : remove stopword"
      ]
    },
    {
      "cell_type": "code",
      "metadata": {
        "colab": {
          "base_uri": "https://localhost:8080/"
        },
        "id": "Ol3lV82FbtgA",
        "outputId": "1689634b-4251-41ca-9864-41ec85541cb6"
      },
      "source": [
        "from nltk.corpus import stopwords\n",
        "nltk.download('stopwords')\n",
        "stop = stopwords.words('english')\n",
        "pat = r'\\b(?:{})\\b'.format('|'.join(stop))\n",
        "def remove_stopw(temp):\n",
        "  temp=temp.str.replace(pat, '')\n",
        "  return temp.str.replace(r'\\s+', ' ')"
      ],
      "execution_count": 227,
      "outputs": [
        {
          "output_type": "stream",
          "name": "stdout",
          "text": [
            "[nltk_data] Downloading package stopwords to /root/nltk_data...\n",
            "[nltk_data]   Package stopwords is already up-to-date!\n"
          ]
        }
      ]
    },
    {
      "cell_type": "code",
      "metadata": {
        "id": "RKuF-6uCZ9Y1"
      },
      "source": [
        "df['dokumen'] = remove_stopw(df['dokumen'])"
      ],
      "execution_count": 228,
      "outputs": []
    },
    {
      "cell_type": "code",
      "metadata": {
        "id": "V77e41lhI5T7"
      },
      "source": [
        "dfg['dok'] = remove_stopw(dfg['dok'])"
      ],
      "execution_count": 229,
      "outputs": []
    },
    {
      "cell_type": "code",
      "metadata": {
        "colab": {
          "base_uri": "https://localhost:8080/",
          "height": 476
        },
        "id": "UPJvccDkk8ef",
        "outputId": "58dcc2c6-ed27-406f-ba2c-6feb9af7a353"
      },
      "source": [
        "df"
      ],
      "execution_count": 230,
      "outputs": [
        {
          "output_type": "execute_result",
          "data": {
            "text/html": [
              "<div>\n",
              "<style scoped>\n",
              "    .dataframe tbody tr th:only-of-type {\n",
              "        vertical-align: middle;\n",
              "    }\n",
              "\n",
              "    .dataframe tbody tr th {\n",
              "        vertical-align: top;\n",
              "    }\n",
              "\n",
              "    .dataframe thead th {\n",
              "        text-align: right;\n",
              "    }\n",
              "</style>\n",
              "<table border=\"1\" class=\"dataframe\">\n",
              "  <thead>\n",
              "    <tr style=\"text-align: right;\">\n",
              "      <th></th>\n",
              "      <th>emosi</th>\n",
              "      <th>dokumen</th>\n",
              "    </tr>\n",
              "  </thead>\n",
              "  <tbody>\n",
              "    <tr>\n",
              "      <th>0</th>\n",
              "      <td>joy</td>\n",
              "      <td>days feel close partner friends feel peace also experience close contact people regard greatly</td>\n",
              "    </tr>\n",
              "    <tr>\n",
              "      <th>1</th>\n",
              "      <td>fear</td>\n",
              "      <td>every time imagine someone love could contact serious illness even death</td>\n",
              "    </tr>\n",
              "    <tr>\n",
              "      <th>2</th>\n",
              "      <td>anger</td>\n",
              "      <td>obviously unjustly treated possibility elucidating</td>\n",
              "    </tr>\n",
              "    <tr>\n",
              "      <th>3</th>\n",
              "      <td>sadness</td>\n",
              "      <td>think short time live relate periods life think use short time</td>\n",
              "    </tr>\n",
              "    <tr>\n",
              "      <th>4</th>\n",
              "      <td>disgust</td>\n",
              "      <td>gathering found involuntarily sitting next two people expressed opinions considered low discriminating</td>\n",
              "    </tr>\n",
              "    <tr>\n",
              "      <th>...</th>\n",
              "      <td>...</td>\n",
              "      <td>...</td>\n",
              "    </tr>\n",
              "    <tr>\n",
              "      <th>7511</th>\n",
              "      <td>shame</td>\n",
              "      <td>two years back someone invited tutor granddaughter granddaughter asked questions mathematics taught however listen made feel unhappy second year entered university girls parents suggested employed daghters tutor told university homework would lot time made timetable required tutor five days week respect anyway another child teach</td>\n",
              "    </tr>\n",
              "    <tr>\n",
              "      <th>7512</th>\n",
              "      <td>shame</td>\n",
              "      <td>taken responsibility something prepared however failed timidity three attempts still could adapt atmosphere failed felt imcompetent felt others would think prepared</td>\n",
              "    </tr>\n",
              "    <tr>\n",
              "      <th>7513</th>\n",
              "      <td>fear</td>\n",
              "      <td>home heard loud sound spitting outside door thought one family members would step spit bring germs house</td>\n",
              "    </tr>\n",
              "    <tr>\n",
              "      <th>7514</th>\n",
              "      <td>guilt</td>\n",
              "      <td>homework teacher asked us scolded immediately</td>\n",
              "    </tr>\n",
              "    <tr>\n",
              "      <th>7515</th>\n",
              "      <td>fear</td>\n",
              "      <td>shouted younger brother always afraid called loudly</td>\n",
              "    </tr>\n",
              "  </tbody>\n",
              "</table>\n",
              "<p>7516 rows × 2 columns</p>\n",
              "</div>"
            ],
            "text/plain": [
              "        emosi                                                                                                                                                                                                                                                                                                                                      dokumen\n",
              "0         joy                                                                                                                                                                                                                                               days feel close partner friends feel peace also experience close contact people regard greatly\n",
              "1        fear                                                                                                                                                                                                                                                                     every time imagine someone love could contact serious illness even death\n",
              "2       anger                                                                                                                                                                                                                                                                                          obviously unjustly treated possibility elucidating \n",
              "3     sadness                                                                                                                                                                                                                                                                               think short time live relate periods life think use short time\n",
              "4     disgust                                                                                                                                                                                                                                       gathering found involuntarily sitting next two people expressed opinions considered low discriminating\n",
              "...       ...                                                                                                                                                                                                                                                                                                                                          ...\n",
              "7511    shame  two years back someone invited tutor granddaughter granddaughter asked questions mathematics taught however listen made feel unhappy second year entered university girls parents suggested employed daghters tutor told university homework would lot time made timetable required tutor five days week respect anyway another child teach\n",
              "7512    shame                                                                                                                                                                        taken responsibility something prepared however failed timidity three attempts still could adapt atmosphere failed felt imcompetent felt others would think prepared \n",
              "7513     fear                                                                                                                                                                                                                                     home heard loud sound spitting outside door thought one family members would step spit bring germs house\n",
              "7514    guilt                                                                                                                                                                                                                                                                                                homework teacher asked us scolded immediately\n",
              "7515     fear                                                                                                                                                                                                                                                                                          shouted younger brother always afraid called loudly\n",
              "\n",
              "[7516 rows x 2 columns]"
            ]
          },
          "metadata": {},
          "execution_count": 230
        }
      ]
    },
    {
      "cell_type": "markdown",
      "metadata": {
        "id": "DnbrT-4daeEK"
      },
      "source": [
        "tokenizing"
      ]
    },
    {
      "cell_type": "code",
      "metadata": {
        "id": "0R5e1dYGdbYE"
      },
      "source": [
        "def token(temp):\n",
        "  return [word_tokenize(x) for x in temp]"
      ],
      "execution_count": 231,
      "outputs": []
    },
    {
      "cell_type": "code",
      "metadata": {
        "id": "XpqeTa21Z9OS"
      },
      "source": [
        "df.dokumen=token(df.dokumen)"
      ],
      "execution_count": 232,
      "outputs": []
    },
    {
      "cell_type": "code",
      "metadata": {
        "id": "GzBtjKLRJAQm"
      },
      "source": [
        "dfg.dok=token(dfg.dok)"
      ],
      "execution_count": 233,
      "outputs": []
    },
    {
      "cell_type": "code",
      "metadata": {
        "colab": {
          "base_uri": "https://localhost:8080/",
          "height": 476
        },
        "id": "pR9hqaBhpsr1",
        "outputId": "c190f8db-0b81-4d47-c924-51924ca83828"
      },
      "source": [
        "df"
      ],
      "execution_count": 234,
      "outputs": [
        {
          "output_type": "execute_result",
          "data": {
            "text/html": [
              "<div>\n",
              "<style scoped>\n",
              "    .dataframe tbody tr th:only-of-type {\n",
              "        vertical-align: middle;\n",
              "    }\n",
              "\n",
              "    .dataframe tbody tr th {\n",
              "        vertical-align: top;\n",
              "    }\n",
              "\n",
              "    .dataframe thead th {\n",
              "        text-align: right;\n",
              "    }\n",
              "</style>\n",
              "<table border=\"1\" class=\"dataframe\">\n",
              "  <thead>\n",
              "    <tr style=\"text-align: right;\">\n",
              "      <th></th>\n",
              "      <th>emosi</th>\n",
              "      <th>dokumen</th>\n",
              "    </tr>\n",
              "  </thead>\n",
              "  <tbody>\n",
              "    <tr>\n",
              "      <th>0</th>\n",
              "      <td>joy</td>\n",
              "      <td>[days, feel, close, partner, friends, feel, peace, also, experience, close, contact, people, regard, greatly]</td>\n",
              "    </tr>\n",
              "    <tr>\n",
              "      <th>1</th>\n",
              "      <td>fear</td>\n",
              "      <td>[every, time, imagine, someone, love, could, contact, serious, illness, even, death]</td>\n",
              "    </tr>\n",
              "    <tr>\n",
              "      <th>2</th>\n",
              "      <td>anger</td>\n",
              "      <td>[obviously, unjustly, treated, possibility, elucidating]</td>\n",
              "    </tr>\n",
              "    <tr>\n",
              "      <th>3</th>\n",
              "      <td>sadness</td>\n",
              "      <td>[think, short, time, live, relate, periods, life, think, use, short, time]</td>\n",
              "    </tr>\n",
              "    <tr>\n",
              "      <th>4</th>\n",
              "      <td>disgust</td>\n",
              "      <td>[gathering, found, involuntarily, sitting, next, two, people, expressed, opinions, considered, low, discriminating]</td>\n",
              "    </tr>\n",
              "    <tr>\n",
              "      <th>...</th>\n",
              "      <td>...</td>\n",
              "      <td>...</td>\n",
              "    </tr>\n",
              "    <tr>\n",
              "      <th>7511</th>\n",
              "      <td>shame</td>\n",
              "      <td>[two, years, back, someone, invited, tutor, granddaughter, granddaughter, asked, questions, mathematics, taught, however, listen, made, feel, unhappy, second, year, entered, university, girls, parents, suggested, employed, daghters, tutor, told, university, homework, would, lot, time, made, timetable, required, tutor, five, days, week, respect, anyway, another, child, teach]</td>\n",
              "    </tr>\n",
              "    <tr>\n",
              "      <th>7512</th>\n",
              "      <td>shame</td>\n",
              "      <td>[taken, responsibility, something, prepared, however, failed, timidity, three, attempts, still, could, adapt, atmosphere, failed, felt, imcompetent, felt, others, would, think, prepared]</td>\n",
              "    </tr>\n",
              "    <tr>\n",
              "      <th>7513</th>\n",
              "      <td>fear</td>\n",
              "      <td>[home, heard, loud, sound, spitting, outside, door, thought, one, family, members, would, step, spit, bring, germs, house]</td>\n",
              "    </tr>\n",
              "    <tr>\n",
              "      <th>7514</th>\n",
              "      <td>guilt</td>\n",
              "      <td>[homework, teacher, asked, us, scolded, immediately]</td>\n",
              "    </tr>\n",
              "    <tr>\n",
              "      <th>7515</th>\n",
              "      <td>fear</td>\n",
              "      <td>[shouted, younger, brother, always, afraid, called, loudly]</td>\n",
              "    </tr>\n",
              "  </tbody>\n",
              "</table>\n",
              "<p>7516 rows × 2 columns</p>\n",
              "</div>"
            ],
            "text/plain": [
              "        emosi                                                                                                                                                                                                                                                                                                                                                                                    dokumen\n",
              "0         joy                                                                                                                                                                                                                                                                              [days, feel, close, partner, friends, feel, peace, also, experience, close, contact, people, regard, greatly]\n",
              "1        fear                                                                                                                                                                                                                                                                                                       [every, time, imagine, someone, love, could, contact, serious, illness, even, death]\n",
              "2       anger                                                                                                                                                                                                                                                                                                                                   [obviously, unjustly, treated, possibility, elucidating]\n",
              "3     sadness                                                                                                                                                                                                                                                                                                                 [think, short, time, live, relate, periods, life, think, use, short, time]\n",
              "4     disgust                                                                                                                                                                                                                                                                        [gathering, found, involuntarily, sitting, next, two, people, expressed, opinions, considered, low, discriminating]\n",
              "...       ...                                                                                                                                                                                                                                                                                                                                                                                        ...\n",
              "7511    shame  [two, years, back, someone, invited, tutor, granddaughter, granddaughter, asked, questions, mathematics, taught, however, listen, made, feel, unhappy, second, year, entered, university, girls, parents, suggested, employed, daghters, tutor, told, university, homework, would, lot, time, made, timetable, required, tutor, five, days, week, respect, anyway, another, child, teach]\n",
              "7512    shame                                                                                                                                                                                                 [taken, responsibility, something, prepared, however, failed, timidity, three, attempts, still, could, adapt, atmosphere, failed, felt, imcompetent, felt, others, would, think, prepared]\n",
              "7513     fear                                                                                                                                                                                                                                                                 [home, heard, loud, sound, spitting, outside, door, thought, one, family, members, would, step, spit, bring, germs, house]\n",
              "7514    guilt                                                                                                                                                                                                                                                                                                                                       [homework, teacher, asked, us, scolded, immediately]\n",
              "7515     fear                                                                                                                                                                                                                                                                                                                                [shouted, younger, brother, always, afraid, called, loudly]\n",
              "\n",
              "[7516 rows x 2 columns]"
            ]
          },
          "metadata": {},
          "execution_count": 234
        }
      ]
    },
    {
      "cell_type": "markdown",
      "metadata": {
        "id": "qrBmBYUFV5BP"
      },
      "source": [
        "preptambah : Lemmatization"
      ]
    },
    {
      "cell_type": "code",
      "metadata": {
        "id": "K1ywmZGYZ9RJ"
      },
      "source": [
        "from nltk.stem.snowball import SnowballStemmer\n",
        "stemmer = SnowballStemmer(\"english\")\n",
        "def lemma(temp):\n",
        "  return temp.apply(lambda x: [stemmer.stem(y) for y in x])"
      ],
      "execution_count": 235,
      "outputs": []
    },
    {
      "cell_type": "code",
      "metadata": {
        "id": "vonaeiobZ9Lh"
      },
      "source": [
        "df['dokumen']=lemma(df['dokumen'])"
      ],
      "execution_count": 236,
      "outputs": []
    },
    {
      "cell_type": "code",
      "metadata": {
        "id": "b-LWL8O_rEXB"
      },
      "source": [
        "dfg['dok']=lemma(dfg['dok'])"
      ],
      "execution_count": 237,
      "outputs": []
    },
    {
      "cell_type": "code",
      "metadata": {
        "colab": {
          "base_uri": "https://localhost:8080/",
          "height": 476
        },
        "id": "dFOvHZMil5jX",
        "outputId": "bdf3f568-59cb-4ed8-fb56-25719caa4b3b"
      },
      "source": [
        "df"
      ],
      "execution_count": 238,
      "outputs": [
        {
          "output_type": "execute_result",
          "data": {
            "text/html": [
              "<div>\n",
              "<style scoped>\n",
              "    .dataframe tbody tr th:only-of-type {\n",
              "        vertical-align: middle;\n",
              "    }\n",
              "\n",
              "    .dataframe tbody tr th {\n",
              "        vertical-align: top;\n",
              "    }\n",
              "\n",
              "    .dataframe thead th {\n",
              "        text-align: right;\n",
              "    }\n",
              "</style>\n",
              "<table border=\"1\" class=\"dataframe\">\n",
              "  <thead>\n",
              "    <tr style=\"text-align: right;\">\n",
              "      <th></th>\n",
              "      <th>emosi</th>\n",
              "      <th>dokumen</th>\n",
              "    </tr>\n",
              "  </thead>\n",
              "  <tbody>\n",
              "    <tr>\n",
              "      <th>0</th>\n",
              "      <td>joy</td>\n",
              "      <td>[day, feel, close, partner, friend, feel, peac, also, experi, close, contact, peopl, regard, great]</td>\n",
              "    </tr>\n",
              "    <tr>\n",
              "      <th>1</th>\n",
              "      <td>fear</td>\n",
              "      <td>[everi, time, imagin, someon, love, could, contact, serious, ill, even, death]</td>\n",
              "    </tr>\n",
              "    <tr>\n",
              "      <th>2</th>\n",
              "      <td>anger</td>\n",
              "      <td>[obvious, unjust, treat, possibl, elucid]</td>\n",
              "    </tr>\n",
              "    <tr>\n",
              "      <th>3</th>\n",
              "      <td>sadness</td>\n",
              "      <td>[think, short, time, live, relat, period, life, think, use, short, time]</td>\n",
              "    </tr>\n",
              "    <tr>\n",
              "      <th>4</th>\n",
              "      <td>disgust</td>\n",
              "      <td>[gather, found, involuntarili, sit, next, two, peopl, express, opinion, consid, low, discrimin]</td>\n",
              "    </tr>\n",
              "    <tr>\n",
              "      <th>...</th>\n",
              "      <td>...</td>\n",
              "      <td>...</td>\n",
              "    </tr>\n",
              "    <tr>\n",
              "      <th>7511</th>\n",
              "      <td>shame</td>\n",
              "      <td>[two, year, back, someon, invit, tutor, granddaught, granddaught, ask, question, mathemat, taught, howev, listen, made, feel, unhappi, second, year, enter, univers, girl, parent, suggest, employ, daghter, tutor, told, univers, homework, would, lot, time, made, timet, requir, tutor, five, day, week, respect, anyway, anoth, child, teach]</td>\n",
              "    </tr>\n",
              "    <tr>\n",
              "      <th>7512</th>\n",
              "      <td>shame</td>\n",
              "      <td>[taken, respons, someth, prepar, howev, fail, timid, three, attempt, still, could, adapt, atmospher, fail, felt, imcompet, felt, other, would, think, prepar]</td>\n",
              "    </tr>\n",
              "    <tr>\n",
              "      <th>7513</th>\n",
              "      <td>fear</td>\n",
              "      <td>[home, heard, loud, sound, spit, outsid, door, thought, one, famili, member, would, step, spit, bring, germ, hous]</td>\n",
              "    </tr>\n",
              "    <tr>\n",
              "      <th>7514</th>\n",
              "      <td>guilt</td>\n",
              "      <td>[homework, teacher, ask, us, scold, immedi]</td>\n",
              "    </tr>\n",
              "    <tr>\n",
              "      <th>7515</th>\n",
              "      <td>fear</td>\n",
              "      <td>[shout, younger, brother, alway, afraid, call, loud]</td>\n",
              "    </tr>\n",
              "  </tbody>\n",
              "</table>\n",
              "<p>7516 rows × 2 columns</p>\n",
              "</div>"
            ],
            "text/plain": [
              "        emosi                                                                                                                                                                                                                                                                                                                                            dokumen\n",
              "0         joy                                                                                                                                                                                                                                                [day, feel, close, partner, friend, feel, peac, also, experi, close, contact, peopl, regard, great]\n",
              "1        fear                                                                                                                                                                                                                                                                     [everi, time, imagin, someon, love, could, contact, serious, ill, even, death]\n",
              "2       anger                                                                                                                                                                                                                                                                                                          [obvious, unjust, treat, possibl, elucid]\n",
              "3     sadness                                                                                                                                                                                                                                                                           [think, short, time, live, relat, period, life, think, use, short, time]\n",
              "4     disgust                                                                                                                                                                                                                                                    [gather, found, involuntarili, sit, next, two, peopl, express, opinion, consid, low, discrimin]\n",
              "...       ...                                                                                                                                                                                                                                                                                                                                                ...\n",
              "7511    shame  [two, year, back, someon, invit, tutor, granddaught, granddaught, ask, question, mathemat, taught, howev, listen, made, feel, unhappi, second, year, enter, univers, girl, parent, suggest, employ, daghter, tutor, told, univers, homework, would, lot, time, made, timet, requir, tutor, five, day, week, respect, anyway, anoth, child, teach]\n",
              "7512    shame                                                                                                                                                                                      [taken, respons, someth, prepar, howev, fail, timid, three, attempt, still, could, adapt, atmospher, fail, felt, imcompet, felt, other, would, think, prepar]\n",
              "7513     fear                                                                                                                                                                                                                                 [home, heard, loud, sound, spit, outsid, door, thought, one, famili, member, would, step, spit, bring, germ, hous]\n",
              "7514    guilt                                                                                                                                                                                                                                                                                                        [homework, teacher, ask, us, scold, immedi]\n",
              "7515     fear                                                                                                                                                                                                                                                                                               [shout, younger, brother, alway, afraid, call, loud]\n",
              "\n",
              "[7516 rows x 2 columns]"
            ]
          },
          "metadata": {},
          "execution_count": 238
        }
      ]
    },
    {
      "cell_type": "markdown",
      "metadata": {
        "id": "K-NOlQnGbDUj"
      },
      "source": [
        "save df"
      ]
    },
    {
      "cell_type": "code",
      "metadata": {
        "id": "gk1V4HBPDHVw"
      },
      "source": [
        "df.to_csv(r'dataisear(preptambah).csv', index = False)"
      ],
      "execution_count": 239,
      "outputs": []
    },
    {
      "cell_type": "code",
      "metadata": {
        "id": "Be5Oi1vVRVFX"
      },
      "source": [
        "dfg.to_csv(r'korpusblogspertiga(preptambah).csv', index = False)"
      ],
      "execution_count": 240,
      "outputs": []
    }
  ]
}