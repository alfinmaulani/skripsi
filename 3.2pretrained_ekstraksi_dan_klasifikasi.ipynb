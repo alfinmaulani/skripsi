{
  "nbformat": 4,
  "nbformat_minor": 0,
  "metadata": {
    "colab": {
      "name": "pretrained_ekstraksi_dan_klasifikasi.ipynb",
      "provenance": [],
      "collapsed_sections": [],
      "mount_file_id": "https://github.com/alfinmaulani/skripsi/blob/master/3.2pretrained_ekstraksi_dan_klasifikasi.ipynb",
      "authorship_tag": "ABX9TyMFf98HuhoY2z1MnIxdlr5l",
      "include_colab_link": true
    },
    "kernelspec": {
      "name": "python3",
      "display_name": "Python 3"
    },
    "language_info": {
      "name": "python"
    }
  },
  "cells": [
    {
      "cell_type": "markdown",
      "metadata": {
        "id": "view-in-github",
        "colab_type": "text"
      },
      "source": [
        "<a href=\"https://colab.research.google.com/github/alfinmaulani/skripsi/blob/master/3.2pretrained_ekstraksi_dan_klasifikasi.ipynb\" target=\"_parent\"><img src=\"https://colab.research.google.com/assets/colab-badge.svg\" alt=\"Open In Colab\"/></a>"
      ]
    },
    {
      "cell_type": "code",
      "metadata": {
        "id": "ppjHrKAMn5M3",
        "colab": {
          "base_uri": "https://localhost:8080/"
        },
        "outputId": "c2934f09-968e-4f4d-d648-9a2230bc6b62"
      },
      "source": [
        "!pip install --upgrade scikit-learn\n",
        "import numpy as np\n",
        "import pandas as pd\n",
        "import io\n",
        "import os\n",
        "from nltk.tokenize import word_tokenize\n",
        "import nltk\n",
        "nltk.download('punkt')\n",
        "import gensim\n",
        "import ast"
      ],
      "execution_count": 37,
      "outputs": [
        {
          "output_type": "stream",
          "name": "stdout",
          "text": [
            "Requirement already satisfied: scikit-learn in /usr/local/lib/python3.7/dist-packages (1.0.2)\n",
            "Requirement already satisfied: joblib>=0.11 in /usr/local/lib/python3.7/dist-packages (from scikit-learn) (1.1.0)\n",
            "Requirement already satisfied: scipy>=1.1.0 in /usr/local/lib/python3.7/dist-packages (from scikit-learn) (1.4.1)\n",
            "Requirement already satisfied: threadpoolctl>=2.0.0 in /usr/local/lib/python3.7/dist-packages (from scikit-learn) (3.1.0)\n",
            "Requirement already satisfied: numpy>=1.14.6 in /usr/local/lib/python3.7/dist-packages (from scikit-learn) (1.21.5)\n",
            "[nltk_data] Downloading package punkt to /root/nltk_data...\n",
            "[nltk_data]   Package punkt is already up-to-date!\n"
          ]
        }
      ]
    },
    {
      "cell_type": "code",
      "metadata": {
        "id": "ELuaZrDFBIZn",
        "colab": {
          "base_uri": "https://localhost:8080/"
        },
        "outputId": "ad8405b3-213c-4357-9f1b-a2b1048418b6"
      },
      "source": [
        "from google.colab import drive\n",
        "drive.mount('/content/drive')"
      ],
      "execution_count": null,
      "outputs": [
        {
          "output_type": "stream",
          "name": "stdout",
          "text": [
            "Drive already mounted at /content/drive; to attempt to forcibly remount, call drive.mount(\"/content/drive\", force_remount=True).\n"
          ]
        }
      ]
    },
    {
      "cell_type": "markdown",
      "metadata": {
        "id": "JfjGwTOUIGMw"
      },
      "source": [
        "load korpus"
      ]
    },
    {
      "cell_type": "code",
      "metadata": {
        "id": "GXFu7i-AIGCe"
      },
      "source": [
        "url1 = '/content/drive/MyDrive/dataisear(preputama).csv'\n",
        "url2 = '/content/drive/MyDrive/dataisear(preptambah).csv'\n",
        "korpus2='/content/drive/MyDrive/korpusklasifikasi2(preputama).csv'\n",
        "df = pd.read_csv(korpus2)"
      ],
      "execution_count": 38,
      "outputs": []
    },
    {
      "cell_type": "code",
      "metadata": {
        "id": "Rbg31w7OWstj"
      },
      "source": [
        "temp=[]\n",
        "for senten in df.dokumen:\n",
        "  temp.append(ast.literal_eval(senten))\n",
        "df.dokumen=temp"
      ],
      "execution_count": null,
      "outputs": []
    },
    {
      "cell_type": "code",
      "source": [
        "temp=[]\n",
        "for senten in df.content:\n",
        "  temp.append(ast.literal_eval(senten))\n",
        "df.content=temp"
      ],
      "metadata": {
        "id": "ayJ3uHe_ihWU"
      },
      "execution_count": 40,
      "outputs": []
    },
    {
      "cell_type": "markdown",
      "metadata": {
        "id": "cuczHBRFsUa9"
      },
      "source": [
        "load model pretrained"
      ]
    },
    {
      "cell_type": "code",
      "metadata": {
        "id": "n9VTF2vmXtmL"
      },
      "source": [
        "from gensim.models import KeyedVectors\n",
        "from gensim.scripts.glove2word2vec import glove2word2vec\n",
        "from gensim.test.utils import get_tmpfile\n"
      ],
      "execution_count": 42,
      "outputs": []
    },
    {
      "cell_type": "code",
      "metadata": {
        "id": "qIoXXDtnuHNu"
      },
      "source": [
        "oslo1='/content/drive/MyDrive/Gensim Continuous Skipgram no lemma.bin'\n",
        "oslo2='/content/drive/MyDrive/Global Vectors no lemma.txt'"
      ],
      "execution_count": null,
      "outputs": []
    },
    {
      "cell_type": "code",
      "metadata": {
        "id": "dvCtlNIf3xex"
      },
      "source": [
        "w2vtweet='/content/drive/MyDrive/word2vec_twitter_tokens (1).bin'\n",
        "glovetweet='/content/drive/MyDrive/glove.twitter.27B.100d.txt'\n",
        "glovetweet2='/content/drive/MyDrive/enwiki.skip.size100.win10.neg15.sample1e-5.min15.txt'"
      ],
      "execution_count": null,
      "outputs": []
    },
    {
      "cell_type": "code",
      "metadata": {
        "id": "k7hwTacsQ0pE"
      },
      "source": [
        "w2vlain='/content/drive/MyDrive/enwiki.skip.size100.win10.neg15.sample1e-5.min15.txt'"
      ],
      "execution_count": 43,
      "outputs": []
    },
    {
      "cell_type": "code",
      "metadata": {
        "id": "q34kcPB2RC_l"
      },
      "source": [
        "# model=gensim.models.word2vec.Word2Vec.load(w2vlain)"
      ],
      "execution_count": null,
      "outputs": []
    },
    {
      "cell_type": "code",
      "metadata": {
        "id": "UB7kB6YDWZke"
      },
      "source": [
        "# premodel = KeyedVectors.load_word2vec_format(w2vlain, binary=True,encoding='utf-8')"
      ],
      "execution_count": null,
      "outputs": []
    },
    {
      "cell_type": "code",
      "metadata": {
        "id": "PadfoT_x5gEh"
      },
      "source": [
        "model = KeyedVectors.load_word2vec_format(w2vlain, binary=False)"
      ],
      "execution_count": 44,
      "outputs": []
    },
    {
      "cell_type": "code",
      "source": [
        "model.wv.vectors.shape"
      ],
      "metadata": {
        "id": "mTNRwZM6xqMq",
        "outputId": "bfdccdab-05ef-443c-9406-b0ada4cb7ca3",
        "colab": {
          "base_uri": "https://localhost:8080/"
        }
      },
      "execution_count": 45,
      "outputs": [
        {
          "output_type": "stream",
          "name": "stderr",
          "text": [
            "/usr/local/lib/python3.7/dist-packages/ipykernel_launcher.py:1: DeprecationWarning: Call to deprecated `wv` (Attribute will be removed in 4.0.0, use self instead).\n",
            "  \"\"\"Entry point for launching an IPython kernel.\n"
          ]
        },
        {
          "output_type": "execute_result",
          "data": {
            "text/plain": [
              "(400000, 100)"
            ]
          },
          "metadata": {},
          "execution_count": 45
        }
      ]
    },
    {
      "cell_type": "code",
      "metadata": {
        "id": "Td5wxxVcz0jH"
      },
      "source": [
        "tmp_file = get_tmpfile(\"test_word2vec.txt\")\n",
        "glove2word2vec(glovetweet2, tmp_file)\n",
        "model = KeyedVectors.load_word2vec_format(tmp_file)"
      ],
      "execution_count": null,
      "outputs": []
    },
    {
      "cell_type": "code",
      "metadata": {
        "id": "jD4DyL0OHz45"
      },
      "source": [
        "model.wv.vectors.shape"
      ],
      "execution_count": null,
      "outputs": []
    },
    {
      "cell_type": "code",
      "metadata": {
        "colab": {
          "base_uri": "https://localhost:8080/"
        },
        "id": "evxXjPcVVEjd",
        "outputId": "f626481a-f309-456e-be8e-a8c591fcbd73"
      },
      "source": [
        "premodel.wv.most_similar('me')"
      ],
      "execution_count": null,
      "outputs": [
        {
          "output_type": "stream",
          "name": "stderr",
          "text": [
            "/usr/local/lib/python3.7/dist-packages/ipykernel_launcher.py:1: DeprecationWarning: Call to deprecated `wv` (Attribute will be removed in 4.0.0, use self instead).\n",
            "  \"\"\"Entry point for launching an IPython kernel.\n"
          ]
        },
        {
          "output_type": "execute_result",
          "data": {
            "text/plain": [
              "[('you', 0.9431200623512268),\n",
              " ('my', 0.9270224571228027),\n",
              " ('myself', 0.9182223081588745),\n",
              " (\"'m\", 0.9053815603256226),\n",
              " ('somebody', 0.8988710641860962),\n",
              " ('yourself', 0.8796242475509644),\n",
              " ('you/you', 0.8744150400161743),\n",
              " ('yours', 0.8691789507865906),\n",
              " (\"'re\", 0.8691775798797607),\n",
              " (\"'ll\", 0.8676973581314087)]"
            ]
          },
          "metadata": {},
          "execution_count": 26
        }
      ]
    },
    {
      "cell_type": "code",
      "metadata": {
        "colab": {
          "base_uri": "https://localhost:8080/"
        },
        "id": "FxZOQd9xT0qm",
        "outputId": "d6b816de-e891-41da-c494-6cef3105c07b"
      },
      "source": [
        "model.wv.vectors.shape"
      ],
      "execution_count": null,
      "outputs": [
        {
          "output_type": "stream",
          "name": "stderr",
          "text": [
            "/usr/local/lib/python3.7/dist-packages/ipykernel_launcher.py:1: DeprecationWarning: Call to deprecated `wv` (Attribute will be removed in 4.0.0, use self instead).\n",
            "  \"\"\"Entry point for launching an IPython kernel.\n"
          ]
        },
        {
          "output_type": "execute_result",
          "data": {
            "text/plain": [
              "(400000, 100)"
            ]
          },
          "metadata": {},
          "execution_count": 9
        }
      ]
    },
    {
      "cell_type": "code",
      "metadata": {
        "colab": {
          "base_uri": "https://localhost:8080/"
        },
        "id": "8U2VR_T8T_On",
        "outputId": "ffb78fe0-d2c0-42db-ee8d-4ae496bd6ceb"
      },
      "source": [
        "model.wv.most_similar('not')"
      ],
      "execution_count": null,
      "outputs": [
        {
          "output_type": "execute_result",
          "data": {
            "text/plain": [
              "[('amnt', 0.8143506050109863),\n",
              " ('isnt', 0.8028733730316162),\n",
              " ('hmmmnot', 0.7910065054893494),\n",
              " ('promisenbsp', 0.7907173037528992),\n",
              " ('butwhat', 0.7885343432426453),\n",
              " ('bearly', 0.787845253944397),\n",
              " ('unrealistically', 0.7865164279937744),\n",
              " ('shutin', 0.7863471508026123),\n",
              " ('definitively', 0.7856874465942383),\n",
              " ('reguardless', 0.7855291962623596)]"
            ]
          },
          "metadata": {},
          "execution_count": 24
        }
      ]
    },
    {
      "cell_type": "markdown",
      "metadata": {
        "id": "6JohfG8XV99Z"
      },
      "source": [
        "reduce dimensi"
      ]
    },
    {
      "cell_type": "code",
      "metadata": {
        "id": "NZxssybaH40w"
      },
      "source": [
        "import sklearn.datasets\n",
        "!pip install umap-learn[plot]\n",
        "import plotly.express as px\n",
        "from umap import UMAP"
      ],
      "execution_count": null,
      "outputs": []
    },
    {
      "cell_type": "code",
      "metadata": {
        "id": "-Jy2r9-WH71z",
        "colab": {
          "base_uri": "https://localhost:8080/"
        },
        "outputId": "bda645ca-89e9-4034-c2d2-6f2a2a8a0717"
      },
      "source": [
        "reduced = UMAP(n_components=100).fit_transform(premodel.wv.vectors)"
      ],
      "execution_count": null,
      "outputs": [
        {
          "metadata": {
            "tags": null
          },
          "name": "stderr",
          "output_type": "stream",
          "text": [
            "/usr/local/lib/python3.7/dist-packages/ipykernel_launcher.py:1: DeprecationWarning:\n",
            "\n",
            "Call to deprecated `wv` (Attribute will be removed in 4.0.0, use self instead).\n",
            "\n",
            "/usr/local/lib/python3.7/dist-packages/numba/np/ufunc/parallel.py:363: NumbaWarning:\n",
            "\n",
            "The TBB threading layer requires TBB version 2019.5 or later i.e., TBB_INTERFACE_VERSION >= 11005. Found TBB_INTERFACE_VERSION = 9107. The TBB threading layer is disabled.\n",
            "\n"
          ]
        }
      ]
    },
    {
      "cell_type": "code",
      "metadata": {
        "id": "PPDtjasmIHDz",
        "colab": {
          "base_uri": "https://localhost:8080/"
        },
        "outputId": "404c28ff-3153-4d2d-b90e-8c083a8293ff"
      },
      "source": [
        "premodel.wv.vectors=reduced"
      ],
      "execution_count": null,
      "outputs": [
        {
          "output_type": "stream",
          "name": "stderr",
          "text": [
            "/usr/local/lib/python3.7/dist-packages/ipykernel_launcher.py:1: DeprecationWarning:\n",
            "\n",
            "Call to deprecated `wv` (Attribute will be removed in 4.0.0, use self instead).\n",
            "\n"
          ]
        }
      ]
    },
    {
      "cell_type": "code",
      "metadata": {
        "id": "Thgbj8xRIMom",
        "colab": {
          "base_uri": "https://localhost:8080/"
        },
        "outputId": "f7b9cf99-2131-4bca-b50e-bf15e3e0e3ee"
      },
      "source": [
        "premodel.wv.vectors.shape"
      ],
      "execution_count": null,
      "outputs": [
        {
          "output_type": "stream",
          "name": "stderr",
          "text": [
            "/usr/local/lib/python3.7/dist-packages/ipykernel_launcher.py:1: DeprecationWarning:\n",
            "\n",
            "Call to deprecated `wv` (Attribute will be removed in 4.0.0, use self instead).\n",
            "\n"
          ]
        },
        {
          "output_type": "execute_result",
          "data": {
            "text/plain": [
              "(291186, 100)"
            ]
          },
          "metadata": {},
          "execution_count": 45
        }
      ]
    },
    {
      "cell_type": "markdown",
      "metadata": {
        "id": "YSsV7F8iH6Fc"
      },
      "source": [
        "pilih model"
      ]
    },
    {
      "cell_type": "code",
      "metadata": {
        "id": "3YDHk0dTHK3I"
      },
      "source": [
        "pakai_model=3"
      ],
      "execution_count": 46,
      "outputs": []
    },
    {
      "cell_type": "markdown",
      "metadata": {
        "id": "D7KNPMXgKuTh"
      },
      "source": [
        "load model"
      ]
    },
    {
      "cell_type": "code",
      "metadata": {
        "id": "51MGV-yPrjeI",
        "colab": {
          "base_uri": "https://localhost:8080/"
        },
        "outputId": "b6377ca6-6e1b-47d3-cf3c-c20da3c768f9"
      },
      "source": [
        "from gensim.models import word2vec\n",
        "!pip install glove-python-binary\n",
        "from glove import Glove\n",
        "from glove import Corpus"
      ],
      "execution_count": null,
      "outputs": [
        {
          "output_type": "stream",
          "name": "stdout",
          "text": [
            "Collecting glove-python-binary\n",
            "  Downloading glove_python_binary-0.2.0-cp37-cp37m-manylinux1_x86_64.whl (948 kB)\n",
            "\u001b[K     |████████████████████████████████| 948 kB 7.6 MB/s \n",
            "\u001b[?25hRequirement already satisfied: numpy in /usr/local/lib/python3.7/dist-packages (from glove-python-binary) (1.21.5)\n",
            "Requirement already satisfied: scipy in /usr/local/lib/python3.7/dist-packages (from glove-python-binary) (1.4.1)\n",
            "Installing collected packages: glove-python-binary\n",
            "Successfully installed glove-python-binary-0.2.0\n"
          ]
        }
      ]
    },
    {
      "cell_type": "code",
      "metadata": {
        "id": "sk1ui5z-HgVp"
      },
      "source": [
        "if pakai_model == 1:#load model word2vec\n",
        "  model = gensim.models.word2vec.Word2Vec.load('/content/drive/MyDrive/korpusblogspertiga(preputama).w2v')\n",
        "\n",
        "elif pakai_model == 2:#load model glove\n",
        "  model=Glove.load('/content/drive/MyDrive/korpusblogspertiga(preputama).glove')"
      ],
      "execution_count": null,
      "outputs": []
    },
    {
      "cell_type": "markdown",
      "metadata": {
        "id": "B3U7TJuRJdBO"
      },
      "source": [
        "cek model"
      ]
    },
    {
      "cell_type": "code",
      "metadata": {
        "id": "P2Q0Z6Y9Og7a",
        "colab": {
          "base_uri": "https://localhost:8080/"
        },
        "outputId": "df045525-45b6-4f94-c31b-3756884edc59"
      },
      "source": [
        "if pakai_model == 1:\n",
        "  print(premodel.wv.vectors.shape)\n",
        "elif pakai_model == 2:\n",
        "  print(model.word_vectors.shape)"
      ],
      "execution_count": null,
      "outputs": [
        {
          "output_type": "stream",
          "name": "stdout",
          "text": [
            "(1193514, 100)\n"
          ]
        },
        {
          "output_type": "stream",
          "name": "stderr",
          "text": [
            "/usr/local/lib/python3.7/dist-packages/ipykernel_launcher.py:2: DeprecationWarning:\n",
            "\n",
            "Call to deprecated `wv` (Attribute will be removed in 4.0.0, use self instead).\n",
            "\n"
          ]
        }
      ]
    },
    {
      "cell_type": "code",
      "metadata": {
        "id": "xb2GLdHHK0jY"
      },
      "source": [
        "if pakai_model == 1:\n",
        "  print(model.wv[\"moment\"])\n",
        "elif pakai_model == 2:\n",
        "  print(model.word_vectors[model.dictionary['moment']])"
      ],
      "execution_count": null,
      "outputs": []
    },
    {
      "cell_type": "markdown",
      "metadata": {
        "id": "ClKPzISwOBo5"
      },
      "source": [
        "ambil conntoh model wor embedding"
      ]
    },
    {
      "cell_type": "code",
      "metadata": {
        "id": "fkjKjtJx-HOi"
      },
      "source": [
        "import array\n",
        "count=0\n",
        "simpanang=[]\n",
        "simpankat=[]\n",
        "jml=24\n",
        "if pakai_model == 1:\n",
        "  for senten in df.dokumen:\n",
        "    for word in senten:\n",
        "      simpanang.append(model.wv[word])\n",
        "      simpankat.append(word)\n",
        "      if count<jml:\n",
        "        count+=1\n",
        "      else :\n",
        "        break\n",
        "    if count<jml:\n",
        "      count+=1\n",
        "    else :\n",
        "      break\n",
        "\n",
        "elif pakai_model == 2:\n",
        "  for senten in df.dokumen:\n",
        "    for word in senten:\n",
        "      simpanang.append(model.word_vectors[model.dictionary[word]])\n",
        "      simpankat.append(word)\n",
        "      if count<jml:\n",
        "        count+=1\n",
        "      else :\n",
        "        break\n",
        "    if count<jml:\n",
        "      count+=1\n",
        "    else :\n",
        "      break\n",
        "\n",
        "has_vec=ekstrak"
      ],
      "execution_count": null,
      "outputs": []
    },
    {
      "cell_type": "code",
      "metadata": {
        "id": "r8PzZg0FGdX3",
        "colab": {
          "base_uri": "https://localhost:8080/"
        },
        "outputId": "056b45f4-57fa-49ab-9ae2-5cd5cbc86aea"
      },
      "source": [
        "dfang=pd.DataFrame(simpanang)\n",
        "dfkat=pd.DataFrame(simpankat)\n",
        "result = pd.concat([dfkat, dfang], axis=1)\n",
        "result.shape"
      ],
      "execution_count": null,
      "outputs": [
        {
          "output_type": "execute_result",
          "data": {
            "text/plain": [
              "(24, 101)"
            ]
          },
          "metadata": {},
          "execution_count": 47
        }
      ]
    },
    {
      "cell_type": "code",
      "metadata": {
        "id": "ztHqCBwyLTVi"
      },
      "source": [
        "result.to_excel(\"preptambah,glove.xlsx\")"
      ],
      "execution_count": null,
      "outputs": []
    },
    {
      "cell_type": "markdown",
      "metadata": {
        "id": "Poh0hOslBSOE"
      },
      "source": [
        "average base ekstraksi fitur"
      ]
    },
    {
      "cell_type": "code",
      "source": [
        "df"
      ],
      "metadata": {
        "id": "LRtEGZYSjQ2e",
        "outputId": "5effa80c-a48a-4308-a6db-02a868e19216",
        "colab": {
          "base_uri": "https://localhost:8080/",
          "height": 424
        }
      },
      "execution_count": 47,
      "outputs": [
        {
          "output_type": "execute_result",
          "data": {
            "text/plain": [
              "        tweet_id  sentiment                                            content\n",
              "0     1956968477      worry  [repinging, why, didnt, you, go, to, prom, bc,...\n",
              "1     1956968636      worry                                   [hmmm, is, down]\n",
              "2     1956969035    sadness                 [charlene, my, love, i, miss, you]\n",
              "3     1956969172    sadness                [im, sorry, at, least, its, friday]\n",
              "4     1956970047    sadness  [ugh, i, have, to, beat, this, stupid, song, t...\n",
              "...          ...        ...                                                ...\n",
              "9296  1753905073    neutral  [not, really, just, leaving, flat, now, on, th...\n",
              "9297  1753918809  happiness  [gave, the, bikes, a, thorough, wash, degrease...\n",
              "9298  1753918822       love  [his, snoring, is, so, annoying, n, it, keeps,...\n",
              "9299  1753919001       love               [happy, mothers, day, all, my, love]\n",
              "9300  1753919049       love  [bullet, train, from, tokyo, the, gf, and, i, ...\n",
              "\n",
              "[9301 rows x 3 columns]"
            ],
            "text/html": [
              "\n",
              "  <div id=\"df-77a9b891-b0c9-4d44-b731-212f6d0d18e5\">\n",
              "    <div class=\"colab-df-container\">\n",
              "      <div>\n",
              "<style scoped>\n",
              "    .dataframe tbody tr th:only-of-type {\n",
              "        vertical-align: middle;\n",
              "    }\n",
              "\n",
              "    .dataframe tbody tr th {\n",
              "        vertical-align: top;\n",
              "    }\n",
              "\n",
              "    .dataframe thead th {\n",
              "        text-align: right;\n",
              "    }\n",
              "</style>\n",
              "<table border=\"1\" class=\"dataframe\">\n",
              "  <thead>\n",
              "    <tr style=\"text-align: right;\">\n",
              "      <th></th>\n",
              "      <th>tweet_id</th>\n",
              "      <th>sentiment</th>\n",
              "      <th>content</th>\n",
              "    </tr>\n",
              "  </thead>\n",
              "  <tbody>\n",
              "    <tr>\n",
              "      <th>0</th>\n",
              "      <td>1956968477</td>\n",
              "      <td>worry</td>\n",
              "      <td>[repinging, why, didnt, you, go, to, prom, bc,...</td>\n",
              "    </tr>\n",
              "    <tr>\n",
              "      <th>1</th>\n",
              "      <td>1956968636</td>\n",
              "      <td>worry</td>\n",
              "      <td>[hmmm, is, down]</td>\n",
              "    </tr>\n",
              "    <tr>\n",
              "      <th>2</th>\n",
              "      <td>1956969035</td>\n",
              "      <td>sadness</td>\n",
              "      <td>[charlene, my, love, i, miss, you]</td>\n",
              "    </tr>\n",
              "    <tr>\n",
              "      <th>3</th>\n",
              "      <td>1956969172</td>\n",
              "      <td>sadness</td>\n",
              "      <td>[im, sorry, at, least, its, friday]</td>\n",
              "    </tr>\n",
              "    <tr>\n",
              "      <th>4</th>\n",
              "      <td>1956970047</td>\n",
              "      <td>sadness</td>\n",
              "      <td>[ugh, i, have, to, beat, this, stupid, song, t...</td>\n",
              "    </tr>\n",
              "    <tr>\n",
              "      <th>...</th>\n",
              "      <td>...</td>\n",
              "      <td>...</td>\n",
              "      <td>...</td>\n",
              "    </tr>\n",
              "    <tr>\n",
              "      <th>9296</th>\n",
              "      <td>1753905073</td>\n",
              "      <td>neutral</td>\n",
              "      <td>[not, really, just, leaving, flat, now, on, th...</td>\n",
              "    </tr>\n",
              "    <tr>\n",
              "      <th>9297</th>\n",
              "      <td>1753918809</td>\n",
              "      <td>happiness</td>\n",
              "      <td>[gave, the, bikes, a, thorough, wash, degrease...</td>\n",
              "    </tr>\n",
              "    <tr>\n",
              "      <th>9298</th>\n",
              "      <td>1753918822</td>\n",
              "      <td>love</td>\n",
              "      <td>[his, snoring, is, so, annoying, n, it, keeps,...</td>\n",
              "    </tr>\n",
              "    <tr>\n",
              "      <th>9299</th>\n",
              "      <td>1753919001</td>\n",
              "      <td>love</td>\n",
              "      <td>[happy, mothers, day, all, my, love]</td>\n",
              "    </tr>\n",
              "    <tr>\n",
              "      <th>9300</th>\n",
              "      <td>1753919049</td>\n",
              "      <td>love</td>\n",
              "      <td>[bullet, train, from, tokyo, the, gf, and, i, ...</td>\n",
              "    </tr>\n",
              "  </tbody>\n",
              "</table>\n",
              "<p>9301 rows × 3 columns</p>\n",
              "</div>\n",
              "      <button class=\"colab-df-convert\" onclick=\"convertToInteractive('df-77a9b891-b0c9-4d44-b731-212f6d0d18e5')\"\n",
              "              title=\"Convert this dataframe to an interactive table.\"\n",
              "              style=\"display:none;\">\n",
              "        \n",
              "  <svg xmlns=\"http://www.w3.org/2000/svg\" height=\"24px\"viewBox=\"0 0 24 24\"\n",
              "       width=\"24px\">\n",
              "    <path d=\"M0 0h24v24H0V0z\" fill=\"none\"/>\n",
              "    <path d=\"M18.56 5.44l.94 2.06.94-2.06 2.06-.94-2.06-.94-.94-2.06-.94 2.06-2.06.94zm-11 1L8.5 8.5l.94-2.06 2.06-.94-2.06-.94L8.5 2.5l-.94 2.06-2.06.94zm10 10l.94 2.06.94-2.06 2.06-.94-2.06-.94-.94-2.06-.94 2.06-2.06.94z\"/><path d=\"M17.41 7.96l-1.37-1.37c-.4-.4-.92-.59-1.43-.59-.52 0-1.04.2-1.43.59L10.3 9.45l-7.72 7.72c-.78.78-.78 2.05 0 2.83L4 21.41c.39.39.9.59 1.41.59.51 0 1.02-.2 1.41-.59l7.78-7.78 2.81-2.81c.8-.78.8-2.07 0-2.86zM5.41 20L4 18.59l7.72-7.72 1.47 1.35L5.41 20z\"/>\n",
              "  </svg>\n",
              "      </button>\n",
              "      \n",
              "  <style>\n",
              "    .colab-df-container {\n",
              "      display:flex;\n",
              "      flex-wrap:wrap;\n",
              "      gap: 12px;\n",
              "    }\n",
              "\n",
              "    .colab-df-convert {\n",
              "      background-color: #E8F0FE;\n",
              "      border: none;\n",
              "      border-radius: 50%;\n",
              "      cursor: pointer;\n",
              "      display: none;\n",
              "      fill: #1967D2;\n",
              "      height: 32px;\n",
              "      padding: 0 0 0 0;\n",
              "      width: 32px;\n",
              "    }\n",
              "\n",
              "    .colab-df-convert:hover {\n",
              "      background-color: #E2EBFA;\n",
              "      box-shadow: 0px 1px 2px rgba(60, 64, 67, 0.3), 0px 1px 3px 1px rgba(60, 64, 67, 0.15);\n",
              "      fill: #174EA6;\n",
              "    }\n",
              "\n",
              "    [theme=dark] .colab-df-convert {\n",
              "      background-color: #3B4455;\n",
              "      fill: #D2E3FC;\n",
              "    }\n",
              "\n",
              "    [theme=dark] .colab-df-convert:hover {\n",
              "      background-color: #434B5C;\n",
              "      box-shadow: 0px 1px 3px 1px rgba(0, 0, 0, 0.15);\n",
              "      filter: drop-shadow(0px 1px 2px rgba(0, 0, 0, 0.3));\n",
              "      fill: #FFFFFF;\n",
              "    }\n",
              "  </style>\n",
              "\n",
              "      <script>\n",
              "        const buttonEl =\n",
              "          document.querySelector('#df-77a9b891-b0c9-4d44-b731-212f6d0d18e5 button.colab-df-convert');\n",
              "        buttonEl.style.display =\n",
              "          google.colab.kernel.accessAllowed ? 'block' : 'none';\n",
              "\n",
              "        async function convertToInteractive(key) {\n",
              "          const element = document.querySelector('#df-77a9b891-b0c9-4d44-b731-212f6d0d18e5');\n",
              "          const dataTable =\n",
              "            await google.colab.kernel.invokeFunction('convertToInteractive',\n",
              "                                                     [key], {});\n",
              "          if (!dataTable) return;\n",
              "\n",
              "          const docLinkHtml = 'Like what you see? Visit the ' +\n",
              "            '<a target=\"_blank\" href=https://colab.research.google.com/notebooks/data_table.ipynb>data table notebook</a>'\n",
              "            + ' to learn more about interactive tables.';\n",
              "          element.innerHTML = '';\n",
              "          dataTable['output_type'] = 'display_data';\n",
              "          await google.colab.output.renderOutput(dataTable, element);\n",
              "          const docLink = document.createElement('div');\n",
              "          docLink.innerHTML = docLinkHtml;\n",
              "          element.appendChild(docLink);\n",
              "        }\n",
              "      </script>\n",
              "    </div>\n",
              "  </div>\n",
              "  "
            ]
          },
          "metadata": {},
          "execution_count": 47
        }
      ]
    },
    {
      "cell_type": "code",
      "metadata": {
        "id": "HugbL2uCLlIq",
        "colab": {
          "base_uri": "https://localhost:8080/"
        },
        "outputId": "f8912be7-6056-4f41-c27c-82c0548fe5d6"
      },
      "source": [
        "import array\n",
        "ekstrak=[]\n",
        "dim1=100\n",
        "dim3=300\n",
        "temp=array.array('i',(0,)*dim1)\n",
        "hitungpre=0\n",
        "hitungbiasa=0\n",
        "\n",
        "if pakai_model == 1:\n",
        "  for senten in df.dokumen:\n",
        "    jumlah_dipakai=0\n",
        "    for word in senten:\n",
        "      try:\n",
        "        temp=np.add(temp,model.wv[word])\n",
        "        jumlah_dipakai+=1\n",
        "        hitungpre+=1\n",
        "      except:\n",
        "        temp=np.add(temp,np.zeros((100)))\n",
        "        hitungbiasa+=1\n",
        "    if jumlah_dipakai!=0:\n",
        "      temp=temp/jumlah_dipakai\n",
        "    ekstrak.append(temp)\n",
        "\n",
        "elif pakai_model == 2:\n",
        "  for senten in df.dokumen:\n",
        "    for word in senten:\n",
        "      try:\n",
        "        temp=np.add(temp,premodel.wv[word])\n",
        "        hitungpre+=1\n",
        "      except:\n",
        "        temp=np.add(temp,model.word_vectors[model.dictionary[word]])\n",
        "        hitungbiasa+=1\n",
        "    temp=temp/len(senten)\n",
        "    ekstrak.append(temp)\n",
        "\n",
        "if pakai_model == 3:\n",
        "  for senten in df.content:\n",
        "    jumlah_dipakai=0\n",
        "    for word in senten:\n",
        "      try:\n",
        "        temp=np.add(temp,model.wv[word])\n",
        "        jumlah_dipakai+=1\n",
        "        hitungpre+=1\n",
        "      except:\n",
        "        temp=np.add(temp,np.zeros((100)))\n",
        "        hitungbiasa+=1\n",
        "    if jumlah_dipakai!=0:\n",
        "      temp=temp/jumlah_dipakai\n",
        "    ekstrak.append(temp)\n",
        "\n",
        "has_vec=ekstrak"
      ],
      "execution_count": 48,
      "outputs": [
        {
          "output_type": "stream",
          "name": "stderr",
          "text": [
            "/usr/local/lib/python3.7/dist-packages/ipykernel_launcher.py:41: DeprecationWarning: Call to deprecated `wv` (Attribute will be removed in 4.0.0, use self instead).\n"
          ]
        }
      ]
    },
    {
      "cell_type": "code",
      "metadata": {
        "colab": {
          "base_uri": "https://localhost:8080/"
        },
        "id": "2ZtRcPCJySnS",
        "outputId": "da1d4fb8-dd41-48c3-903e-f61d845ae74f"
      },
      "source": [
        "print(hitungpre)\n",
        "print(hitungbiasa)\n",
        "print(hitungpre+hitungbiasa)"
      ],
      "execution_count": 49,
      "outputs": [
        {
          "output_type": "stream",
          "name": "stdout",
          "text": [
            "113752\n",
            "4414\n",
            "118166\n"
          ]
        }
      ]
    },
    {
      "cell_type": "code",
      "metadata": {
        "id": "Z-n3bpfF16vJ",
        "colab": {
          "base_uri": "https://localhost:8080/"
        },
        "outputId": "154159c1-d61b-4b68-cbd6-8cc223f33f6e"
      },
      "source": [
        "X=has_vec\n",
        "y=df.sentiment\n",
        "print(np.shape(X))\n",
        "print(np.shape(y))\n",
        "# print(X)\n",
        "# print(y)"
      ],
      "execution_count": 50,
      "outputs": [
        {
          "output_type": "stream",
          "name": "stdout",
          "text": [
            "(9301, 100)\n",
            "(9301,)\n"
          ]
        }
      ]
    },
    {
      "cell_type": "code",
      "source": [
        "df"
      ],
      "metadata": {
        "id": "xwylDof9pGqo",
        "outputId": "c0aafc49-dee4-414b-e47c-a9086477c9dc",
        "colab": {
          "base_uri": "https://localhost:8080/",
          "height": 424
        }
      },
      "execution_count": 51,
      "outputs": [
        {
          "output_type": "execute_result",
          "data": {
            "text/plain": [
              "        tweet_id  sentiment                                            content\n",
              "0     1956968477      worry  [repinging, why, didnt, you, go, to, prom, bc,...\n",
              "1     1956968636      worry                                   [hmmm, is, down]\n",
              "2     1956969035    sadness                 [charlene, my, love, i, miss, you]\n",
              "3     1956969172    sadness                [im, sorry, at, least, its, friday]\n",
              "4     1956970047    sadness  [ugh, i, have, to, beat, this, stupid, song, t...\n",
              "...          ...        ...                                                ...\n",
              "9296  1753905073    neutral  [not, really, just, leaving, flat, now, on, th...\n",
              "9297  1753918809  happiness  [gave, the, bikes, a, thorough, wash, degrease...\n",
              "9298  1753918822       love  [his, snoring, is, so, annoying, n, it, keeps,...\n",
              "9299  1753919001       love               [happy, mothers, day, all, my, love]\n",
              "9300  1753919049       love  [bullet, train, from, tokyo, the, gf, and, i, ...\n",
              "\n",
              "[9301 rows x 3 columns]"
            ],
            "text/html": [
              "\n",
              "  <div id=\"df-7a8575e4-c005-4927-88e6-e6847b6a69e0\">\n",
              "    <div class=\"colab-df-container\">\n",
              "      <div>\n",
              "<style scoped>\n",
              "    .dataframe tbody tr th:only-of-type {\n",
              "        vertical-align: middle;\n",
              "    }\n",
              "\n",
              "    .dataframe tbody tr th {\n",
              "        vertical-align: top;\n",
              "    }\n",
              "\n",
              "    .dataframe thead th {\n",
              "        text-align: right;\n",
              "    }\n",
              "</style>\n",
              "<table border=\"1\" class=\"dataframe\">\n",
              "  <thead>\n",
              "    <tr style=\"text-align: right;\">\n",
              "      <th></th>\n",
              "      <th>tweet_id</th>\n",
              "      <th>sentiment</th>\n",
              "      <th>content</th>\n",
              "    </tr>\n",
              "  </thead>\n",
              "  <tbody>\n",
              "    <tr>\n",
              "      <th>0</th>\n",
              "      <td>1956968477</td>\n",
              "      <td>worry</td>\n",
              "      <td>[repinging, why, didnt, you, go, to, prom, bc,...</td>\n",
              "    </tr>\n",
              "    <tr>\n",
              "      <th>1</th>\n",
              "      <td>1956968636</td>\n",
              "      <td>worry</td>\n",
              "      <td>[hmmm, is, down]</td>\n",
              "    </tr>\n",
              "    <tr>\n",
              "      <th>2</th>\n",
              "      <td>1956969035</td>\n",
              "      <td>sadness</td>\n",
              "      <td>[charlene, my, love, i, miss, you]</td>\n",
              "    </tr>\n",
              "    <tr>\n",
              "      <th>3</th>\n",
              "      <td>1956969172</td>\n",
              "      <td>sadness</td>\n",
              "      <td>[im, sorry, at, least, its, friday]</td>\n",
              "    </tr>\n",
              "    <tr>\n",
              "      <th>4</th>\n",
              "      <td>1956970047</td>\n",
              "      <td>sadness</td>\n",
              "      <td>[ugh, i, have, to, beat, this, stupid, song, t...</td>\n",
              "    </tr>\n",
              "    <tr>\n",
              "      <th>...</th>\n",
              "      <td>...</td>\n",
              "      <td>...</td>\n",
              "      <td>...</td>\n",
              "    </tr>\n",
              "    <tr>\n",
              "      <th>9296</th>\n",
              "      <td>1753905073</td>\n",
              "      <td>neutral</td>\n",
              "      <td>[not, really, just, leaving, flat, now, on, th...</td>\n",
              "    </tr>\n",
              "    <tr>\n",
              "      <th>9297</th>\n",
              "      <td>1753918809</td>\n",
              "      <td>happiness</td>\n",
              "      <td>[gave, the, bikes, a, thorough, wash, degrease...</td>\n",
              "    </tr>\n",
              "    <tr>\n",
              "      <th>9298</th>\n",
              "      <td>1753918822</td>\n",
              "      <td>love</td>\n",
              "      <td>[his, snoring, is, so, annoying, n, it, keeps,...</td>\n",
              "    </tr>\n",
              "    <tr>\n",
              "      <th>9299</th>\n",
              "      <td>1753919001</td>\n",
              "      <td>love</td>\n",
              "      <td>[happy, mothers, day, all, my, love]</td>\n",
              "    </tr>\n",
              "    <tr>\n",
              "      <th>9300</th>\n",
              "      <td>1753919049</td>\n",
              "      <td>love</td>\n",
              "      <td>[bullet, train, from, tokyo, the, gf, and, i, ...</td>\n",
              "    </tr>\n",
              "  </tbody>\n",
              "</table>\n",
              "<p>9301 rows × 3 columns</p>\n",
              "</div>\n",
              "      <button class=\"colab-df-convert\" onclick=\"convertToInteractive('df-7a8575e4-c005-4927-88e6-e6847b6a69e0')\"\n",
              "              title=\"Convert this dataframe to an interactive table.\"\n",
              "              style=\"display:none;\">\n",
              "        \n",
              "  <svg xmlns=\"http://www.w3.org/2000/svg\" height=\"24px\"viewBox=\"0 0 24 24\"\n",
              "       width=\"24px\">\n",
              "    <path d=\"M0 0h24v24H0V0z\" fill=\"none\"/>\n",
              "    <path d=\"M18.56 5.44l.94 2.06.94-2.06 2.06-.94-2.06-.94-.94-2.06-.94 2.06-2.06.94zm-11 1L8.5 8.5l.94-2.06 2.06-.94-2.06-.94L8.5 2.5l-.94 2.06-2.06.94zm10 10l.94 2.06.94-2.06 2.06-.94-2.06-.94-.94-2.06-.94 2.06-2.06.94z\"/><path d=\"M17.41 7.96l-1.37-1.37c-.4-.4-.92-.59-1.43-.59-.52 0-1.04.2-1.43.59L10.3 9.45l-7.72 7.72c-.78.78-.78 2.05 0 2.83L4 21.41c.39.39.9.59 1.41.59.51 0 1.02-.2 1.41-.59l7.78-7.78 2.81-2.81c.8-.78.8-2.07 0-2.86zM5.41 20L4 18.59l7.72-7.72 1.47 1.35L5.41 20z\"/>\n",
              "  </svg>\n",
              "      </button>\n",
              "      \n",
              "  <style>\n",
              "    .colab-df-container {\n",
              "      display:flex;\n",
              "      flex-wrap:wrap;\n",
              "      gap: 12px;\n",
              "    }\n",
              "\n",
              "    .colab-df-convert {\n",
              "      background-color: #E8F0FE;\n",
              "      border: none;\n",
              "      border-radius: 50%;\n",
              "      cursor: pointer;\n",
              "      display: none;\n",
              "      fill: #1967D2;\n",
              "      height: 32px;\n",
              "      padding: 0 0 0 0;\n",
              "      width: 32px;\n",
              "    }\n",
              "\n",
              "    .colab-df-convert:hover {\n",
              "      background-color: #E2EBFA;\n",
              "      box-shadow: 0px 1px 2px rgba(60, 64, 67, 0.3), 0px 1px 3px 1px rgba(60, 64, 67, 0.15);\n",
              "      fill: #174EA6;\n",
              "    }\n",
              "\n",
              "    [theme=dark] .colab-df-convert {\n",
              "      background-color: #3B4455;\n",
              "      fill: #D2E3FC;\n",
              "    }\n",
              "\n",
              "    [theme=dark] .colab-df-convert:hover {\n",
              "      background-color: #434B5C;\n",
              "      box-shadow: 0px 1px 3px 1px rgba(0, 0, 0, 0.15);\n",
              "      filter: drop-shadow(0px 1px 2px rgba(0, 0, 0, 0.3));\n",
              "      fill: #FFFFFF;\n",
              "    }\n",
              "  </style>\n",
              "\n",
              "      <script>\n",
              "        const buttonEl =\n",
              "          document.querySelector('#df-7a8575e4-c005-4927-88e6-e6847b6a69e0 button.colab-df-convert');\n",
              "        buttonEl.style.display =\n",
              "          google.colab.kernel.accessAllowed ? 'block' : 'none';\n",
              "\n",
              "        async function convertToInteractive(key) {\n",
              "          const element = document.querySelector('#df-7a8575e4-c005-4927-88e6-e6847b6a69e0');\n",
              "          const dataTable =\n",
              "            await google.colab.kernel.invokeFunction('convertToInteractive',\n",
              "                                                     [key], {});\n",
              "          if (!dataTable) return;\n",
              "\n",
              "          const docLinkHtml = 'Like what you see? Visit the ' +\n",
              "            '<a target=\"_blank\" href=https://colab.research.google.com/notebooks/data_table.ipynb>data table notebook</a>'\n",
              "            + ' to learn more about interactive tables.';\n",
              "          element.innerHTML = '';\n",
              "          dataTable['output_type'] = 'display_data';\n",
              "          await google.colab.output.renderOutput(dataTable, element);\n",
              "          const docLink = document.createElement('div');\n",
              "          docLink.innerHTML = docLinkHtml;\n",
              "          element.appendChild(docLink);\n",
              "        }\n",
              "      </script>\n",
              "    </div>\n",
              "  </div>\n",
              "  "
            ]
          },
          "metadata": {},
          "execution_count": 51
        }
      ]
    },
    {
      "cell_type": "markdown",
      "metadata": {
        "id": "y-VBfpD9PmVe"
      },
      "source": [
        "klasifikasi svm"
      ]
    },
    {
      "cell_type": "code",
      "metadata": {
        "id": "xba_npk4MTuy"
      },
      "source": [
        "from sklearn import svm\n",
        "from sklearn.metrics import confusion_matrix\n",
        "from sklearn.metrics import accuracy_score\n",
        "from sklearn.model_selection import cross_val_predict\n",
        "import matplotlib.pyplot as plt\n",
        "from sklearn.metrics import ConfusionMatrixDisplay\n",
        "from sklearn.metrics import precision_recall_fscore_support\n",
        "from sklearn.model_selection import cross_val_score"
      ],
      "execution_count": 52,
      "outputs": []
    },
    {
      "cell_type": "code",
      "metadata": {
        "id": "EqFIpy1m-Nly"
      },
      "source": [
        "def klasifikasi(y_pred):\n",
        "  ConfusionMatrixDisplay.from_predictions(y, y_pred)\n",
        "  plt.show()\n",
        "  print(accuracy_score(y, y_pred))\n",
        "  print(precision_recall_fscore_support(y, y_pred, average='macro'))"
      ],
      "execution_count": 53,
      "outputs": []
    },
    {
      "cell_type": "code",
      "metadata": {
        "id": "ENBn6uuK1TmE",
        "colab": {
          "base_uri": "https://localhost:8080/",
          "height": 317
        },
        "outputId": "49c4d28d-b832-4a85-ed93-c9d6a98af579"
      },
      "source": [
        "clf = svm.SVC(kernel='poly', decision_function_shape='ovr', C=17)\n",
        "# acc10k=cross_val_score(clf, X, y, cv=10)\n",
        "# np.mean(acc10k)\n",
        "y_pred = cross_val_predict(clf, X, y, cv=10)\n",
        "klasifikasi(y_pred)"
      ],
      "execution_count": 55,
      "outputs": [
        {
          "output_type": "display_data",
          "data": {
            "text/plain": [
              "<Figure size 432x288 with 2 Axes>"
            ],
            "image/png": "[encoded data removed]"
          },
          "metadata": {
            "needs_background": "light"
          }
        },
        {
          "output_type": "stream",
          "name": "stdout",
          "text": [
            "0.32448123857649713\n",
            "(0.31792219963971685, 0.32430565318005355, 0.3166388465034818, None)\n"
          ]
        }
      ]
    },
    {
      "cell_type": "code",
      "metadata": {
        "id": "3zxYveF-1Tgt",
        "colab": {
          "base_uri": "https://localhost:8080/",
          "height": 316
        },
        "outputId": "c0d38462-0177-4bdf-caa8-7c632687e00d"
      },
      "source": [
        "clf = svm.SVC(kernel='rbf', decision_function_shape='ovr')\n",
        "y_pred = cross_val_predict(clf, X, y, cv=10)\n",
        "klasifikasi(y_pred)"
      ],
      "execution_count": 56,
      "outputs": [
        {
          "output_type": "display_data",
          "data": {
            "text/plain": [
              "<Figure size 432x288 with 2 Axes>"
            ],
            "image/png": "[encoded data removed]"
          },
          "metadata": {
            "needs_background": "light"
          }
        },
        {
          "output_type": "stream",
          "name": "stdout",
          "text": [
            "0.3346951940651543\n",
            "(0.3314344522926846, 0.3344809583983398, 0.3310735004558455, None)\n"
          ]
        }
      ]
    },
    {
      "cell_type": "code",
      "metadata": {
        "id": "Q5ApUnrpQ-1C",
        "colab": {
          "base_uri": "https://localhost:8080/",
          "height": 316
        },
        "outputId": "a829c93d-eb3c-45b4-da78-f69d0cd712f2"
      },
      "source": [
        "clf = svm.SVC(kernel='linear', decision_function_shape='ovr')\n",
        "y_pred = cross_val_predict(clf, X, y, cv=10)\n",
        "klasifikasi(y_pred)"
      ],
      "execution_count": 57,
      "outputs": [
        {
          "output_type": "display_data",
          "data": {
            "text/plain": [
              "<Figure size 432x288 with 2 Axes>"
            ],
            "image/png": "[encoded data removed]"
          },
          "metadata": {
            "needs_background": "light"
          }
        },
        {
          "output_type": "stream",
          "name": "stdout",
          "text": [
            "0.3249112998602301\n",
            "(0.3208771873325237, 0.32471725475827695, 0.3213172510991284, None)\n"
          ]
        }
      ]
    }
  ]
}