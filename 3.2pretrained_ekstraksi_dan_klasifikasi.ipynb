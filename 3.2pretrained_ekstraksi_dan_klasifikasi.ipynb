{
  "nbformat": 4,
  "nbformat_minor": 0,
  "metadata": {
    "colab": {
      "name": "pretrained_ekstraksi_dan_klasifikasi.ipynb",
      "provenance": [],
      "collapsed_sections": [],
      "mount_file_id": "https://github.com/alfinmaulani/skripsi/blob/master/3.2pretrained_ekstraksi_dan_klasifikasi.ipynb",
      "authorship_tag": "ABX9TyOnIsqU8WTxtj6a9Zz9iXeh",
      "include_colab_link": true
    },
    "kernelspec": {
      "name": "python3",
      "display_name": "Python 3"
    },
    "language_info": {
      "name": "python"
    },
    "accelerator": "GPU"
  },
  "cells": [
    {
      "cell_type": "markdown",
      "metadata": {
        "id": "view-in-github",
        "colab_type": "text"
      },
      "source": [
        "<a href=\"https://colab.research.google.com/github/alfinmaulani/skripsi/blob/master/3.2pretrained_ekstraksi_dan_klasifikasi.ipynb\" target=\"_parent\"><img src=\"https://colab.research.google.com/assets/colab-badge.svg\" alt=\"Open In Colab\"/></a>"
      ]
    },
    {
      "cell_type": "code",
      "metadata": {
        "id": "ppjHrKAMn5M3",
        "colab": {
          "base_uri": "https://localhost:8080/"
        },
        "outputId": "b1438eee-d196-400a-d1a1-fdd54cd9e963"
      },
      "source": [
        "!pip install --upgrade scikit-learn\n",
        "import numpy as np\n",
        "import pandas as pd\n",
        "import io\n",
        "import os\n",
        "from nltk.tokenize import word_tokenize\n",
        "import nltk\n",
        "nltk.download('punkt')\n",
        "import gensim\n",
        "import ast"
      ],
      "execution_count": 24,
      "outputs": [
        {
          "output_type": "stream",
          "name": "stdout",
          "text": [
            "Requirement already satisfied: scikit-learn in /usr/local/lib/python3.7/dist-packages (1.0.1)\n",
            "Requirement already satisfied: threadpoolctl>=2.0.0 in /usr/local/lib/python3.7/dist-packages (from scikit-learn) (3.0.0)\n",
            "Requirement already satisfied: scipy>=1.1.0 in /usr/local/lib/python3.7/dist-packages (from scikit-learn) (1.4.1)\n",
            "Requirement already satisfied: joblib>=0.11 in /usr/local/lib/python3.7/dist-packages (from scikit-learn) (1.1.0)\n",
            "Requirement already satisfied: numpy>=1.14.6 in /usr/local/lib/python3.7/dist-packages (from scikit-learn) (1.19.5)\n",
            "[nltk_data] Downloading package punkt to /root/nltk_data...\n",
            "[nltk_data]   Package punkt is already up-to-date!\n"
          ]
        }
      ]
    },
    {
      "cell_type": "code",
      "metadata": {
        "id": "ELuaZrDFBIZn",
        "outputId": "ad8405b3-213c-4357-9f1b-a2b1048418b6",
        "colab": {
          "base_uri": "https://localhost:8080/"
        }
      },
      "source": [
        "from google.colab import drive\n",
        "drive.mount('/content/drive')"
      ],
      "execution_count": 2,
      "outputs": [
        {
          "output_type": "stream",
          "name": "stdout",
          "text": [
            "Drive already mounted at /content/drive; to attempt to forcibly remount, call drive.mount(\"/content/drive\", force_remount=True).\n"
          ]
        }
      ]
    },
    {
      "cell_type": "markdown",
      "metadata": {
        "id": "JfjGwTOUIGMw"
      },
      "source": [
        "load korpus"
      ]
    },
    {
      "cell_type": "code",
      "metadata": {
        "id": "GXFu7i-AIGCe"
      },
      "source": [
        "url1 = '/content/drive/MyDrive/dataisear(preputama).csv'\n",
        "url2 = '/content/drive/MyDrive/dataisear(preptambah).csv'\n",
        "df = pd.read_csv(url1)"
      ],
      "execution_count": 3,
      "outputs": []
    },
    {
      "cell_type": "code",
      "metadata": {
        "id": "Rbg31w7OWstj"
      },
      "source": [
        "temp=[]\n",
        "for senten in df.dokumen:\n",
        "  temp.append(ast.literal_eval(senten))\n",
        "df.dokumen=temp"
      ],
      "execution_count": 4,
      "outputs": []
    },
    {
      "cell_type": "markdown",
      "metadata": {
        "id": "cuczHBRFsUa9"
      },
      "source": [
        "load model pretrained"
      ]
    },
    {
      "cell_type": "code",
      "metadata": {
        "id": "n9VTF2vmXtmL"
      },
      "source": [
        "from gensim.models import KeyedVectors\n",
        "from gensim.scripts.glove2word2vec import glove2word2vec\n",
        "from gensim.test.utils import get_tmpfile"
      ],
      "execution_count": 5,
      "outputs": []
    },
    {
      "cell_type": "code",
      "metadata": {
        "id": "qIoXXDtnuHNu"
      },
      "source": [
        "oslo1='/content/drive/MyDrive/Gensim Continuous Skipgram no lemma.bin'\n",
        "oslo2='/content/drive/MyDrive/Global Vectors no lemma.txt'"
      ],
      "execution_count": 25,
      "outputs": []
    },
    {
      "cell_type": "code",
      "metadata": {
        "id": "dvCtlNIf3xex"
      },
      "source": [
        "w2vtweet='/content/drive/MyDrive/word2vec_twitter_tokens (1).bin'\n",
        "glovetweet='/content/drive/MyDrive/glove.twitter.27B.100d.txt'"
      ],
      "execution_count": 7,
      "outputs": []
    },
    {
      "cell_type": "code",
      "metadata": {
        "id": "UB7kB6YDWZke"
      },
      "source": [
        "premodel = KeyedVectors.load_word2vec_format(w2vtweet, binary=True,encoding='utf-8')\n",
        "# model=gensim.models.word2vec.Word2Vec.load('')"
      ],
      "execution_count": null,
      "outputs": []
    },
    {
      "cell_type": "code",
      "metadata": {
        "id": "PadfoT_x5gEh"
      },
      "source": [
        "premodel = KeyedVectors.load_word2vec_format(oslo1, binary=True)"
      ],
      "execution_count": 26,
      "outputs": []
    },
    {
      "cell_type": "code",
      "metadata": {
        "id": "Td5wxxVcz0jH"
      },
      "source": [
        "tmp_file = get_tmpfile(\"test_word2vec.txt\")\n",
        "glove2word2vec(glovetweet, tmp_file)\n",
        "premodel = KeyedVectors.load_word2vec_format(tmp_file)"
      ],
      "execution_count": 59,
      "outputs": []
    },
    {
      "cell_type": "code",
      "metadata": {
        "id": "jD4DyL0OHz45",
        "outputId": "ad79e3fe-357a-4b75-bfd7-5a903aa40654",
        "colab": {
          "base_uri": "https://localhost:8080/"
        }
      },
      "source": [
        "premodel.wv.vectors.shape"
      ],
      "execution_count": 60,
      "outputs": [
        {
          "output_type": "stream",
          "name": "stderr",
          "text": [
            "/usr/local/lib/python3.7/dist-packages/ipykernel_launcher.py:1: DeprecationWarning:\n",
            "\n",
            "Call to deprecated `wv` (Attribute will be removed in 4.0.0, use self instead).\n",
            "\n"
          ]
        },
        {
          "output_type": "execute_result",
          "data": {
            "text/plain": [
              "(1193514, 100)"
            ]
          },
          "metadata": {},
          "execution_count": 60
        }
      ]
    },
    {
      "cell_type": "markdown",
      "metadata": {
        "id": "6JohfG8XV99Z"
      },
      "source": [
        "reduce dimensi"
      ]
    },
    {
      "cell_type": "code",
      "metadata": {
        "id": "NZxssybaH40w"
      },
      "source": [
        "import sklearn.datasets\n",
        "!pip install umap-learn[plot]\n",
        "import plotly.express as px\n",
        "from umap import UMAP"
      ],
      "execution_count": 42,
      "outputs": []
    },
    {
      "cell_type": "code",
      "metadata": {
        "id": "-Jy2r9-WH71z",
        "outputId": "bda645ca-89e9-4034-c2d2-6f2a2a8a0717",
        "colab": {
          "base_uri": "https://localhost:8080/"
        }
      },
      "source": [
        "reduced = UMAP(n_components=100).fit_transform(premodel.wv.vectors)"
      ],
      "execution_count": 43,
      "outputs": [
        {
          "metadata": {
            "tags": null
          },
          "name": "stderr",
          "output_type": "stream",
          "text": [
            "/usr/local/lib/python3.7/dist-packages/ipykernel_launcher.py:1: DeprecationWarning:\n",
            "\n",
            "Call to deprecated `wv` (Attribute will be removed in 4.0.0, use self instead).\n",
            "\n",
            "/usr/local/lib/python3.7/dist-packages/numba/np/ufunc/parallel.py:363: NumbaWarning:\n",
            "\n",
            "The TBB threading layer requires TBB version 2019.5 or later i.e., TBB_INTERFACE_VERSION >= 11005. Found TBB_INTERFACE_VERSION = 9107. The TBB threading layer is disabled.\n",
            "\n"
          ]
        }
      ]
    },
    {
      "cell_type": "code",
      "metadata": {
        "id": "PPDtjasmIHDz",
        "outputId": "404c28ff-3153-4d2d-b90e-8c083a8293ff",
        "colab": {
          "base_uri": "https://localhost:8080/"
        }
      },
      "source": [
        "premodel.wv.vectors=reduced"
      ],
      "execution_count": 44,
      "outputs": [
        {
          "output_type": "stream",
          "name": "stderr",
          "text": [
            "/usr/local/lib/python3.7/dist-packages/ipykernel_launcher.py:1: DeprecationWarning:\n",
            "\n",
            "Call to deprecated `wv` (Attribute will be removed in 4.0.0, use self instead).\n",
            "\n"
          ]
        }
      ]
    },
    {
      "cell_type": "code",
      "metadata": {
        "id": "Thgbj8xRIMom",
        "outputId": "f7b9cf99-2131-4bca-b50e-bf15e3e0e3ee",
        "colab": {
          "base_uri": "https://localhost:8080/"
        }
      },
      "source": [
        "premodel.wv.vectors.shape"
      ],
      "execution_count": 45,
      "outputs": [
        {
          "output_type": "stream",
          "name": "stderr",
          "text": [
            "/usr/local/lib/python3.7/dist-packages/ipykernel_launcher.py:1: DeprecationWarning:\n",
            "\n",
            "Call to deprecated `wv` (Attribute will be removed in 4.0.0, use self instead).\n",
            "\n"
          ]
        },
        {
          "output_type": "execute_result",
          "data": {
            "text/plain": [
              "(291186, 100)"
            ]
          },
          "metadata": {},
          "execution_count": 45
        }
      ]
    },
    {
      "cell_type": "markdown",
      "metadata": {
        "id": "YSsV7F8iH6Fc"
      },
      "source": [
        "pilih model"
      ]
    },
    {
      "cell_type": "code",
      "metadata": {
        "id": "3YDHk0dTHK3I"
      },
      "source": [
        "pakai_model=2"
      ],
      "execution_count": 27,
      "outputs": []
    },
    {
      "cell_type": "markdown",
      "metadata": {
        "id": "D7KNPMXgKuTh"
      },
      "source": [
        "load model"
      ]
    },
    {
      "cell_type": "code",
      "metadata": {
        "id": "51MGV-yPrjeI",
        "colab": {
          "base_uri": "https://localhost:8080/"
        },
        "outputId": "b47496cc-9c93-487a-fcde-d9445bc07cfd"
      },
      "source": [
        "from gensim.models import word2vec\n",
        "!pip install glove-python-binary\n",
        "from glove import Glove\n",
        "from glove import Corpus"
      ],
      "execution_count": 10,
      "outputs": [
        {
          "output_type": "stream",
          "name": "stdout",
          "text": [
            "Collecting glove-python-binary\n",
            "  Downloading glove_python_binary-0.2.0-cp37-cp37m-manylinux1_x86_64.whl (948 kB)\n",
            "\u001b[?25l\r\u001b[K     |▍                               | 10 kB 20.1 MB/s eta 0:00:01\r\u001b[K     |▊                               | 20 kB 25.4 MB/s eta 0:00:01\r\u001b[K     |█                               | 30 kB 30.4 MB/s eta 0:00:01\r\u001b[K     |█▍                              | 40 kB 31.2 MB/s eta 0:00:01\r\u001b[K     |█▊                              | 51 kB 15.0 MB/s eta 0:00:01\r\u001b[K     |██                              | 61 kB 12.6 MB/s eta 0:00:01\r\u001b[K     |██▍                             | 71 kB 12.3 MB/s eta 0:00:01\r\u001b[K     |██▊                             | 81 kB 13.4 MB/s eta 0:00:01\r\u001b[K     |███                             | 92 kB 13.6 MB/s eta 0:00:01\r\u001b[K     |███▌                            | 102 kB 12.8 MB/s eta 0:00:01\r\u001b[K     |███▉                            | 112 kB 12.8 MB/s eta 0:00:01\r\u001b[K     |████▏                           | 122 kB 12.8 MB/s eta 0:00:01\r\u001b[K     |████▌                           | 133 kB 12.8 MB/s eta 0:00:01\r\u001b[K     |████▉                           | 143 kB 12.8 MB/s eta 0:00:01\r\u001b[K     |█████▏                          | 153 kB 12.8 MB/s eta 0:00:01\r\u001b[K     |█████▌                          | 163 kB 12.8 MB/s eta 0:00:01\r\u001b[K     |█████▉                          | 174 kB 12.8 MB/s eta 0:00:01\r\u001b[K     |██████▏                         | 184 kB 12.8 MB/s eta 0:00:01\r\u001b[K     |██████▋                         | 194 kB 12.8 MB/s eta 0:00:01\r\u001b[K     |███████                         | 204 kB 12.8 MB/s eta 0:00:01\r\u001b[K     |███████▎                        | 215 kB 12.8 MB/s eta 0:00:01\r\u001b[K     |███████▋                        | 225 kB 12.8 MB/s eta 0:00:01\r\u001b[K     |████████                        | 235 kB 12.8 MB/s eta 0:00:01\r\u001b[K     |████████▎                       | 245 kB 12.8 MB/s eta 0:00:01\r\u001b[K     |████████▋                       | 256 kB 12.8 MB/s eta 0:00:01\r\u001b[K     |█████████                       | 266 kB 12.8 MB/s eta 0:00:01\r\u001b[K     |█████████▎                      | 276 kB 12.8 MB/s eta 0:00:01\r\u001b[K     |█████████▊                      | 286 kB 12.8 MB/s eta 0:00:01\r\u001b[K     |██████████                      | 296 kB 12.8 MB/s eta 0:00:01\r\u001b[K     |██████████▍                     | 307 kB 12.8 MB/s eta 0:00:01\r\u001b[K     |██████████▊                     | 317 kB 12.8 MB/s eta 0:00:01\r\u001b[K     |███████████                     | 327 kB 12.8 MB/s eta 0:00:01\r\u001b[K     |███████████▍                    | 337 kB 12.8 MB/s eta 0:00:01\r\u001b[K     |███████████▊                    | 348 kB 12.8 MB/s eta 0:00:01\r\u001b[K     |████████████                    | 358 kB 12.8 MB/s eta 0:00:01\r\u001b[K     |████████████▍                   | 368 kB 12.8 MB/s eta 0:00:01\r\u001b[K     |████████████▊                   | 378 kB 12.8 MB/s eta 0:00:01\r\u001b[K     |█████████████▏                  | 389 kB 12.8 MB/s eta 0:00:01\r\u001b[K     |█████████████▌                  | 399 kB 12.8 MB/s eta 0:00:01\r\u001b[K     |█████████████▉                  | 409 kB 12.8 MB/s eta 0:00:01\r\u001b[K     |██████████████▏                 | 419 kB 12.8 MB/s eta 0:00:01\r\u001b[K     |██████████████▌                 | 430 kB 12.8 MB/s eta 0:00:01\r\u001b[K     |██████████████▉                 | 440 kB 12.8 MB/s eta 0:00:01\r\u001b[K     |███████████████▏                | 450 kB 12.8 MB/s eta 0:00:01\r\u001b[K     |███████████████▌                | 460 kB 12.8 MB/s eta 0:00:01\r\u001b[K     |███████████████▉                | 471 kB 12.8 MB/s eta 0:00:01\r\u001b[K     |████████████████▎               | 481 kB 12.8 MB/s eta 0:00:01\r\u001b[K     |████████████████▋               | 491 kB 12.8 MB/s eta 0:00:01\r\u001b[K     |█████████████████               | 501 kB 12.8 MB/s eta 0:00:01\r\u001b[K     |█████████████████▎              | 512 kB 12.8 MB/s eta 0:00:01\r\u001b[K     |█████████████████▋              | 522 kB 12.8 MB/s eta 0:00:01\r\u001b[K     |██████████████████              | 532 kB 12.8 MB/s eta 0:00:01\r\u001b[K     |██████████████████▎             | 542 kB 12.8 MB/s eta 0:00:01\r\u001b[K     |██████████████████▋             | 552 kB 12.8 MB/s eta 0:00:01\r\u001b[K     |███████████████████             | 563 kB 12.8 MB/s eta 0:00:01\r\u001b[K     |███████████████████▍            | 573 kB 12.8 MB/s eta 0:00:01\r\u001b[K     |███████████████████▊            | 583 kB 12.8 MB/s eta 0:00:01\r\u001b[K     |████████████████████            | 593 kB 12.8 MB/s eta 0:00:01\r\u001b[K     |████████████████████▍           | 604 kB 12.8 MB/s eta 0:00:01\r\u001b[K     |████████████████████▊           | 614 kB 12.8 MB/s eta 0:00:01\r\u001b[K     |█████████████████████           | 624 kB 12.8 MB/s eta 0:00:01\r\u001b[K     |█████████████████████▍          | 634 kB 12.8 MB/s eta 0:00:01\r\u001b[K     |█████████████████████▊          | 645 kB 12.8 MB/s eta 0:00:01\r\u001b[K     |██████████████████████          | 655 kB 12.8 MB/s eta 0:00:01\r\u001b[K     |██████████████████████▌         | 665 kB 12.8 MB/s eta 0:00:01\r\u001b[K     |██████████████████████▉         | 675 kB 12.8 MB/s eta 0:00:01\r\u001b[K     |███████████████████████▏        | 686 kB 12.8 MB/s eta 0:00:01\r\u001b[K     |███████████████████████▌        | 696 kB 12.8 MB/s eta 0:00:01\r\u001b[K     |███████████████████████▉        | 706 kB 12.8 MB/s eta 0:00:01\r\u001b[K     |████████████████████████▏       | 716 kB 12.8 MB/s eta 0:00:01\r\u001b[K     |████████████████████████▌       | 727 kB 12.8 MB/s eta 0:00:01\r\u001b[K     |████████████████████████▉       | 737 kB 12.8 MB/s eta 0:00:01\r\u001b[K     |█████████████████████████▏      | 747 kB 12.8 MB/s eta 0:00:01\r\u001b[K     |█████████████████████████▌      | 757 kB 12.8 MB/s eta 0:00:01\r\u001b[K     |██████████████████████████      | 768 kB 12.8 MB/s eta 0:00:01\r\u001b[K     |██████████████████████████▎     | 778 kB 12.8 MB/s eta 0:00:01\r\u001b[K     |██████████████████████████▋     | 788 kB 12.8 MB/s eta 0:00:01\r\u001b[K     |███████████████████████████     | 798 kB 12.8 MB/s eta 0:00:01\r\u001b[K     |███████████████████████████▎    | 808 kB 12.8 MB/s eta 0:00:01\r\u001b[K     |███████████████████████████▋    | 819 kB 12.8 MB/s eta 0:00:01\r\u001b[K     |████████████████████████████    | 829 kB 12.8 MB/s eta 0:00:01\r\u001b[K     |████████████████████████████▎   | 839 kB 12.8 MB/s eta 0:00:01\r\u001b[K     |████████████████████████████▋   | 849 kB 12.8 MB/s eta 0:00:01\r\u001b[K     |█████████████████████████████   | 860 kB 12.8 MB/s eta 0:00:01\r\u001b[K     |█████████████████████████████▍  | 870 kB 12.8 MB/s eta 0:00:01\r\u001b[K     |█████████████████████████████▊  | 880 kB 12.8 MB/s eta 0:00:01\r\u001b[K     |██████████████████████████████  | 890 kB 12.8 MB/s eta 0:00:01\r\u001b[K     |██████████████████████████████▍ | 901 kB 12.8 MB/s eta 0:00:01\r\u001b[K     |██████████████████████████████▊ | 911 kB 12.8 MB/s eta 0:00:01\r\u001b[K     |███████████████████████████████ | 921 kB 12.8 MB/s eta 0:00:01\r\u001b[K     |███████████████████████████████▍| 931 kB 12.8 MB/s eta 0:00:01\r\u001b[K     |███████████████████████████████▊| 942 kB 12.8 MB/s eta 0:00:01\r\u001b[K     |████████████████████████████████| 948 kB 12.8 MB/s \n",
            "\u001b[?25hRequirement already satisfied: scipy in /usr/local/lib/python3.7/dist-packages (from glove-python-binary) (1.4.1)\n",
            "Requirement already satisfied: numpy in /usr/local/lib/python3.7/dist-packages (from glove-python-binary) (1.19.5)\n",
            "Installing collected packages: glove-python-binary\n",
            "Successfully installed glove-python-binary-0.2.0\n"
          ]
        }
      ]
    },
    {
      "cell_type": "code",
      "metadata": {
        "id": "sk1ui5z-HgVp"
      },
      "source": [
        "if pakai_model == 1:#load model word2vec\n",
        "  model = gensim.models.word2vec.Word2Vec.load('/content/drive/MyDrive/dataisear(preputama).w2v')\n",
        "\n",
        "elif pakai_model == 2:#load model glove\n",
        "  model=Glove.load('/content/drive/MyDrive/korpusblogspertiga(preputama).glove')"
      ],
      "execution_count": 61,
      "outputs": []
    },
    {
      "cell_type": "markdown",
      "metadata": {
        "id": "B3U7TJuRJdBO"
      },
      "source": [
        "cek model"
      ]
    },
    {
      "cell_type": "code",
      "metadata": {
        "id": "P2Q0Z6Y9Og7a",
        "colab": {
          "base_uri": "https://localhost:8080/"
        },
        "outputId": "df045525-45b6-4f94-c31b-3756884edc59"
      },
      "source": [
        "if pakai_model == 1:\n",
        "  print(premodel.wv.vectors.shape)\n",
        "elif pakai_model == 2:\n",
        "  print(model.word_vectors.shape)"
      ],
      "execution_count": 62,
      "outputs": [
        {
          "output_type": "stream",
          "name": "stdout",
          "text": [
            "(1193514, 100)\n"
          ]
        },
        {
          "output_type": "stream",
          "name": "stderr",
          "text": [
            "/usr/local/lib/python3.7/dist-packages/ipykernel_launcher.py:2: DeprecationWarning:\n",
            "\n",
            "Call to deprecated `wv` (Attribute will be removed in 4.0.0, use self instead).\n",
            "\n"
          ]
        }
      ]
    },
    {
      "cell_type": "code",
      "metadata": {
        "id": "xb2GLdHHK0jY"
      },
      "source": [
        "if pakai_model == 1:\n",
        "  print(model.wv[\"moment\"])\n",
        "elif pakai_model == 2:\n",
        "  print(model.word_vectors[model.dictionary['moment']])"
      ],
      "execution_count": null,
      "outputs": []
    },
    {
      "cell_type": "markdown",
      "metadata": {
        "id": "ClKPzISwOBo5"
      },
      "source": [
        "ambil conntoh model wor embedding"
      ]
    },
    {
      "cell_type": "code",
      "metadata": {
        "id": "fkjKjtJx-HOi"
      },
      "source": [
        "import array\n",
        "count=0\n",
        "simpanang=[]\n",
        "simpankat=[]\n",
        "jml=24\n",
        "if pakai_model == 1:\n",
        "  for senten in df.dokumen:\n",
        "    for word in senten:\n",
        "      simpanang.append(model.wv[word])\n",
        "      simpankat.append(word)\n",
        "      if count<jml:\n",
        "        count+=1\n",
        "      else :\n",
        "        break\n",
        "    if count<jml:\n",
        "      count+=1\n",
        "    else :\n",
        "      break\n",
        "\n",
        "elif pakai_model == 2:\n",
        "  for senten in df.dokumen:\n",
        "    for word in senten:\n",
        "      simpanang.append(model.word_vectors[model.dictionary[word]])\n",
        "      simpankat.append(word)\n",
        "      if count<jml:\n",
        "        count+=1\n",
        "      else :\n",
        "        break\n",
        "    if count<jml:\n",
        "      count+=1\n",
        "    else :\n",
        "      break\n",
        "\n",
        "has_vec=ekstrak"
      ],
      "execution_count": 63,
      "outputs": []
    },
    {
      "cell_type": "code",
      "metadata": {
        "id": "r8PzZg0FGdX3",
        "colab": {
          "base_uri": "https://localhost:8080/"
        },
        "outputId": "056b45f4-57fa-49ab-9ae2-5cd5cbc86aea"
      },
      "source": [
        "dfang=pd.DataFrame(simpanang)\n",
        "dfkat=pd.DataFrame(simpankat)\n",
        "result = pd.concat([dfkat, dfang], axis=1)\n",
        "result.shape"
      ],
      "execution_count": null,
      "outputs": [
        {
          "output_type": "execute_result",
          "data": {
            "text/plain": [
              "(24, 101)"
            ]
          },
          "metadata": {},
          "execution_count": 47
        }
      ]
    },
    {
      "cell_type": "code",
      "metadata": {
        "id": "ztHqCBwyLTVi"
      },
      "source": [
        "result.to_excel(\"preptambah,glove.xlsx\")"
      ],
      "execution_count": null,
      "outputs": []
    },
    {
      "cell_type": "markdown",
      "metadata": {
        "id": "Poh0hOslBSOE"
      },
      "source": [
        "average base ekstraksi fitur"
      ]
    },
    {
      "cell_type": "code",
      "metadata": {
        "id": "HugbL2uCLlIq",
        "colab": {
          "base_uri": "https://localhost:8080/"
        },
        "outputId": "52a93dd3-a928-4999-a773-d293f1c89fac"
      },
      "source": [
        "import array\n",
        "ekstrak=[]\n",
        "dim1=100\n",
        "dim3=300\n",
        "temp=array.array('i',(0,)*dim1)\n",
        "hitungpre=0\n",
        "hitungbiasa=0\n",
        "\n",
        "if pakai_model == 1:\n",
        "  for senten in df.dokumen:\n",
        "    for word in senten:\n",
        "      try:\n",
        "        temp=np.add(temp,premodel.wv[word])\n",
        "        hitungpre+=1\n",
        "      except:\n",
        "        temp=np.add(temp,model.wv[word])\n",
        "        hitungbiasa+=1\n",
        "    temp=temp/len(senten)\n",
        "    ekstrak.append(temp)\n",
        "\n",
        "elif pakai_model == 2:\n",
        "  for senten in df.dokumen:\n",
        "    for word in senten:\n",
        "      try:\n",
        "        temp=np.add(temp,premodel.wv[word])\n",
        "        hitungpre+=1\n",
        "      except:\n",
        "        temp=np.add(temp,model.word_vectors[model.dictionary[word]])\n",
        "        hitungbiasa+=1\n",
        "    temp=temp/len(senten)\n",
        "    ekstrak.append(temp)\n",
        "\n",
        "has_vec=ekstrak"
      ],
      "execution_count": 64,
      "outputs": [
        {
          "output_type": "stream",
          "name": "stderr",
          "text": [
            "/usr/local/lib/python3.7/dist-packages/ipykernel_launcher.py:13: DeprecationWarning:\n",
            "\n",
            "Call to deprecated `wv` (Attribute will be removed in 4.0.0, use self instead).\n",
            "\n"
          ]
        }
      ]
    },
    {
      "cell_type": "code",
      "metadata": {
        "colab": {
          "base_uri": "https://localhost:8080/"
        },
        "id": "2ZtRcPCJySnS",
        "outputId": "c5c9f380-39b5-40ba-bbc5-dc8475a9d4fc"
      },
      "source": [
        "print(hitungpre)\n",
        "print(hitungbiasa)\n",
        "print(hitungpre+hitungbiasa)"
      ],
      "execution_count": 65,
      "outputs": [
        {
          "output_type": "stream",
          "name": "stdout",
          "text": [
            "164682\n",
            "1095\n",
            "165777\n"
          ]
        }
      ]
    },
    {
      "cell_type": "code",
      "metadata": {
        "id": "Z-n3bpfF16vJ",
        "colab": {
          "base_uri": "https://localhost:8080/"
        },
        "outputId": "366acc54-29b5-4e7e-8eb1-f3828a1c7466"
      },
      "source": [
        "X=has_vec\n",
        "y=df.emosi\n",
        "print(np.shape(X))\n",
        "print(np.shape(y))\n",
        "# print(X)\n",
        "# print(y)"
      ],
      "execution_count": 66,
      "outputs": [
        {
          "output_type": "stream",
          "name": "stdout",
          "text": [
            "(7516, 100)\n",
            "(7516,)\n"
          ]
        }
      ]
    },
    {
      "cell_type": "markdown",
      "metadata": {
        "id": "y-VBfpD9PmVe"
      },
      "source": [
        "klasifikasi svm"
      ]
    },
    {
      "cell_type": "code",
      "metadata": {
        "id": "xba_npk4MTuy"
      },
      "source": [
        "from sklearn import svm\n",
        "from sklearn.metrics import confusion_matrix\n",
        "from sklearn.metrics import accuracy_score\n",
        "from sklearn.model_selection import cross_val_predict\n",
        "import matplotlib.pyplot as plt\n",
        "from sklearn.metrics import ConfusionMatrixDisplay\n",
        "from sklearn.metrics import precision_recall_fscore_support\n",
        "from sklearn.model_selection import cross_val_score"
      ],
      "execution_count": 18,
      "outputs": []
    },
    {
      "cell_type": "code",
      "metadata": {
        "id": "EqFIpy1m-Nly"
      },
      "source": [
        "def klasifikasi(y_pred):\n",
        "  ConfusionMatrixDisplay.from_predictions(y, y_pred)\n",
        "  plt.show()\n",
        "  print(accuracy_score(y, y_pred))\n",
        "  print(precision_recall_fscore_support(y, y_pred, average='macro'))"
      ],
      "execution_count": 19,
      "outputs": []
    },
    {
      "cell_type": "code",
      "metadata": {
        "id": "ENBn6uuK1TmE",
        "colab": {
          "base_uri": "https://localhost:8080/",
          "height": 316
        },
        "outputId": "db2a39d2-08c6-4c15-fafb-9fd7a9ce081c"
      },
      "source": [
        "clf = svm.SVC(kernel='poly', decision_function_shape='ovr')\n",
        "# acc10k=cross_val_score(clf, X, y, cv=10)\n",
        "# np.mean(acc10k)\n",
        "y_pred = cross_val_predict(clf, X, y, cv=10)\n",
        "klasifikasi(y_pred)"
      ],
      "execution_count": 67,
      "outputs": [
        {
          "output_type": "display_data",
          "data": {
            "image/png": "[encoded data removed]",
            "text/plain": [
              "<Figure size 432x288 with 2 Axes>"
            ]
          },
          "metadata": {
            "needs_background": "light"
          }
        },
        {
          "output_type": "stream",
          "name": "stdout",
          "text": [
            "0.4741883980840873\n",
            "(0.4766160769346411, 0.47340497366177353, 0.4706819368144987, None)\n"
          ]
        }
      ]
    },
    {
      "cell_type": "code",
      "metadata": {
        "id": "3zxYveF-1Tgt",
        "colab": {
          "base_uri": "https://localhost:8080/",
          "height": 316
        },
        "outputId": "dd3cc7fa-16bf-44cc-e4cb-1359a52f4325"
      },
      "source": [
        "clf = svm.SVC(kernel='rbf', decision_function_shape='ovr')\n",
        "y_pred = cross_val_predict(clf, X, y, cv=10)\n",
        "klasifikasi(y_pred)"
      ],
      "execution_count": 68,
      "outputs": [
        {
          "output_type": "display_data",
          "data": {
            "image/png": "[encoded data removed]",
            "text/plain": [
              "<Figure size 432x288 with 2 Axes>"
            ]
          },
          "metadata": {
            "needs_background": "light"
          }
        },
        {
          "output_type": "stream",
          "name": "stdout",
          "text": [
            "0.46886641830761044\n",
            "(0.4718935839580313, 0.46814829863366725, 0.46520821867559226, None)\n"
          ]
        }
      ]
    },
    {
      "cell_type": "code",
      "metadata": {
        "id": "Q5ApUnrpQ-1C",
        "colab": {
          "base_uri": "https://localhost:8080/",
          "height": 316
        },
        "outputId": "5fcfad3a-aa78-48ac-fdba-b5c9f12e3487"
      },
      "source": [
        "clf = svm.SVC(kernel='linear', decision_function_shape='ovr')\n",
        "y_pred = cross_val_predict(clf, X, y, cv=10)\n",
        "klasifikasi(y_pred)"
      ],
      "execution_count": 69,
      "outputs": [
        {
          "output_type": "display_data",
          "data": {
            "image/png": "[encoded data removed]",
            "text/plain": [
              "<Figure size 432x288 with 2 Axes>"
            ]
          },
          "metadata": {
            "needs_background": "light"
          }
        },
        {
          "output_type": "stream",
          "name": "stdout",
          "text": [
            "0.5003991484832357\n",
            "(0.5009974919075382, 0.49969792962416554, 0.4986298141578324, None)\n"
          ]
        }
      ]
    }
  ]
}