{
  "nbformat": 4,
  "nbformat_minor": 0,
  "metadata": {
    "colab": {
      "name": "glove.ipynb",
      "provenance": [],
      "authorship_tag": "ABX9TyMdpHPS9+gyYAhuBvlCouif",
      "include_colab_link": true
    },
    "kernelspec": {
      "name": "python3",
      "display_name": "Python 3"
    },
    "language_info": {
      "name": "python"
    }
  },
  "cells": [
    {
      "cell_type": "markdown",
      "metadata": {
        "id": "view-in-github",
        "colab_type": "text"
      },
      "source": [
        "<a href=\"https://colab.research.google.com/github/alfinmaulani/skripsi/blob/master/combined(glove).ipynb\" target=\"_parent\"><img src=\"https://colab.research.google.com/assets/colab-badge.svg\" alt=\"Open In Colab\"/></a>"
      ]
    },
    {
      "cell_type": "code",
      "metadata": {
        "colab": {
          "base_uri": "https://localhost:8080/"
        },
        "id": "ci3dfx-9C_ji",
        "outputId": "2c67c136-92e5-485c-efe1-b0030d5a4eeb"
      },
      "source": [
        "!pip install --upgrade scikit-learn\n",
        "import numpy as np\n",
        "import pandas as pd\n",
        "import io\n",
        "import os\n",
        "import matplotlib.pyplot as plt\n",
        "from nltk.tokenize import word_tokenize\n",
        "import nltk\n",
        "nltk.download('punkt')\n",
        "import gensim"
      ],
      "execution_count": 1,
      "outputs": [
        {
          "output_type": "stream",
          "name": "stdout",
          "text": [
            "Requirement already satisfied: scikit-learn in /usr/local/lib/python3.7/dist-packages (1.0.1)\n",
            "Requirement already satisfied: scipy>=1.1.0 in /usr/local/lib/python3.7/dist-packages (from scikit-learn) (1.4.1)\n",
            "Requirement already satisfied: numpy>=1.14.6 in /usr/local/lib/python3.7/dist-packages (from scikit-learn) (1.19.5)\n",
            "Requirement already satisfied: joblib>=0.11 in /usr/local/lib/python3.7/dist-packages (from scikit-learn) (1.1.0)\n",
            "Requirement already satisfied: threadpoolctl>=2.0.0 in /usr/local/lib/python3.7/dist-packages (from scikit-learn) (3.0.0)\n",
            "[nltk_data] Downloading package punkt to /root/nltk_data...\n",
            "[nltk_data]   Unzipping tokenizers/punkt.zip.\n"
          ]
        }
      ]
    },
    {
      "cell_type": "code",
      "metadata": {
        "id": "-2hacXvT3mX8"
      },
      "source": [
        "url0='https://raw.githubusercontent.com/alfinmaulani/skripsi/master/dataISEAR.csv'\n",
        "df = pd.read_csv(url0)"
      ],
      "execution_count": 2,
      "outputs": []
    },
    {
      "cell_type": "code",
      "metadata": {
        "id": "BdH-t5_KMum4"
      },
      "source": [
        "# df=df.drop(df[df['emosi'] == 'shame'].sample(frac=1).index)\n",
        "# df=df.drop(df[df['emosi'] == 'guilt'].sample(frac=1).index)"
      ],
      "execution_count": null,
      "outputs": []
    },
    {
      "cell_type": "code",
      "metadata": {
        "colab": {
          "base_uri": "https://localhost:8080/"
        },
        "id": "ecmoGKcODIAZ",
        "outputId": "47250541-8619-4ced-d356-15e93b09fce1"
      },
      "source": [
        "df.emosi.value_counts()"
      ],
      "execution_count": 3,
      "outputs": [
        {
          "output_type": "execute_result",
          "data": {
            "text/plain": [
              "joy        1092\n",
              "sadness    1082\n",
              "anger      1079\n",
              "fear       1076\n",
              "shame      1071\n",
              "disgust    1066\n",
              "guilt      1050\n",
              "Name: emosi, dtype: int64"
            ]
          },
          "metadata": {},
          "execution_count": 3
        }
      ]
    },
    {
      "cell_type": "code",
      "metadata": {
        "id": "5APBEuD1Hw5H",
        "colab": {
          "base_uri": "https://localhost:8080/"
        },
        "outputId": "8f5def37-a84e-47d2-8168-8cd4ffb3f4e0"
      },
      "source": [
        "from google.colab import drive\n",
        "drive.mount('/content/drive')"
      ],
      "execution_count": 4,
      "outputs": [
        {
          "output_type": "stream",
          "name": "stdout",
          "text": [
            "Mounted at /content/drive\n"
          ]
        }
      ]
    },
    {
      "cell_type": "code",
      "metadata": {
        "id": "sNtvPjXBH3EY"
      },
      "source": [
        "df2 = pd.read_csv('/content/drive/MyDrive/twitter_prosessed.csv')"
      ],
      "execution_count": 5,
      "outputs": []
    },
    {
      "cell_type": "code",
      "metadata": {
        "id": "-zQ0bincqHri"
      },
      "source": [
        "df3 = pd.read_csv('/content/drive/MyDrive/idwiki_new_lower.txt', delimiter = \"\\t\")\n",
        "df3.columns = [\"arti\"]"
      ],
      "execution_count": 6,
      "outputs": []
    },
    {
      "cell_type": "markdown",
      "metadata": {
        "id": "9_Vnr7idZXyY"
      },
      "source": [
        "preputama : lower case"
      ]
    },
    {
      "cell_type": "code",
      "metadata": {
        "id": "WhpBZ6kQ9Wb5"
      },
      "source": [
        "df['dokumen']=df['dokumen'].str.lower()\n",
        "# print(df.iloc[4,1])"
      ],
      "execution_count": 7,
      "outputs": []
    },
    {
      "cell_type": "code",
      "metadata": {
        "id": "uubQpvuXH7EV"
      },
      "source": [
        "df2['tweet']=df2['tweet'].str.lower()"
      ],
      "execution_count": 8,
      "outputs": []
    },
    {
      "cell_type": "code",
      "metadata": {
        "id": "TBe_O0zOqSP6"
      },
      "source": [
        "df3['arti']=df3['arti'].str.lower()"
      ],
      "execution_count": 9,
      "outputs": []
    },
    {
      "cell_type": "markdown",
      "metadata": {
        "id": "b82j_2JPZaQ8"
      },
      "source": [
        "preputama : Pembersihan noise (over enter and space)"
      ]
    },
    {
      "cell_type": "code",
      "metadata": {
        "id": "Pe0GqxmE9WP2"
      },
      "source": [
        "df=df.replace(' \\n', ' ', regex=True)\n",
        "df=df.replace('   ', ' ', regex=True)\n",
        "df=df.replace('  ', ' ', regex=True)"
      ],
      "execution_count": 10,
      "outputs": []
    },
    {
      "cell_type": "code",
      "metadata": {
        "id": "PIur4tdzIBzl"
      },
      "source": [
        "df2=df2.replace(' \\n', ' ', regex=True)\n",
        "df2=df2.replace('   ', ' ', regex=True)\n",
        "df2=df2.replace('  ', ' ', regex=True)"
      ],
      "execution_count": 11,
      "outputs": []
    },
    {
      "cell_type": "code",
      "metadata": {
        "id": "oY4MPDNfqWud"
      },
      "source": [
        "df3=df3.replace(' \\n', ' ', regex=True)\n",
        "df3=df3.replace('   ', ' ', regex=True)\n",
        "df3=df3.replace('  ', ' ', regex=True)"
      ],
      "execution_count": 12,
      "outputs": []
    },
    {
      "cell_type": "markdown",
      "metadata": {
        "id": "1KUKEZPEZdku"
      },
      "source": [
        "preptambah : expand contractions"
      ]
    },
    {
      "cell_type": "code",
      "metadata": {
        "id": "DvUkcyckt3jt",
        "colab": {
          "base_uri": "https://localhost:8080/"
        },
        "outputId": "a7545878-ed9b-453c-a69a-80888bb4f474"
      },
      "source": [
        "!pip install contractions\n",
        "import contractions"
      ],
      "execution_count": 13,
      "outputs": [
        {
          "output_type": "stream",
          "name": "stdout",
          "text": [
            "Collecting contractions\n",
            "  Downloading contractions-0.0.58-py2.py3-none-any.whl (8.0 kB)\n",
            "Collecting textsearch>=0.0.21\n",
            "  Downloading textsearch-0.0.21-py2.py3-none-any.whl (7.5 kB)\n",
            "Collecting anyascii\n",
            "  Downloading anyascii-0.3.0-py3-none-any.whl (284 kB)\n",
            "\u001b[K     |████████████████████████████████| 284 kB 5.1 MB/s \n",
            "\u001b[?25hCollecting pyahocorasick\n",
            "  Downloading pyahocorasick-1.4.2.tar.gz (321 kB)\n",
            "\u001b[K     |████████████████████████████████| 321 kB 29.7 MB/s \n",
            "\u001b[?25hBuilding wheels for collected packages: pyahocorasick\n",
            "  Building wheel for pyahocorasick (setup.py) ... \u001b[?25l\u001b[?25hdone\n",
            "  Created wheel for pyahocorasick: filename=pyahocorasick-1.4.2-cp37-cp37m-linux_x86_64.whl size=85457 sha256=9deb69dc6ad4097bfc77790d0c0252d41e6efa46ad7caa6dbb129c82bea1d2c2\n",
            "  Stored in directory: /root/.cache/pip/wheels/25/19/a6/8f363d9939162782bb8439d886469756271abc01f76fbd790f\n",
            "Successfully built pyahocorasick\n",
            "Installing collected packages: pyahocorasick, anyascii, textsearch, contractions\n",
            "Successfully installed anyascii-0.3.0 contractions-0.0.58 pyahocorasick-1.4.2 textsearch-0.0.21\n"
          ]
        }
      ]
    },
    {
      "cell_type": "code",
      "metadata": {
        "id": "5glvogu8t3dl",
        "outputId": "9f9c50c3-46a9-4835-8036-c77a6d48a42c",
        "colab": {
          "base_uri": "https://localhost:8080/",
          "height": 380
        }
      },
      "source": [
        "expanded_words = []   \n",
        "for word in df.dokumen:\n",
        "  expanded_words.append(contractions.fix(word))\n",
        "df.dokumen=expanded_words"
      ],
      "execution_count": 46,
      "outputs": [
        {
          "output_type": "error",
          "ename": "AttributeError",
          "evalue": "ignored",
          "traceback": [
            "\u001b[0;31m---------------------------------------------------------------------------\u001b[0m",
            "\u001b[0;31mAttributeError\u001b[0m                            Traceback (most recent call last)",
            "\u001b[0;32m<ipython-input-46-45dd0f62a602>\u001b[0m in \u001b[0;36m<module>\u001b[0;34m()\u001b[0m\n\u001b[1;32m      1\u001b[0m \u001b[0mexpanded_words\u001b[0m \u001b[0;34m=\u001b[0m \u001b[0;34m[\u001b[0m\u001b[0;34m]\u001b[0m\u001b[0;34m\u001b[0m\u001b[0;34m\u001b[0m\u001b[0m\n\u001b[1;32m      2\u001b[0m \u001b[0;32mfor\u001b[0m \u001b[0mword\u001b[0m \u001b[0;32min\u001b[0m \u001b[0mdf\u001b[0m\u001b[0;34m.\u001b[0m\u001b[0mdokumen\u001b[0m\u001b[0;34m:\u001b[0m\u001b[0;34m\u001b[0m\u001b[0;34m\u001b[0m\u001b[0m\n\u001b[0;32m----> 3\u001b[0;31m   \u001b[0mexpanded_words\u001b[0m\u001b[0;34m.\u001b[0m\u001b[0mappend\u001b[0m\u001b[0;34m(\u001b[0m\u001b[0mcontractions\u001b[0m\u001b[0;34m.\u001b[0m\u001b[0mfix\u001b[0m\u001b[0;34m(\u001b[0m\u001b[0mword\u001b[0m\u001b[0;34m)\u001b[0m\u001b[0;34m)\u001b[0m\u001b[0;34m\u001b[0m\u001b[0;34m\u001b[0m\u001b[0m\n\u001b[0m\u001b[1;32m      4\u001b[0m \u001b[0mdf\u001b[0m\u001b[0;34m.\u001b[0m\u001b[0mdokumen\u001b[0m\u001b[0;34m=\u001b[0m\u001b[0mexpanded_words\u001b[0m\u001b[0;34m\u001b[0m\u001b[0;34m\u001b[0m\u001b[0m\n",
            "\u001b[0;32m/usr/local/lib/python3.7/dist-packages/contractions/__init__.py\u001b[0m in \u001b[0;36mfix\u001b[0;34m(s, leftovers, slang)\u001b[0m\n\u001b[1;32m    100\u001b[0m \u001b[0;32mdef\u001b[0m \u001b[0mfix\u001b[0m\u001b[0;34m(\u001b[0m\u001b[0ms\u001b[0m\u001b[0;34m,\u001b[0m \u001b[0mleftovers\u001b[0m\u001b[0;34m=\u001b[0m\u001b[0;32mTrue\u001b[0m\u001b[0;34m,\u001b[0m \u001b[0mslang\u001b[0m\u001b[0;34m=\u001b[0m\u001b[0;32mTrue\u001b[0m\u001b[0;34m)\u001b[0m\u001b[0;34m:\u001b[0m\u001b[0;34m\u001b[0m\u001b[0;34m\u001b[0m\u001b[0m\n\u001b[1;32m    101\u001b[0m     \u001b[0mts\u001b[0m \u001b[0;34m=\u001b[0m \u001b[0mreplacers\u001b[0m\u001b[0;34m[\u001b[0m\u001b[0;34m(\u001b[0m\u001b[0mleftovers\u001b[0m\u001b[0;34m,\u001b[0m \u001b[0mslang\u001b[0m\u001b[0;34m)\u001b[0m\u001b[0;34m]\u001b[0m\u001b[0;34m\u001b[0m\u001b[0;34m\u001b[0m\u001b[0m\n\u001b[0;32m--> 102\u001b[0;31m     \u001b[0;32mreturn\u001b[0m \u001b[0mts\u001b[0m\u001b[0;34m.\u001b[0m\u001b[0mreplace\u001b[0m\u001b[0;34m(\u001b[0m\u001b[0ms\u001b[0m\u001b[0;34m)\u001b[0m\u001b[0;34m\u001b[0m\u001b[0;34m\u001b[0m\u001b[0m\n\u001b[0m\u001b[1;32m    103\u001b[0m \u001b[0;34m\u001b[0m\u001b[0m\n\u001b[1;32m    104\u001b[0m \u001b[0;34m\u001b[0m\u001b[0m\n",
            "\u001b[0;32m/usr/local/lib/python3.7/dist-packages/textsearch/__init__.py\u001b[0m in \u001b[0;36mreplace\u001b[0;34m(self, text, return_entities)\u001b[0m\n\u001b[1;32m    551\u001b[0m         \u001b[0mkeywords\u001b[0m \u001b[0;34m=\u001b[0m \u001b[0;34m[\u001b[0m\u001b[0;34m(\u001b[0m\u001b[0;32mNone\u001b[0m\u001b[0;34m,\u001b[0m \u001b[0;32mNone\u001b[0m\u001b[0;34m,\u001b[0m \u001b[0;36m0\u001b[0m\u001b[0;34m,\u001b[0m \u001b[0;34m(\u001b[0m\u001b[0;34m\"\"\u001b[0m\u001b[0;34m,\u001b[0m \u001b[0;34m\"\"\u001b[0m\u001b[0;34m)\u001b[0m\u001b[0;34m)\u001b[0m\u001b[0;34m]\u001b[0m\u001b[0;34m\u001b[0m\u001b[0;34m\u001b[0m\u001b[0m\n\u001b[1;32m    552\u001b[0m         \u001b[0mcurrent_stop\u001b[0m \u001b[0;34m=\u001b[0m \u001b[0;34m-\u001b[0m\u001b[0;36m1\u001b[0m\u001b[0;34m\u001b[0m\u001b[0;34m\u001b[0m\u001b[0m\n\u001b[0;32m--> 553\u001b[0;31m         \u001b[0m_text\u001b[0m \u001b[0;34m=\u001b[0m \u001b[0mtext\u001b[0m\u001b[0;34m.\u001b[0m\u001b[0mlower\u001b[0m\u001b[0;34m(\u001b[0m\u001b[0;34m)\u001b[0m \u001b[0;32mif\u001b[0m \u001b[0mself\u001b[0m\u001b[0;34m.\u001b[0m\u001b[0m_ignore_case_in_search\u001b[0m \u001b[0;32melse\u001b[0m \u001b[0mtext\u001b[0m\u001b[0;34m\u001b[0m\u001b[0;34m\u001b[0m\u001b[0m\n\u001b[0m\u001b[1;32m    554\u001b[0m         \u001b[0mhandlers\u001b[0m \u001b[0;34m=\u001b[0m \u001b[0mself\u001b[0m\u001b[0;34m.\u001b[0m\u001b[0mhandlers\u001b[0m \u001b[0;34m+\u001b[0m \u001b[0;34m[\u001b[0m\u001b[0;34m(\u001b[0m\u001b[0;32mFalse\u001b[0m\u001b[0;34m,\u001b[0m \u001b[0;32mTrue\u001b[0m\u001b[0;34m,\u001b[0m \u001b[0mself\u001b[0m\u001b[0;34m.\u001b[0m\u001b[0mbounds_check\u001b[0m\u001b[0;34m)\u001b[0m\u001b[0;34m]\u001b[0m\u001b[0;34m\u001b[0m\u001b[0;34m\u001b[0m\u001b[0m\n\u001b[1;32m    555\u001b[0m         \u001b[0;32mfor\u001b[0m \u001b[0mend_index\u001b[0m\u001b[0;34m,\u001b[0m \u001b[0;34m(\u001b[0m\u001b[0mlength\u001b[0m\u001b[0;34m,\u001b[0m \u001b[0mnorm\u001b[0m\u001b[0;34m)\u001b[0m \u001b[0;32min\u001b[0m \u001b[0mself\u001b[0m\u001b[0;34m.\u001b[0m\u001b[0mautomaton\u001b[0m\u001b[0;34m.\u001b[0m\u001b[0miter\u001b[0m\u001b[0;34m(\u001b[0m\u001b[0m_text\u001b[0m\u001b[0;34m)\u001b[0m\u001b[0;34m:\u001b[0m\u001b[0;34m\u001b[0m\u001b[0;34m\u001b[0m\u001b[0m\n",
            "\u001b[0;31mAttributeError\u001b[0m: 'list' object has no attribute 'lower'"
          ]
        }
      ]
    },
    {
      "cell_type": "code",
      "metadata": {
        "id": "nVjxLBLIIjXV",
        "outputId": "d3ba8c55-11c4-4c55-e054-929f11c689a2",
        "colab": {
          "base_uri": "https://localhost:8080/",
          "height": 380
        }
      },
      "source": [
        "expanded_words = []\n",
        "for word in df2.tweet:\n",
        "  expanded_words.append(contractions.fix(word))\n",
        "df2.tweet=expanded_words"
      ],
      "execution_count": 47,
      "outputs": [
        {
          "output_type": "error",
          "ename": "AttributeError",
          "evalue": "ignored",
          "traceback": [
            "\u001b[0;31m---------------------------------------------------------------------------\u001b[0m",
            "\u001b[0;31mAttributeError\u001b[0m                            Traceback (most recent call last)",
            "\u001b[0;32m<ipython-input-47-ade0cf8b2d5f>\u001b[0m in \u001b[0;36m<module>\u001b[0;34m()\u001b[0m\n\u001b[1;32m      1\u001b[0m \u001b[0mexpanded_words\u001b[0m \u001b[0;34m=\u001b[0m \u001b[0;34m[\u001b[0m\u001b[0;34m]\u001b[0m\u001b[0;34m\u001b[0m\u001b[0;34m\u001b[0m\u001b[0m\n\u001b[1;32m      2\u001b[0m \u001b[0;32mfor\u001b[0m \u001b[0mword\u001b[0m \u001b[0;32min\u001b[0m \u001b[0mdf2\u001b[0m\u001b[0;34m.\u001b[0m\u001b[0mtweet\u001b[0m\u001b[0;34m:\u001b[0m\u001b[0;34m\u001b[0m\u001b[0;34m\u001b[0m\u001b[0m\n\u001b[0;32m----> 3\u001b[0;31m   \u001b[0mexpanded_words\u001b[0m\u001b[0;34m.\u001b[0m\u001b[0mappend\u001b[0m\u001b[0;34m(\u001b[0m\u001b[0mcontractions\u001b[0m\u001b[0;34m.\u001b[0m\u001b[0mfix\u001b[0m\u001b[0;34m(\u001b[0m\u001b[0mword\u001b[0m\u001b[0;34m)\u001b[0m\u001b[0;34m)\u001b[0m\u001b[0;34m\u001b[0m\u001b[0;34m\u001b[0m\u001b[0m\n\u001b[0m\u001b[1;32m      4\u001b[0m \u001b[0mdf2\u001b[0m\u001b[0;34m.\u001b[0m\u001b[0mtweet\u001b[0m\u001b[0;34m=\u001b[0m\u001b[0mexpanded_words\u001b[0m\u001b[0;34m\u001b[0m\u001b[0;34m\u001b[0m\u001b[0m\n",
            "\u001b[0;32m/usr/local/lib/python3.7/dist-packages/contractions/__init__.py\u001b[0m in \u001b[0;36mfix\u001b[0;34m(s, leftovers, slang)\u001b[0m\n\u001b[1;32m    100\u001b[0m \u001b[0;32mdef\u001b[0m \u001b[0mfix\u001b[0m\u001b[0;34m(\u001b[0m\u001b[0ms\u001b[0m\u001b[0;34m,\u001b[0m \u001b[0mleftovers\u001b[0m\u001b[0;34m=\u001b[0m\u001b[0;32mTrue\u001b[0m\u001b[0;34m,\u001b[0m \u001b[0mslang\u001b[0m\u001b[0;34m=\u001b[0m\u001b[0;32mTrue\u001b[0m\u001b[0;34m)\u001b[0m\u001b[0;34m:\u001b[0m\u001b[0;34m\u001b[0m\u001b[0;34m\u001b[0m\u001b[0m\n\u001b[1;32m    101\u001b[0m     \u001b[0mts\u001b[0m \u001b[0;34m=\u001b[0m \u001b[0mreplacers\u001b[0m\u001b[0;34m[\u001b[0m\u001b[0;34m(\u001b[0m\u001b[0mleftovers\u001b[0m\u001b[0;34m,\u001b[0m \u001b[0mslang\u001b[0m\u001b[0;34m)\u001b[0m\u001b[0;34m]\u001b[0m\u001b[0;34m\u001b[0m\u001b[0;34m\u001b[0m\u001b[0m\n\u001b[0;32m--> 102\u001b[0;31m     \u001b[0;32mreturn\u001b[0m \u001b[0mts\u001b[0m\u001b[0;34m.\u001b[0m\u001b[0mreplace\u001b[0m\u001b[0;34m(\u001b[0m\u001b[0ms\u001b[0m\u001b[0;34m)\u001b[0m\u001b[0;34m\u001b[0m\u001b[0;34m\u001b[0m\u001b[0m\n\u001b[0m\u001b[1;32m    103\u001b[0m \u001b[0;34m\u001b[0m\u001b[0m\n\u001b[1;32m    104\u001b[0m \u001b[0;34m\u001b[0m\u001b[0m\n",
            "\u001b[0;32m/usr/local/lib/python3.7/dist-packages/textsearch/__init__.py\u001b[0m in \u001b[0;36mreplace\u001b[0;34m(self, text, return_entities)\u001b[0m\n\u001b[1;32m    551\u001b[0m         \u001b[0mkeywords\u001b[0m \u001b[0;34m=\u001b[0m \u001b[0;34m[\u001b[0m\u001b[0;34m(\u001b[0m\u001b[0;32mNone\u001b[0m\u001b[0;34m,\u001b[0m \u001b[0;32mNone\u001b[0m\u001b[0;34m,\u001b[0m \u001b[0;36m0\u001b[0m\u001b[0;34m,\u001b[0m \u001b[0;34m(\u001b[0m\u001b[0;34m\"\"\u001b[0m\u001b[0;34m,\u001b[0m \u001b[0;34m\"\"\u001b[0m\u001b[0;34m)\u001b[0m\u001b[0;34m)\u001b[0m\u001b[0;34m]\u001b[0m\u001b[0;34m\u001b[0m\u001b[0;34m\u001b[0m\u001b[0m\n\u001b[1;32m    552\u001b[0m         \u001b[0mcurrent_stop\u001b[0m \u001b[0;34m=\u001b[0m \u001b[0;34m-\u001b[0m\u001b[0;36m1\u001b[0m\u001b[0;34m\u001b[0m\u001b[0;34m\u001b[0m\u001b[0m\n\u001b[0;32m--> 553\u001b[0;31m         \u001b[0m_text\u001b[0m \u001b[0;34m=\u001b[0m \u001b[0mtext\u001b[0m\u001b[0;34m.\u001b[0m\u001b[0mlower\u001b[0m\u001b[0;34m(\u001b[0m\u001b[0;34m)\u001b[0m \u001b[0;32mif\u001b[0m \u001b[0mself\u001b[0m\u001b[0;34m.\u001b[0m\u001b[0m_ignore_case_in_search\u001b[0m \u001b[0;32melse\u001b[0m \u001b[0mtext\u001b[0m\u001b[0;34m\u001b[0m\u001b[0;34m\u001b[0m\u001b[0m\n\u001b[0m\u001b[1;32m    554\u001b[0m         \u001b[0mhandlers\u001b[0m \u001b[0;34m=\u001b[0m \u001b[0mself\u001b[0m\u001b[0;34m.\u001b[0m\u001b[0mhandlers\u001b[0m \u001b[0;34m+\u001b[0m \u001b[0;34m[\u001b[0m\u001b[0;34m(\u001b[0m\u001b[0;32mFalse\u001b[0m\u001b[0;34m,\u001b[0m \u001b[0;32mTrue\u001b[0m\u001b[0;34m,\u001b[0m \u001b[0mself\u001b[0m\u001b[0;34m.\u001b[0m\u001b[0mbounds_check\u001b[0m\u001b[0;34m)\u001b[0m\u001b[0;34m]\u001b[0m\u001b[0;34m\u001b[0m\u001b[0;34m\u001b[0m\u001b[0m\n\u001b[1;32m    555\u001b[0m         \u001b[0;32mfor\u001b[0m \u001b[0mend_index\u001b[0m\u001b[0;34m,\u001b[0m \u001b[0;34m(\u001b[0m\u001b[0mlength\u001b[0m\u001b[0;34m,\u001b[0m \u001b[0mnorm\u001b[0m\u001b[0;34m)\u001b[0m \u001b[0;32min\u001b[0m \u001b[0mself\u001b[0m\u001b[0;34m.\u001b[0m\u001b[0mautomaton\u001b[0m\u001b[0;34m.\u001b[0m\u001b[0miter\u001b[0m\u001b[0;34m(\u001b[0m\u001b[0m_text\u001b[0m\u001b[0;34m)\u001b[0m\u001b[0;34m:\u001b[0m\u001b[0;34m\u001b[0m\u001b[0;34m\u001b[0m\u001b[0m\n",
            "\u001b[0;31mAttributeError\u001b[0m: 'list' object has no attribute 'lower'"
          ]
        }
      ]
    },
    {
      "cell_type": "code",
      "metadata": {
        "id": "a1rsbq1cqf8H"
      },
      "source": [
        "expanded_words = []\n",
        "for word in df3.arti:\n",
        "  expanded_words.append(contractions.fix(word))\n",
        "df3.arti=expanded_words"
      ],
      "execution_count": null,
      "outputs": []
    },
    {
      "cell_type": "markdown",
      "metadata": {
        "id": "rS8J8JjJamsx"
      },
      "source": [
        "preputama : cleansing punctuation"
      ]
    },
    {
      "cell_type": "code",
      "metadata": {
        "id": "2z_rN6_Famg-"
      },
      "source": [
        "df['dokumen'] = df['dokumen'].str.replace(r'[^\\w\\s]+', '')"
      ],
      "execution_count": 14,
      "outputs": []
    },
    {
      "cell_type": "code",
      "metadata": {
        "id": "hrvURvEXIu5g"
      },
      "source": [
        "df2['tweet'] = df2['tweet'].str.replace(r'[^\\w\\s]+', '')"
      ],
      "execution_count": 15,
      "outputs": []
    },
    {
      "cell_type": "code",
      "metadata": {
        "id": "J5TnuwyKqmyj"
      },
      "source": [
        "df3['arti'] = df3['arti'].str.replace(r'[^\\w\\s]+', '')"
      ],
      "execution_count": 16,
      "outputs": []
    },
    {
      "cell_type": "markdown",
      "metadata": {
        "id": "g3p4Wtl9TWVY"
      },
      "source": [
        "preputama : cleansing number"
      ]
    },
    {
      "cell_type": "code",
      "metadata": {
        "id": "C9OjkbaHDMU6",
        "colab": {
          "base_uri": "https://localhost:8080/"
        },
        "outputId": "5ca61abb-1ed0-46bf-b3ea-27c2e257a260"
      },
      "source": [
        "!pip install tweet-preprocessor\n",
        "import preprocessor as p"
      ],
      "execution_count": 17,
      "outputs": [
        {
          "output_type": "stream",
          "name": "stdout",
          "text": [
            "Collecting tweet-preprocessor\n",
            "  Downloading tweet_preprocessor-0.6.0-py3-none-any.whl (27 kB)\n",
            "Installing collected packages: tweet-preprocessor\n",
            "Successfully installed tweet-preprocessor-0.6.0\n"
          ]
        }
      ]
    },
    {
      "cell_type": "code",
      "metadata": {
        "id": "w2URNW2CDOFH"
      },
      "source": [
        "p.set_options(p.OPT.NUMBER)"
      ],
      "execution_count": 18,
      "outputs": []
    },
    {
      "cell_type": "code",
      "metadata": {
        "id": "tbDKUmvtDRjN"
      },
      "source": [
        "sementara=[]\n",
        "for word in df.dokumen:\n",
        "  sementara.append(p.clean(word))\n",
        "df.dokumen=sementara"
      ],
      "execution_count": 19,
      "outputs": []
    },
    {
      "cell_type": "code",
      "metadata": {
        "id": "GmWovA8ADRby"
      },
      "source": [
        "sementara=[]\n",
        "for word in df2.tweet:\n",
        "  sementara.append(p.clean(word))\n",
        "df2.tweet=sementara"
      ],
      "execution_count": 20,
      "outputs": []
    },
    {
      "cell_type": "code",
      "metadata": {
        "id": "2H1YgNV0qsj0"
      },
      "source": [
        "sementara=[]\n",
        "for word in df3.arti:\n",
        "  sementara.append(p.clean(word))\n",
        "df3.arti=sementara"
      ],
      "execution_count": 21,
      "outputs": []
    },
    {
      "cell_type": "markdown",
      "metadata": {
        "id": "Hrfg5PlYaK_o"
      },
      "source": [
        "preptambah : remove stopword"
      ]
    },
    {
      "cell_type": "code",
      "metadata": {
        "colab": {
          "base_uri": "https://localhost:8080/"
        },
        "id": "Ol3lV82FbtgA",
        "outputId": "301fd590-5bf5-4ad1-b349-13c27d306666"
      },
      "source": [
        "from nltk.corpus import stopwords\n",
        "nltk.download('stopwords')\n",
        "stop = stopwords.words('english')"
      ],
      "execution_count": 10,
      "outputs": [
        {
          "output_type": "stream",
          "name": "stdout",
          "text": [
            "[nltk_data] Downloading package stopwords to /root/nltk_data...\n",
            "[nltk_data]   Unzipping corpora/stopwords.zip.\n"
          ]
        }
      ]
    },
    {
      "cell_type": "code",
      "metadata": {
        "id": "_17va14LSQGi"
      },
      "source": [
        "pat = r'\\b(?:{})\\b'.format('|'.join(stop))"
      ],
      "execution_count": 11,
      "outputs": []
    },
    {
      "cell_type": "code",
      "metadata": {
        "id": "RKuF-6uCZ9Y1"
      },
      "source": [
        "df['dokumen'] = df['dokumen'].str.replace(pat, '')\n",
        "df['dokumen'] = df['dokumen'].str.replace(r'\\s+', ' ')"
      ],
      "execution_count": null,
      "outputs": []
    },
    {
      "cell_type": "code",
      "metadata": {
        "id": "V77e41lhI5T7"
      },
      "source": [
        "df2['tweet'] = df2['tweet'].str.replace(pat, '')\n",
        "df2['tweet'] = df2['tweet'].str.replace(r'\\s+', ' ')"
      ],
      "execution_count": null,
      "outputs": []
    },
    {
      "cell_type": "code",
      "metadata": {
        "id": "Q2z9Toglq0n4"
      },
      "source": [
        "df3['arti'] = df3['arti'].str.replace(pat, '')\n",
        "df3['arti'] = df3['arti'].str.replace(r'\\s+', ' ')"
      ],
      "execution_count": null,
      "outputs": []
    },
    {
      "cell_type": "markdown",
      "metadata": {
        "id": "DnbrT-4daeEK"
      },
      "source": [
        "tokenizing"
      ]
    },
    {
      "cell_type": "code",
      "metadata": {
        "id": "XpqeTa21Z9OS"
      },
      "source": [
        "sentences = [word_tokenize(x) for x in df.dokumen] \n",
        "# df = pd.DataFrame(df.apply(list,axis=1), columns=['dokumen'])\n",
        "df.dokumen=sentences"
      ],
      "execution_count": 22,
      "outputs": []
    },
    {
      "cell_type": "code",
      "metadata": {
        "id": "GzBtjKLRJAQm"
      },
      "source": [
        "sentences = [word_tokenize(x) for x in df2.tweet]\n",
        "df2.tweet=sentences"
      ],
      "execution_count": 23,
      "outputs": []
    },
    {
      "cell_type": "code",
      "metadata": {
        "id": "a06JlSbiq7_d"
      },
      "source": [
        "sentences = [word_tokenize(x) for x in df3.arti]\n",
        "df3.arti=sentences"
      ],
      "execution_count": 24,
      "outputs": []
    },
    {
      "cell_type": "markdown",
      "metadata": {
        "id": "qrBmBYUFV5BP"
      },
      "source": [
        "preptambah : Lemmatization"
      ]
    },
    {
      "cell_type": "code",
      "metadata": {
        "id": "K1ywmZGYZ9RJ"
      },
      "source": [
        "from nltk.stem.snowball import SnowballStemmer\n",
        "stemmer = SnowballStemmer(\"english\")"
      ],
      "execution_count": 12,
      "outputs": []
    },
    {
      "cell_type": "code",
      "metadata": {
        "id": "vonaeiobZ9Lh",
        "colab": {
          "base_uri": "https://localhost:8080/"
        },
        "outputId": "c0b92551-aca5-4444-829a-db8d7085645a"
      },
      "source": [
        "df['dokumen'].apply(lambda x: [stemmer.stem(y) for y in x])"
      ],
      "execution_count": null,
      "outputs": [
        {
          "output_type": "execute_result",
          "data": {
            "text/plain": [
              "0       [day, feel, close, partner, friend, feel, peac...\n",
              "1       [everi, time, imagin, someon, love, could, con...\n",
              "2               [obvious, unjust, treat, possibl, elucid]\n",
              "3       [think, short, time, live, relat, period, life...\n",
              "4       [gather, found, involuntarili, sit, next, two,...\n",
              "                              ...                        \n",
              "7506    [roommat, like, listen, meaningless, song, mel...\n",
              "7509                    [receiv, letter, distant, friend]\n",
              "7510    [parent, eldest, home, midnight, male, strange...\n",
              "7513    [home, heard, loud, sound, spit, outsid, door,...\n",
              "7515    [shout, younger, brother, alway, afraid, call,...\n",
              "Name: dokumen, Length: 5395, dtype: object"
            ]
          },
          "metadata": {},
          "execution_count": 96
        }
      ]
    },
    {
      "cell_type": "code",
      "metadata": {
        "id": "_YBxGDNsJJTm",
        "colab": {
          "base_uri": "https://localhost:8080/"
        },
        "outputId": "2130869c-3317-4484-8183-c2c409cf8fef"
      },
      "source": [
        "df2['tweet'].apply(lambda x: [stemmer.stem(y) for y in x])"
      ],
      "execution_count": null,
      "outputs": [
        {
          "output_type": "execute_result",
          "data": {
            "text/plain": [
              "0          [upset, can, not, updat, facebook, text, might...\n",
              "1          [dive, mani, time, ball, manag, save, rest, go...\n",
              "2                     [whole, bodi, feel, itchi, like, fire]\n",
              "3                             [behav, i, mad, can, not, see]\n",
              "4                                              [whole, crew]\n",
              "                                 ...                        \n",
              "1596959                     [woke, school, best, feel, ever]\n",
              "1596960     [thewdbcom, cool, hear, old, walt, interview, â]\n",
              "1596961                   [readi, mojo, makeov, ask, detail]\n",
              "1596962    [happi, th, birthday, boo, alll, time, tupac, ...\n",
              "1596963                                              [happi]\n",
              "Name: tweet, Length: 1596964, dtype: object"
            ]
          },
          "metadata": {},
          "execution_count": 97
        }
      ]
    },
    {
      "cell_type": "code",
      "metadata": {
        "id": "b-LWL8O_rEXB"
      },
      "source": [
        "df3['arti'].apply(lambda x: [stemmer.stem(y) for y in x])"
      ],
      "execution_count": null,
      "outputs": []
    },
    {
      "cell_type": "markdown",
      "metadata": {
        "id": "K-NOlQnGbDUj"
      },
      "source": [
        "save df"
      ]
    },
    {
      "cell_type": "code",
      "metadata": {
        "id": "gk1V4HBPDHVw"
      },
      "source": [
        "# df.to_csv(r'dataisear(preptambah).csv', index = False)"
      ],
      "execution_count": null,
      "outputs": []
    },
    {
      "cell_type": "markdown",
      "metadata": {
        "id": "MZPjkuF7JMW_"
      },
      "source": [
        "gabung corpus"
      ]
    },
    {
      "cell_type": "code",
      "metadata": {
        "id": "cYp0kFuySqoO"
      },
      "source": [
        "sent=df.dokumen"
      ],
      "execution_count": null,
      "outputs": []
    },
    {
      "cell_type": "code",
      "metadata": {
        "id": "0IXPS7QmJMKf"
      },
      "source": [
        "sent=df2.tweet.append(df.dokumen,ignore_index=True)"
      ],
      "execution_count": null,
      "outputs": []
    },
    {
      "cell_type": "code",
      "metadata": {
        "id": "05ktqhqurX6q"
      },
      "source": [
        "sent=df3.arti.append(df2.tweet.append(df.dokumen,ignore_index=True),ignore_index=True)"
      ],
      "execution_count": 25,
      "outputs": []
    },
    {
      "cell_type": "markdown",
      "metadata": {
        "id": "a2CO8Rbb2f54"
      },
      "source": [
        "glove"
      ]
    },
    {
      "cell_type": "code",
      "metadata": {
        "colab": {
          "base_uri": "https://localhost:8080/"
        },
        "id": "DboqVfIk2eZJ",
        "outputId": "f6c0018a-f150-4a14-c487-36f81a1f36b7"
      },
      "source": [
        "!pip install glove-python-binary"
      ],
      "execution_count": 26,
      "outputs": [
        {
          "output_type": "stream",
          "name": "stdout",
          "text": [
            "Collecting glove-python-binary\n",
            "  Downloading glove_python_binary-0.2.0-cp37-cp37m-manylinux1_x86_64.whl (948 kB)\n",
            "\u001b[?25l\r\u001b[K     |▍                               | 10 kB 26.9 MB/s eta 0:00:01\r\u001b[K     |▊                               | 20 kB 21.4 MB/s eta 0:00:01\r\u001b[K     |█                               | 30 kB 11.9 MB/s eta 0:00:01\r\u001b[K     |█▍                              | 40 kB 9.3 MB/s eta 0:00:01\r\u001b[K     |█▊                              | 51 kB 5.2 MB/s eta 0:00:01\r\u001b[K     |██                              | 61 kB 5.7 MB/s eta 0:00:01\r\u001b[K     |██▍                             | 71 kB 5.5 MB/s eta 0:00:01\r\u001b[K     |██▊                             | 81 kB 6.1 MB/s eta 0:00:01\r\u001b[K     |███                             | 92 kB 4.7 MB/s eta 0:00:01\r\u001b[K     |███▌                            | 102 kB 5.1 MB/s eta 0:00:01\r\u001b[K     |███▉                            | 112 kB 5.1 MB/s eta 0:00:01\r\u001b[K     |████▏                           | 122 kB 5.1 MB/s eta 0:00:01\r\u001b[K     |████▌                           | 133 kB 5.1 MB/s eta 0:00:01\r\u001b[K     |████▉                           | 143 kB 5.1 MB/s eta 0:00:01\r\u001b[K     |█████▏                          | 153 kB 5.1 MB/s eta 0:00:01\r\u001b[K     |█████▌                          | 163 kB 5.1 MB/s eta 0:00:01\r\u001b[K     |█████▉                          | 174 kB 5.1 MB/s eta 0:00:01\r\u001b[K     |██████▏                         | 184 kB 5.1 MB/s eta 0:00:01\r\u001b[K     |██████▋                         | 194 kB 5.1 MB/s eta 0:00:01\r\u001b[K     |███████                         | 204 kB 5.1 MB/s eta 0:00:01\r\u001b[K     |███████▎                        | 215 kB 5.1 MB/s eta 0:00:01\r\u001b[K     |███████▋                        | 225 kB 5.1 MB/s eta 0:00:01\r\u001b[K     |████████                        | 235 kB 5.1 MB/s eta 0:00:01\r\u001b[K     |████████▎                       | 245 kB 5.1 MB/s eta 0:00:01\r\u001b[K     |████████▋                       | 256 kB 5.1 MB/s eta 0:00:01\r\u001b[K     |█████████                       | 266 kB 5.1 MB/s eta 0:00:01\r\u001b[K     |█████████▎                      | 276 kB 5.1 MB/s eta 0:00:01\r\u001b[K     |█████████▊                      | 286 kB 5.1 MB/s eta 0:00:01\r\u001b[K     |██████████                      | 296 kB 5.1 MB/s eta 0:00:01\r\u001b[K     |██████████▍                     | 307 kB 5.1 MB/s eta 0:00:01\r\u001b[K     |██████████▊                     | 317 kB 5.1 MB/s eta 0:00:01\r\u001b[K     |███████████                     | 327 kB 5.1 MB/s eta 0:00:01\r\u001b[K     |███████████▍                    | 337 kB 5.1 MB/s eta 0:00:01\r\u001b[K     |███████████▊                    | 348 kB 5.1 MB/s eta 0:00:01\r\u001b[K     |████████████                    | 358 kB 5.1 MB/s eta 0:00:01\r\u001b[K     |████████████▍                   | 368 kB 5.1 MB/s eta 0:00:01\r\u001b[K     |████████████▊                   | 378 kB 5.1 MB/s eta 0:00:01\r\u001b[K     |█████████████▏                  | 389 kB 5.1 MB/s eta 0:00:01\r\u001b[K     |█████████████▌                  | 399 kB 5.1 MB/s eta 0:00:01\r\u001b[K     |█████████████▉                  | 409 kB 5.1 MB/s eta 0:00:01\r\u001b[K     |██████████████▏                 | 419 kB 5.1 MB/s eta 0:00:01\r\u001b[K     |██████████████▌                 | 430 kB 5.1 MB/s eta 0:00:01\r\u001b[K     |██████████████▉                 | 440 kB 5.1 MB/s eta 0:00:01\r\u001b[K     |███████████████▏                | 450 kB 5.1 MB/s eta 0:00:01\r\u001b[K     |███████████████▌                | 460 kB 5.1 MB/s eta 0:00:01\r\u001b[K     |███████████████▉                | 471 kB 5.1 MB/s eta 0:00:01\r\u001b[K     |████████████████▎               | 481 kB 5.1 MB/s eta 0:00:01\r\u001b[K     |████████████████▋               | 491 kB 5.1 MB/s eta 0:00:01\r\u001b[K     |█████████████████               | 501 kB 5.1 MB/s eta 0:00:01\r\u001b[K     |█████████████████▎              | 512 kB 5.1 MB/s eta 0:00:01\r\u001b[K     |█████████████████▋              | 522 kB 5.1 MB/s eta 0:00:01\r\u001b[K     |██████████████████              | 532 kB 5.1 MB/s eta 0:00:01\r\u001b[K     |██████████████████▎             | 542 kB 5.1 MB/s eta 0:00:01\r\u001b[K     |██████████████████▋             | 552 kB 5.1 MB/s eta 0:00:01\r\u001b[K     |███████████████████             | 563 kB 5.1 MB/s eta 0:00:01\r\u001b[K     |███████████████████▍            | 573 kB 5.1 MB/s eta 0:00:01\r\u001b[K     |███████████████████▊            | 583 kB 5.1 MB/s eta 0:00:01\r\u001b[K     |████████████████████            | 593 kB 5.1 MB/s eta 0:00:01\r\u001b[K     |████████████████████▍           | 604 kB 5.1 MB/s eta 0:00:01\r\u001b[K     |████████████████████▊           | 614 kB 5.1 MB/s eta 0:00:01\r\u001b[K     |█████████████████████           | 624 kB 5.1 MB/s eta 0:00:01\r\u001b[K     |█████████████████████▍          | 634 kB 5.1 MB/s eta 0:00:01\r\u001b[K     |█████████████████████▊          | 645 kB 5.1 MB/s eta 0:00:01\r\u001b[K     |██████████████████████          | 655 kB 5.1 MB/s eta 0:00:01\r\u001b[K     |██████████████████████▌         | 665 kB 5.1 MB/s eta 0:00:01\r\u001b[K     |██████████████████████▉         | 675 kB 5.1 MB/s eta 0:00:01\r\u001b[K     |███████████████████████▏        | 686 kB 5.1 MB/s eta 0:00:01\r\u001b[K     |███████████████████████▌        | 696 kB 5.1 MB/s eta 0:00:01\r\u001b[K     |███████████████████████▉        | 706 kB 5.1 MB/s eta 0:00:01\r\u001b[K     |████████████████████████▏       | 716 kB 5.1 MB/s eta 0:00:01\r\u001b[K     |████████████████████████▌       | 727 kB 5.1 MB/s eta 0:00:01\r\u001b[K     |████████████████████████▉       | 737 kB 5.1 MB/s eta 0:00:01\r\u001b[K     |█████████████████████████▏      | 747 kB 5.1 MB/s eta 0:00:01\r\u001b[K     |█████████████████████████▌      | 757 kB 5.1 MB/s eta 0:00:01\r\u001b[K     |██████████████████████████      | 768 kB 5.1 MB/s eta 0:00:01\r\u001b[K     |██████████████████████████▎     | 778 kB 5.1 MB/s eta 0:00:01\r\u001b[K     |██████████████████████████▋     | 788 kB 5.1 MB/s eta 0:00:01\r\u001b[K     |███████████████████████████     | 798 kB 5.1 MB/s eta 0:00:01\r\u001b[K     |███████████████████████████▎    | 808 kB 5.1 MB/s eta 0:00:01\r\u001b[K     |███████████████████████████▋    | 819 kB 5.1 MB/s eta 0:00:01\r\u001b[K     |████████████████████████████    | 829 kB 5.1 MB/s eta 0:00:01\r\u001b[K     |████████████████████████████▎   | 839 kB 5.1 MB/s eta 0:00:01\r\u001b[K     |████████████████████████████▋   | 849 kB 5.1 MB/s eta 0:00:01\r\u001b[K     |█████████████████████████████   | 860 kB 5.1 MB/s eta 0:00:01\r\u001b[K     |█████████████████████████████▍  | 870 kB 5.1 MB/s eta 0:00:01\r\u001b[K     |█████████████████████████████▊  | 880 kB 5.1 MB/s eta 0:00:01\r\u001b[K     |██████████████████████████████  | 890 kB 5.1 MB/s eta 0:00:01\r\u001b[K     |██████████████████████████████▍ | 901 kB 5.1 MB/s eta 0:00:01\r\u001b[K     |██████████████████████████████▊ | 911 kB 5.1 MB/s eta 0:00:01\r\u001b[K     |███████████████████████████████ | 921 kB 5.1 MB/s eta 0:00:01\r\u001b[K     |███████████████████████████████▍| 931 kB 5.1 MB/s eta 0:00:01\r\u001b[K     |███████████████████████████████▊| 942 kB 5.1 MB/s eta 0:00:01\r\u001b[K     |████████████████████████████████| 948 kB 5.1 MB/s \n",
            "\u001b[?25hRequirement already satisfied: numpy in /usr/local/lib/python3.7/dist-packages (from glove-python-binary) (1.19.5)\n",
            "Requirement already satisfied: scipy in /usr/local/lib/python3.7/dist-packages (from glove-python-binary) (1.4.1)\n",
            "Installing collected packages: glove-python-binary\n",
            "Successfully installed glove-python-binary-0.2.0\n"
          ]
        }
      ]
    },
    {
      "cell_type": "code",
      "metadata": {
        "id": "stbOzjcca99T"
      },
      "source": [
        "from glove import Glove\n",
        "from glove import Corpus"
      ],
      "execution_count": 27,
      "outputs": []
    },
    {
      "cell_type": "code",
      "metadata": {
        "id": "vnJlv_Lw2_5P"
      },
      "source": [
        "korpus = Corpus()\n",
        "korpus.fit(sent, window=5, ignore_missing=False,)"
      ],
      "execution_count": 28,
      "outputs": []
    },
    {
      "cell_type": "code",
      "metadata": {
        "id": "lXGg7kp7qJ9a"
      },
      "source": [
        "# (corpus, window=10, ignore_missing=False)"
      ],
      "execution_count": null,
      "outputs": []
    },
    {
      "cell_type": "code",
      "metadata": {
        "id": "Mnagl9GqbW93"
      },
      "source": [
        "glove = Glove(no_components=100, learning_rate=0.05, alpha=0.025, max_count=100, max_loss=10.0, random_state=None)\n",
        "glove.fit(korpus.matrix)\n",
        "glove.add_dictionary(korpus.dictionary)"
      ],
      "execution_count": 29,
      "outputs": []
    },
    {
      "cell_type": "code",
      "metadata": {
        "id": "tS0NAc5zp0dH"
      },
      "source": [
        "# (no_components=30, learning_rate=0.05, alpha=0.75, max_count=100, max_loss=10.0, random_state=None)"
      ],
      "execution_count": null,
      "outputs": []
    },
    {
      "cell_type": "markdown",
      "metadata": {
        "id": "g7nkKPISbU-X"
      },
      "source": [
        "cek moedel"
      ]
    },
    {
      "cell_type": "code",
      "metadata": {
        "colab": {
          "base_uri": "https://localhost:8080/"
        },
        "id": "TWu2zy-n3DYa",
        "outputId": "881d5f6c-e23c-4e7a-95ec-00882ba9052c"
      },
      "source": [
        "glove.word_vectors.shape"
      ],
      "execution_count": null,
      "outputs": [
        {
          "output_type": "execute_result",
          "data": {
            "text/plain": [
              "(431071, 100)"
            ]
          },
          "metadata": {},
          "execution_count": 23
        }
      ]
    },
    {
      "cell_type": "code",
      "metadata": {
        "colab": {
          "base_uri": "https://localhost:8080/"
        },
        "id": "R6GsJv-YWyQi",
        "outputId": "e6fe07aa-0b00-4268-bd92-5108a706eae4"
      },
      "source": [
        "glove.word_vectors[glove.dictionary['moment']]"
      ],
      "execution_count": null,
      "outputs": [
        {
          "output_type": "execute_result",
          "data": {
            "text/plain": [
              "array([-0.1520755 ,  0.11001179,  0.09849952,  0.11239919,  0.19851514,\n",
              "        0.20862444,  0.1932002 , -0.02995237,  0.06225874, -0.06340693,\n",
              "        0.17249209,  0.10428308,  0.13167693, -0.1409929 , -0.08721758,\n",
              "       -0.17292561, -0.14640743, -0.12575977, -0.15178732,  0.1147141 ,\n",
              "       -0.02979676,  0.12960953,  0.11416369, -0.13766298, -0.08685944,\n",
              "        0.12587161,  0.16967787, -0.08993313,  0.22015248,  0.08793198,\n",
              "        0.09437949, -0.16666762,  0.15203701, -0.09827079,  0.06624353,\n",
              "        0.05642047,  0.18682406,  0.11917908, -0.11538529,  0.02378679,\n",
              "        0.14371305, -0.16219357, -0.18656432,  0.08556306,  0.07295119,\n",
              "        0.17236783, -0.2082566 , -0.12523906, -0.10716872, -0.13240827,\n",
              "        0.20221052, -0.0451977 , -0.0284566 ,  0.15083394, -0.12145719,\n",
              "       -0.08591052, -0.21156101,  0.21358733, -0.10536546, -0.09632493,\n",
              "        0.16145697,  0.15278694,  0.06723223, -0.08208913, -0.14172974,\n",
              "        0.146254  ,  0.15765845, -0.19882692, -0.09842107,  0.20205721,\n",
              "        0.12115759, -0.144173  ,  0.2239709 ,  0.05110871, -0.21151381,\n",
              "        0.06480445, -0.15142235, -0.00024577, -0.05626555,  0.18195624,\n",
              "       -0.12353266, -0.13179974, -0.20490966,  0.11026958, -0.03018264,\n",
              "       -0.03092915, -0.1630423 ,  0.1749165 , -0.16434967, -0.17552451,\n",
              "        0.13719529,  0.19879032, -0.17394714, -0.17973755,  0.17400655,\n",
              "        0.15175389,  0.15522593,  0.12414344,  0.15887809, -0.04322061])"
            ]
          },
          "metadata": {},
          "execution_count": 174
        }
      ]
    },
    {
      "cell_type": "markdown",
      "metadata": {
        "id": "myQsetPR3tLU"
      },
      "source": [
        "ekstraksi fitur"
      ]
    },
    {
      "cell_type": "code",
      "metadata": {
        "id": "IxR45IUU3QxR"
      },
      "source": [
        "import array\n",
        "ekstrak=[]\n",
        "temp=array.array('i',(0,)*100)\n",
        "for senten in df.dokumen:\n",
        "  for word in senten:\n",
        "    temp=np.add(temp,glove.word_vectors[glove.dictionary[word]])\n",
        "  temp=temp/len(senten)\n",
        "  ekstrak.append(temp)\n",
        "has_vec=ekstrak"
      ],
      "execution_count": 30,
      "outputs": []
    },
    {
      "cell_type": "code",
      "metadata": {
        "id": "pRTuBH09XfkI",
        "colab": {
          "base_uri": "https://localhost:8080/"
        },
        "outputId": "71e9515f-e981-4b42-f9a4-9fbdd3fc5446"
      },
      "source": [
        "X=has_vec\n",
        "y=df.emosi\n",
        "print(np.shape(X))\n",
        "print(np.shape(y))\n",
        "# print(X)\n",
        "# print(y)"
      ],
      "execution_count": 31,
      "outputs": [
        {
          "output_type": "stream",
          "name": "stdout",
          "text": [
            "(7516, 100)\n",
            "(7516,)\n"
          ]
        }
      ]
    },
    {
      "cell_type": "markdown",
      "metadata": {
        "id": "9REgAm12XkXE"
      },
      "source": [
        "klasifikasi svm"
      ]
    },
    {
      "cell_type": "code",
      "metadata": {
        "id": "N_7cSx4lXl7N"
      },
      "source": [
        "from sklearn import svm\n",
        "from sklearn.model_selection import cross_val_score"
      ],
      "execution_count": 32,
      "outputs": []
    },
    {
      "cell_type": "code",
      "metadata": {
        "colab": {
          "base_uri": "https://localhost:8080/"
        },
        "id": "nXGSL_-1XpMg",
        "outputId": "290ea49e-ef27-4b86-82c4-3e04334cf06e"
      },
      "source": [
        "# langsung cari score\n",
        "\n",
        "# clf = svm.SVC(kernel='poly', decision_function_shape='ovr')\n",
        "# scores = cross_val_score(clf, X, y, cv=10)\n",
        "# # scores.mean()"
      ],
      "execution_count": null,
      "outputs": [
        {
          "output_type": "execute_result",
          "data": {
            "text/plain": [
              "0.2851325891718843"
            ]
          },
          "metadata": {},
          "execution_count": 38
        }
      ]
    },
    {
      "cell_type": "markdown",
      "metadata": {
        "id": "meJ2peGBYxm9"
      },
      "source": [
        "conf matrix dan akurasi"
      ]
    },
    {
      "cell_type": "code",
      "metadata": {
        "id": "0WaiSp_nU9NK"
      },
      "source": [
        "from sklearn.metrics import confusion_matrix\n",
        "from sklearn.metrics import accuracy_score\n",
        "from sklearn.model_selection import cross_val_predict\n",
        "import matplotlib.pyplot as plt\n",
        "from sklearn.metrics import ConfusionMatrixDisplay\n",
        "from sklearn.metrics import precision_recall_fscore_support"
      ],
      "execution_count": 33,
      "outputs": []
    },
    {
      "cell_type": "code",
      "metadata": {
        "id": "93fZsexIh1Ew"
      },
      "source": [
        "# svm.SVC(C=1.0, kernel='rbf', degree=3, gamma='scale', coef0=0.0, shrinking=True, probability=False, tol=0.001, cache_size=200, \n",
        "#  class_weight=None, verbose=False, max_iter=- 1, decision_function_shape='ovr', break_ties=False, random_state=None)"
      ],
      "execution_count": null,
      "outputs": []
    },
    {
      "cell_type": "code",
      "metadata": {
        "id": "HeUbPgMYiAp_"
      },
      "source": [
        "# cross_val_predict(estimator, X, y=None, *, groups=None, cv=None, n_jobs=None, verbose=0, fit_params=None, pre_dispatch='2*n_jobs', method='predict')"
      ],
      "execution_count": null,
      "outputs": []
    },
    {
      "cell_type": "code",
      "metadata": {
        "id": "k6ZhyusnY1Fl",
        "colab": {
          "base_uri": "https://localhost:8080/",
          "height": 316
        },
        "outputId": "58326c20-df79-4932-e21c-84ea06c281b4"
      },
      "source": [
        "clf = svm.SVC(kernel='poly', decision_function_shape='ovr')\n",
        "y_pred = cross_val_predict(clf, X, y, cv=10)\n",
        "ConfusionMatrixDisplay.from_predictions(y, y_pred)\n",
        "plt.show()\n",
        "print(accuracy_score(y, y_pred))\n",
        "print(precision_recall_fscore_support(y, y_pred, average='macro'))"
      ],
      "execution_count": 34,
      "outputs": [
        {
          "output_type": "display_data",
          "data": {
            "image/png": "[encoded data removed]",
            "text/plain": [
              "<Figure size 432x288 with 2 Axes>"
            ]
          },
          "metadata": {
            "needs_background": "light"
          }
        },
        {
          "output_type": "stream",
          "name": "stdout",
          "text": [
            "0.2695582756785524\n",
            "(0.2710505416085996, 0.2696905998925471, 0.2607300492452763, None)\n"
          ]
        }
      ]
    },
    {
      "cell_type": "code",
      "metadata": {
        "id": "f93olLSPtwje",
        "colab": {
          "base_uri": "https://localhost:8080/",
          "height": 318
        },
        "outputId": "3146ccfd-6295-4bc6-83ec-0d0806eb7283"
      },
      "source": [
        "clf = svm.SVC(kernel='rbf', decision_function_shape='ovr')\n",
        "y_pred = cross_val_predict(clf, X, y, cv=10)\n",
        "ConfusionMatrixDisplay.from_predictions(y, y_pred)\n",
        "plt.show()\n",
        "print(accuracy_score(y, y_pred))\n",
        "print(precision_recall_fscore_support(y, y_pred, average='macro'))"
      ],
      "execution_count": 35,
      "outputs": [
        {
          "output_type": "display_data",
          "data": {
            "image/png": "[encoded data removed]",
            "text/plain": [
              "<Figure size 432x288 with 2 Axes>"
            ]
          },
          "metadata": {
            "needs_background": "light"
          }
        },
        {
          "output_type": "stream",
          "name": "stdout",
          "text": [
            "0.2602448110697179\n",
            "(0.25670498042687456, 0.260033343187582, 0.2502549465637465, None)\n"
          ]
        }
      ]
    },
    {
      "cell_type": "code",
      "metadata": {
        "id": "9W1NtMG2tx1k",
        "colab": {
          "base_uri": "https://localhost:8080/",
          "height": 316
        },
        "outputId": "5b7f9baf-b7f0-4249-e868-60576d06b353"
      },
      "source": [
        "clf = svm.SVC(kernel='linear', decision_function_shape='ovr')\n",
        "y_pred = cross_val_predict(clf, X, y, cv=10)\n",
        "ConfusionMatrixDisplay.from_predictions(y, y_pred)\n",
        "plt.show()\n",
        "print(accuracy_score(y, y_pred))\n",
        "print(precision_recall_fscore_support(y, y_pred, average='macro'))"
      ],
      "execution_count": 36,
      "outputs": [
        {
          "output_type": "display_data",
          "data": {
            "image/png": "[encoded data removed]",
            "text/plain": [
              "<Figure size 432x288 with 2 Axes>"
            ]
          },
          "metadata": {
            "needs_background": "light"
          }
        },
        {
          "output_type": "stream",
          "name": "stdout",
          "text": [
            "0.28978179882916444\n",
            "(0.28926766680379407, 0.28964420749865205, 0.2851458522519466, None)\n"
          ]
        }
      ]
    }
  ]
}