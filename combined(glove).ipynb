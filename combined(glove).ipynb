{
  "nbformat": 4,
  "nbformat_minor": 0,
  "metadata": {
    "colab": {
      "name": "glove.ipynb",
      "provenance": [],
      "authorship_tag": "ABX9TyNPMcuHlmst6h2MIcLO3CXd",
      "include_colab_link": true
    },
    "kernelspec": {
      "name": "python3",
      "display_name": "Python 3"
    },
    "language_info": {
      "name": "python"
    }
  },
  "cells": [
    {
      "cell_type": "markdown",
      "metadata": {
        "id": "view-in-github",
        "colab_type": "text"
      },
      "source": [
        "<a href=\"https://colab.research.google.com/github/alfinmaulani/skripsi/blob/master/combined(glove).ipynb\" target=\"_parent\"><img src=\"https://colab.research.google.com/assets/colab-badge.svg\" alt=\"Open In Colab\"/></a>"
      ]
    },
    {
      "cell_type": "code",
      "metadata": {
        "colab": {
          "base_uri": "https://localhost:8080/"
        },
        "id": "ci3dfx-9C_ji",
        "outputId": "d55abf2e-8cfe-4e5c-becc-593d4887be9d"
      },
      "source": [
        "!pip install --upgrade scikit-learn\n",
        "import numpy as np\n",
        "import pandas as pd\n",
        "import io\n",
        "import os\n",
        "import matplotlib.pyplot as plt\n",
        "from nltk.tokenize import word_tokenize\n",
        "import nltk\n",
        "nltk.download('punkt')\n",
        "import gensim"
      ],
      "execution_count": 1,
      "outputs": [
        {
          "output_type": "stream",
          "name": "stdout",
          "text": [
            "Requirement already satisfied: scikit-learn in /usr/local/lib/python3.7/dist-packages (1.0.1)\n",
            "Requirement already satisfied: joblib>=0.11 in /usr/local/lib/python3.7/dist-packages (from scikit-learn) (1.1.0)\n",
            "Requirement already satisfied: scipy>=1.1.0 in /usr/local/lib/python3.7/dist-packages (from scikit-learn) (1.4.1)\n",
            "Requirement already satisfied: numpy>=1.14.6 in /usr/local/lib/python3.7/dist-packages (from scikit-learn) (1.19.5)\n",
            "Requirement already satisfied: threadpoolctl>=2.0.0 in /usr/local/lib/python3.7/dist-packages (from scikit-learn) (3.0.0)\n",
            "[nltk_data] Downloading package punkt to /root/nltk_data...\n",
            "[nltk_data]   Unzipping tokenizers/punkt.zip.\n"
          ]
        }
      ]
    },
    {
      "cell_type": "code",
      "metadata": {
        "id": "-2hacXvT3mX8"
      },
      "source": [
        "url0='https://raw.githubusercontent.com/alfinmaulani/skripsi/master/dataISEAR.csv'\n",
        "df = pd.read_csv(url0)"
      ],
      "execution_count": 2,
      "outputs": []
    },
    {
      "cell_type": "code",
      "metadata": {
        "id": "BdH-t5_KMum4"
      },
      "source": [
        "# df=df.drop(df[df['emosi'] == 'shame'].sample(frac=1).index)\n",
        "# df=df.drop(df[df['emosi'] == 'guilt'].sample(frac=1).index)"
      ],
      "execution_count": null,
      "outputs": []
    },
    {
      "cell_type": "code",
      "metadata": {
        "colab": {
          "base_uri": "https://localhost:8080/"
        },
        "id": "ecmoGKcODIAZ",
        "outputId": "16dd6bcf-2783-4a60-dd98-6aeb64e47763"
      },
      "source": [
        "df.emosi.value_counts()"
      ],
      "execution_count": 3,
      "outputs": [
        {
          "output_type": "execute_result",
          "data": {
            "text/plain": [
              "joy        1092\n",
              "sadness    1082\n",
              "anger      1079\n",
              "fear       1076\n",
              "shame      1071\n",
              "disgust    1066\n",
              "guilt      1050\n",
              "Name: emosi, dtype: int64"
            ]
          },
          "metadata": {},
          "execution_count": 3
        }
      ]
    },
    {
      "cell_type": "code",
      "metadata": {
        "id": "5APBEuD1Hw5H",
        "colab": {
          "base_uri": "https://localhost:8080/"
        },
        "outputId": "234a8fb1-d25b-4e30-cde6-007ad899d2b5"
      },
      "source": [
        "from google.colab import drive\n",
        "drive.mount('/content/drive')"
      ],
      "execution_count": 4,
      "outputs": [
        {
          "output_type": "stream",
          "name": "stdout",
          "text": [
            "Mounted at /content/drive\n"
          ]
        }
      ]
    },
    {
      "cell_type": "code",
      "metadata": {
        "id": "sNtvPjXBH3EY"
      },
      "source": [
        "df2 = pd.read_csv('/content/drive/MyDrive/twitter_prosessed.csv')"
      ],
      "execution_count": 5,
      "outputs": []
    },
    {
      "cell_type": "code",
      "metadata": {
        "id": "-zQ0bincqHri"
      },
      "source": [
        "df3 = pd.read_csv('/content/drive/MyDrive/idwiki_new_lower.txt', delimiter = \"\\t\")\n",
        "df3.columns = [\"arti\"]"
      ],
      "execution_count": 6,
      "outputs": []
    },
    {
      "cell_type": "code",
      "metadata": {
        "id": "O1bl3-ku96wm"
      },
      "source": [
        "df4 = pd.read_csv('/content/drive/MyDrive/idwiki_new_lower2.txt', delimiter = \"\\t\")\n",
        "df4.columns = [\"arti\"]"
      ],
      "execution_count": null,
      "outputs": []
    },
    {
      "cell_type": "markdown",
      "metadata": {
        "id": "2EpWZexEyv1v"
      },
      "source": [
        "persiapan corpus tambahan"
      ]
    },
    {
      "cell_type": "code",
      "metadata": {
        "id": "7Ui9LGKtytkd"
      },
      "source": [
        "# dfg = pd.DataFrame(df2.tweet,columns=[\"dok\"])"
      ],
      "execution_count": null,
      "outputs": []
    },
    {
      "cell_type": "code",
      "metadata": {
        "id": "xhgrRcxoytWJ"
      },
      "source": [
        "# dfg = pd.DataFrame(df3.arti,columns=[\"dok\"])"
      ],
      "execution_count": null,
      "outputs": []
    },
    {
      "cell_type": "code",
      "metadata": {
        "id": "1xkLMVgbwZVj"
      },
      "source": [
        "dfg = pd.DataFrame(df3.arti.append(df2.tweet,ignore_index=True),columns=[\"dok\"])"
      ],
      "execution_count": 7,
      "outputs": []
    },
    {
      "cell_type": "markdown",
      "metadata": {
        "id": "9_Vnr7idZXyY"
      },
      "source": [
        "preputama : lower case"
      ]
    },
    {
      "cell_type": "code",
      "metadata": {
        "id": "RypDx3ICZPoM"
      },
      "source": [
        "def lower(temp):\n",
        "  return temp.str.lower()"
      ],
      "execution_count": 8,
      "outputs": []
    },
    {
      "cell_type": "code",
      "metadata": {
        "id": "WhpBZ6kQ9Wb5"
      },
      "source": [
        "df['dokumen']=lower(df['dokumen'])"
      ],
      "execution_count": 9,
      "outputs": []
    },
    {
      "cell_type": "code",
      "metadata": {
        "id": "PhbcH2FevErI"
      },
      "source": [
        "dfg['dok']=lower(dfg['dok'])"
      ],
      "execution_count": 10,
      "outputs": []
    },
    {
      "cell_type": "markdown",
      "metadata": {
        "id": "b82j_2JPZaQ8"
      },
      "source": [
        "preputama : Pembersihan noise (over enter and space)"
      ]
    },
    {
      "cell_type": "code",
      "metadata": {
        "id": "_RQsSdV6Z6ZF"
      },
      "source": [
        "def bersih_noise(temp):\n",
        "  temp=temp.replace(' \\n', ' ', regex=True)\n",
        "  temp=temp.replace('   ', ' ', regex=True)\n",
        "  return temp.replace('  ', ' ', regex=True)"
      ],
      "execution_count": 11,
      "outputs": []
    },
    {
      "cell_type": "code",
      "metadata": {
        "id": "Pe0GqxmE9WP2"
      },
      "source": [
        "df=bersih_noise(df)"
      ],
      "execution_count": 12,
      "outputs": []
    },
    {
      "cell_type": "code",
      "metadata": {
        "id": "PIur4tdzIBzl"
      },
      "source": [
        "dfg=bersih_noise(dfg)"
      ],
      "execution_count": 13,
      "outputs": []
    },
    {
      "cell_type": "markdown",
      "metadata": {
        "id": "1KUKEZPEZdku"
      },
      "source": [
        "preptambah : expand contractions"
      ]
    },
    {
      "cell_type": "code",
      "metadata": {
        "id": "DvUkcyckt3jt",
        "colab": {
          "base_uri": "https://localhost:8080/"
        },
        "outputId": "9801cb0a-bc2a-4178-df99-f20c3ad6e408"
      },
      "source": [
        "!pip install contractions\n",
        "import contractions"
      ],
      "execution_count": 14,
      "outputs": [
        {
          "output_type": "stream",
          "name": "stdout",
          "text": [
            "Collecting contractions\n",
            "  Downloading contractions-0.0.58-py2.py3-none-any.whl (8.0 kB)\n",
            "Collecting textsearch>=0.0.21\n",
            "  Downloading textsearch-0.0.21-py2.py3-none-any.whl (7.5 kB)\n",
            "Collecting pyahocorasick\n",
            "  Downloading pyahocorasick-1.4.2.tar.gz (321 kB)\n",
            "\u001b[K     |████████████████████████████████| 321 kB 9.5 MB/s \n",
            "\u001b[?25hCollecting anyascii\n",
            "  Downloading anyascii-0.3.0-py3-none-any.whl (284 kB)\n",
            "\u001b[K     |████████████████████████████████| 284 kB 45.3 MB/s \n",
            "\u001b[?25hBuilding wheels for collected packages: pyahocorasick\n",
            "  Building wheel for pyahocorasick (setup.py) ... \u001b[?25l\u001b[?25hdone\n",
            "  Created wheel for pyahocorasick: filename=pyahocorasick-1.4.2-cp37-cp37m-linux_x86_64.whl size=85452 sha256=22da2d6139fbb9c41021a9e1d482c74c5c5562c79fc77dd276060fcdd10c265c\n",
            "  Stored in directory: /root/.cache/pip/wheels/25/19/a6/8f363d9939162782bb8439d886469756271abc01f76fbd790f\n",
            "Successfully built pyahocorasick\n",
            "Installing collected packages: pyahocorasick, anyascii, textsearch, contractions\n",
            "Successfully installed anyascii-0.3.0 contractions-0.0.58 pyahocorasick-1.4.2 textsearch-0.0.21\n"
          ]
        }
      ]
    },
    {
      "cell_type": "code",
      "metadata": {
        "id": "QzffcxVlaxdd"
      },
      "source": [
        "def expand_word(temp):\n",
        "  expanded_words = []   \n",
        "  for word in temp:\n",
        "    expanded_words.append(contractions.fix(word))\n",
        "  return expanded_words"
      ],
      "execution_count": 15,
      "outputs": []
    },
    {
      "cell_type": "code",
      "metadata": {
        "id": "5glvogu8t3dl"
      },
      "source": [
        "df.dokumen=expand_word(df.dokumen)"
      ],
      "execution_count": 16,
      "outputs": []
    },
    {
      "cell_type": "code",
      "metadata": {
        "id": "nVjxLBLIIjXV"
      },
      "source": [
        "dfg.dok=expand_word(dfg.dok)"
      ],
      "execution_count": 17,
      "outputs": []
    },
    {
      "cell_type": "markdown",
      "metadata": {
        "id": "rS8J8JjJamsx"
      },
      "source": [
        "preputama : cleansing punctuation"
      ]
    },
    {
      "cell_type": "code",
      "metadata": {
        "id": "H3Hx4NpTbtrT"
      },
      "source": [
        "def clns_punc(temp):\n",
        "  return temp.str.replace(r'[^\\w\\s]+', '')"
      ],
      "execution_count": 18,
      "outputs": []
    },
    {
      "cell_type": "code",
      "metadata": {
        "id": "2z_rN6_Famg-"
      },
      "source": [
        "df['dokumen'] = clns_punc(df['dokumen'])"
      ],
      "execution_count": 19,
      "outputs": []
    },
    {
      "cell_type": "code",
      "metadata": {
        "id": "J5TnuwyKqmyj"
      },
      "source": [
        "dfg['dok'] = clns_punc(dfg['dok'])"
      ],
      "execution_count": 20,
      "outputs": []
    },
    {
      "cell_type": "markdown",
      "metadata": {
        "id": "g3p4Wtl9TWVY"
      },
      "source": [
        "preputama : cleansing number"
      ]
    },
    {
      "cell_type": "code",
      "metadata": {
        "id": "C9OjkbaHDMU6",
        "colab": {
          "base_uri": "https://localhost:8080/"
        },
        "outputId": "e6cd85d1-a481-4b37-b2ad-6e5d98bf7cdc"
      },
      "source": [
        "!pip install tweet-preprocessor\n",
        "import preprocessor as p"
      ],
      "execution_count": 21,
      "outputs": [
        {
          "output_type": "stream",
          "name": "stdout",
          "text": [
            "Collecting tweet-preprocessor\n",
            "  Downloading tweet_preprocessor-0.6.0-py3-none-any.whl (27 kB)\n",
            "Installing collected packages: tweet-preprocessor\n",
            "Successfully installed tweet-preprocessor-0.6.0\n"
          ]
        }
      ]
    },
    {
      "cell_type": "code",
      "metadata": {
        "id": "SSgdUgZ_cL3l"
      },
      "source": [
        "p.set_options(p.OPT.NUMBER)\n",
        "def clns_numb(temp):\n",
        "  sementara=[]\n",
        "  for word in temp:\n",
        "    sementara.append(p.clean(word))\n",
        "  return sementara"
      ],
      "execution_count": 22,
      "outputs": []
    },
    {
      "cell_type": "code",
      "metadata": {
        "id": "tbDKUmvtDRjN"
      },
      "source": [
        "df.dokumen=clns_numb(df.dokumen)"
      ],
      "execution_count": 23,
      "outputs": []
    },
    {
      "cell_type": "code",
      "metadata": {
        "id": "GmWovA8ADRby"
      },
      "source": [
        "dfg.dok=clns_numb(dfg.dok)"
      ],
      "execution_count": 24,
      "outputs": []
    },
    {
      "cell_type": "markdown",
      "metadata": {
        "id": "Hrfg5PlYaK_o"
      },
      "source": [
        "preptambah : remove stopword"
      ]
    },
    {
      "cell_type": "code",
      "metadata": {
        "colab": {
          "base_uri": "https://localhost:8080/"
        },
        "id": "Ol3lV82FbtgA",
        "outputId": "f8fc2eb3-2988-4e87-cb60-bafb789bf7d8"
      },
      "source": [
        "from nltk.corpus import stopwords\n",
        "nltk.download('stopwords')\n",
        "stop = stopwords.words('english')"
      ],
      "execution_count": 25,
      "outputs": [
        {
          "output_type": "stream",
          "name": "stdout",
          "text": [
            "[nltk_data] Downloading package stopwords to /root/nltk_data...\n",
            "[nltk_data]   Unzipping corpora/stopwords.zip.\n"
          ]
        }
      ]
    },
    {
      "cell_type": "code",
      "metadata": {
        "id": "ylnVLvktc1Pd"
      },
      "source": [
        "pat = r'\\b(?:{})\\b'.format('|'.join(stop))\n",
        "def remove_stopw(temp):\n",
        "  temp=temp.str.replace(pat, '')\n",
        "  return temp.str.replace(r'\\s+', ' ')"
      ],
      "execution_count": 26,
      "outputs": []
    },
    {
      "cell_type": "code",
      "metadata": {
        "id": "RKuF-6uCZ9Y1"
      },
      "source": [
        "df['dokumen'] = remove_stopw(df['dokumen'])"
      ],
      "execution_count": 27,
      "outputs": []
    },
    {
      "cell_type": "code",
      "metadata": {
        "id": "V77e41lhI5T7"
      },
      "source": [
        "dfg['dok'] = remove_stopw(dfg['dok'])"
      ],
      "execution_count": 28,
      "outputs": []
    },
    {
      "cell_type": "markdown",
      "metadata": {
        "id": "DnbrT-4daeEK"
      },
      "source": [
        "tokenizing"
      ]
    },
    {
      "cell_type": "code",
      "metadata": {
        "id": "0R5e1dYGdbYE"
      },
      "source": [
        "def token(temp):\n",
        "  return [word_tokenize(x) for x in temp]"
      ],
      "execution_count": 29,
      "outputs": []
    },
    {
      "cell_type": "code",
      "metadata": {
        "id": "XpqeTa21Z9OS"
      },
      "source": [
        "df.dokumen=token(df.dokumen)"
      ],
      "execution_count": 30,
      "outputs": []
    },
    {
      "cell_type": "code",
      "metadata": {
        "id": "GzBtjKLRJAQm"
      },
      "source": [
        "dfg.dok=token(dfg.dok)"
      ],
      "execution_count": 31,
      "outputs": []
    },
    {
      "cell_type": "markdown",
      "metadata": {
        "id": "qrBmBYUFV5BP"
      },
      "source": [
        "preptambah : Lemmatization"
      ]
    },
    {
      "cell_type": "code",
      "metadata": {
        "id": "K1ywmZGYZ9RJ"
      },
      "source": [
        "from nltk.stem.snowball import SnowballStemmer\n",
        "stemmer = SnowballStemmer(\"english\")"
      ],
      "execution_count": 32,
      "outputs": []
    },
    {
      "cell_type": "code",
      "metadata": {
        "id": "ENlrovvEd-V9"
      },
      "source": [
        "def lemma(temp):\n",
        "  temp.apply(lambda x: [stemmer.stem(y) for y in x])"
      ],
      "execution_count": 33,
      "outputs": []
    },
    {
      "cell_type": "code",
      "metadata": {
        "id": "vonaeiobZ9Lh"
      },
      "source": [
        "lemma(df['dokumen'])"
      ],
      "execution_count": 34,
      "outputs": []
    },
    {
      "cell_type": "code",
      "metadata": {
        "id": "b-LWL8O_rEXB"
      },
      "source": [
        "lemma(dfg['dok'])"
      ],
      "execution_count": 35,
      "outputs": []
    },
    {
      "cell_type": "markdown",
      "metadata": {
        "id": "K-NOlQnGbDUj"
      },
      "source": [
        "save df"
      ]
    },
    {
      "cell_type": "code",
      "metadata": {
        "id": "gk1V4HBPDHVw"
      },
      "source": [
        "# df.to_csv(r'dataisear(preptambah).csv', index = False)"
      ],
      "execution_count": null,
      "outputs": []
    },
    {
      "cell_type": "markdown",
      "metadata": {
        "id": "MZPjkuF7JMW_"
      },
      "source": [
        "gabung corpus"
      ]
    },
    {
      "cell_type": "code",
      "metadata": {
        "id": "cYp0kFuySqoO"
      },
      "source": [
        "# sent=df.dokumen"
      ],
      "execution_count": null,
      "outputs": []
    },
    {
      "cell_type": "code",
      "metadata": {
        "id": "05ktqhqurX6q"
      },
      "source": [
        "sent=dfg.dok.append(df.dokumen,ignore_index=True)"
      ],
      "execution_count": 36,
      "outputs": []
    },
    {
      "cell_type": "markdown",
      "metadata": {
        "id": "a2CO8Rbb2f54"
      },
      "source": [
        "glove"
      ]
    },
    {
      "cell_type": "code",
      "metadata": {
        "colab": {
          "base_uri": "https://localhost:8080/"
        },
        "id": "DboqVfIk2eZJ",
        "outputId": "17a70dd9-9deb-4a20-9b93-42818b8f55c2"
      },
      "source": [
        "!pip install glove-python-binary"
      ],
      "execution_count": 37,
      "outputs": [
        {
          "output_type": "stream",
          "name": "stdout",
          "text": [
            "Collecting glove-python-binary\n",
            "  Downloading glove_python_binary-0.2.0-cp37-cp37m-manylinux1_x86_64.whl (948 kB)\n",
            "\u001b[?25l\r\u001b[K     |▍                               | 10 kB 26.2 MB/s eta 0:00:01\r\u001b[K     |▊                               | 20 kB 26.8 MB/s eta 0:00:01\r\u001b[K     |█                               | 30 kB 18.8 MB/s eta 0:00:01\r\u001b[K     |█▍                              | 40 kB 14.4 MB/s eta 0:00:01\r\u001b[K     |█▊                              | 51 kB 5.6 MB/s eta 0:00:01\r\u001b[K     |██                              | 61 kB 6.5 MB/s eta 0:00:01\r\u001b[K     |██▍                             | 71 kB 7.3 MB/s eta 0:00:01\r\u001b[K     |██▊                             | 81 kB 8.0 MB/s eta 0:00:01\r\u001b[K     |███                             | 92 kB 8.8 MB/s eta 0:00:01\r\u001b[K     |███▌                            | 102 kB 6.2 MB/s eta 0:00:01\r\u001b[K     |███▉                            | 112 kB 6.2 MB/s eta 0:00:01\r\u001b[K     |████▏                           | 122 kB 6.2 MB/s eta 0:00:01\r\u001b[K     |████▌                           | 133 kB 6.2 MB/s eta 0:00:01\r\u001b[K     |████▉                           | 143 kB 6.2 MB/s eta 0:00:01\r\u001b[K     |█████▏                          | 153 kB 6.2 MB/s eta 0:00:01\r\u001b[K     |█████▌                          | 163 kB 6.2 MB/s eta 0:00:01\r\u001b[K     |█████▉                          | 174 kB 6.2 MB/s eta 0:00:01\r\u001b[K     |██████▏                         | 184 kB 6.2 MB/s eta 0:00:01\r\u001b[K     |██████▋                         | 194 kB 6.2 MB/s eta 0:00:01\r\u001b[K     |███████                         | 204 kB 6.2 MB/s eta 0:00:01\r\u001b[K     |███████▎                        | 215 kB 6.2 MB/s eta 0:00:01\r\u001b[K     |███████▋                        | 225 kB 6.2 MB/s eta 0:00:01\r\u001b[K     |████████                        | 235 kB 6.2 MB/s eta 0:00:01\r\u001b[K     |████████▎                       | 245 kB 6.2 MB/s eta 0:00:01\r\u001b[K     |████████▋                       | 256 kB 6.2 MB/s eta 0:00:01\r\u001b[K     |█████████                       | 266 kB 6.2 MB/s eta 0:00:01\r\u001b[K     |█████████▎                      | 276 kB 6.2 MB/s eta 0:00:01\r\u001b[K     |█████████▊                      | 286 kB 6.2 MB/s eta 0:00:01\r\u001b[K     |██████████                      | 296 kB 6.2 MB/s eta 0:00:01\r\u001b[K     |██████████▍                     | 307 kB 6.2 MB/s eta 0:00:01\r\u001b[K     |██████████▊                     | 317 kB 6.2 MB/s eta 0:00:01\r\u001b[K     |███████████                     | 327 kB 6.2 MB/s eta 0:00:01\r\u001b[K     |███████████▍                    | 337 kB 6.2 MB/s eta 0:00:01\r\u001b[K     |███████████▊                    | 348 kB 6.2 MB/s eta 0:00:01\r\u001b[K     |████████████                    | 358 kB 6.2 MB/s eta 0:00:01\r\u001b[K     |████████████▍                   | 368 kB 6.2 MB/s eta 0:00:01\r\u001b[K     |████████████▊                   | 378 kB 6.2 MB/s eta 0:00:01\r\u001b[K     |█████████████▏                  | 389 kB 6.2 MB/s eta 0:00:01\r\u001b[K     |█████████████▌                  | 399 kB 6.2 MB/s eta 0:00:01\r\u001b[K     |█████████████▉                  | 409 kB 6.2 MB/s eta 0:00:01\r\u001b[K     |██████████████▏                 | 419 kB 6.2 MB/s eta 0:00:01\r\u001b[K     |██████████████▌                 | 430 kB 6.2 MB/s eta 0:00:01\r\u001b[K     |██████████████▉                 | 440 kB 6.2 MB/s eta 0:00:01\r\u001b[K     |███████████████▏                | 450 kB 6.2 MB/s eta 0:00:01\r\u001b[K     |███████████████▌                | 460 kB 6.2 MB/s eta 0:00:01\r\u001b[K     |███████████████▉                | 471 kB 6.2 MB/s eta 0:00:01\r\u001b[K     |████████████████▎               | 481 kB 6.2 MB/s eta 0:00:01\r\u001b[K     |████████████████▋               | 491 kB 6.2 MB/s eta 0:00:01\r\u001b[K     |█████████████████               | 501 kB 6.2 MB/s eta 0:00:01\r\u001b[K     |█████████████████▎              | 512 kB 6.2 MB/s eta 0:00:01\r\u001b[K     |█████████████████▋              | 522 kB 6.2 MB/s eta 0:00:01\r\u001b[K     |██████████████████              | 532 kB 6.2 MB/s eta 0:00:01\r\u001b[K     |██████████████████▎             | 542 kB 6.2 MB/s eta 0:00:01\r\u001b[K     |██████████████████▋             | 552 kB 6.2 MB/s eta 0:00:01\r\u001b[K     |███████████████████             | 563 kB 6.2 MB/s eta 0:00:01\r\u001b[K     |███████████████████▍            | 573 kB 6.2 MB/s eta 0:00:01\r\u001b[K     |███████████████████▊            | 583 kB 6.2 MB/s eta 0:00:01\r\u001b[K     |████████████████████            | 593 kB 6.2 MB/s eta 0:00:01\r\u001b[K     |████████████████████▍           | 604 kB 6.2 MB/s eta 0:00:01\r\u001b[K     |████████████████████▊           | 614 kB 6.2 MB/s eta 0:00:01\r\u001b[K     |█████████████████████           | 624 kB 6.2 MB/s eta 0:00:01\r\u001b[K     |█████████████████████▍          | 634 kB 6.2 MB/s eta 0:00:01\r\u001b[K     |█████████████████████▊          | 645 kB 6.2 MB/s eta 0:00:01\r\u001b[K     |██████████████████████          | 655 kB 6.2 MB/s eta 0:00:01\r\u001b[K     |██████████████████████▌         | 665 kB 6.2 MB/s eta 0:00:01\r\u001b[K     |██████████████████████▉         | 675 kB 6.2 MB/s eta 0:00:01\r\u001b[K     |███████████████████████▏        | 686 kB 6.2 MB/s eta 0:00:01\r\u001b[K     |███████████████████████▌        | 696 kB 6.2 MB/s eta 0:00:01\r\u001b[K     |███████████████████████▉        | 706 kB 6.2 MB/s eta 0:00:01\r\u001b[K     |████████████████████████▏       | 716 kB 6.2 MB/s eta 0:00:01\r\u001b[K     |████████████████████████▌       | 727 kB 6.2 MB/s eta 0:00:01\r\u001b[K     |████████████████████████▉       | 737 kB 6.2 MB/s eta 0:00:01\r\u001b[K     |█████████████████████████▏      | 747 kB 6.2 MB/s eta 0:00:01\r\u001b[K     |█████████████████████████▌      | 757 kB 6.2 MB/s eta 0:00:01\r\u001b[K     |██████████████████████████      | 768 kB 6.2 MB/s eta 0:00:01\r\u001b[K     |██████████████████████████▎     | 778 kB 6.2 MB/s eta 0:00:01\r\u001b[K     |██████████████████████████▋     | 788 kB 6.2 MB/s eta 0:00:01\r\u001b[K     |███████████████████████████     | 798 kB 6.2 MB/s eta 0:00:01\r\u001b[K     |███████████████████████████▎    | 808 kB 6.2 MB/s eta 0:00:01\r\u001b[K     |███████████████████████████▋    | 819 kB 6.2 MB/s eta 0:00:01\r\u001b[K     |████████████████████████████    | 829 kB 6.2 MB/s eta 0:00:01\r\u001b[K     |████████████████████████████▎   | 839 kB 6.2 MB/s eta 0:00:01\r\u001b[K     |████████████████████████████▋   | 849 kB 6.2 MB/s eta 0:00:01\r\u001b[K     |█████████████████████████████   | 860 kB 6.2 MB/s eta 0:00:01\r\u001b[K     |█████████████████████████████▍  | 870 kB 6.2 MB/s eta 0:00:01\r\u001b[K     |█████████████████████████████▊  | 880 kB 6.2 MB/s eta 0:00:01\r\u001b[K     |██████████████████████████████  | 890 kB 6.2 MB/s eta 0:00:01\r\u001b[K     |██████████████████████████████▍ | 901 kB 6.2 MB/s eta 0:00:01\r\u001b[K     |██████████████████████████████▊ | 911 kB 6.2 MB/s eta 0:00:01\r\u001b[K     |███████████████████████████████ | 921 kB 6.2 MB/s eta 0:00:01\r\u001b[K     |███████████████████████████████▍| 931 kB 6.2 MB/s eta 0:00:01\r\u001b[K     |███████████████████████████████▊| 942 kB 6.2 MB/s eta 0:00:01\r\u001b[K     |████████████████████████████████| 948 kB 6.2 MB/s \n",
            "\u001b[?25hRequirement already satisfied: numpy in /usr/local/lib/python3.7/dist-packages (from glove-python-binary) (1.19.5)\n",
            "Requirement already satisfied: scipy in /usr/local/lib/python3.7/dist-packages (from glove-python-binary) (1.4.1)\n",
            "Installing collected packages: glove-python-binary\n",
            "Successfully installed glove-python-binary-0.2.0\n"
          ]
        }
      ]
    },
    {
      "cell_type": "code",
      "metadata": {
        "id": "stbOzjcca99T"
      },
      "source": [
        "from glove import Glove\n",
        "from glove import Corpus"
      ],
      "execution_count": 38,
      "outputs": []
    },
    {
      "cell_type": "code",
      "metadata": {
        "id": "vnJlv_Lw2_5P"
      },
      "source": [
        "korpus = Corpus()\n",
        "korpus.fit(sent, window=5, ignore_missing=False,)"
      ],
      "execution_count": 39,
      "outputs": []
    },
    {
      "cell_type": "code",
      "metadata": {
        "id": "lXGg7kp7qJ9a"
      },
      "source": [
        "# (corpus, window=10, ignore_missing=False)"
      ],
      "execution_count": null,
      "outputs": []
    },
    {
      "cell_type": "code",
      "metadata": {
        "id": "Mnagl9GqbW93"
      },
      "source": [
        "glove = Glove(no_components=100, learning_rate=0.05, alpha=0.025, max_count=100, max_loss=10.0, random_state=None)\n",
        "glove.fit(korpus.matrix)\n",
        "glove.add_dictionary(korpus.dictionary)"
      ],
      "execution_count": 40,
      "outputs": []
    },
    {
      "cell_type": "code",
      "metadata": {
        "id": "tS0NAc5zp0dH"
      },
      "source": [
        "# (no_components=30, learning_rate=0.05, alpha=0.75, max_count=100, max_loss=10.0, random_state=None)"
      ],
      "execution_count": null,
      "outputs": []
    },
    {
      "cell_type": "markdown",
      "metadata": {
        "id": "g7nkKPISbU-X"
      },
      "source": [
        "cek model"
      ]
    },
    {
      "cell_type": "code",
      "metadata": {
        "colab": {
          "base_uri": "https://localhost:8080/"
        },
        "id": "TWu2zy-n3DYa",
        "outputId": "602b72e1-f7f2-4460-f032-41cd9426cf03"
      },
      "source": [
        "glove.word_vectors.shape"
      ],
      "execution_count": 41,
      "outputs": [
        {
          "output_type": "execute_result",
          "data": {
            "text/plain": [
              "(1003499, 100)"
            ]
          },
          "metadata": {},
          "execution_count": 41
        }
      ]
    },
    {
      "cell_type": "code",
      "metadata": {
        "colab": {
          "base_uri": "https://localhost:8080/"
        },
        "id": "R6GsJv-YWyQi",
        "outputId": "bf00b869-4fa9-484f-c944-d3fce632b88b"
      },
      "source": [
        "glove.word_vectors[glove.dictionary['moment']]"
      ],
      "execution_count": 42,
      "outputs": [
        {
          "output_type": "execute_result",
          "data": {
            "text/plain": [
              "array([-0.23648805, -0.2554184 , -0.17151174,  0.13990104,  0.19690862,\n",
              "       -0.22448673,  0.30628917,  0.11877755,  0.10485836,  0.11075579,\n",
              "        0.01710637,  0.25492498, -0.04642934, -0.02990107, -0.15051736,\n",
              "        0.0881238 , -0.11435698, -0.15723384,  0.08898   , -0.22409639,\n",
              "        0.08300564,  0.35201082,  0.30805976,  0.3236732 , -0.13229738,\n",
              "        0.09560679, -0.04600665,  0.20684266, -0.01865398,  0.05770189,\n",
              "       -0.1776878 ,  0.08705789,  0.04583142,  0.14996312,  0.23869651,\n",
              "       -0.28465778,  0.27254211,  0.09906394, -0.11658693,  0.04312877,\n",
              "        0.12462775,  0.00517374, -0.30699349,  0.16752996,  0.07822282,\n",
              "       -0.25173452,  0.17634485, -0.033418  ,  0.40277729,  0.05963147,\n",
              "        0.20798048, -0.07666731,  0.01767594, -0.01035766,  0.25032358,\n",
              "        0.13709143, -0.06299669,  0.21844655, -0.06499019,  0.02613455,\n",
              "       -0.3673549 , -0.17420686,  0.26859306,  0.25260552,  0.28597806,\n",
              "        0.0337273 , -0.06696783, -0.44023333, -0.08363648,  0.0879125 ,\n",
              "       -0.11320011, -0.20579018,  0.26783701, -0.07848114, -0.09429747,\n",
              "       -0.13214006, -0.13795797,  0.05190077, -0.02941185, -0.25025922,\n",
              "       -0.19529799, -0.07048585, -0.25763128,  0.13092829,  0.07046779,\n",
              "        0.13786515,  0.24523313,  0.12451638, -0.31327449, -0.19949506,\n",
              "       -0.04853664, -0.08090292,  0.11588051,  0.02807595, -0.10160498,\n",
              "        0.07542989,  0.04666709, -0.16793932,  0.01145812, -0.23766388])"
            ]
          },
          "metadata": {},
          "execution_count": 42
        }
      ]
    },
    {
      "cell_type": "markdown",
      "metadata": {
        "id": "myQsetPR3tLU"
      },
      "source": [
        "ekstraksi fitur"
      ]
    },
    {
      "cell_type": "code",
      "metadata": {
        "id": "IxR45IUU3QxR"
      },
      "source": [
        "import array\n",
        "ekstrak=[]\n",
        "temp=array.array('i',(0,)*100)\n",
        "for senten in df.dokumen:\n",
        "  for word in senten:\n",
        "    temp=np.add(temp,glove.word_vectors[glove.dictionary[word]])\n",
        "  temp=temp/len(senten)\n",
        "  ekstrak.append(temp)\n",
        "has_vec=ekstrak"
      ],
      "execution_count": 43,
      "outputs": []
    },
    {
      "cell_type": "code",
      "metadata": {
        "id": "pRTuBH09XfkI",
        "colab": {
          "base_uri": "https://localhost:8080/"
        },
        "outputId": "53fea239-fd3f-4816-8c5e-838060fde502"
      },
      "source": [
        "X=has_vec\n",
        "y=df.emosi\n",
        "print(np.shape(X))\n",
        "print(np.shape(y))\n",
        "# print(X)\n",
        "# print(y)"
      ],
      "execution_count": 44,
      "outputs": [
        {
          "output_type": "stream",
          "name": "stdout",
          "text": [
            "(7516, 100)\n",
            "(7516,)\n"
          ]
        }
      ]
    },
    {
      "cell_type": "markdown",
      "metadata": {
        "id": "9REgAm12XkXE"
      },
      "source": [
        "klasifikasi svm"
      ]
    },
    {
      "cell_type": "code",
      "metadata": {
        "id": "N_7cSx4lXl7N"
      },
      "source": [
        "from sklearn import svm\n",
        "from sklearn.model_selection import cross_val_score"
      ],
      "execution_count": 45,
      "outputs": []
    },
    {
      "cell_type": "code",
      "metadata": {
        "id": "nXGSL_-1XpMg"
      },
      "source": [
        "# langsung cari score\n",
        "\n",
        "# clf = svm.SVC(kernel='poly', decision_function_shape='ovr')\n",
        "# scores = cross_val_score(clf, X, y, cv=10)\n",
        "# # scores.mean()"
      ],
      "execution_count": null,
      "outputs": []
    },
    {
      "cell_type": "markdown",
      "metadata": {
        "id": "meJ2peGBYxm9"
      },
      "source": [
        "conf matrix dan akurasi"
      ]
    },
    {
      "cell_type": "code",
      "metadata": {
        "id": "0WaiSp_nU9NK"
      },
      "source": [
        "from sklearn.metrics import confusion_matrix\n",
        "from sklearn.metrics import accuracy_score\n",
        "from sklearn.model_selection import cross_val_predict\n",
        "import matplotlib.pyplot as plt\n",
        "from sklearn.metrics import ConfusionMatrixDisplay\n",
        "from sklearn.metrics import precision_recall_fscore_support"
      ],
      "execution_count": 46,
      "outputs": []
    },
    {
      "cell_type": "code",
      "metadata": {
        "id": "93fZsexIh1Ew"
      },
      "source": [
        "# svm.SVC(C=1.0, kernel='rbf', degree=3, gamma='scale', coef0=0.0, shrinking=True, probability=False, tol=0.001, cache_size=200, \n",
        "#  class_weight=None, verbose=False, max_iter=- 1, decision_function_shape='ovr', break_ties=False, random_state=None)"
      ],
      "execution_count": null,
      "outputs": []
    },
    {
      "cell_type": "code",
      "metadata": {
        "id": "HeUbPgMYiAp_"
      },
      "source": [
        "# cross_val_predict(estimator, X, y=None, *, groups=None, cv=None, n_jobs=None, verbose=0, fit_params=None, \n",
        "# pre_dispatch='2*n_jobs', method='predict')"
      ],
      "execution_count": null,
      "outputs": []
    },
    {
      "cell_type": "code",
      "metadata": {
        "id": "OobcP1FOj56e"
      },
      "source": [
        "def klasifikasi(krnl):\n",
        "  clf = svm.SVC(kernel=krnl, decision_function_shape='ovr')\n",
        "  y_pred = cross_val_predict(clf, X, y, cv=10)\n",
        "  ConfusionMatrixDisplay.from_predictions(y, y_pred)\n",
        "  plt.show()\n",
        "  print(accuracy_score(y, y_pred))\n",
        "  print(precision_recall_fscore_support(y, y_pred, average='macro'))"
      ],
      "execution_count": 47,
      "outputs": []
    },
    {
      "cell_type": "code",
      "metadata": {
        "id": "eE1sUIMnkPMr",
        "colab": {
          "base_uri": "https://localhost:8080/",
          "height": 316
        },
        "outputId": "1dc41413-b91c-4987-8ca7-5be1d4fb381c"
      },
      "source": [
        "klasifikasi('poly')"
      ],
      "execution_count": 48,
      "outputs": [
        {
          "output_type": "display_data",
          "data": {
            "image/png": "[encoded data removed]",
            "text/plain": [
              "<Figure size 432x288 with 2 Axes>"
            ]
          },
          "metadata": {
            "needs_background": "light"
          }
        },
        {
          "output_type": "stream",
          "name": "stdout",
          "text": [
            "0.3875731772219266\n",
            "(0.4058981961235949, 0.3867325495668609, 0.3861468420443529, None)\n"
          ]
        }
      ]
    },
    {
      "cell_type": "code",
      "metadata": {
        "id": "UmfZ9gGHq6ll",
        "colab": {
          "base_uri": "https://localhost:8080/",
          "height": 316
        },
        "outputId": "6ca04d54-29c0-4f0b-9ec2-e6fc9d8f1414"
      },
      "source": [
        "klasifikasi('rbf')"
      ],
      "execution_count": 49,
      "outputs": [
        {
          "output_type": "display_data",
          "data": {
            "image/png": "[encoded data removed]",
            "text/plain": [
              "<Figure size 432x288 with 2 Axes>"
            ]
          },
          "metadata": {
            "needs_background": "light"
          }
        },
        {
          "output_type": "stream",
          "name": "stdout",
          "text": [
            "0.41019159127195315\n",
            "(0.40524418304405657, 0.40925897998121485, 0.4044636203096435, None)\n"
          ]
        }
      ]
    },
    {
      "cell_type": "code",
      "metadata": {
        "id": "EdMr-dJ_q6iY",
        "colab": {
          "base_uri": "https://localhost:8080/",
          "height": 316
        },
        "outputId": "16feea5f-4c2b-4cfa-c8d1-a411a9480ccb"
      },
      "source": [
        "klasifikasi('linear')"
      ],
      "execution_count": 50,
      "outputs": [
        {
          "output_type": "display_data",
          "data": {
            "image/png": "[encoded data removed]",
            "text/plain": [
              "<Figure size 432x288 with 2 Axes>"
            ]
          },
          "metadata": {
            "needs_background": "light"
          }
        },
        {
          "output_type": "stream",
          "name": "stdout",
          "text": [
            "0.4042043640234167\n",
            "(0.3990654573297111, 0.40320714345141717, 0.39892298544127536, None)\n"
          ]
        }
      ]
    }
  ]
}