{
  "nbformat": 4,
  "nbformat_minor": 0,
  "metadata": {
    "colab": {
      "name": "glove.ipynb",
      "provenance": [],
      "authorship_tag": "ABX9TyMH+s/bvIbDXqQf8SUQybRF",
      "include_colab_link": true
    },
    "kernelspec": {
      "name": "python3",
      "display_name": "Python 3"
    },
    "language_info": {
      "name": "python"
    }
  },
  "cells": [
    {
      "cell_type": "markdown",
      "metadata": {
        "id": "view-in-github",
        "colab_type": "text"
      },
      "source": [
        "<a href=\"https://colab.research.google.com/github/alfinmaulani/skripsi/blob/master/combined(glove).ipynb\" target=\"_parent\"><img src=\"https://colab.research.google.com/assets/colab-badge.svg\" alt=\"Open In Colab\"/></a>"
      ]
    },
    {
      "cell_type": "code",
      "metadata": {
        "colab": {
          "base_uri": "https://localhost:8080/"
        },
        "id": "ci3dfx-9C_ji",
        "outputId": "bcafbbca-5239-4eb7-95b6-a3240a75e8ab"
      },
      "source": [
        "!pip install --upgrade scikit-learn\n",
        "import numpy as np\n",
        "import pandas as pd\n",
        "import io\n",
        "import os\n",
        "import matplotlib.pyplot as plt\n",
        "from nltk.tokenize import word_tokenize\n",
        "import nltk\n",
        "nltk.download('punkt')\n",
        "import gensim"
      ],
      "execution_count": 1,
      "outputs": [
        {
          "output_type": "stream",
          "name": "stdout",
          "text": [
            "Requirement already satisfied: scikit-learn in /usr/local/lib/python3.7/dist-packages (0.22.2.post1)\n",
            "Collecting scikit-learn\n",
            "  Downloading scikit_learn-1.0.1-cp37-cp37m-manylinux_2_12_x86_64.manylinux2010_x86_64.whl (23.2 MB)\n",
            "\u001b[K     |████████████████████████████████| 23.2 MB 1.8 MB/s \n",
            "\u001b[?25hCollecting threadpoolctl>=2.0.0\n",
            "  Downloading threadpoolctl-3.0.0-py3-none-any.whl (14 kB)\n",
            "Requirement already satisfied: joblib>=0.11 in /usr/local/lib/python3.7/dist-packages (from scikit-learn) (1.1.0)\n",
            "Requirement already satisfied: scipy>=1.1.0 in /usr/local/lib/python3.7/dist-packages (from scikit-learn) (1.4.1)\n",
            "Requirement already satisfied: numpy>=1.14.6 in /usr/local/lib/python3.7/dist-packages (from scikit-learn) (1.19.5)\n",
            "Installing collected packages: threadpoolctl, scikit-learn\n",
            "  Attempting uninstall: scikit-learn\n",
            "    Found existing installation: scikit-learn 0.22.2.post1\n",
            "    Uninstalling scikit-learn-0.22.2.post1:\n",
            "      Successfully uninstalled scikit-learn-0.22.2.post1\n",
            "Successfully installed scikit-learn-1.0.1 threadpoolctl-3.0.0\n",
            "[nltk_data] Downloading package punkt to /root/nltk_data...\n",
            "[nltk_data]   Unzipping tokenizers/punkt.zip.\n"
          ]
        }
      ]
    },
    {
      "cell_type": "code",
      "metadata": {
        "id": "-2hacXvT3mX8"
      },
      "source": [
        "url0='https://raw.githubusercontent.com/alfinmaulani/skripsi/master/dataISEAR.csv'\n",
        "# url1 = 'https://raw.githubusercontent.com/alfinmaulani/skripsi/master/dataisear(preputama).csv'\n",
        "# url2 = 'tba'\n",
        "df = pd.read_csv(url0)\n",
        "# df.iloc[:,1]"
      ],
      "execution_count": 2,
      "outputs": []
    },
    {
      "cell_type": "code",
      "metadata": {
        "colab": {
          "base_uri": "https://localhost:8080/"
        },
        "id": "ecmoGKcODIAZ",
        "outputId": "522adbb6-988c-48e4-841b-ef97f48f0116"
      },
      "source": [
        "df.emosi.value_counts()"
      ],
      "execution_count": 3,
      "outputs": [
        {
          "output_type": "execute_result",
          "data": {
            "text/plain": [
              "joy        1092\n",
              "sadness    1082\n",
              "anger      1079\n",
              "fear       1076\n",
              "shame      1071\n",
              "disgust    1066\n",
              "guilt      1050\n",
              "Name: emosi, dtype: int64"
            ]
          },
          "metadata": {},
          "execution_count": 3
        }
      ]
    },
    {
      "cell_type": "code",
      "metadata": {
        "id": "bMTf--q3GaUB",
        "colab": {
          "base_uri": "https://localhost:8080/",
          "height": 206
        },
        "outputId": "6b6ae993-bfc0-4fc4-f6c1-bbc8ec49db4b"
      },
      "source": [
        "df.head()"
      ],
      "execution_count": 4,
      "outputs": [
        {
          "output_type": "execute_result",
          "data": {
            "text/html": [
              "<div>\n",
              "<style scoped>\n",
              "    .dataframe tbody tr th:only-of-type {\n",
              "        vertical-align: middle;\n",
              "    }\n",
              "\n",
              "    .dataframe tbody tr th {\n",
              "        vertical-align: top;\n",
              "    }\n",
              "\n",
              "    .dataframe thead th {\n",
              "        text-align: right;\n",
              "    }\n",
              "</style>\n",
              "<table border=\"1\" class=\"dataframe\">\n",
              "  <thead>\n",
              "    <tr style=\"text-align: right;\">\n",
              "      <th></th>\n",
              "      <th>emosi</th>\n",
              "      <th>dokumen</th>\n",
              "    </tr>\n",
              "  </thead>\n",
              "  <tbody>\n",
              "    <tr>\n",
              "      <th>0</th>\n",
              "      <td>joy</td>\n",
              "      <td>On days when I feel close to my partner and ot...</td>\n",
              "    </tr>\n",
              "    <tr>\n",
              "      <th>1</th>\n",
              "      <td>fear</td>\n",
              "      <td>Every time I imagine that someone I love or I ...</td>\n",
              "    </tr>\n",
              "    <tr>\n",
              "      <th>2</th>\n",
              "      <td>anger</td>\n",
              "      <td>When I had been obviously unjustly treated and...</td>\n",
              "    </tr>\n",
              "    <tr>\n",
              "      <th>3</th>\n",
              "      <td>sadness</td>\n",
              "      <td>When I think about the short time that we live...</td>\n",
              "    </tr>\n",
              "    <tr>\n",
              "      <th>4</th>\n",
              "      <td>disgust</td>\n",
              "      <td>At a gathering I found myself involuntarily si...</td>\n",
              "    </tr>\n",
              "  </tbody>\n",
              "</table>\n",
              "</div>"
            ],
            "text/plain": [
              "     emosi                                            dokumen\n",
              "0      joy  On days when I feel close to my partner and ot...\n",
              "1     fear  Every time I imagine that someone I love or I ...\n",
              "2    anger  When I had been obviously unjustly treated and...\n",
              "3  sadness  When I think about the short time that we live...\n",
              "4  disgust  At a gathering I found myself involuntarily si..."
            ]
          },
          "metadata": {},
          "execution_count": 4
        }
      ]
    },
    {
      "cell_type": "markdown",
      "metadata": {
        "id": "9_Vnr7idZXyY"
      },
      "source": [
        "preputama : lower case"
      ]
    },
    {
      "cell_type": "code",
      "metadata": {
        "id": "WhpBZ6kQ9Wb5"
      },
      "source": [
        "df['dokumen']=df['dokumen'].str.lower()\n",
        "# print(df.iloc[4,1])"
      ],
      "execution_count": 5,
      "outputs": []
    },
    {
      "cell_type": "markdown",
      "metadata": {
        "id": "b82j_2JPZaQ8"
      },
      "source": [
        "preputama : Pembersihan noise (over enter and space)"
      ]
    },
    {
      "cell_type": "code",
      "metadata": {
        "id": "Pe0GqxmE9WP2"
      },
      "source": [
        "df=df.replace(' \\n', ' ', regex=True)\n",
        "df=df.replace('   ', ' ', regex=True)\n",
        "df=df.replace('  ', ' ', regex=True)"
      ],
      "execution_count": 6,
      "outputs": []
    },
    {
      "cell_type": "markdown",
      "metadata": {
        "id": "1KUKEZPEZdku"
      },
      "source": [
        "preptambah : expand contractions"
      ]
    },
    {
      "cell_type": "code",
      "metadata": {
        "id": "DvUkcyckt3jt",
        "colab": {
          "base_uri": "https://localhost:8080/"
        },
        "outputId": "81a50821-4b07-407c-faaf-0a020247d73c"
      },
      "source": [
        "!pip install contractions\n",
        "import contractions"
      ],
      "execution_count": 7,
      "outputs": [
        {
          "output_type": "stream",
          "name": "stdout",
          "text": [
            "Collecting contractions\n",
            "  Downloading contractions-0.0.55-py2.py3-none-any.whl (7.9 kB)\n",
            "Collecting textsearch>=0.0.21\n",
            "  Downloading textsearch-0.0.21-py2.py3-none-any.whl (7.5 kB)\n",
            "Collecting pyahocorasick\n",
            "  Downloading pyahocorasick-1.4.2.tar.gz (321 kB)\n",
            "\u001b[K     |████████████████████████████████| 321 kB 8.4 MB/s \n",
            "\u001b[?25hCollecting anyascii\n",
            "  Downloading anyascii-0.3.0-py3-none-any.whl (284 kB)\n",
            "\u001b[K     |████████████████████████████████| 284 kB 55.8 MB/s \n",
            "\u001b[?25hBuilding wheels for collected packages: pyahocorasick\n",
            "  Building wheel for pyahocorasick (setup.py) ... \u001b[?25l\u001b[?25hdone\n",
            "  Created wheel for pyahocorasick: filename=pyahocorasick-1.4.2-cp37-cp37m-linux_x86_64.whl size=85447 sha256=b7b86747186138ea2f71d84272531344ffd9b3978db563bf1e7c077b4c1f4fcd\n",
            "  Stored in directory: /root/.cache/pip/wheels/25/19/a6/8f363d9939162782bb8439d886469756271abc01f76fbd790f\n",
            "Successfully built pyahocorasick\n",
            "Installing collected packages: pyahocorasick, anyascii, textsearch, contractions\n",
            "Successfully installed anyascii-0.3.0 contractions-0.0.55 pyahocorasick-1.4.2 textsearch-0.0.21\n"
          ]
        }
      ]
    },
    {
      "cell_type": "code",
      "metadata": {
        "id": "zlzIsqZA--mh",
        "colab": {
          "base_uri": "https://localhost:8080/",
          "height": 424
        },
        "outputId": "b378d395-18a0-4734-8f9f-8e378ff078b4"
      },
      "source": [
        "df[df['dokumen'].str.contains(\"couldn't\")]"
      ],
      "execution_count": 8,
      "outputs": [
        {
          "output_type": "execute_result",
          "data": {
            "text/html": [
              "<div>\n",
              "<style scoped>\n",
              "    .dataframe tbody tr th:only-of-type {\n",
              "        vertical-align: middle;\n",
              "    }\n",
              "\n",
              "    .dataframe tbody tr th {\n",
              "        vertical-align: top;\n",
              "    }\n",
              "\n",
              "    .dataframe thead th {\n",
              "        text-align: right;\n",
              "    }\n",
              "</style>\n",
              "<table border=\"1\" class=\"dataframe\">\n",
              "  <thead>\n",
              "    <tr style=\"text-align: right;\">\n",
              "      <th></th>\n",
              "      <th>emosi</th>\n",
              "      <th>dokumen</th>\n",
              "    </tr>\n",
              "  </thead>\n",
              "  <tbody>\n",
              "    <tr>\n",
              "      <th>124</th>\n",
              "      <td>disgust</td>\n",
              "      <td>when i saw a picture, in the gothenburg post, ...</td>\n",
              "    </tr>\n",
              "    <tr>\n",
              "      <th>526</th>\n",
              "      <td>anger</td>\n",
              "      <td>a friend suggested in a round-about way that t...</td>\n",
              "    </tr>\n",
              "    <tr>\n",
              "      <th>545</th>\n",
              "      <td>fear</td>\n",
              "      <td>i was rock-climbing and absailing &amp; felt ok, b...</td>\n",
              "    </tr>\n",
              "    <tr>\n",
              "      <th>553</th>\n",
              "      <td>anger</td>\n",
              "      <td>getting a terrible exam mark, which i couldn't...</td>\n",
              "    </tr>\n",
              "    <tr>\n",
              "      <th>673</th>\n",
              "      <td>fear</td>\n",
              "      <td>after seeing a terror movie at the cinema, i w...</td>\n",
              "    </tr>\n",
              "    <tr>\n",
              "      <th>...</th>\n",
              "      <td>...</td>\n",
              "      <td>...</td>\n",
              "    </tr>\n",
              "    <tr>\n",
              "      <th>6589</th>\n",
              "      <td>joy</td>\n",
              "      <td>when my boyfriend came form rumphi to lilongwe...</td>\n",
              "    </tr>\n",
              "    <tr>\n",
              "      <th>6592</th>\n",
              "      <td>sadness</td>\n",
              "      <td>i wrote a letter to my boyfriend but he couldn...</td>\n",
              "    </tr>\n",
              "    <tr>\n",
              "      <th>6595</th>\n",
              "      <td>guilt</td>\n",
              "      <td>one day i found an incontinent man in the ward...</td>\n",
              "    </tr>\n",
              "    <tr>\n",
              "      <th>6624</th>\n",
              "      <td>joy</td>\n",
              "      <td>it was in 1983 september when mce results were...</td>\n",
              "    </tr>\n",
              "    <tr>\n",
              "      <th>6647</th>\n",
              "      <td>anger</td>\n",
              "      <td>somebody took my wristwatch and promised to ha...</td>\n",
              "    </tr>\n",
              "  </tbody>\n",
              "</table>\n",
              "<p>61 rows × 2 columns</p>\n",
              "</div>"
            ],
            "text/plain": [
              "        emosi                                            dokumen\n",
              "124   disgust  when i saw a picture, in the gothenburg post, ...\n",
              "526     anger  a friend suggested in a round-about way that t...\n",
              "545      fear  i was rock-climbing and absailing & felt ok, b...\n",
              "553     anger  getting a terrible exam mark, which i couldn't...\n",
              "673      fear  after seeing a terror movie at the cinema, i w...\n",
              "...       ...                                                ...\n",
              "6589      joy  when my boyfriend came form rumphi to lilongwe...\n",
              "6592  sadness  i wrote a letter to my boyfriend but he couldn...\n",
              "6595    guilt  one day i found an incontinent man in the ward...\n",
              "6624      joy  it was in 1983 september when mce results were...\n",
              "6647    anger  somebody took my wristwatch and promised to ha...\n",
              "\n",
              "[61 rows x 2 columns]"
            ]
          },
          "metadata": {},
          "execution_count": 8
        }
      ]
    },
    {
      "cell_type": "code",
      "metadata": {
        "id": "62ZF5gRet3gf"
      },
      "source": [
        "expanded_words = []    "
      ],
      "execution_count": 9,
      "outputs": []
    },
    {
      "cell_type": "code",
      "metadata": {
        "id": "5glvogu8t3dl"
      },
      "source": [
        "for word in df.dokumen:\n",
        "  expanded_words.append(contractions.fix(word))"
      ],
      "execution_count": 10,
      "outputs": []
    },
    {
      "cell_type": "code",
      "metadata": {
        "id": "jrSbyPtxt3WL",
        "colab": {
          "base_uri": "https://localhost:8080/"
        },
        "outputId": "7631cf4c-830f-4af0-c6de-39bbf2416be8"
      },
      "source": [
        "np.shape(expanded_words)"
      ],
      "execution_count": 11,
      "outputs": [
        {
          "output_type": "execute_result",
          "data": {
            "text/plain": [
              "(7516,)"
            ]
          },
          "metadata": {},
          "execution_count": 11
        }
      ]
    },
    {
      "cell_type": "code",
      "metadata": {
        "id": "Ftx4dckWY5MQ"
      },
      "source": [
        "df.dokumen=expanded_words"
      ],
      "execution_count": 12,
      "outputs": []
    },
    {
      "cell_type": "code",
      "metadata": {
        "colab": {
          "base_uri": "https://localhost:8080/",
          "height": 49
        },
        "id": "iVmrpIOBZAdZ",
        "outputId": "253ec86e-9ad0-4beb-9b58-c0c10ec07556"
      },
      "source": [
        "df[df['dokumen'].str.contains(\"couldn't\")]"
      ],
      "execution_count": 13,
      "outputs": [
        {
          "output_type": "execute_result",
          "data": {
            "text/html": [
              "<div>\n",
              "<style scoped>\n",
              "    .dataframe tbody tr th:only-of-type {\n",
              "        vertical-align: middle;\n",
              "    }\n",
              "\n",
              "    .dataframe tbody tr th {\n",
              "        vertical-align: top;\n",
              "    }\n",
              "\n",
              "    .dataframe thead th {\n",
              "        text-align: right;\n",
              "    }\n",
              "</style>\n",
              "<table border=\"1\" class=\"dataframe\">\n",
              "  <thead>\n",
              "    <tr style=\"text-align: right;\">\n",
              "      <th></th>\n",
              "      <th>emosi</th>\n",
              "      <th>dokumen</th>\n",
              "    </tr>\n",
              "  </thead>\n",
              "  <tbody>\n",
              "  </tbody>\n",
              "</table>\n",
              "</div>"
            ],
            "text/plain": [
              "Empty DataFrame\n",
              "Columns: [emosi, dokumen]\n",
              "Index: []"
            ]
          },
          "metadata": {},
          "execution_count": 13
        }
      ]
    },
    {
      "cell_type": "code",
      "metadata": {
        "colab": {
          "base_uri": "https://localhost:8080/",
          "height": 54
        },
        "id": "4x5xoGarZw3c",
        "outputId": "a4d7c228-7c23-4350-c98a-fe5e10ba2c02"
      },
      "source": [
        "df.dokumen[124]"
      ],
      "execution_count": 14,
      "outputs": [
        {
          "output_type": "execute_result",
          "data": {
            "application/vnd.google.colaboratory.intrinsic+json": {
              "type": "string"
            },
            "text/plain": [
              "'when i saw a picture, in the gothenburg post, of a totally demolished car with two fatally injured passengers. the car was so badly damaged that they could not get the bodies out at the scene of the accident.'"
            ]
          },
          "metadata": {},
          "execution_count": 14
        }
      ]
    },
    {
      "cell_type": "markdown",
      "metadata": {
        "id": "rS8J8JjJamsx"
      },
      "source": [
        "preputama : cleansing"
      ]
    },
    {
      "cell_type": "code",
      "metadata": {
        "id": "2z_rN6_Famg-"
      },
      "source": [
        "df['dokumen'] = df['dokumen'].str.replace(r'[^\\w\\s]+', '')"
      ],
      "execution_count": 15,
      "outputs": []
    },
    {
      "cell_type": "code",
      "metadata": {
        "id": "FugbI_iu052g",
        "colab": {
          "base_uri": "https://localhost:8080/"
        },
        "outputId": "80505d61-6e43-4f68-cee6-77fa3c3658cc"
      },
      "source": [
        "df.shape"
      ],
      "execution_count": 16,
      "outputs": [
        {
          "output_type": "execute_result",
          "data": {
            "text/plain": [
              "(7516, 2)"
            ]
          },
          "metadata": {},
          "execution_count": 16
        }
      ]
    },
    {
      "cell_type": "markdown",
      "metadata": {
        "id": "Hrfg5PlYaK_o"
      },
      "source": [
        "preptambah : remove stopword"
      ]
    },
    {
      "cell_type": "code",
      "metadata": {
        "colab": {
          "base_uri": "https://localhost:8080/"
        },
        "id": "Ol3lV82FbtgA",
        "outputId": "c2b55fa5-0476-40c3-c7e4-18512d358083"
      },
      "source": [
        "from nltk.corpus import stopwords\n",
        "nltk.download('stopwords')\n",
        "stop = stopwords.words('english')"
      ],
      "execution_count": 17,
      "outputs": [
        {
          "output_type": "stream",
          "name": "stdout",
          "text": [
            "[nltk_data] Downloading package stopwords to /root/nltk_data...\n",
            "[nltk_data]   Unzipping corpora/stopwords.zip.\n"
          ]
        }
      ]
    },
    {
      "cell_type": "code",
      "metadata": {
        "id": "RKuF-6uCZ9Y1"
      },
      "source": [
        "pat = r'\\b(?:{})\\b'.format('|'.join(stop))\n",
        "df['dokumen'] = df['dokumen'].str.replace(pat, '')\n",
        "df['dokumen'] = df['dokumen'].str.replace(r'\\s+', ' ')"
      ],
      "execution_count": 18,
      "outputs": []
    },
    {
      "cell_type": "code",
      "metadata": {
        "colab": {
          "base_uri": "https://localhost:8080/",
          "height": 206
        },
        "id": "dve1Ha9fZ9WR",
        "outputId": "e6a29700-5159-4031-db4a-36d8dfc67fbd"
      },
      "source": [
        "df.head()"
      ],
      "execution_count": 19,
      "outputs": [
        {
          "output_type": "execute_result",
          "data": {
            "text/html": [
              "<div>\n",
              "<style scoped>\n",
              "    .dataframe tbody tr th:only-of-type {\n",
              "        vertical-align: middle;\n",
              "    }\n",
              "\n",
              "    .dataframe tbody tr th {\n",
              "        vertical-align: top;\n",
              "    }\n",
              "\n",
              "    .dataframe thead th {\n",
              "        text-align: right;\n",
              "    }\n",
              "</style>\n",
              "<table border=\"1\" class=\"dataframe\">\n",
              "  <thead>\n",
              "    <tr style=\"text-align: right;\">\n",
              "      <th></th>\n",
              "      <th>emosi</th>\n",
              "      <th>dokumen</th>\n",
              "    </tr>\n",
              "  </thead>\n",
              "  <tbody>\n",
              "    <tr>\n",
              "      <th>0</th>\n",
              "      <td>joy</td>\n",
              "      <td>days feel close partner friends feel peace al...</td>\n",
              "    </tr>\n",
              "    <tr>\n",
              "      <th>1</th>\n",
              "      <td>fear</td>\n",
              "      <td>every time imagine someone love could contact ...</td>\n",
              "    </tr>\n",
              "    <tr>\n",
              "      <th>2</th>\n",
              "      <td>anger</td>\n",
              "      <td>obviously unjustly treated possibility elucid...</td>\n",
              "    </tr>\n",
              "    <tr>\n",
              "      <th>3</th>\n",
              "      <td>sadness</td>\n",
              "      <td>think short time live relate periods life thi...</td>\n",
              "    </tr>\n",
              "    <tr>\n",
              "      <th>4</th>\n",
              "      <td>disgust</td>\n",
              "      <td>gathering found involuntarily sitting next tw...</td>\n",
              "    </tr>\n",
              "  </tbody>\n",
              "</table>\n",
              "</div>"
            ],
            "text/plain": [
              "     emosi                                            dokumen\n",
              "0      joy   days feel close partner friends feel peace al...\n",
              "1     fear  every time imagine someone love could contact ...\n",
              "2    anger   obviously unjustly treated possibility elucid...\n",
              "3  sadness   think short time live relate periods life thi...\n",
              "4  disgust   gathering found involuntarily sitting next tw..."
            ]
          },
          "metadata": {},
          "execution_count": 19
        }
      ]
    },
    {
      "cell_type": "code",
      "metadata": {
        "colab": {
          "base_uri": "https://localhost:8080/"
        },
        "id": "Exm_2VZSZ9To",
        "outputId": "fe67fb68-0984-4d34-86cb-d33190fad74f"
      },
      "source": [
        "df.dokumen"
      ],
      "execution_count": 20,
      "outputs": [
        {
          "output_type": "execute_result",
          "data": {
            "text/plain": [
              "0        days feel close partner friends feel peace al...\n",
              "1       every time imagine someone love could contact ...\n",
              "2        obviously unjustly treated possibility elucid...\n",
              "3        think short time live relate periods life thi...\n",
              "4        gathering found involuntarily sitting next tw...\n",
              "                              ...                        \n",
              "7511    two years back someone invited tutor granddaug...\n",
              "7512     taken responsibility something prepared howev...\n",
              "7513     home heard loud sound spitting outside door t...\n",
              "7514        homework teacher asked us scolded immediately\n",
              "7515     shouted younger brother always afraid called ...\n",
              "Name: dokumen, Length: 7516, dtype: object"
            ]
          },
          "metadata": {},
          "execution_count": 20
        }
      ]
    },
    {
      "cell_type": "code",
      "metadata": {
        "id": "sOhcWRl94ygC",
        "colab": {
          "base_uri": "https://localhost:8080/"
        },
        "outputId": "8cfd9c33-85b6-4cd0-fdc0-849342ed5899"
      },
      "source": [
        "df.shape"
      ],
      "execution_count": 21,
      "outputs": [
        {
          "output_type": "execute_result",
          "data": {
            "text/plain": [
              "(7516, 2)"
            ]
          },
          "metadata": {},
          "execution_count": 21
        }
      ]
    },
    {
      "cell_type": "markdown",
      "metadata": {
        "id": "DnbrT-4daeEK"
      },
      "source": [
        "preputama : Lemmatization(d laporan salah tkoniize word)"
      ]
    },
    {
      "cell_type": "code",
      "metadata": {
        "id": "XpqeTa21Z9OS"
      },
      "source": [
        "sentences = [word_tokenize(x) for x in df.dokumen] \n",
        "# df = pd.DataFrame(df.apply(list,axis=1), columns=['dokumen'])"
      ],
      "execution_count": 23,
      "outputs": []
    },
    {
      "cell_type": "code",
      "metadata": {
        "id": "lSYO9qJUCeta"
      },
      "source": [
        "df.dokumen=sentences"
      ],
      "execution_count": 24,
      "outputs": []
    },
    {
      "cell_type": "markdown",
      "metadata": {
        "id": "qrBmBYUFV5BP"
      },
      "source": [
        "preptambah : steming (di laporan lematization salah karna lematization = tokenize)"
      ]
    },
    {
      "cell_type": "code",
      "metadata": {
        "id": "K1ywmZGYZ9RJ"
      },
      "source": [
        "from nltk.stem.snowball import SnowballStemmer\n",
        "\n",
        "# Use English stemmer.\n",
        "stemmer = SnowballStemmer(\"english\")"
      ],
      "execution_count": 22,
      "outputs": []
    },
    {
      "cell_type": "code",
      "metadata": {
        "id": "vonaeiobZ9Lh",
        "colab": {
          "base_uri": "https://localhost:8080/"
        },
        "outputId": "1bde8649-5626-4de6-af2f-512122880831"
      },
      "source": [
        "# temp = df.dokumen.apply(lambda x: [stemmer.stem(y) for y in x])\n",
        "df['dokumen'].apply(lambda x: [stemmer.stem(y) for y in x])"
      ],
      "execution_count": 25,
      "outputs": [
        {
          "output_type": "execute_result",
          "data": {
            "text/plain": [
              "0       [day, feel, close, partner, friend, feel, peac...\n",
              "1       [everi, time, imagin, someon, love, could, con...\n",
              "2               [obvious, unjust, treat, possibl, elucid]\n",
              "3       [think, short, time, live, relat, period, life...\n",
              "4       [gather, found, involuntarili, sit, next, two,...\n",
              "                              ...                        \n",
              "7511    [two, year, back, someon, invit, tutor, grandd...\n",
              "7512    [taken, respons, someth, prepar, howev, fail, ...\n",
              "7513    [home, heard, loud, sound, spit, outsid, door,...\n",
              "7514          [homework, teacher, ask, us, scold, immedi]\n",
              "7515    [shout, younger, brother, alway, afraid, call,...\n",
              "Name: dokumen, Length: 7516, dtype: object"
            ]
          },
          "metadata": {},
          "execution_count": 25
        }
      ]
    },
    {
      "cell_type": "code",
      "metadata": {
        "id": "Lf2yV0_wdOEF",
        "colab": {
          "base_uri": "https://localhost:8080/",
          "height": 206
        },
        "outputId": "65afff3b-04a9-4ef2-c925-4f56ca251479"
      },
      "source": [
        "df.head()"
      ],
      "execution_count": 26,
      "outputs": [
        {
          "output_type": "execute_result",
          "data": {
            "text/html": [
              "<div>\n",
              "<style scoped>\n",
              "    .dataframe tbody tr th:only-of-type {\n",
              "        vertical-align: middle;\n",
              "    }\n",
              "\n",
              "    .dataframe tbody tr th {\n",
              "        vertical-align: top;\n",
              "    }\n",
              "\n",
              "    .dataframe thead th {\n",
              "        text-align: right;\n",
              "    }\n",
              "</style>\n",
              "<table border=\"1\" class=\"dataframe\">\n",
              "  <thead>\n",
              "    <tr style=\"text-align: right;\">\n",
              "      <th></th>\n",
              "      <th>emosi</th>\n",
              "      <th>dokumen</th>\n",
              "    </tr>\n",
              "  </thead>\n",
              "  <tbody>\n",
              "    <tr>\n",
              "      <th>0</th>\n",
              "      <td>joy</td>\n",
              "      <td>[days, feel, close, partner, friends, feel, pe...</td>\n",
              "    </tr>\n",
              "    <tr>\n",
              "      <th>1</th>\n",
              "      <td>fear</td>\n",
              "      <td>[every, time, imagine, someone, love, could, c...</td>\n",
              "    </tr>\n",
              "    <tr>\n",
              "      <th>2</th>\n",
              "      <td>anger</td>\n",
              "      <td>[obviously, unjustly, treated, possibility, el...</td>\n",
              "    </tr>\n",
              "    <tr>\n",
              "      <th>3</th>\n",
              "      <td>sadness</td>\n",
              "      <td>[think, short, time, live, relate, periods, li...</td>\n",
              "    </tr>\n",
              "    <tr>\n",
              "      <th>4</th>\n",
              "      <td>disgust</td>\n",
              "      <td>[gathering, found, involuntarily, sitting, nex...</td>\n",
              "    </tr>\n",
              "  </tbody>\n",
              "</table>\n",
              "</div>"
            ],
            "text/plain": [
              "     emosi                                            dokumen\n",
              "0      joy  [days, feel, close, partner, friends, feel, pe...\n",
              "1     fear  [every, time, imagine, someone, love, could, c...\n",
              "2    anger  [obviously, unjustly, treated, possibility, el...\n",
              "3  sadness  [think, short, time, live, relate, periods, li...\n",
              "4  disgust  [gathering, found, involuntarily, sitting, nex..."
            ]
          },
          "metadata": {},
          "execution_count": 26
        }
      ]
    },
    {
      "cell_type": "markdown",
      "metadata": {
        "id": "K-NOlQnGbDUj"
      },
      "source": [
        "save df"
      ]
    },
    {
      "cell_type": "code",
      "metadata": {
        "id": "gk1V4HBPDHVw"
      },
      "source": [
        "# df.to_csv(r'dataisear(preptambah).csv', index = False)"
      ],
      "execution_count": null,
      "outputs": []
    },
    {
      "cell_type": "markdown",
      "metadata": {
        "id": "a2CO8Rbb2f54"
      },
      "source": [
        "glove"
      ]
    },
    {
      "cell_type": "code",
      "metadata": {
        "colab": {
          "base_uri": "https://localhost:8080/"
        },
        "id": "DboqVfIk2eZJ",
        "outputId": "6243c6c5-8729-4d92-c3e7-4994e4675c06"
      },
      "source": [
        "!pip install glove-python-binary"
      ],
      "execution_count": 27,
      "outputs": [
        {
          "output_type": "stream",
          "name": "stdout",
          "text": [
            "Collecting glove-python-binary\n",
            "  Downloading glove_python_binary-0.2.0-cp37-cp37m-manylinux1_x86_64.whl (948 kB)\n",
            "\u001b[?25l\r\u001b[K     |▍                               | 10 kB 22.7 MB/s eta 0:00:01\r\u001b[K     |▊                               | 20 kB 27.6 MB/s eta 0:00:01\r\u001b[K     |█                               | 30 kB 26.3 MB/s eta 0:00:01\r\u001b[K     |█▍                              | 40 kB 20.5 MB/s eta 0:00:01\r\u001b[K     |█▊                              | 51 kB 10.9 MB/s eta 0:00:01\r\u001b[K     |██                              | 61 kB 8.6 MB/s eta 0:00:01\r\u001b[K     |██▍                             | 71 kB 9.5 MB/s eta 0:00:01\r\u001b[K     |██▊                             | 81 kB 10.4 MB/s eta 0:00:01\r\u001b[K     |███                             | 92 kB 11.5 MB/s eta 0:00:01\r\u001b[K     |███▌                            | 102 kB 9.7 MB/s eta 0:00:01\r\u001b[K     |███▉                            | 112 kB 9.7 MB/s eta 0:00:01\r\u001b[K     |████▏                           | 122 kB 9.7 MB/s eta 0:00:01\r\u001b[K     |████▌                           | 133 kB 9.7 MB/s eta 0:00:01\r\u001b[K     |████▉                           | 143 kB 9.7 MB/s eta 0:00:01\r\u001b[K     |█████▏                          | 153 kB 9.7 MB/s eta 0:00:01\r\u001b[K     |█████▌                          | 163 kB 9.7 MB/s eta 0:00:01\r\u001b[K     |█████▉                          | 174 kB 9.7 MB/s eta 0:00:01\r\u001b[K     |██████▏                         | 184 kB 9.7 MB/s eta 0:00:01\r\u001b[K     |██████▋                         | 194 kB 9.7 MB/s eta 0:00:01\r\u001b[K     |███████                         | 204 kB 9.7 MB/s eta 0:00:01\r\u001b[K     |███████▎                        | 215 kB 9.7 MB/s eta 0:00:01\r\u001b[K     |███████▋                        | 225 kB 9.7 MB/s eta 0:00:01\r\u001b[K     |████████                        | 235 kB 9.7 MB/s eta 0:00:01\r\u001b[K     |████████▎                       | 245 kB 9.7 MB/s eta 0:00:01\r\u001b[K     |████████▋                       | 256 kB 9.7 MB/s eta 0:00:01\r\u001b[K     |█████████                       | 266 kB 9.7 MB/s eta 0:00:01\r\u001b[K     |█████████▎                      | 276 kB 9.7 MB/s eta 0:00:01\r\u001b[K     |█████████▊                      | 286 kB 9.7 MB/s eta 0:00:01\r\u001b[K     |██████████                      | 296 kB 9.7 MB/s eta 0:00:01\r\u001b[K     |██████████▍                     | 307 kB 9.7 MB/s eta 0:00:01\r\u001b[K     |██████████▊                     | 317 kB 9.7 MB/s eta 0:00:01\r\u001b[K     |███████████                     | 327 kB 9.7 MB/s eta 0:00:01\r\u001b[K     |███████████▍                    | 337 kB 9.7 MB/s eta 0:00:01\r\u001b[K     |███████████▊                    | 348 kB 9.7 MB/s eta 0:00:01\r\u001b[K     |████████████                    | 358 kB 9.7 MB/s eta 0:00:01\r\u001b[K     |████████████▍                   | 368 kB 9.7 MB/s eta 0:00:01\r\u001b[K     |████████████▊                   | 378 kB 9.7 MB/s eta 0:00:01\r\u001b[K     |█████████████▏                  | 389 kB 9.7 MB/s eta 0:00:01\r\u001b[K     |█████████████▌                  | 399 kB 9.7 MB/s eta 0:00:01\r\u001b[K     |█████████████▉                  | 409 kB 9.7 MB/s eta 0:00:01\r\u001b[K     |██████████████▏                 | 419 kB 9.7 MB/s eta 0:00:01\r\u001b[K     |██████████████▌                 | 430 kB 9.7 MB/s eta 0:00:01\r\u001b[K     |██████████████▉                 | 440 kB 9.7 MB/s eta 0:00:01\r\u001b[K     |███████████████▏                | 450 kB 9.7 MB/s eta 0:00:01\r\u001b[K     |███████████████▌                | 460 kB 9.7 MB/s eta 0:00:01\r\u001b[K     |███████████████▉                | 471 kB 9.7 MB/s eta 0:00:01\r\u001b[K     |████████████████▎               | 481 kB 9.7 MB/s eta 0:00:01\r\u001b[K     |████████████████▋               | 491 kB 9.7 MB/s eta 0:00:01\r\u001b[K     |█████████████████               | 501 kB 9.7 MB/s eta 0:00:01\r\u001b[K     |█████████████████▎              | 512 kB 9.7 MB/s eta 0:00:01\r\u001b[K     |█████████████████▋              | 522 kB 9.7 MB/s eta 0:00:01\r\u001b[K     |██████████████████              | 532 kB 9.7 MB/s eta 0:00:01\r\u001b[K     |██████████████████▎             | 542 kB 9.7 MB/s eta 0:00:01\r\u001b[K     |██████████████████▋             | 552 kB 9.7 MB/s eta 0:00:01\r\u001b[K     |███████████████████             | 563 kB 9.7 MB/s eta 0:00:01\r\u001b[K     |███████████████████▍            | 573 kB 9.7 MB/s eta 0:00:01\r\u001b[K     |███████████████████▊            | 583 kB 9.7 MB/s eta 0:00:01\r\u001b[K     |████████████████████            | 593 kB 9.7 MB/s eta 0:00:01\r\u001b[K     |████████████████████▍           | 604 kB 9.7 MB/s eta 0:00:01\r\u001b[K     |████████████████████▊           | 614 kB 9.7 MB/s eta 0:00:01\r\u001b[K     |█████████████████████           | 624 kB 9.7 MB/s eta 0:00:01\r\u001b[K     |█████████████████████▍          | 634 kB 9.7 MB/s eta 0:00:01\r\u001b[K     |█████████████████████▊          | 645 kB 9.7 MB/s eta 0:00:01\r\u001b[K     |██████████████████████          | 655 kB 9.7 MB/s eta 0:00:01\r\u001b[K     |██████████████████████▌         | 665 kB 9.7 MB/s eta 0:00:01\r\u001b[K     |██████████████████████▉         | 675 kB 9.7 MB/s eta 0:00:01\r\u001b[K     |███████████████████████▏        | 686 kB 9.7 MB/s eta 0:00:01\r\u001b[K     |███████████████████████▌        | 696 kB 9.7 MB/s eta 0:00:01\r\u001b[K     |███████████████████████▉        | 706 kB 9.7 MB/s eta 0:00:01\r\u001b[K     |████████████████████████▏       | 716 kB 9.7 MB/s eta 0:00:01\r\u001b[K     |████████████████████████▌       | 727 kB 9.7 MB/s eta 0:00:01\r\u001b[K     |████████████████████████▉       | 737 kB 9.7 MB/s eta 0:00:01\r\u001b[K     |█████████████████████████▏      | 747 kB 9.7 MB/s eta 0:00:01\r\u001b[K     |█████████████████████████▌      | 757 kB 9.7 MB/s eta 0:00:01\r\u001b[K     |██████████████████████████      | 768 kB 9.7 MB/s eta 0:00:01\r\u001b[K     |██████████████████████████▎     | 778 kB 9.7 MB/s eta 0:00:01\r\u001b[K     |██████████████████████████▋     | 788 kB 9.7 MB/s eta 0:00:01\r\u001b[K     |███████████████████████████     | 798 kB 9.7 MB/s eta 0:00:01\r\u001b[K     |███████████████████████████▎    | 808 kB 9.7 MB/s eta 0:00:01\r\u001b[K     |███████████████████████████▋    | 819 kB 9.7 MB/s eta 0:00:01\r\u001b[K     |████████████████████████████    | 829 kB 9.7 MB/s eta 0:00:01\r\u001b[K     |████████████████████████████▎   | 839 kB 9.7 MB/s eta 0:00:01\r\u001b[K     |████████████████████████████▋   | 849 kB 9.7 MB/s eta 0:00:01\r\u001b[K     |█████████████████████████████   | 860 kB 9.7 MB/s eta 0:00:01\r\u001b[K     |█████████████████████████████▍  | 870 kB 9.7 MB/s eta 0:00:01\r\u001b[K     |█████████████████████████████▊  | 880 kB 9.7 MB/s eta 0:00:01\r\u001b[K     |██████████████████████████████  | 890 kB 9.7 MB/s eta 0:00:01\r\u001b[K     |██████████████████████████████▍ | 901 kB 9.7 MB/s eta 0:00:01\r\u001b[K     |██████████████████████████████▊ | 911 kB 9.7 MB/s eta 0:00:01\r\u001b[K     |███████████████████████████████ | 921 kB 9.7 MB/s eta 0:00:01\r\u001b[K     |███████████████████████████████▍| 931 kB 9.7 MB/s eta 0:00:01\r\u001b[K     |███████████████████████████████▊| 942 kB 9.7 MB/s eta 0:00:01\r\u001b[K     |████████████████████████████████| 948 kB 9.7 MB/s \n",
            "\u001b[?25hRequirement already satisfied: numpy in /usr/local/lib/python3.7/dist-packages (from glove-python-binary) (1.19.5)\n",
            "Requirement already satisfied: scipy in /usr/local/lib/python3.7/dist-packages (from glove-python-binary) (1.4.1)\n",
            "Installing collected packages: glove-python-binary\n",
            "Successfully installed glove-python-binary-0.2.0\n"
          ]
        }
      ]
    },
    {
      "cell_type": "code",
      "metadata": {
        "id": "stbOzjcca99T"
      },
      "source": [
        "from glove import Glove\n",
        "from glove import Corpus"
      ],
      "execution_count": 28,
      "outputs": []
    },
    {
      "cell_type": "code",
      "metadata": {
        "colab": {
          "base_uri": "https://localhost:8080/"
        },
        "id": "elyuEtW62W2h",
        "outputId": "7cb7adf3-c117-4edf-fc4b-631fb1fe1f6a"
      },
      "source": [
        "len(df)"
      ],
      "execution_count": 29,
      "outputs": [
        {
          "output_type": "execute_result",
          "data": {
            "text/plain": [
              "7516"
            ]
          },
          "metadata": {},
          "execution_count": 29
        }
      ]
    },
    {
      "cell_type": "code",
      "metadata": {
        "id": "vnJlv_Lw2_5P"
      },
      "source": [
        "korpus = Corpus()\n",
        "korpus.fit(df.dokumen, window=10, ignore_missing=False)"
      ],
      "execution_count": 30,
      "outputs": []
    },
    {
      "cell_type": "code",
      "metadata": {
        "id": "Mnagl9GqbW93"
      },
      "source": [
        "glove = Glove(no_components=100, learning_rate=0.05, alpha=0.75, max_count=100, max_loss=10.0, random_state=None)\n",
        "glove.fit(korpus.matrix)\n",
        "glove.add_dictionary(korpus.dictionary)"
      ],
      "execution_count": 31,
      "outputs": []
    },
    {
      "cell_type": "markdown",
      "metadata": {
        "id": "g7nkKPISbU-X"
      },
      "source": [
        "cek moedel"
      ]
    },
    {
      "cell_type": "code",
      "metadata": {
        "colab": {
          "base_uri": "https://localhost:8080/"
        },
        "id": "TWu2zy-n3DYa",
        "outputId": "45179148-00e6-4eb7-b862-f9650da81e97"
      },
      "source": [
        "glove.word_vectors.shape"
      ],
      "execution_count": 32,
      "outputs": [
        {
          "output_type": "execute_result",
          "data": {
            "text/plain": [
              "(9192, 100)"
            ]
          },
          "metadata": {},
          "execution_count": 32
        }
      ]
    },
    {
      "cell_type": "code",
      "metadata": {
        "colab": {
          "base_uri": "https://localhost:8080/"
        },
        "id": "R6GsJv-YWyQi",
        "outputId": "f08f12e5-1a8b-48ce-81e3-af53732739ba"
      },
      "source": [
        "glove.word_vectors[glove.dictionary['moment']]"
      ],
      "execution_count": 34,
      "outputs": [
        {
          "output_type": "execute_result",
          "data": {
            "text/plain": [
              "array([-2.30145442e-03,  2.64923334e-03, -3.53703034e-03, -6.94611153e-04,\n",
              "       -3.14890530e-03, -3.39850616e-03, -4.23033412e-03, -2.99382567e-03,\n",
              "        4.42084674e-03,  4.39979600e-03,  4.11680555e-03, -4.43546972e-03,\n",
              "        4.31387902e-05, -2.99343765e-04, -2.97273387e-04,  1.66157135e-03,\n",
              "        2.19462357e-03, -1.33586840e-03,  1.33074663e-03,  3.86726665e-03,\n",
              "        1.85032155e-03,  3.40318470e-03, -4.44491379e-03,  9.35553089e-04,\n",
              "       -4.49158532e-03,  4.71078200e-03,  3.91061560e-03, -3.86508008e-03,\n",
              "       -5.20829608e-03, -6.00768539e-04, -1.20542567e-03,  4.68778405e-03,\n",
              "       -4.19991558e-04, -1.81972057e-03,  1.43221905e-03, -8.24917123e-04,\n",
              "        4.75202367e-04, -2.14838008e-04,  2.85307592e-03, -9.76118446e-04,\n",
              "       -4.04960082e-03,  4.25842267e-03,  5.80662912e-03,  3.87909597e-03,\n",
              "        2.03221793e-03, -4.64287308e-03, -1.49585656e-03,  4.66167967e-03,\n",
              "       -3.02122200e-03,  1.91589796e-03,  3.67952236e-03,  3.13156017e-03,\n",
              "        1.43540111e-03, -4.38581294e-03, -3.35044584e-03, -2.57392268e-03,\n",
              "        2.90594125e-03, -3.31765920e-04, -3.66681996e-03,  9.67295678e-04,\n",
              "       -2.36861254e-03,  3.11125984e-03,  3.12290207e-03, -1.19809240e-03,\n",
              "        3.65802632e-03,  4.01810542e-03,  7.13779916e-04, -1.60373718e-03,\n",
              "        1.37523898e-03, -4.45080569e-03,  5.11663789e-03, -4.74391551e-03,\n",
              "       -3.50876300e-03, -1.84290590e-03, -2.92212257e-03, -7.41359089e-04,\n",
              "       -1.79164314e-03,  1.99708516e-04, -4.38977861e-03,  3.53753989e-04,\n",
              "       -5.05502312e-04, -3.23442498e-03,  3.98886423e-03, -2.41484489e-03,\n",
              "       -4.05936594e-03, -1.24386176e-04,  1.55563914e-03, -1.89654744e-03,\n",
              "        7.25927417e-05,  4.42577878e-03,  3.99345277e-03,  3.98490867e-03,\n",
              "        2.28550039e-03,  3.28480544e-03, -3.91321257e-03,  1.66633587e-03,\n",
              "       -5.35634289e-04,  5.00135529e-04, -3.22632898e-03,  1.49791629e-03])"
            ]
          },
          "metadata": {},
          "execution_count": 34
        }
      ]
    },
    {
      "cell_type": "markdown",
      "metadata": {
        "id": "myQsetPR3tLU"
      },
      "source": [
        "ekstraksi fitur"
      ]
    },
    {
      "cell_type": "code",
      "metadata": {
        "id": "IxR45IUU3QxR"
      },
      "source": [
        "import array\n",
        "ekstrak=[]\n",
        "temp=array.array('i',(0,)*100)\n",
        "for senten in df.dokumen:\n",
        "  for word in senten:\n",
        "    temp=np.add(temp,glove.word_vectors[glove.dictionary[word]])\n",
        "  temp=temp/len(senten)\n",
        "  ekstrak.append(temp)\n",
        "has_vec=ekstrak"
      ],
      "execution_count": 35,
      "outputs": []
    },
    {
      "cell_type": "code",
      "metadata": {
        "colab": {
          "base_uri": "https://localhost:8080/"
        },
        "id": "pRTuBH09XfkI",
        "outputId": "fd7ab5d2-76ec-42df-b84d-29611a744136"
      },
      "source": [
        "X=has_vec\n",
        "y=df.emosi\n",
        "print(np.shape(X))\n",
        "print(np.shape(y))\n",
        "# print(X)\n",
        "# print(y)"
      ],
      "execution_count": 36,
      "outputs": [
        {
          "output_type": "stream",
          "name": "stdout",
          "text": [
            "(7516, 100)\n",
            "(7516,)\n"
          ]
        }
      ]
    },
    {
      "cell_type": "markdown",
      "metadata": {
        "id": "9REgAm12XkXE"
      },
      "source": [
        "klasifikasi svm"
      ]
    },
    {
      "cell_type": "code",
      "metadata": {
        "id": "N_7cSx4lXl7N"
      },
      "source": [
        "from sklearn.model_selection import cross_val_score\n",
        "from sklearn import svm\n",
        "from sklearn.model_selection import cross_val_predict\n",
        "from sklearn.metrics import confusion_matrix\n",
        "from sklearn.metrics import accuracy_score"
      ],
      "execution_count": 37,
      "outputs": []
    },
    {
      "cell_type": "code",
      "metadata": {
        "colab": {
          "base_uri": "https://localhost:8080/"
        },
        "id": "N3VpS5HZXnRH",
        "outputId": "a9868172-550c-488c-a343-80d8af053b56"
      },
      "source": [
        "clf = svm.SVC(kernel='linear', decision_function_shape='ovr')# clf.kernel\n",
        "scores = cross_val_score(clf, X, y, cv=10)\n",
        "scores.mean()"
      ],
      "execution_count": null,
      "outputs": [
        {
          "output_type": "execute_result",
          "data": {
            "text/plain": [
              "0.14741815876703404"
            ]
          },
          "metadata": {},
          "execution_count": 59
        }
      ]
    },
    {
      "cell_type": "code",
      "metadata": {
        "colab": {
          "base_uri": "https://localhost:8080/"
        },
        "id": "UMxUkWorXpTy",
        "outputId": "28ed907c-635a-4fba-d5dd-8c11a3b68195"
      },
      "source": [
        "clf = svm.SVC(kernel='rbf', decision_function_shape='ovr')# clf.kernel\n",
        "scores = cross_val_score(clf, X, y, cv=10)\n",
        "scores.mean()"
      ],
      "execution_count": null,
      "outputs": [
        {
          "output_type": "execute_result",
          "data": {
            "text/plain": [
              "0.32398787432359694"
            ]
          },
          "metadata": {},
          "execution_count": 60
        }
      ]
    },
    {
      "cell_type": "code",
      "metadata": {
        "colab": {
          "base_uri": "https://localhost:8080/"
        },
        "id": "nXGSL_-1XpMg",
        "outputId": "c86fb7df-8877-4e07-c9f3-6e7ad5268bcd"
      },
      "source": [
        "clf = svm.SVC(kernel='poly', decision_function_shape='ovr')# clf.kernel\n",
        "scores = cross_val_score(clf, X, y, cv=10)\n",
        "scores.mean()"
      ],
      "execution_count": null,
      "outputs": [
        {
          "output_type": "execute_result",
          "data": {
            "text/plain": [
              "0.2585242726010709"
            ]
          },
          "metadata": {},
          "execution_count": 61
        }
      ]
    },
    {
      "cell_type": "code",
      "metadata": {
        "colab": {
          "base_uri": "https://localhost:8080/"
        },
        "id": "hNnzPSzDXo_w",
        "outputId": "59b3c44d-54bb-42b5-cc7c-8b8daf7063de"
      },
      "source": [
        "clf = svm.SVC(kernel='sigmoid', decision_function_shape='ovr')# clf.kernel\n",
        "scores = cross_val_score(clf, X, y, cv=10)\n",
        "scores.mean()"
      ],
      "execution_count": null,
      "outputs": [
        {
          "output_type": "execute_result",
          "data": {
            "text/plain": [
              "0.14781709493724676"
            ]
          },
          "metadata": {},
          "execution_count": 62
        }
      ]
    },
    {
      "cell_type": "markdown",
      "metadata": {
        "id": "meJ2peGBYxm9"
      },
      "source": [
        "conf matrix cara 1"
      ]
    },
    {
      "cell_type": "code",
      "metadata": {
        "id": "0WaiSp_nU9NK"
      },
      "source": [
        "from sklearn.metrics import confusion_matrix\n",
        "from sklearn.metrics import accuracy_score"
      ],
      "execution_count": 38,
      "outputs": []
    },
    {
      "cell_type": "code",
      "metadata": {
        "id": "LOjQKUJaVCoz"
      },
      "source": [
        "clf = svm.SVC(kernel='poly', decision_function_shape='ovr')"
      ],
      "execution_count": 39,
      "outputs": []
    },
    {
      "cell_type": "code",
      "metadata": {
        "id": "dS8s-Zz7YvPt"
      },
      "source": [
        "y_pred = cross_val_predict(clf, X, y, cv=10)"
      ],
      "execution_count": 40,
      "outputs": []
    },
    {
      "cell_type": "code",
      "metadata": {
        "id": "n34dWxymY1Sr",
        "outputId": "35fa85ad-0716-4a27-9dd1-c1f93ad15392",
        "colab": {
          "base_uri": "https://localhost:8080/"
        }
      },
      "source": [
        "conf_mat = confusion_matrix(y, y_pred,labels=[\"anger\",\"disgust\",\"fear\",\"guilt\",\"joy\",\"sadness\",\"shame\"])\n",
        "conf_mat"
      ],
      "execution_count": 45,
      "outputs": [
        {
          "output_type": "execute_result",
          "data": {
            "text/plain": [
              "array([[231, 708,  50,  22,  27,  18,  23],\n",
              "       [ 73, 892,  32,   8,  18,  29,  14],\n",
              "       [ 92, 701, 209,  16,  36,  13,   9],\n",
              "       [188, 608,  49, 112,  31,  27,  35],\n",
              "       [112, 674,  59,  18, 183,  18,  28],\n",
              "       [119, 589,  66,  23,  45, 224,  16],\n",
              "       [127, 704,  37,  23,  37,  15, 128]])"
            ]
          },
          "metadata": {},
          "execution_count": 45
        }
      ]
    },
    {
      "cell_type": "code",
      "metadata": {
        "id": "ZMtSjPTFY1MU",
        "outputId": "f265b1af-bdc5-49d2-ae17-9dc9a617916b",
        "colab": {
          "base_uri": "https://localhost:8080/"
        }
      },
      "source": [
        "accuracy_score(y, y_pred)"
      ],
      "execution_count": 42,
      "outputs": [
        {
          "output_type": "execute_result",
          "data": {
            "text/plain": [
              "0.26330494944119215"
            ]
          },
          "metadata": {},
          "execution_count": 42
        }
      ]
    },
    {
      "cell_type": "markdown",
      "metadata": {
        "id": "ktSNp--AY7OU"
      },
      "source": [
        "conf matrix cara 2"
      ]
    },
    {
      "cell_type": "code",
      "metadata": {
        "id": "X33HvqdrY1JN"
      },
      "source": [
        "import matplotlib.pyplot as plt\n",
        "from sklearn.metrics import ConfusionMatrixDisplay"
      ],
      "execution_count": 43,
      "outputs": []
    },
    {
      "cell_type": "code",
      "metadata": {
        "id": "k6ZhyusnY1Fl",
        "outputId": "c6768157-5732-4389-dd0f-439fd9ce6231",
        "colab": {
          "base_uri": "https://localhost:8080/",
          "height": 279
        }
      },
      "source": [
        "ConfusionMatrixDisplay.from_predictions(y, y_pred)\n",
        "# ConfusionMatrixDisplay(conf_mat,display_labels=[\"joy\",\"sadness\",\"anger\",\"fear\",\"disgust\",\"shame\",\"guilt\"])\n",
        "plt.show()"
      ],
      "execution_count": 44,
      "outputs": [
        {
          "output_type": "display_data",
          "data": {
            "image/png": "[encoded data removed]",
            "text/plain": [
              "<Figure size 432x288 with 2 Axes>"
            ]
          },
          "metadata": {
            "needs_background": "light"
          }
        }
      ]
    }
  ]
}