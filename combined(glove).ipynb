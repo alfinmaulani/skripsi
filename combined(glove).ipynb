{
  "nbformat": 4,
  "nbformat_minor": 0,
  "metadata": {
    "colab": {
      "name": "glove.ipynb",
      "provenance": [],
      "authorship_tag": "ABX9TyMsg0fxhzkdyFUbdsw+PtK3",
      "include_colab_link": true
    },
    "kernelspec": {
      "name": "python3",
      "display_name": "Python 3"
    },
    "language_info": {
      "name": "python"
    }
  },
  "cells": [
    {
      "cell_type": "markdown",
      "metadata": {
        "id": "view-in-github",
        "colab_type": "text"
      },
      "source": [
        "<a href=\"https://colab.research.google.com/github/alfinmaulani/skripsi/blob/master/combined(glove).ipynb\" target=\"_parent\"><img src=\"https://colab.research.google.com/assets/colab-badge.svg\" alt=\"Open In Colab\"/></a>"
      ]
    },
    {
      "cell_type": "code",
      "metadata": {
        "colab": {
          "base_uri": "https://localhost:8080/"
        },
        "id": "ci3dfx-9C_ji",
        "outputId": "c56b63d0-6a21-4969-f39f-eca04bb8dac2"
      },
      "source": [
        "!pip install --upgrade scikit-learn\n",
        "import numpy as np\n",
        "import pandas as pd\n",
        "import io\n",
        "import os\n",
        "import matplotlib.pyplot as plt\n",
        "from nltk.tokenize import word_tokenize\n",
        "import nltk\n",
        "nltk.download('punkt')\n",
        "import gensim"
      ],
      "execution_count": 1,
      "outputs": [
        {
          "output_type": "stream",
          "name": "stdout",
          "text": [
            "Requirement already satisfied: scikit-learn in /usr/local/lib/python3.7/dist-packages (0.22.2.post1)\n",
            "Collecting scikit-learn\n",
            "  Downloading scikit_learn-1.0.1-cp37-cp37m-manylinux_2_12_x86_64.manylinux2010_x86_64.whl (23.2 MB)\n",
            "\u001b[K     |████████████████████████████████| 23.2 MB 134 kB/s \n",
            "\u001b[?25hCollecting threadpoolctl>=2.0.0\n",
            "  Downloading threadpoolctl-3.0.0-py3-none-any.whl (14 kB)\n",
            "Requirement already satisfied: numpy>=1.14.6 in /usr/local/lib/python3.7/dist-packages (from scikit-learn) (1.19.5)\n",
            "Requirement already satisfied: scipy>=1.1.0 in /usr/local/lib/python3.7/dist-packages (from scikit-learn) (1.4.1)\n",
            "Requirement already satisfied: joblib>=0.11 in /usr/local/lib/python3.7/dist-packages (from scikit-learn) (1.1.0)\n",
            "Installing collected packages: threadpoolctl, scikit-learn\n",
            "  Attempting uninstall: scikit-learn\n",
            "    Found existing installation: scikit-learn 0.22.2.post1\n",
            "    Uninstalling scikit-learn-0.22.2.post1:\n",
            "      Successfully uninstalled scikit-learn-0.22.2.post1\n",
            "Successfully installed scikit-learn-1.0.1 threadpoolctl-3.0.0\n",
            "[nltk_data] Downloading package punkt to /root/nltk_data...\n",
            "[nltk_data]   Unzipping tokenizers/punkt.zip.\n"
          ]
        }
      ]
    },
    {
      "cell_type": "code",
      "metadata": {
        "id": "-2hacXvT3mX8"
      },
      "source": [
        "url0='https://raw.githubusercontent.com/alfinmaulani/skripsi/master/dataISEAR.csv'\n",
        "# url1 = 'https://raw.githubusercontent.com/alfinmaulani/skripsi/master/dataisear(preputama).csv'\n",
        "# url2 = 'tba'\n",
        "df = pd.read_csv(url0)\n",
        "# df.iloc[:,1]"
      ],
      "execution_count": 2,
      "outputs": []
    },
    {
      "cell_type": "code",
      "metadata": {
        "colab": {
          "base_uri": "https://localhost:8080/"
        },
        "id": "ecmoGKcODIAZ",
        "outputId": "9fd8255b-0e19-4366-c85e-2636e803eaa8"
      },
      "source": [
        "df.emosi.value_counts()"
      ],
      "execution_count": 3,
      "outputs": [
        {
          "output_type": "execute_result",
          "data": {
            "text/plain": [
              "joy        1092\n",
              "sadness    1082\n",
              "anger      1079\n",
              "fear       1076\n",
              "shame      1071\n",
              "disgust    1066\n",
              "guilt      1050\n",
              "Name: emosi, dtype: int64"
            ]
          },
          "metadata": {},
          "execution_count": 3
        }
      ]
    },
    {
      "cell_type": "code",
      "metadata": {
        "id": "bMTf--q3GaUB",
        "colab": {
          "base_uri": "https://localhost:8080/",
          "height": 206
        },
        "outputId": "effd1812-781f-4051-cde8-0e1e2cd46dbe"
      },
      "source": [
        "df.head()"
      ],
      "execution_count": 4,
      "outputs": [
        {
          "output_type": "execute_result",
          "data": {
            "text/html": [
              "<div>\n",
              "<style scoped>\n",
              "    .dataframe tbody tr th:only-of-type {\n",
              "        vertical-align: middle;\n",
              "    }\n",
              "\n",
              "    .dataframe tbody tr th {\n",
              "        vertical-align: top;\n",
              "    }\n",
              "\n",
              "    .dataframe thead th {\n",
              "        text-align: right;\n",
              "    }\n",
              "</style>\n",
              "<table border=\"1\" class=\"dataframe\">\n",
              "  <thead>\n",
              "    <tr style=\"text-align: right;\">\n",
              "      <th></th>\n",
              "      <th>emosi</th>\n",
              "      <th>dokumen</th>\n",
              "    </tr>\n",
              "  </thead>\n",
              "  <tbody>\n",
              "    <tr>\n",
              "      <th>0</th>\n",
              "      <td>joy</td>\n",
              "      <td>On days when I feel close to my partner and ot...</td>\n",
              "    </tr>\n",
              "    <tr>\n",
              "      <th>1</th>\n",
              "      <td>fear</td>\n",
              "      <td>Every time I imagine that someone I love or I ...</td>\n",
              "    </tr>\n",
              "    <tr>\n",
              "      <th>2</th>\n",
              "      <td>anger</td>\n",
              "      <td>When I had been obviously unjustly treated and...</td>\n",
              "    </tr>\n",
              "    <tr>\n",
              "      <th>3</th>\n",
              "      <td>sadness</td>\n",
              "      <td>When I think about the short time that we live...</td>\n",
              "    </tr>\n",
              "    <tr>\n",
              "      <th>4</th>\n",
              "      <td>disgust</td>\n",
              "      <td>At a gathering I found myself involuntarily si...</td>\n",
              "    </tr>\n",
              "  </tbody>\n",
              "</table>\n",
              "</div>"
            ],
            "text/plain": [
              "     emosi                                            dokumen\n",
              "0      joy  On days when I feel close to my partner and ot...\n",
              "1     fear  Every time I imagine that someone I love or I ...\n",
              "2    anger  When I had been obviously unjustly treated and...\n",
              "3  sadness  When I think about the short time that we live...\n",
              "4  disgust  At a gathering I found myself involuntarily si..."
            ]
          },
          "metadata": {},
          "execution_count": 4
        }
      ]
    },
    {
      "cell_type": "markdown",
      "metadata": {
        "id": "9_Vnr7idZXyY"
      },
      "source": [
        "preputama : lower case"
      ]
    },
    {
      "cell_type": "code",
      "metadata": {
        "id": "WhpBZ6kQ9Wb5"
      },
      "source": [
        "df['dokumen']=df['dokumen'].str.lower()\n",
        "# print(df.iloc[4,1])"
      ],
      "execution_count": 5,
      "outputs": []
    },
    {
      "cell_type": "markdown",
      "metadata": {
        "id": "b82j_2JPZaQ8"
      },
      "source": [
        "preputama : Pembersihan noise (over enter and space)"
      ]
    },
    {
      "cell_type": "code",
      "metadata": {
        "id": "Pe0GqxmE9WP2"
      },
      "source": [
        "df=df.replace(' \\n', ' ', regex=True)\n",
        "df=df.replace('   ', ' ', regex=True)\n",
        "df=df.replace('  ', ' ', regex=True)"
      ],
      "execution_count": 6,
      "outputs": []
    },
    {
      "cell_type": "markdown",
      "metadata": {
        "id": "1KUKEZPEZdku"
      },
      "source": [
        "preptambah : expand contractions"
      ]
    },
    {
      "cell_type": "code",
      "metadata": {
        "id": "DvUkcyckt3jt",
        "colab": {
          "base_uri": "https://localhost:8080/"
        },
        "outputId": "91b91436-fae4-4002-f6b1-d769023f9480"
      },
      "source": [
        "!pip install contractions\n",
        "import contractions"
      ],
      "execution_count": 7,
      "outputs": [
        {
          "output_type": "stream",
          "name": "stdout",
          "text": [
            "Collecting contractions\n",
            "  Downloading contractions-0.0.55-py2.py3-none-any.whl (7.9 kB)\n",
            "Collecting textsearch>=0.0.21\n",
            "  Downloading textsearch-0.0.21-py2.py3-none-any.whl (7.5 kB)\n",
            "Collecting anyascii\n",
            "  Downloading anyascii-0.3.0-py3-none-any.whl (284 kB)\n",
            "\u001b[K     |████████████████████████████████| 284 kB 4.3 MB/s \n",
            "\u001b[?25hCollecting pyahocorasick\n",
            "  Downloading pyahocorasick-1.4.2.tar.gz (321 kB)\n",
            "\u001b[K     |████████████████████████████████| 321 kB 50.0 MB/s \n",
            "\u001b[?25hBuilding wheels for collected packages: pyahocorasick\n",
            "  Building wheel for pyahocorasick (setup.py) ... \u001b[?25l\u001b[?25hdone\n",
            "  Created wheel for pyahocorasick: filename=pyahocorasick-1.4.2-cp37-cp37m-linux_x86_64.whl size=85450 sha256=5233475b23e9c6c71fdf40a5e70e761f6a3ebcfc4bba7d360f4956408c8a6877\n",
            "  Stored in directory: /root/.cache/pip/wheels/25/19/a6/8f363d9939162782bb8439d886469756271abc01f76fbd790f\n",
            "Successfully built pyahocorasick\n",
            "Installing collected packages: pyahocorasick, anyascii, textsearch, contractions\n",
            "Successfully installed anyascii-0.3.0 contractions-0.0.55 pyahocorasick-1.4.2 textsearch-0.0.21\n"
          ]
        }
      ]
    },
    {
      "cell_type": "code",
      "metadata": {
        "id": "zlzIsqZA--mh",
        "colab": {
          "base_uri": "https://localhost:8080/",
          "height": 424
        },
        "outputId": "6afbbb9a-6a97-4dd7-c17b-89f3e0f78ca8"
      },
      "source": [
        "df[df['dokumen'].str.contains(\"couldn't\")]"
      ],
      "execution_count": 8,
      "outputs": [
        {
          "output_type": "execute_result",
          "data": {
            "text/html": [
              "<div>\n",
              "<style scoped>\n",
              "    .dataframe tbody tr th:only-of-type {\n",
              "        vertical-align: middle;\n",
              "    }\n",
              "\n",
              "    .dataframe tbody tr th {\n",
              "        vertical-align: top;\n",
              "    }\n",
              "\n",
              "    .dataframe thead th {\n",
              "        text-align: right;\n",
              "    }\n",
              "</style>\n",
              "<table border=\"1\" class=\"dataframe\">\n",
              "  <thead>\n",
              "    <tr style=\"text-align: right;\">\n",
              "      <th></th>\n",
              "      <th>emosi</th>\n",
              "      <th>dokumen</th>\n",
              "    </tr>\n",
              "  </thead>\n",
              "  <tbody>\n",
              "    <tr>\n",
              "      <th>124</th>\n",
              "      <td>disgust</td>\n",
              "      <td>when i saw a picture, in the gothenburg post, ...</td>\n",
              "    </tr>\n",
              "    <tr>\n",
              "      <th>526</th>\n",
              "      <td>anger</td>\n",
              "      <td>a friend suggested in a round-about way that t...</td>\n",
              "    </tr>\n",
              "    <tr>\n",
              "      <th>545</th>\n",
              "      <td>fear</td>\n",
              "      <td>i was rock-climbing and absailing &amp; felt ok, b...</td>\n",
              "    </tr>\n",
              "    <tr>\n",
              "      <th>553</th>\n",
              "      <td>anger</td>\n",
              "      <td>getting a terrible exam mark, which i couldn't...</td>\n",
              "    </tr>\n",
              "    <tr>\n",
              "      <th>673</th>\n",
              "      <td>fear</td>\n",
              "      <td>after seeing a terror movie at the cinema, i w...</td>\n",
              "    </tr>\n",
              "    <tr>\n",
              "      <th>...</th>\n",
              "      <td>...</td>\n",
              "      <td>...</td>\n",
              "    </tr>\n",
              "    <tr>\n",
              "      <th>6589</th>\n",
              "      <td>joy</td>\n",
              "      <td>when my boyfriend came form rumphi to lilongwe...</td>\n",
              "    </tr>\n",
              "    <tr>\n",
              "      <th>6592</th>\n",
              "      <td>sadness</td>\n",
              "      <td>i wrote a letter to my boyfriend but he couldn...</td>\n",
              "    </tr>\n",
              "    <tr>\n",
              "      <th>6595</th>\n",
              "      <td>guilt</td>\n",
              "      <td>one day i found an incontinent man in the ward...</td>\n",
              "    </tr>\n",
              "    <tr>\n",
              "      <th>6624</th>\n",
              "      <td>joy</td>\n",
              "      <td>it was in 1983 september when mce results were...</td>\n",
              "    </tr>\n",
              "    <tr>\n",
              "      <th>6647</th>\n",
              "      <td>anger</td>\n",
              "      <td>somebody took my wristwatch and promised to ha...</td>\n",
              "    </tr>\n",
              "  </tbody>\n",
              "</table>\n",
              "<p>61 rows × 2 columns</p>\n",
              "</div>"
            ],
            "text/plain": [
              "        emosi                                            dokumen\n",
              "124   disgust  when i saw a picture, in the gothenburg post, ...\n",
              "526     anger  a friend suggested in a round-about way that t...\n",
              "545      fear  i was rock-climbing and absailing & felt ok, b...\n",
              "553     anger  getting a terrible exam mark, which i couldn't...\n",
              "673      fear  after seeing a terror movie at the cinema, i w...\n",
              "...       ...                                                ...\n",
              "6589      joy  when my boyfriend came form rumphi to lilongwe...\n",
              "6592  sadness  i wrote a letter to my boyfriend but he couldn...\n",
              "6595    guilt  one day i found an incontinent man in the ward...\n",
              "6624      joy  it was in 1983 september when mce results were...\n",
              "6647    anger  somebody took my wristwatch and promised to ha...\n",
              "\n",
              "[61 rows x 2 columns]"
            ]
          },
          "metadata": {},
          "execution_count": 8
        }
      ]
    },
    {
      "cell_type": "code",
      "metadata": {
        "id": "62ZF5gRet3gf"
      },
      "source": [
        "expanded_words = []    "
      ],
      "execution_count": 9,
      "outputs": []
    },
    {
      "cell_type": "code",
      "metadata": {
        "id": "5glvogu8t3dl"
      },
      "source": [
        "for word in df.dokumen:\n",
        "  expanded_words.append(contractions.fix(word))"
      ],
      "execution_count": 10,
      "outputs": []
    },
    {
      "cell_type": "code",
      "metadata": {
        "id": "jrSbyPtxt3WL",
        "colab": {
          "base_uri": "https://localhost:8080/"
        },
        "outputId": "24e787e6-e692-4743-8c60-761da6ebe09f"
      },
      "source": [
        "np.shape(expanded_words)"
      ],
      "execution_count": 11,
      "outputs": [
        {
          "output_type": "execute_result",
          "data": {
            "text/plain": [
              "(7516,)"
            ]
          },
          "metadata": {},
          "execution_count": 11
        }
      ]
    },
    {
      "cell_type": "code",
      "metadata": {
        "id": "Ftx4dckWY5MQ"
      },
      "source": [
        "df.dokumen=expanded_words"
      ],
      "execution_count": 12,
      "outputs": []
    },
    {
      "cell_type": "code",
      "metadata": {
        "colab": {
          "base_uri": "https://localhost:8080/",
          "height": 49
        },
        "id": "iVmrpIOBZAdZ",
        "outputId": "d4db705e-2c60-416b-cf17-530686bf260b"
      },
      "source": [
        "df[df['dokumen'].str.contains(\"couldn't\")]"
      ],
      "execution_count": 13,
      "outputs": [
        {
          "output_type": "execute_result",
          "data": {
            "text/html": [
              "<div>\n",
              "<style scoped>\n",
              "    .dataframe tbody tr th:only-of-type {\n",
              "        vertical-align: middle;\n",
              "    }\n",
              "\n",
              "    .dataframe tbody tr th {\n",
              "        vertical-align: top;\n",
              "    }\n",
              "\n",
              "    .dataframe thead th {\n",
              "        text-align: right;\n",
              "    }\n",
              "</style>\n",
              "<table border=\"1\" class=\"dataframe\">\n",
              "  <thead>\n",
              "    <tr style=\"text-align: right;\">\n",
              "      <th></th>\n",
              "      <th>emosi</th>\n",
              "      <th>dokumen</th>\n",
              "    </tr>\n",
              "  </thead>\n",
              "  <tbody>\n",
              "  </tbody>\n",
              "</table>\n",
              "</div>"
            ],
            "text/plain": [
              "Empty DataFrame\n",
              "Columns: [emosi, dokumen]\n",
              "Index: []"
            ]
          },
          "metadata": {},
          "execution_count": 13
        }
      ]
    },
    {
      "cell_type": "code",
      "metadata": {
        "colab": {
          "base_uri": "https://localhost:8080/",
          "height": 54
        },
        "id": "4x5xoGarZw3c",
        "outputId": "66f00d0a-a2e0-4517-910f-3e28e4e35cfb"
      },
      "source": [
        "df.dokumen[124]"
      ],
      "execution_count": 14,
      "outputs": [
        {
          "output_type": "execute_result",
          "data": {
            "application/vnd.google.colaboratory.intrinsic+json": {
              "type": "string"
            },
            "text/plain": [
              "'when i saw a picture, in the gothenburg post, of a totally demolished car with two fatally injured passengers. the car was so badly damaged that they could not get the bodies out at the scene of the accident.'"
            ]
          },
          "metadata": {},
          "execution_count": 14
        }
      ]
    },
    {
      "cell_type": "markdown",
      "metadata": {
        "id": "rS8J8JjJamsx"
      },
      "source": [
        "preputama : cleansing"
      ]
    },
    {
      "cell_type": "code",
      "metadata": {
        "id": "2z_rN6_Famg-"
      },
      "source": [
        "df['dokumen'] = df['dokumen'].str.replace(r'[^\\w\\s]+', '')"
      ],
      "execution_count": 15,
      "outputs": []
    },
    {
      "cell_type": "code",
      "metadata": {
        "id": "FugbI_iu052g",
        "colab": {
          "base_uri": "https://localhost:8080/"
        },
        "outputId": "5fc182c0-4159-4f42-c2e4-21dbd2c3504c"
      },
      "source": [
        "df.shape"
      ],
      "execution_count": 16,
      "outputs": [
        {
          "output_type": "execute_result",
          "data": {
            "text/plain": [
              "(7516, 2)"
            ]
          },
          "metadata": {},
          "execution_count": 16
        }
      ]
    },
    {
      "cell_type": "markdown",
      "metadata": {
        "id": "Hrfg5PlYaK_o"
      },
      "source": [
        "preptambah : remove stopword"
      ]
    },
    {
      "cell_type": "code",
      "metadata": {
        "colab": {
          "base_uri": "https://localhost:8080/"
        },
        "id": "Ol3lV82FbtgA",
        "outputId": "6062bf94-e991-4f46-9b23-7608111b78ef"
      },
      "source": [
        "from nltk.corpus import stopwords\n",
        "nltk.download('stopwords')\n",
        "stop = stopwords.words('english')"
      ],
      "execution_count": 17,
      "outputs": [
        {
          "output_type": "stream",
          "name": "stdout",
          "text": [
            "[nltk_data] Downloading package stopwords to /root/nltk_data...\n",
            "[nltk_data]   Unzipping corpora/stopwords.zip.\n"
          ]
        }
      ]
    },
    {
      "cell_type": "code",
      "metadata": {
        "id": "RKuF-6uCZ9Y1"
      },
      "source": [
        "pat = r'\\b(?:{})\\b'.format('|'.join(stop))\n",
        "df['dokumen'] = df['dokumen'].str.replace(pat, '')\n",
        "df['dokumen'] = df['dokumen'].str.replace(r'\\s+', ' ')"
      ],
      "execution_count": 18,
      "outputs": []
    },
    {
      "cell_type": "code",
      "metadata": {
        "colab": {
          "base_uri": "https://localhost:8080/",
          "height": 206
        },
        "id": "dve1Ha9fZ9WR",
        "outputId": "e94eea0e-dece-48f8-aa84-5f7746f750f3"
      },
      "source": [
        "df.head()"
      ],
      "execution_count": 19,
      "outputs": [
        {
          "output_type": "execute_result",
          "data": {
            "text/html": [
              "<div>\n",
              "<style scoped>\n",
              "    .dataframe tbody tr th:only-of-type {\n",
              "        vertical-align: middle;\n",
              "    }\n",
              "\n",
              "    .dataframe tbody tr th {\n",
              "        vertical-align: top;\n",
              "    }\n",
              "\n",
              "    .dataframe thead th {\n",
              "        text-align: right;\n",
              "    }\n",
              "</style>\n",
              "<table border=\"1\" class=\"dataframe\">\n",
              "  <thead>\n",
              "    <tr style=\"text-align: right;\">\n",
              "      <th></th>\n",
              "      <th>emosi</th>\n",
              "      <th>dokumen</th>\n",
              "    </tr>\n",
              "  </thead>\n",
              "  <tbody>\n",
              "    <tr>\n",
              "      <th>0</th>\n",
              "      <td>joy</td>\n",
              "      <td>days feel close partner friends feel peace al...</td>\n",
              "    </tr>\n",
              "    <tr>\n",
              "      <th>1</th>\n",
              "      <td>fear</td>\n",
              "      <td>every time imagine someone love could contact ...</td>\n",
              "    </tr>\n",
              "    <tr>\n",
              "      <th>2</th>\n",
              "      <td>anger</td>\n",
              "      <td>obviously unjustly treated possibility elucid...</td>\n",
              "    </tr>\n",
              "    <tr>\n",
              "      <th>3</th>\n",
              "      <td>sadness</td>\n",
              "      <td>think short time live relate periods life thi...</td>\n",
              "    </tr>\n",
              "    <tr>\n",
              "      <th>4</th>\n",
              "      <td>disgust</td>\n",
              "      <td>gathering found involuntarily sitting next tw...</td>\n",
              "    </tr>\n",
              "  </tbody>\n",
              "</table>\n",
              "</div>"
            ],
            "text/plain": [
              "     emosi                                            dokumen\n",
              "0      joy   days feel close partner friends feel peace al...\n",
              "1     fear  every time imagine someone love could contact ...\n",
              "2    anger   obviously unjustly treated possibility elucid...\n",
              "3  sadness   think short time live relate periods life thi...\n",
              "4  disgust   gathering found involuntarily sitting next tw..."
            ]
          },
          "metadata": {},
          "execution_count": 19
        }
      ]
    },
    {
      "cell_type": "code",
      "metadata": {
        "colab": {
          "base_uri": "https://localhost:8080/"
        },
        "id": "Exm_2VZSZ9To",
        "outputId": "2be0a873-7dfd-42cd-8073-3b74147d6922"
      },
      "source": [
        "df.dokumen"
      ],
      "execution_count": 20,
      "outputs": [
        {
          "output_type": "execute_result",
          "data": {
            "text/plain": [
              "0        days feel close partner friends feel peace al...\n",
              "1       every time imagine someone love could contact ...\n",
              "2        obviously unjustly treated possibility elucid...\n",
              "3        think short time live relate periods life thi...\n",
              "4        gathering found involuntarily sitting next tw...\n",
              "                              ...                        \n",
              "7511    two years back someone invited tutor granddaug...\n",
              "7512     taken responsibility something prepared howev...\n",
              "7513     home heard loud sound spitting outside door t...\n",
              "7514        homework teacher asked us scolded immediately\n",
              "7515     shouted younger brother always afraid called ...\n",
              "Name: dokumen, Length: 7516, dtype: object"
            ]
          },
          "metadata": {},
          "execution_count": 20
        }
      ]
    },
    {
      "cell_type": "code",
      "metadata": {
        "id": "sOhcWRl94ygC",
        "colab": {
          "base_uri": "https://localhost:8080/"
        },
        "outputId": "646fce6d-457a-4846-c229-1797d8f89ccb"
      },
      "source": [
        "df.shape"
      ],
      "execution_count": 21,
      "outputs": [
        {
          "output_type": "execute_result",
          "data": {
            "text/plain": [
              "(7516, 2)"
            ]
          },
          "metadata": {},
          "execution_count": 21
        }
      ]
    },
    {
      "cell_type": "markdown",
      "metadata": {
        "id": "DnbrT-4daeEK"
      },
      "source": [
        "preputama : Lemmatization(d laporan salah tkoniize word)"
      ]
    },
    {
      "cell_type": "code",
      "metadata": {
        "id": "XpqeTa21Z9OS"
      },
      "source": [
        "sentences = [word_tokenize(x) for x in df.dokumen] \n",
        "# df = pd.DataFrame(df.apply(list,axis=1), columns=['dokumen'])"
      ],
      "execution_count": 22,
      "outputs": []
    },
    {
      "cell_type": "code",
      "metadata": {
        "id": "lSYO9qJUCeta"
      },
      "source": [
        "df.dokumen=sentences"
      ],
      "execution_count": 23,
      "outputs": []
    },
    {
      "cell_type": "markdown",
      "metadata": {
        "id": "qrBmBYUFV5BP"
      },
      "source": [
        "preptambah : steming (di laporan lematization salah karna lematization = tokenize)"
      ]
    },
    {
      "cell_type": "code",
      "metadata": {
        "id": "K1ywmZGYZ9RJ"
      },
      "source": [
        "from nltk.stem.snowball import SnowballStemmer\n",
        "\n",
        "# Use English stemmer.\n",
        "stemmer = SnowballStemmer(\"english\")"
      ],
      "execution_count": 24,
      "outputs": []
    },
    {
      "cell_type": "code",
      "metadata": {
        "id": "vonaeiobZ9Lh",
        "colab": {
          "base_uri": "https://localhost:8080/"
        },
        "outputId": "55fe5f2a-a956-499c-c58a-681990b7ecb8"
      },
      "source": [
        "# temp = df.dokumen.apply(lambda x: [stemmer.stem(y) for y in x])\n",
        "df['dokumen'].apply(lambda x: [stemmer.stem(y) for y in x])"
      ],
      "execution_count": 25,
      "outputs": [
        {
          "output_type": "execute_result",
          "data": {
            "text/plain": [
              "0       [day, feel, close, partner, friend, feel, peac...\n",
              "1       [everi, time, imagin, someon, love, could, con...\n",
              "2               [obvious, unjust, treat, possibl, elucid]\n",
              "3       [think, short, time, live, relat, period, life...\n",
              "4       [gather, found, involuntarili, sit, next, two,...\n",
              "                              ...                        \n",
              "7511    [two, year, back, someon, invit, tutor, grandd...\n",
              "7512    [taken, respons, someth, prepar, howev, fail, ...\n",
              "7513    [home, heard, loud, sound, spit, outsid, door,...\n",
              "7514          [homework, teacher, ask, us, scold, immedi]\n",
              "7515    [shout, younger, brother, alway, afraid, call,...\n",
              "Name: dokumen, Length: 7516, dtype: object"
            ]
          },
          "metadata": {},
          "execution_count": 25
        }
      ]
    },
    {
      "cell_type": "code",
      "metadata": {
        "id": "Lf2yV0_wdOEF",
        "colab": {
          "base_uri": "https://localhost:8080/",
          "height": 206
        },
        "outputId": "c79b6618-eec5-4b52-cc77-d42346de5a95"
      },
      "source": [
        "df.head()"
      ],
      "execution_count": 26,
      "outputs": [
        {
          "output_type": "execute_result",
          "data": {
            "text/html": [
              "<div>\n",
              "<style scoped>\n",
              "    .dataframe tbody tr th:only-of-type {\n",
              "        vertical-align: middle;\n",
              "    }\n",
              "\n",
              "    .dataframe tbody tr th {\n",
              "        vertical-align: top;\n",
              "    }\n",
              "\n",
              "    .dataframe thead th {\n",
              "        text-align: right;\n",
              "    }\n",
              "</style>\n",
              "<table border=\"1\" class=\"dataframe\">\n",
              "  <thead>\n",
              "    <tr style=\"text-align: right;\">\n",
              "      <th></th>\n",
              "      <th>emosi</th>\n",
              "      <th>dokumen</th>\n",
              "    </tr>\n",
              "  </thead>\n",
              "  <tbody>\n",
              "    <tr>\n",
              "      <th>0</th>\n",
              "      <td>joy</td>\n",
              "      <td>[days, feel, close, partner, friends, feel, pe...</td>\n",
              "    </tr>\n",
              "    <tr>\n",
              "      <th>1</th>\n",
              "      <td>fear</td>\n",
              "      <td>[every, time, imagine, someone, love, could, c...</td>\n",
              "    </tr>\n",
              "    <tr>\n",
              "      <th>2</th>\n",
              "      <td>anger</td>\n",
              "      <td>[obviously, unjustly, treated, possibility, el...</td>\n",
              "    </tr>\n",
              "    <tr>\n",
              "      <th>3</th>\n",
              "      <td>sadness</td>\n",
              "      <td>[think, short, time, live, relate, periods, li...</td>\n",
              "    </tr>\n",
              "    <tr>\n",
              "      <th>4</th>\n",
              "      <td>disgust</td>\n",
              "      <td>[gathering, found, involuntarily, sitting, nex...</td>\n",
              "    </tr>\n",
              "  </tbody>\n",
              "</table>\n",
              "</div>"
            ],
            "text/plain": [
              "     emosi                                            dokumen\n",
              "0      joy  [days, feel, close, partner, friends, feel, pe...\n",
              "1     fear  [every, time, imagine, someone, love, could, c...\n",
              "2    anger  [obviously, unjustly, treated, possibility, el...\n",
              "3  sadness  [think, short, time, live, relate, periods, li...\n",
              "4  disgust  [gathering, found, involuntarily, sitting, nex..."
            ]
          },
          "metadata": {},
          "execution_count": 26
        }
      ]
    },
    {
      "cell_type": "markdown",
      "metadata": {
        "id": "K-NOlQnGbDUj"
      },
      "source": [
        "save df"
      ]
    },
    {
      "cell_type": "code",
      "metadata": {
        "id": "gk1V4HBPDHVw"
      },
      "source": [
        "# df.to_csv(r'dataisear(preptambah).csv', index = False)"
      ],
      "execution_count": null,
      "outputs": []
    },
    {
      "cell_type": "markdown",
      "metadata": {
        "id": "a2CO8Rbb2f54"
      },
      "source": [
        "glove"
      ]
    },
    {
      "cell_type": "code",
      "metadata": {
        "colab": {
          "base_uri": "https://localhost:8080/"
        },
        "id": "DboqVfIk2eZJ",
        "outputId": "ae26ca1d-06f8-412d-868f-2dc184a7c15e"
      },
      "source": [
        "!pip install glove-python-binary"
      ],
      "execution_count": 27,
      "outputs": [
        {
          "output_type": "stream",
          "name": "stdout",
          "text": [
            "Collecting glove-python-binary\n",
            "  Downloading glove_python_binary-0.2.0-cp37-cp37m-manylinux1_x86_64.whl (948 kB)\n",
            "\u001b[K     |████████████████████████████████| 948 kB 3.7 MB/s \n",
            "\u001b[?25hRequirement already satisfied: scipy in /usr/local/lib/python3.7/dist-packages (from glove-python-binary) (1.4.1)\n",
            "Requirement already satisfied: numpy in /usr/local/lib/python3.7/dist-packages (from glove-python-binary) (1.19.5)\n",
            "Installing collected packages: glove-python-binary\n",
            "Successfully installed glove-python-binary-0.2.0\n"
          ]
        }
      ]
    },
    {
      "cell_type": "code",
      "metadata": {
        "id": "stbOzjcca99T"
      },
      "source": [
        "from glove import Glove\n",
        "from glove import Corpus"
      ],
      "execution_count": 28,
      "outputs": []
    },
    {
      "cell_type": "code",
      "metadata": {
        "colab": {
          "base_uri": "https://localhost:8080/"
        },
        "id": "elyuEtW62W2h",
        "outputId": "57b86dcc-b815-4e02-ca7b-27e09d2ae95b"
      },
      "source": [
        "len(df)"
      ],
      "execution_count": 29,
      "outputs": [
        {
          "output_type": "execute_result",
          "data": {
            "text/plain": [
              "7516"
            ]
          },
          "metadata": {},
          "execution_count": 29
        }
      ]
    },
    {
      "cell_type": "code",
      "metadata": {
        "id": "vnJlv_Lw2_5P"
      },
      "source": [
        "korpus = Corpus()\n",
        "korpus.fit(df.dokumen, window=10, ignore_missing=False)"
      ],
      "execution_count": 30,
      "outputs": []
    },
    {
      "cell_type": "code",
      "metadata": {
        "id": "Mnagl9GqbW93"
      },
      "source": [
        "glove = Glove(no_components=100, learning_rate=0.05, alpha=0.75, max_count=100, max_loss=10.0, random_state=None)\n",
        "glove.fit(korpus.matrix)\n",
        "glove.add_dictionary(korpus.dictionary)"
      ],
      "execution_count": 31,
      "outputs": []
    },
    {
      "cell_type": "markdown",
      "metadata": {
        "id": "g7nkKPISbU-X"
      },
      "source": [
        "cek moedel"
      ]
    },
    {
      "cell_type": "code",
      "metadata": {
        "colab": {
          "base_uri": "https://localhost:8080/"
        },
        "id": "TWu2zy-n3DYa",
        "outputId": "db1b2527-62e9-4a6a-831f-2ec7427bcd55"
      },
      "source": [
        "glove.word_vectors.shape"
      ],
      "execution_count": 32,
      "outputs": [
        {
          "output_type": "execute_result",
          "data": {
            "text/plain": [
              "(9192, 100)"
            ]
          },
          "metadata": {},
          "execution_count": 32
        }
      ]
    },
    {
      "cell_type": "code",
      "metadata": {
        "colab": {
          "base_uri": "https://localhost:8080/"
        },
        "id": "R6GsJv-YWyQi",
        "outputId": "932c8443-7c67-44ef-ecf4-3980bc8f5028"
      },
      "source": [
        "glove.word_vectors[glove.dictionary['moment']]"
      ],
      "execution_count": 33,
      "outputs": [
        {
          "output_type": "execute_result",
          "data": {
            "text/plain": [
              "array([-1.10971438e-03,  5.14525590e-03,  2.45005124e-03,  1.08216089e-03,\n",
              "       -3.22425027e-03,  9.18803936e-04,  4.31330115e-03,  4.14382235e-03,\n",
              "       -2.54231683e-03,  4.77541889e-03,  2.48021186e-03,  3.43267143e-03,\n",
              "        4.91385039e-03,  2.69258277e-03, -2.87958124e-03, -9.61222870e-04,\n",
              "       -1.85139329e-03,  1.80958177e-04, -9.20688453e-04, -4.75933562e-03,\n",
              "       -2.99729197e-03,  1.58407096e-04,  1.67825673e-03, -5.20008366e-03,\n",
              "       -5.06001142e-04,  3.25704243e-03,  1.34479741e-03,  2.39827638e-03,\n",
              "       -1.02892614e-03, -2.88191580e-03,  3.78045678e-03, -3.88020930e-04,\n",
              "        3.84427462e-03,  5.66356684e-03,  1.76193446e-03, -3.86543608e-03,\n",
              "       -3.63495270e-04,  6.28596370e-04, -3.76530695e-03, -9.73751068e-04,\n",
              "       -2.29412665e-03,  3.93164318e-03,  2.12066302e-03, -3.62973613e-03,\n",
              "       -1.20828823e-03, -3.86870972e-03,  5.47193223e-04, -2.24096708e-03,\n",
              "       -6.92069349e-04,  4.84144925e-03,  1.56645812e-03,  3.09914954e-03,\n",
              "       -5.35436256e-03, -5.11010928e-03, -2.40892295e-04,  1.80120149e-03,\n",
              "       -4.10235618e-03,  3.65142369e-03,  4.30966824e-04,  2.22071988e-03,\n",
              "       -3.76405503e-04,  1.66780926e-03, -1.90286291e-03,  3.41798694e-03,\n",
              "        3.39570282e-03,  4.73014955e-03,  1.58503869e-03, -4.74159539e-03,\n",
              "       -2.07309412e-03, -7.58723537e-05, -3.73269040e-03,  2.42322147e-03,\n",
              "        2.79006813e-04, -4.92053401e-04, -3.80468313e-03,  3.83568898e-03,\n",
              "       -5.01549743e-03, -7.87274836e-04,  3.31751377e-03,  1.69947814e-03,\n",
              "        3.00187511e-03,  4.49689259e-03,  5.58620738e-04,  1.14646426e-03,\n",
              "       -4.30568535e-03,  9.71486699e-04,  2.23101851e-03, -4.14732649e-04,\n",
              "       -2.66105674e-03,  5.67990440e-03,  5.09210656e-03,  3.21158212e-03,\n",
              "        2.09090745e-03,  4.03107285e-03,  3.66588260e-04,  9.08657061e-05,\n",
              "       -1.26488838e-03, -2.31180365e-03, -4.93347992e-03,  3.39710455e-04])"
            ]
          },
          "metadata": {},
          "execution_count": 33
        }
      ]
    },
    {
      "cell_type": "markdown",
      "metadata": {
        "id": "myQsetPR3tLU"
      },
      "source": [
        "ekstraksi fitur"
      ]
    },
    {
      "cell_type": "code",
      "metadata": {
        "id": "IxR45IUU3QxR"
      },
      "source": [
        "import array\n",
        "ekstrak=[]\n",
        "temp=array.array('i',(0,)*100)\n",
        "for senten in df.dokumen:\n",
        "  for word in senten:\n",
        "    temp=np.add(temp,glove.word_vectors[glove.dictionary[word]])\n",
        "  temp=temp/len(senten)\n",
        "  ekstrak.append(temp)\n",
        "has_vec=ekstrak"
      ],
      "execution_count": 34,
      "outputs": []
    },
    {
      "cell_type": "code",
      "metadata": {
        "colab": {
          "base_uri": "https://localhost:8080/"
        },
        "id": "pRTuBH09XfkI",
        "outputId": "89195a63-a2bb-4997-c60a-bf61b2e7a971"
      },
      "source": [
        "X=has_vec\n",
        "y=df.emosi\n",
        "print(np.shape(X))\n",
        "print(np.shape(y))\n",
        "# print(X)\n",
        "# print(y)"
      ],
      "execution_count": 35,
      "outputs": [
        {
          "output_type": "stream",
          "name": "stdout",
          "text": [
            "(7516, 100)\n",
            "(7516,)\n"
          ]
        }
      ]
    },
    {
      "cell_type": "markdown",
      "metadata": {
        "id": "9REgAm12XkXE"
      },
      "source": [
        "klasifikasi svm"
      ]
    },
    {
      "cell_type": "code",
      "metadata": {
        "id": "N_7cSx4lXl7N"
      },
      "source": [
        "from sklearn import svm\n",
        "from sklearn.model_selection import cross_val_score"
      ],
      "execution_count": 37,
      "outputs": []
    },
    {
      "cell_type": "code",
      "metadata": {
        "colab": {
          "base_uri": "https://localhost:8080/"
        },
        "id": "nXGSL_-1XpMg",
        "outputId": "290ea49e-ef27-4b86-82c4-3e04334cf06e"
      },
      "source": [
        "# langsung cari score\n",
        "\n",
        "# clf = svm.SVC(kernel='poly', decision_function_shape='ovr')\n",
        "# scores = cross_val_score(clf, X, y, cv=10)\n",
        "# # scores.mean()"
      ],
      "execution_count": 38,
      "outputs": [
        {
          "output_type": "execute_result",
          "data": {
            "text/plain": [
              "0.2851325891718843"
            ]
          },
          "metadata": {},
          "execution_count": 38
        }
      ]
    },
    {
      "cell_type": "markdown",
      "metadata": {
        "id": "meJ2peGBYxm9"
      },
      "source": [
        "conf matrix dan akurasi"
      ]
    },
    {
      "cell_type": "code",
      "metadata": {
        "id": "0WaiSp_nU9NK"
      },
      "source": [
        "from sklearn.metrics import confusion_matrix\n",
        "from sklearn.metrics import accuracy_score\n",
        "from sklearn.model_selection import cross_val_predict\n",
        "import matplotlib.pyplot as plt\n",
        "from sklearn.metrics import ConfusionMatrixDisplay"
      ],
      "execution_count": 45,
      "outputs": []
    },
    {
      "cell_type": "code",
      "metadata": {
        "id": "k6ZhyusnY1Fl",
        "colab": {
          "base_uri": "https://localhost:8080/",
          "height": 297
        },
        "outputId": "45cbfacf-7c14-492a-c0bf-fe47c20113d4"
      },
      "source": [
        "clf = svm.SVC(kernel='poly', decision_function_shape='ovr')\n",
        "y_pred = cross_val_predict(clf, X, y, cv=10)\n",
        "ConfusionMatrixDisplay.from_predictions(y, y_pred)\n",
        "plt.show()\n",
        "accuracy_score(y, y_pred)"
      ],
      "execution_count": 46,
      "outputs": [
        {
          "output_type": "display_data",
          "data": {
            "image/png": "[encoded data removed]",
            "text/plain": [
              "<Figure size 432x288 with 2 Axes>"
            ]
          },
          "metadata": {
            "needs_background": "light"
          }
        },
        {
          "output_type": "execute_result",
          "data": {
            "text/plain": [
              "0.28512506652474723"
            ]
          },
          "metadata": {},
          "execution_count": 46
        }
      ]
    },
    {
      "cell_type": "code",
      "metadata": {
        "id": "f93olLSPtwje",
        "outputId": "c1ff9676-17f6-4376-fcad-1214194ad42b",
        "colab": {
          "base_uri": "https://localhost:8080/",
          "height": 297
        }
      },
      "source": [
        "clf = svm.SVC(kernel='rbf', decision_function_shape='ovr')\n",
        "y_pred = cross_val_predict(clf, X, y, cv=10)\n",
        "ConfusionMatrixDisplay.from_predictions(y, y_pred)\n",
        "plt.show()\n",
        "accuracy_score(y, y_pred)"
      ],
      "execution_count": 47,
      "outputs": [
        {
          "output_type": "display_data",
          "data": {
            "image/png": "[encoded data removed]",
            "text/plain": [
              "<Figure size 432x288 with 2 Axes>"
            ]
          },
          "metadata": {
            "needs_background": "light"
          }
        },
        {
          "output_type": "execute_result",
          "data": {
            "text/plain": [
              "0.3384779137839276"
            ]
          },
          "metadata": {},
          "execution_count": 47
        }
      ]
    },
    {
      "cell_type": "code",
      "metadata": {
        "id": "9W1NtMG2tx1k",
        "outputId": "69ac844c-2ab5-4155-d4d7-340de0004e34",
        "colab": {
          "base_uri": "https://localhost:8080/",
          "height": 297
        }
      },
      "source": [
        "clf = svm.SVC(kernel='linear', decision_function_shape='ovr')\n",
        "y_pred = cross_val_predict(clf, X, y, cv=10)\n",
        "ConfusionMatrixDisplay.from_predictions(y, y_pred)\n",
        "plt.show()\n",
        "accuracy_score(y, y_pred)"
      ],
      "execution_count": 48,
      "outputs": [
        {
          "output_type": "display_data",
          "data": {
            "image/png": "[encoded data removed]",
            "text/plain": [
              "<Figure size 432x288 with 2 Axes>"
            ]
          },
          "metadata": {
            "needs_background": "light"
          }
        },
        {
          "output_type": "execute_result",
          "data": {
            "text/plain": [
              "0.1466205428419372"
            ]
          },
          "metadata": {},
          "execution_count": 48
        }
      ]
    },
    {
      "cell_type": "code",
      "metadata": {
        "id": "g0OBvz3St0jt",
        "outputId": "e8d8352f-8761-48ce-bf20-6fbba135c685",
        "colab": {
          "base_uri": "https://localhost:8080/",
          "height": 297
        }
      },
      "source": [
        "clf = svm.SVC(kernel='sigmoid', decision_function_shape='ovr')\n",
        "y_pred = cross_val_predict(clf, X, y, cv=10)\n",
        "ConfusionMatrixDisplay.from_predictions(y, y_pred)\n",
        "plt.show()\n",
        "accuracy_score(y, y_pred)"
      ],
      "execution_count": 49,
      "outputs": [
        {
          "output_type": "display_data",
          "data": {
            "image/png": "[encoded data removed]",
            "text/plain": [
              "<Figure size 432x288 with 2 Axes>"
            ]
          },
          "metadata": {
            "needs_background": "light"
          }
        },
        {
          "output_type": "execute_result",
          "data": {
            "text/plain": [
              "0.14941458222458753"
            ]
          },
          "metadata": {},
          "execution_count": 49
        }
      ]
    }
  ]
}