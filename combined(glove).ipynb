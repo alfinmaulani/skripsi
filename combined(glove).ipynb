{
  "nbformat": 4,
  "nbformat_minor": 0,
  "metadata": {
    "colab": {
      "name": "glove.ipynb",
      "provenance": [],
      "authorship_tag": "ABX9TyM4IxicqsEO590q0zEIRf+Z",
      "include_colab_link": true
    },
    "kernelspec": {
      "name": "python3",
      "display_name": "Python 3"
    },
    "language_info": {
      "name": "python"
    }
  },
  "cells": [
    {
      "cell_type": "markdown",
      "metadata": {
        "id": "view-in-github",
        "colab_type": "text"
      },
      "source": [
        "<a href=\"https://colab.research.google.com/github/alfinmaulani/skripsi/blob/master/combined(glove).ipynb\" target=\"_parent\"><img src=\"https://colab.research.google.com/assets/colab-badge.svg\" alt=\"Open In Colab\"/></a>"
      ]
    },
    {
      "cell_type": "code",
      "metadata": {
        "colab": {
          "base_uri": "https://localhost:8080/"
        },
        "id": "ci3dfx-9C_ji",
        "outputId": "ef4a965c-2e8c-4346-fbd1-cf05b3840132"
      },
      "source": [
        "!pip install --upgrade scikit-learn\n",
        "import numpy as np\n",
        "import pandas as pd\n",
        "import io\n",
        "import os\n",
        "import matplotlib.pyplot as plt\n",
        "from nltk.tokenize import word_tokenize\n",
        "import nltk\n",
        "nltk.download('punkt')\n",
        "import gensim"
      ],
      "execution_count": 1,
      "outputs": [
        {
          "output_type": "stream",
          "name": "stdout",
          "text": [
            "Requirement already satisfied: scikit-learn in /usr/local/lib/python3.7/dist-packages (1.0.1)\n",
            "Requirement already satisfied: threadpoolctl>=2.0.0 in /usr/local/lib/python3.7/dist-packages (from scikit-learn) (3.0.0)\n",
            "Requirement already satisfied: joblib>=0.11 in /usr/local/lib/python3.7/dist-packages (from scikit-learn) (1.1.0)\n",
            "Requirement already satisfied: scipy>=1.1.0 in /usr/local/lib/python3.7/dist-packages (from scikit-learn) (1.4.1)\n",
            "Requirement already satisfied: numpy>=1.14.6 in /usr/local/lib/python3.7/dist-packages (from scikit-learn) (1.19.5)\n",
            "[nltk_data] Downloading package punkt to /root/nltk_data...\n",
            "[nltk_data]   Unzipping tokenizers/punkt.zip.\n"
          ]
        }
      ]
    },
    {
      "cell_type": "code",
      "metadata": {
        "id": "-2hacXvT3mX8"
      },
      "source": [
        "url0='https://raw.githubusercontent.com/alfinmaulani/skripsi/master/dataISEAR.csv'\n",
        "df = pd.read_csv(url0)"
      ],
      "execution_count": 2,
      "outputs": []
    },
    {
      "cell_type": "code",
      "metadata": {
        "id": "BdH-t5_KMum4"
      },
      "source": [
        "# df=df.drop(df[df['emosi'] == 'shame'].sample(frac=1).index)\n",
        "# df=df.drop(df[df['emosi'] == 'guilt'].sample(frac=1).index)"
      ],
      "execution_count": null,
      "outputs": []
    },
    {
      "cell_type": "code",
      "metadata": {
        "colab": {
          "base_uri": "https://localhost:8080/"
        },
        "id": "ecmoGKcODIAZ",
        "outputId": "194134db-b293-4988-a999-af633afebd90"
      },
      "source": [
        "df.emosi.value_counts()"
      ],
      "execution_count": 3,
      "outputs": [
        {
          "output_type": "execute_result",
          "data": {
            "text/plain": [
              "joy        1092\n",
              "sadness    1082\n",
              "anger      1079\n",
              "fear       1076\n",
              "shame      1071\n",
              "disgust    1066\n",
              "guilt      1050\n",
              "Name: emosi, dtype: int64"
            ]
          },
          "metadata": {},
          "execution_count": 3
        }
      ]
    },
    {
      "cell_type": "code",
      "metadata": {
        "id": "5APBEuD1Hw5H",
        "colab": {
          "base_uri": "https://localhost:8080/"
        },
        "outputId": "eabb681a-f8d5-46c9-b78a-7f2dd94314a7"
      },
      "source": [
        "from google.colab import drive\n",
        "drive.mount('/content/drive')"
      ],
      "execution_count": 4,
      "outputs": [
        {
          "output_type": "stream",
          "name": "stdout",
          "text": [
            "Mounted at /content/drive\n"
          ]
        }
      ]
    },
    {
      "cell_type": "code",
      "metadata": {
        "id": "sNtvPjXBH3EY"
      },
      "source": [
        "df2 = pd.read_csv('/content/drive/MyDrive/twitter_prosessed.csv')"
      ],
      "execution_count": 5,
      "outputs": []
    },
    {
      "cell_type": "code",
      "metadata": {
        "id": "-zQ0bincqHri"
      },
      "source": [
        "df3 = pd.read_csv('/content/drive/MyDrive/idwiki_new_lower.txt', delimiter = \"\\t\")\n",
        "df3.columns = [\"arti\"]"
      ],
      "execution_count": 6,
      "outputs": []
    },
    {
      "cell_type": "markdown",
      "metadata": {
        "id": "9_Vnr7idZXyY"
      },
      "source": [
        "preputama : lower case"
      ]
    },
    {
      "cell_type": "code",
      "metadata": {
        "id": "RypDx3ICZPoM"
      },
      "source": [
        "def lower(temp):\n",
        "  return temp.str.lower()"
      ],
      "execution_count": 7,
      "outputs": []
    },
    {
      "cell_type": "code",
      "metadata": {
        "id": "WhpBZ6kQ9Wb5"
      },
      "source": [
        "df['dokumen']=lower(df['dokumen'])"
      ],
      "execution_count": 8,
      "outputs": []
    },
    {
      "cell_type": "code",
      "metadata": {
        "id": "uubQpvuXH7EV"
      },
      "source": [
        "df2['tweet']=lower(df2['tweet'])"
      ],
      "execution_count": 9,
      "outputs": []
    },
    {
      "cell_type": "code",
      "metadata": {
        "id": "TBe_O0zOqSP6"
      },
      "source": [
        "df3['arti']=lower(df3['arti'])"
      ],
      "execution_count": 10,
      "outputs": []
    },
    {
      "cell_type": "markdown",
      "metadata": {
        "id": "b82j_2JPZaQ8"
      },
      "source": [
        "preputama : Pembersihan noise (over enter and space)"
      ]
    },
    {
      "cell_type": "code",
      "metadata": {
        "id": "_RQsSdV6Z6ZF"
      },
      "source": [
        "def bersih_noise(temp):\n",
        "  temp=temp.replace(' \\n', ' ', regex=True)\n",
        "  temp=temp.replace('   ', ' ', regex=True)\n",
        "  return temp.replace('  ', ' ', regex=True)"
      ],
      "execution_count": 11,
      "outputs": []
    },
    {
      "cell_type": "code",
      "metadata": {
        "id": "Pe0GqxmE9WP2"
      },
      "source": [
        "df=bersih_noise(df)"
      ],
      "execution_count": 12,
      "outputs": []
    },
    {
      "cell_type": "code",
      "metadata": {
        "id": "PIur4tdzIBzl"
      },
      "source": [
        "df2=bersih_noise(df2)"
      ],
      "execution_count": 13,
      "outputs": []
    },
    {
      "cell_type": "code",
      "metadata": {
        "id": "oY4MPDNfqWud"
      },
      "source": [
        "df3=bersih_noise(df3)"
      ],
      "execution_count": 14,
      "outputs": []
    },
    {
      "cell_type": "markdown",
      "metadata": {
        "id": "1KUKEZPEZdku"
      },
      "source": [
        "preptambah : expand contractions"
      ]
    },
    {
      "cell_type": "code",
      "metadata": {
        "id": "DvUkcyckt3jt",
        "colab": {
          "base_uri": "https://localhost:8080/"
        },
        "outputId": "7d165eac-949c-47c9-fc36-fef007c5c22f"
      },
      "source": [
        "!pip install contractions\n",
        "import contractions"
      ],
      "execution_count": 15,
      "outputs": [
        {
          "output_type": "stream",
          "name": "stdout",
          "text": [
            "Collecting contractions\n",
            "  Downloading contractions-0.0.58-py2.py3-none-any.whl (8.0 kB)\n",
            "Collecting textsearch>=0.0.21\n",
            "  Downloading textsearch-0.0.21-py2.py3-none-any.whl (7.5 kB)\n",
            "Collecting pyahocorasick\n",
            "  Downloading pyahocorasick-1.4.2.tar.gz (321 kB)\n",
            "\u001b[K     |████████████████████████████████| 321 kB 28.9 MB/s \n",
            "\u001b[?25hCollecting anyascii\n",
            "  Downloading anyascii-0.3.0-py3-none-any.whl (284 kB)\n",
            "\u001b[K     |████████████████████████████████| 284 kB 44.4 MB/s \n",
            "\u001b[?25hBuilding wheels for collected packages: pyahocorasick\n",
            "  Building wheel for pyahocorasick (setup.py) ... \u001b[?25l\u001b[?25hdone\n",
            "  Created wheel for pyahocorasick: filename=pyahocorasick-1.4.2-cp37-cp37m-linux_x86_64.whl size=85445 sha256=886262aa1bc1581b1e21b0b4afdc786b109cd295b698506a3b407d5755c08f85\n",
            "  Stored in directory: /root/.cache/pip/wheels/25/19/a6/8f363d9939162782bb8439d886469756271abc01f76fbd790f\n",
            "Successfully built pyahocorasick\n",
            "Installing collected packages: pyahocorasick, anyascii, textsearch, contractions\n",
            "Successfully installed anyascii-0.3.0 contractions-0.0.58 pyahocorasick-1.4.2 textsearch-0.0.21\n"
          ]
        }
      ]
    },
    {
      "cell_type": "code",
      "metadata": {
        "id": "QzffcxVlaxdd"
      },
      "source": [
        "def expand_word(temp):\n",
        "  expanded_words = []   \n",
        "  for word in temp:\n",
        "    expanded_words.append(contractions.fix(word))\n",
        "  return expanded_words"
      ],
      "execution_count": 16,
      "outputs": []
    },
    {
      "cell_type": "code",
      "metadata": {
        "id": "5glvogu8t3dl"
      },
      "source": [
        "df.dokumen=expand_word(df.dokumen)"
      ],
      "execution_count": 17,
      "outputs": []
    },
    {
      "cell_type": "code",
      "metadata": {
        "id": "nVjxLBLIIjXV"
      },
      "source": [
        "df2.tweet=expand_word(df2.tweet)"
      ],
      "execution_count": 18,
      "outputs": []
    },
    {
      "cell_type": "code",
      "metadata": {
        "id": "a1rsbq1cqf8H"
      },
      "source": [
        "df3.arti=expand_word(df3.arti)"
      ],
      "execution_count": 19,
      "outputs": []
    },
    {
      "cell_type": "markdown",
      "metadata": {
        "id": "rS8J8JjJamsx"
      },
      "source": [
        "preputama : cleansing punctuation"
      ]
    },
    {
      "cell_type": "code",
      "metadata": {
        "id": "H3Hx4NpTbtrT"
      },
      "source": [
        "def clns_punc(temp):\n",
        "  return temp.str.replace(r'[^\\w\\s]+', '')"
      ],
      "execution_count": 20,
      "outputs": []
    },
    {
      "cell_type": "code",
      "metadata": {
        "id": "2z_rN6_Famg-"
      },
      "source": [
        "df['dokumen'] = clns_punc(df['dokumen'])"
      ],
      "execution_count": 21,
      "outputs": []
    },
    {
      "cell_type": "code",
      "metadata": {
        "id": "hrvURvEXIu5g"
      },
      "source": [
        "df2['tweet'] = clns_punc(df2['tweet'])"
      ],
      "execution_count": 22,
      "outputs": []
    },
    {
      "cell_type": "code",
      "metadata": {
        "id": "J5TnuwyKqmyj"
      },
      "source": [
        "df3['arti'] = clns_punc(df3['arti'])"
      ],
      "execution_count": 23,
      "outputs": []
    },
    {
      "cell_type": "markdown",
      "metadata": {
        "id": "g3p4Wtl9TWVY"
      },
      "source": [
        "preputama : cleansing number"
      ]
    },
    {
      "cell_type": "code",
      "metadata": {
        "id": "C9OjkbaHDMU6",
        "colab": {
          "base_uri": "https://localhost:8080/"
        },
        "outputId": "3af43830-596d-42d1-f8e6-cd6d5f622bc0"
      },
      "source": [
        "!pip install tweet-preprocessor\n",
        "import preprocessor as p"
      ],
      "execution_count": 24,
      "outputs": [
        {
          "output_type": "stream",
          "name": "stdout",
          "text": [
            "Collecting tweet-preprocessor\n",
            "  Downloading tweet_preprocessor-0.6.0-py3-none-any.whl (27 kB)\n",
            "Installing collected packages: tweet-preprocessor\n",
            "Successfully installed tweet-preprocessor-0.6.0\n"
          ]
        }
      ]
    },
    {
      "cell_type": "code",
      "metadata": {
        "id": "SSgdUgZ_cL3l"
      },
      "source": [
        "p.set_options(p.OPT.NUMBER)\n",
        "def clns_numb(temp):\n",
        "  sementara=[]\n",
        "  for word in temp:\n",
        "    sementara.append(p.clean(word))\n",
        "  return sementara"
      ],
      "execution_count": 25,
      "outputs": []
    },
    {
      "cell_type": "code",
      "metadata": {
        "id": "tbDKUmvtDRjN"
      },
      "source": [
        "df.dokumen=clns_numb(df.dokumen)"
      ],
      "execution_count": 26,
      "outputs": []
    },
    {
      "cell_type": "code",
      "metadata": {
        "id": "GmWovA8ADRby"
      },
      "source": [
        "df2.tweet=clns_numb(df2.tweet)"
      ],
      "execution_count": 27,
      "outputs": []
    },
    {
      "cell_type": "code",
      "metadata": {
        "id": "2H1YgNV0qsj0"
      },
      "source": [
        "df3.arti=clns_numb(df3.arti)"
      ],
      "execution_count": 28,
      "outputs": []
    },
    {
      "cell_type": "markdown",
      "metadata": {
        "id": "Hrfg5PlYaK_o"
      },
      "source": [
        "preptambah : remove stopword"
      ]
    },
    {
      "cell_type": "code",
      "metadata": {
        "colab": {
          "base_uri": "https://localhost:8080/"
        },
        "id": "Ol3lV82FbtgA",
        "outputId": "5f091081-4c91-4d45-da2f-56781091def0"
      },
      "source": [
        "from nltk.corpus import stopwords\n",
        "nltk.download('stopwords')\n",
        "stop = stopwords.words('english')"
      ],
      "execution_count": 29,
      "outputs": [
        {
          "output_type": "stream",
          "name": "stdout",
          "text": [
            "[nltk_data] Downloading package stopwords to /root/nltk_data...\n",
            "[nltk_data]   Unzipping corpora/stopwords.zip.\n"
          ]
        }
      ]
    },
    {
      "cell_type": "code",
      "metadata": {
        "id": "ylnVLvktc1Pd"
      },
      "source": [
        "pat = r'\\b(?:{})\\b'.format('|'.join(stop))\n",
        "def remove_stopw(temp):\n",
        "  temp=temp.str.replace(pat, '')\n",
        "  return temp.str.replace(r'\\s+', ' ')"
      ],
      "execution_count": 30,
      "outputs": []
    },
    {
      "cell_type": "code",
      "metadata": {
        "id": "RKuF-6uCZ9Y1"
      },
      "source": [
        "df['dokumen'] = remove_stopw(df['dokumen'])"
      ],
      "execution_count": 31,
      "outputs": []
    },
    {
      "cell_type": "code",
      "metadata": {
        "id": "V77e41lhI5T7"
      },
      "source": [
        "df2['tweet'] = remove_stopw(df2['tweet'])"
      ],
      "execution_count": 32,
      "outputs": []
    },
    {
      "cell_type": "code",
      "metadata": {
        "id": "Q2z9Toglq0n4"
      },
      "source": [
        "df3['arti'] = remove_stopw(df3['arti'])"
      ],
      "execution_count": 33,
      "outputs": []
    },
    {
      "cell_type": "markdown",
      "metadata": {
        "id": "DnbrT-4daeEK"
      },
      "source": [
        "tokenizing"
      ]
    },
    {
      "cell_type": "code",
      "metadata": {
        "id": "0R5e1dYGdbYE"
      },
      "source": [
        "def token(temp):\n",
        "  return [word_tokenize(x) for x in temp]"
      ],
      "execution_count": 34,
      "outputs": []
    },
    {
      "cell_type": "code",
      "metadata": {
        "id": "XpqeTa21Z9OS"
      },
      "source": [
        "df.dokumen=token(df.dokumen)"
      ],
      "execution_count": 35,
      "outputs": []
    },
    {
      "cell_type": "code",
      "metadata": {
        "id": "GzBtjKLRJAQm"
      },
      "source": [
        "df2.tweet=token(df2.tweet)"
      ],
      "execution_count": 36,
      "outputs": []
    },
    {
      "cell_type": "code",
      "metadata": {
        "id": "a06JlSbiq7_d"
      },
      "source": [
        "df3.arti=token(df3.arti)"
      ],
      "execution_count": 37,
      "outputs": []
    },
    {
      "cell_type": "markdown",
      "metadata": {
        "id": "qrBmBYUFV5BP"
      },
      "source": [
        "preptambah : Lemmatization"
      ]
    },
    {
      "cell_type": "code",
      "metadata": {
        "id": "K1ywmZGYZ9RJ"
      },
      "source": [
        "from nltk.stem.snowball import SnowballStemmer\n",
        "stemmer = SnowballStemmer(\"english\")"
      ],
      "execution_count": 38,
      "outputs": []
    },
    {
      "cell_type": "code",
      "metadata": {
        "id": "ENlrovvEd-V9"
      },
      "source": [
        "def lemma(temp):\n",
        "  temp.apply(lambda x: [stemmer.stem(y) for y in x])"
      ],
      "execution_count": 39,
      "outputs": []
    },
    {
      "cell_type": "code",
      "metadata": {
        "id": "vonaeiobZ9Lh"
      },
      "source": [
        "lemma(df['dokumen'])"
      ],
      "execution_count": 40,
      "outputs": []
    },
    {
      "cell_type": "code",
      "metadata": {
        "id": "_YBxGDNsJJTm"
      },
      "source": [
        "lemma(df2['tweet'])"
      ],
      "execution_count": 41,
      "outputs": []
    },
    {
      "cell_type": "code",
      "metadata": {
        "id": "b-LWL8O_rEXB"
      },
      "source": [
        "lemma(df3['arti'])"
      ],
      "execution_count": 42,
      "outputs": []
    },
    {
      "cell_type": "markdown",
      "metadata": {
        "id": "K-NOlQnGbDUj"
      },
      "source": [
        "save df"
      ]
    },
    {
      "cell_type": "code",
      "metadata": {
        "id": "gk1V4HBPDHVw"
      },
      "source": [
        "# df.to_csv(r'dataisear(preptambah).csv', index = False)"
      ],
      "execution_count": null,
      "outputs": []
    },
    {
      "cell_type": "markdown",
      "metadata": {
        "id": "MZPjkuF7JMW_"
      },
      "source": [
        "gabung corpus"
      ]
    },
    {
      "cell_type": "code",
      "metadata": {
        "id": "cYp0kFuySqoO"
      },
      "source": [
        "# sent=df.dokumen"
      ],
      "execution_count": null,
      "outputs": []
    },
    {
      "cell_type": "code",
      "metadata": {
        "id": "0IXPS7QmJMKf"
      },
      "source": [
        "# sent=df2.tweet.append(df.dokumen,ignore_index=True)"
      ],
      "execution_count": null,
      "outputs": []
    },
    {
      "cell_type": "code",
      "metadata": {
        "id": "wRt-Z2YprtJM"
      },
      "source": [
        "# sent=df3.arti.append(df.dokumen,ignore_index=True)"
      ],
      "execution_count": null,
      "outputs": []
    },
    {
      "cell_type": "code",
      "metadata": {
        "id": "05ktqhqurX6q"
      },
      "source": [
        "sent=df3.arti.append(df2.tweet.append(df.dokumen,ignore_index=True),ignore_index=True)"
      ],
      "execution_count": 43,
      "outputs": []
    },
    {
      "cell_type": "markdown",
      "metadata": {
        "id": "a2CO8Rbb2f54"
      },
      "source": [
        "glove"
      ]
    },
    {
      "cell_type": "code",
      "metadata": {
        "colab": {
          "base_uri": "https://localhost:8080/"
        },
        "id": "DboqVfIk2eZJ",
        "outputId": "767f1509-e680-48f4-ec0d-9d28500b33fb"
      },
      "source": [
        "!pip install glove-python-binary"
      ],
      "execution_count": 44,
      "outputs": [
        {
          "output_type": "stream",
          "name": "stdout",
          "text": [
            "Collecting glove-python-binary\n",
            "  Downloading glove_python_binary-0.2.0-cp37-cp37m-manylinux1_x86_64.whl (948 kB)\n",
            "\u001b[?25l\r\u001b[K     |▍                               | 10 kB 25.1 MB/s eta 0:00:01\r\u001b[K     |▊                               | 20 kB 29.9 MB/s eta 0:00:01\r\u001b[K     |█                               | 30 kB 31.9 MB/s eta 0:00:01\r\u001b[K     |█▍                              | 40 kB 34.5 MB/s eta 0:00:01\r\u001b[K     |█▊                              | 51 kB 24.4 MB/s eta 0:00:01\r\u001b[K     |██                              | 61 kB 25.8 MB/s eta 0:00:01\r\u001b[K     |██▍                             | 71 kB 26.1 MB/s eta 0:00:01\r\u001b[K     |██▊                             | 81 kB 26.9 MB/s eta 0:00:01\r\u001b[K     |███                             | 92 kB 27.9 MB/s eta 0:00:01\r\u001b[K     |███▌                            | 102 kB 28.6 MB/s eta 0:00:01\r\u001b[K     |███▉                            | 112 kB 28.6 MB/s eta 0:00:01\r\u001b[K     |████▏                           | 122 kB 28.6 MB/s eta 0:00:01\r\u001b[K     |████▌                           | 133 kB 28.6 MB/s eta 0:00:01\r\u001b[K     |████▉                           | 143 kB 28.6 MB/s eta 0:00:01\r\u001b[K     |█████▏                          | 153 kB 28.6 MB/s eta 0:00:01\r\u001b[K     |█████▌                          | 163 kB 28.6 MB/s eta 0:00:01\r\u001b[K     |█████▉                          | 174 kB 28.6 MB/s eta 0:00:01\r\u001b[K     |██████▏                         | 184 kB 28.6 MB/s eta 0:00:01\r\u001b[K     |██████▋                         | 194 kB 28.6 MB/s eta 0:00:01\r\u001b[K     |███████                         | 204 kB 28.6 MB/s eta 0:00:01\r\u001b[K     |███████▎                        | 215 kB 28.6 MB/s eta 0:00:01\r\u001b[K     |███████▋                        | 225 kB 28.6 MB/s eta 0:00:01\r\u001b[K     |████████                        | 235 kB 28.6 MB/s eta 0:00:01\r\u001b[K     |████████▎                       | 245 kB 28.6 MB/s eta 0:00:01\r\u001b[K     |████████▋                       | 256 kB 28.6 MB/s eta 0:00:01\r\u001b[K     |█████████                       | 266 kB 28.6 MB/s eta 0:00:01\r\u001b[K     |█████████▎                      | 276 kB 28.6 MB/s eta 0:00:01\r\u001b[K     |█████████▊                      | 286 kB 28.6 MB/s eta 0:00:01\r\u001b[K     |██████████                      | 296 kB 28.6 MB/s eta 0:00:01\r\u001b[K     |██████████▍                     | 307 kB 28.6 MB/s eta 0:00:01\r\u001b[K     |██████████▊                     | 317 kB 28.6 MB/s eta 0:00:01\r\u001b[K     |███████████                     | 327 kB 28.6 MB/s eta 0:00:01\r\u001b[K     |███████████▍                    | 337 kB 28.6 MB/s eta 0:00:01\r\u001b[K     |███████████▊                    | 348 kB 28.6 MB/s eta 0:00:01\r\u001b[K     |████████████                    | 358 kB 28.6 MB/s eta 0:00:01\r\u001b[K     |████████████▍                   | 368 kB 28.6 MB/s eta 0:00:01\r\u001b[K     |████████████▊                   | 378 kB 28.6 MB/s eta 0:00:01\r\u001b[K     |█████████████▏                  | 389 kB 28.6 MB/s eta 0:00:01\r\u001b[K     |█████████████▌                  | 399 kB 28.6 MB/s eta 0:00:01\r\u001b[K     |█████████████▉                  | 409 kB 28.6 MB/s eta 0:00:01\r\u001b[K     |██████████████▏                 | 419 kB 28.6 MB/s eta 0:00:01\r\u001b[K     |██████████████▌                 | 430 kB 28.6 MB/s eta 0:00:01\r\u001b[K     |██████████████▉                 | 440 kB 28.6 MB/s eta 0:00:01\r\u001b[K     |███████████████▏                | 450 kB 28.6 MB/s eta 0:00:01\r\u001b[K     |███████████████▌                | 460 kB 28.6 MB/s eta 0:00:01\r\u001b[K     |███████████████▉                | 471 kB 28.6 MB/s eta 0:00:01\r\u001b[K     |████████████████▎               | 481 kB 28.6 MB/s eta 0:00:01\r\u001b[K     |████████████████▋               | 491 kB 28.6 MB/s eta 0:00:01\r\u001b[K     |█████████████████               | 501 kB 28.6 MB/s eta 0:00:01\r\u001b[K     |█████████████████▎              | 512 kB 28.6 MB/s eta 0:00:01\r\u001b[K     |█████████████████▋              | 522 kB 28.6 MB/s eta 0:00:01\r\u001b[K     |██████████████████              | 532 kB 28.6 MB/s eta 0:00:01\r\u001b[K     |██████████████████▎             | 542 kB 28.6 MB/s eta 0:00:01\r\u001b[K     |██████████████████▋             | 552 kB 28.6 MB/s eta 0:00:01\r\u001b[K     |███████████████████             | 563 kB 28.6 MB/s eta 0:00:01\r\u001b[K     |███████████████████▍            | 573 kB 28.6 MB/s eta 0:00:01\r\u001b[K     |███████████████████▊            | 583 kB 28.6 MB/s eta 0:00:01\r\u001b[K     |████████████████████            | 593 kB 28.6 MB/s eta 0:00:01\r\u001b[K     |████████████████████▍           | 604 kB 28.6 MB/s eta 0:00:01\r\u001b[K     |████████████████████▊           | 614 kB 28.6 MB/s eta 0:00:01\r\u001b[K     |█████████████████████           | 624 kB 28.6 MB/s eta 0:00:01\r\u001b[K     |█████████████████████▍          | 634 kB 28.6 MB/s eta 0:00:01\r\u001b[K     |█████████████████████▊          | 645 kB 28.6 MB/s eta 0:00:01\r\u001b[K     |██████████████████████          | 655 kB 28.6 MB/s eta 0:00:01\r\u001b[K     |██████████████████████▌         | 665 kB 28.6 MB/s eta 0:00:01\r\u001b[K     |██████████████████████▉         | 675 kB 28.6 MB/s eta 0:00:01\r\u001b[K     |███████████████████████▏        | 686 kB 28.6 MB/s eta 0:00:01\r\u001b[K     |███████████████████████▌        | 696 kB 28.6 MB/s eta 0:00:01\r\u001b[K     |███████████████████████▉        | 706 kB 28.6 MB/s eta 0:00:01\r\u001b[K     |████████████████████████▏       | 716 kB 28.6 MB/s eta 0:00:01\r\u001b[K     |████████████████████████▌       | 727 kB 28.6 MB/s eta 0:00:01\r\u001b[K     |████████████████████████▉       | 737 kB 28.6 MB/s eta 0:00:01\r\u001b[K     |█████████████████████████▏      | 747 kB 28.6 MB/s eta 0:00:01\r\u001b[K     |█████████████████████████▌      | 757 kB 28.6 MB/s eta 0:00:01\r\u001b[K     |██████████████████████████      | 768 kB 28.6 MB/s eta 0:00:01\r\u001b[K     |██████████████████████████▎     | 778 kB 28.6 MB/s eta 0:00:01\r\u001b[K     |██████████████████████████▋     | 788 kB 28.6 MB/s eta 0:00:01\r\u001b[K     |███████████████████████████     | 798 kB 28.6 MB/s eta 0:00:01\r\u001b[K     |███████████████████████████▎    | 808 kB 28.6 MB/s eta 0:00:01\r\u001b[K     |███████████████████████████▋    | 819 kB 28.6 MB/s eta 0:00:01\r\u001b[K     |████████████████████████████    | 829 kB 28.6 MB/s eta 0:00:01\r\u001b[K     |████████████████████████████▎   | 839 kB 28.6 MB/s eta 0:00:01\r\u001b[K     |████████████████████████████▋   | 849 kB 28.6 MB/s eta 0:00:01\r\u001b[K     |█████████████████████████████   | 860 kB 28.6 MB/s eta 0:00:01\r\u001b[K     |█████████████████████████████▍  | 870 kB 28.6 MB/s eta 0:00:01\r\u001b[K     |█████████████████████████████▊  | 880 kB 28.6 MB/s eta 0:00:01\r\u001b[K     |██████████████████████████████  | 890 kB 28.6 MB/s eta 0:00:01\r\u001b[K     |██████████████████████████████▍ | 901 kB 28.6 MB/s eta 0:00:01\r\u001b[K     |██████████████████████████████▊ | 911 kB 28.6 MB/s eta 0:00:01\r\u001b[K     |███████████████████████████████ | 921 kB 28.6 MB/s eta 0:00:01\r\u001b[K     |███████████████████████████████▍| 931 kB 28.6 MB/s eta 0:00:01\r\u001b[K     |███████████████████████████████▊| 942 kB 28.6 MB/s eta 0:00:01\r\u001b[K     |████████████████████████████████| 948 kB 28.6 MB/s \n",
            "\u001b[?25hRequirement already satisfied: numpy in /usr/local/lib/python3.7/dist-packages (from glove-python-binary) (1.19.5)\n",
            "Requirement already satisfied: scipy in /usr/local/lib/python3.7/dist-packages (from glove-python-binary) (1.4.1)\n",
            "Installing collected packages: glove-python-binary\n",
            "Successfully installed glove-python-binary-0.2.0\n"
          ]
        }
      ]
    },
    {
      "cell_type": "code",
      "metadata": {
        "id": "stbOzjcca99T"
      },
      "source": [
        "from glove import Glove\n",
        "from glove import Corpus"
      ],
      "execution_count": 45,
      "outputs": []
    },
    {
      "cell_type": "code",
      "metadata": {
        "id": "vnJlv_Lw2_5P"
      },
      "source": [
        "korpus = Corpus()\n",
        "korpus.fit(sent, window=5, ignore_missing=False,)"
      ],
      "execution_count": 46,
      "outputs": []
    },
    {
      "cell_type": "code",
      "metadata": {
        "id": "lXGg7kp7qJ9a"
      },
      "source": [
        "# (corpus, window=10, ignore_missing=False)"
      ],
      "execution_count": null,
      "outputs": []
    },
    {
      "cell_type": "code",
      "metadata": {
        "id": "Mnagl9GqbW93"
      },
      "source": [
        "glove = Glove(no_components=100, learning_rate=0.05, alpha=0.025, max_count=100, max_loss=10.0, random_state=None)\n",
        "glove.fit(korpus.matrix)\n",
        "glove.add_dictionary(korpus.dictionary)"
      ],
      "execution_count": 47,
      "outputs": []
    },
    {
      "cell_type": "code",
      "metadata": {
        "id": "tS0NAc5zp0dH"
      },
      "source": [
        "# (no_components=30, learning_rate=0.05, alpha=0.75, max_count=100, max_loss=10.0, random_state=None)"
      ],
      "execution_count": null,
      "outputs": []
    },
    {
      "cell_type": "markdown",
      "metadata": {
        "id": "g7nkKPISbU-X"
      },
      "source": [
        "cek model"
      ]
    },
    {
      "cell_type": "code",
      "metadata": {
        "colab": {
          "base_uri": "https://localhost:8080/"
        },
        "id": "TWu2zy-n3DYa",
        "outputId": "a0286982-e4bc-45f8-88ba-213b90f80478"
      },
      "source": [
        "glove.word_vectors.shape"
      ],
      "execution_count": 48,
      "outputs": [
        {
          "output_type": "execute_result",
          "data": {
            "text/plain": [
              "(1003499, 100)"
            ]
          },
          "metadata": {},
          "execution_count": 48
        }
      ]
    },
    {
      "cell_type": "code",
      "metadata": {
        "colab": {
          "base_uri": "https://localhost:8080/"
        },
        "id": "R6GsJv-YWyQi",
        "outputId": "dd9870fd-b735-45a1-f4a7-aa8938a548b6"
      },
      "source": [
        "glove.word_vectors[glove.dictionary['moment']]"
      ],
      "execution_count": 49,
      "outputs": [
        {
          "output_type": "execute_result",
          "data": {
            "text/plain": [
              "array([-0.13348407,  0.21658169,  0.12056741, -0.03011247, -0.05961268,\n",
              "       -0.34895202, -0.07306302,  0.10518288,  0.05861899, -0.10721032,\n",
              "        0.14470617, -0.07628201,  0.0118125 ,  0.17065328,  0.08763351,\n",
              "        0.0371425 ,  0.10328008,  0.0821394 , -0.15408125,  0.08051707,\n",
              "       -0.2726572 , -0.21288609,  0.07183247, -0.03574021,  0.03925996,\n",
              "        0.1099704 ,  0.08936446,  0.11846842, -0.09385926, -0.08594859,\n",
              "        0.06516864,  0.05380784,  0.15675724,  0.51381984,  0.00309105,\n",
              "       -0.23024531,  0.14204092, -0.0408535 ,  0.04626704, -0.11382082,\n",
              "        0.03635501,  0.27866752, -0.3215481 ,  0.30387838, -0.01465274,\n",
              "       -0.15683099,  0.12047505, -0.09335905, -0.14654249,  0.03711119,\n",
              "       -0.04770465, -0.22563462, -0.04133089, -0.06594067,  0.23981684,\n",
              "        0.20765497, -0.24091866, -0.06481929, -0.04344836,  0.14744391,\n",
              "        0.33572914,  0.31433594,  0.03938134, -0.06217806, -0.01148181,\n",
              "       -0.08819232, -0.12934406,  0.05205441,  0.17332791,  0.05071284,\n",
              "        0.48607705,  0.15555181,  0.02571347, -0.00956829,  0.38944507,\n",
              "        0.02562427, -0.09470594, -0.06060841, -0.09747657, -0.17729918,\n",
              "        0.10362478,  0.11436387,  0.06343706, -0.30115777,  0.3212873 ,\n",
              "       -0.18135819,  0.11683133,  0.42147404, -0.05350541,  0.03271885,\n",
              "       -0.00211555,  0.04448247,  0.08921808,  0.05010051, -0.46971644,\n",
              "       -0.08398456, -0.13110764, -0.07895027,  0.01196851, -0.04513132])"
            ]
          },
          "metadata": {},
          "execution_count": 49
        }
      ]
    },
    {
      "cell_type": "markdown",
      "metadata": {
        "id": "myQsetPR3tLU"
      },
      "source": [
        "ekstraksi fitur"
      ]
    },
    {
      "cell_type": "code",
      "metadata": {
        "id": "IxR45IUU3QxR"
      },
      "source": [
        "import array\n",
        "ekstrak=[]\n",
        "temp=array.array('i',(0,)*100)\n",
        "for senten in df.dokumen:\n",
        "  for word in senten:\n",
        "    temp=np.add(temp,glove.word_vectors[glove.dictionary[word]])\n",
        "  temp=temp/len(senten)\n",
        "  ekstrak.append(temp)\n",
        "has_vec=ekstrak"
      ],
      "execution_count": 50,
      "outputs": []
    },
    {
      "cell_type": "code",
      "metadata": {
        "id": "pRTuBH09XfkI",
        "colab": {
          "base_uri": "https://localhost:8080/"
        },
        "outputId": "7a02f3f6-671b-4645-a351-1f36591212c9"
      },
      "source": [
        "X=has_vec\n",
        "y=df.emosi\n",
        "print(np.shape(X))\n",
        "print(np.shape(y))\n",
        "# print(X)\n",
        "# print(y)"
      ],
      "execution_count": 51,
      "outputs": [
        {
          "output_type": "stream",
          "name": "stdout",
          "text": [
            "(7516, 100)\n",
            "(7516,)\n"
          ]
        }
      ]
    },
    {
      "cell_type": "markdown",
      "metadata": {
        "id": "9REgAm12XkXE"
      },
      "source": [
        "klasifikasi svm"
      ]
    },
    {
      "cell_type": "code",
      "metadata": {
        "id": "N_7cSx4lXl7N"
      },
      "source": [
        "from sklearn import svm\n",
        "from sklearn.model_selection import cross_val_score"
      ],
      "execution_count": 52,
      "outputs": []
    },
    {
      "cell_type": "code",
      "metadata": {
        "id": "nXGSL_-1XpMg"
      },
      "source": [
        "# langsung cari score\n",
        "\n",
        "# clf = svm.SVC(kernel='poly', decision_function_shape='ovr')\n",
        "# scores = cross_val_score(clf, X, y, cv=10)\n",
        "# # scores.mean()"
      ],
      "execution_count": null,
      "outputs": []
    },
    {
      "cell_type": "markdown",
      "metadata": {
        "id": "meJ2peGBYxm9"
      },
      "source": [
        "conf matrix dan akurasi"
      ]
    },
    {
      "cell_type": "code",
      "metadata": {
        "id": "0WaiSp_nU9NK"
      },
      "source": [
        "from sklearn.metrics import confusion_matrix\n",
        "from sklearn.metrics import accuracy_score\n",
        "from sklearn.model_selection import cross_val_predict\n",
        "import matplotlib.pyplot as plt\n",
        "from sklearn.metrics import ConfusionMatrixDisplay\n",
        "from sklearn.metrics import precision_recall_fscore_support"
      ],
      "execution_count": 53,
      "outputs": []
    },
    {
      "cell_type": "code",
      "metadata": {
        "id": "93fZsexIh1Ew"
      },
      "source": [
        "# svm.SVC(C=1.0, kernel='rbf', degree=3, gamma='scale', coef0=0.0, shrinking=True, probability=False, tol=0.001, cache_size=200, \n",
        "#  class_weight=None, verbose=False, max_iter=- 1, decision_function_shape='ovr', break_ties=False, random_state=None)"
      ],
      "execution_count": null,
      "outputs": []
    },
    {
      "cell_type": "code",
      "metadata": {
        "id": "HeUbPgMYiAp_"
      },
      "source": [
        "# cross_val_predict(estimator, X, y=None, *, groups=None, cv=None, n_jobs=None, verbose=0, fit_params=None, \n",
        "# pre_dispatch='2*n_jobs', method='predict')"
      ],
      "execution_count": null,
      "outputs": []
    },
    {
      "cell_type": "code",
      "metadata": {
        "id": "OobcP1FOj56e"
      },
      "source": [
        "def klasifikasi(krnl):\n",
        "  clf = svm.SVC(kernel=krnl, decision_function_shape='ovr')\n",
        "  y_pred = cross_val_predict(clf, X, y, cv=10)\n",
        "  ConfusionMatrixDisplay.from_predictions(y, y_pred)\n",
        "  plt.show()\n",
        "  print(accuracy_score(y, y_pred))\n",
        "  print(precision_recall_fscore_support(y, y_pred, average='macro'))"
      ],
      "execution_count": 54,
      "outputs": []
    },
    {
      "cell_type": "code",
      "metadata": {
        "id": "eE1sUIMnkPMr",
        "colab": {
          "base_uri": "https://localhost:8080/",
          "height": 316
        },
        "outputId": "a0ba5573-a228-416e-dffe-8d85703d488e"
      },
      "source": [
        "klasifikasi('poly')"
      ],
      "execution_count": 55,
      "outputs": [
        {
          "output_type": "display_data",
          "data": {
            "image/png": "[encoded data removed]",
            "text/plain": [
              "<Figure size 432x288 with 2 Axes>"
            ]
          },
          "metadata": {
            "needs_background": "light"
          }
        },
        {
          "output_type": "stream",
          "name": "stdout",
          "text": [
            "0.39316125598722723\n",
            "(0.41063013503257345, 0.3923126875536357, 0.3915839172898274, None)\n"
          ]
        }
      ]
    },
    {
      "cell_type": "code",
      "metadata": {
        "id": "UmfZ9gGHq6ll",
        "colab": {
          "base_uri": "https://localhost:8080/",
          "height": 316
        },
        "outputId": "2a5c4932-5fa2-4215-fe91-3efec0adb94b"
      },
      "source": [
        "klasifikasi('rbf')"
      ],
      "execution_count": 56,
      "outputs": [
        {
          "output_type": "display_data",
          "data": {
            "image/png": "[encoded data removed]",
            "text/plain": [
              "<Figure size 432x288 with 2 Axes>"
            ]
          },
          "metadata": {
            "needs_background": "light"
          }
        },
        {
          "output_type": "stream",
          "name": "stdout",
          "text": [
            "0.41524747205960616\n",
            "(0.4075783764311146, 0.414292236317148, 0.40795492672511263, None)\n"
          ]
        }
      ]
    },
    {
      "cell_type": "code",
      "metadata": {
        "id": "EdMr-dJ_q6iY",
        "colab": {
          "base_uri": "https://localhost:8080/",
          "height": 316
        },
        "outputId": "c3b3daaf-ebde-4736-c1d4-9a9a9b7d28b3"
      },
      "source": [
        "klasifikasi('linear')"
      ],
      "execution_count": 57,
      "outputs": [
        {
          "output_type": "display_data",
          "data": {
            "image/png": "[encoded data removed]",
            "text/plain": [
              "<Figure size 432x288 with 2 Axes>"
            ]
          },
          "metadata": {
            "needs_background": "light"
          }
        },
        {
          "output_type": "stream",
          "name": "stdout",
          "text": [
            "0.4075306013837147\n",
            "(0.4015670152997205, 0.40661357436665796, 0.40180033881873617, None)\n"
          ]
        }
      ]
    }
  ]
}