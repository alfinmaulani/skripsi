{
  "nbformat": 4,
  "nbformat_minor": 0,
  "metadata": {
    "colab": {
      "name": "Untitled15.ipynb",
      "provenance": [],
      "mount_file_id": "https://github.com/alfinmaulani/skripsi/blob/master/4lstm_non_average.ipynb",
      "authorship_tag": "ABX9TyOQcLgmbOt9AppNE++QM5S6",
      "include_colab_link": true
    },
    "kernelspec": {
      "name": "python3",
      "display_name": "Python 3"
    },
    "language_info": {
      "name": "python"
    },
    "accelerator": "GPU"
  },
  "cells": [
    {
      "cell_type": "markdown",
      "metadata": {
        "id": "view-in-github",
        "colab_type": "text"
      },
      "source": [
        "<a href=\"https://colab.research.google.com/github/alfinmaulani/skripsi/blob/master/4lstm_non_average.ipynb\" target=\"_parent\"><img src=\"https://colab.research.google.com/assets/colab-badge.svg\" alt=\"Open In Colab\"/></a>"
      ]
    },
    {
      "cell_type": "code",
      "metadata": {
        "id": "BIF9lCPhrpf7",
        "colab": {
          "base_uri": "https://localhost:8080/"
        },
        "outputId": "55cbb4db-679f-4d0f-95df-0ccf4914d166"
      },
      "source": [
        "import pandas as pd\n",
        "import numpy as np\n",
        "from sklearn.model_selection import train_test_split\n",
        "\n",
        "!pip install --upgrade scikit-learn\n",
        "\n",
        "import io\n",
        "import os\n",
        "from nltk.tokenize import word_tokenize\n",
        "import nltk\n",
        "nltk.download('punkt')\n",
        "import gensim\n",
        "import ast"
      ],
      "execution_count": 1,
      "outputs": [
        {
          "output_type": "stream",
          "name": "stdout",
          "text": [
            "Requirement already satisfied: scikit-learn in /usr/local/lib/python3.7/dist-packages (1.0.2)\n",
            "Requirement already satisfied: threadpoolctl>=2.0.0 in /usr/local/lib/python3.7/dist-packages (from scikit-learn) (3.1.0)\n",
            "Requirement already satisfied: joblib>=0.11 in /usr/local/lib/python3.7/dist-packages (from scikit-learn) (1.1.0)\n",
            "Requirement already satisfied: numpy>=1.14.6 in /usr/local/lib/python3.7/dist-packages (from scikit-learn) (1.21.5)\n",
            "Requirement already satisfied: scipy>=1.1.0 in /usr/local/lib/python3.7/dist-packages (from scikit-learn) (1.4.1)\n",
            "[nltk_data] Downloading package punkt to /root/nltk_data...\n",
            "[nltk_data]   Unzipping tokenizers/punkt.zip.\n"
          ]
        }
      ]
    },
    {
      "cell_type": "code",
      "metadata": {
        "colab": {
          "base_uri": "https://localhost:8080/"
        },
        "id": "OFy9zWmAs-Ia",
        "outputId": "ef81e55b-8d1a-4f0e-d8a3-d027a32d936d"
      },
      "source": [
        "from google.colab import drive\n",
        "drive.mount('/content/drive')"
      ],
      "execution_count": null,
      "outputs": [
        {
          "output_type": "stream",
          "name": "stdout",
          "text": [
            "Mounted at /content/drive\n"
          ]
        }
      ]
    },
    {
      "cell_type": "markdown",
      "source": [
        "load korpus"
      ],
      "metadata": {
        "id": "9q51wV0StCDi"
      }
    },
    {
      "cell_type": "code",
      "source": [
        "url1 = '/content/drive/MyDrive/dataisear(preputama).csv'\n",
        "url2 = '/content/drive/MyDrive/dataisear(preptambah).csv'\n",
        "df = pd.read_csv(url1)"
      ],
      "metadata": {
        "id": "oCJrSqqTZ3dv"
      },
      "execution_count": 2,
      "outputs": []
    },
    {
      "cell_type": "code",
      "source": [
        "temp=[]\n",
        "for senten in df.dokumen:\n",
        "  temp.append(ast.literal_eval(senten))\n",
        "df.dokumen=temp"
      ],
      "metadata": {
        "id": "CUGL7FBWaFBC"
      },
      "execution_count": 3,
      "outputs": []
    },
    {
      "cell_type": "markdown",
      "source": [
        "cari paling panjang dalam korpus"
      ],
      "metadata": {
        "id": "8vSYMSqatKlN"
      }
    },
    {
      "cell_type": "code",
      "source": [
        "paling_panjang=0\n",
        "i=0\n",
        "ke=0\n",
        "for x in df.dokumen:\n",
        "  if paling_panjang<len(x):\n",
        "    paling_panjang=len(x)\n",
        "    kata=x\n",
        "    ke=i\n",
        "  i+=1\n",
        "print(paling_panjang)\n",
        "print(kata)\n",
        "print(ke)"
      ],
      "metadata": {
        "colab": {
          "base_uri": "https://localhost:8080/"
        },
        "id": "gy8Xzcl7rilN",
        "outputId": "cdde3fd0-c0ae-44ff-c755-4c456932306a"
      },
      "execution_count": 4,
      "outputs": [
        {
          "output_type": "stream",
          "name": "stdout",
          "text": [
            "178\n",
            "['a', 'few', 'days', 'back', 'i', 'was', 'waiting', 'for', 'the', 'bus', 'at', 'the', 'bus', 'stop', 'before', 'getting', 'into', 'the', 'bus', 'i', 'had', 'prepared', 'the', 'exact', 'amount', 'of', 'coins', 'to', 'pay', 'for', 'the', 'bus', 'fair', 'and', 'when', 'i', 'got', 'into', 'the', 'bus', 'i', 'put', 'these', 'coins', 'into', 'the', 'box', 'meant', 'to', 'collect', 'the', 'bus', 'fair', 'i', 'thought', 'that', 'i', 'had', 'paid', 'and', 'wanted', 'to', 'get', 'inside', 'however', 'the', 'bus', 'driver', 'called', 'me', 'and', 'asked', 'me', 'in', 'an', 'impolite', 'way', 'if', 'the', 'coins', 'were', 'stuck', 'at', 'the', 'opening', 'of', 'the', 'box', 'he', 'had', 'not', 'seen', 'me', 'paying', 'and', 'there', 'wasnt', 'a', 'stack', 'of', 'coins', 'in', 'the', 'box', 'i', 'could', 'not', 'understand', 'this', 'and', 'the', 'driver', 'kept', 'questioning', 'me', 'he', 'made', 'me', 'feel', 'angry', 'and', 'at', 'last', 'i', 'inserted', 'a', 'dollar', 'coin', 'in', 'the', 'box', 'just', 'to', 'get', 'away', 'from', 'him', 'later', 'i', 'found', 'that', 'i', 'had', 'forgotten', 'a', 'few', 'coins', 'in', 'my', 'pocket', 'and', 'had', 'not', 'paid', 'enough', 'for', 'the', 'fair', 'the', 'first', 'time', 'after', 'i', 'had', 'entered', 'the', 'bus', 'i', 'could', 'still', 'hear', 'him', 'scolding', 'me', 'and', 'i', 'felt', 'disgusted']\n",
            "7443\n"
          ]
        }
      ]
    },
    {
      "cell_type": "code",
      "source": [
        "df.dokumen.iloc[7443]"
      ],
      "metadata": {
        "id": "XzZnT0RUsGX4",
        "colab": {
          "base_uri": "https://localhost:8080/"
        },
        "outputId": "49178f63-82cd-407a-a0a5-4962d1fbeab0"
      },
      "execution_count": 5,
      "outputs": [
        {
          "output_type": "execute_result",
          "data": {
            "text/plain": [
              "['a',\n",
              " 'few',\n",
              " 'days',\n",
              " 'back',\n",
              " 'i',\n",
              " 'was',\n",
              " 'waiting',\n",
              " 'for',\n",
              " 'the',\n",
              " 'bus',\n",
              " 'at',\n",
              " 'the',\n",
              " 'bus',\n",
              " 'stop',\n",
              " 'before',\n",
              " 'getting',\n",
              " 'into',\n",
              " 'the',\n",
              " 'bus',\n",
              " 'i',\n",
              " 'had',\n",
              " 'prepared',\n",
              " 'the',\n",
              " 'exact',\n",
              " 'amount',\n",
              " 'of',\n",
              " 'coins',\n",
              " 'to',\n",
              " 'pay',\n",
              " 'for',\n",
              " 'the',\n",
              " 'bus',\n",
              " 'fair',\n",
              " 'and',\n",
              " 'when',\n",
              " 'i',\n",
              " 'got',\n",
              " 'into',\n",
              " 'the',\n",
              " 'bus',\n",
              " 'i',\n",
              " 'put',\n",
              " 'these',\n",
              " 'coins',\n",
              " 'into',\n",
              " 'the',\n",
              " 'box',\n",
              " 'meant',\n",
              " 'to',\n",
              " 'collect',\n",
              " 'the',\n",
              " 'bus',\n",
              " 'fair',\n",
              " 'i',\n",
              " 'thought',\n",
              " 'that',\n",
              " 'i',\n",
              " 'had',\n",
              " 'paid',\n",
              " 'and',\n",
              " 'wanted',\n",
              " 'to',\n",
              " 'get',\n",
              " 'inside',\n",
              " 'however',\n",
              " 'the',\n",
              " 'bus',\n",
              " 'driver',\n",
              " 'called',\n",
              " 'me',\n",
              " 'and',\n",
              " 'asked',\n",
              " 'me',\n",
              " 'in',\n",
              " 'an',\n",
              " 'impolite',\n",
              " 'way',\n",
              " 'if',\n",
              " 'the',\n",
              " 'coins',\n",
              " 'were',\n",
              " 'stuck',\n",
              " 'at',\n",
              " 'the',\n",
              " 'opening',\n",
              " 'of',\n",
              " 'the',\n",
              " 'box',\n",
              " 'he',\n",
              " 'had',\n",
              " 'not',\n",
              " 'seen',\n",
              " 'me',\n",
              " 'paying',\n",
              " 'and',\n",
              " 'there',\n",
              " 'wasnt',\n",
              " 'a',\n",
              " 'stack',\n",
              " 'of',\n",
              " 'coins',\n",
              " 'in',\n",
              " 'the',\n",
              " 'box',\n",
              " 'i',\n",
              " 'could',\n",
              " 'not',\n",
              " 'understand',\n",
              " 'this',\n",
              " 'and',\n",
              " 'the',\n",
              " 'driver',\n",
              " 'kept',\n",
              " 'questioning',\n",
              " 'me',\n",
              " 'he',\n",
              " 'made',\n",
              " 'me',\n",
              " 'feel',\n",
              " 'angry',\n",
              " 'and',\n",
              " 'at',\n",
              " 'last',\n",
              " 'i',\n",
              " 'inserted',\n",
              " 'a',\n",
              " 'dollar',\n",
              " 'coin',\n",
              " 'in',\n",
              " 'the',\n",
              " 'box',\n",
              " 'just',\n",
              " 'to',\n",
              " 'get',\n",
              " 'away',\n",
              " 'from',\n",
              " 'him',\n",
              " 'later',\n",
              " 'i',\n",
              " 'found',\n",
              " 'that',\n",
              " 'i',\n",
              " 'had',\n",
              " 'forgotten',\n",
              " 'a',\n",
              " 'few',\n",
              " 'coins',\n",
              " 'in',\n",
              " 'my',\n",
              " 'pocket',\n",
              " 'and',\n",
              " 'had',\n",
              " 'not',\n",
              " 'paid',\n",
              " 'enough',\n",
              " 'for',\n",
              " 'the',\n",
              " 'fair',\n",
              " 'the',\n",
              " 'first',\n",
              " 'time',\n",
              " 'after',\n",
              " 'i',\n",
              " 'had',\n",
              " 'entered',\n",
              " 'the',\n",
              " 'bus',\n",
              " 'i',\n",
              " 'could',\n",
              " 'still',\n",
              " 'hear',\n",
              " 'him',\n",
              " 'scolding',\n",
              " 'me',\n",
              " 'and',\n",
              " 'i',\n",
              " 'felt',\n",
              " 'disgusted']"
            ]
          },
          "metadata": {},
          "execution_count": 5
        }
      ]
    },
    {
      "cell_type": "markdown",
      "source": [
        "cek"
      ],
      "metadata": {
        "id": "s3P5YZKHMSPH"
      }
    },
    {
      "cell_type": "code",
      "metadata": {
        "colab": {
          "base_uri": "https://localhost:8080/",
          "height": 206
        },
        "id": "wLDZljvktu_A",
        "outputId": "14125c3e-3138-4d0f-9884-61253c36588b"
      },
      "source": [
        "df.head()"
      ],
      "execution_count": 6,
      "outputs": [
        {
          "output_type": "execute_result",
          "data": {
            "text/html": [
              "\n",
              "  <div id=\"df-2211e0e9-b9b4-4d1b-bcdb-b372e4f5f1d3\">\n",
              "    <div class=\"colab-df-container\">\n",
              "      <div>\n",
              "<style scoped>\n",
              "    .dataframe tbody tr th:only-of-type {\n",
              "        vertical-align: middle;\n",
              "    }\n",
              "\n",
              "    .dataframe tbody tr th {\n",
              "        vertical-align: top;\n",
              "    }\n",
              "\n",
              "    .dataframe thead th {\n",
              "        text-align: right;\n",
              "    }\n",
              "</style>\n",
              "<table border=\"1\" class=\"dataframe\">\n",
              "  <thead>\n",
              "    <tr style=\"text-align: right;\">\n",
              "      <th></th>\n",
              "      <th>emosi</th>\n",
              "      <th>dokumen</th>\n",
              "    </tr>\n",
              "  </thead>\n",
              "  <tbody>\n",
              "    <tr>\n",
              "      <th>0</th>\n",
              "      <td>joy</td>\n",
              "      <td>[on, days, when, i, feel, close, to, my, partn...</td>\n",
              "    </tr>\n",
              "    <tr>\n",
              "      <th>1</th>\n",
              "      <td>fear</td>\n",
              "      <td>[every, time, i, imagine, that, someone, i, lo...</td>\n",
              "    </tr>\n",
              "    <tr>\n",
              "      <th>2</th>\n",
              "      <td>anger</td>\n",
              "      <td>[when, i, had, been, obviously, unjustly, trea...</td>\n",
              "    </tr>\n",
              "    <tr>\n",
              "      <th>3</th>\n",
              "      <td>sadness</td>\n",
              "      <td>[when, i, think, about, the, short, time, that...</td>\n",
              "    </tr>\n",
              "    <tr>\n",
              "      <th>4</th>\n",
              "      <td>disgust</td>\n",
              "      <td>[at, a, gathering, i, found, myself, involunta...</td>\n",
              "    </tr>\n",
              "  </tbody>\n",
              "</table>\n",
              "</div>\n",
              "      <button class=\"colab-df-convert\" onclick=\"convertToInteractive('df-2211e0e9-b9b4-4d1b-bcdb-b372e4f5f1d3')\"\n",
              "              title=\"Convert this dataframe to an interactive table.\"\n",
              "              style=\"display:none;\">\n",
              "        \n",
              "  <svg xmlns=\"http://www.w3.org/2000/svg\" height=\"24px\"viewBox=\"0 0 24 24\"\n",
              "       width=\"24px\">\n",
              "    <path d=\"M0 0h24v24H0V0z\" fill=\"none\"/>\n",
              "    <path d=\"M18.56 5.44l.94 2.06.94-2.06 2.06-.94-2.06-.94-.94-2.06-.94 2.06-2.06.94zm-11 1L8.5 8.5l.94-2.06 2.06-.94-2.06-.94L8.5 2.5l-.94 2.06-2.06.94zm10 10l.94 2.06.94-2.06 2.06-.94-2.06-.94-.94-2.06-.94 2.06-2.06.94z\"/><path d=\"M17.41 7.96l-1.37-1.37c-.4-.4-.92-.59-1.43-.59-.52 0-1.04.2-1.43.59L10.3 9.45l-7.72 7.72c-.78.78-.78 2.05 0 2.83L4 21.41c.39.39.9.59 1.41.59.51 0 1.02-.2 1.41-.59l7.78-7.78 2.81-2.81c.8-.78.8-2.07 0-2.86zM5.41 20L4 18.59l7.72-7.72 1.47 1.35L5.41 20z\"/>\n",
              "  </svg>\n",
              "      </button>\n",
              "      \n",
              "  <style>\n",
              "    .colab-df-container {\n",
              "      display:flex;\n",
              "      flex-wrap:wrap;\n",
              "      gap: 12px;\n",
              "    }\n",
              "\n",
              "    .colab-df-convert {\n",
              "      background-color: #E8F0FE;\n",
              "      border: none;\n",
              "      border-radius: 50%;\n",
              "      cursor: pointer;\n",
              "      display: none;\n",
              "      fill: #1967D2;\n",
              "      height: 32px;\n",
              "      padding: 0 0 0 0;\n",
              "      width: 32px;\n",
              "    }\n",
              "\n",
              "    .colab-df-convert:hover {\n",
              "      background-color: #E2EBFA;\n",
              "      box-shadow: 0px 1px 2px rgba(60, 64, 67, 0.3), 0px 1px 3px 1px rgba(60, 64, 67, 0.15);\n",
              "      fill: #174EA6;\n",
              "    }\n",
              "\n",
              "    [theme=dark] .colab-df-convert {\n",
              "      background-color: #3B4455;\n",
              "      fill: #D2E3FC;\n",
              "    }\n",
              "\n",
              "    [theme=dark] .colab-df-convert:hover {\n",
              "      background-color: #434B5C;\n",
              "      box-shadow: 0px 1px 3px 1px rgba(0, 0, 0, 0.15);\n",
              "      filter: drop-shadow(0px 1px 2px rgba(0, 0, 0, 0.3));\n",
              "      fill: #FFFFFF;\n",
              "    }\n",
              "  </style>\n",
              "\n",
              "      <script>\n",
              "        const buttonEl =\n",
              "          document.querySelector('#df-2211e0e9-b9b4-4d1b-bcdb-b372e4f5f1d3 button.colab-df-convert');\n",
              "        buttonEl.style.display =\n",
              "          google.colab.kernel.accessAllowed ? 'block' : 'none';\n",
              "\n",
              "        async function convertToInteractive(key) {\n",
              "          const element = document.querySelector('#df-2211e0e9-b9b4-4d1b-bcdb-b372e4f5f1d3');\n",
              "          const dataTable =\n",
              "            await google.colab.kernel.invokeFunction('convertToInteractive',\n",
              "                                                     [key], {});\n",
              "          if (!dataTable) return;\n",
              "\n",
              "          const docLinkHtml = 'Like what you see? Visit the ' +\n",
              "            '<a target=\"_blank\" href=https://colab.research.google.com/notebooks/data_table.ipynb>data table notebook</a>'\n",
              "            + ' to learn more about interactive tables.';\n",
              "          element.innerHTML = '';\n",
              "          dataTable['output_type'] = 'display_data';\n",
              "          await google.colab.output.renderOutput(dataTable, element);\n",
              "          const docLink = document.createElement('div');\n",
              "          docLink.innerHTML = docLinkHtml;\n",
              "          element.appendChild(docLink);\n",
              "        }\n",
              "      </script>\n",
              "    </div>\n",
              "  </div>\n",
              "  "
            ],
            "text/plain": [
              "     emosi                                            dokumen\n",
              "0      joy  [on, days, when, i, feel, close, to, my, partn...\n",
              "1     fear  [every, time, i, imagine, that, someone, i, lo...\n",
              "2    anger  [when, i, had, been, obviously, unjustly, trea...\n",
              "3  sadness  [when, i, think, about, the, short, time, that...\n",
              "4  disgust  [at, a, gathering, i, found, myself, involunta..."
            ]
          },
          "metadata": {},
          "execution_count": 6
        }
      ]
    },
    {
      "cell_type": "code",
      "metadata": {
        "colab": {
          "base_uri": "https://localhost:8080/"
        },
        "id": "qwt1pHUS7vCm",
        "outputId": "08002f81-a336-424e-ea42-4fe84a3f4983"
      },
      "source": [
        "df.info()"
      ],
      "execution_count": 7,
      "outputs": [
        {
          "output_type": "stream",
          "name": "stdout",
          "text": [
            "<class 'pandas.core.frame.DataFrame'>\n",
            "RangeIndex: 7516 entries, 0 to 7515\n",
            "Data columns (total 2 columns):\n",
            " #   Column   Non-Null Count  Dtype \n",
            "---  ------   --------------  ----- \n",
            " 0   emosi    7516 non-null   object\n",
            " 1   dokumen  7516 non-null   object\n",
            "dtypes: object(2)\n",
            "memory usage: 117.6+ KB\n"
          ]
        }
      ]
    },
    {
      "cell_type": "markdown",
      "source": [
        "bagi kolom klasifikasi"
      ],
      "metadata": {
        "id": "Xkap0R_ot9Bd"
      }
    },
    {
      "cell_type": "code",
      "metadata": {
        "colab": {
          "base_uri": "https://localhost:8080/",
          "height": 424
        },
        "id": "vF3Lh6Ee43Mm",
        "outputId": "bdb5c351-76ce-4512-e503-50867fa475cf"
      },
      "source": [
        "category = pd.get_dummies(df.emosi)\n",
        "df_new = pd.concat([df, category], axis=1)\n",
        "df_new = df_new.drop(columns='emosi')\n",
        "df_new"
      ],
      "execution_count": 8,
      "outputs": [
        {
          "output_type": "execute_result",
          "data": {
            "text/html": [
              "\n",
              "  <div id=\"df-c305a5ec-cdb0-4dbf-aaf0-3b3b5c4d1959\">\n",
              "    <div class=\"colab-df-container\">\n",
              "      <div>\n",
              "<style scoped>\n",
              "    .dataframe tbody tr th:only-of-type {\n",
              "        vertical-align: middle;\n",
              "    }\n",
              "\n",
              "    .dataframe tbody tr th {\n",
              "        vertical-align: top;\n",
              "    }\n",
              "\n",
              "    .dataframe thead th {\n",
              "        text-align: right;\n",
              "    }\n",
              "</style>\n",
              "<table border=\"1\" class=\"dataframe\">\n",
              "  <thead>\n",
              "    <tr style=\"text-align: right;\">\n",
              "      <th></th>\n",
              "      <th>dokumen</th>\n",
              "      <th>anger</th>\n",
              "      <th>disgust</th>\n",
              "      <th>fear</th>\n",
              "      <th>guilt</th>\n",
              "      <th>joy</th>\n",
              "      <th>sadness</th>\n",
              "      <th>shame</th>\n",
              "    </tr>\n",
              "  </thead>\n",
              "  <tbody>\n",
              "    <tr>\n",
              "      <th>0</th>\n",
              "      <td>[on, days, when, i, feel, close, to, my, partn...</td>\n",
              "      <td>0</td>\n",
              "      <td>0</td>\n",
              "      <td>0</td>\n",
              "      <td>0</td>\n",
              "      <td>1</td>\n",
              "      <td>0</td>\n",
              "      <td>0</td>\n",
              "    </tr>\n",
              "    <tr>\n",
              "      <th>1</th>\n",
              "      <td>[every, time, i, imagine, that, someone, i, lo...</td>\n",
              "      <td>0</td>\n",
              "      <td>0</td>\n",
              "      <td>1</td>\n",
              "      <td>0</td>\n",
              "      <td>0</td>\n",
              "      <td>0</td>\n",
              "      <td>0</td>\n",
              "    </tr>\n",
              "    <tr>\n",
              "      <th>2</th>\n",
              "      <td>[when, i, had, been, obviously, unjustly, trea...</td>\n",
              "      <td>1</td>\n",
              "      <td>0</td>\n",
              "      <td>0</td>\n",
              "      <td>0</td>\n",
              "      <td>0</td>\n",
              "      <td>0</td>\n",
              "      <td>0</td>\n",
              "    </tr>\n",
              "    <tr>\n",
              "      <th>3</th>\n",
              "      <td>[when, i, think, about, the, short, time, that...</td>\n",
              "      <td>0</td>\n",
              "      <td>0</td>\n",
              "      <td>0</td>\n",
              "      <td>0</td>\n",
              "      <td>0</td>\n",
              "      <td>1</td>\n",
              "      <td>0</td>\n",
              "    </tr>\n",
              "    <tr>\n",
              "      <th>4</th>\n",
              "      <td>[at, a, gathering, i, found, myself, involunta...</td>\n",
              "      <td>0</td>\n",
              "      <td>1</td>\n",
              "      <td>0</td>\n",
              "      <td>0</td>\n",
              "      <td>0</td>\n",
              "      <td>0</td>\n",
              "      <td>0</td>\n",
              "    </tr>\n",
              "    <tr>\n",
              "      <th>...</th>\n",
              "      <td>...</td>\n",
              "      <td>...</td>\n",
              "      <td>...</td>\n",
              "      <td>...</td>\n",
              "      <td>...</td>\n",
              "      <td>...</td>\n",
              "      <td>...</td>\n",
              "      <td>...</td>\n",
              "    </tr>\n",
              "    <tr>\n",
              "      <th>7511</th>\n",
              "      <td>[two, years, back, someone, invited, me, to, b...</td>\n",
              "      <td>0</td>\n",
              "      <td>0</td>\n",
              "      <td>0</td>\n",
              "      <td>0</td>\n",
              "      <td>0</td>\n",
              "      <td>0</td>\n",
              "      <td>1</td>\n",
              "    </tr>\n",
              "    <tr>\n",
              "      <th>7512</th>\n",
              "      <td>[i, had, taken, the, responsibility, to, do, s...</td>\n",
              "      <td>0</td>\n",
              "      <td>0</td>\n",
              "      <td>0</td>\n",
              "      <td>0</td>\n",
              "      <td>0</td>\n",
              "      <td>0</td>\n",
              "      <td>1</td>\n",
              "    </tr>\n",
              "    <tr>\n",
              "      <th>7513</th>\n",
              "      <td>[i, was, at, home, and, i, heard, a, loud, sou...</td>\n",
              "      <td>0</td>\n",
              "      <td>0</td>\n",
              "      <td>1</td>\n",
              "      <td>0</td>\n",
              "      <td>0</td>\n",
              "      <td>0</td>\n",
              "      <td>0</td>\n",
              "    </tr>\n",
              "    <tr>\n",
              "      <th>7514</th>\n",
              "      <td>[i, did, not, do, the, homework, that, the, te...</td>\n",
              "      <td>0</td>\n",
              "      <td>0</td>\n",
              "      <td>0</td>\n",
              "      <td>1</td>\n",
              "      <td>0</td>\n",
              "      <td>0</td>\n",
              "      <td>0</td>\n",
              "    </tr>\n",
              "    <tr>\n",
              "      <th>7515</th>\n",
              "      <td>[i, had, shouted, at, my, younger, brother, an...</td>\n",
              "      <td>0</td>\n",
              "      <td>0</td>\n",
              "      <td>1</td>\n",
              "      <td>0</td>\n",
              "      <td>0</td>\n",
              "      <td>0</td>\n",
              "      <td>0</td>\n",
              "    </tr>\n",
              "  </tbody>\n",
              "</table>\n",
              "<p>7516 rows × 8 columns</p>\n",
              "</div>\n",
              "      <button class=\"colab-df-convert\" onclick=\"convertToInteractive('df-c305a5ec-cdb0-4dbf-aaf0-3b3b5c4d1959')\"\n",
              "              title=\"Convert this dataframe to an interactive table.\"\n",
              "              style=\"display:none;\">\n",
              "        \n",
              "  <svg xmlns=\"http://www.w3.org/2000/svg\" height=\"24px\"viewBox=\"0 0 24 24\"\n",
              "       width=\"24px\">\n",
              "    <path d=\"M0 0h24v24H0V0z\" fill=\"none\"/>\n",
              "    <path d=\"M18.56 5.44l.94 2.06.94-2.06 2.06-.94-2.06-.94-.94-2.06-.94 2.06-2.06.94zm-11 1L8.5 8.5l.94-2.06 2.06-.94-2.06-.94L8.5 2.5l-.94 2.06-2.06.94zm10 10l.94 2.06.94-2.06 2.06-.94-2.06-.94-.94-2.06-.94 2.06-2.06.94z\"/><path d=\"M17.41 7.96l-1.37-1.37c-.4-.4-.92-.59-1.43-.59-.52 0-1.04.2-1.43.59L10.3 9.45l-7.72 7.72c-.78.78-.78 2.05 0 2.83L4 21.41c.39.39.9.59 1.41.59.51 0 1.02-.2 1.41-.59l7.78-7.78 2.81-2.81c.8-.78.8-2.07 0-2.86zM5.41 20L4 18.59l7.72-7.72 1.47 1.35L5.41 20z\"/>\n",
              "  </svg>\n",
              "      </button>\n",
              "      \n",
              "  <style>\n",
              "    .colab-df-container {\n",
              "      display:flex;\n",
              "      flex-wrap:wrap;\n",
              "      gap: 12px;\n",
              "    }\n",
              "\n",
              "    .colab-df-convert {\n",
              "      background-color: #E8F0FE;\n",
              "      border: none;\n",
              "      border-radius: 50%;\n",
              "      cursor: pointer;\n",
              "      display: none;\n",
              "      fill: #1967D2;\n",
              "      height: 32px;\n",
              "      padding: 0 0 0 0;\n",
              "      width: 32px;\n",
              "    }\n",
              "\n",
              "    .colab-df-convert:hover {\n",
              "      background-color: #E2EBFA;\n",
              "      box-shadow: 0px 1px 2px rgba(60, 64, 67, 0.3), 0px 1px 3px 1px rgba(60, 64, 67, 0.15);\n",
              "      fill: #174EA6;\n",
              "    }\n",
              "\n",
              "    [theme=dark] .colab-df-convert {\n",
              "      background-color: #3B4455;\n",
              "      fill: #D2E3FC;\n",
              "    }\n",
              "\n",
              "    [theme=dark] .colab-df-convert:hover {\n",
              "      background-color: #434B5C;\n",
              "      box-shadow: 0px 1px 3px 1px rgba(0, 0, 0, 0.15);\n",
              "      filter: drop-shadow(0px 1px 2px rgba(0, 0, 0, 0.3));\n",
              "      fill: #FFFFFF;\n",
              "    }\n",
              "  </style>\n",
              "\n",
              "      <script>\n",
              "        const buttonEl =\n",
              "          document.querySelector('#df-c305a5ec-cdb0-4dbf-aaf0-3b3b5c4d1959 button.colab-df-convert');\n",
              "        buttonEl.style.display =\n",
              "          google.colab.kernel.accessAllowed ? 'block' : 'none';\n",
              "\n",
              "        async function convertToInteractive(key) {\n",
              "          const element = document.querySelector('#df-c305a5ec-cdb0-4dbf-aaf0-3b3b5c4d1959');\n",
              "          const dataTable =\n",
              "            await google.colab.kernel.invokeFunction('convertToInteractive',\n",
              "                                                     [key], {});\n",
              "          if (!dataTable) return;\n",
              "\n",
              "          const docLinkHtml = 'Like what you see? Visit the ' +\n",
              "            '<a target=\"_blank\" href=https://colab.research.google.com/notebooks/data_table.ipynb>data table notebook</a>'\n",
              "            + ' to learn more about interactive tables.';\n",
              "          element.innerHTML = '';\n",
              "          dataTable['output_type'] = 'display_data';\n",
              "          await google.colab.output.renderOutput(dataTable, element);\n",
              "          const docLink = document.createElement('div');\n",
              "          docLink.innerHTML = docLinkHtml;\n",
              "          element.appendChild(docLink);\n",
              "        }\n",
              "      </script>\n",
              "    </div>\n",
              "  </div>\n",
              "  "
            ],
            "text/plain": [
              "                                                dokumen  anger  ...  sadness  shame\n",
              "0     [on, days, when, i, feel, close, to, my, partn...      0  ...        0      0\n",
              "1     [every, time, i, imagine, that, someone, i, lo...      0  ...        0      0\n",
              "2     [when, i, had, been, obviously, unjustly, trea...      1  ...        0      0\n",
              "3     [when, i, think, about, the, short, time, that...      0  ...        1      0\n",
              "4     [at, a, gathering, i, found, myself, involunta...      0  ...        0      0\n",
              "...                                                 ...    ...  ...      ...    ...\n",
              "7511  [two, years, back, someone, invited, me, to, b...      0  ...        0      1\n",
              "7512  [i, had, taken, the, responsibility, to, do, s...      0  ...        0      1\n",
              "7513  [i, was, at, home, and, i, heard, a, loud, sou...      0  ...        0      0\n",
              "7514  [i, did, not, do, the, homework, that, the, te...      0  ...        0      0\n",
              "7515  [i, had, shouted, at, my, younger, brother, an...      0  ...        0      0\n",
              "\n",
              "[7516 rows x 8 columns]"
            ]
          },
          "metadata": {},
          "execution_count": 8
        }
      ]
    },
    {
      "cell_type": "markdown",
      "source": [
        "cek null"
      ],
      "metadata": {
        "id": "W8Xn40ztuDXe"
      }
    },
    {
      "cell_type": "code",
      "metadata": {
        "colab": {
          "base_uri": "https://localhost:8080/"
        },
        "id": "1fA1cx3AudMO",
        "outputId": "95ca2e55-de94-42d1-a85a-5fb496b38e41"
      },
      "source": [
        "df_new.isnull().sum()"
      ],
      "execution_count": 9,
      "outputs": [
        {
          "output_type": "execute_result",
          "data": {
            "text/plain": [
              "dokumen    0\n",
              "anger      0\n",
              "disgust    0\n",
              "fear       0\n",
              "guilt      0\n",
              "joy        0\n",
              "sadness    0\n",
              "shame      0\n",
              "dtype: int64"
            ]
          },
          "metadata": {},
          "execution_count": 9
        }
      ]
    },
    {
      "cell_type": "markdown",
      "source": [
        "padding"
      ],
      "metadata": {
        "id": "xRJH3DC6vu0t"
      }
    },
    {
      "cell_type": "code",
      "metadata": {
        "id": "YaLeDSfswwU6"
      },
      "source": [
        "max_features = paling_panjang+2"
      ],
      "execution_count": 10,
      "outputs": []
    },
    {
      "cell_type": "code",
      "source": [
        "max_features"
      ],
      "metadata": {
        "colab": {
          "base_uri": "https://localhost:8080/"
        },
        "id": "-fP0dcsyBMGP",
        "outputId": "6c8b9e82-6a29-43de-e949-11573f1177e0"
      },
      "execution_count": 11,
      "outputs": [
        {
          "output_type": "execute_result",
          "data": {
            "text/plain": [
              "180"
            ]
          },
          "metadata": {},
          "execution_count": 11
        }
      ]
    },
    {
      "cell_type": "code",
      "source": [
        "from tensorflow.keras.preprocessing.text import Tokenizer\n",
        "tokenizer = Tokenizer(num_words=10000)\n",
        "tokenizer.fit_on_texts(df.dokumen)"
      ],
      "metadata": {
        "id": "YMJ9pa5xoVqT"
      },
      "execution_count": 12,
      "outputs": []
    },
    {
      "cell_type": "code",
      "source": [
        "np.shape(df.dokumen.iloc[1])"
      ],
      "metadata": {
        "colab": {
          "base_uri": "https://localhost:8080/"
        },
        "id": "2dlcVl-ysZbO",
        "outputId": "867007f6-5016-4d4d-d8cb-5f2358491712"
      },
      "execution_count": 13,
      "outputs": [
        {
          "output_type": "execute_result",
          "data": {
            "text/plain": [
              "(17,)"
            ]
          },
          "metadata": {},
          "execution_count": 13
        }
      ]
    },
    {
      "cell_type": "code",
      "source": [
        "df.dokumen.iloc[1]"
      ],
      "metadata": {
        "colab": {
          "base_uri": "https://localhost:8080/"
        },
        "id": "kVkRpc4rs8rK",
        "outputId": "60776c59-8e6f-4c80-dfdc-e87ae4cd718f"
      },
      "execution_count": 14,
      "outputs": [
        {
          "output_type": "execute_result",
          "data": {
            "text/plain": [
              "['every',\n",
              " 'time',\n",
              " 'i',\n",
              " 'imagine',\n",
              " 'that',\n",
              " 'someone',\n",
              " 'i',\n",
              " 'love',\n",
              " 'or',\n",
              " 'i',\n",
              " 'could',\n",
              " 'contact',\n",
              " 'a',\n",
              " 'serious',\n",
              " 'illness',\n",
              " 'even',\n",
              " 'death']"
            ]
          },
          "metadata": {},
          "execution_count": 14
        }
      ]
    },
    {
      "cell_type": "code",
      "metadata": {
        "id": "Lq7cMk2FwOAd"
      },
      "source": [
        "from keras.preprocessing import sequence\n",
        "from keras.preprocessing.sequence import pad_sequences\n",
        "# from tensorflow.keras.preprocessing.sequence import pad_sequences\n",
        "\n",
        "# seq = tokenizer.texts_to_sequences(df.dokumen)\n",
        "seq_test = tokenizer.texts_to_sequences(df.dokumen)\n",
        "\n",
        "X_pad = sequence.pad_sequences(seq_test, padding='pre', maxlen=max_features)\n",
        "# X_test_pad = pad_sequences(seq_test, padding='post',)\n",
        "\n",
        "# train_padded = pad_sequences(train_sequences, maxlen=max_len, truncating=\"post\", padding=\"post\")"
      ],
      "execution_count": 15,
      "outputs": []
    },
    {
      "cell_type": "code",
      "source": [
        "np.shape(X_pad)\n",
        "# X_pad"
      ],
      "metadata": {
        "colab": {
          "base_uri": "https://localhost:8080/"
        },
        "id": "q8AloIR9DZlu",
        "outputId": "aff3e494-febf-4c28-e998-2f98052b3e9f"
      },
      "execution_count": 16,
      "outputs": [
        {
          "output_type": "execute_result",
          "data": {
            "text/plain": [
              "(7516, 180)"
            ]
          },
          "metadata": {},
          "execution_count": 16
        }
      ]
    },
    {
      "cell_type": "code",
      "source": [
        "jumlah_kata=len(tokenizer.word_index)"
      ],
      "metadata": {
        "id": "0UUqB2O3Mj42"
      },
      "execution_count": 17,
      "outputs": []
    },
    {
      "cell_type": "code",
      "source": [
        "word_index=tokenizer.word_index"
      ],
      "metadata": {
        "id": "godpkxUZAhF_"
      },
      "execution_count": 18,
      "outputs": []
    },
    {
      "cell_type": "code",
      "source": [
        "word_index[\"as\"]"
      ],
      "metadata": {
        "colab": {
          "base_uri": "https://localhost:8080/"
        },
        "id": "NtRtzo1_O2Zq",
        "outputId": "5721dba3-a9e5-422c-da92-b112a80175e8"
      },
      "execution_count": 19,
      "outputs": [
        {
          "output_type": "execute_result",
          "data": {
            "text/plain": [
              "29"
            ]
          },
          "metadata": {},
          "execution_count": 19
        }
      ]
    },
    {
      "cell_type": "code",
      "source": [
        "X_pad[7443]"
      ],
      "metadata": {
        "colab": {
          "base_uri": "https://localhost:8080/"
        },
        "id": "KJO5xF-e_Yl6",
        "outputId": "56cb3ea5-575f-4b91-f223-a1cee5546a3c"
      },
      "execution_count": 20,
      "outputs": [
        {
          "output_type": "execute_result",
          "data": {
            "text/plain": [
              "array([   0,    0,    3,  153,  180,   79,    1,    7,  389,   15,    2,\n",
              "        184,   18,    2,  184,  391,  120,  196,  118,    2,  184,    1,\n",
              "         11,  447,    2, 2400, 1215,    9, 1571,    4,  513,   15,    2,\n",
              "        184, 1334,    6,    8,    1,   46,  118,    2,  184,    1,  238,\n",
              "        534, 1571,  118,    2, 1566,  838,    4, 1623,    2,  184, 1334,\n",
              "          1,   91,   13,    1,   11,  945,    6,   96,    4,  107, 1048,\n",
              "        251,    2,  184,  418,  224,   12,    6,  103,   12,   10,   24,\n",
              "       1754,  130,  179,    2, 1571,   36, 1506,   18,    2, 3169,    9,\n",
              "          2, 1566,   20,   11,   14,  277,   12, 1180,    6,   63,  421,\n",
              "          3, 9128,    9, 1571,   10,    2, 1566,    1,   69,   14,  424,\n",
              "         31,    6,    2,  418,  409, 9129,   12,   20,   74,   12,  105,\n",
              "         90,    6,   18,  143,    1, 9130,    3, 3318, 1890,   10,    2,\n",
              "       1566,  139,    4,  107,  101,   32,   40,  140,    1,   86,   13,\n",
              "          1,   11,  726,    3,  153, 1571,   10,    5, 1961,    6,   11,\n",
              "         14,  945,  296,   15,    2, 1334,    2,   67,   35,   33,    1,\n",
              "         11,  491,    2,  184,    1,   69,  229,  624,   40, 1996,   12,\n",
              "          6,    1,   22,  151], dtype=int32)"
            ]
          },
          "metadata": {},
          "execution_count": 20
        }
      ]
    },
    {
      "cell_type": "code",
      "metadata": {
        "id": "W2Elw8wBv8WE",
        "colab": {
          "base_uri": "https://localhost:8080/"
        },
        "outputId": "f7a3ceac-b24f-4000-eaf2-32d7127bf83e"
      },
      "source": [
        "X = X_pad\n",
        "y = df_new[['anger', 'disgust', 'fear', 'guilt', 'joy', 'sadness', 'shame']].values\n",
        "print(np.shape(X))\n",
        "print(np.shape(y))"
      ],
      "execution_count": 21,
      "outputs": [
        {
          "output_type": "stream",
          "name": "stdout",
          "text": [
            "(7516, 180)\n",
            "(7516, 7)\n"
          ]
        }
      ]
    },
    {
      "cell_type": "markdown",
      "source": [
        "load model word embedding"
      ],
      "metadata": {
        "id": "H6PacQf_tRL9"
      }
    },
    {
      "cell_type": "code",
      "source": [
        "pakai_model=1"
      ],
      "metadata": {
        "id": "7xkX3itbaKcM"
      },
      "execution_count": 22,
      "outputs": []
    },
    {
      "cell_type": "code",
      "source": [
        "from gensim.models import word2vec\n",
        "!pip install glove-python-binary\n",
        "from glove import Glove\n",
        "from glove import Corpus"
      ],
      "metadata": {
        "colab": {
          "base_uri": "https://localhost:8080/"
        },
        "id": "U7xbq3pvaOO4",
        "outputId": "5718a317-bba3-450e-c1a5-4e816a3e10c7"
      },
      "execution_count": 23,
      "outputs": [
        {
          "output_type": "stream",
          "name": "stdout",
          "text": [
            "Collecting glove-python-binary\n",
            "  Downloading glove_python_binary-0.2.0-cp37-cp37m-manylinux1_x86_64.whl (948 kB)\n",
            "\u001b[K     |████████████████████████████████| 948 kB 10.8 MB/s \n",
            "\u001b[?25hRequirement already satisfied: numpy in /usr/local/lib/python3.7/dist-packages (from glove-python-binary) (1.21.5)\n",
            "Requirement already satisfied: scipy in /usr/local/lib/python3.7/dist-packages (from glove-python-binary) (1.4.1)\n",
            "Installing collected packages: glove-python-binary\n",
            "Successfully installed glove-python-binary-0.2.0\n"
          ]
        }
      ]
    },
    {
      "cell_type": "code",
      "source": [
        "if pakai_model == 1:#load model word2vec\n",
        "  model = gensim.models.word2vec.Word2Vec.load('/content/drive/MyDrive/korpusblogspertiga(preputama).w2v')\n",
        "\n",
        "elif pakai_model == 2:#load model glove\n",
        "  model=Glove.load('/content/drive/MyDrive/korpusblogspertiga(preputama).glove')"
      ],
      "metadata": {
        "id": "HjQcCGwYaX3S"
      },
      "execution_count": 24,
      "outputs": []
    },
    {
      "cell_type": "markdown",
      "source": [
        "cek model word embedding"
      ],
      "metadata": {
        "id": "J0Jlk0notaUr"
      }
    },
    {
      "cell_type": "code",
      "source": [
        "if pakai_model == 1:\n",
        "  print(model.wv.vectors.shape)\n",
        "elif pakai_model == 2:\n",
        "  print(model.word_vectors.shape)"
      ],
      "metadata": {
        "colab": {
          "base_uri": "https://localhost:8080/"
        },
        "id": "oE-vbIpqaca4",
        "outputId": "9022887f-6ce8-46c1-9e8e-64bbf76a71ba"
      },
      "execution_count": 25,
      "outputs": [
        {
          "output_type": "stream",
          "name": "stdout",
          "text": [
            "(1048781, 100)\n"
          ]
        }
      ]
    },
    {
      "cell_type": "code",
      "source": [
        "if pakai_model == 1:\n",
        "  print(model.wv[\"moment\"])\n",
        "elif pakai_model == 2:\n",
        "  print(model.word_vectors[model.dictionary['moment']])"
      ],
      "metadata": {
        "id": "80ry-JxKcK3w",
        "colab": {
          "base_uri": "https://localhost:8080/"
        },
        "outputId": "6b837171-1e8c-4816-8886-a5facde164ac"
      },
      "execution_count": 26,
      "outputs": [
        {
          "output_type": "stream",
          "name": "stdout",
          "text": [
            "[-0.52128315 -0.79088104 -0.15055113 -0.31512925  0.14744855  0.07264802\n",
            " -0.2913117  -0.03864964  0.33448783 -0.38321584 -0.12776025  0.16693452\n",
            " -0.036732    0.736858   -0.22089869  0.30637467 -0.34601235  0.02692696\n",
            "  0.42270225  0.14580129  0.34575212  0.34704852 -0.38253692  0.5232027\n",
            " -0.5892915   0.24635637  0.29069707 -0.15231234  0.23371382 -0.02552057\n",
            "  0.5403861  -0.32759118  0.22016506  0.24308042 -0.33714053 -0.25229603\n",
            "  0.15955421 -0.2699975  -0.07551649 -0.00739359  0.18757325  0.4116258\n",
            " -0.03943484 -0.29445037  0.19409174 -0.49860442 -0.44503042 -0.36773324\n",
            "  0.56713533  0.20831311 -0.00298472  0.267926    0.4929098   0.22879563\n",
            " -0.05912206  0.17915553  0.15342142 -0.18735889 -0.0977503   0.05288584\n",
            " -0.0898988  -0.25296098  0.22592372 -0.01546502 -0.09625263 -0.51878595\n",
            "  0.1541172   0.6803038   0.10103451 -0.02387618  0.5089661  -0.36266452\n",
            "  0.5969234   0.16905098  0.07498565  0.06403165  0.36039498  0.28974342\n",
            "  0.02168966  0.17164262 -0.508625   -0.11300381 -0.2725527  -0.5471821\n",
            " -0.23390158  0.4032553  -0.01326431 -0.1296481  -0.36912835  0.22224939\n",
            " -0.73611575  0.16631842 -0.2022079  -0.06419954  0.30822882  0.31114423\n",
            "  0.14599927  0.01415083  0.60678893 -0.62257844]\n"
          ]
        }
      ]
    },
    {
      "cell_type": "markdown",
      "source": [
        "buat dictionary"
      ],
      "metadata": {
        "id": "rCcjFXR2NOX_"
      }
    },
    {
      "cell_type": "code",
      "source": [
        "num_words = len(word_index) + 1\n",
        "embedding_matrix = np.zeros((num_words, 100))"
      ],
      "metadata": {
        "id": "dbMgDY3tf-cl"
      },
      "execution_count": 27,
      "outputs": []
    },
    {
      "cell_type": "code",
      "source": [
        "word_index[\"germs\"]"
      ],
      "metadata": {
        "colab": {
          "base_uri": "https://localhost:8080/"
        },
        "id": "QBy3_DgRgwbo",
        "outputId": "b58838fa-7aac-41cc-e645-f099b7f8e3cf"
      },
      "execution_count": 28,
      "outputs": [
        {
          "output_type": "execute_result",
          "data": {
            "text/plain": [
              "9204"
            ]
          },
          "metadata": {},
          "execution_count": 28
        }
      ]
    },
    {
      "cell_type": "code",
      "source": [
        "for word, i in word_index.items():\n",
        "  embedding_matrix[i] = model.wv[word]"
      ],
      "metadata": {
        "id": "dY76k1SGNOAG"
      },
      "execution_count": 29,
      "outputs": []
    },
    {
      "cell_type": "code",
      "source": [
        "embedding_matrix"
      ],
      "metadata": {
        "colab": {
          "base_uri": "https://localhost:8080/"
        },
        "id": "OVKmkuYqH0U-",
        "outputId": "e9a5c53f-6468-43dd-88b6-c52b83698a09"
      },
      "execution_count": 30,
      "outputs": [
        {
          "output_type": "execute_result",
          "data": {
            "text/plain": [
              "array([[ 0.        ,  0.        ,  0.        , ...,  0.        ,\n",
              "         0.        ,  0.        ],\n",
              "       [-0.30040976, -0.64987355, -0.24826317, ..., -0.01114162,\n",
              "         0.33765933, -0.29789779],\n",
              "       [-0.14434472, -0.74197435,  0.17227097, ..., -0.21401656,\n",
              "         0.26530993,  0.0227598 ],\n",
              "       ...,\n",
              "       [-0.05346367, -0.19583617,  0.02418035, ..., -0.08031848,\n",
              "         0.03016862, -0.12204677],\n",
              "       [-0.10206933, -0.95014596,  0.03156902, ..., -0.39531717,\n",
              "         0.36152655, -0.16352107],\n",
              "       [-0.49336624, -1.29626536,  0.36917949, ..., -0.29623368,\n",
              "         0.31606525, -0.29229671]])"
            ]
          },
          "metadata": {},
          "execution_count": 30
        }
      ]
    },
    {
      "cell_type": "code",
      "source": [
        "embedding_matrix[7443]"
      ],
      "metadata": {
        "colab": {
          "base_uri": "https://localhost:8080/"
        },
        "id": "HwNGX9M5Hm9h",
        "outputId": "30bb61d4-2d37-4ac8-81e3-b55ae8ac17da"
      },
      "execution_count": 31,
      "outputs": [
        {
          "output_type": "execute_result",
          "data": {
            "text/plain": [
              "array([-0.65628409, -0.26406175, -0.0542377 ,  0.09378553,  0.19423608,\n",
              "        0.0703275 ,  0.11408962,  0.10963756,  0.07403959, -1.44088972,\n",
              "        0.27981892, -0.04768158, -0.06128363,  0.40507135, -0.03824425,\n",
              "        0.71036762, -0.31370765, -0.19397451,  0.12980455,  0.38473517,\n",
              "        0.09896361,  0.34347004, -0.36360282,  0.57896698, -0.42181653,\n",
              "        0.15653978, -0.34950194,  0.25535324,  0.14426064,  0.57930565,\n",
              "        0.10374044,  0.12194508,  0.88608664,  0.4315874 , -0.08928371,\n",
              "       -0.15223441, -0.74243546, -0.18162596, -0.05018938,  0.07299133,\n",
              "       -0.09815373, -0.40111592, -0.38167989, -0.16913432,  0.33609581,\n",
              "       -0.10462926, -0.19438459,  0.06948319,  0.44773561,  0.19677162,\n",
              "        0.74682468,  0.22669141,  0.28657681,  0.0385992 , -0.05412858,\n",
              "        0.28946379,  0.03843797, -0.25655964, -0.68379039,  0.39793169,\n",
              "        0.03824979, -0.52767956,  0.40281668,  0.41467869, -0.14321037,\n",
              "       -0.35630605, -0.57767624,  0.40613645,  0.49984947, -0.38477468,\n",
              "        0.09057456,  0.4747338 ,  0.10863181,  0.17248923, -0.1093732 ,\n",
              "        0.2959505 , -0.22680864,  0.42466384, -0.10087424,  0.5244965 ,\n",
              "       -0.85500634, -0.19815923, -0.7555064 , -0.10046902, -0.26384917,\n",
              "        0.09042185,  0.15677392,  0.48853138,  0.1819866 , -0.57358843,\n",
              "       -0.50315297, -0.12026777,  0.24817061,  0.25178695,  0.37137362,\n",
              "       -0.27648732,  0.14732511,  0.04030045,  0.13276437,  0.23568299])"
            ]
          },
          "metadata": {},
          "execution_count": 31
        }
      ]
    },
    {
      "cell_type": "code",
      "source": [
        "embedding_matrix.shape"
      ],
      "metadata": {
        "colab": {
          "base_uri": "https://localhost:8080/"
        },
        "id": "lMANpU6jhT6V",
        "outputId": "8d4c2259-ebbc-455c-c1b5-d7c3aaebe9ad"
      },
      "execution_count": 32,
      "outputs": [
        {
          "output_type": "execute_result",
          "data": {
            "text/plain": [
              "(9205, 100)"
            ]
          },
          "metadata": {},
          "execution_count": 32
        }
      ]
    },
    {
      "cell_type": "markdown",
      "source": [
        "average base ektraksi fitur (jika makai)"
      ],
      "metadata": {
        "id": "gWb0Xc90tdpE"
      }
    },
    {
      "cell_type": "code",
      "source": [
        "import array\n",
        "ekstrak=[]\n",
        "temp=array.array('i',(0,)*100)\n",
        "\n",
        "if pakai_model == 1:\n",
        "  for senten in df.dokumen:\n",
        "    for word in senten:\n",
        "      temp=np.add(temp,model.wv[word])\n",
        "    temp=temp/len(senten)\n",
        "    ekstrak.append(temp)\n",
        "\n",
        "elif pakai_model == 2:\n",
        "  for senten in df.dokumen:\n",
        "    for word in senten:\n",
        "      temp=np.add(temp,model.word_vectors[model.dictionary[word]])\n",
        "    temp=temp/len(senten)\n",
        "    ekstrak.append(temp)\n",
        "\n",
        "has_vec=ekstrak"
      ],
      "metadata": {
        "id": "MKWo_7kicQVk"
      },
      "execution_count": 32,
      "outputs": []
    },
    {
      "cell_type": "markdown",
      "source": [
        "1 fold"
      ],
      "metadata": {
        "id": "_fIhaK0GduC9"
      }
    },
    {
      "cell_type": "markdown",
      "source": [
        "train test split"
      ],
      "metadata": {
        "id": "LZFL8-jhO0Vk"
      }
    },
    {
      "cell_type": "code",
      "source": [
        "print(np.shape(X))\n",
        "print(np.shape(y))"
      ],
      "metadata": {
        "colab": {
          "base_uri": "https://localhost:8080/"
        },
        "id": "6arVj2_eP5-F",
        "outputId": "c2b8d79e-49c5-4597-c1ee-09185bcc50dd"
      },
      "execution_count": 33,
      "outputs": [
        {
          "output_type": "stream",
          "name": "stdout",
          "text": [
            "(7516, 180)\n",
            "(7516, 7)\n"
          ]
        }
      ]
    },
    {
      "cell_type": "code",
      "metadata": {
        "id": "QuJf3YwPvji9"
      },
      "source": [
        "X_train, X_test, y_train, y_test = train_test_split(X, y, random_state=0, test_size=0.1)\n",
        "X2_train, X2_test, y2_train, y2_test = train_test_split(X, df.emosi, random_state=0, test_size=0.1)"
      ],
      "execution_count": 34,
      "outputs": []
    },
    {
      "cell_type": "code",
      "source": [
        "print(np.shape(X_train))\n",
        "print(np.shape(X_test))\n",
        "print(np.shape(y_train))\n",
        "print(np.shape(y_test))"
      ],
      "metadata": {
        "colab": {
          "base_uri": "https://localhost:8080/"
        },
        "id": "TLoQpldJddLs",
        "outputId": "ca024a57-73b0-409e-f2ab-f8be99668096"
      },
      "execution_count": 35,
      "outputs": [
        {
          "output_type": "stream",
          "name": "stdout",
          "text": [
            "(6764, 180)\n",
            "(752, 180)\n",
            "(6764, 7)\n",
            "(752, 7)\n"
          ]
        }
      ]
    },
    {
      "cell_type": "markdown",
      "source": [
        "load package"
      ],
      "metadata": {
        "id": "-159-Yphd3HV"
      }
    },
    {
      "cell_type": "code",
      "source": [
        "from tensorflow.keras.models import Sequential\n",
        "from tensorflow.keras.layers import Embedding, Dense, LSTM, Dropout, Bidirectional\n",
        "import tensorflow as tf\n",
        "from keras.initializers import Constant"
      ],
      "metadata": {
        "id": "aRLjlwqMOVFP"
      },
      "execution_count": 36,
      "outputs": []
    },
    {
      "cell_type": "markdown",
      "source": [
        "buat arsitektur lstm"
      ],
      "metadata": {
        "id": "bTSW7c2ZILHF"
      }
    },
    {
      "cell_type": "code",
      "metadata": {
        "colab": {
          "base_uri": "https://localhost:8080/"
        },
        "id": "BV2d3Q0Oxmgo",
        "outputId": "f54acc7d-a85b-4089-dd2b-e9f38fc8df21"
      },
      "source": [
        "# Creating model\n",
        "model = Sequential()\n",
        "\n",
        "# model.add(Embedding(num_words, 100, embeddings_initializer=Constant(embedding_matrix), input_length=max_features, trainable=False,))\n",
        "# model.add(LSTM(100, dropout=0.1))\n",
        "# model.add(Dense(7, activation=\"softmax\"))\n",
        "\n",
        "model.add(Embedding(num_words, 100, input_length=max_features))\n",
        "model.add(Dropout(0.3))\n",
        "model.add(Bidirectional(LSTM(100, dropout=0.1)))\n",
        "model.add(Dropout(0.3))\n",
        "model.add(Dense(50, activation='relu'))\n",
        "model.add(Dropout(0.3))\n",
        "# model.add(Dense(800, activation='relu'))\n",
        "# model.add(Dropout(0.3))\n",
        "# model.add(Dense(50, activation='relu'))\n",
        "# model.add(Dropout(0.3))\n",
        "model.add(Dense(7, activation='softmax'))\n",
        "\n",
        "model.compile(loss='categorical_crossentropy',optimizer= tf.keras.optimizers.Adam(learning_rate=0.0001), metrics=['accuracy'])\n",
        "\n",
        "model.summary()"
      ],
      "execution_count": 63,
      "outputs": [
        {
          "output_type": "stream",
          "name": "stdout",
          "text": [
            "Model: \"sequential_3\"\n",
            "_________________________________________________________________\n",
            " Layer (type)                Output Shape              Param #   \n",
            "=================================================================\n",
            " embedding_3 (Embedding)     (None, 180, 100)          920500    \n",
            "                                                                 \n",
            " dropout_6 (Dropout)         (None, 180, 100)          0         \n",
            "                                                                 \n",
            " bidirectional_3 (Bidirectio  (None, 200)              160800    \n",
            " nal)                                                            \n",
            "                                                                 \n",
            " dropout_7 (Dropout)         (None, 200)               0         \n",
            "                                                                 \n",
            " dense_3 (Dense)             (None, 50)                10050     \n",
            "                                                                 \n",
            " dropout_8 (Dropout)         (None, 50)                0         \n",
            "                                                                 \n",
            " dense_4 (Dense)             (None, 7)                 357       \n",
            "                                                                 \n",
            "=================================================================\n",
            "Total params: 1,091,707\n",
            "Trainable params: 1,091,707\n",
            "Non-trainable params: 0\n",
            "_________________________________________________________________\n"
          ]
        }
      ]
    },
    {
      "cell_type": "code",
      "metadata": {
        "id": "X3MnC_IB6Dra"
      },
      "source": [
        "from keras import callbacks\n",
        "\n",
        "earlystopping = callbacks.EarlyStopping(monitor =\"val_loss\", \n",
        "                                        mode =\"min\", patience = 3, \n",
        "                                        restore_best_weights = True)"
      ],
      "execution_count": 48,
      "outputs": []
    },
    {
      "cell_type": "code",
      "source": [
        "# history = model.fit(X_train, y_train, epochs=30, \n",
        "#                     validation_data=(X_test, y_test), \n",
        "#                     callbacks=[earlystopping], verbose=1)\n",
        "\n",
        "history = model.fit(X_train, y_train, epochs=50, verbose=1)"
      ],
      "metadata": {
        "id": "g4gncq5lwx65",
        "colab": {
          "base_uri": "https://localhost:8080/"
        },
        "outputId": "b0d24460-46c2-4d4d-d70c-9b53f7e4a76d"
      },
      "execution_count": 64,
      "outputs": [
        {
          "output_type": "stream",
          "name": "stdout",
          "text": [
            "Epoch 1/50\n",
            "212/212 [==============================] - 22s 83ms/step - loss: 1.9454 - accuracy: 0.1440\n",
            "Epoch 2/50\n",
            "212/212 [==============================] - 17s 79ms/step - loss: 1.9399 - accuracy: 0.1703\n",
            "Epoch 3/50\n",
            "212/212 [==============================] - 16s 76ms/step - loss: 1.9278 - accuracy: 0.1913\n",
            "Epoch 4/50\n",
            "212/212 [==============================] - 16s 75ms/step - loss: 1.8915 - accuracy: 0.2324\n",
            "Epoch 5/50\n",
            "212/212 [==============================] - 16s 75ms/step - loss: 1.7685 - accuracy: 0.2781\n",
            "Epoch 6/50\n",
            "212/212 [==============================] - 16s 74ms/step - loss: 1.6553 - accuracy: 0.3270\n",
            "Epoch 7/50\n",
            "212/212 [==============================] - 16s 75ms/step - loss: 1.5649 - accuracy: 0.3699\n",
            "Epoch 8/50\n",
            "212/212 [==============================] - 16s 75ms/step - loss: 1.4696 - accuracy: 0.3907\n",
            "Epoch 9/50\n",
            "212/212 [==============================] - 16s 74ms/step - loss: 1.3964 - accuracy: 0.4277\n",
            "Epoch 10/50\n",
            "212/212 [==============================] - 16s 74ms/step - loss: 1.3055 - accuracy: 0.4752\n",
            "Epoch 11/50\n",
            "212/212 [==============================] - 16s 74ms/step - loss: 1.2481 - accuracy: 0.5065\n",
            "Epoch 12/50\n",
            "212/212 [==============================] - 16s 73ms/step - loss: 1.1763 - accuracy: 0.5485\n",
            "Epoch 13/50\n",
            "212/212 [==============================] - 15s 73ms/step - loss: 1.1076 - accuracy: 0.5764\n",
            "Epoch 14/50\n",
            "212/212 [==============================] - 15s 73ms/step - loss: 1.0439 - accuracy: 0.6045\n",
            "Epoch 15/50\n",
            "212/212 [==============================] - 15s 73ms/step - loss: 0.9882 - accuracy: 0.6311\n",
            "Epoch 16/50\n",
            "212/212 [==============================] - 16s 73ms/step - loss: 0.9339 - accuracy: 0.6583\n",
            "Epoch 17/50\n",
            "212/212 [==============================] - 16s 73ms/step - loss: 0.8812 - accuracy: 0.6852\n",
            "Epoch 18/50\n",
            "212/212 [==============================] - 16s 73ms/step - loss: 0.8423 - accuracy: 0.6938\n",
            "Epoch 19/50\n",
            "212/212 [==============================] - 16s 73ms/step - loss: 0.8014 - accuracy: 0.7173\n",
            "Epoch 20/50\n",
            "212/212 [==============================] - 16s 73ms/step - loss: 0.7582 - accuracy: 0.7364\n",
            "Epoch 21/50\n",
            "212/212 [==============================] - 16s 73ms/step - loss: 0.7243 - accuracy: 0.7472\n",
            "Epoch 22/50\n",
            "212/212 [==============================] - 15s 73ms/step - loss: 0.6839 - accuracy: 0.7589\n",
            "Epoch 23/50\n",
            "212/212 [==============================] - 16s 73ms/step - loss: 0.6651 - accuracy: 0.7691\n",
            "Epoch 24/50\n",
            "212/212 [==============================] - 16s 73ms/step - loss: 0.6499 - accuracy: 0.7796\n",
            "Epoch 25/50\n",
            "212/212 [==============================] - 15s 73ms/step - loss: 0.6100 - accuracy: 0.7930\n",
            "Epoch 26/50\n",
            "212/212 [==============================] - 15s 72ms/step - loss: 0.5874 - accuracy: 0.8012\n",
            "Epoch 27/50\n",
            "212/212 [==============================] - 15s 72ms/step - loss: 0.5676 - accuracy: 0.8084\n",
            "Epoch 28/50\n",
            "212/212 [==============================] - 15s 73ms/step - loss: 0.5518 - accuracy: 0.8185\n",
            "Epoch 29/50\n",
            "212/212 [==============================] - 15s 72ms/step - loss: 0.5225 - accuracy: 0.8232\n",
            "Epoch 30/50\n",
            "212/212 [==============================] - 15s 72ms/step - loss: 0.5018 - accuracy: 0.8316\n",
            "Epoch 31/50\n",
            "212/212 [==============================] - 15s 72ms/step - loss: 0.4975 - accuracy: 0.8380\n",
            "Epoch 32/50\n",
            "212/212 [==============================] - 15s 72ms/step - loss: 0.4896 - accuracy: 0.8377\n",
            "Epoch 33/50\n",
            "212/212 [==============================] - 15s 72ms/step - loss: 0.4666 - accuracy: 0.8479\n",
            "Epoch 34/50\n",
            "212/212 [==============================] - 15s 72ms/step - loss: 0.4489 - accuracy: 0.8520\n",
            "Epoch 35/50\n",
            "212/212 [==============================] - 15s 72ms/step - loss: 0.4448 - accuracy: 0.8563\n",
            "Epoch 36/50\n",
            "212/212 [==============================] - 15s 73ms/step - loss: 0.4266 - accuracy: 0.8658\n",
            "Epoch 37/50\n",
            "212/212 [==============================] - 15s 73ms/step - loss: 0.3987 - accuracy: 0.8709\n",
            "Epoch 38/50\n",
            "212/212 [==============================] - 15s 72ms/step - loss: 0.3996 - accuracy: 0.8742\n",
            "Epoch 39/50\n",
            "212/212 [==============================] - 15s 73ms/step - loss: 0.3973 - accuracy: 0.8718\n",
            "Epoch 40/50\n",
            "212/212 [==============================] - 15s 72ms/step - loss: 0.3694 - accuracy: 0.8842\n",
            "Epoch 41/50\n",
            "212/212 [==============================] - 15s 72ms/step - loss: 0.3657 - accuracy: 0.8819\n",
            "Epoch 42/50\n",
            "212/212 [==============================] - 15s 72ms/step - loss: 0.3617 - accuracy: 0.8868\n",
            "Epoch 43/50\n",
            "212/212 [==============================] - 15s 71ms/step - loss: 0.3452 - accuracy: 0.8865\n",
            "Epoch 44/50\n",
            "212/212 [==============================] - 15s 72ms/step - loss: 0.3481 - accuracy: 0.8894\n",
            "Epoch 45/50\n",
            "212/212 [==============================] - 15s 71ms/step - loss: 0.3474 - accuracy: 0.8896\n",
            "Epoch 46/50\n",
            "212/212 [==============================] - 15s 71ms/step - loss: 0.3246 - accuracy: 0.8999\n",
            "Epoch 47/50\n",
            "212/212 [==============================] - 15s 71ms/step - loss: 0.3166 - accuracy: 0.9030\n",
            "Epoch 48/50\n",
            "212/212 [==============================] - 15s 71ms/step - loss: 0.3146 - accuracy: 0.9021\n",
            "Epoch 49/50\n",
            "212/212 [==============================] - 15s 71ms/step - loss: 0.3012 - accuracy: 0.9051\n",
            "Epoch 50/50\n",
            "212/212 [==============================] - 15s 71ms/step - loss: 0.2945 - accuracy: 0.9097\n"
          ]
        }
      ]
    },
    {
      "cell_type": "code",
      "source": [
        "predict_x=model.predict(X_test)\n",
        "y_temp=np.argmax(predict_x,axis=1)\n",
        "\n",
        "y_pred_num=[]\n",
        "y_pred_num.extend(y_temp)"
      ],
      "metadata": {
        "id": "JajzzTv-yBM4"
      },
      "execution_count": 65,
      "outputs": []
    },
    {
      "cell_type": "code",
      "source": [
        "unique, counts = np.unique(y_temp, return_counts=True)\n",
        "dict(zip(unique, counts))"
      ],
      "metadata": {
        "id": "bkb36k422G_c",
        "colab": {
          "base_uri": "https://localhost:8080/"
        },
        "outputId": "7d6451c6-75c8-4e00-a4d8-1f8e281f25bf"
      },
      "execution_count": 66,
      "outputs": [
        {
          "output_type": "execute_result",
          "data": {
            "text/plain": [
              "{0: 110, 1: 115, 2: 104, 3: 104, 4: 106, 5: 100, 6: 113}"
            ]
          },
          "metadata": {},
          "execution_count": 66
        }
      ]
    },
    {
      "cell_type": "code",
      "source": [
        "np.sum(counts)"
      ],
      "metadata": {
        "id": "0n52c0JN4veS",
        "colab": {
          "base_uri": "https://localhost:8080/"
        },
        "outputId": "234e0eef-743c-4aac-ae40-e9977dfdcb72"
      },
      "execution_count": 67,
      "outputs": [
        {
          "output_type": "execute_result",
          "data": {
            "text/plain": [
              "752"
            ]
          },
          "metadata": {},
          "execution_count": 67
        }
      ]
    },
    {
      "cell_type": "code",
      "source": [
        "y_pred=[]\n",
        "\n",
        "for num in y_pred_num:\n",
        "  if num == 0:\n",
        "    y_pred.append('anger')\n",
        "  elif num == 1:\n",
        "    y_pred.append('disgust')\n",
        "  elif num == 2:\n",
        "    y_pred.append('fear')\n",
        "  elif num == 3:\n",
        "    y_pred.append('guilt')\n",
        "  elif num == 4:\n",
        "    y_pred.append('joy')\n",
        "  elif num == 5:\n",
        "    y_pred.append('sadness')\n",
        "  elif num == 6:\n",
        "    y_pred.append('shame')"
      ],
      "metadata": {
        "id": "TTt4LN0efhWZ"
      },
      "execution_count": 68,
      "outputs": []
    },
    {
      "cell_type": "code",
      "source": [
        "from sklearn.metrics import confusion_matrix\n",
        "from sklearn.metrics import accuracy_score\n",
        "from sklearn.model_selection import cross_val_predict\n",
        "import matplotlib.pyplot as plt\n",
        "from sklearn.metrics import ConfusionMatrixDisplay\n",
        "from sklearn.metrics import precision_recall_fscore_support\n",
        "from sklearn.model_selection import cross_val_score"
      ],
      "metadata": {
        "id": "ptDrww04fa2s"
      },
      "execution_count": 69,
      "outputs": []
    },
    {
      "cell_type": "code",
      "source": [
        "ConfusionMatrixDisplay.from_predictions(y2_test, y_pred)\n",
        "plt.show()\n",
        "print(accuracy_score(y2_test, y_pred))\n",
        "print(precision_recall_fscore_support(y2_test, y_pred, average='macro'))"
      ],
      "metadata": {
        "id": "R7Tjhc_efbgy",
        "colab": {
          "base_uri": "https://localhost:8080/",
          "height": 316
        },
        "outputId": "3ce81244-c43f-4e2b-f9c7-866d9af944fa"
      },
      "execution_count": 70,
      "outputs": [
        {
          "output_type": "display_data",
          "data": {
            "image/png": "[encoded data removed]",
            "text/plain": [
              "<Figure size 432x288 with 2 Axes>"
            ]
          },
          "metadata": {
            "needs_background": "light"
          }
        },
        {
          "output_type": "stream",
          "name": "stdout",
          "text": [
            "0.5199468085106383\n",
            "(0.5225969131306453, 0.527593194425102, 0.523323522315002, None)\n"
          ]
        }
      ]
    },
    {
      "cell_type": "markdown",
      "source": [
        "10 fold"
      ],
      "metadata": {
        "id": "HpSixKGmdn8T"
      }
    },
    {
      "cell_type": "code",
      "source": [
        "print(np.shape(X))\n",
        "print(np.shape(y))"
      ],
      "metadata": {
        "id": "H8w0BKsmdg-F"
      },
      "execution_count": null,
      "outputs": []
    },
    {
      "cell_type": "code",
      "source": [
        "from sklearn.model_selection import KFold\n",
        "\n",
        "kf = KFold(n_splits=10)\n",
        "\n",
        "y_pred_num=[]\n",
        "\n",
        "for train_index, test_index in kf.split(X,y):\n",
        "\n",
        "  model = Sequential()\n",
        "\n",
        "  model.add(Embedding(num_words, 100, embeddings_initializer=Constant(embedding_matrix), input_length=max_features, trainable=False,))\n",
        "  model.add(Dropout(0.3))\n",
        "  model.add(Bidirectional(LSTM(100, dropout=0.1)))\n",
        "  model.add(Dropout(0.3))\n",
        "  model.add(Dense(82, activation='relu'))\n",
        "  model.add(Dropout(0.3))\n",
        "  model.add(Dense(64, activation='relu'))\n",
        "  model.add(Dropout(0.3))\n",
        "  model.add(Dense(7, activation='softmax'))\n",
        "\n",
        "  model.compile(loss='categorical_crossentropy',optimizer= tf.keras.optimizers.Adam(), metrics=['accuracy'])\n",
        "\n",
        "  history = model.fit(X[train_index], y[train_index], epochs=20,verbose=1)\n",
        "\n",
        "  predict_x=model.predict(X[test_index])\n",
        "  y_temp=np.argmax(predict_x,axis=1)\n",
        "\n",
        "  y_pred_num.extend(y_temp)"
      ],
      "metadata": {
        "id": "bCJuFXFYQQep"
      },
      "execution_count": null,
      "outputs": []
    },
    {
      "cell_type": "code",
      "source": [
        "np.shape(y_pred_num)"
      ],
      "metadata": {
        "colab": {
          "base_uri": "https://localhost:8080/"
        },
        "id": "n2nSWwPR7gO1",
        "outputId": "2ba5a093-8da7-45ab-d726-4104ca52380b"
      },
      "execution_count": null,
      "outputs": [
        {
          "output_type": "execute_result",
          "data": {
            "text/plain": [
              "(7516,)"
            ]
          },
          "metadata": {},
          "execution_count": 32
        }
      ]
    },
    {
      "cell_type": "code",
      "source": [
        "y_pred=[]\n",
        "\n",
        "for num in y_pred_num:\n",
        "  if num == 0:\n",
        "    y_pred.append('anger')\n",
        "  elif num == 1:\n",
        "    y_pred.append('disgust')\n",
        "  elif num == 2:\n",
        "    y_pred.append('fear')\n",
        "  elif num == 3:\n",
        "    y_pred.append('guilt')\n",
        "  elif num == 4:\n",
        "    y_pred.append('joy')\n",
        "  elif num == 5:\n",
        "    y_pred.append('sadness')\n",
        "  elif num == 6:\n",
        "    y_pred.append('shame')"
      ],
      "metadata": {
        "id": "1jBzuxyC8cgm"
      },
      "execution_count": null,
      "outputs": []
    },
    {
      "cell_type": "code",
      "source": [
        "np.shape(y)"
      ],
      "metadata": {
        "colab": {
          "base_uri": "https://localhost:8080/"
        },
        "id": "-PEu_0Jx-gtA",
        "outputId": "f7e7f6e7-19bf-4806-f0c3-227dedf4d4d1"
      },
      "execution_count": null,
      "outputs": [
        {
          "output_type": "execute_result",
          "data": {
            "text/plain": [
              "(7516, 7)"
            ]
          },
          "metadata": {},
          "execution_count": 43
        }
      ]
    },
    {
      "cell_type": "code",
      "source": [
        "np.shape(y_pred)"
      ],
      "metadata": {
        "colab": {
          "base_uri": "https://localhost:8080/"
        },
        "id": "hMy7j2__-CAd",
        "outputId": "66a86a51-91e6-4197-dfb3-b596218239e9"
      },
      "execution_count": null,
      "outputs": [
        {
          "output_type": "execute_result",
          "data": {
            "text/plain": [
              "(7516,)"
            ]
          },
          "metadata": {},
          "execution_count": 44
        }
      ]
    },
    {
      "cell_type": "code",
      "source": [
        "from sklearn.metrics import confusion_matrix\n",
        "from sklearn.metrics import accuracy_score\n",
        "from sklearn.model_selection import cross_val_predict\n",
        "import matplotlib.pyplot as plt\n",
        "from sklearn.metrics import ConfusionMatrixDisplay\n",
        "from sklearn.metrics import precision_recall_fscore_support\n",
        "from sklearn.model_selection import cross_val_score"
      ],
      "metadata": {
        "id": "ZcUoC7J-9xC5"
      },
      "execution_count": null,
      "outputs": []
    },
    {
      "cell_type": "code",
      "source": [
        "ConfusionMatrixDisplay.from_predictions(df.emosi, y_pred)\n",
        "plt.show()\n",
        "print(accuracy_score(df.emosi, y_pred))\n",
        "print(precision_recall_fscore_support(df.emosi, y_pred, average='macro'))"
      ],
      "metadata": {
        "colab": {
          "base_uri": "https://localhost:8080/",
          "height": 316
        },
        "id": "wCPvnxgd86kb",
        "outputId": "21691c03-9199-40c0-c9df-b85c2b24ce82"
      },
      "execution_count": null,
      "outputs": [
        {
          "output_type": "display_data",
          "data": {
            "image/png": "[encoded data removed]",
            "text/plain": [
              "<Figure size 432x288 with 2 Axes>"
            ]
          },
          "metadata": {
            "needs_background": "light"
          }
        },
        {
          "output_type": "stream",
          "name": "stdout",
          "text": [
            "0.591138903672166\n",
            "(0.5899739183213537, 0.5902391489142544, 0.5868668315357489, None)\n"
          ]
        }
      ]
    },
    {
      "cell_type": "code",
      "source": [
        ""
      ],
      "metadata": {
        "id": "1RTHek7p86fG"
      },
      "execution_count": null,
      "outputs": []
    },
    {
      "cell_type": "code",
      "source": [
        ""
      ],
      "metadata": {
        "id": "mpHJy9KA86bM"
      },
      "execution_count": null,
      "outputs": []
    },
    {
      "cell_type": "code",
      "metadata": {
        "colab": {
          "base_uri": "https://localhost:8080/",
          "height": 295
        },
        "id": "S2NyEkGw6eAF",
        "outputId": "e255eccf-cb41-419b-fe04-da4c165a95ee"
      },
      "source": [
        "import matplotlib.pyplot as plt\n",
        "%matplotlib inline\n",
        "\n",
        "plt.figure()\n",
        "plt.plot(history.history[\"accuracy\"], label = \"Train\")\n",
        "plt.plot(history.history[\"val_accuracy\"], label = \"Test\")\n",
        "plt.title(\"Accuracy\")\n",
        "plt.ylabel(\"Acc\")\n",
        "plt.xlabel(\"epochs\")\n",
        "plt.legend()\n",
        "plt.show()"
      ],
      "execution_count": null,
      "outputs": [
        {
          "output_type": "display_data",
          "data": {
            "image/png": "[encoded data removed]",
            "text/plain": [
              "<Figure size 432x288 with 1 Axes>"
            ]
          },
          "metadata": {
            "needs_background": "light"
          }
        }
      ]
    },
    {
      "cell_type": "code",
      "metadata": {
        "colab": {
          "base_uri": "https://localhost:8080/",
          "height": 295
        },
        "id": "1vLsQnhG6lCm",
        "outputId": "91db89c4-421c-456e-b11e-df0ea40b77c3"
      },
      "source": [
        "plt.figure()\n",
        "plt.plot(history.history[\"loss\"], label = \"Train\")\n",
        "plt.plot(history.history[\"val_loss\"], label = \"Test\")\n",
        "plt.title(\"Loss\")\n",
        "plt.ylabel(\"Acc\")\n",
        "plt.xlabel(\"epochs\")\n",
        "plt.legend()\n",
        "plt.show()"
      ],
      "execution_count": null,
      "outputs": [
        {
          "output_type": "display_data",
          "data": {
            "image/png": "[encoded data removed]",
            "text/plain": [
              "<Figure size 432x288 with 1 Axes>"
            ]
          },
          "metadata": {
            "needs_background": "light"
          }
        }
      ]
    },
    {
      "cell_type": "code",
      "metadata": {
        "colab": {
          "base_uri": "https://localhost:8080/"
        },
        "id": "uFnCmfGUvnzh",
        "outputId": "e0ff72c5-59a8-4165-dcaf-19583deaecc9"
      },
      "source": [
        "model.evaluate(X_test, y_test)"
      ],
      "execution_count": null,
      "outputs": [
        {
          "output_type": "stream",
          "name": "stdout",
          "text": [
            "47/47 [==============================] - 1s 11ms/step - loss: 1.0708 - accuracy: 0.6257\n"
          ]
        },
        {
          "output_type": "execute_result",
          "data": {
            "text/plain": [
              "[1.0707762241363525, 0.6256648898124695]"
            ]
          },
          "metadata": {},
          "execution_count": 39
        }
      ]
    },
    {
      "cell_type": "code",
      "metadata": {
        "id": "1gF77SRNvzQY"
      },
      "source": [
        ""
      ],
      "execution_count": null,
      "outputs": []
    }
  ]
}