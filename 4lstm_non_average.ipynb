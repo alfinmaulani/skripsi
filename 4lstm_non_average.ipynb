{
  "nbformat": 4,
  "nbformat_minor": 0,
  "metadata": {
    "colab": {
      "name": "Untitled15.ipynb",
      "provenance": [],
      "mount_file_id": "https://github.com/alfinmaulani/skripsi/blob/master/4lstm_non_average.ipynb",
      "authorship_tag": "ABX9TyMb5m7pcczzIqcdo1z3ZkWD",
      "include_colab_link": true
    },
    "kernelspec": {
      "name": "python3",
      "display_name": "Python 3"
    },
    "language_info": {
      "name": "python"
    },
    "accelerator": "GPU"
  },
  "cells": [
    {
      "cell_type": "markdown",
      "metadata": {
        "id": "view-in-github",
        "colab_type": "text"
      },
      "source": [
        "<a href=\"https://colab.research.google.com/github/alfinmaulani/skripsi/blob/master/4lstm_non_average.ipynb\" target=\"_parent\"><img src=\"https://colab.research.google.com/assets/colab-badge.svg\" alt=\"Open In Colab\"/></a>"
      ]
    },
    {
      "cell_type": "code",
      "metadata": {
        "id": "BIF9lCPhrpf7",
        "colab": {
          "base_uri": "https://localhost:8080/"
        },
        "outputId": "038f7029-1a40-46d9-e6df-ee892bed812f"
      },
      "source": [
        "import pandas as pd\n",
        "import numpy as np\n",
        "from sklearn.model_selection import train_test_split\n",
        "\n",
        "!pip install --upgrade scikit-learn\n",
        "\n",
        "import io\n",
        "import os\n",
        "from nltk.tokenize import word_tokenize\n",
        "import nltk\n",
        "nltk.download('punkt')\n",
        "import gensim\n",
        "import ast"
      ],
      "execution_count": 1,
      "outputs": [
        {
          "output_type": "stream",
          "name": "stdout",
          "text": [
            "Requirement already satisfied: scikit-learn in /usr/local/lib/python3.7/dist-packages (1.0.2)\n",
            "Requirement already satisfied: joblib>=0.11 in /usr/local/lib/python3.7/dist-packages (from scikit-learn) (1.1.0)\n",
            "Requirement already satisfied: scipy>=1.1.0 in /usr/local/lib/python3.7/dist-packages (from scikit-learn) (1.4.1)\n",
            "Requirement already satisfied: threadpoolctl>=2.0.0 in /usr/local/lib/python3.7/dist-packages (from scikit-learn) (3.1.0)\n",
            "Requirement already satisfied: numpy>=1.14.6 in /usr/local/lib/python3.7/dist-packages (from scikit-learn) (1.19.5)\n",
            "[nltk_data] Downloading package punkt to /root/nltk_data...\n",
            "[nltk_data]   Unzipping tokenizers/punkt.zip.\n"
          ]
        }
      ]
    },
    {
      "cell_type": "code",
      "metadata": {
        "colab": {
          "base_uri": "https://localhost:8080/"
        },
        "id": "OFy9zWmAs-Ia",
        "outputId": "ef81e55b-8d1a-4f0e-d8a3-d027a32d936d"
      },
      "source": [
        "from google.colab import drive\n",
        "drive.mount('/content/drive')"
      ],
      "execution_count": null,
      "outputs": [
        {
          "output_type": "stream",
          "name": "stdout",
          "text": [
            "Mounted at /content/drive\n"
          ]
        }
      ]
    },
    {
      "cell_type": "markdown",
      "source": [
        "load korpus"
      ],
      "metadata": {
        "id": "9q51wV0StCDi"
      }
    },
    {
      "cell_type": "code",
      "source": [
        "url1 = '/content/drive/MyDrive/dataisear(preputama).csv'\n",
        "url2 = '/content/drive/MyDrive/dataisear(preptambah).csv'\n",
        "df = pd.read_csv(url1)"
      ],
      "metadata": {
        "id": "oCJrSqqTZ3dv"
      },
      "execution_count": 2,
      "outputs": []
    },
    {
      "cell_type": "code",
      "source": [
        "temp=[]\n",
        "for senten in df.dokumen:\n",
        "  temp.append(ast.literal_eval(senten))\n",
        "df.dokumen=temp"
      ],
      "metadata": {
        "id": "CUGL7FBWaFBC"
      },
      "execution_count": 3,
      "outputs": []
    },
    {
      "cell_type": "markdown",
      "source": [
        "cari paling panjang dalam korpus"
      ],
      "metadata": {
        "id": "8vSYMSqatKlN"
      }
    },
    {
      "cell_type": "code",
      "source": [
        "paling_panjang=0\n",
        "i=0\n",
        "ke=0\n",
        "for x in df.dokumen:\n",
        "  if paling_panjang<len(x):\n",
        "    paling_panjang=len(x)\n",
        "    kata=x\n",
        "    ke=i\n",
        "  i+=1\n",
        "print(paling_panjang)\n",
        "print(kata)\n",
        "print(ke)"
      ],
      "metadata": {
        "colab": {
          "base_uri": "https://localhost:8080/"
        },
        "id": "gy8Xzcl7rilN",
        "outputId": "4f12643f-1ddb-4b9a-bb63-3ed21d893e6b"
      },
      "execution_count": 4,
      "outputs": [
        {
          "output_type": "stream",
          "name": "stdout",
          "text": [
            "178\n",
            "['a', 'few', 'days', 'back', 'i', 'was', 'waiting', 'for', 'the', 'bus', 'at', 'the', 'bus', 'stop', 'before', 'getting', 'into', 'the', 'bus', 'i', 'had', 'prepared', 'the', 'exact', 'amount', 'of', 'coins', 'to', 'pay', 'for', 'the', 'bus', 'fair', 'and', 'when', 'i', 'got', 'into', 'the', 'bus', 'i', 'put', 'these', 'coins', 'into', 'the', 'box', 'meant', 'to', 'collect', 'the', 'bus', 'fair', 'i', 'thought', 'that', 'i', 'had', 'paid', 'and', 'wanted', 'to', 'get', 'inside', 'however', 'the', 'bus', 'driver', 'called', 'me', 'and', 'asked', 'me', 'in', 'an', 'impolite', 'way', 'if', 'the', 'coins', 'were', 'stuck', 'at', 'the', 'opening', 'of', 'the', 'box', 'he', 'had', 'not', 'seen', 'me', 'paying', 'and', 'there', 'wasnt', 'a', 'stack', 'of', 'coins', 'in', 'the', 'box', 'i', 'could', 'not', 'understand', 'this', 'and', 'the', 'driver', 'kept', 'questioning', 'me', 'he', 'made', 'me', 'feel', 'angry', 'and', 'at', 'last', 'i', 'inserted', 'a', 'dollar', 'coin', 'in', 'the', 'box', 'just', 'to', 'get', 'away', 'from', 'him', 'later', 'i', 'found', 'that', 'i', 'had', 'forgotten', 'a', 'few', 'coins', 'in', 'my', 'pocket', 'and', 'had', 'not', 'paid', 'enough', 'for', 'the', 'fair', 'the', 'first', 'time', 'after', 'i', 'had', 'entered', 'the', 'bus', 'i', 'could', 'still', 'hear', 'him', 'scolding', 'me', 'and', 'i', 'felt', 'disgusted']\n",
            "7443\n"
          ]
        }
      ]
    },
    {
      "cell_type": "code",
      "source": [
        "df.dokumen.iloc[7443]"
      ],
      "metadata": {
        "id": "XzZnT0RUsGX4",
        "outputId": "5055ee11-a1f6-46ae-ceef-390c7066d145",
        "colab": {
          "base_uri": "https://localhost:8080/"
        }
      },
      "execution_count": 5,
      "outputs": [
        {
          "output_type": "execute_result",
          "data": {
            "text/plain": [
              "['a',\n",
              " 'few',\n",
              " 'days',\n",
              " 'back',\n",
              " 'i',\n",
              " 'was',\n",
              " 'waiting',\n",
              " 'for',\n",
              " 'the',\n",
              " 'bus',\n",
              " 'at',\n",
              " 'the',\n",
              " 'bus',\n",
              " 'stop',\n",
              " 'before',\n",
              " 'getting',\n",
              " 'into',\n",
              " 'the',\n",
              " 'bus',\n",
              " 'i',\n",
              " 'had',\n",
              " 'prepared',\n",
              " 'the',\n",
              " 'exact',\n",
              " 'amount',\n",
              " 'of',\n",
              " 'coins',\n",
              " 'to',\n",
              " 'pay',\n",
              " 'for',\n",
              " 'the',\n",
              " 'bus',\n",
              " 'fair',\n",
              " 'and',\n",
              " 'when',\n",
              " 'i',\n",
              " 'got',\n",
              " 'into',\n",
              " 'the',\n",
              " 'bus',\n",
              " 'i',\n",
              " 'put',\n",
              " 'these',\n",
              " 'coins',\n",
              " 'into',\n",
              " 'the',\n",
              " 'box',\n",
              " 'meant',\n",
              " 'to',\n",
              " 'collect',\n",
              " 'the',\n",
              " 'bus',\n",
              " 'fair',\n",
              " 'i',\n",
              " 'thought',\n",
              " 'that',\n",
              " 'i',\n",
              " 'had',\n",
              " 'paid',\n",
              " 'and',\n",
              " 'wanted',\n",
              " 'to',\n",
              " 'get',\n",
              " 'inside',\n",
              " 'however',\n",
              " 'the',\n",
              " 'bus',\n",
              " 'driver',\n",
              " 'called',\n",
              " 'me',\n",
              " 'and',\n",
              " 'asked',\n",
              " 'me',\n",
              " 'in',\n",
              " 'an',\n",
              " 'impolite',\n",
              " 'way',\n",
              " 'if',\n",
              " 'the',\n",
              " 'coins',\n",
              " 'were',\n",
              " 'stuck',\n",
              " 'at',\n",
              " 'the',\n",
              " 'opening',\n",
              " 'of',\n",
              " 'the',\n",
              " 'box',\n",
              " 'he',\n",
              " 'had',\n",
              " 'not',\n",
              " 'seen',\n",
              " 'me',\n",
              " 'paying',\n",
              " 'and',\n",
              " 'there',\n",
              " 'wasnt',\n",
              " 'a',\n",
              " 'stack',\n",
              " 'of',\n",
              " 'coins',\n",
              " 'in',\n",
              " 'the',\n",
              " 'box',\n",
              " 'i',\n",
              " 'could',\n",
              " 'not',\n",
              " 'understand',\n",
              " 'this',\n",
              " 'and',\n",
              " 'the',\n",
              " 'driver',\n",
              " 'kept',\n",
              " 'questioning',\n",
              " 'me',\n",
              " 'he',\n",
              " 'made',\n",
              " 'me',\n",
              " 'feel',\n",
              " 'angry',\n",
              " 'and',\n",
              " 'at',\n",
              " 'last',\n",
              " 'i',\n",
              " 'inserted',\n",
              " 'a',\n",
              " 'dollar',\n",
              " 'coin',\n",
              " 'in',\n",
              " 'the',\n",
              " 'box',\n",
              " 'just',\n",
              " 'to',\n",
              " 'get',\n",
              " 'away',\n",
              " 'from',\n",
              " 'him',\n",
              " 'later',\n",
              " 'i',\n",
              " 'found',\n",
              " 'that',\n",
              " 'i',\n",
              " 'had',\n",
              " 'forgotten',\n",
              " 'a',\n",
              " 'few',\n",
              " 'coins',\n",
              " 'in',\n",
              " 'my',\n",
              " 'pocket',\n",
              " 'and',\n",
              " 'had',\n",
              " 'not',\n",
              " 'paid',\n",
              " 'enough',\n",
              " 'for',\n",
              " 'the',\n",
              " 'fair',\n",
              " 'the',\n",
              " 'first',\n",
              " 'time',\n",
              " 'after',\n",
              " 'i',\n",
              " 'had',\n",
              " 'entered',\n",
              " 'the',\n",
              " 'bus',\n",
              " 'i',\n",
              " 'could',\n",
              " 'still',\n",
              " 'hear',\n",
              " 'him',\n",
              " 'scolding',\n",
              " 'me',\n",
              " 'and',\n",
              " 'i',\n",
              " 'felt',\n",
              " 'disgusted']"
            ]
          },
          "metadata": {},
          "execution_count": 5
        }
      ]
    },
    {
      "cell_type": "markdown",
      "source": [
        "load model word embedding"
      ],
      "metadata": {
        "id": "H6PacQf_tRL9"
      }
    },
    {
      "cell_type": "code",
      "source": [
        "pakai_model=1"
      ],
      "metadata": {
        "id": "7xkX3itbaKcM"
      },
      "execution_count": 6,
      "outputs": []
    },
    {
      "cell_type": "code",
      "source": [
        "from gensim.models import word2vec\n",
        "!pip install glove-python-binary\n",
        "from glove import Glove\n",
        "from glove import Corpus"
      ],
      "metadata": {
        "colab": {
          "base_uri": "https://localhost:8080/"
        },
        "id": "U7xbq3pvaOO4",
        "outputId": "abfb0581-fc72-4be7-a3e5-df76aaf3921e"
      },
      "execution_count": 7,
      "outputs": [
        {
          "output_type": "stream",
          "name": "stdout",
          "text": [
            "Collecting glove-python-binary\n",
            "  Downloading glove_python_binary-0.2.0-cp37-cp37m-manylinux1_x86_64.whl (948 kB)\n",
            "\u001b[?25l\r\u001b[K     |▍                               | 10 kB 26.4 MB/s eta 0:00:01\r\u001b[K     |▊                               | 20 kB 29.7 MB/s eta 0:00:01\r\u001b[K     |█                               | 30 kB 20.9 MB/s eta 0:00:01\r\u001b[K     |█▍                              | 40 kB 16.5 MB/s eta 0:00:01\r\u001b[K     |█▊                              | 51 kB 8.4 MB/s eta 0:00:01\r\u001b[K     |██                              | 61 kB 9.7 MB/s eta 0:00:01\r\u001b[K     |██▍                             | 71 kB 8.4 MB/s eta 0:00:01\r\u001b[K     |██▊                             | 81 kB 9.4 MB/s eta 0:00:01\r\u001b[K     |███                             | 92 kB 10.1 MB/s eta 0:00:01\r\u001b[K     |███▌                            | 102 kB 8.3 MB/s eta 0:00:01\r\u001b[K     |███▉                            | 112 kB 8.3 MB/s eta 0:00:01\r\u001b[K     |████▏                           | 122 kB 8.3 MB/s eta 0:00:01\r\u001b[K     |████▌                           | 133 kB 8.3 MB/s eta 0:00:01\r\u001b[K     |████▉                           | 143 kB 8.3 MB/s eta 0:00:01\r\u001b[K     |█████▏                          | 153 kB 8.3 MB/s eta 0:00:01\r\u001b[K     |█████▌                          | 163 kB 8.3 MB/s eta 0:00:01\r\u001b[K     |█████▉                          | 174 kB 8.3 MB/s eta 0:00:01\r\u001b[K     |██████▏                         | 184 kB 8.3 MB/s eta 0:00:01\r\u001b[K     |██████▋                         | 194 kB 8.3 MB/s eta 0:00:01\r\u001b[K     |███████                         | 204 kB 8.3 MB/s eta 0:00:01\r\u001b[K     |███████▎                        | 215 kB 8.3 MB/s eta 0:00:01\r\u001b[K     |███████▋                        | 225 kB 8.3 MB/s eta 0:00:01\r\u001b[K     |████████                        | 235 kB 8.3 MB/s eta 0:00:01\r\u001b[K     |████████▎                       | 245 kB 8.3 MB/s eta 0:00:01\r\u001b[K     |████████▋                       | 256 kB 8.3 MB/s eta 0:00:01\r\u001b[K     |█████████                       | 266 kB 8.3 MB/s eta 0:00:01\r\u001b[K     |█████████▎                      | 276 kB 8.3 MB/s eta 0:00:01\r\u001b[K     |█████████▊                      | 286 kB 8.3 MB/s eta 0:00:01\r\u001b[K     |██████████                      | 296 kB 8.3 MB/s eta 0:00:01\r\u001b[K     |██████████▍                     | 307 kB 8.3 MB/s eta 0:00:01\r\u001b[K     |██████████▊                     | 317 kB 8.3 MB/s eta 0:00:01\r\u001b[K     |███████████                     | 327 kB 8.3 MB/s eta 0:00:01\r\u001b[K     |███████████▍                    | 337 kB 8.3 MB/s eta 0:00:01\r\u001b[K     |███████████▊                    | 348 kB 8.3 MB/s eta 0:00:01\r\u001b[K     |████████████                    | 358 kB 8.3 MB/s eta 0:00:01\r\u001b[K     |████████████▍                   | 368 kB 8.3 MB/s eta 0:00:01\r\u001b[K     |████████████▊                   | 378 kB 8.3 MB/s eta 0:00:01\r\u001b[K     |█████████████▏                  | 389 kB 8.3 MB/s eta 0:00:01\r\u001b[K     |█████████████▌                  | 399 kB 8.3 MB/s eta 0:00:01\r\u001b[K     |█████████████▉                  | 409 kB 8.3 MB/s eta 0:00:01\r\u001b[K     |██████████████▏                 | 419 kB 8.3 MB/s eta 0:00:01\r\u001b[K     |██████████████▌                 | 430 kB 8.3 MB/s eta 0:00:01\r\u001b[K     |██████████████▉                 | 440 kB 8.3 MB/s eta 0:00:01\r\u001b[K     |███████████████▏                | 450 kB 8.3 MB/s eta 0:00:01\r\u001b[K     |███████████████▌                | 460 kB 8.3 MB/s eta 0:00:01\r\u001b[K     |███████████████▉                | 471 kB 8.3 MB/s eta 0:00:01\r\u001b[K     |████████████████▎               | 481 kB 8.3 MB/s eta 0:00:01\r\u001b[K     |████████████████▋               | 491 kB 8.3 MB/s eta 0:00:01\r\u001b[K     |█████████████████               | 501 kB 8.3 MB/s eta 0:00:01\r\u001b[K     |█████████████████▎              | 512 kB 8.3 MB/s eta 0:00:01\r\u001b[K     |█████████████████▋              | 522 kB 8.3 MB/s eta 0:00:01\r\u001b[K     |██████████████████              | 532 kB 8.3 MB/s eta 0:00:01\r\u001b[K     |██████████████████▎             | 542 kB 8.3 MB/s eta 0:00:01\r\u001b[K     |██████████████████▋             | 552 kB 8.3 MB/s eta 0:00:01\r\u001b[K     |███████████████████             | 563 kB 8.3 MB/s eta 0:00:01\r\u001b[K     |███████████████████▍            | 573 kB 8.3 MB/s eta 0:00:01\r\u001b[K     |███████████████████▊            | 583 kB 8.3 MB/s eta 0:00:01\r\u001b[K     |████████████████████            | 593 kB 8.3 MB/s eta 0:00:01\r\u001b[K     |████████████████████▍           | 604 kB 8.3 MB/s eta 0:00:01\r\u001b[K     |████████████████████▊           | 614 kB 8.3 MB/s eta 0:00:01\r\u001b[K     |█████████████████████           | 624 kB 8.3 MB/s eta 0:00:01\r\u001b[K     |█████████████████████▍          | 634 kB 8.3 MB/s eta 0:00:01\r\u001b[K     |█████████████████████▊          | 645 kB 8.3 MB/s eta 0:00:01\r\u001b[K     |██████████████████████          | 655 kB 8.3 MB/s eta 0:00:01\r\u001b[K     |██████████████████████▌         | 665 kB 8.3 MB/s eta 0:00:01\r\u001b[K     |██████████████████████▉         | 675 kB 8.3 MB/s eta 0:00:01\r\u001b[K     |███████████████████████▏        | 686 kB 8.3 MB/s eta 0:00:01\r\u001b[K     |███████████████████████▌        | 696 kB 8.3 MB/s eta 0:00:01\r\u001b[K     |███████████████████████▉        | 706 kB 8.3 MB/s eta 0:00:01\r\u001b[K     |████████████████████████▏       | 716 kB 8.3 MB/s eta 0:00:01\r\u001b[K     |████████████████████████▌       | 727 kB 8.3 MB/s eta 0:00:01\r\u001b[K     |████████████████████████▉       | 737 kB 8.3 MB/s eta 0:00:01\r\u001b[K     |█████████████████████████▏      | 747 kB 8.3 MB/s eta 0:00:01\r\u001b[K     |█████████████████████████▌      | 757 kB 8.3 MB/s eta 0:00:01\r\u001b[K     |██████████████████████████      | 768 kB 8.3 MB/s eta 0:00:01\r\u001b[K     |██████████████████████████▎     | 778 kB 8.3 MB/s eta 0:00:01\r\u001b[K     |██████████████████████████▋     | 788 kB 8.3 MB/s eta 0:00:01\r\u001b[K     |███████████████████████████     | 798 kB 8.3 MB/s eta 0:00:01\r\u001b[K     |███████████████████████████▎    | 808 kB 8.3 MB/s eta 0:00:01\r\u001b[K     |███████████████████████████▋    | 819 kB 8.3 MB/s eta 0:00:01\r\u001b[K     |████████████████████████████    | 829 kB 8.3 MB/s eta 0:00:01\r\u001b[K     |████████████████████████████▎   | 839 kB 8.3 MB/s eta 0:00:01\r\u001b[K     |████████████████████████████▋   | 849 kB 8.3 MB/s eta 0:00:01\r\u001b[K     |█████████████████████████████   | 860 kB 8.3 MB/s eta 0:00:01\r\u001b[K     |█████████████████████████████▍  | 870 kB 8.3 MB/s eta 0:00:01\r\u001b[K     |█████████████████████████████▊  | 880 kB 8.3 MB/s eta 0:00:01\r\u001b[K     |██████████████████████████████  | 890 kB 8.3 MB/s eta 0:00:01\r\u001b[K     |██████████████████████████████▍ | 901 kB 8.3 MB/s eta 0:00:01\r\u001b[K     |██████████████████████████████▊ | 911 kB 8.3 MB/s eta 0:00:01\r\u001b[K     |███████████████████████████████ | 921 kB 8.3 MB/s eta 0:00:01\r\u001b[K     |███████████████████████████████▍| 931 kB 8.3 MB/s eta 0:00:01\r\u001b[K     |███████████████████████████████▊| 942 kB 8.3 MB/s eta 0:00:01\r\u001b[K     |████████████████████████████████| 948 kB 8.3 MB/s \n",
            "\u001b[?25hRequirement already satisfied: scipy in /usr/local/lib/python3.7/dist-packages (from glove-python-binary) (1.4.1)\n",
            "Requirement already satisfied: numpy in /usr/local/lib/python3.7/dist-packages (from glove-python-binary) (1.19.5)\n",
            "Installing collected packages: glove-python-binary\n",
            "Successfully installed glove-python-binary-0.2.0\n"
          ]
        }
      ]
    },
    {
      "cell_type": "code",
      "source": [
        "if pakai_model == 1:#load model word2vec\n",
        "  model = gensim.models.word2vec.Word2Vec.load('/content/drive/MyDrive/korpusblogspertiga(preputama).w2v')\n",
        "\n",
        "elif pakai_model == 2:#load model glove\n",
        "  model=Glove.load('/content/drive/MyDrive/korpusblogspertiga(preputama).glove')"
      ],
      "metadata": {
        "id": "HjQcCGwYaX3S"
      },
      "execution_count": 8,
      "outputs": []
    },
    {
      "cell_type": "markdown",
      "source": [
        "cek model word embedding"
      ],
      "metadata": {
        "id": "J0Jlk0notaUr"
      }
    },
    {
      "cell_type": "code",
      "source": [
        "if pakai_model == 1:\n",
        "  print(model.wv.vectors.shape)\n",
        "elif pakai_model == 2:\n",
        "  print(model.word_vectors.shape)"
      ],
      "metadata": {
        "colab": {
          "base_uri": "https://localhost:8080/"
        },
        "id": "oE-vbIpqaca4",
        "outputId": "9e03989c-af08-46cc-bf22-e468b179ca04"
      },
      "execution_count": 9,
      "outputs": [
        {
          "output_type": "stream",
          "name": "stdout",
          "text": [
            "(1048781, 100)\n"
          ]
        }
      ]
    },
    {
      "cell_type": "code",
      "source": [
        "if pakai_model == 1:\n",
        "  print(model.wv[\"moment\"])\n",
        "elif pakai_model == 2:\n",
        "  print(model.word_vectors[model.dictionary['moment']])"
      ],
      "metadata": {
        "id": "80ry-JxKcK3w"
      },
      "execution_count": null,
      "outputs": []
    },
    {
      "cell_type": "markdown",
      "source": [
        "average base ektraksi fitur"
      ],
      "metadata": {
        "id": "gWb0Xc90tdpE"
      }
    },
    {
      "cell_type": "code",
      "source": [
        "import array\n",
        "ekstrak=[]\n",
        "temp=array.array('i',(0,)*100)\n",
        "\n",
        "if pakai_model == 1:\n",
        "  for senten in df.dokumen:\n",
        "    for word in senten:\n",
        "      temp=np.add(temp,model.wv[word])\n",
        "    temp=temp/len(senten)\n",
        "    ekstrak.append(temp)\n",
        "\n",
        "elif pakai_model == 2:\n",
        "  for senten in df.dokumen:\n",
        "    for word in senten:\n",
        "      temp=np.add(temp,model.word_vectors[model.dictionary[word]])\n",
        "    temp=temp/len(senten)\n",
        "    ekstrak.append(temp)\n",
        "\n",
        "has_vec=ekstrak"
      ],
      "metadata": {
        "id": "MKWo_7kicQVk"
      },
      "execution_count": null,
      "outputs": []
    },
    {
      "cell_type": "markdown",
      "source": [
        "cek"
      ],
      "metadata": {
        "id": "s3P5YZKHMSPH"
      }
    },
    {
      "cell_type": "code",
      "metadata": {
        "colab": {
          "base_uri": "https://localhost:8080/",
          "height": 206
        },
        "id": "wLDZljvktu_A",
        "outputId": "72b52913-b0f5-40d9-e443-09373436f89e"
      },
      "source": [
        "df.head()"
      ],
      "execution_count": 10,
      "outputs": [
        {
          "output_type": "execute_result",
          "data": {
            "text/html": [
              "\n",
              "  <div id=\"df-c5b13bbe-c8d1-4f3d-81cd-3fd6716898fd\">\n",
              "    <div class=\"colab-df-container\">\n",
              "      <div>\n",
              "<style scoped>\n",
              "    .dataframe tbody tr th:only-of-type {\n",
              "        vertical-align: middle;\n",
              "    }\n",
              "\n",
              "    .dataframe tbody tr th {\n",
              "        vertical-align: top;\n",
              "    }\n",
              "\n",
              "    .dataframe thead th {\n",
              "        text-align: right;\n",
              "    }\n",
              "</style>\n",
              "<table border=\"1\" class=\"dataframe\">\n",
              "  <thead>\n",
              "    <tr style=\"text-align: right;\">\n",
              "      <th></th>\n",
              "      <th>emosi</th>\n",
              "      <th>dokumen</th>\n",
              "    </tr>\n",
              "  </thead>\n",
              "  <tbody>\n",
              "    <tr>\n",
              "      <th>0</th>\n",
              "      <td>joy</td>\n",
              "      <td>[on, days, when, i, feel, close, to, my, partn...</td>\n",
              "    </tr>\n",
              "    <tr>\n",
              "      <th>1</th>\n",
              "      <td>fear</td>\n",
              "      <td>[every, time, i, imagine, that, someone, i, lo...</td>\n",
              "    </tr>\n",
              "    <tr>\n",
              "      <th>2</th>\n",
              "      <td>anger</td>\n",
              "      <td>[when, i, had, been, obviously, unjustly, trea...</td>\n",
              "    </tr>\n",
              "    <tr>\n",
              "      <th>3</th>\n",
              "      <td>sadness</td>\n",
              "      <td>[when, i, think, about, the, short, time, that...</td>\n",
              "    </tr>\n",
              "    <tr>\n",
              "      <th>4</th>\n",
              "      <td>disgust</td>\n",
              "      <td>[at, a, gathering, i, found, myself, involunta...</td>\n",
              "    </tr>\n",
              "  </tbody>\n",
              "</table>\n",
              "</div>\n",
              "      <button class=\"colab-df-convert\" onclick=\"convertToInteractive('df-c5b13bbe-c8d1-4f3d-81cd-3fd6716898fd')\"\n",
              "              title=\"Convert this dataframe to an interactive table.\"\n",
              "              style=\"display:none;\">\n",
              "        \n",
              "  <svg xmlns=\"http://www.w3.org/2000/svg\" height=\"24px\"viewBox=\"0 0 24 24\"\n",
              "       width=\"24px\">\n",
              "    <path d=\"M0 0h24v24H0V0z\" fill=\"none\"/>\n",
              "    <path d=\"M18.56 5.44l.94 2.06.94-2.06 2.06-.94-2.06-.94-.94-2.06-.94 2.06-2.06.94zm-11 1L8.5 8.5l.94-2.06 2.06-.94-2.06-.94L8.5 2.5l-.94 2.06-2.06.94zm10 10l.94 2.06.94-2.06 2.06-.94-2.06-.94-.94-2.06-.94 2.06-2.06.94z\"/><path d=\"M17.41 7.96l-1.37-1.37c-.4-.4-.92-.59-1.43-.59-.52 0-1.04.2-1.43.59L10.3 9.45l-7.72 7.72c-.78.78-.78 2.05 0 2.83L4 21.41c.39.39.9.59 1.41.59.51 0 1.02-.2 1.41-.59l7.78-7.78 2.81-2.81c.8-.78.8-2.07 0-2.86zM5.41 20L4 18.59l7.72-7.72 1.47 1.35L5.41 20z\"/>\n",
              "  </svg>\n",
              "      </button>\n",
              "      \n",
              "  <style>\n",
              "    .colab-df-container {\n",
              "      display:flex;\n",
              "      flex-wrap:wrap;\n",
              "      gap: 12px;\n",
              "    }\n",
              "\n",
              "    .colab-df-convert {\n",
              "      background-color: #E8F0FE;\n",
              "      border: none;\n",
              "      border-radius: 50%;\n",
              "      cursor: pointer;\n",
              "      display: none;\n",
              "      fill: #1967D2;\n",
              "      height: 32px;\n",
              "      padding: 0 0 0 0;\n",
              "      width: 32px;\n",
              "    }\n",
              "\n",
              "    .colab-df-convert:hover {\n",
              "      background-color: #E2EBFA;\n",
              "      box-shadow: 0px 1px 2px rgba(60, 64, 67, 0.3), 0px 1px 3px 1px rgba(60, 64, 67, 0.15);\n",
              "      fill: #174EA6;\n",
              "    }\n",
              "\n",
              "    [theme=dark] .colab-df-convert {\n",
              "      background-color: #3B4455;\n",
              "      fill: #D2E3FC;\n",
              "    }\n",
              "\n",
              "    [theme=dark] .colab-df-convert:hover {\n",
              "      background-color: #434B5C;\n",
              "      box-shadow: 0px 1px 3px 1px rgba(0, 0, 0, 0.15);\n",
              "      filter: drop-shadow(0px 1px 2px rgba(0, 0, 0, 0.3));\n",
              "      fill: #FFFFFF;\n",
              "    }\n",
              "  </style>\n",
              "\n",
              "      <script>\n",
              "        const buttonEl =\n",
              "          document.querySelector('#df-c5b13bbe-c8d1-4f3d-81cd-3fd6716898fd button.colab-df-convert');\n",
              "        buttonEl.style.display =\n",
              "          google.colab.kernel.accessAllowed ? 'block' : 'none';\n",
              "\n",
              "        async function convertToInteractive(key) {\n",
              "          const element = document.querySelector('#df-c5b13bbe-c8d1-4f3d-81cd-3fd6716898fd');\n",
              "          const dataTable =\n",
              "            await google.colab.kernel.invokeFunction('convertToInteractive',\n",
              "                                                     [key], {});\n",
              "          if (!dataTable) return;\n",
              "\n",
              "          const docLinkHtml = 'Like what you see? Visit the ' +\n",
              "            '<a target=\"_blank\" href=https://colab.research.google.com/notebooks/data_table.ipynb>data table notebook</a>'\n",
              "            + ' to learn more about interactive tables.';\n",
              "          element.innerHTML = '';\n",
              "          dataTable['output_type'] = 'display_data';\n",
              "          await google.colab.output.renderOutput(dataTable, element);\n",
              "          const docLink = document.createElement('div');\n",
              "          docLink.innerHTML = docLinkHtml;\n",
              "          element.appendChild(docLink);\n",
              "        }\n",
              "      </script>\n",
              "    </div>\n",
              "  </div>\n",
              "  "
            ],
            "text/plain": [
              "     emosi                                            dokumen\n",
              "0      joy  [on, days, when, i, feel, close, to, my, partn...\n",
              "1     fear  [every, time, i, imagine, that, someone, i, lo...\n",
              "2    anger  [when, i, had, been, obviously, unjustly, trea...\n",
              "3  sadness  [when, i, think, about, the, short, time, that...\n",
              "4  disgust  [at, a, gathering, i, found, myself, involunta..."
            ]
          },
          "metadata": {},
          "execution_count": 10
        }
      ]
    },
    {
      "cell_type": "code",
      "metadata": {
        "colab": {
          "base_uri": "https://localhost:8080/"
        },
        "id": "qwt1pHUS7vCm",
        "outputId": "4826c326-7e42-4c80-c6a9-844f6eb179fd"
      },
      "source": [
        "df.info()"
      ],
      "execution_count": 11,
      "outputs": [
        {
          "output_type": "stream",
          "name": "stdout",
          "text": [
            "<class 'pandas.core.frame.DataFrame'>\n",
            "RangeIndex: 7516 entries, 0 to 7515\n",
            "Data columns (total 2 columns):\n",
            " #   Column   Non-Null Count  Dtype \n",
            "---  ------   --------------  ----- \n",
            " 0   emosi    7516 non-null   object\n",
            " 1   dokumen  7516 non-null   object\n",
            "dtypes: object(2)\n",
            "memory usage: 117.6+ KB\n"
          ]
        }
      ]
    },
    {
      "cell_type": "markdown",
      "source": [
        "bagi kolom klasifikasi"
      ],
      "metadata": {
        "id": "Xkap0R_ot9Bd"
      }
    },
    {
      "cell_type": "code",
      "metadata": {
        "colab": {
          "base_uri": "https://localhost:8080/",
          "height": 424
        },
        "id": "vF3Lh6Ee43Mm",
        "outputId": "f882ae94-eb48-432a-f171-f02ab59167bc"
      },
      "source": [
        "category = pd.get_dummies(df.emosi)\n",
        "df_new = pd.concat([df, category], axis=1)\n",
        "df_new = df_new.drop(columns='emosi')\n",
        "df_new"
      ],
      "execution_count": 12,
      "outputs": [
        {
          "output_type": "execute_result",
          "data": {
            "text/html": [
              "\n",
              "  <div id=\"df-f2247c5e-5a1b-4c7d-8051-3d8087668fb6\">\n",
              "    <div class=\"colab-df-container\">\n",
              "      <div>\n",
              "<style scoped>\n",
              "    .dataframe tbody tr th:only-of-type {\n",
              "        vertical-align: middle;\n",
              "    }\n",
              "\n",
              "    .dataframe tbody tr th {\n",
              "        vertical-align: top;\n",
              "    }\n",
              "\n",
              "    .dataframe thead th {\n",
              "        text-align: right;\n",
              "    }\n",
              "</style>\n",
              "<table border=\"1\" class=\"dataframe\">\n",
              "  <thead>\n",
              "    <tr style=\"text-align: right;\">\n",
              "      <th></th>\n",
              "      <th>dokumen</th>\n",
              "      <th>anger</th>\n",
              "      <th>disgust</th>\n",
              "      <th>fear</th>\n",
              "      <th>guilt</th>\n",
              "      <th>joy</th>\n",
              "      <th>sadness</th>\n",
              "      <th>shame</th>\n",
              "    </tr>\n",
              "  </thead>\n",
              "  <tbody>\n",
              "    <tr>\n",
              "      <th>0</th>\n",
              "      <td>[on, days, when, i, feel, close, to, my, partn...</td>\n",
              "      <td>0</td>\n",
              "      <td>0</td>\n",
              "      <td>0</td>\n",
              "      <td>0</td>\n",
              "      <td>1</td>\n",
              "      <td>0</td>\n",
              "      <td>0</td>\n",
              "    </tr>\n",
              "    <tr>\n",
              "      <th>1</th>\n",
              "      <td>[every, time, i, imagine, that, someone, i, lo...</td>\n",
              "      <td>0</td>\n",
              "      <td>0</td>\n",
              "      <td>1</td>\n",
              "      <td>0</td>\n",
              "      <td>0</td>\n",
              "      <td>0</td>\n",
              "      <td>0</td>\n",
              "    </tr>\n",
              "    <tr>\n",
              "      <th>2</th>\n",
              "      <td>[when, i, had, been, obviously, unjustly, trea...</td>\n",
              "      <td>1</td>\n",
              "      <td>0</td>\n",
              "      <td>0</td>\n",
              "      <td>0</td>\n",
              "      <td>0</td>\n",
              "      <td>0</td>\n",
              "      <td>0</td>\n",
              "    </tr>\n",
              "    <tr>\n",
              "      <th>3</th>\n",
              "      <td>[when, i, think, about, the, short, time, that...</td>\n",
              "      <td>0</td>\n",
              "      <td>0</td>\n",
              "      <td>0</td>\n",
              "      <td>0</td>\n",
              "      <td>0</td>\n",
              "      <td>1</td>\n",
              "      <td>0</td>\n",
              "    </tr>\n",
              "    <tr>\n",
              "      <th>4</th>\n",
              "      <td>[at, a, gathering, i, found, myself, involunta...</td>\n",
              "      <td>0</td>\n",
              "      <td>1</td>\n",
              "      <td>0</td>\n",
              "      <td>0</td>\n",
              "      <td>0</td>\n",
              "      <td>0</td>\n",
              "      <td>0</td>\n",
              "    </tr>\n",
              "    <tr>\n",
              "      <th>...</th>\n",
              "      <td>...</td>\n",
              "      <td>...</td>\n",
              "      <td>...</td>\n",
              "      <td>...</td>\n",
              "      <td>...</td>\n",
              "      <td>...</td>\n",
              "      <td>...</td>\n",
              "      <td>...</td>\n",
              "    </tr>\n",
              "    <tr>\n",
              "      <th>7511</th>\n",
              "      <td>[two, years, back, someone, invited, me, to, b...</td>\n",
              "      <td>0</td>\n",
              "      <td>0</td>\n",
              "      <td>0</td>\n",
              "      <td>0</td>\n",
              "      <td>0</td>\n",
              "      <td>0</td>\n",
              "      <td>1</td>\n",
              "    </tr>\n",
              "    <tr>\n",
              "      <th>7512</th>\n",
              "      <td>[i, had, taken, the, responsibility, to, do, s...</td>\n",
              "      <td>0</td>\n",
              "      <td>0</td>\n",
              "      <td>0</td>\n",
              "      <td>0</td>\n",
              "      <td>0</td>\n",
              "      <td>0</td>\n",
              "      <td>1</td>\n",
              "    </tr>\n",
              "    <tr>\n",
              "      <th>7513</th>\n",
              "      <td>[i, was, at, home, and, i, heard, a, loud, sou...</td>\n",
              "      <td>0</td>\n",
              "      <td>0</td>\n",
              "      <td>1</td>\n",
              "      <td>0</td>\n",
              "      <td>0</td>\n",
              "      <td>0</td>\n",
              "      <td>0</td>\n",
              "    </tr>\n",
              "    <tr>\n",
              "      <th>7514</th>\n",
              "      <td>[i, did, not, do, the, homework, that, the, te...</td>\n",
              "      <td>0</td>\n",
              "      <td>0</td>\n",
              "      <td>0</td>\n",
              "      <td>1</td>\n",
              "      <td>0</td>\n",
              "      <td>0</td>\n",
              "      <td>0</td>\n",
              "    </tr>\n",
              "    <tr>\n",
              "      <th>7515</th>\n",
              "      <td>[i, had, shouted, at, my, younger, brother, an...</td>\n",
              "      <td>0</td>\n",
              "      <td>0</td>\n",
              "      <td>1</td>\n",
              "      <td>0</td>\n",
              "      <td>0</td>\n",
              "      <td>0</td>\n",
              "      <td>0</td>\n",
              "    </tr>\n",
              "  </tbody>\n",
              "</table>\n",
              "<p>7516 rows × 8 columns</p>\n",
              "</div>\n",
              "      <button class=\"colab-df-convert\" onclick=\"convertToInteractive('df-f2247c5e-5a1b-4c7d-8051-3d8087668fb6')\"\n",
              "              title=\"Convert this dataframe to an interactive table.\"\n",
              "              style=\"display:none;\">\n",
              "        \n",
              "  <svg xmlns=\"http://www.w3.org/2000/svg\" height=\"24px\"viewBox=\"0 0 24 24\"\n",
              "       width=\"24px\">\n",
              "    <path d=\"M0 0h24v24H0V0z\" fill=\"none\"/>\n",
              "    <path d=\"M18.56 5.44l.94 2.06.94-2.06 2.06-.94-2.06-.94-.94-2.06-.94 2.06-2.06.94zm-11 1L8.5 8.5l.94-2.06 2.06-.94-2.06-.94L8.5 2.5l-.94 2.06-2.06.94zm10 10l.94 2.06.94-2.06 2.06-.94-2.06-.94-.94-2.06-.94 2.06-2.06.94z\"/><path d=\"M17.41 7.96l-1.37-1.37c-.4-.4-.92-.59-1.43-.59-.52 0-1.04.2-1.43.59L10.3 9.45l-7.72 7.72c-.78.78-.78 2.05 0 2.83L4 21.41c.39.39.9.59 1.41.59.51 0 1.02-.2 1.41-.59l7.78-7.78 2.81-2.81c.8-.78.8-2.07 0-2.86zM5.41 20L4 18.59l7.72-7.72 1.47 1.35L5.41 20z\"/>\n",
              "  </svg>\n",
              "      </button>\n",
              "      \n",
              "  <style>\n",
              "    .colab-df-container {\n",
              "      display:flex;\n",
              "      flex-wrap:wrap;\n",
              "      gap: 12px;\n",
              "    }\n",
              "\n",
              "    .colab-df-convert {\n",
              "      background-color: #E8F0FE;\n",
              "      border: none;\n",
              "      border-radius: 50%;\n",
              "      cursor: pointer;\n",
              "      display: none;\n",
              "      fill: #1967D2;\n",
              "      height: 32px;\n",
              "      padding: 0 0 0 0;\n",
              "      width: 32px;\n",
              "    }\n",
              "\n",
              "    .colab-df-convert:hover {\n",
              "      background-color: #E2EBFA;\n",
              "      box-shadow: 0px 1px 2px rgba(60, 64, 67, 0.3), 0px 1px 3px 1px rgba(60, 64, 67, 0.15);\n",
              "      fill: #174EA6;\n",
              "    }\n",
              "\n",
              "    [theme=dark] .colab-df-convert {\n",
              "      background-color: #3B4455;\n",
              "      fill: #D2E3FC;\n",
              "    }\n",
              "\n",
              "    [theme=dark] .colab-df-convert:hover {\n",
              "      background-color: #434B5C;\n",
              "      box-shadow: 0px 1px 3px 1px rgba(0, 0, 0, 0.15);\n",
              "      filter: drop-shadow(0px 1px 2px rgba(0, 0, 0, 0.3));\n",
              "      fill: #FFFFFF;\n",
              "    }\n",
              "  </style>\n",
              "\n",
              "      <script>\n",
              "        const buttonEl =\n",
              "          document.querySelector('#df-f2247c5e-5a1b-4c7d-8051-3d8087668fb6 button.colab-df-convert');\n",
              "        buttonEl.style.display =\n",
              "          google.colab.kernel.accessAllowed ? 'block' : 'none';\n",
              "\n",
              "        async function convertToInteractive(key) {\n",
              "          const element = document.querySelector('#df-f2247c5e-5a1b-4c7d-8051-3d8087668fb6');\n",
              "          const dataTable =\n",
              "            await google.colab.kernel.invokeFunction('convertToInteractive',\n",
              "                                                     [key], {});\n",
              "          if (!dataTable) return;\n",
              "\n",
              "          const docLinkHtml = 'Like what you see? Visit the ' +\n",
              "            '<a target=\"_blank\" href=https://colab.research.google.com/notebooks/data_table.ipynb>data table notebook</a>'\n",
              "            + ' to learn more about interactive tables.';\n",
              "          element.innerHTML = '';\n",
              "          dataTable['output_type'] = 'display_data';\n",
              "          await google.colab.output.renderOutput(dataTable, element);\n",
              "          const docLink = document.createElement('div');\n",
              "          docLink.innerHTML = docLinkHtml;\n",
              "          element.appendChild(docLink);\n",
              "        }\n",
              "      </script>\n",
              "    </div>\n",
              "  </div>\n",
              "  "
            ],
            "text/plain": [
              "                                                dokumen  anger  ...  sadness  shame\n",
              "0     [on, days, when, i, feel, close, to, my, partn...      0  ...        0      0\n",
              "1     [every, time, i, imagine, that, someone, i, lo...      0  ...        0      0\n",
              "2     [when, i, had, been, obviously, unjustly, trea...      1  ...        0      0\n",
              "3     [when, i, think, about, the, short, time, that...      0  ...        1      0\n",
              "4     [at, a, gathering, i, found, myself, involunta...      0  ...        0      0\n",
              "...                                                 ...    ...  ...      ...    ...\n",
              "7511  [two, years, back, someone, invited, me, to, b...      0  ...        0      1\n",
              "7512  [i, had, taken, the, responsibility, to, do, s...      0  ...        0      1\n",
              "7513  [i, was, at, home, and, i, heard, a, loud, sou...      0  ...        0      0\n",
              "7514  [i, did, not, do, the, homework, that, the, te...      0  ...        0      0\n",
              "7515  [i, had, shouted, at, my, younger, brother, an...      0  ...        0      0\n",
              "\n",
              "[7516 rows x 8 columns]"
            ]
          },
          "metadata": {},
          "execution_count": 12
        }
      ]
    },
    {
      "cell_type": "markdown",
      "source": [
        "cek null"
      ],
      "metadata": {
        "id": "W8Xn40ztuDXe"
      }
    },
    {
      "cell_type": "code",
      "metadata": {
        "colab": {
          "base_uri": "https://localhost:8080/"
        },
        "id": "1fA1cx3AudMO",
        "outputId": "60c31aee-bb41-4778-e0d9-4e597f5c3037"
      },
      "source": [
        "df_new.isnull().sum()"
      ],
      "execution_count": 13,
      "outputs": [
        {
          "output_type": "execute_result",
          "data": {
            "text/plain": [
              "dokumen    0\n",
              "anger      0\n",
              "disgust    0\n",
              "fear       0\n",
              "guilt      0\n",
              "joy        0\n",
              "sadness    0\n",
              "shame      0\n",
              "dtype: int64"
            ]
          },
          "metadata": {},
          "execution_count": 13
        }
      ]
    },
    {
      "cell_type": "markdown",
      "source": [
        "padding"
      ],
      "metadata": {
        "id": "xRJH3DC6vu0t"
      }
    },
    {
      "cell_type": "code",
      "metadata": {
        "id": "YaLeDSfswwU6"
      },
      "source": [
        "max_features = paling_panjang+2"
      ],
      "execution_count": 14,
      "outputs": []
    },
    {
      "cell_type": "code",
      "source": [
        "max_features"
      ],
      "metadata": {
        "id": "-fP0dcsyBMGP",
        "outputId": "6c0b5616-f31b-42ba-aff8-fea8db8c892e",
        "colab": {
          "base_uri": "https://localhost:8080/"
        }
      },
      "execution_count": 15,
      "outputs": [
        {
          "output_type": "execute_result",
          "data": {
            "text/plain": [
              "180"
            ]
          },
          "metadata": {},
          "execution_count": 15
        }
      ]
    },
    {
      "cell_type": "code",
      "source": [
        "from tensorflow.keras.preprocessing.text import Tokenizer\n",
        "tokenizer = Tokenizer(num_words=max_features)\n",
        "tokenizer.fit_on_texts(df.dokumen)"
      ],
      "metadata": {
        "id": "YMJ9pa5xoVqT"
      },
      "execution_count": 16,
      "outputs": []
    },
    {
      "cell_type": "code",
      "metadata": {
        "id": "Lq7cMk2FwOAd"
      },
      "source": [
        "from keras.preprocessing import sequence\n",
        "from keras.preprocessing.sequence import pad_sequences\n",
        "# from tensorflow.keras.preprocessing.sequence import pad_sequences\n",
        "\n",
        "# seq = tokenizer.texts_to_sequences(df.dokumen)\n",
        "seq_test = tokenizer.texts_to_sequences(df.dokumen)\n",
        "\n",
        "X_pad = sequence.pad_sequences(seq_test, padding='post', maxlen=max_features,)\n",
        "# X_test_pad = pad_sequences(seq_test, padding='post',)\n",
        "\n",
        "# train_padded = pad_sequences(train_sequences, maxlen=max_len, truncating=\"post\", padding=\"post\")"
      ],
      "execution_count": 17,
      "outputs": []
    },
    {
      "cell_type": "code",
      "source": [
        "np.shape(X_pad)\n",
        "# X_pad"
      ],
      "metadata": {
        "id": "q8AloIR9DZlu",
        "outputId": "b8a68e5e-fdad-41bb-c440-d35baa073b59",
        "colab": {
          "base_uri": "https://localhost:8080/"
        }
      },
      "execution_count": 20,
      "outputs": [
        {
          "output_type": "execute_result",
          "data": {
            "text/plain": [
              "(7516, 180)"
            ]
          },
          "metadata": {},
          "execution_count": 20
        }
      ]
    },
    {
      "cell_type": "code",
      "metadata": {
        "colab": {
          "base_uri": "https://localhost:8080/"
        },
        "id": "K3ezL60Kqr5q",
        "outputId": "0a85331a-c92f-4b3d-94fc-df30585e1b1e"
      },
      "source": [
        "X_pad[7443]"
      ],
      "execution_count": 27,
      "outputs": [
        {
          "output_type": "execute_result",
          "data": {
            "text/plain": [
              "array([  3, 153,  79,   1,   7,  15,   2,  18,   2, 120, 118,   2,   1,\n",
              "        11,   2,   9,   4,  15,   2,   6,   8,   1,  46, 118,   2,   1,\n",
              "       118,   2,   4,   2,   1,  91,  13,   1,  11,   6,  96,   4, 107,\n",
              "         2,  12,   6, 103,  12,  10,  24, 130, 179,   2,  36,  18,   2,\n",
              "         9,   2,  20,  11,  14,  12,   6,  63,   3,   9,  10,   2,   1,\n",
              "        69,  14,  31,   6,   2,  12,  20,  74,  12, 105,  90,   6,  18,\n",
              "       143,   1,   3,  10,   2, 139,   4, 107, 101,  32,  40, 140,   1,\n",
              "        86,  13,   1,  11,   3, 153,  10,   5,   6,  11,  14,  15,   2,\n",
              "         2,  67,  35,  33,   1,  11,   2,   1,  69,  40,  12,   6,   1,\n",
              "        22, 151,   0,   0,   0,   0,   0,   0,   0,   0,   0,   0,   0,\n",
              "         0,   0,   0,   0,   0,   0,   0,   0,   0,   0,   0,   0,   0,\n",
              "         0,   0,   0,   0,   0,   0,   0,   0,   0,   0,   0,   0,   0,\n",
              "         0,   0,   0,   0,   0,   0,   0,   0,   0,   0,   0,   0,   0,\n",
              "         0,   0,   0,   0,   0,   0,   0,   0,   0,   0,   0], dtype=int32)"
            ]
          },
          "metadata": {},
          "execution_count": 27
        }
      ]
    },
    {
      "cell_type": "code",
      "metadata": {
        "id": "W2Elw8wBv8WE",
        "colab": {
          "base_uri": "https://localhost:8080/"
        },
        "outputId": "4c9e330f-8679-4617-c00f-9d1e106d841f"
      },
      "source": [
        "X = X_pad\n",
        "y = df_new[['anger', 'disgust', 'fear', 'guilt', 'joy', 'sadness', 'shame']].values\n",
        "print(np.shape(X))\n",
        "print(np.shape(y))"
      ],
      "execution_count": 28,
      "outputs": [
        {
          "output_type": "stream",
          "name": "stdout",
          "text": [
            "(7516, 180)\n",
            "(7516, 7)\n"
          ]
        }
      ]
    },
    {
      "cell_type": "code",
      "metadata": {
        "id": "QuJf3YwPvji9"
      },
      "source": [
        "X_train, X_test, y_train, y_test = train_test_split(X, y, random_state=0, test_size=0.2,)"
      ],
      "execution_count": 29,
      "outputs": []
    },
    {
      "cell_type": "code",
      "source": [
        "print(np.shape(X_train))\n",
        "print(np.shape(X_test))\n",
        "print(np.shape(y_train))\n",
        "print(np.shape(y_test))"
      ],
      "metadata": {
        "colab": {
          "base_uri": "https://localhost:8080/"
        },
        "id": "TLoQpldJddLs",
        "outputId": "e52c8ea4-1954-4ab7-fad7-91ceadfcdf01"
      },
      "execution_count": 30,
      "outputs": [
        {
          "output_type": "stream",
          "name": "stdout",
          "text": [
            "(6012, 180)\n",
            "(1504, 180)\n",
            "(6012, 7)\n",
            "(1504, 7)\n"
          ]
        }
      ]
    },
    {
      "cell_type": "code",
      "metadata": {
        "colab": {
          "base_uri": "https://localhost:8080/"
        },
        "id": "BV2d3Q0Oxmgo",
        "outputId": "3fb22159-cfb6-4185-91d7-a58559d1fd73"
      },
      "source": [
        "from tensorflow.keras.layers import Embedding, Dense, LSTM, Dropout, Bidirectional\n",
        "from tensorflow.keras.models import Sequential\n",
        "import tensorflow as tf\n",
        "\n",
        "# Creating model\n",
        "model = Sequential()\n",
        "model.add(Embedding(input_dim=5000, output_dim=50))\n",
        "model.add(Dropout(0.3))\n",
        "model.add(Bidirectional(LSTM(64)))\n",
        "model.add(Dropout(0.3))\n",
        "model.add(Dense(82, activation='relu'))\n",
        "model.add(Dropout(0.3))\n",
        "model.add(Dense(64, activation='relu'))\n",
        "model.add(Dropout(0.3))\n",
        "model.add(Dense(7, activation='softmax'))\n",
        "model.compile(loss='categorical_crossentropy',optimizer= tf.keras.optimizers.Adam(),\n",
        "              metrics=['accuracy'])\n",
        "\n",
        "model.summary()"
      ],
      "execution_count": 32,
      "outputs": [
        {
          "output_type": "stream",
          "name": "stdout",
          "text": [
            "Model: \"sequential_1\"\n",
            "_________________________________________________________________\n",
            " Layer (type)                Output Shape              Param #   \n",
            "=================================================================\n",
            " embedding_1 (Embedding)     (None, None, 50)          250000    \n",
            "                                                                 \n",
            " dropout_4 (Dropout)         (None, None, 50)          0         \n",
            "                                                                 \n",
            " bidirectional_1 (Bidirectio  (None, 128)              58880     \n",
            " nal)                                                            \n",
            "                                                                 \n",
            " dropout_5 (Dropout)         (None, 128)               0         \n",
            "                                                                 \n",
            " dense_3 (Dense)             (None, 82)                10578     \n",
            "                                                                 \n",
            " dropout_6 (Dropout)         (None, 82)                0         \n",
            "                                                                 \n",
            " dense_4 (Dense)             (None, 64)                5312      \n",
            "                                                                 \n",
            " dropout_7 (Dropout)         (None, 64)                0         \n",
            "                                                                 \n",
            " dense_5 (Dense)             (None, 7)                 455       \n",
            "                                                                 \n",
            "=================================================================\n",
            "Total params: 325,225\n",
            "Trainable params: 325,225\n",
            "Non-trainable params: 0\n",
            "_________________________________________________________________\n"
          ]
        }
      ]
    },
    {
      "cell_type": "code",
      "metadata": {
        "id": "X3MnC_IB6Dra"
      },
      "source": [
        "from keras import callbacks\n",
        "\n",
        "earlystopping = callbacks.EarlyStopping(monitor =\"val_loss\", \n",
        "                                        mode =\"min\", patience = 3, \n",
        "                                        restore_best_weights = True)"
      ],
      "execution_count": 33,
      "outputs": []
    },
    {
      "cell_type": "code",
      "source": [
        "np.shape(X_train)"
      ],
      "metadata": {
        "id": "irnduzaMrBkQ",
        "outputId": "322dd99b-6694-4bc7-ab46-1a6c456542c9",
        "colab": {
          "base_uri": "https://localhost:8080/"
        }
      },
      "execution_count": 35,
      "outputs": [
        {
          "output_type": "execute_result",
          "data": {
            "text/plain": [
              "(6012, 180)"
            ]
          },
          "metadata": {},
          "execution_count": 35
        }
      ]
    },
    {
      "cell_type": "code",
      "metadata": {
        "colab": {
          "base_uri": "https://localhost:8080/"
        },
        "id": "RIlLn0TO6AYk",
        "outputId": "4df03569-6086-48f5-ec89-c5978aef61ea"
      },
      "source": [
        "history = model.fit(X_train, y_train, epochs=30, \n",
        "                    validation_data=(X_test, y_test), \n",
        "                    callbacks=[earlystopping])"
      ],
      "execution_count": 36,
      "outputs": [
        {
          "output_type": "stream",
          "name": "stdout",
          "text": [
            "Epoch 1/30\n",
            "188/188 [==============================] - 14s 21ms/step - loss: 1.9414 - accuracy: 0.1575 - val_loss: 1.9119 - val_accuracy: 0.2387\n",
            "Epoch 2/30\n",
            "188/188 [==============================] - 3s 17ms/step - loss: 1.7671 - accuracy: 0.3089 - val_loss: 1.6397 - val_accuracy: 0.3517\n",
            "Epoch 3/30\n",
            "188/188 [==============================] - 3s 17ms/step - loss: 1.6056 - accuracy: 0.3849 - val_loss: 1.5552 - val_accuracy: 0.4016\n",
            "Epoch 4/30\n",
            "188/188 [==============================] - 3s 17ms/step - loss: 1.5354 - accuracy: 0.4200 - val_loss: 1.5021 - val_accuracy: 0.4382\n",
            "Epoch 5/30\n",
            "188/188 [==============================] - 3s 17ms/step - loss: 1.5143 - accuracy: 0.4285 - val_loss: 1.4799 - val_accuracy: 0.4328\n",
            "Epoch 6/30\n",
            "188/188 [==============================] - 3s 17ms/step - loss: 1.4836 - accuracy: 0.4451 - val_loss: 1.4557 - val_accuracy: 0.4422\n",
            "Epoch 7/30\n",
            "188/188 [==============================] - 3s 17ms/step - loss: 1.4640 - accuracy: 0.4563 - val_loss: 1.4588 - val_accuracy: 0.4388\n",
            "Epoch 8/30\n",
            "188/188 [==============================] - 3s 17ms/step - loss: 1.4456 - accuracy: 0.4714 - val_loss: 1.4237 - val_accuracy: 0.4688\n",
            "Epoch 9/30\n",
            "188/188 [==============================] - 3s 17ms/step - loss: 1.4085 - accuracy: 0.4869 - val_loss: 1.4018 - val_accuracy: 0.4814\n",
            "Epoch 10/30\n",
            "188/188 [==============================] - 3s 19ms/step - loss: 1.4001 - accuracy: 0.4857 - val_loss: 1.4029 - val_accuracy: 0.4787\n",
            "Epoch 11/30\n",
            "188/188 [==============================] - 3s 17ms/step - loss: 1.3860 - accuracy: 0.4953 - val_loss: 1.4183 - val_accuracy: 0.4701\n",
            "Epoch 12/30\n",
            "188/188 [==============================] - 3s 17ms/step - loss: 1.3795 - accuracy: 0.4987 - val_loss: 1.4168 - val_accuracy: 0.4754\n"
          ]
        }
      ]
    },
    {
      "cell_type": "code",
      "metadata": {
        "colab": {
          "base_uri": "https://localhost:8080/",
          "height": 295
        },
        "id": "S2NyEkGw6eAF",
        "outputId": "3b45f646-8f7e-46ae-d28d-e3c2ad889e9c"
      },
      "source": [
        "import matplotlib.pyplot as plt\n",
        "%matplotlib inline\n",
        "\n",
        "plt.figure()\n",
        "plt.plot(history.history[\"accuracy\"], label = \"Train\")\n",
        "plt.plot(history.history[\"val_accuracy\"], label = \"Test\")\n",
        "plt.title(\"Accuracy\")\n",
        "plt.ylabel(\"Acc\")\n",
        "plt.xlabel(\"epochs\")\n",
        "plt.legend()\n",
        "plt.show()"
      ],
      "execution_count": 37,
      "outputs": [
        {
          "output_type": "display_data",
          "data": {
            "image/png": "[encoded data removed]",
            "text/plain": [
              "<Figure size 432x288 with 1 Axes>"
            ]
          },
          "metadata": {
            "needs_background": "light"
          }
        }
      ]
    },
    {
      "cell_type": "code",
      "metadata": {
        "colab": {
          "base_uri": "https://localhost:8080/",
          "height": 295
        },
        "id": "1vLsQnhG6lCm",
        "outputId": "7a54a16e-87d7-446c-f87b-c4238be7ac22"
      },
      "source": [
        "plt.figure()\n",
        "plt.plot(history.history[\"loss\"], label = \"Train\")\n",
        "plt.plot(history.history[\"val_loss\"], label = \"Test\")\n",
        "plt.title(\"Loss\")\n",
        "plt.ylabel(\"Acc\")\n",
        "plt.xlabel(\"epochs\")\n",
        "plt.legend()\n",
        "plt.show()"
      ],
      "execution_count": 38,
      "outputs": [
        {
          "output_type": "display_data",
          "data": {
            "image/png": "[encoded data removed]",
            "text/plain": [
              "<Figure size 432x288 with 1 Axes>"
            ]
          },
          "metadata": {
            "needs_background": "light"
          }
        }
      ]
    },
    {
      "cell_type": "code",
      "metadata": {
        "colab": {
          "base_uri": "https://localhost:8080/"
        },
        "id": "uFnCmfGUvnzh",
        "outputId": "b0050b30-afdb-4e42-ef92-a8ad6305d1f8"
      },
      "source": [
        "model.evaluate(X_test, y_test)"
      ],
      "execution_count": 40,
      "outputs": [
        {
          "output_type": "stream",
          "name": "stdout",
          "text": [
            "47/47 [==============================] - 1s 20ms/step - loss: 1.4018 - accuracy: 0.4814\n"
          ]
        },
        {
          "output_type": "execute_result",
          "data": {
            "text/plain": [
              "[1.4017666578292847, 0.48138296604156494]"
            ]
          },
          "metadata": {},
          "execution_count": 40
        }
      ]
    },
    {
      "cell_type": "code",
      "metadata": {
        "id": "1gF77SRNvzQY"
      },
      "source": [
        ""
      ],
      "execution_count": null,
      "outputs": []
    }
  ]
}