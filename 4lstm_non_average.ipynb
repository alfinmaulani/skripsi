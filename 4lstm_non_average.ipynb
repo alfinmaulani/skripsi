{
  "nbformat": 4,
  "nbformat_minor": 0,
  "metadata": {
    "colab": {
      "name": "Untitled15.ipynb",
      "provenance": [],
      "mount_file_id": "https://github.com/alfinmaulani/skripsi/blob/master/4lstm_non_average.ipynb",
      "authorship_tag": "ABX9TyPj8oxPXgneIIXMiYBsQs08",
      "include_colab_link": true
    },
    "kernelspec": {
      "name": "python3",
      "display_name": "Python 3"
    },
    "language_info": {
      "name": "python"
    },
    "accelerator": "GPU"
  },
  "cells": [
    {
      "cell_type": "markdown",
      "metadata": {
        "id": "view-in-github",
        "colab_type": "text"
      },
      "source": [
        "<a href=\"https://colab.research.google.com/github/alfinmaulani/skripsi/blob/master/4lstm_non_average.ipynb\" target=\"_parent\"><img src=\"https://colab.research.google.com/assets/colab-badge.svg\" alt=\"Open In Colab\"/></a>"
      ]
    },
    {
      "cell_type": "code",
      "metadata": {
        "id": "BIF9lCPhrpf7",
        "colab": {
          "base_uri": "https://localhost:8080/"
        },
        "outputId": "ff39a156-29f9-4d37-c5fc-bd36105c7f66"
      },
      "source": [
        "import pandas as pd\n",
        "import numpy as np\n",
        "from sklearn.model_selection import train_test_split\n",
        "\n",
        "!pip install --upgrade scikit-learn\n",
        "\n",
        "import io\n",
        "import os\n",
        "from nltk.tokenize import word_tokenize\n",
        "import nltk\n",
        "nltk.download('punkt')\n",
        "import gensim\n",
        "import ast"
      ],
      "execution_count": 1,
      "outputs": [
        {
          "output_type": "stream",
          "name": "stdout",
          "text": [
            "Requirement already satisfied: scikit-learn in /usr/local/lib/python3.7/dist-packages (1.0.2)\n",
            "Requirement already satisfied: scipy>=1.1.0 in /usr/local/lib/python3.7/dist-packages (from scikit-learn) (1.4.1)\n",
            "Requirement already satisfied: threadpoolctl>=2.0.0 in /usr/local/lib/python3.7/dist-packages (from scikit-learn) (3.1.0)\n",
            "Requirement already satisfied: joblib>=0.11 in /usr/local/lib/python3.7/dist-packages (from scikit-learn) (1.1.0)\n",
            "Requirement already satisfied: numpy>=1.14.6 in /usr/local/lib/python3.7/dist-packages (from scikit-learn) (1.19.5)\n",
            "[nltk_data] Downloading package punkt to /root/nltk_data...\n",
            "[nltk_data]   Unzipping tokenizers/punkt.zip.\n"
          ]
        }
      ]
    },
    {
      "cell_type": "code",
      "metadata": {
        "colab": {
          "base_uri": "https://localhost:8080/"
        },
        "id": "OFy9zWmAs-Ia",
        "outputId": "ef81e55b-8d1a-4f0e-d8a3-d027a32d936d"
      },
      "source": [
        "from google.colab import drive\n",
        "drive.mount('/content/drive')"
      ],
      "execution_count": null,
      "outputs": [
        {
          "output_type": "stream",
          "name": "stdout",
          "text": [
            "Mounted at /content/drive\n"
          ]
        }
      ]
    },
    {
      "cell_type": "markdown",
      "source": [
        "load korpus"
      ],
      "metadata": {
        "id": "9q51wV0StCDi"
      }
    },
    {
      "cell_type": "code",
      "source": [
        "url1 = '/content/drive/MyDrive/dataisear(preputama).csv'\n",
        "url2 = '/content/drive/MyDrive/dataisear(preptambah).csv'\n",
        "df = pd.read_csv(url1)"
      ],
      "metadata": {
        "id": "oCJrSqqTZ3dv"
      },
      "execution_count": 2,
      "outputs": []
    },
    {
      "cell_type": "code",
      "source": [
        "temp=[]\n",
        "for senten in df.dokumen:\n",
        "  temp.append(ast.literal_eval(senten))\n",
        "df.dokumen=temp"
      ],
      "metadata": {
        "id": "CUGL7FBWaFBC"
      },
      "execution_count": 3,
      "outputs": []
    },
    {
      "cell_type": "markdown",
      "source": [
        "cari paling panjang dalam korpus"
      ],
      "metadata": {
        "id": "8vSYMSqatKlN"
      }
    },
    {
      "cell_type": "code",
      "source": [
        "paling_panjang=0\n",
        "i=0\n",
        "ke=0\n",
        "for x in df.dokumen:\n",
        "  if paling_panjang<len(x):\n",
        "    paling_panjang=len(x)\n",
        "    kata=x\n",
        "    ke=i\n",
        "  i+=1\n",
        "print(paling_panjang)\n",
        "print(kata)\n",
        "print(ke)"
      ],
      "metadata": {
        "colab": {
          "base_uri": "https://localhost:8080/"
        },
        "id": "gy8Xzcl7rilN",
        "outputId": "eed22571-50df-4455-f5f1-d0d6ac792116"
      },
      "execution_count": 4,
      "outputs": [
        {
          "output_type": "stream",
          "name": "stdout",
          "text": [
            "178\n",
            "['a', 'few', 'days', 'back', 'i', 'was', 'waiting', 'for', 'the', 'bus', 'at', 'the', 'bus', 'stop', 'before', 'getting', 'into', 'the', 'bus', 'i', 'had', 'prepared', 'the', 'exact', 'amount', 'of', 'coins', 'to', 'pay', 'for', 'the', 'bus', 'fair', 'and', 'when', 'i', 'got', 'into', 'the', 'bus', 'i', 'put', 'these', 'coins', 'into', 'the', 'box', 'meant', 'to', 'collect', 'the', 'bus', 'fair', 'i', 'thought', 'that', 'i', 'had', 'paid', 'and', 'wanted', 'to', 'get', 'inside', 'however', 'the', 'bus', 'driver', 'called', 'me', 'and', 'asked', 'me', 'in', 'an', 'impolite', 'way', 'if', 'the', 'coins', 'were', 'stuck', 'at', 'the', 'opening', 'of', 'the', 'box', 'he', 'had', 'not', 'seen', 'me', 'paying', 'and', 'there', 'wasnt', 'a', 'stack', 'of', 'coins', 'in', 'the', 'box', 'i', 'could', 'not', 'understand', 'this', 'and', 'the', 'driver', 'kept', 'questioning', 'me', 'he', 'made', 'me', 'feel', 'angry', 'and', 'at', 'last', 'i', 'inserted', 'a', 'dollar', 'coin', 'in', 'the', 'box', 'just', 'to', 'get', 'away', 'from', 'him', 'later', 'i', 'found', 'that', 'i', 'had', 'forgotten', 'a', 'few', 'coins', 'in', 'my', 'pocket', 'and', 'had', 'not', 'paid', 'enough', 'for', 'the', 'fair', 'the', 'first', 'time', 'after', 'i', 'had', 'entered', 'the', 'bus', 'i', 'could', 'still', 'hear', 'him', 'scolding', 'me', 'and', 'i', 'felt', 'disgusted']\n",
            "7443\n"
          ]
        }
      ]
    },
    {
      "cell_type": "code",
      "source": [
        "df.dokumen.iloc[7443]"
      ],
      "metadata": {
        "id": "XzZnT0RUsGX4"
      },
      "execution_count": null,
      "outputs": []
    },
    {
      "cell_type": "markdown",
      "source": [
        "cek"
      ],
      "metadata": {
        "id": "s3P5YZKHMSPH"
      }
    },
    {
      "cell_type": "code",
      "metadata": {
        "colab": {
          "base_uri": "https://localhost:8080/",
          "height": 206
        },
        "id": "wLDZljvktu_A",
        "outputId": "5eaeede3-75ad-4b0e-db24-bba7e7ac33b3"
      },
      "source": [
        "df.head()"
      ],
      "execution_count": 6,
      "outputs": [
        {
          "output_type": "execute_result",
          "data": {
            "text/html": [
              "\n",
              "  <div id=\"df-2ee480ba-30fc-47b9-9bf0-6dd751c29ff3\">\n",
              "    <div class=\"colab-df-container\">\n",
              "      <div>\n",
              "<style scoped>\n",
              "    .dataframe tbody tr th:only-of-type {\n",
              "        vertical-align: middle;\n",
              "    }\n",
              "\n",
              "    .dataframe tbody tr th {\n",
              "        vertical-align: top;\n",
              "    }\n",
              "\n",
              "    .dataframe thead th {\n",
              "        text-align: right;\n",
              "    }\n",
              "</style>\n",
              "<table border=\"1\" class=\"dataframe\">\n",
              "  <thead>\n",
              "    <tr style=\"text-align: right;\">\n",
              "      <th></th>\n",
              "      <th>emosi</th>\n",
              "      <th>dokumen</th>\n",
              "    </tr>\n",
              "  </thead>\n",
              "  <tbody>\n",
              "    <tr>\n",
              "      <th>0</th>\n",
              "      <td>joy</td>\n",
              "      <td>[on, days, when, i, feel, close, to, my, partn...</td>\n",
              "    </tr>\n",
              "    <tr>\n",
              "      <th>1</th>\n",
              "      <td>fear</td>\n",
              "      <td>[every, time, i, imagine, that, someone, i, lo...</td>\n",
              "    </tr>\n",
              "    <tr>\n",
              "      <th>2</th>\n",
              "      <td>anger</td>\n",
              "      <td>[when, i, had, been, obviously, unjustly, trea...</td>\n",
              "    </tr>\n",
              "    <tr>\n",
              "      <th>3</th>\n",
              "      <td>sadness</td>\n",
              "      <td>[when, i, think, about, the, short, time, that...</td>\n",
              "    </tr>\n",
              "    <tr>\n",
              "      <th>4</th>\n",
              "      <td>disgust</td>\n",
              "      <td>[at, a, gathering, i, found, myself, involunta...</td>\n",
              "    </tr>\n",
              "  </tbody>\n",
              "</table>\n",
              "</div>\n",
              "      <button class=\"colab-df-convert\" onclick=\"convertToInteractive('df-2ee480ba-30fc-47b9-9bf0-6dd751c29ff3')\"\n",
              "              title=\"Convert this dataframe to an interactive table.\"\n",
              "              style=\"display:none;\">\n",
              "        \n",
              "  <svg xmlns=\"http://www.w3.org/2000/svg\" height=\"24px\"viewBox=\"0 0 24 24\"\n",
              "       width=\"24px\">\n",
              "    <path d=\"M0 0h24v24H0V0z\" fill=\"none\"/>\n",
              "    <path d=\"M18.56 5.44l.94 2.06.94-2.06 2.06-.94-2.06-.94-.94-2.06-.94 2.06-2.06.94zm-11 1L8.5 8.5l.94-2.06 2.06-.94-2.06-.94L8.5 2.5l-.94 2.06-2.06.94zm10 10l.94 2.06.94-2.06 2.06-.94-2.06-.94-.94-2.06-.94 2.06-2.06.94z\"/><path d=\"M17.41 7.96l-1.37-1.37c-.4-.4-.92-.59-1.43-.59-.52 0-1.04.2-1.43.59L10.3 9.45l-7.72 7.72c-.78.78-.78 2.05 0 2.83L4 21.41c.39.39.9.59 1.41.59.51 0 1.02-.2 1.41-.59l7.78-7.78 2.81-2.81c.8-.78.8-2.07 0-2.86zM5.41 20L4 18.59l7.72-7.72 1.47 1.35L5.41 20z\"/>\n",
              "  </svg>\n",
              "      </button>\n",
              "      \n",
              "  <style>\n",
              "    .colab-df-container {\n",
              "      display:flex;\n",
              "      flex-wrap:wrap;\n",
              "      gap: 12px;\n",
              "    }\n",
              "\n",
              "    .colab-df-convert {\n",
              "      background-color: #E8F0FE;\n",
              "      border: none;\n",
              "      border-radius: 50%;\n",
              "      cursor: pointer;\n",
              "      display: none;\n",
              "      fill: #1967D2;\n",
              "      height: 32px;\n",
              "      padding: 0 0 0 0;\n",
              "      width: 32px;\n",
              "    }\n",
              "\n",
              "    .colab-df-convert:hover {\n",
              "      background-color: #E2EBFA;\n",
              "      box-shadow: 0px 1px 2px rgba(60, 64, 67, 0.3), 0px 1px 3px 1px rgba(60, 64, 67, 0.15);\n",
              "      fill: #174EA6;\n",
              "    }\n",
              "\n",
              "    [theme=dark] .colab-df-convert {\n",
              "      background-color: #3B4455;\n",
              "      fill: #D2E3FC;\n",
              "    }\n",
              "\n",
              "    [theme=dark] .colab-df-convert:hover {\n",
              "      background-color: #434B5C;\n",
              "      box-shadow: 0px 1px 3px 1px rgba(0, 0, 0, 0.15);\n",
              "      filter: drop-shadow(0px 1px 2px rgba(0, 0, 0, 0.3));\n",
              "      fill: #FFFFFF;\n",
              "    }\n",
              "  </style>\n",
              "\n",
              "      <script>\n",
              "        const buttonEl =\n",
              "          document.querySelector('#df-2ee480ba-30fc-47b9-9bf0-6dd751c29ff3 button.colab-df-convert');\n",
              "        buttonEl.style.display =\n",
              "          google.colab.kernel.accessAllowed ? 'block' : 'none';\n",
              "\n",
              "        async function convertToInteractive(key) {\n",
              "          const element = document.querySelector('#df-2ee480ba-30fc-47b9-9bf0-6dd751c29ff3');\n",
              "          const dataTable =\n",
              "            await google.colab.kernel.invokeFunction('convertToInteractive',\n",
              "                                                     [key], {});\n",
              "          if (!dataTable) return;\n",
              "\n",
              "          const docLinkHtml = 'Like what you see? Visit the ' +\n",
              "            '<a target=\"_blank\" href=https://colab.research.google.com/notebooks/data_table.ipynb>data table notebook</a>'\n",
              "            + ' to learn more about interactive tables.';\n",
              "          element.innerHTML = '';\n",
              "          dataTable['output_type'] = 'display_data';\n",
              "          await google.colab.output.renderOutput(dataTable, element);\n",
              "          const docLink = document.createElement('div');\n",
              "          docLink.innerHTML = docLinkHtml;\n",
              "          element.appendChild(docLink);\n",
              "        }\n",
              "      </script>\n",
              "    </div>\n",
              "  </div>\n",
              "  "
            ],
            "text/plain": [
              "     emosi                                            dokumen\n",
              "0      joy  [on, days, when, i, feel, close, to, my, partn...\n",
              "1     fear  [every, time, i, imagine, that, someone, i, lo...\n",
              "2    anger  [when, i, had, been, obviously, unjustly, trea...\n",
              "3  sadness  [when, i, think, about, the, short, time, that...\n",
              "4  disgust  [at, a, gathering, i, found, myself, involunta..."
            ]
          },
          "metadata": {},
          "execution_count": 6
        }
      ]
    },
    {
      "cell_type": "code",
      "metadata": {
        "colab": {
          "base_uri": "https://localhost:8080/"
        },
        "id": "qwt1pHUS7vCm",
        "outputId": "249c04c2-bd4e-4fbe-cf1a-c52d1c92ef14"
      },
      "source": [
        "df.info()"
      ],
      "execution_count": 7,
      "outputs": [
        {
          "output_type": "stream",
          "name": "stdout",
          "text": [
            "<class 'pandas.core.frame.DataFrame'>\n",
            "RangeIndex: 7516 entries, 0 to 7515\n",
            "Data columns (total 2 columns):\n",
            " #   Column   Non-Null Count  Dtype \n",
            "---  ------   --------------  ----- \n",
            " 0   emosi    7516 non-null   object\n",
            " 1   dokumen  7516 non-null   object\n",
            "dtypes: object(2)\n",
            "memory usage: 117.6+ KB\n"
          ]
        }
      ]
    },
    {
      "cell_type": "markdown",
      "source": [
        "bagi kolom klasifikasi"
      ],
      "metadata": {
        "id": "Xkap0R_ot9Bd"
      }
    },
    {
      "cell_type": "code",
      "metadata": {
        "colab": {
          "base_uri": "https://localhost:8080/",
          "height": 424
        },
        "id": "vF3Lh6Ee43Mm",
        "outputId": "f5254f88-df7f-4c07-8d35-5b3d4e758dfb"
      },
      "source": [
        "category = pd.get_dummies(df.emosi)\n",
        "df_new = pd.concat([df, category], axis=1)\n",
        "df_new = df_new.drop(columns='emosi')\n",
        "df_new"
      ],
      "execution_count": 8,
      "outputs": [
        {
          "output_type": "execute_result",
          "data": {
            "text/html": [
              "\n",
              "  <div id=\"df-c761b7cd-6918-4134-a4b0-9d8d27cf5e6c\">\n",
              "    <div class=\"colab-df-container\">\n",
              "      <div>\n",
              "<style scoped>\n",
              "    .dataframe tbody tr th:only-of-type {\n",
              "        vertical-align: middle;\n",
              "    }\n",
              "\n",
              "    .dataframe tbody tr th {\n",
              "        vertical-align: top;\n",
              "    }\n",
              "\n",
              "    .dataframe thead th {\n",
              "        text-align: right;\n",
              "    }\n",
              "</style>\n",
              "<table border=\"1\" class=\"dataframe\">\n",
              "  <thead>\n",
              "    <tr style=\"text-align: right;\">\n",
              "      <th></th>\n",
              "      <th>dokumen</th>\n",
              "      <th>anger</th>\n",
              "      <th>disgust</th>\n",
              "      <th>fear</th>\n",
              "      <th>guilt</th>\n",
              "      <th>joy</th>\n",
              "      <th>sadness</th>\n",
              "      <th>shame</th>\n",
              "    </tr>\n",
              "  </thead>\n",
              "  <tbody>\n",
              "    <tr>\n",
              "      <th>0</th>\n",
              "      <td>[on, days, when, i, feel, close, to, my, partn...</td>\n",
              "      <td>0</td>\n",
              "      <td>0</td>\n",
              "      <td>0</td>\n",
              "      <td>0</td>\n",
              "      <td>1</td>\n",
              "      <td>0</td>\n",
              "      <td>0</td>\n",
              "    </tr>\n",
              "    <tr>\n",
              "      <th>1</th>\n",
              "      <td>[every, time, i, imagine, that, someone, i, lo...</td>\n",
              "      <td>0</td>\n",
              "      <td>0</td>\n",
              "      <td>1</td>\n",
              "      <td>0</td>\n",
              "      <td>0</td>\n",
              "      <td>0</td>\n",
              "      <td>0</td>\n",
              "    </tr>\n",
              "    <tr>\n",
              "      <th>2</th>\n",
              "      <td>[when, i, had, been, obviously, unjustly, trea...</td>\n",
              "      <td>1</td>\n",
              "      <td>0</td>\n",
              "      <td>0</td>\n",
              "      <td>0</td>\n",
              "      <td>0</td>\n",
              "      <td>0</td>\n",
              "      <td>0</td>\n",
              "    </tr>\n",
              "    <tr>\n",
              "      <th>3</th>\n",
              "      <td>[when, i, think, about, the, short, time, that...</td>\n",
              "      <td>0</td>\n",
              "      <td>0</td>\n",
              "      <td>0</td>\n",
              "      <td>0</td>\n",
              "      <td>0</td>\n",
              "      <td>1</td>\n",
              "      <td>0</td>\n",
              "    </tr>\n",
              "    <tr>\n",
              "      <th>4</th>\n",
              "      <td>[at, a, gathering, i, found, myself, involunta...</td>\n",
              "      <td>0</td>\n",
              "      <td>1</td>\n",
              "      <td>0</td>\n",
              "      <td>0</td>\n",
              "      <td>0</td>\n",
              "      <td>0</td>\n",
              "      <td>0</td>\n",
              "    </tr>\n",
              "    <tr>\n",
              "      <th>...</th>\n",
              "      <td>...</td>\n",
              "      <td>...</td>\n",
              "      <td>...</td>\n",
              "      <td>...</td>\n",
              "      <td>...</td>\n",
              "      <td>...</td>\n",
              "      <td>...</td>\n",
              "      <td>...</td>\n",
              "    </tr>\n",
              "    <tr>\n",
              "      <th>7511</th>\n",
              "      <td>[two, years, back, someone, invited, me, to, b...</td>\n",
              "      <td>0</td>\n",
              "      <td>0</td>\n",
              "      <td>0</td>\n",
              "      <td>0</td>\n",
              "      <td>0</td>\n",
              "      <td>0</td>\n",
              "      <td>1</td>\n",
              "    </tr>\n",
              "    <tr>\n",
              "      <th>7512</th>\n",
              "      <td>[i, had, taken, the, responsibility, to, do, s...</td>\n",
              "      <td>0</td>\n",
              "      <td>0</td>\n",
              "      <td>0</td>\n",
              "      <td>0</td>\n",
              "      <td>0</td>\n",
              "      <td>0</td>\n",
              "      <td>1</td>\n",
              "    </tr>\n",
              "    <tr>\n",
              "      <th>7513</th>\n",
              "      <td>[i, was, at, home, and, i, heard, a, loud, sou...</td>\n",
              "      <td>0</td>\n",
              "      <td>0</td>\n",
              "      <td>1</td>\n",
              "      <td>0</td>\n",
              "      <td>0</td>\n",
              "      <td>0</td>\n",
              "      <td>0</td>\n",
              "    </tr>\n",
              "    <tr>\n",
              "      <th>7514</th>\n",
              "      <td>[i, did, not, do, the, homework, that, the, te...</td>\n",
              "      <td>0</td>\n",
              "      <td>0</td>\n",
              "      <td>0</td>\n",
              "      <td>1</td>\n",
              "      <td>0</td>\n",
              "      <td>0</td>\n",
              "      <td>0</td>\n",
              "    </tr>\n",
              "    <tr>\n",
              "      <th>7515</th>\n",
              "      <td>[i, had, shouted, at, my, younger, brother, an...</td>\n",
              "      <td>0</td>\n",
              "      <td>0</td>\n",
              "      <td>1</td>\n",
              "      <td>0</td>\n",
              "      <td>0</td>\n",
              "      <td>0</td>\n",
              "      <td>0</td>\n",
              "    </tr>\n",
              "  </tbody>\n",
              "</table>\n",
              "<p>7516 rows × 8 columns</p>\n",
              "</div>\n",
              "      <button class=\"colab-df-convert\" onclick=\"convertToInteractive('df-c761b7cd-6918-4134-a4b0-9d8d27cf5e6c')\"\n",
              "              title=\"Convert this dataframe to an interactive table.\"\n",
              "              style=\"display:none;\">\n",
              "        \n",
              "  <svg xmlns=\"http://www.w3.org/2000/svg\" height=\"24px\"viewBox=\"0 0 24 24\"\n",
              "       width=\"24px\">\n",
              "    <path d=\"M0 0h24v24H0V0z\" fill=\"none\"/>\n",
              "    <path d=\"M18.56 5.44l.94 2.06.94-2.06 2.06-.94-2.06-.94-.94-2.06-.94 2.06-2.06.94zm-11 1L8.5 8.5l.94-2.06 2.06-.94-2.06-.94L8.5 2.5l-.94 2.06-2.06.94zm10 10l.94 2.06.94-2.06 2.06-.94-2.06-.94-.94-2.06-.94 2.06-2.06.94z\"/><path d=\"M17.41 7.96l-1.37-1.37c-.4-.4-.92-.59-1.43-.59-.52 0-1.04.2-1.43.59L10.3 9.45l-7.72 7.72c-.78.78-.78 2.05 0 2.83L4 21.41c.39.39.9.59 1.41.59.51 0 1.02-.2 1.41-.59l7.78-7.78 2.81-2.81c.8-.78.8-2.07 0-2.86zM5.41 20L4 18.59l7.72-7.72 1.47 1.35L5.41 20z\"/>\n",
              "  </svg>\n",
              "      </button>\n",
              "      \n",
              "  <style>\n",
              "    .colab-df-container {\n",
              "      display:flex;\n",
              "      flex-wrap:wrap;\n",
              "      gap: 12px;\n",
              "    }\n",
              "\n",
              "    .colab-df-convert {\n",
              "      background-color: #E8F0FE;\n",
              "      border: none;\n",
              "      border-radius: 50%;\n",
              "      cursor: pointer;\n",
              "      display: none;\n",
              "      fill: #1967D2;\n",
              "      height: 32px;\n",
              "      padding: 0 0 0 0;\n",
              "      width: 32px;\n",
              "    }\n",
              "\n",
              "    .colab-df-convert:hover {\n",
              "      background-color: #E2EBFA;\n",
              "      box-shadow: 0px 1px 2px rgba(60, 64, 67, 0.3), 0px 1px 3px 1px rgba(60, 64, 67, 0.15);\n",
              "      fill: #174EA6;\n",
              "    }\n",
              "\n",
              "    [theme=dark] .colab-df-convert {\n",
              "      background-color: #3B4455;\n",
              "      fill: #D2E3FC;\n",
              "    }\n",
              "\n",
              "    [theme=dark] .colab-df-convert:hover {\n",
              "      background-color: #434B5C;\n",
              "      box-shadow: 0px 1px 3px 1px rgba(0, 0, 0, 0.15);\n",
              "      filter: drop-shadow(0px 1px 2px rgba(0, 0, 0, 0.3));\n",
              "      fill: #FFFFFF;\n",
              "    }\n",
              "  </style>\n",
              "\n",
              "      <script>\n",
              "        const buttonEl =\n",
              "          document.querySelector('#df-c761b7cd-6918-4134-a4b0-9d8d27cf5e6c button.colab-df-convert');\n",
              "        buttonEl.style.display =\n",
              "          google.colab.kernel.accessAllowed ? 'block' : 'none';\n",
              "\n",
              "        async function convertToInteractive(key) {\n",
              "          const element = document.querySelector('#df-c761b7cd-6918-4134-a4b0-9d8d27cf5e6c');\n",
              "          const dataTable =\n",
              "            await google.colab.kernel.invokeFunction('convertToInteractive',\n",
              "                                                     [key], {});\n",
              "          if (!dataTable) return;\n",
              "\n",
              "          const docLinkHtml = 'Like what you see? Visit the ' +\n",
              "            '<a target=\"_blank\" href=https://colab.research.google.com/notebooks/data_table.ipynb>data table notebook</a>'\n",
              "            + ' to learn more about interactive tables.';\n",
              "          element.innerHTML = '';\n",
              "          dataTable['output_type'] = 'display_data';\n",
              "          await google.colab.output.renderOutput(dataTable, element);\n",
              "          const docLink = document.createElement('div');\n",
              "          docLink.innerHTML = docLinkHtml;\n",
              "          element.appendChild(docLink);\n",
              "        }\n",
              "      </script>\n",
              "    </div>\n",
              "  </div>\n",
              "  "
            ],
            "text/plain": [
              "                                                dokumen  anger  ...  sadness  shame\n",
              "0     [on, days, when, i, feel, close, to, my, partn...      0  ...        0      0\n",
              "1     [every, time, i, imagine, that, someone, i, lo...      0  ...        0      0\n",
              "2     [when, i, had, been, obviously, unjustly, trea...      1  ...        0      0\n",
              "3     [when, i, think, about, the, short, time, that...      0  ...        1      0\n",
              "4     [at, a, gathering, i, found, myself, involunta...      0  ...        0      0\n",
              "...                                                 ...    ...  ...      ...    ...\n",
              "7511  [two, years, back, someone, invited, me, to, b...      0  ...        0      1\n",
              "7512  [i, had, taken, the, responsibility, to, do, s...      0  ...        0      1\n",
              "7513  [i, was, at, home, and, i, heard, a, loud, sou...      0  ...        0      0\n",
              "7514  [i, did, not, do, the, homework, that, the, te...      0  ...        0      0\n",
              "7515  [i, had, shouted, at, my, younger, brother, an...      0  ...        0      0\n",
              "\n",
              "[7516 rows x 8 columns]"
            ]
          },
          "metadata": {},
          "execution_count": 8
        }
      ]
    },
    {
      "cell_type": "markdown",
      "source": [
        "cek null"
      ],
      "metadata": {
        "id": "W8Xn40ztuDXe"
      }
    },
    {
      "cell_type": "code",
      "metadata": {
        "colab": {
          "base_uri": "https://localhost:8080/"
        },
        "id": "1fA1cx3AudMO",
        "outputId": "ba7a01cc-1251-47fc-c623-c9986084d0bb"
      },
      "source": [
        "df_new.isnull().sum()"
      ],
      "execution_count": 9,
      "outputs": [
        {
          "output_type": "execute_result",
          "data": {
            "text/plain": [
              "dokumen    0\n",
              "anger      0\n",
              "disgust    0\n",
              "fear       0\n",
              "guilt      0\n",
              "joy        0\n",
              "sadness    0\n",
              "shame      0\n",
              "dtype: int64"
            ]
          },
          "metadata": {},
          "execution_count": 9
        }
      ]
    },
    {
      "cell_type": "markdown",
      "source": [
        "padding"
      ],
      "metadata": {
        "id": "xRJH3DC6vu0t"
      }
    },
    {
      "cell_type": "code",
      "metadata": {
        "id": "YaLeDSfswwU6"
      },
      "source": [
        "max_features = paling_panjang+2"
      ],
      "execution_count": 10,
      "outputs": []
    },
    {
      "cell_type": "code",
      "source": [
        "max_features"
      ],
      "metadata": {
        "colab": {
          "base_uri": "https://localhost:8080/"
        },
        "id": "-fP0dcsyBMGP",
        "outputId": "4d2b021e-4590-414c-8bea-0573d9fc4368"
      },
      "execution_count": 11,
      "outputs": [
        {
          "output_type": "execute_result",
          "data": {
            "text/plain": [
              "180"
            ]
          },
          "metadata": {},
          "execution_count": 11
        }
      ]
    },
    {
      "cell_type": "code",
      "source": [
        "from tensorflow.keras.preprocessing.text import Tokenizer\n",
        "tokenizer = Tokenizer(num_words=10000)\n",
        "tokenizer.fit_on_texts(df.dokumen)"
      ],
      "metadata": {
        "id": "YMJ9pa5xoVqT"
      },
      "execution_count": 12,
      "outputs": []
    },
    {
      "cell_type": "code",
      "source": [
        "np.shape(df.dokumen.iloc[1])"
      ],
      "metadata": {
        "colab": {
          "base_uri": "https://localhost:8080/"
        },
        "id": "2dlcVl-ysZbO",
        "outputId": "87245117-2691-4594-9eb1-fb59c76b1d4b"
      },
      "execution_count": 13,
      "outputs": [
        {
          "output_type": "execute_result",
          "data": {
            "text/plain": [
              "(17,)"
            ]
          },
          "metadata": {},
          "execution_count": 13
        }
      ]
    },
    {
      "cell_type": "code",
      "source": [
        "df.dokumen.iloc[1]"
      ],
      "metadata": {
        "colab": {
          "base_uri": "https://localhost:8080/"
        },
        "id": "kVkRpc4rs8rK",
        "outputId": "461c2518-25f9-4ad1-d0cf-802509476fa4"
      },
      "execution_count": 14,
      "outputs": [
        {
          "output_type": "execute_result",
          "data": {
            "text/plain": [
              "['every',\n",
              " 'time',\n",
              " 'i',\n",
              " 'imagine',\n",
              " 'that',\n",
              " 'someone',\n",
              " 'i',\n",
              " 'love',\n",
              " 'or',\n",
              " 'i',\n",
              " 'could',\n",
              " 'contact',\n",
              " 'a',\n",
              " 'serious',\n",
              " 'illness',\n",
              " 'even',\n",
              " 'death']"
            ]
          },
          "metadata": {},
          "execution_count": 14
        }
      ]
    },
    {
      "cell_type": "code",
      "metadata": {
        "id": "Lq7cMk2FwOAd"
      },
      "source": [
        "from keras.preprocessing import sequence\n",
        "from keras.preprocessing.sequence import pad_sequences\n",
        "# from tensorflow.keras.preprocessing.sequence import pad_sequences\n",
        "\n",
        "# seq = tokenizer.texts_to_sequences(df.dokumen)\n",
        "seq_test = tokenizer.texts_to_sequences(df.dokumen)\n",
        "\n",
        "X_pad = sequence.pad_sequences(seq_test, padding='post', maxlen=max_features)\n",
        "# X_test_pad = pad_sequences(seq_test, padding='post',)\n",
        "\n",
        "# train_padded = pad_sequences(train_sequences, maxlen=max_len, truncating=\"post\", padding=\"post\")"
      ],
      "execution_count": 15,
      "outputs": []
    },
    {
      "cell_type": "code",
      "source": [
        "np.shape(X_pad)\n",
        "# X_pad"
      ],
      "metadata": {
        "colab": {
          "base_uri": "https://localhost:8080/"
        },
        "id": "q8AloIR9DZlu",
        "outputId": "155c94ae-a5e5-454d-9725-b8b2bd0317c7"
      },
      "execution_count": 16,
      "outputs": [
        {
          "output_type": "execute_result",
          "data": {
            "text/plain": [
              "(7516, 180)"
            ]
          },
          "metadata": {},
          "execution_count": 16
        }
      ]
    },
    {
      "cell_type": "code",
      "source": [
        "jumlah_kata=len(tokenizer.word_index)"
      ],
      "metadata": {
        "id": "0UUqB2O3Mj42"
      },
      "execution_count": 17,
      "outputs": []
    },
    {
      "cell_type": "code",
      "source": [
        "word_index=tokenizer.word_index"
      ],
      "metadata": {
        "id": "godpkxUZAhF_"
      },
      "execution_count": 18,
      "outputs": []
    },
    {
      "cell_type": "code",
      "source": [
        "word_index[\"as\"]"
      ],
      "metadata": {
        "colab": {
          "base_uri": "https://localhost:8080/"
        },
        "id": "NtRtzo1_O2Zq",
        "outputId": "be490cec-37e5-4f5a-ac7a-19799223eee5"
      },
      "execution_count": 19,
      "outputs": [
        {
          "output_type": "execute_result",
          "data": {
            "text/plain": [
              "29"
            ]
          },
          "metadata": {},
          "execution_count": 19
        }
      ]
    },
    {
      "cell_type": "code",
      "source": [
        "X_pad[7443]"
      ],
      "metadata": {
        "colab": {
          "base_uri": "https://localhost:8080/"
        },
        "id": "KJO5xF-e_Yl6",
        "outputId": "df808ee3-9a5e-4440-ef4d-420716bbb6ab"
      },
      "execution_count": 20,
      "outputs": [
        {
          "output_type": "execute_result",
          "data": {
            "text/plain": [
              "array([   3,  153,  180,   79,    1,    7,  389,   15,    2,  184,   18,\n",
              "          2,  184,  391,  120,  196,  118,    2,  184,    1,   11,  447,\n",
              "          2, 2400, 1215,    9, 1571,    4,  513,   15,    2,  184, 1334,\n",
              "          6,    8,    1,   46,  118,    2,  184,    1,  238,  534, 1571,\n",
              "        118,    2, 1566,  838,    4, 1623,    2,  184, 1334,    1,   91,\n",
              "         13,    1,   11,  945,    6,   96,    4,  107, 1048,  251,    2,\n",
              "        184,  418,  224,   12,    6,  103,   12,   10,   24, 1754,  130,\n",
              "        179,    2, 1571,   36, 1506,   18,    2, 3169,    9,    2, 1566,\n",
              "         20,   11,   14,  277,   12, 1180,    6,   63,  421,    3, 9128,\n",
              "          9, 1571,   10,    2, 1566,    1,   69,   14,  424,   31,    6,\n",
              "          2,  418,  409, 9129,   12,   20,   74,   12,  105,   90,    6,\n",
              "         18,  143,    1, 9130,    3, 3318, 1890,   10,    2, 1566,  139,\n",
              "          4,  107,  101,   32,   40,  140,    1,   86,   13,    1,   11,\n",
              "        726,    3,  153, 1571,   10,    5, 1961,    6,   11,   14,  945,\n",
              "        296,   15,    2, 1334,    2,   67,   35,   33,    1,   11,  491,\n",
              "          2,  184,    1,   69,  229,  624,   40, 1996,   12,    6,    1,\n",
              "         22,  151,    0,    0], dtype=int32)"
            ]
          },
          "metadata": {},
          "execution_count": 20
        }
      ]
    },
    {
      "cell_type": "code",
      "metadata": {
        "id": "W2Elw8wBv8WE",
        "colab": {
          "base_uri": "https://localhost:8080/"
        },
        "outputId": "32f15853-506e-4bdf-b9ec-3f92d7b447fe"
      },
      "source": [
        "X = X_pad\n",
        "y = df_new[['anger', 'disgust', 'fear', 'guilt', 'joy', 'sadness', 'shame']].values\n",
        "print(np.shape(X))\n",
        "print(np.shape(y))"
      ],
      "execution_count": 21,
      "outputs": [
        {
          "output_type": "stream",
          "name": "stdout",
          "text": [
            "(7516, 180)\n",
            "(7516, 7)\n"
          ]
        }
      ]
    },
    {
      "cell_type": "markdown",
      "source": [
        "load model word embedding"
      ],
      "metadata": {
        "id": "H6PacQf_tRL9"
      }
    },
    {
      "cell_type": "code",
      "source": [
        "pakai_model=1"
      ],
      "metadata": {
        "id": "7xkX3itbaKcM"
      },
      "execution_count": 22,
      "outputs": []
    },
    {
      "cell_type": "code",
      "source": [
        "from gensim.models import word2vec\n",
        "!pip install glove-python-binary\n",
        "from glove import Glove\n",
        "from glove import Corpus"
      ],
      "metadata": {
        "colab": {
          "base_uri": "https://localhost:8080/"
        },
        "id": "U7xbq3pvaOO4",
        "outputId": "b59b41a0-2326-4d09-8857-0752d298b725"
      },
      "execution_count": 23,
      "outputs": [
        {
          "output_type": "stream",
          "name": "stdout",
          "text": [
            "Collecting glove-python-binary\n",
            "  Downloading glove_python_binary-0.2.0-cp37-cp37m-manylinux1_x86_64.whl (948 kB)\n",
            "\u001b[?25l\r\u001b[K     |▍                               | 10 kB 34.0 MB/s eta 0:00:01\r\u001b[K     |▊                               | 20 kB 40.5 MB/s eta 0:00:01\r\u001b[K     |█                               | 30 kB 43.6 MB/s eta 0:00:01\r\u001b[K     |█▍                              | 40 kB 46.0 MB/s eta 0:00:01\r\u001b[K     |█▊                              | 51 kB 32.5 MB/s eta 0:00:01\r\u001b[K     |██                              | 61 kB 35.8 MB/s eta 0:00:01\r\u001b[K     |██▍                             | 71 kB 24.2 MB/s eta 0:00:01\r\u001b[K     |██▊                             | 81 kB 25.4 MB/s eta 0:00:01\r\u001b[K     |███                             | 92 kB 27.2 MB/s eta 0:00:01\r\u001b[K     |███▌                            | 102 kB 28.9 MB/s eta 0:00:01\r\u001b[K     |███▉                            | 112 kB 28.9 MB/s eta 0:00:01\r\u001b[K     |████▏                           | 122 kB 28.9 MB/s eta 0:00:01\r\u001b[K     |████▌                           | 133 kB 28.9 MB/s eta 0:00:01\r\u001b[K     |████▉                           | 143 kB 28.9 MB/s eta 0:00:01\r\u001b[K     |█████▏                          | 153 kB 28.9 MB/s eta 0:00:01\r\u001b[K     |█████▌                          | 163 kB 28.9 MB/s eta 0:00:01\r\u001b[K     |█████▉                          | 174 kB 28.9 MB/s eta 0:00:01\r\u001b[K     |██████▏                         | 184 kB 28.9 MB/s eta 0:00:01\r\u001b[K     |██████▋                         | 194 kB 28.9 MB/s eta 0:00:01\r\u001b[K     |███████                         | 204 kB 28.9 MB/s eta 0:00:01\r\u001b[K     |███████▎                        | 215 kB 28.9 MB/s eta 0:00:01\r\u001b[K     |███████▋                        | 225 kB 28.9 MB/s eta 0:00:01\r\u001b[K     |████████                        | 235 kB 28.9 MB/s eta 0:00:01\r\u001b[K     |████████▎                       | 245 kB 28.9 MB/s eta 0:00:01\r\u001b[K     |████████▋                       | 256 kB 28.9 MB/s eta 0:00:01\r\u001b[K     |█████████                       | 266 kB 28.9 MB/s eta 0:00:01\r\u001b[K     |█████████▎                      | 276 kB 28.9 MB/s eta 0:00:01\r\u001b[K     |█████████▊                      | 286 kB 28.9 MB/s eta 0:00:01\r\u001b[K     |██████████                      | 296 kB 28.9 MB/s eta 0:00:01\r\u001b[K     |██████████▍                     | 307 kB 28.9 MB/s eta 0:00:01\r\u001b[K     |██████████▊                     | 317 kB 28.9 MB/s eta 0:00:01\r\u001b[K     |███████████                     | 327 kB 28.9 MB/s eta 0:00:01\r\u001b[K     |███████████▍                    | 337 kB 28.9 MB/s eta 0:00:01\r\u001b[K     |███████████▊                    | 348 kB 28.9 MB/s eta 0:00:01\r\u001b[K     |████████████                    | 358 kB 28.9 MB/s eta 0:00:01\r\u001b[K     |████████████▍                   | 368 kB 28.9 MB/s eta 0:00:01\r\u001b[K     |████████████▊                   | 378 kB 28.9 MB/s eta 0:00:01\r\u001b[K     |█████████████▏                  | 389 kB 28.9 MB/s eta 0:00:01\r\u001b[K     |█████████████▌                  | 399 kB 28.9 MB/s eta 0:00:01\r\u001b[K     |█████████████▉                  | 409 kB 28.9 MB/s eta 0:00:01\r\u001b[K     |██████████████▏                 | 419 kB 28.9 MB/s eta 0:00:01\r\u001b[K     |██████████████▌                 | 430 kB 28.9 MB/s eta 0:00:01\r\u001b[K     |██████████████▉                 | 440 kB 28.9 MB/s eta 0:00:01\r\u001b[K     |███████████████▏                | 450 kB 28.9 MB/s eta 0:00:01\r\u001b[K     |███████████████▌                | 460 kB 28.9 MB/s eta 0:00:01\r\u001b[K     |███████████████▉                | 471 kB 28.9 MB/s eta 0:00:01\r\u001b[K     |████████████████▎               | 481 kB 28.9 MB/s eta 0:00:01\r\u001b[K     |████████████████▋               | 491 kB 28.9 MB/s eta 0:00:01\r\u001b[K     |█████████████████               | 501 kB 28.9 MB/s eta 0:00:01\r\u001b[K     |█████████████████▎              | 512 kB 28.9 MB/s eta 0:00:01\r\u001b[K     |█████████████████▋              | 522 kB 28.9 MB/s eta 0:00:01\r\u001b[K     |██████████████████              | 532 kB 28.9 MB/s eta 0:00:01\r\u001b[K     |██████████████████▎             | 542 kB 28.9 MB/s eta 0:00:01\r\u001b[K     |██████████████████▋             | 552 kB 28.9 MB/s eta 0:00:01\r\u001b[K     |███████████████████             | 563 kB 28.9 MB/s eta 0:00:01\r\u001b[K     |███████████████████▍            | 573 kB 28.9 MB/s eta 0:00:01\r\u001b[K     |███████████████████▊            | 583 kB 28.9 MB/s eta 0:00:01\r\u001b[K     |████████████████████            | 593 kB 28.9 MB/s eta 0:00:01\r\u001b[K     |████████████████████▍           | 604 kB 28.9 MB/s eta 0:00:01\r\u001b[K     |████████████████████▊           | 614 kB 28.9 MB/s eta 0:00:01\r\u001b[K     |█████████████████████           | 624 kB 28.9 MB/s eta 0:00:01\r\u001b[K     |█████████████████████▍          | 634 kB 28.9 MB/s eta 0:00:01\r\u001b[K     |█████████████████████▊          | 645 kB 28.9 MB/s eta 0:00:01\r\u001b[K     |██████████████████████          | 655 kB 28.9 MB/s eta 0:00:01\r\u001b[K     |██████████████████████▌         | 665 kB 28.9 MB/s eta 0:00:01\r\u001b[K     |██████████████████████▉         | 675 kB 28.9 MB/s eta 0:00:01\r\u001b[K     |███████████████████████▏        | 686 kB 28.9 MB/s eta 0:00:01\r\u001b[K     |███████████████████████▌        | 696 kB 28.9 MB/s eta 0:00:01\r\u001b[K     |███████████████████████▉        | 706 kB 28.9 MB/s eta 0:00:01\r\u001b[K     |████████████████████████▏       | 716 kB 28.9 MB/s eta 0:00:01\r\u001b[K     |████████████████████████▌       | 727 kB 28.9 MB/s eta 0:00:01\r\u001b[K     |████████████████████████▉       | 737 kB 28.9 MB/s eta 0:00:01\r\u001b[K     |█████████████████████████▏      | 747 kB 28.9 MB/s eta 0:00:01\r\u001b[K     |█████████████████████████▌      | 757 kB 28.9 MB/s eta 0:00:01\r\u001b[K     |██████████████████████████      | 768 kB 28.9 MB/s eta 0:00:01\r\u001b[K     |██████████████████████████▎     | 778 kB 28.9 MB/s eta 0:00:01\r\u001b[K     |██████████████████████████▋     | 788 kB 28.9 MB/s eta 0:00:01\r\u001b[K     |███████████████████████████     | 798 kB 28.9 MB/s eta 0:00:01\r\u001b[K     |███████████████████████████▎    | 808 kB 28.9 MB/s eta 0:00:01\r\u001b[K     |███████████████████████████▋    | 819 kB 28.9 MB/s eta 0:00:01\r\u001b[K     |████████████████████████████    | 829 kB 28.9 MB/s eta 0:00:01\r\u001b[K     |████████████████████████████▎   | 839 kB 28.9 MB/s eta 0:00:01\r\u001b[K     |████████████████████████████▋   | 849 kB 28.9 MB/s eta 0:00:01\r\u001b[K     |█████████████████████████████   | 860 kB 28.9 MB/s eta 0:00:01\r\u001b[K     |█████████████████████████████▍  | 870 kB 28.9 MB/s eta 0:00:01\r\u001b[K     |█████████████████████████████▊  | 880 kB 28.9 MB/s eta 0:00:01\r\u001b[K     |██████████████████████████████  | 890 kB 28.9 MB/s eta 0:00:01\r\u001b[K     |██████████████████████████████▍ | 901 kB 28.9 MB/s eta 0:00:01\r\u001b[K     |██████████████████████████████▊ | 911 kB 28.9 MB/s eta 0:00:01\r\u001b[K     |███████████████████████████████ | 921 kB 28.9 MB/s eta 0:00:01\r\u001b[K     |███████████████████████████████▍| 931 kB 28.9 MB/s eta 0:00:01\r\u001b[K     |███████████████████████████████▊| 942 kB 28.9 MB/s eta 0:00:01\r\u001b[K     |████████████████████████████████| 948 kB 28.9 MB/s \n",
            "\u001b[?25hRequirement already satisfied: scipy in /usr/local/lib/python3.7/dist-packages (from glove-python-binary) (1.4.1)\n",
            "Requirement already satisfied: numpy in /usr/local/lib/python3.7/dist-packages (from glove-python-binary) (1.19.5)\n",
            "Installing collected packages: glove-python-binary\n",
            "Successfully installed glove-python-binary-0.2.0\n"
          ]
        }
      ]
    },
    {
      "cell_type": "code",
      "source": [
        "if pakai_model == 1:#load model word2vec\n",
        "  model = gensim.models.word2vec.Word2Vec.load('/content/drive/MyDrive/korpusblogspertiga(preputama).w2v')\n",
        "\n",
        "elif pakai_model == 2:#load model glove\n",
        "  model=Glove.load('/content/drive/MyDrive/korpusblogspertiga(preputama).glove')"
      ],
      "metadata": {
        "id": "HjQcCGwYaX3S"
      },
      "execution_count": 24,
      "outputs": []
    },
    {
      "cell_type": "markdown",
      "source": [
        "cek model word embedding"
      ],
      "metadata": {
        "id": "J0Jlk0notaUr"
      }
    },
    {
      "cell_type": "code",
      "source": [
        "if pakai_model == 1:\n",
        "  print(model.wv.vectors.shape)\n",
        "elif pakai_model == 2:\n",
        "  print(model.word_vectors.shape)"
      ],
      "metadata": {
        "colab": {
          "base_uri": "https://localhost:8080/"
        },
        "id": "oE-vbIpqaca4",
        "outputId": "186740e3-7842-4ab0-f72c-e67075434a5e"
      },
      "execution_count": 25,
      "outputs": [
        {
          "output_type": "stream",
          "name": "stdout",
          "text": [
            "(1048781, 100)\n"
          ]
        }
      ]
    },
    {
      "cell_type": "code",
      "source": [
        "if pakai_model == 1:\n",
        "  print(model.wv[\"moment\"])\n",
        "elif pakai_model == 2:\n",
        "  print(model.word_vectors[model.dictionary['moment']])"
      ],
      "metadata": {
        "id": "80ry-JxKcK3w"
      },
      "execution_count": null,
      "outputs": []
    },
    {
      "cell_type": "markdown",
      "source": [
        "buat dictionary"
      ],
      "metadata": {
        "id": "rCcjFXR2NOX_"
      }
    },
    {
      "cell_type": "code",
      "source": [
        "num_words = len(word_index) + 1\n",
        "embedding_matrix = np.zeros((num_words, 100))"
      ],
      "metadata": {
        "id": "dbMgDY3tf-cl"
      },
      "execution_count": 26,
      "outputs": []
    },
    {
      "cell_type": "code",
      "source": [
        "word_index[\"germs\"]"
      ],
      "metadata": {
        "colab": {
          "base_uri": "https://localhost:8080/"
        },
        "id": "QBy3_DgRgwbo",
        "outputId": "1bfa0e7a-db96-4bb1-a691-ef2a7da2e6f4"
      },
      "execution_count": 27,
      "outputs": [
        {
          "output_type": "execute_result",
          "data": {
            "text/plain": [
              "9204"
            ]
          },
          "metadata": {},
          "execution_count": 27
        }
      ]
    },
    {
      "cell_type": "code",
      "source": [
        "for word, i in word_index.items():\n",
        "  embedding_matrix[i] = model.wv[word]"
      ],
      "metadata": {
        "id": "dY76k1SGNOAG"
      },
      "execution_count": 28,
      "outputs": []
    },
    {
      "cell_type": "code",
      "source": [
        "embedding_matrix"
      ],
      "metadata": {
        "colab": {
          "base_uri": "https://localhost:8080/"
        },
        "id": "OVKmkuYqH0U-",
        "outputId": "cc5a5ba9-9fb6-442f-d00a-0ccc1e2481c7"
      },
      "execution_count": 29,
      "outputs": [
        {
          "output_type": "execute_result",
          "data": {
            "text/plain": [
              "array([[ 0.        ,  0.        ,  0.        , ...,  0.        ,\n",
              "         0.        ,  0.        ],\n",
              "       [-0.30040976, -0.64987355, -0.24826317, ..., -0.01114162,\n",
              "         0.33765933, -0.29789779],\n",
              "       [-0.14434472, -0.74197435,  0.17227097, ..., -0.21401656,\n",
              "         0.26530993,  0.0227598 ],\n",
              "       ...,\n",
              "       [-0.05346367, -0.19583617,  0.02418035, ..., -0.08031848,\n",
              "         0.03016862, -0.12204677],\n",
              "       [-0.10206933, -0.95014596,  0.03156902, ..., -0.39531717,\n",
              "         0.36152655, -0.16352107],\n",
              "       [-0.49336624, -1.29626536,  0.36917949, ..., -0.29623368,\n",
              "         0.31606525, -0.29229671]])"
            ]
          },
          "metadata": {},
          "execution_count": 29
        }
      ]
    },
    {
      "cell_type": "code",
      "source": [
        "embedding_matrix[1]"
      ],
      "metadata": {
        "colab": {
          "base_uri": "https://localhost:8080/"
        },
        "id": "HwNGX9M5Hm9h",
        "outputId": "29b27b34-b11e-4d30-d1eb-96c4b57795a5"
      },
      "execution_count": 30,
      "outputs": [
        {
          "output_type": "execute_result",
          "data": {
            "text/plain": [
              "array([-0.30040976, -0.64987355, -0.24826317, -0.12131403,  0.42547616,\n",
              "       -0.13998678, -0.02344942,  0.21993153,  0.35071224, -0.34729218,\n",
              "       -0.61346871, -0.03249885,  0.26521727,  0.69425452, -0.2752246 ,\n",
              "       -0.01129004, -0.17267342, -0.20089123,  0.07911429,  0.20084099,\n",
              "        0.02288227,  0.5275932 , -0.53904051,  0.09225821, -0.54486567,\n",
              "        0.00817079,  0.1622567 , -0.21405798,  0.21704042, -0.0097041 ,\n",
              "        0.21877004, -0.24336334,  0.07432482, -0.2949656 , -0.11158773,\n",
              "       -0.03473542,  0.00818514, -0.09266359, -0.1656384 , -0.30983981,\n",
              "        0.21611898, -0.00087353, -0.01607935,  0.16707823,  0.44705057,\n",
              "       -0.361334  , -0.60116798,  0.20114972,  0.47745922,  0.2990815 ,\n",
              "        0.43261266,  0.59778345,  0.22413385,  0.10090103, -0.43662718,\n",
              "       -0.32148597, -0.1543557 ,  0.14497741, -0.13432887,  0.30240589,\n",
              "        0.04774194, -0.19085115,  0.22615178, -0.24614114, -0.51119995,\n",
              "       -0.18264107,  0.20407912,  0.53222209,  0.07027743, -0.250889  ,\n",
              "        0.41959596,  0.24895301,  0.10475017,  0.24674487,  0.38446659,\n",
              "       -0.42145368,  0.35253549,  0.22626708,  0.11995105,  0.28648701,\n",
              "       -0.4762499 , -0.17861176, -0.54885745, -0.21025315, -0.15392266,\n",
              "       -0.13375627,  0.19426607, -0.15280329,  0.2697171 , -0.08814056,\n",
              "       -0.21393098, -0.1446293 , -0.2343158 ,  0.15564777,  0.16855103,\n",
              "        0.14971852,  0.2336901 , -0.01114162,  0.33765933, -0.29789779])"
            ]
          },
          "metadata": {},
          "execution_count": 30
        }
      ]
    },
    {
      "cell_type": "code",
      "source": [
        "embedding_matrix.shape"
      ],
      "metadata": {
        "colab": {
          "base_uri": "https://localhost:8080/"
        },
        "id": "lMANpU6jhT6V",
        "outputId": "7bce8553-112c-4c4e-9ad2-e58b792edc93"
      },
      "execution_count": 31,
      "outputs": [
        {
          "output_type": "execute_result",
          "data": {
            "text/plain": [
              "(9205, 100)"
            ]
          },
          "metadata": {},
          "execution_count": 31
        }
      ]
    },
    {
      "cell_type": "markdown",
      "source": [
        "average base ektraksi fitur (jika makai)"
      ],
      "metadata": {
        "id": "gWb0Xc90tdpE"
      }
    },
    {
      "cell_type": "code",
      "source": [
        "import array\n",
        "ekstrak=[]\n",
        "temp=array.array('i',(0,)*100)\n",
        "\n",
        "if pakai_model == 1:\n",
        "  for senten in df.dokumen:\n",
        "    for word in senten:\n",
        "      temp=np.add(temp,model.wv[word])\n",
        "    temp=temp/len(senten)\n",
        "    ekstrak.append(temp)\n",
        "\n",
        "elif pakai_model == 2:\n",
        "  for senten in df.dokumen:\n",
        "    for word in senten:\n",
        "      temp=np.add(temp,model.word_vectors[model.dictionary[word]])\n",
        "    temp=temp/len(senten)\n",
        "    ekstrak.append(temp)\n",
        "\n",
        "has_vec=ekstrak"
      ],
      "metadata": {
        "id": "MKWo_7kicQVk"
      },
      "execution_count": null,
      "outputs": []
    },
    {
      "cell_type": "markdown",
      "source": [
        "buat arsitektur lstm"
      ],
      "metadata": {
        "id": "bTSW7c2ZILHF"
      }
    },
    {
      "cell_type": "code",
      "metadata": {
        "colab": {
          "base_uri": "https://localhost:8080/"
        },
        "id": "BV2d3Q0Oxmgo",
        "outputId": "395762a9-d25e-4647-ae8c-d47eb4895aaf"
      },
      "source": [
        "from tensorflow.keras.models import Sequential\n",
        "from tensorflow.keras.layers import Embedding, Dense, LSTM, Dropout, Bidirectional\n",
        "import tensorflow as tf\n",
        "from keras.initializers import Constant\n",
        "\n",
        "\n",
        "# Creating model\n",
        "model = Sequential()\n",
        "\n",
        "# model.add(Embedding(num_words, 100, embeddings_initializer=Constant(embedding_matrix), input_length=max_features, trainable=False,))\n",
        "# model.add(LSTM(100, dropout=0.1))\n",
        "# model.add(Dense(7, activation=\"softmax\"))\n",
        "\n",
        "model.add(Embedding(num_words, 100, embeddings_initializer=Constant(embedding_matrix), input_length=max_features, trainable=False,))\n",
        "model.add(Dropout(0.3))\n",
        "model.add(Bidirectional(LSTM(100, dropout=0.1)))\n",
        "model.add(Dropout(0.3))\n",
        "model.add(Dense(82, activation='relu'))\n",
        "model.add(Dropout(0.3))\n",
        "model.add(Dense(64, activation='relu'))\n",
        "model.add(Dropout(0.3))\n",
        "model.add(Dense(7, activation='softmax'))\n",
        "\n",
        "model.compile(loss='categorical_crossentropy',optimizer= tf.keras.optimizers.Adam(), metrics=['accuracy'])\n",
        "\n",
        "model.summary()"
      ],
      "execution_count": 32,
      "outputs": [
        {
          "output_type": "stream",
          "name": "stdout",
          "text": [
            "Model: \"sequential\"\n",
            "_________________________________________________________________\n",
            " Layer (type)                Output Shape              Param #   \n",
            "=================================================================\n",
            " embedding (Embedding)       (None, 180, 100)          920500    \n",
            "                                                                 \n",
            " dropout (Dropout)           (None, 180, 100)          0         \n",
            "                                                                 \n",
            " bidirectional (Bidirectiona  (None, 200)              160800    \n",
            " l)                                                              \n",
            "                                                                 \n",
            " dropout_1 (Dropout)         (None, 200)               0         \n",
            "                                                                 \n",
            " dense (Dense)               (None, 82)                16482     \n",
            "                                                                 \n",
            " dropout_2 (Dropout)         (None, 82)                0         \n",
            "                                                                 \n",
            " dense_1 (Dense)             (None, 64)                5312      \n",
            "                                                                 \n",
            " dropout_3 (Dropout)         (None, 64)                0         \n",
            "                                                                 \n",
            " dense_2 (Dense)             (None, 7)                 455       \n",
            "                                                                 \n",
            "=================================================================\n",
            "Total params: 1,103,549\n",
            "Trainable params: 183,049\n",
            "Non-trainable params: 920,500\n",
            "_________________________________________________________________\n"
          ]
        }
      ]
    },
    {
      "cell_type": "code",
      "metadata": {
        "id": "X3MnC_IB6Dra"
      },
      "source": [
        "from keras import callbacks\n",
        "\n",
        "earlystopping = callbacks.EarlyStopping(monitor =\"val_loss\", \n",
        "                                        mode =\"min\", patience = 3, \n",
        "                                        restore_best_weights = True)"
      ],
      "execution_count": 33,
      "outputs": []
    },
    {
      "cell_type": "markdown",
      "source": [
        "train test split"
      ],
      "metadata": {
        "id": "LZFL8-jhO0Vk"
      }
    },
    {
      "cell_type": "code",
      "source": [
        "print(np.shape(X))\n",
        "print(np.shape(y))"
      ],
      "metadata": {
        "id": "6arVj2_eP5-F",
        "outputId": "59cbfd85-7dcd-4ec5-c297-26ae013f42d1",
        "colab": {
          "base_uri": "https://localhost:8080/"
        }
      },
      "execution_count": 34,
      "outputs": [
        {
          "output_type": "stream",
          "name": "stdout",
          "text": [
            "(7516, 180)\n",
            "(7516, 7)\n"
          ]
        }
      ]
    },
    {
      "cell_type": "code",
      "metadata": {
        "id": "QuJf3YwPvji9"
      },
      "source": [
        "X_train, X_test, y_train, y_test = train_test_split(X, y, random_state=0, test_size=0.2,)"
      ],
      "execution_count": 35,
      "outputs": []
    },
    {
      "cell_type": "code",
      "source": [
        "# print(np.shape(X_train))\n",
        "# print(np.shape(X_test))\n",
        "# print(np.shape(y_train))\n",
        "# print(np.shape(y_test))"
      ],
      "metadata": {
        "colab": {
          "base_uri": "https://localhost:8080/"
        },
        "id": "TLoQpldJddLs",
        "outputId": "9e4dd4d5-b1a8-4f80-e4b0-0125344c1d1f"
      },
      "execution_count": 23,
      "outputs": [
        {
          "output_type": "stream",
          "name": "stdout",
          "text": [
            "(6012, 180)\n",
            "(1504, 180)\n",
            "(6012, 7)\n",
            "(1504, 7)\n"
          ]
        }
      ]
    },
    {
      "cell_type": "code",
      "source": [
        "# history = model.fit(X_train, y_train, epochs=30, \n",
        "#                     validation_data=(X_test, y_test), \n",
        "#                     callbacks=[earlystopping], verbose=1)\n",
        "\n",
        "history = model.fit(X_train, y_train, epochs=30, verbose=1)"
      ],
      "metadata": {
        "id": "g4gncq5lwx65",
        "outputId": "9e9e4c58-a5c1-4a9a-f434-3fe78644245b",
        "colab": {
          "base_uri": "https://localhost:8080/"
        }
      },
      "execution_count": 44,
      "outputs": [
        {
          "output_type": "stream",
          "name": "stdout",
          "text": [
            "Epoch 1/30\n",
            "188/188 [==============================] - 6s 31ms/step - loss: 0.8401 - accuracy: 0.7001\n",
            "Epoch 2/30\n",
            "188/188 [==============================] - 5s 26ms/step - loss: 0.8461 - accuracy: 0.6976\n",
            "Epoch 3/30\n",
            "188/188 [==============================] - 3s 18ms/step - loss: 0.8158 - accuracy: 0.7034\n",
            "Epoch 4/30\n",
            "188/188 [==============================] - 3s 17ms/step - loss: 0.8527 - accuracy: 0.6966\n",
            "Epoch 5/30\n",
            "188/188 [==============================] - 3s 18ms/step - loss: 0.8407 - accuracy: 0.7009\n",
            "Epoch 6/30\n",
            "188/188 [==============================] - 3s 17ms/step - loss: 0.8047 - accuracy: 0.7181\n",
            "Epoch 7/30\n",
            "188/188 [==============================] - 3s 18ms/step - loss: 0.8078 - accuracy: 0.7092\n",
            "Epoch 8/30\n",
            "188/188 [==============================] - 3s 18ms/step - loss: 0.8107 - accuracy: 0.7066\n",
            "Epoch 9/30\n",
            "188/188 [==============================] - 3s 18ms/step - loss: 0.8010 - accuracy: 0.7172\n",
            "Epoch 10/30\n",
            "188/188 [==============================] - 3s 17ms/step - loss: 0.7957 - accuracy: 0.7159\n",
            "Epoch 11/30\n",
            "188/188 [==============================] - 3s 17ms/step - loss: 0.7832 - accuracy: 0.7174\n",
            "Epoch 12/30\n",
            "188/188 [==============================] - 3s 17ms/step - loss: 0.7822 - accuracy: 0.7184\n",
            "Epoch 13/30\n",
            "188/188 [==============================] - 3s 18ms/step - loss: 0.7702 - accuracy: 0.7229\n",
            "Epoch 14/30\n",
            "188/188 [==============================] - 3s 17ms/step - loss: 0.7879 - accuracy: 0.7177\n",
            "Epoch 15/30\n",
            "188/188 [==============================] - 3s 17ms/step - loss: 0.7710 - accuracy: 0.7342\n",
            "Epoch 16/30\n",
            "188/188 [==============================] - 3s 18ms/step - loss: 0.7572 - accuracy: 0.7282\n",
            "Epoch 17/30\n",
            "188/188 [==============================] - 3s 17ms/step - loss: 0.7716 - accuracy: 0.7219\n",
            "Epoch 18/30\n",
            "188/188 [==============================] - 3s 18ms/step - loss: 0.7549 - accuracy: 0.7334\n",
            "Epoch 19/30\n",
            "188/188 [==============================] - 3s 17ms/step - loss: 0.7615 - accuracy: 0.7297\n",
            "Epoch 20/30\n",
            "188/188 [==============================] - 3s 18ms/step - loss: 0.7441 - accuracy: 0.7375\n",
            "Epoch 21/30\n",
            "188/188 [==============================] - 3s 18ms/step - loss: 0.7469 - accuracy: 0.7362\n",
            "Epoch 22/30\n",
            "188/188 [==============================] - 3s 18ms/step - loss: 0.7271 - accuracy: 0.7329\n",
            "Epoch 23/30\n",
            "188/188 [==============================] - 3s 18ms/step - loss: 0.7513 - accuracy: 0.7322\n",
            "Epoch 24/30\n",
            "188/188 [==============================] - 3s 17ms/step - loss: 0.7428 - accuracy: 0.7364\n",
            "Epoch 25/30\n",
            "188/188 [==============================] - 3s 18ms/step - loss: 0.7146 - accuracy: 0.7460\n",
            "Epoch 26/30\n",
            "188/188 [==============================] - 3s 17ms/step - loss: 0.7185 - accuracy: 0.7440\n",
            "Epoch 27/30\n",
            "188/188 [==============================] - 3s 18ms/step - loss: 0.7099 - accuracy: 0.7447\n",
            "Epoch 28/30\n",
            "188/188 [==============================] - 3s 17ms/step - loss: 0.7286 - accuracy: 0.7452\n",
            "Epoch 29/30\n",
            "188/188 [==============================] - 3s 17ms/step - loss: 0.6949 - accuracy: 0.7522\n",
            "Epoch 30/30\n",
            "188/188 [==============================] - 3s 18ms/step - loss: 0.7034 - accuracy: 0.7550\n"
          ]
        }
      ]
    },
    {
      "cell_type": "code",
      "source": [
        "# predict_x=model.predict(X_test) \n",
        "# classes_x=np.argmax(predict_x,axis=1)\n",
        "\n",
        "predict_x=model.predict(X_test)\n",
        "y_temp=np.argmax(predict_x,axis=1)"
      ],
      "metadata": {
        "id": "JajzzTv-yBM4"
      },
      "execution_count": 46,
      "outputs": []
    },
    {
      "cell_type": "code",
      "source": [
        "unique, counts = np.unique(y_temp, return_counts=True)\n",
        "dict(zip(unique, counts))"
      ],
      "metadata": {
        "id": "bkb36k422G_c",
        "outputId": "73214849-4d78-41b8-ad5b-54264474f7fe",
        "colab": {
          "base_uri": "https://localhost:8080/"
        }
      },
      "execution_count": 53,
      "outputs": [
        {
          "output_type": "execute_result",
          "data": {
            "text/plain": [
              "{0: 212, 1: 155, 2: 225, 3: 207, 4: 281, 5: 175, 6: 249}"
            ]
          },
          "metadata": {},
          "execution_count": 53
        }
      ]
    },
    {
      "cell_type": "code",
      "source": [
        "np.sum(counts)"
      ],
      "metadata": {
        "id": "0n52c0JN4veS",
        "outputId": "77f9e438-7284-446c-e33c-c48eb4c99100",
        "colab": {
          "base_uri": "https://localhost:8080/"
        }
      },
      "execution_count": 55,
      "outputs": [
        {
          "output_type": "execute_result",
          "data": {
            "text/plain": [
              "1504"
            ]
          },
          "metadata": {},
          "execution_count": 55
        }
      ]
    },
    {
      "cell_type": "code",
      "source": [
        "y_temp.count(1)"
      ],
      "metadata": {
        "id": "0vjV5xjf3rEJ",
        "outputId": "2cb15fc0-b338-401c-8b7c-d1861765823b",
        "colab": {
          "base_uri": "https://localhost:8080/",
          "height": 172
        }
      },
      "execution_count": 51,
      "outputs": [
        {
          "output_type": "error",
          "ename": "AttributeError",
          "evalue": "ignored",
          "traceback": [
            "\u001b[0;31m---------------------------------------------------------------------------\u001b[0m",
            "\u001b[0;31mAttributeError\u001b[0m                            Traceback (most recent call last)",
            "\u001b[0;32m<ipython-input-51-dbb71fb06866>\u001b[0m in \u001b[0;36m<module>\u001b[0;34m()\u001b[0m\n\u001b[0;32m----> 1\u001b[0;31m \u001b[0my_temp\u001b[0m\u001b[0;34m.\u001b[0m\u001b[0mcount\u001b[0m\u001b[0;34m(\u001b[0m\u001b[0;36m1\u001b[0m\u001b[0;34m)\u001b[0m\u001b[0;34m\u001b[0m\u001b[0;34m\u001b[0m\u001b[0m\n\u001b[0m",
            "\u001b[0;31mAttributeError\u001b[0m: 'numpy.ndarray' object has no attribute 'count'"
          ]
        }
      ]
    },
    {
      "cell_type": "code",
      "source": [
        "from sklearn.model_selection import KFold\n",
        "\n",
        "kf = KFold(n_splits=10)\n",
        "\n",
        "for train_index, test_index in kf.split(X,y):\n",
        "  history = model.fit(X[train_index], y[train_index], epochs=20, \n",
        "                    validation_data=(X[train_index], y[train_index]), \n",
        "                    callbacks=[earlystopping],verbose=1)"
      ],
      "metadata": {
        "id": "bCJuFXFYQQep",
        "outputId": "7891fa55-5b55-4b64-9b09-9bafff5edb29",
        "colab": {
          "base_uri": "https://localhost:8080/"
        }
      },
      "execution_count": 60,
      "outputs": [
        {
          "output_type": "stream",
          "name": "stdout",
          "text": [
            "KFold(n_splits=10, random_state=None, shuffle=False)\n"
          ]
        }
      ]
    },
    {
      "cell_type": "code",
      "metadata": {
        "colab": {
          "base_uri": "https://localhost:8080/",
          "height": 295
        },
        "id": "S2NyEkGw6eAF",
        "outputId": "e255eccf-cb41-419b-fe04-da4c165a95ee"
      },
      "source": [
        "import matplotlib.pyplot as plt\n",
        "%matplotlib inline\n",
        "\n",
        "plt.figure()\n",
        "plt.plot(history.history[\"accuracy\"], label = \"Train\")\n",
        "plt.plot(history.history[\"val_accuracy\"], label = \"Test\")\n",
        "plt.title(\"Accuracy\")\n",
        "plt.ylabel(\"Acc\")\n",
        "plt.xlabel(\"epochs\")\n",
        "plt.legend()\n",
        "plt.show()"
      ],
      "execution_count": 37,
      "outputs": [
        {
          "output_type": "display_data",
          "data": {
            "image/png": "[encoded data removed]",
            "text/plain": [
              "<Figure size 432x288 with 1 Axes>"
            ]
          },
          "metadata": {
            "needs_background": "light"
          }
        }
      ]
    },
    {
      "cell_type": "code",
      "metadata": {
        "colab": {
          "base_uri": "https://localhost:8080/",
          "height": 295
        },
        "id": "1vLsQnhG6lCm",
        "outputId": "91db89c4-421c-456e-b11e-df0ea40b77c3"
      },
      "source": [
        "plt.figure()\n",
        "plt.plot(history.history[\"loss\"], label = \"Train\")\n",
        "plt.plot(history.history[\"val_loss\"], label = \"Test\")\n",
        "plt.title(\"Loss\")\n",
        "plt.ylabel(\"Acc\")\n",
        "plt.xlabel(\"epochs\")\n",
        "plt.legend()\n",
        "plt.show()"
      ],
      "execution_count": 38,
      "outputs": [
        {
          "output_type": "display_data",
          "data": {
            "image/png": "[encoded data removed]",
            "text/plain": [
              "<Figure size 432x288 with 1 Axes>"
            ]
          },
          "metadata": {
            "needs_background": "light"
          }
        }
      ]
    },
    {
      "cell_type": "code",
      "metadata": {
        "colab": {
          "base_uri": "https://localhost:8080/"
        },
        "id": "uFnCmfGUvnzh",
        "outputId": "e0ff72c5-59a8-4165-dcaf-19583deaecc9"
      },
      "source": [
        "model.evaluate(X_test, y_test)"
      ],
      "execution_count": 39,
      "outputs": [
        {
          "output_type": "stream",
          "name": "stdout",
          "text": [
            "47/47 [==============================] - 1s 11ms/step - loss: 1.0708 - accuracy: 0.6257\n"
          ]
        },
        {
          "output_type": "execute_result",
          "data": {
            "text/plain": [
              "[1.0707762241363525, 0.6256648898124695]"
            ]
          },
          "metadata": {},
          "execution_count": 39
        }
      ]
    },
    {
      "cell_type": "code",
      "metadata": {
        "id": "1gF77SRNvzQY"
      },
      "source": [
        ""
      ],
      "execution_count": null,
      "outputs": []
    }
  ]
}