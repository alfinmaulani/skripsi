{
  "nbformat": 4,
  "nbformat_minor": 0,
  "metadata": {
    "colab": {
      "name": "average.ipynb",
      "provenance": [],
      "authorship_tag": "ABX9TyP32ys5ywOzr4/7FeOBMUCL",
      "include_colab_link": true
    },
    "kernelspec": {
      "name": "python3",
      "display_name": "Python 3"
    },
    "language_info": {
      "name": "python"
    }
  },
  "cells": [
    {
      "cell_type": "markdown",
      "metadata": {
        "id": "view-in-github",
        "colab_type": "text"
      },
      "source": [
        "<a href=\"https://colab.research.google.com/github/alfinmaulani/skripsi/blob/master/average.ipynb\" target=\"_parent\"><img src=\"https://colab.research.google.com/assets/colab-badge.svg\" alt=\"Open In Colab\"/></a>"
      ]
    },
    {
      "cell_type": "markdown",
      "metadata": {
        "id": "vcoQp_9qJf3U"
      },
      "source": [
        "import"
      ]
    },
    {
      "cell_type": "code",
      "metadata": {
        "id": "ppjHrKAMn5M3"
      },
      "source": [
        "import re\n",
        "import csv\n",
        "import numpy as np\n",
        "import gensim\n",
        "import pandas as pd"
      ],
      "execution_count": 1,
      "outputs": []
    },
    {
      "cell_type": "markdown",
      "metadata": {
        "id": "B3U7TJuRJdBO"
      },
      "source": [
        "load file"
      ]
    },
    {
      "cell_type": "code",
      "metadata": {
        "id": "ZA8rXnXktJBo"
      },
      "source": [
        "url = 'https://raw.githubusercontent.com/alfinmaulani/skripsi/master/dataisearpreutama(mini).csv'\n",
        "df = pd.read_csv(url)\n",
        "# model=word2vec'https://github.com/alfinmaulani/skripsi/blob/master/w2v(-).model?raw=true'\n",
        "model = gensim.models.word2vec.Word2Vec.load('https://github.com/alfinmaulani/skripsi/blob/master/w2v(-).model?raw=true')"
      ],
      "execution_count": 2,
      "outputs": []
    },
    {
      "cell_type": "code",
      "metadata": {
        "id": "PoD06gwKJcN5"
      },
      "source": [
        ""
      ],
      "execution_count": 2,
      "outputs": []
    },
    {
      "cell_type": "code",
      "metadata": {
        "id": "cXq42LolaHv8"
      },
      "source": [
        ""
      ],
      "execution_count": 2,
      "outputs": []
    }
  ]
}