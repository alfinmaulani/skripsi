{
  "nbformat": 4,
  "nbformat_minor": 0,
  "metadata": {
    "colab": {
      "name": "average.ipynb",
      "provenance": [],
      "authorship_tag": "ABX9TyOOp/E5wwaabkNqRmMDi8om",
      "include_colab_link": true
    },
    "kernelspec": {
      "name": "python3",
      "display_name": "Python 3"
    },
    "language_info": {
      "name": "python"
    }
  },
  "cells": [
    {
      "cell_type": "markdown",
      "metadata": {
        "id": "view-in-github",
        "colab_type": "text"
      },
      "source": [
        "<a href=\"https://colab.research.google.com/github/alfinmaulani/skripsi/blob/master/average.ipynb\" target=\"_parent\"><img src=\"https://colab.research.google.com/assets/colab-badge.svg\" alt=\"Open In Colab\"/></a>"
      ]
    },
    {
      "cell_type": "markdown",
      "metadata": {
        "id": "vcoQp_9qJf3U"
      },
      "source": [
        "import"
      ]
    },
    {
      "cell_type": "code",
      "metadata": {
        "id": "ppjHrKAMn5M3"
      },
      "source": [
        "import re\n",
        "import csv\n",
        "import numpy as np\n",
        "import gensim\n",
        "import pandas as pd"
      ],
      "execution_count": null,
      "outputs": []
    },
    {
      "cell_type": "markdown",
      "metadata": {
        "id": "B3U7TJuRJdBO"
      },
      "source": [
        "load file"
      ]
    },
    {
      "cell_type": "code",
      "metadata": {
        "id": "ZA8rXnXktJBo"
      },
      "source": [
        "url = 'https://raw.githubusercontent.com/alfinmaulani/skripsi/master/dataisearpreutama(mini).csv'\n",
        "df = pd.read_csv(url)\n",
        "# model=word2vec'https://github.com/alfinmaulani/skripsi/blob/master/w2v(-).model?raw=true'\n",
        "model = gensim.models.word2vec.Word2Vec.load('https://github.com/alfinmaulani/skripsi/blob/master/w2v(-).model?raw=true')"
      ],
      "execution_count": null,
      "outputs": []
    },
    {
      "cell_type": "code",
      "metadata": {
        "id": "PoD06gwKJcN5",
        "colab": {
          "base_uri": "https://localhost:8080/"
        },
        "outputId": "bdbac14b-e2b9-45b8-845a-e968c018ccd1"
      },
      "source": [
        "def tes(x):\n",
        "  hasil =x*x\n",
        "  return hasil\n",
        "tes(7)\n",
        "\n",
        "def same_initial(wd1, wd2):\n",
        "        \"\"\"Tests if two words start with the same character,  \n",
        "        and returns True/False. Case distinction is ignored.\"\"\" \n",
        "        if wd1[0].lower() == wd2[0].lower(): \n",
        "            return wd1[0]\n",
        "        else: \n",
        "            return wd2\n",
        "\n",
        "help(same_initial)\n",
        "\n",
        "print(tes(7))\n",
        "\n",
        "same_initial('apple', 'orange')\n",
        "\n",
        "print(same_initial('Annie', 'apple'))\n",
        "\n",
        "print(same_initial('apple', 'orange'))\n",
        "\n",
        "\n",
        "def in_both(wd1, wd2):\n",
        "        \"Takes two strings, returns a sorted list of common characters\" \n",
        "        common = []\n",
        "        for c in wd1:\n",
        "            if c in wd2:\n",
        "                common.append(c)\t\t\t\n",
        "        return sorted(common)\n",
        "\n",
        "print(in_both('pear', 'apple'))\n",
        "\n",
        "in_both('linguistics', 'economics')"
      ],
      "execution_count": 23,
      "outputs": [
        {
          "output_type": "stream",
          "name": "stdout",
          "text": [
            "Help on function same_initial in module __main__:\n",
            "\n",
            "same_initial(wd1, wd2)\n",
            "    Tests if two words start with the same character,  \n",
            "    and returns True/False. Case distinction is ignored.\n",
            "\n",
            "49\n",
            "A\n",
            "['a', 'e', 'p']\n"
          ]
        },
        {
          "output_type": "execute_result",
          "data": {
            "text/plain": [
              "['c', 'i', 'i', 'i', 'n', 's', 's']"
            ]
          },
          "metadata": {},
          "execution_count": 23
        }
      ]
    },
    {
      "cell_type": "code",
      "metadata": {
        "colab": {
          "base_uri": "https://localhost:8080/",
          "height": 72
        },
        "id": "cXq42LolaHv8",
        "outputId": "8de97410-fdce-4014-9c84-be8748d35694"
      },
      "source": [
        "#function returnining\n",
        "def get_ing(wd):\n",
        "  # print(wd)\n",
        "  return wd + 'ing'\n",
        "\n",
        "#funtion void\n",
        "def print_ing(wd):\n",
        "        print(wd + 'ing')\n",
        "\n",
        "#return output\n",
        "print_ing('walk')\n",
        "#return value\n",
        "get_ing('sing')\n"
      ],
      "execution_count": 31,
      "outputs": [
        {
          "output_type": "stream",
          "name": "stdout",
          "text": [
            "walking\n",
            "sing\n"
          ]
        },
        {
          "output_type": "execute_result",
          "data": {
            "application/vnd.google.colaboratory.intrinsic+json": {
              "type": "string"
            },
            "text/plain": [
              "'singing'"
            ]
          },
          "metadata": {},
          "execution_count": 31
        }
      ]
    }
  ]
}