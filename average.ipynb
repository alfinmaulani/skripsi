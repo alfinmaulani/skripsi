{
  "nbformat": 4,
  "nbformat_minor": 0,
  "metadata": {
    "colab": {
      "name": "average.ipynb",
      "provenance": [],
      "authorship_tag": "ABX9TyPWUQ99EDsD8UXYTln4P60S",
      "include_colab_link": true
    },
    "kernelspec": {
      "name": "python3",
      "display_name": "Python 3"
    },
    "language_info": {
      "name": "python"
    }
  },
  "cells": [
    {
      "cell_type": "markdown",
      "metadata": {
        "id": "view-in-github",
        "colab_type": "text"
      },
      "source": [
        "<a href=\"https://colab.research.google.com/github/alfinmaulani/skripsi/blob/master/average.ipynb\" target=\"_parent\"><img src=\"https://colab.research.google.com/assets/colab-badge.svg\" alt=\"Open In Colab\"/></a>"
      ]
    },
    {
      "cell_type": "markdown",
      "metadata": {
        "id": "vcoQp_9qJf3U"
      },
      "source": [
        "import"
      ]
    },
    {
      "cell_type": "code",
      "metadata": {
        "id": "ppjHrKAMn5M3"
      },
      "source": [
        "import pandas as pd\n",
        "import numpy as np\n",
        "import gensim\n",
        "from nltk.tokenize import word_tokenize\n",
        "from gensim.models import word2vec"
      ],
      "execution_count": 2,
      "outputs": []
    },
    {
      "cell_type": "markdown",
      "metadata": {
        "id": "B3U7TJuRJdBO"
      },
      "source": [
        "load file"
      ]
    },
    {
      "cell_type": "code",
      "metadata": {
        "id": "ZA8rXnXktJBo"
      },
      "source": [
        "url = 'https://raw.githubusercontent.com/alfinmaulani/skripsi/master/dataisearpreutama(mini).csv'\n",
        "df = pd.read_csv(url)\n",
        "# model=word2vec'https://github.com/alfinmaulani/skripsi/blob/master/w2v(-).model?raw=true'\n",
        "model = gensim.models.word2vec.Word2Vec.load('https://github.com/alfinmaulani/skripsi/blob/master/w2v(-).model?raw=true')"
      ],
      "execution_count": 3,
      "outputs": []
    },
    {
      "cell_type": "code",
      "metadata": {
        "id": "PoD06gwKJcN5",
        "colab": {
          "base_uri": "https://localhost:8080/",
          "height": 206
        },
        "outputId": "8538fdd1-d512-4b25-9c29-7a1be1e6a172"
      },
      "source": [
        "df.head()"
      ],
      "execution_count": 4,
      "outputs": [
        {
          "output_type": "execute_result",
          "data": {
            "text/html": [
              "<div>\n",
              "<style scoped>\n",
              "    .dataframe tbody tr th:only-of-type {\n",
              "        vertical-align: middle;\n",
              "    }\n",
              "\n",
              "    .dataframe tbody tr th {\n",
              "        vertical-align: top;\n",
              "    }\n",
              "\n",
              "    .dataframe thead th {\n",
              "        text-align: right;\n",
              "    }\n",
              "</style>\n",
              "<table border=\"1\" class=\"dataframe\">\n",
              "  <thead>\n",
              "    <tr style=\"text-align: right;\">\n",
              "      <th></th>\n",
              "      <th>emosi</th>\n",
              "      <th>dokumen</th>\n",
              "    </tr>\n",
              "  </thead>\n",
              "  <tbody>\n",
              "    <tr>\n",
              "      <th>0</th>\n",
              "      <td>joy</td>\n",
              "      <td>on days when i feel close to my partner and ot...</td>\n",
              "    </tr>\n",
              "    <tr>\n",
              "      <th>1</th>\n",
              "      <td>fear</td>\n",
              "      <td>every time i imagine that someone i love or i ...</td>\n",
              "    </tr>\n",
              "    <tr>\n",
              "      <th>2</th>\n",
              "      <td>anger</td>\n",
              "      <td>when i had been obviously unjustly treated and...</td>\n",
              "    </tr>\n",
              "    <tr>\n",
              "      <th>3</th>\n",
              "      <td>sadness</td>\n",
              "      <td>when i think about the short time that we live...</td>\n",
              "    </tr>\n",
              "    <tr>\n",
              "      <th>4</th>\n",
              "      <td>disgust</td>\n",
              "      <td>at a gathering i found myself involuntarily si...</td>\n",
              "    </tr>\n",
              "  </tbody>\n",
              "</table>\n",
              "</div>"
            ],
            "text/plain": [
              "     emosi                                            dokumen\n",
              "0      joy  on days when i feel close to my partner and ot...\n",
              "1     fear  every time i imagine that someone i love or i ...\n",
              "2    anger  when i had been obviously unjustly treated and...\n",
              "3  sadness  when i think about the short time that we live...\n",
              "4  disgust  at a gathering i found myself involuntarily si..."
            ]
          },
          "metadata": {},
          "execution_count": 4
        }
      ]
    },
    {
      "cell_type": "code",
      "metadata": {
        "id": "cXq42LolaHv8",
        "outputId": "bcb81b32-808d-4e23-b73b-f105634cfd95",
        "colab": {
          "base_uri": "https://localhost:8080/"
        }
      },
      "source": [
        "# (untuk melihat trained word) \n",
        "# model.wv.index2word\n",
        "# melihat fitur kata tertentu\n",
        "# model.wv[\"moment\"]"
      ],
      "execution_count": 8,
      "outputs": [
        {
          "output_type": "execute_result",
          "data": {
            "text/plain": [
              "array([ 0.00598924, -0.31714764,  0.21213256,  0.17234129, -0.13857864,\n",
              "        0.02801024, -0.1737013 , -0.297744  ,  0.15031259,  0.2183335 ,\n",
              "        0.18701424, -0.3053165 ,  0.064633  ,  0.05398986, -0.13681835,\n",
              "        0.2534756 , -0.08500928, -0.42914554,  0.08859686, -0.07012045,\n",
              "        0.1636656 , -0.10061935, -0.02970161, -0.12248389, -0.14321627,\n",
              "       -0.30227152,  0.21421684, -0.14216436,  0.04684488,  0.06158552,\n",
              "        0.26652825,  0.03097125,  0.03843493, -0.30099896,  0.1408012 ,\n",
              "        0.16127335,  0.35472378, -0.25874704,  0.21848224,  0.13583176,\n",
              "        0.00546459,  0.13779372,  0.00558152,  0.10752014, -0.14147294,\n",
              "        0.06391245,  0.21518406,  0.05500381,  0.07430469, -0.26218057,\n",
              "       -0.12411743,  0.33899722,  0.04408851, -0.21375716, -0.07176632,\n",
              "        0.12849158,  0.11064804,  0.16973156, -0.1630128 ,  0.05572711,\n",
              "       -0.12780114, -0.03288937,  0.28361005, -0.10380891, -0.08563239,\n",
              "       -0.1305545 , -0.28300002, -0.11445486, -0.15100281,  0.1505314 ,\n",
              "       -0.06773955,  0.06871415, -0.31655622,  0.27821034, -0.49701956,\n",
              "        0.18843605,  0.00178901,  0.06661136, -0.02864664, -0.01621365,\n",
              "        0.14947338,  0.28511915,  0.15616302, -0.0599311 , -0.11888189,\n",
              "        0.32390264, -0.22733466,  0.2457858 ,  0.11494932, -0.11255656,\n",
              "       -0.48226163, -0.16584373,  0.158776  ,  0.07305212,  0.06894772,\n",
              "        0.23017108,  0.11355418,  0.249685  ,  0.16203992, -0.22104739],\n",
              "      dtype=float32)"
            ]
          },
          "metadata": {},
          "execution_count": 8
        }
      ]
    }
  ]
}