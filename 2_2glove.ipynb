{
  "nbformat": 4,
  "nbformat_minor": 0,
  "metadata": {
    "colab": {
      "name": "2_2glove2.ipynb",
      "provenance": [],
      "mount_file_id": "https://github.com/alfinmaulani/skripsi/blob/master/2_2glove.ipynb",
      "authorship_tag": "ABX9TyM4paAR/p+AVJkzpFRpaCK2",
      "include_colab_link": true
    },
    "kernelspec": {
      "name": "python3",
      "display_name": "Python 3"
    },
    "language_info": {
      "name": "python"
    }
  },
  "cells": [
    {
      "cell_type": "markdown",
      "metadata": {
        "id": "view-in-github",
        "colab_type": "text"
      },
      "source": [
        "<a href=\"https://colab.research.google.com/github/alfinmaulani/skripsi/blob/master/2_2glove.ipynb\" target=\"_parent\"><img src=\"https://colab.research.google.com/assets/colab-badge.svg\" alt=\"Open In Colab\"/></a>"
      ]
    },
    {
      "cell_type": "code",
      "metadata": {
        "colab": {
          "base_uri": "https://localhost:8080/"
        },
        "id": "ci3dfx-9C_ji",
        "outputId": "81b0d48a-021c-4d26-9744-e965392c7eaa"
      },
      "source": [
        "import numpy as np\n",
        "import pandas as pd\n",
        "import io\n",
        "from nltk.tokenize import word_tokenize\n",
        "import nltk\n",
        "nltk.download('punkt')\n",
        "import ast"
      ],
      "execution_count": 1,
      "outputs": [
        {
          "output_type": "stream",
          "name": "stdout",
          "text": [
            "[nltk_data] Downloading package punkt to /root/nltk_data...\n",
            "[nltk_data]   Package punkt is already up-to-date!\n"
          ]
        }
      ]
    },
    {
      "cell_type": "code",
      "metadata": {
        "id": "PLiJJ1DvTPWw",
        "colab": {
          "base_uri": "https://localhost:8080/"
        },
        "outputId": "55b4cf71-8554-4c4c-a99b-b332b84d5719"
      },
      "source": [
        "from google.colab import drive\n",
        "drive.mount('/content/drive')"
      ],
      "execution_count": null,
      "outputs": [
        {
          "output_type": "stream",
          "name": "stdout",
          "text": [
            "Drive already mounted at /content/drive; to attempt to forcibly remount, call drive.mount(\"/content/drive\", force_remount=True).\n"
          ]
        }
      ]
    },
    {
      "cell_type": "markdown",
      "metadata": {
        "id": "TU-SQAf8TiXY"
      },
      "source": [
        "load korpus"
      ]
    },
    {
      "cell_type": "code",
      "metadata": {
        "id": "q3KgHqEMTTts"
      },
      "source": [
        "korpus1a = '/content/drive/MyDrive/korpus1dataisear(preputama).csv'\n",
        "jorpus1b = '/content/drive/MyDrive/korpus1dataisear(preptambah).csv'\n",
        "korpus2a = '/content/drive/MyDrive/korpus2(preputama).csv'\n",
        "korpus2b = '/content/drive/MyDrive/korpus2(preptambah).csv'\n",
        "df = pd.read_csv(korpus2a)"
      ],
      "execution_count": 2,
      "outputs": []
    },
    {
      "cell_type": "code",
      "metadata": {
        "colab": {
          "base_uri": "https://localhost:8080/"
        },
        "id": "dO64rASsqtnx",
        "outputId": "43d0706c-18ff-4d84-dbea-7768c229082e"
      },
      "source": [
        "dfg = pd.read_csv('/content/drive/MyDrive/trainingwv-blog(preputama).csv')\n",
        "dfg.columns"
      ],
      "execution_count": 3,
      "outputs": [
        {
          "output_type": "execute_result",
          "data": {
            "text/plain": [
              "Index(['teks'], dtype='object')"
            ]
          },
          "metadata": {},
          "execution_count": 3
        }
      ]
    },
    {
      "cell_type": "markdown",
      "metadata": {
        "id": "JejS3HztTpFx"
      },
      "source": [
        "gabung korpus"
      ]
    },
    {
      "cell_type": "code",
      "metadata": {
        "id": "E8CcQlcgTvOx"
      },
      "source": [
        "# sent=df.dokumen"
      ],
      "execution_count": null,
      "outputs": []
    },
    {
      "cell_type": "code",
      "metadata": {
        "id": "IVHPYkCETxJG"
      },
      "source": [
        "sent=dfg.teks.append(df.content,ignore_index=True)"
      ],
      "execution_count": 4,
      "outputs": []
    },
    {
      "cell_type": "markdown",
      "metadata": {
        "id": "IEiE7_qK3esO"
      },
      "source": [
        "convert string to list"
      ]
    },
    {
      "cell_type": "code",
      "metadata": {
        "id": "DyBNIHkmTgGo"
      },
      "source": [
        "def convert_to_list(tem):\n",
        "  temp=[]\n",
        "  for senten in tem:\n",
        "    temp.append(ast.literal_eval(senten))\n",
        "  return temp"
      ],
      "execution_count": 5,
      "outputs": []
    },
    {
      "cell_type": "code",
      "metadata": {
        "id": "_beXBVHuwcd-"
      },
      "source": [
        "sent=convert_to_list(sent)"
      ],
      "execution_count": 6,
      "outputs": []
    },
    {
      "cell_type": "markdown",
      "metadata": {
        "id": "vTOWi8ItTy_q"
      },
      "source": [
        "glove"
      ]
    },
    {
      "cell_type": "code",
      "metadata": {
        "colab": {
          "base_uri": "https://localhost:8080/"
        },
        "id": "2VBTiPKHDIIp",
        "outputId": "c5c34bb6-8756-450b-8365-1c5fb42ad97f"
      },
      "source": [
        "!pip install glove-python-binary\n",
        "from glove import Glove\n",
        "from glove import Corpus"
      ],
      "execution_count": 7,
      "outputs": [
        {
          "output_type": "stream",
          "name": "stdout",
          "text": [
            "Requirement already satisfied: glove-python-binary in /usr/local/lib/python3.7/dist-packages (0.2.0)\n",
            "Requirement already satisfied: numpy in /usr/local/lib/python3.7/dist-packages (from glove-python-binary) (1.21.5)\n",
            "Requirement already satisfied: scipy in /usr/local/lib/python3.7/dist-packages (from glove-python-binary) (1.4.1)\n"
          ]
        }
      ]
    },
    {
      "cell_type": "code",
      "metadata": {
        "id": "0FFA9MDmnMU1"
      },
      "source": [
        "korpus = Corpus()\n",
        "korpus.fit(sent, window=5, ignore_missing=True)\n",
        "glove = Glove(no_components=100, learning_rate=0.1, alpha=0.025, max_loss=100.0)\n",
        "glove.fit(korpus.matrix, epochs=5)\n",
        "glove.add_dictionary(korpus.dictionary)"
      ],
      "execution_count": 8,
      "outputs": []
    },
    {
      "cell_type": "markdown",
      "metadata": {
        "id": "loWFunFSUN98"
      },
      "source": [
        "cek model"
      ]
    },
    {
      "cell_type": "code",
      "metadata": {
        "id": "CycUf02hYEKd",
        "colab": {
          "base_uri": "https://localhost:8080/"
        },
        "outputId": "573c3e74-190f-4ef6-ae18-c7c4d3669ca0"
      },
      "source": [
        "glove.word_vectors.shape"
      ],
      "execution_count": 9,
      "outputs": [
        {
          "output_type": "execute_result",
          "data": {
            "text/plain": [
              "(1050252, 100)"
            ]
          },
          "metadata": {},
          "execution_count": 9
        }
      ]
    },
    {
      "cell_type": "code",
      "metadata": {
        "id": "TQdlfFt-UTie",
        "outputId": "1ada8901-4e67-48b4-bc02-54fe69a54cd3",
        "colab": {
          "base_uri": "https://localhost:8080/"
        }
      },
      "source": [
        "glove.word_vectors[glove.dictionary['yes']]"
      ],
      "execution_count": 10,
      "outputs": [
        {
          "output_type": "execute_result",
          "data": {
            "text/plain": [
              "array([-5.91245816e-01, -1.01174779e-01,  2.07448780e-01,  1.97691351e-01,\n",
              "       -3.27142598e-01,  2.28830303e-01,  5.48356043e-01, -4.35899762e-02,\n",
              "       -2.33731198e-01,  1.77039107e-01, -4.88268473e-01,  1.11452593e-01,\n",
              "       -4.85233795e-02,  9.78323462e-02,  3.23520641e-01, -5.02477885e-03,\n",
              "        1.51532553e-01, -2.74107152e-01, -4.89741649e-02,  1.68758856e-01,\n",
              "       -1.25877400e-01,  1.71555304e-01,  1.14622847e-01, -5.88979244e-01,\n",
              "        2.23493434e-01,  2.54694216e-01,  1.28477488e-01, -2.00773441e-01,\n",
              "       -4.51546882e-02, -9.76615883e-02, -3.59703113e-02, -3.90043709e-01,\n",
              "        4.00138254e-01, -1.84173721e-01,  7.21841802e-01,  1.83749768e-01,\n",
              "       -1.86407663e-01,  3.00470746e-01,  3.25085982e-01, -3.39037421e-01,\n",
              "        7.49437876e-02,  2.95644390e-02, -4.77618264e-01, -5.63258353e-02,\n",
              "        2.18483723e-01, -5.27771929e-02,  6.55726373e-02, -7.02747231e-01,\n",
              "       -4.73718626e-01, -9.19739967e-02, -6.90735845e-01,  7.84507689e-01,\n",
              "       -1.52257821e-01, -1.07956845e-02,  1.55340722e-01, -1.71227798e-01,\n",
              "       -4.70645569e-01,  1.53704112e-01,  9.33568119e-02, -3.03757561e-04,\n",
              "        1.40816137e-01, -2.16190898e-03,  1.06863230e-01,  5.70835289e-02,\n",
              "       -8.33390180e-02, -8.82059145e-02,  3.88241105e-01,  1.64747337e-01,\n",
              "       -8.36784769e-01, -1.83801441e-01,  3.04947924e-01,  3.82647537e-01,\n",
              "       -1.18790577e-02, -1.67871912e-01,  1.81654469e-01,  1.02420002e-01,\n",
              "        1.50744240e-01, -2.10240688e-01,  2.44951291e-01, -1.21587288e-01,\n",
              "       -1.52015038e-01,  4.70506694e-01,  2.53216691e-01,  1.49498790e-01,\n",
              "       -5.91575361e-01,  3.29295558e-01, -5.62267328e-02,  4.18376700e-02,\n",
              "       -1.58873183e-01,  3.63997423e-01, -2.46241185e-01,  3.73383728e-01,\n",
              "        2.47637329e-01,  2.62620832e-01,  1.91042093e-01,  4.15300661e-01,\n",
              "       -5.00118460e-01,  2.89962697e-01,  8.72832097e-03, -1.30635510e-01])"
            ]
          },
          "metadata": {},
          "execution_count": 10
        }
      ]
    },
    {
      "cell_type": "markdown",
      "metadata": {
        "id": "napoX42qVEvw"
      },
      "source": [
        "save model"
      ]
    },
    {
      "cell_type": "code",
      "metadata": {
        "id": "bLp-RexboXnA"
      },
      "source": [
        "glove.save('korpus2+blog(preputama).glove')"
      ],
      "execution_count": 11,
      "outputs": []
    },
    {
      "cell_type": "markdown",
      "metadata": {
        "id": "UpJ_esuyUdtC"
      },
      "source": [
        "sanity check"
      ]
    },
    {
      "cell_type": "code",
      "metadata": {
        "id": "4pVDrOHLo2pG",
        "outputId": "eaab1392-6c46-453b-fb22-cde30a393bdc",
        "colab": {
          "base_uri": "https://localhost:8080/"
        }
      },
      "source": [
        "glove.most_similar('yes', number=10)"
      ],
      "execution_count": null,
      "outputs": [
        {
          "output_type": "execute_result",
          "data": {
            "text/plain": [
              "[('httpwwwempireonlinecouksitenewsnewsstoryaspnews_id15992',\n",
              "  0.8535875407877164),\n",
              " ('millikan', 0.8440192782619789),\n",
              " ('birthdaywoohoo', 0.8072954617560646),\n",
              " ('yeah', 0.7773223543453848),\n",
              " ('nettlemusk', 0.7692598895155076),\n",
              " ('aholeyeah', 0.7692284720627783),\n",
              " ('httpwwwmsnbcmsncomid5469808gt14244', 0.7587404657219929),\n",
              " ('httpusersez2netohpnikkistuff20carmen20electra20page2070jpg',\n",
              "  0.7504738002552109),\n",
              " ('cerafin1blogspotcom', 0.7502403861529843)]"
            ]
          },
          "metadata": {},
          "execution_count": 12
        }
      ]
    }
  ]
}