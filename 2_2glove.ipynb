{
  "nbformat": 4,
  "nbformat_minor": 0,
  "metadata": {
    "colab": {
      "name": "2_2glove2.ipynb",
      "provenance": [],
      "mount_file_id": "https://github.com/alfinmaulani/skripsi/blob/master/2_2glove.ipynb",
      "authorship_tag": "ABX9TyNduPFVTRLJdif0/Z8U+UV/",
      "include_colab_link": true
    },
    "kernelspec": {
      "name": "python3",
      "display_name": "Python 3"
    },
    "language_info": {
      "name": "python"
    },
    "accelerator": "GPU"
  },
  "cells": [
    {
      "cell_type": "markdown",
      "metadata": {
        "id": "view-in-github",
        "colab_type": "text"
      },
      "source": [
        "<a href=\"https://colab.research.google.com/github/alfinmaulani/skripsi/blob/master/2_2glove.ipynb\" target=\"_parent\"><img src=\"https://colab.research.google.com/assets/colab-badge.svg\" alt=\"Open In Colab\"/></a>"
      ]
    },
    {
      "cell_type": "code",
      "metadata": {
        "colab": {
          "base_uri": "https://localhost:8080/"
        },
        "id": "ci3dfx-9C_ji",
        "outputId": "260e26ec-a4e3-40c7-d836-4858f37f09b9"
      },
      "source": [
        "import numpy as np\n",
        "import pandas as pd\n",
        "import io\n",
        "from nltk.tokenize import word_tokenize\n",
        "import nltk\n",
        "nltk.download('punkt')\n",
        "import ast"
      ],
      "execution_count": 3,
      "outputs": [
        {
          "output_type": "stream",
          "name": "stdout",
          "text": [
            "[nltk_data] Downloading package punkt to /root/nltk_data...\n",
            "[nltk_data]   Unzipping tokenizers/punkt.zip.\n"
          ]
        }
      ]
    },
    {
      "cell_type": "code",
      "metadata": {
        "id": "PLiJJ1DvTPWw",
        "colab": {
          "base_uri": "https://localhost:8080/"
        },
        "outputId": "55b4cf71-8554-4c4c-a99b-b332b84d5719"
      },
      "source": [
        "from google.colab import drive\n",
        "drive.mount('/content/drive')"
      ],
      "execution_count": null,
      "outputs": [
        {
          "output_type": "stream",
          "name": "stdout",
          "text": [
            "Drive already mounted at /content/drive; to attempt to forcibly remount, call drive.mount(\"/content/drive\", force_remount=True).\n"
          ]
        }
      ]
    },
    {
      "cell_type": "markdown",
      "metadata": {
        "id": "TU-SQAf8TiXY"
      },
      "source": [
        "load korpus"
      ]
    },
    {
      "cell_type": "code",
      "metadata": {
        "id": "q3KgHqEMTTts"
      },
      "source": [
        "url1 = '/content/drive/MyDrive/dataisear(preputama).csv'\n",
        "url2 = '/content/drive/MyDrive/dataisear(preptambah).csv'\n",
        "df = pd.read_csv(url2)"
      ],
      "execution_count": 4,
      "outputs": []
    },
    {
      "cell_type": "code",
      "metadata": {
        "colab": {
          "base_uri": "https://localhost:8080/"
        },
        "id": "dO64rASsqtnx",
        "outputId": "f531d67f-bef0-4994-86f1-a178be3f54e4"
      },
      "source": [
        "dfg = pd.read_csv('/content/drive/MyDrive/korpusblognewstweet(preptambah).csv')\n",
        "dfg.columns"
      ],
      "execution_count": 5,
      "outputs": [
        {
          "output_type": "execute_result",
          "data": {
            "text/plain": [
              "Index(['dok'], dtype='object')"
            ]
          },
          "metadata": {},
          "execution_count": 5
        }
      ]
    },
    {
      "cell_type": "markdown",
      "metadata": {
        "id": "JejS3HztTpFx"
      },
      "source": [
        "gabung korpus"
      ]
    },
    {
      "cell_type": "code",
      "metadata": {
        "id": "E8CcQlcgTvOx"
      },
      "source": [
        "sent=df.dokumen"
      ],
      "execution_count": null,
      "outputs": []
    },
    {
      "cell_type": "code",
      "metadata": {
        "id": "IVHPYkCETxJG"
      },
      "source": [
        "sent=dfg.dok.append(df.dokumen,ignore_index=True)"
      ],
      "execution_count": 6,
      "outputs": []
    },
    {
      "cell_type": "code",
      "metadata": {
        "id": "DyBNIHkmTgGo"
      },
      "source": [
        "def convert_to_list(tem):\n",
        "  temp=[]\n",
        "  for senten in tem:\n",
        "    temp.append(ast.literal_eval(senten))\n",
        "  return temp"
      ],
      "execution_count": 7,
      "outputs": []
    },
    {
      "cell_type": "code",
      "metadata": {
        "id": "_beXBVHuwcd-"
      },
      "source": [
        "sent=convert_to_list(sent)"
      ],
      "execution_count": 8,
      "outputs": []
    },
    {
      "cell_type": "markdown",
      "metadata": {
        "id": "vTOWi8ItTy_q"
      },
      "source": [
        "glove"
      ]
    },
    {
      "cell_type": "code",
      "metadata": {
        "colab": {
          "base_uri": "https://localhost:8080/"
        },
        "id": "2VBTiPKHDIIp",
        "outputId": "1d82bc01-62cc-4cf4-b9f1-3d0981ee9fd6"
      },
      "source": [
        "!pip install glove-python-binary\n",
        "from glove import Glove\n",
        "from glove import Corpus\n",
        "def train_glove(temp):\n",
        "  korpus = Corpus()\n",
        "  korpus.fit(temp, window=5, ignore_missing=True)\n",
        "  glove = Glove(no_components=100, learning_rate=0.1, alpha=0.025, max_loss=100.0)\n",
        "  glove.fit(korpus.matrix)\n",
        "  glove.add_dictionary(korpus.dictionary)\n",
        "  return glove"
      ],
      "execution_count": 9,
      "outputs": [
        {
          "output_type": "stream",
          "name": "stdout",
          "text": [
            "Collecting glove-python-binary\n",
            "  Downloading glove_python_binary-0.2.0-cp37-cp37m-manylinux1_x86_64.whl (948 kB)\n",
            "\u001b[K     |████████████████████████████████| 948 kB 5.2 MB/s \n",
            "\u001b[?25hRequirement already satisfied: scipy in /usr/local/lib/python3.7/dist-packages (from glove-python-binary) (1.4.1)\n",
            "Requirement already satisfied: numpy in /usr/local/lib/python3.7/dist-packages (from glove-python-binary) (1.19.5)\n",
            "Installing collected packages: glove-python-binary\n",
            "Successfully installed glove-python-binary-0.2.0\n"
          ]
        }
      ]
    },
    {
      "cell_type": "code",
      "metadata": {
        "id": "0FFA9MDmnMU1"
      },
      "source": [
        "glove=train_glove(sent)"
      ],
      "execution_count": 10,
      "outputs": []
    },
    {
      "cell_type": "markdown",
      "metadata": {
        "id": "loWFunFSUN98"
      },
      "source": [
        "cek model"
      ]
    },
    {
      "cell_type": "code",
      "metadata": {
        "id": "CycUf02hYEKd",
        "colab": {
          "base_uri": "https://localhost:8080/"
        },
        "outputId": "355042ac-c754-4542-acdc-da4dfb0dfbd7"
      },
      "source": [
        "glove.word_vectors.shape"
      ],
      "execution_count": 11,
      "outputs": [
        {
          "output_type": "execute_result",
          "data": {
            "text/plain": [
              "(894286, 100)"
            ]
          },
          "metadata": {},
          "execution_count": 11
        }
      ]
    },
    {
      "cell_type": "code",
      "metadata": {
        "id": "TQdlfFt-UTie",
        "colab": {
          "base_uri": "https://localhost:8080/"
        },
        "outputId": "b7edc497-5bcc-440c-d00e-9d5418768caf"
      },
      "source": [
        "glove.word_vectors[glove.dictionary['moment']]"
      ],
      "execution_count": 12,
      "outputs": [
        {
          "output_type": "execute_result",
          "data": {
            "text/plain": [
              "array([-173355.50155159, -127850.6138594 ,  239625.4312555 ,\n",
              "       -274476.60757773,  230389.42721425,   75436.97628047,\n",
              "        388365.32350071,  359796.33139112, -199227.19083638,\n",
              "        -75514.47196212, -102864.25386402, -173634.05260515,\n",
              "       -377848.01176499, -251794.59451854,  130504.55116132,\n",
              "        -24637.30288243,  -57123.64639207,   -1381.47151037,\n",
              "          3870.57353062,  144419.05694344,  -71217.15693613,\n",
              "         84349.11638144,  -75382.27417259,   12961.40071669,\n",
              "        114317.98673566,  112610.82270717,  395923.34971484,\n",
              "        220173.8726743 ,  256670.62201531,   51948.12854229,\n",
              "        132772.52023338,   64809.22720135, -151840.39857659,\n",
              "        106680.86093534,    9761.68854168, -284289.31134532,\n",
              "       -125656.98878633,  384049.94984694,     657.14643665,\n",
              "         23020.76374284, -416918.23969226,  -19001.11461174,\n",
              "        -29243.4269351 ,  -88290.67798747, -198416.97376379,\n",
              "        223443.6340812 ,   24820.24366321, -515548.34574203,\n",
              "        341652.07448616,   10448.99801065, -150010.82416862,\n",
              "         -4812.76152238,  320028.90215135,  -29509.01444633,\n",
              "        504385.4793856 ,  181838.28415787, -330264.18657729,\n",
              "        229510.1622281 ,   49054.82974504,   -2309.90051402,\n",
              "       -167062.02158615, -342047.99150906,  373721.69157508,\n",
              "        -69797.85063624, -310691.95039415,  105656.20032289,\n",
              "        255236.43833847, -238545.13206654,   14419.02248113,\n",
              "       -328334.91981337,   -3323.95962178,  220062.47548312,\n",
              "        266452.34348019,  -12758.37022249,  -65198.95950737,\n",
              "        -85398.12450514, -212946.58429064,  170235.77921328,\n",
              "        216512.82770373,   13239.61251179, -242553.93890262,\n",
              "       -255155.85515389,   51666.80851241,  -71540.11113782,\n",
              "       -310853.81539085,  -33295.1016197 ,  254663.1016067 ,\n",
              "       -194063.97300424,  -76910.60156909,  -67437.23412984,\n",
              "         25568.92572007,  209591.21970236,  322628.25528224,\n",
              "       -279690.85684918, -443467.80738943,  270864.95314031,\n",
              "       -192345.98044221,  108848.05400771,  257870.75230947,\n",
              "       -319784.10117147])"
            ]
          },
          "metadata": {},
          "execution_count": 12
        }
      ]
    },
    {
      "cell_type": "markdown",
      "metadata": {
        "id": "napoX42qVEvw"
      },
      "source": [
        "save model"
      ]
    },
    {
      "cell_type": "code",
      "metadata": {
        "id": "bLp-RexboXnA"
      },
      "source": [
        "glove.save('korpusblognewstweet(preptambah).glove')"
      ],
      "execution_count": 14,
      "outputs": []
    },
    {
      "cell_type": "markdown",
      "metadata": {
        "id": "UpJ_esuyUdtC"
      },
      "source": [
        "sanity check"
      ]
    },
    {
      "cell_type": "code",
      "metadata": {
        "id": "4pVDrOHLo2pG",
        "colab": {
          "base_uri": "https://localhost:8080/"
        },
        "outputId": "21802ba4-21b7-49be-d658-71eacc84edaa"
      },
      "source": [
        "glove.most_similar('moment', number=10)"
      ],
      "execution_count": 16,
      "outputs": [
        {
          "output_type": "execute_result",
          "data": {
            "text/plain": [
              "[('mancqpr', 0.999999999999263),\n",
              " ('alicenever', 0.9999999999990778),\n",
              " ('mommadontplaydat', 0.9999999999988519),\n",
              " ('takescast', 0.9999999999987985),\n",
              " ('definitionswhat', 0.999999999986151),\n",
              " ('scilence', 0.9999999999773502),\n",
              " ('momentor', 0.9999999999737998),\n",
              " ('takethepiss', 0.9999999999736652),\n",
              " ('tablesturned', 0.9999999999720626)]"
            ]
          },
          "metadata": {},
          "execution_count": 16
        }
      ]
    }
  ]
}