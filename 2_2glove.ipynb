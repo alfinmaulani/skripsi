{
  "nbformat": 4,
  "nbformat_minor": 0,
  "metadata": {
    "colab": {
      "name": "2_2glove2.ipynb",
      "provenance": [],
      "authorship_tag": "ABX9TyP6cYP+kH07q4WDDzQ/pewI",
      "include_colab_link": true
    },
    "kernelspec": {
      "name": "python3",
      "display_name": "Python 3"
    },
    "language_info": {
      "name": "python"
    }
  },
  "cells": [
    {
      "cell_type": "markdown",
      "metadata": {
        "id": "view-in-github",
        "colab_type": "text"
      },
      "source": [
        "<a href=\"https://colab.research.google.com/github/alfinmaulani/skripsi/blob/master/2_2glove.ipynb\" target=\"_parent\"><img src=\"https://colab.research.google.com/assets/colab-badge.svg\" alt=\"Open In Colab\"/></a>"
      ]
    },
    {
      "cell_type": "code",
      "metadata": {
        "colab": {
          "base_uri": "https://localhost:8080/"
        },
        "id": "ci3dfx-9C_ji",
        "outputId": "5615ded5-51a8-43bd-fd4d-830c8d14f99e"
      },
      "source": [
        "import numpy as np\n",
        "import pandas as pd\n",
        "import io\n",
        "from nltk.tokenize import word_tokenize\n",
        "import nltk\n",
        "nltk.download('punkt')\n",
        "import ast"
      ],
      "execution_count": 1,
      "outputs": [
        {
          "output_type": "stream",
          "name": "stdout",
          "text": [
            "[nltk_data] Downloading package punkt to /root/nltk_data...\n",
            "[nltk_data]   Unzipping tokenizers/punkt.zip.\n"
          ]
        }
      ]
    },
    {
      "cell_type": "code",
      "metadata": {
        "id": "PLiJJ1DvTPWw"
      },
      "source": [
        "from google.colab import drive\n",
        "drive.mount('/content/drive')"
      ],
      "execution_count": null,
      "outputs": []
    },
    {
      "cell_type": "markdown",
      "metadata": {
        "id": "TU-SQAf8TiXY"
      },
      "source": [
        "load korpus"
      ]
    },
    {
      "cell_type": "code",
      "metadata": {
        "id": "q3KgHqEMTTts"
      },
      "source": [
        "url1 = 'https://raw.githubusercontent.com/alfinmaulani/skripsi/master/dataisear(preputama).csv'\n",
        "url2 = 'https://raw.githubusercontent.com/alfinmaulani/skripsi/master/dataisear(preptambah).csv'\n",
        "df = pd.read_csv(url2)"
      ],
      "execution_count": 2,
      "outputs": []
    },
    {
      "cell_type": "code",
      "metadata": {
        "id": "DyBNIHkmTgGo"
      },
      "source": [
        "temp=[]\n",
        "for senten in df.dokumen:\n",
        "  temp.append(ast.literal_eval(senten))\n",
        "df.dokumen=temp"
      ],
      "execution_count": 3,
      "outputs": []
    },
    {
      "cell_type": "markdown",
      "metadata": {
        "id": "JejS3HztTpFx"
      },
      "source": [
        "gabung korpus"
      ]
    },
    {
      "cell_type": "code",
      "metadata": {
        "id": "E8CcQlcgTvOx"
      },
      "source": [
        "sent=df.dokumen"
      ],
      "execution_count": 4,
      "outputs": []
    },
    {
      "cell_type": "code",
      "metadata": {
        "id": "IVHPYkCETxJG"
      },
      "source": [
        "sent=dfg.dok.append(df.dokumen,ignore_index=True)"
      ],
      "execution_count": null,
      "outputs": []
    },
    {
      "cell_type": "markdown",
      "metadata": {
        "id": "vTOWi8ItTy_q"
      },
      "source": [
        "glove"
      ]
    },
    {
      "cell_type": "code",
      "metadata": {
        "colab": {
          "base_uri": "https://localhost:8080/"
        },
        "id": "2VBTiPKHDIIp",
        "outputId": "91a436e1-425b-4f13-b91b-316d3642710a"
      },
      "source": [
        "!pip install glove-python-binary\n",
        "from glove import Glove\n",
        "from glove import Corpus"
      ],
      "execution_count": 5,
      "outputs": [
        {
          "output_type": "stream",
          "name": "stdout",
          "text": [
            "Collecting glove-python-binary\n",
            "  Downloading glove_python_binary-0.2.0-cp37-cp37m-manylinux1_x86_64.whl (948 kB)\n",
            "\u001b[?25l\r\u001b[K     |▍                               | 10 kB 26.6 MB/s eta 0:00:01\r\u001b[K     |▊                               | 20 kB 29.3 MB/s eta 0:00:01\r\u001b[K     |█                               | 30 kB 17.9 MB/s eta 0:00:01\r\u001b[K     |█▍                              | 40 kB 15.3 MB/s eta 0:00:01\r\u001b[K     |█▊                              | 51 kB 5.4 MB/s eta 0:00:01\r\u001b[K     |██                              | 61 kB 5.8 MB/s eta 0:00:01\r\u001b[K     |██▍                             | 71 kB 5.3 MB/s eta 0:00:01\r\u001b[K     |██▊                             | 81 kB 6.0 MB/s eta 0:00:01\r\u001b[K     |███                             | 92 kB 5.9 MB/s eta 0:00:01\r\u001b[K     |███▌                            | 102 kB 5.2 MB/s eta 0:00:01\r\u001b[K     |███▉                            | 112 kB 5.2 MB/s eta 0:00:01\r\u001b[K     |████▏                           | 122 kB 5.2 MB/s eta 0:00:01\r\u001b[K     |████▌                           | 133 kB 5.2 MB/s eta 0:00:01\r\u001b[K     |████▉                           | 143 kB 5.2 MB/s eta 0:00:01\r\u001b[K     |█████▏                          | 153 kB 5.2 MB/s eta 0:00:01\r\u001b[K     |█████▌                          | 163 kB 5.2 MB/s eta 0:00:01\r\u001b[K     |█████▉                          | 174 kB 5.2 MB/s eta 0:00:01\r\u001b[K     |██████▏                         | 184 kB 5.2 MB/s eta 0:00:01\r\u001b[K     |██████▋                         | 194 kB 5.2 MB/s eta 0:00:01\r\u001b[K     |███████                         | 204 kB 5.2 MB/s eta 0:00:01\r\u001b[K     |███████▎                        | 215 kB 5.2 MB/s eta 0:00:01\r\u001b[K     |███████▋                        | 225 kB 5.2 MB/s eta 0:00:01\r\u001b[K     |████████                        | 235 kB 5.2 MB/s eta 0:00:01\r\u001b[K     |████████▎                       | 245 kB 5.2 MB/s eta 0:00:01\r\u001b[K     |████████▋                       | 256 kB 5.2 MB/s eta 0:00:01\r\u001b[K     |█████████                       | 266 kB 5.2 MB/s eta 0:00:01\r\u001b[K     |█████████▎                      | 276 kB 5.2 MB/s eta 0:00:01\r\u001b[K     |█████████▊                      | 286 kB 5.2 MB/s eta 0:00:01\r\u001b[K     |██████████                      | 296 kB 5.2 MB/s eta 0:00:01\r\u001b[K     |██████████▍                     | 307 kB 5.2 MB/s eta 0:00:01\r\u001b[K     |██████████▊                     | 317 kB 5.2 MB/s eta 0:00:01\r\u001b[K     |███████████                     | 327 kB 5.2 MB/s eta 0:00:01\r\u001b[K     |███████████▍                    | 337 kB 5.2 MB/s eta 0:00:01\r\u001b[K     |███████████▊                    | 348 kB 5.2 MB/s eta 0:00:01\r\u001b[K     |████████████                    | 358 kB 5.2 MB/s eta 0:00:01\r\u001b[K     |████████████▍                   | 368 kB 5.2 MB/s eta 0:00:01\r\u001b[K     |████████████▊                   | 378 kB 5.2 MB/s eta 0:00:01\r\u001b[K     |█████████████▏                  | 389 kB 5.2 MB/s eta 0:00:01\r\u001b[K     |█████████████▌                  | 399 kB 5.2 MB/s eta 0:00:01\r\u001b[K     |█████████████▉                  | 409 kB 5.2 MB/s eta 0:00:01\r\u001b[K     |██████████████▏                 | 419 kB 5.2 MB/s eta 0:00:01\r\u001b[K     |██████████████▌                 | 430 kB 5.2 MB/s eta 0:00:01\r\u001b[K     |██████████████▉                 | 440 kB 5.2 MB/s eta 0:00:01\r\u001b[K     |███████████████▏                | 450 kB 5.2 MB/s eta 0:00:01\r\u001b[K     |███████████████▌                | 460 kB 5.2 MB/s eta 0:00:01\r\u001b[K     |███████████████▉                | 471 kB 5.2 MB/s eta 0:00:01\r\u001b[K     |████████████████▎               | 481 kB 5.2 MB/s eta 0:00:01\r\u001b[K     |████████████████▋               | 491 kB 5.2 MB/s eta 0:00:01\r\u001b[K     |█████████████████               | 501 kB 5.2 MB/s eta 0:00:01\r\u001b[K     |█████████████████▎              | 512 kB 5.2 MB/s eta 0:00:01\r\u001b[K     |█████████████████▋              | 522 kB 5.2 MB/s eta 0:00:01\r\u001b[K     |██████████████████              | 532 kB 5.2 MB/s eta 0:00:01\r\u001b[K     |██████████████████▎             | 542 kB 5.2 MB/s eta 0:00:01\r\u001b[K     |██████████████████▋             | 552 kB 5.2 MB/s eta 0:00:01\r\u001b[K     |███████████████████             | 563 kB 5.2 MB/s eta 0:00:01\r\u001b[K     |███████████████████▍            | 573 kB 5.2 MB/s eta 0:00:01\r\u001b[K     |███████████████████▊            | 583 kB 5.2 MB/s eta 0:00:01\r\u001b[K     |████████████████████            | 593 kB 5.2 MB/s eta 0:00:01\r\u001b[K     |████████████████████▍           | 604 kB 5.2 MB/s eta 0:00:01\r\u001b[K     |████████████████████▊           | 614 kB 5.2 MB/s eta 0:00:01\r\u001b[K     |█████████████████████           | 624 kB 5.2 MB/s eta 0:00:01\r\u001b[K     |█████████████████████▍          | 634 kB 5.2 MB/s eta 0:00:01\r\u001b[K     |█████████████████████▊          | 645 kB 5.2 MB/s eta 0:00:01\r\u001b[K     |██████████████████████          | 655 kB 5.2 MB/s eta 0:00:01\r\u001b[K     |██████████████████████▌         | 665 kB 5.2 MB/s eta 0:00:01\r\u001b[K     |██████████████████████▉         | 675 kB 5.2 MB/s eta 0:00:01\r\u001b[K     |███████████████████████▏        | 686 kB 5.2 MB/s eta 0:00:01\r\u001b[K     |███████████████████████▌        | 696 kB 5.2 MB/s eta 0:00:01\r\u001b[K     |███████████████████████▉        | 706 kB 5.2 MB/s eta 0:00:01\r\u001b[K     |████████████████████████▏       | 716 kB 5.2 MB/s eta 0:00:01\r\u001b[K     |████████████████████████▌       | 727 kB 5.2 MB/s eta 0:00:01\r\u001b[K     |████████████████████████▉       | 737 kB 5.2 MB/s eta 0:00:01\r\u001b[K     |█████████████████████████▏      | 747 kB 5.2 MB/s eta 0:00:01\r\u001b[K     |█████████████████████████▌      | 757 kB 5.2 MB/s eta 0:00:01\r\u001b[K     |██████████████████████████      | 768 kB 5.2 MB/s eta 0:00:01\r\u001b[K     |██████████████████████████▎     | 778 kB 5.2 MB/s eta 0:00:01\r\u001b[K     |██████████████████████████▋     | 788 kB 5.2 MB/s eta 0:00:01\r\u001b[K     |███████████████████████████     | 798 kB 5.2 MB/s eta 0:00:01\r\u001b[K     |███████████████████████████▎    | 808 kB 5.2 MB/s eta 0:00:01\r\u001b[K     |███████████████████████████▋    | 819 kB 5.2 MB/s eta 0:00:01\r\u001b[K     |████████████████████████████    | 829 kB 5.2 MB/s eta 0:00:01\r\u001b[K     |████████████████████████████▎   | 839 kB 5.2 MB/s eta 0:00:01\r\u001b[K     |████████████████████████████▋   | 849 kB 5.2 MB/s eta 0:00:01\r\u001b[K     |█████████████████████████████   | 860 kB 5.2 MB/s eta 0:00:01\r\u001b[K     |█████████████████████████████▍  | 870 kB 5.2 MB/s eta 0:00:01\r\u001b[K     |█████████████████████████████▊  | 880 kB 5.2 MB/s eta 0:00:01\r\u001b[K     |██████████████████████████████  | 890 kB 5.2 MB/s eta 0:00:01\r\u001b[K     |██████████████████████████████▍ | 901 kB 5.2 MB/s eta 0:00:01\r\u001b[K     |██████████████████████████████▊ | 911 kB 5.2 MB/s eta 0:00:01\r\u001b[K     |███████████████████████████████ | 921 kB 5.2 MB/s eta 0:00:01\r\u001b[K     |███████████████████████████████▍| 931 kB 5.2 MB/s eta 0:00:01\r\u001b[K     |███████████████████████████████▊| 942 kB 5.2 MB/s eta 0:00:01\r\u001b[K     |████████████████████████████████| 948 kB 5.2 MB/s \n",
            "\u001b[?25hRequirement already satisfied: scipy in /usr/local/lib/python3.7/dist-packages (from glove-python-binary) (1.4.1)\n",
            "Requirement already satisfied: numpy in /usr/local/lib/python3.7/dist-packages (from glove-python-binary) (1.19.5)\n",
            "Installing collected packages: glove-python-binary\n",
            "Successfully installed glove-python-binary-0.2.0\n"
          ]
        }
      ]
    },
    {
      "cell_type": "code",
      "metadata": {
        "id": "dGpucIPqGqBQ"
      },
      "source": [
        "korpus = Corpus()\n",
        "korpus.fit(sent, window=5, ignore_missing=True)\n",
        "glove = Glove(no_components=100, learning_rate=0.1, alpha=0.025, max_loss=100.0)\n",
        "glove.fit(korpus.matrix)\n",
        "glove.add_dictionary(korpus.dictionary)"
      ],
      "execution_count": 6,
      "outputs": []
    },
    {
      "cell_type": "markdown",
      "metadata": {
        "id": "loWFunFSUN98"
      },
      "source": [
        "cek model"
      ]
    },
    {
      "cell_type": "code",
      "metadata": {
        "id": "CycUf02hYEKd",
        "colab": {
          "base_uri": "https://localhost:8080/"
        },
        "outputId": "ecfb0464-ce46-4af7-fdc2-a9b8216d4388"
      },
      "source": [
        "glove.word_vectors.shape"
      ],
      "execution_count": 7,
      "outputs": [
        {
          "output_type": "execute_result",
          "data": {
            "text/plain": [
              "(6410, 100)"
            ]
          },
          "metadata": {},
          "execution_count": 7
        }
      ]
    },
    {
      "cell_type": "code",
      "metadata": {
        "id": "TQdlfFt-UTie",
        "outputId": "9f17dfc7-3036-41ac-bda7-348bdd47bb69",
        "colab": {
          "base_uri": "https://localhost:8080/"
        }
      },
      "source": [
        "glove.word_vectors[glove.dictionary['moment']]"
      ],
      "execution_count": 8,
      "outputs": [
        {
          "output_type": "execute_result",
          "data": {
            "text/plain": [
              "array([ 0.49515926,  0.0054718 , -0.08607218, -0.15895022,  0.13496284,\n",
              "        0.21778581,  0.06012808,  0.03487367, -0.13384066, -0.2028633 ,\n",
              "        0.01715597, -0.22815921,  0.06620039,  0.25931202,  0.20938667,\n",
              "        0.08284832, -0.28427286, -0.19205392, -0.12517015,  0.2012963 ,\n",
              "        0.25607785,  0.10787131, -0.08953702,  0.1312918 , -0.08275136,\n",
              "       -0.1681313 , -0.26682355, -0.14048686, -0.24394044,  0.08532876,\n",
              "        0.00279325,  0.08827579,  0.01934129,  0.28497776, -0.16181323,\n",
              "       -0.12524621,  0.2110772 ,  0.30707603,  0.05630087, -0.37380924,\n",
              "        0.14855764,  0.024238  ,  0.15525034, -0.09343291,  0.0569857 ,\n",
              "       -0.10668335,  0.15686337, -0.10918953,  0.01750793, -0.37067818,\n",
              "       -0.10799399, -0.14137727, -0.07055289, -0.09233352, -0.10723448,\n",
              "       -0.30989721, -0.13005342,  0.06644828,  0.01749517,  0.21478366,\n",
              "        0.00967671,  0.01541327, -0.2924649 , -0.13053374, -0.16986223,\n",
              "        0.06916148,  0.12031301, -0.02270494, -0.05956459,  0.24814829,\n",
              "       -0.02728575,  0.00200722, -0.1976457 , -0.06155194, -0.01593243,\n",
              "       -0.08276103, -0.27299406, -0.01222404, -0.27987526,  0.14158511,\n",
              "       -0.12101695,  0.07601987, -0.13862159,  0.09375462, -0.06876872,\n",
              "       -0.1892602 , -0.03058347, -0.0239029 ,  0.09432453,  0.2830681 ,\n",
              "       -0.15725444, -0.11893374,  0.23323508,  0.14393653,  0.17324715,\n",
              "        0.0478992 ,  0.01401404,  0.03368278, -0.15950237, -0.17551912])"
            ]
          },
          "metadata": {},
          "execution_count": 8
        }
      ]
    },
    {
      "cell_type": "markdown",
      "metadata": {
        "id": "napoX42qVEvw"
      },
      "source": [
        "save model"
      ]
    },
    {
      "cell_type": "code",
      "metadata": {
        "id": "bLp-RexboXnA"
      },
      "source": [
        "glove.save('glove.model')"
      ],
      "execution_count": null,
      "outputs": []
    },
    {
      "cell_type": "markdown",
      "metadata": {
        "id": "UpJ_esuyUdtC"
      },
      "source": [
        "sanity check"
      ]
    },
    {
      "cell_type": "code",
      "metadata": {
        "id": "4pVDrOHLo2pG",
        "colab": {
          "base_uri": "https://localhost:8080/"
        },
        "outputId": "5d0cd32b-b444-42e5-e530-e04a8eb2dc66"
      },
      "source": [
        "glove.most_similar('i', number=10)"
      ],
      "execution_count": 9,
      "outputs": [
        {
          "output_type": "execute_result",
          "data": {
            "text/plain": [
              "[('paedophiliac', 0.6953963663358044),\n",
              " ('intercollegi', 0.49077877166451117),\n",
              " ('allerg', 0.48602259576953216),\n",
              " ('would', 0.4744033940622184),\n",
              " ('mood', 0.4650688388973143),\n",
              " ('saddest', 0.462084056033412),\n",
              " ('sincer', 0.422364688303049),\n",
              " ('foud', 0.4126075694568571),\n",
              " ('crazi', 0.39623214559892683)]"
            ]
          },
          "metadata": {},
          "execution_count": 9
        }
      ]
    }
  ]
}