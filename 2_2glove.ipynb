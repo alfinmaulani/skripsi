{
  "nbformat": 4,
  "nbformat_minor": 0,
  "metadata": {
    "colab": {
      "name": "2_2glove2.ipynb",
      "provenance": [],
      "mount_file_id": "https://github.com/alfinmaulani/skripsi/blob/master/2_2glove.ipynb",
      "authorship_tag": "ABX9TyM4paAR/p+AVJkzpFRpaCK2",
      "include_colab_link": true
    },
    "kernelspec": {
      "name": "python3",
      "display_name": "Python 3"
    },
    "language_info": {
      "name": "python"
    }
  },
  "cells": [
    {
      "cell_type": "markdown",
      "metadata": {
        "id": "view-in-github",
        "colab_type": "text"
      },
      "source": [
        "<a href=\"https://colab.research.google.com/github/alfinmaulani/skripsi/blob/master/2_2glove.ipynb\" target=\"_parent\"><img src=\"https://colab.research.google.com/assets/colab-badge.svg\" alt=\"Open In Colab\"/></a>"
      ]
    },
    {
      "cell_type": "code",
      "metadata": {
        "colab": {
          "base_uri": "https://localhost:8080/"
        },
        "id": "ci3dfx-9C_ji",
        "outputId": "efc45bd9-ce7b-4be6-b269-de80c4651cbd"
      },
      "source": [
        "import numpy as np\n",
        "import pandas as pd\n",
        "import io\n",
        "from nltk.tokenize import word_tokenize\n",
        "import nltk\n",
        "nltk.download('punkt')\n",
        "import ast"
      ],
      "execution_count": 1,
      "outputs": [
        {
          "output_type": "stream",
          "name": "stdout",
          "text": [
            "[nltk_data] Downloading package punkt to /root/nltk_data...\n",
            "[nltk_data]   Unzipping tokenizers/punkt.zip.\n"
          ]
        }
      ]
    },
    {
      "cell_type": "code",
      "metadata": {
        "id": "PLiJJ1DvTPWw",
        "colab": {
          "base_uri": "https://localhost:8080/"
        },
        "outputId": "55b4cf71-8554-4c4c-a99b-b332b84d5719"
      },
      "source": [
        "from google.colab import drive\n",
        "drive.mount('/content/drive')"
      ],
      "execution_count": null,
      "outputs": [
        {
          "output_type": "stream",
          "name": "stdout",
          "text": [
            "Drive already mounted at /content/drive; to attempt to forcibly remount, call drive.mount(\"/content/drive\", force_remount=True).\n"
          ]
        }
      ]
    },
    {
      "cell_type": "markdown",
      "metadata": {
        "id": "TU-SQAf8TiXY"
      },
      "source": [
        "load korpus"
      ]
    },
    {
      "cell_type": "code",
      "metadata": {
        "id": "q3KgHqEMTTts"
      },
      "source": [
        "korpus1a = '/content/drive/MyDrive/korpus1dataisear(preputama).csv'\n",
        "jorpus1b = '/content/drive/MyDrive/korpus1dataisear(preptambah).csv'\n",
        "korpus2a = '/content/drive/MyDrive/korpus2(preputama).csv'\n",
        "korpus2b = '/content/drive/MyDrive/korpus2(preptambah).csv'\n",
        "df = pd.read_csv(korpus2a)"
      ],
      "execution_count": 2,
      "outputs": []
    },
    {
      "cell_type": "code",
      "metadata": {
        "colab": {
          "base_uri": "https://localhost:8080/"
        },
        "id": "dO64rASsqtnx",
        "outputId": "aee4cc56-2218-4973-b4c3-3a0aed1817b5"
      },
      "source": [
        "dfg = pd.read_csv('/content/drive/MyDrive/trainingwv-blog(preputama).csv')\n",
        "dfg.columns"
      ],
      "execution_count": 3,
      "outputs": [
        {
          "output_type": "execute_result",
          "data": {
            "text/plain": [
              "Index(['teks'], dtype='object')"
            ]
          },
          "metadata": {},
          "execution_count": 3
        }
      ]
    },
    {
      "cell_type": "markdown",
      "metadata": {
        "id": "JejS3HztTpFx"
      },
      "source": [
        "gabung korpus"
      ]
    },
    {
      "cell_type": "code",
      "metadata": {
        "id": "E8CcQlcgTvOx"
      },
      "source": [
        "# sent=df.dokumen"
      ],
      "execution_count": null,
      "outputs": []
    },
    {
      "cell_type": "code",
      "metadata": {
        "id": "IVHPYkCETxJG"
      },
      "source": [
        "sent=dfg.teks.append(df.content,ignore_index=True)"
      ],
      "execution_count": 4,
      "outputs": []
    },
    {
      "cell_type": "markdown",
      "metadata": {
        "id": "IEiE7_qK3esO"
      },
      "source": [
        "convert string to list"
      ]
    },
    {
      "cell_type": "code",
      "metadata": {
        "id": "DyBNIHkmTgGo"
      },
      "source": [
        "def convert_to_list(tem):\n",
        "  temp=[]\n",
        "  for senten in tem:\n",
        "    temp.append(ast.literal_eval(senten))\n",
        "  return temp"
      ],
      "execution_count": 5,
      "outputs": []
    },
    {
      "cell_type": "code",
      "metadata": {
        "id": "_beXBVHuwcd-"
      },
      "source": [
        "sent=convert_to_list(sent)"
      ],
      "execution_count": 6,
      "outputs": []
    },
    {
      "cell_type": "markdown",
      "metadata": {
        "id": "vTOWi8ItTy_q"
      },
      "source": [
        "glove"
      ]
    },
    {
      "cell_type": "code",
      "metadata": {
        "colab": {
          "base_uri": "https://localhost:8080/"
        },
        "id": "2VBTiPKHDIIp",
        "outputId": "5bb90727-338e-4317-e998-8775dc52e77d"
      },
      "source": [
        "!pip install glove-python-binary\n",
        "from glove import Glove\n",
        "from glove import Corpus"
      ],
      "execution_count": 7,
      "outputs": [
        {
          "output_type": "stream",
          "name": "stdout",
          "text": [
            "Collecting glove-python-binary\n",
            "  Downloading glove_python_binary-0.2.0-cp37-cp37m-manylinux1_x86_64.whl (948 kB)\n",
            "\u001b[?25l\r\u001b[K     |▍                               | 10 kB 23.4 MB/s eta 0:00:01\r\u001b[K     |▊                               | 20 kB 17.0 MB/s eta 0:00:01\r\u001b[K     |█                               | 30 kB 11.1 MB/s eta 0:00:01\r\u001b[K     |█▍                              | 40 kB 9.6 MB/s eta 0:00:01\r\u001b[K     |█▊                              | 51 kB 4.5 MB/s eta 0:00:01\r\u001b[K     |██                              | 61 kB 5.3 MB/s eta 0:00:01\r\u001b[K     |██▍                             | 71 kB 5.6 MB/s eta 0:00:01\r\u001b[K     |██▊                             | 81 kB 4.4 MB/s eta 0:00:01\r\u001b[K     |███                             | 92 kB 4.9 MB/s eta 0:00:01\r\u001b[K     |███▌                            | 102 kB 5.4 MB/s eta 0:00:01\r\u001b[K     |███▉                            | 112 kB 5.4 MB/s eta 0:00:01\r\u001b[K     |████▏                           | 122 kB 5.4 MB/s eta 0:00:01\r\u001b[K     |████▌                           | 133 kB 5.4 MB/s eta 0:00:01\r\u001b[K     |████▉                           | 143 kB 5.4 MB/s eta 0:00:01\r\u001b[K     |█████▏                          | 153 kB 5.4 MB/s eta 0:00:01\r\u001b[K     |█████▌                          | 163 kB 5.4 MB/s eta 0:00:01\r\u001b[K     |█████▉                          | 174 kB 5.4 MB/s eta 0:00:01\r\u001b[K     |██████▏                         | 184 kB 5.4 MB/s eta 0:00:01\r\u001b[K     |██████▋                         | 194 kB 5.4 MB/s eta 0:00:01\r\u001b[K     |███████                         | 204 kB 5.4 MB/s eta 0:00:01\r\u001b[K     |███████▎                        | 215 kB 5.4 MB/s eta 0:00:01\r\u001b[K     |███████▋                        | 225 kB 5.4 MB/s eta 0:00:01\r\u001b[K     |████████                        | 235 kB 5.4 MB/s eta 0:00:01\r\u001b[K     |████████▎                       | 245 kB 5.4 MB/s eta 0:00:01\r\u001b[K     |████████▋                       | 256 kB 5.4 MB/s eta 0:00:01\r\u001b[K     |█████████                       | 266 kB 5.4 MB/s eta 0:00:01\r\u001b[K     |█████████▎                      | 276 kB 5.4 MB/s eta 0:00:01\r\u001b[K     |█████████▊                      | 286 kB 5.4 MB/s eta 0:00:01\r\u001b[K     |██████████                      | 296 kB 5.4 MB/s eta 0:00:01\r\u001b[K     |██████████▍                     | 307 kB 5.4 MB/s eta 0:00:01\r\u001b[K     |██████████▊                     | 317 kB 5.4 MB/s eta 0:00:01\r\u001b[K     |███████████                     | 327 kB 5.4 MB/s eta 0:00:01\r\u001b[K     |███████████▍                    | 337 kB 5.4 MB/s eta 0:00:01\r\u001b[K     |███████████▊                    | 348 kB 5.4 MB/s eta 0:00:01\r\u001b[K     |████████████                    | 358 kB 5.4 MB/s eta 0:00:01\r\u001b[K     |████████████▍                   | 368 kB 5.4 MB/s eta 0:00:01\r\u001b[K     |████████████▊                   | 378 kB 5.4 MB/s eta 0:00:01\r\u001b[K     |█████████████▏                  | 389 kB 5.4 MB/s eta 0:00:01\r\u001b[K     |█████████████▌                  | 399 kB 5.4 MB/s eta 0:00:01\r\u001b[K     |█████████████▉                  | 409 kB 5.4 MB/s eta 0:00:01\r\u001b[K     |██████████████▏                 | 419 kB 5.4 MB/s eta 0:00:01\r\u001b[K     |██████████████▌                 | 430 kB 5.4 MB/s eta 0:00:01\r\u001b[K     |██████████████▉                 | 440 kB 5.4 MB/s eta 0:00:01\r\u001b[K     |███████████████▏                | 450 kB 5.4 MB/s eta 0:00:01\r\u001b[K     |███████████████▌                | 460 kB 5.4 MB/s eta 0:00:01\r\u001b[K     |███████████████▉                | 471 kB 5.4 MB/s eta 0:00:01\r\u001b[K     |████████████████▎               | 481 kB 5.4 MB/s eta 0:00:01\r\u001b[K     |████████████████▋               | 491 kB 5.4 MB/s eta 0:00:01\r\u001b[K     |█████████████████               | 501 kB 5.4 MB/s eta 0:00:01\r\u001b[K     |█████████████████▎              | 512 kB 5.4 MB/s eta 0:00:01\r\u001b[K     |█████████████████▋              | 522 kB 5.4 MB/s eta 0:00:01\r\u001b[K     |██████████████████              | 532 kB 5.4 MB/s eta 0:00:01\r\u001b[K     |██████████████████▎             | 542 kB 5.4 MB/s eta 0:00:01\r\u001b[K     |██████████████████▋             | 552 kB 5.4 MB/s eta 0:00:01\r\u001b[K     |███████████████████             | 563 kB 5.4 MB/s eta 0:00:01\r\u001b[K     |███████████████████▍            | 573 kB 5.4 MB/s eta 0:00:01\r\u001b[K     |███████████████████▊            | 583 kB 5.4 MB/s eta 0:00:01\r\u001b[K     |████████████████████            | 593 kB 5.4 MB/s eta 0:00:01\r\u001b[K     |████████████████████▍           | 604 kB 5.4 MB/s eta 0:00:01\r\u001b[K     |████████████████████▊           | 614 kB 5.4 MB/s eta 0:00:01\r\u001b[K     |█████████████████████           | 624 kB 5.4 MB/s eta 0:00:01\r\u001b[K     |█████████████████████▍          | 634 kB 5.4 MB/s eta 0:00:01\r\u001b[K     |█████████████████████▊          | 645 kB 5.4 MB/s eta 0:00:01\r\u001b[K     |██████████████████████          | 655 kB 5.4 MB/s eta 0:00:01\r\u001b[K     |██████████████████████▌         | 665 kB 5.4 MB/s eta 0:00:01\r\u001b[K     |██████████████████████▉         | 675 kB 5.4 MB/s eta 0:00:01\r\u001b[K     |███████████████████████▏        | 686 kB 5.4 MB/s eta 0:00:01\r\u001b[K     |███████████████████████▌        | 696 kB 5.4 MB/s eta 0:00:01\r\u001b[K     |███████████████████████▉        | 706 kB 5.4 MB/s eta 0:00:01\r\u001b[K     |████████████████████████▏       | 716 kB 5.4 MB/s eta 0:00:01\r\u001b[K     |████████████████████████▌       | 727 kB 5.4 MB/s eta 0:00:01\r\u001b[K     |████████████████████████▉       | 737 kB 5.4 MB/s eta 0:00:01\r\u001b[K     |█████████████████████████▏      | 747 kB 5.4 MB/s eta 0:00:01\r\u001b[K     |█████████████████████████▌      | 757 kB 5.4 MB/s eta 0:00:01\r\u001b[K     |██████████████████████████      | 768 kB 5.4 MB/s eta 0:00:01\r\u001b[K     |██████████████████████████▎     | 778 kB 5.4 MB/s eta 0:00:01\r\u001b[K     |██████████████████████████▋     | 788 kB 5.4 MB/s eta 0:00:01\r\u001b[K     |███████████████████████████     | 798 kB 5.4 MB/s eta 0:00:01\r\u001b[K     |███████████████████████████▎    | 808 kB 5.4 MB/s eta 0:00:01\r\u001b[K     |███████████████████████████▋    | 819 kB 5.4 MB/s eta 0:00:01\r\u001b[K     |████████████████████████████    | 829 kB 5.4 MB/s eta 0:00:01\r\u001b[K     |████████████████████████████▎   | 839 kB 5.4 MB/s eta 0:00:01\r\u001b[K     |████████████████████████████▋   | 849 kB 5.4 MB/s eta 0:00:01\r\u001b[K     |█████████████████████████████   | 860 kB 5.4 MB/s eta 0:00:01\r\u001b[K     |█████████████████████████████▍  | 870 kB 5.4 MB/s eta 0:00:01\r\u001b[K     |█████████████████████████████▊  | 880 kB 5.4 MB/s eta 0:00:01\r\u001b[K     |██████████████████████████████  | 890 kB 5.4 MB/s eta 0:00:01\r\u001b[K     |██████████████████████████████▍ | 901 kB 5.4 MB/s eta 0:00:01\r\u001b[K     |██████████████████████████████▊ | 911 kB 5.4 MB/s eta 0:00:01\r\u001b[K     |███████████████████████████████ | 921 kB 5.4 MB/s eta 0:00:01\r\u001b[K     |███████████████████████████████▍| 931 kB 5.4 MB/s eta 0:00:01\r\u001b[K     |███████████████████████████████▊| 942 kB 5.4 MB/s eta 0:00:01\r\u001b[K     |████████████████████████████████| 948 kB 5.4 MB/s \n",
            "\u001b[?25hRequirement already satisfied: numpy in /usr/local/lib/python3.7/dist-packages (from glove-python-binary) (1.21.5)\n",
            "Requirement already satisfied: scipy in /usr/local/lib/python3.7/dist-packages (from glove-python-binary) (1.4.1)\n",
            "Installing collected packages: glove-python-binary\n",
            "Successfully installed glove-python-binary-0.2.0\n"
          ]
        }
      ]
    },
    {
      "cell_type": "code",
      "metadata": {
        "id": "0FFA9MDmnMU1"
      },
      "source": [
        "korpus = Corpus()\n",
        "korpus.fit(sent, window=5, ignore_missing=True)\n",
        "glove = Glove(no_components=100, learning_rate=0.1, alpha=0.025, max_loss=100.0)\n",
        "glove.fit(korpus.matrix, epochs=5)\n",
        "glove.add_dictionary(korpus.dictionary)"
      ],
      "execution_count": 8,
      "outputs": []
    },
    {
      "cell_type": "markdown",
      "metadata": {
        "id": "loWFunFSUN98"
      },
      "source": [
        "cek model"
      ]
    },
    {
      "cell_type": "code",
      "metadata": {
        "id": "CycUf02hYEKd",
        "colab": {
          "base_uri": "https://localhost:8080/"
        },
        "outputId": "1ffb9270-19ee-4f0d-e2f6-f5b43fe29c38"
      },
      "source": [
        "glove.word_vectors.shape"
      ],
      "execution_count": 9,
      "outputs": [
        {
          "output_type": "execute_result",
          "data": {
            "text/plain": [
              "(1050252, 100)"
            ]
          },
          "metadata": {},
          "execution_count": 9
        }
      ]
    },
    {
      "cell_type": "code",
      "metadata": {
        "id": "TQdlfFt-UTie",
        "outputId": "3f13c0ca-59ce-4d2e-f411-92d2f3b1677c",
        "colab": {
          "base_uri": "https://localhost:8080/"
        }
      },
      "source": [
        "glove.word_vectors[glove.dictionary['yes']]"
      ],
      "execution_count": 10,
      "outputs": [
        {
          "output_type": "execute_result",
          "data": {
            "text/plain": [
              "array([-1.67408169e-02,  5.92526040e-01,  5.14093008e-02, -7.14002869e-04,\n",
              "       -1.55958272e-01,  2.87903047e-02, -1.03514857e-01,  1.02456660e+00,\n",
              "        1.12854291e-01,  3.81730647e-01,  5.92694907e-01, -1.05211258e-01,\n",
              "        1.86796449e-01, -2.24773850e-01,  1.12784642e-01, -4.86738104e-01,\n",
              "       -5.19231595e-03, -9.60918323e-01, -1.48612618e-01, -5.65863005e-02,\n",
              "        1.12905128e-01, -3.00104692e-01,  1.38195492e-01,  2.39796940e-01,\n",
              "       -1.56778554e-01, -8.69070678e-02, -2.56295199e-01,  4.12177409e-01,\n",
              "        1.79097971e-01,  1.41513581e-01, -1.77740420e-01,  5.10289708e-02,\n",
              "       -1.01517677e-01, -1.85588183e-01, -6.17583661e-01, -4.22178272e-01,\n",
              "        3.30540237e-02,  6.44274369e-02,  1.69633682e-01, -3.84180581e-01,\n",
              "       -1.99394302e-01,  2.36812117e-01, -2.75517237e-01,  1.34321821e-01,\n",
              "        1.52912298e-01, -3.70207482e-01, -2.27462740e-02,  3.44468427e-02,\n",
              "        4.45465295e-01, -4.93587244e-02,  2.52137836e-01, -2.52773668e-01,\n",
              "        9.97233715e-01,  5.75062085e-01,  2.05763026e-02, -3.64261349e-02,\n",
              "       -4.15620869e-02, -1.48853721e-01,  2.82874766e-01, -1.93652216e-02,\n",
              "        3.08585287e-01,  1.62432918e-01, -5.60036967e-01, -3.92216178e-01,\n",
              "        5.87035014e-01,  1.42970614e-01, -2.50839043e-01, -1.29383480e-01,\n",
              "       -4.11339248e-03, -2.37888362e-02,  1.37317890e-01, -5.20151901e-01,\n",
              "       -8.08360586e-04,  6.74485176e-02,  1.69709334e-01, -3.95962266e-01,\n",
              "       -9.93242858e-02, -6.51135327e-02, -2.93072578e-01,  1.31515298e-01,\n",
              "       -4.15238741e-01, -7.06373779e-01,  1.67898729e-01,  2.90970445e-01,\n",
              "       -4.11834970e-02,  7.72719232e-02, -2.48884053e-03, -1.74412418e-01,\n",
              "        1.66783181e-01,  3.58856247e-01, -6.40614096e-02, -2.20954717e-01,\n",
              "       -1.79419905e-01,  8.06398700e-02, -3.10050856e-01, -2.86145876e-01,\n",
              "       -1.31732782e-02, -2.46776226e-01,  1.64064073e-01,  2.11697554e-01])"
            ]
          },
          "metadata": {},
          "execution_count": 10
        }
      ]
    },
    {
      "cell_type": "markdown",
      "metadata": {
        "id": "napoX42qVEvw"
      },
      "source": [
        "save model"
      ]
    },
    {
      "cell_type": "code",
      "metadata": {
        "id": "bLp-RexboXnA"
      },
      "source": [
        "glove.save('korpus2+blog(preputama).glove')"
      ],
      "execution_count": 11,
      "outputs": []
    },
    {
      "cell_type": "markdown",
      "metadata": {
        "id": "UpJ_esuyUdtC"
      },
      "source": [
        "sanity check"
      ]
    },
    {
      "cell_type": "code",
      "metadata": {
        "id": "4pVDrOHLo2pG",
        "outputId": "47fe0bb8-ebe9-4426-b166-7d834d842bee",
        "colab": {
          "base_uri": "https://localhost:8080/"
        }
      },
      "source": [
        "glove.most_similar('yes', number=10)"
      ],
      "execution_count": 12,
      "outputs": [
        {
          "output_type": "execute_result",
          "data": {
            "text/plain": [
              "[('httpwwwempireonlinecouksitenewsnewsstoryaspnews_id15992',\n",
              "  0.8622573853117758),\n",
              " ('oh', 0.7843515876802785),\n",
              " ('走向前', 0.784171147507857),\n",
              " ('开始一个人看明天', 0.7522009308794968),\n",
              " ('yeah', 0.7492435790474227),\n",
              " ('你寂寞只想要我陪', 0.7335539844431552),\n",
              " ('ftwh', 0.7098518489354013),\n",
              " ('nbsp27', 0.7097848100313485),\n",
              " ('taenioid', 0.7090226546875308)]"
            ]
          },
          "metadata": {},
          "execution_count": 12
        }
      ]
    }
  ]
}