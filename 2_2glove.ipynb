{
  "nbformat": 4,
  "nbformat_minor": 0,
  "metadata": {
    "colab": {
      "name": "2_2glove2.ipynb",
      "provenance": [],
      "mount_file_id": "https://github.com/alfinmaulani/skripsi/blob/master/2_2glove.ipynb",
      "authorship_tag": "ABX9TyN+42DOt1PkG8iM2cMvatUP",
      "include_colab_link": true
    },
    "kernelspec": {
      "name": "python3",
      "display_name": "Python 3"
    },
    "language_info": {
      "name": "python"
    }
  },
  "cells": [
    {
      "cell_type": "markdown",
      "metadata": {
        "id": "view-in-github",
        "colab_type": "text"
      },
      "source": [
        "<a href=\"https://colab.research.google.com/github/alfinmaulani/skripsi/blob/master/2_2glove.ipynb\" target=\"_parent\"><img src=\"https://colab.research.google.com/assets/colab-badge.svg\" alt=\"Open In Colab\"/></a>"
      ]
    },
    {
      "cell_type": "code",
      "metadata": {
        "colab": {
          "base_uri": "https://localhost:8080/"
        },
        "id": "ci3dfx-9C_ji",
        "outputId": "f7ebb771-3cb4-4f3e-8724-b86f0371670d"
      },
      "source": [
        "import numpy as np\n",
        "import pandas as pd\n",
        "import io\n",
        "from nltk.tokenize import word_tokenize\n",
        "import nltk\n",
        "nltk.download('punkt')\n",
        "import ast"
      ],
      "execution_count": 1,
      "outputs": [
        {
          "output_type": "stream",
          "name": "stdout",
          "text": [
            "[nltk_data] Downloading package punkt to /root/nltk_data...\n",
            "[nltk_data]   Package punkt is already up-to-date!\n"
          ]
        }
      ]
    },
    {
      "cell_type": "code",
      "metadata": {
        "id": "PLiJJ1DvTPWw",
        "colab": {
          "base_uri": "https://localhost:8080/"
        },
        "outputId": "55b4cf71-8554-4c4c-a99b-b332b84d5719"
      },
      "source": [
        "from google.colab import drive\n",
        "drive.mount('/content/drive')"
      ],
      "execution_count": null,
      "outputs": [
        {
          "output_type": "stream",
          "name": "stdout",
          "text": [
            "Drive already mounted at /content/drive; to attempt to forcibly remount, call drive.mount(\"/content/drive\", force_remount=True).\n"
          ]
        }
      ]
    },
    {
      "cell_type": "markdown",
      "metadata": {
        "id": "TU-SQAf8TiXY"
      },
      "source": [
        "load korpus"
      ]
    },
    {
      "cell_type": "code",
      "metadata": {
        "id": "q3KgHqEMTTts"
      },
      "source": [
        "url1 = '/content/drive/MyDrive/dataisear(preputama).csv'\n",
        "url2 = '/content/drive/MyDrive/dataisear(preptambah).csv'\n",
        "df = pd.read_csv(url2)"
      ],
      "execution_count": 2,
      "outputs": []
    },
    {
      "cell_type": "code",
      "metadata": {
        "colab": {
          "base_uri": "https://localhost:8080/"
        },
        "id": "dO64rASsqtnx",
        "outputId": "32e8436f-ec5c-4292-bd99-31f39ca67dbf"
      },
      "source": [
        "dfg = pd.read_csv('/content/drive/MyDrive/korpusblogspertiga(preptambah).csv')\n",
        "dfg.columns"
      ],
      "execution_count": 3,
      "outputs": [
        {
          "output_type": "execute_result",
          "data": {
            "text/plain": [
              "Index(['dok'], dtype='object')"
            ]
          },
          "metadata": {},
          "execution_count": 3
        }
      ]
    },
    {
      "cell_type": "markdown",
      "metadata": {
        "id": "JejS3HztTpFx"
      },
      "source": [
        "gabung korpus"
      ]
    },
    {
      "cell_type": "code",
      "metadata": {
        "id": "E8CcQlcgTvOx"
      },
      "source": [
        "sent=df.dokumen"
      ],
      "execution_count": 11,
      "outputs": []
    },
    {
      "cell_type": "code",
      "metadata": {
        "id": "IVHPYkCETxJG"
      },
      "source": [
        "sent=dfg.dok.append(df.dokumen,ignore_index=True)"
      ],
      "execution_count": 4,
      "outputs": []
    },
    {
      "cell_type": "code",
      "metadata": {
        "id": "DyBNIHkmTgGo"
      },
      "source": [
        "def convert_to_list(tem):\n",
        "  temp=[]\n",
        "  for senten in tem:\n",
        "    temp.append(ast.literal_eval(senten))\n",
        "  return temp"
      ],
      "execution_count": 5,
      "outputs": []
    },
    {
      "cell_type": "code",
      "metadata": {
        "id": "_beXBVHuwcd-"
      },
      "source": [
        "sent=convert_to_list(sent)"
      ],
      "execution_count": 6,
      "outputs": []
    },
    {
      "cell_type": "markdown",
      "metadata": {
        "id": "vTOWi8ItTy_q"
      },
      "source": [
        "glove"
      ]
    },
    {
      "cell_type": "code",
      "metadata": {
        "colab": {
          "base_uri": "https://localhost:8080/"
        },
        "id": "2VBTiPKHDIIp",
        "outputId": "35a750de-4f4a-4a4e-9387-ec20538e61a8"
      },
      "source": [
        "!pip install glove-python-binary\n",
        "from glove import Glove\n",
        "from glove import Corpus\n",
        "def train_glove(temp):\n",
        "  korpus = Corpus()\n",
        "  korpus.fit(temp, window=5, ignore_missing=True)\n",
        "  glove = Glove(no_components=100, learning_rate=0.1, alpha=0.025, max_loss=100.0)\n",
        "  glove.fit(korpus.matrix)\n",
        "  glove.add_dictionary(korpus.dictionary)\n",
        "  return glove"
      ],
      "execution_count": 7,
      "outputs": [
        {
          "output_type": "stream",
          "name": "stdout",
          "text": [
            "Requirement already satisfied: glove-python-binary in /usr/local/lib/python3.7/dist-packages (0.2.0)\n",
            "Requirement already satisfied: numpy in /usr/local/lib/python3.7/dist-packages (from glove-python-binary) (1.19.5)\n",
            "Requirement already satisfied: scipy in /usr/local/lib/python3.7/dist-packages (from glove-python-binary) (1.4.1)\n"
          ]
        }
      ]
    },
    {
      "cell_type": "code",
      "metadata": {
        "id": "0FFA9MDmnMU1"
      },
      "source": [
        "glove=train_glove(sent)"
      ],
      "execution_count": 8,
      "outputs": []
    },
    {
      "cell_type": "markdown",
      "metadata": {
        "id": "loWFunFSUN98"
      },
      "source": [
        "cek model"
      ]
    },
    {
      "cell_type": "code",
      "metadata": {
        "id": "CycUf02hYEKd",
        "colab": {
          "base_uri": "https://localhost:8080/"
        },
        "outputId": "7f10573e-e9ee-4476-a29f-5d0811b4dcfd"
      },
      "source": [
        "glove.word_vectors.shape"
      ],
      "execution_count": 16,
      "outputs": [
        {
          "output_type": "execute_result",
          "data": {
            "text/plain": [
              "(9204, 100)"
            ]
          },
          "metadata": {},
          "execution_count": 16
        }
      ]
    },
    {
      "cell_type": "code",
      "metadata": {
        "id": "TQdlfFt-UTie",
        "colab": {
          "base_uri": "https://localhost:8080/"
        },
        "outputId": "1df0a409-af61-424f-fde4-c881180e8417"
      },
      "source": [
        "glove.word_vectors[glove.dictionary['moment']]"
      ],
      "execution_count": null,
      "outputs": [
        {
          "output_type": "execute_result",
          "data": {
            "text/plain": [
              "array([-2.22150974e+02, -7.31743298e+01,  2.81931473e+00, -7.85656168e+01,\n",
              "        2.36084630e+00, -6.99257993e+00,  7.50732879e+00,  7.79844844e-01,\n",
              "       -2.35127480e+01,  1.93173033e+03,  5.31160845e+01, -1.90863271e-01,\n",
              "       -6.00698434e+00,  1.30120498e+03, -4.37710848e+02,  2.06434972e+01,\n",
              "       -7.39024227e+00,  2.04835492e+03,  4.95005275e+02,  1.54010337e+00,\n",
              "        8.26516389e+01,  2.04528538e+03,  1.05199559e+03, -8.62555784e+00,\n",
              "        2.09928734e+00, -2.21429807e+03, -1.81696559e+02, -3.01302281e+01,\n",
              "        1.11041276e+02,  2.73261063e+01, -3.14070429e+03, -5.03011012e+01,\n",
              "        7.39944645e+02, -2.32888637e+03,  5.31800992e+00, -8.38331410e+02,\n",
              "       -1.31703479e-01, -1.26705697e+01, -2.31216263e+00,  1.87772539e+03,\n",
              "        1.44684310e-01,  2.20034130e+02, -1.73458621e+02, -9.60482494e-01,\n",
              "        1.71496456e+01, -4.13313706e+02,  1.58707324e+03,  1.02948365e+02,\n",
              "       -2.87069462e+01,  5.37536292e+03,  2.76251242e+00,  4.70786990e+00,\n",
              "       -1.65388942e+03, -1.47949222e-01,  1.50563679e+01,  5.69789645e+02,\n",
              "       -2.75190889e+02, -6.97546203e+02, -6.80694920e+01,  2.29598237e+01,\n",
              "        1.39790949e+00,  2.44884047e+00, -5.79743484e+00,  6.12054034e+01,\n",
              "       -5.73163175e+02, -3.63185174e+03,  5.46537023e+03, -3.29804328e+01,\n",
              "        1.23485294e+01,  1.78210607e+00,  5.43837594e+01,  5.65964451e+00,\n",
              "        1.25193798e+04,  2.43776432e+02,  5.36984465e+02, -3.41858440e+01,\n",
              "       -1.12864544e+02, -5.28884667e+00, -3.64901909e+03, -1.99776140e+02,\n",
              "        2.54008700e+01,  1.33296289e+01,  4.06209501e+01,  2.84153519e+02,\n",
              "       -5.99422666e+00, -3.17485845e+01,  2.69640582e-01,  2.07547249e+01,\n",
              "       -1.96161798e+00, -3.77751724e+03, -6.51381492e-01,  7.13205379e+03,\n",
              "       -5.62893879e+00,  2.91168945e+03,  1.24069240e+03,  9.09827750e+01,\n",
              "        4.35767118e+03, -1.85950479e+02,  5.64271644e+00, -1.62097010e+03])"
            ]
          },
          "metadata": {},
          "execution_count": 11
        }
      ]
    },
    {
      "cell_type": "markdown",
      "metadata": {
        "id": "napoX42qVEvw"
      },
      "source": [
        "save model"
      ]
    },
    {
      "cell_type": "code",
      "metadata": {
        "id": "bLp-RexboXnA"
      },
      "source": [
        "glove.save('korpusblogspertiga(preptambah).glove')"
      ],
      "execution_count": 9,
      "outputs": []
    },
    {
      "cell_type": "markdown",
      "metadata": {
        "id": "UpJ_esuyUdtC"
      },
      "source": [
        "sanity check"
      ]
    },
    {
      "cell_type": "code",
      "metadata": {
        "id": "4pVDrOHLo2pG",
        "colab": {
          "base_uri": "https://localhost:8080/"
        },
        "outputId": "cf69aa93-4bd7-4e56-a9b2-3379b9970253"
      },
      "source": [
        "glove.most_similar('moment', number=10)"
      ],
      "execution_count": 23,
      "outputs": [
        {
          "output_type": "execute_result",
          "data": {
            "text/plain": [
              "[('oohoohoohoohoohooh', 0.8400223446653085),\n",
              " ('moments', 0.7387629934557565),\n",
              " ('dream', 0.6739385267127537),\n",
              " ('knowing', 0.669931096608997),\n",
              " ('remember', 0.6681621351044351),\n",
              " ('something', 0.6667727839687698),\n",
              " ('realize', 0.6570485702467875),\n",
              " ('id', 0.6543934579784887),\n",
              " ('imagine', 0.6529443540876563)]"
            ]
          },
          "metadata": {},
          "execution_count": 23
        }
      ]
    }
  ]
}