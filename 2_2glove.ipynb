{
  "nbformat": 4,
  "nbformat_minor": 0,
  "metadata": {
    "colab": {
      "name": "2_2glove2.ipynb",
      "provenance": [],
      "mount_file_id": "https://github.com/alfinmaulani/skripsi/blob/master/2_2glove.ipynb",
      "authorship_tag": "ABX9TyNXGQeInMiLqWcANYZy9w2X",
      "include_colab_link": true
    },
    "kernelspec": {
      "name": "python3",
      "display_name": "Python 3"
    },
    "language_info": {
      "name": "python"
    }
  },
  "cells": [
    {
      "cell_type": "markdown",
      "metadata": {
        "id": "view-in-github",
        "colab_type": "text"
      },
      "source": [
        "<a href=\"https://colab.research.google.com/github/alfinmaulani/skripsi/blob/master/2_2glove.ipynb\" target=\"_parent\"><img src=\"https://colab.research.google.com/assets/colab-badge.svg\" alt=\"Open In Colab\"/></a>"
      ]
    },
    {
      "cell_type": "code",
      "metadata": {
        "colab": {
          "base_uri": "https://localhost:8080/"
        },
        "id": "ci3dfx-9C_ji",
        "outputId": "298075f0-90fb-42a3-ce93-f6a3c6016108"
      },
      "source": [
        "import numpy as np\n",
        "import pandas as pd\n",
        "import io\n",
        "from nltk.tokenize import word_tokenize\n",
        "import nltk\n",
        "nltk.download('punkt')\n",
        "import ast"
      ],
      "execution_count": 1,
      "outputs": [
        {
          "output_type": "stream",
          "name": "stdout",
          "text": [
            "[nltk_data] Downloading package punkt to /root/nltk_data...\n",
            "[nltk_data]   Package punkt is already up-to-date!\n"
          ]
        }
      ]
    },
    {
      "cell_type": "code",
      "metadata": {
        "id": "PLiJJ1DvTPWw",
        "colab": {
          "base_uri": "https://localhost:8080/"
        },
        "outputId": "55b4cf71-8554-4c4c-a99b-b332b84d5719"
      },
      "source": [
        "from google.colab import drive\n",
        "drive.mount('/content/drive')"
      ],
      "execution_count": 2,
      "outputs": [
        {
          "output_type": "stream",
          "name": "stdout",
          "text": [
            "Drive already mounted at /content/drive; to attempt to forcibly remount, call drive.mount(\"/content/drive\", force_remount=True).\n"
          ]
        }
      ]
    },
    {
      "cell_type": "markdown",
      "metadata": {
        "id": "TU-SQAf8TiXY"
      },
      "source": [
        "load korpus"
      ]
    },
    {
      "cell_type": "code",
      "metadata": {
        "id": "q3KgHqEMTTts"
      },
      "source": [
        "url1 = '/content/drive/MyDrive/dataisear(preputama).csv'\n",
        "url2 = '/content/drive/MyDrive/dataisear(preptambah).csv'\n",
        "df = pd.read_csv(url1)"
      ],
      "execution_count": 2,
      "outputs": []
    },
    {
      "cell_type": "code",
      "metadata": {
        "colab": {
          "base_uri": "https://localhost:8080/"
        },
        "id": "dO64rASsqtnx",
        "outputId": "a48ebc59-0680-4784-bf7d-5915cb940528"
      },
      "source": [
        "dfg = pd.read_csv('/content/drive/MyDrive/korpuswiki600M(preputama).csv')\n",
        "dfg.columns"
      ],
      "execution_count": 4,
      "outputs": [
        {
          "output_type": "execute_result",
          "data": {
            "text/plain": [
              "Index(['dok'], dtype='object')"
            ]
          },
          "metadata": {},
          "execution_count": 4
        }
      ]
    },
    {
      "cell_type": "markdown",
      "metadata": {
        "id": "JejS3HztTpFx"
      },
      "source": [
        "gabung korpus"
      ]
    },
    {
      "cell_type": "code",
      "metadata": {
        "id": "E8CcQlcgTvOx"
      },
      "source": [
        "sent=df.dokumen"
      ],
      "execution_count": 3,
      "outputs": []
    },
    {
      "cell_type": "code",
      "metadata": {
        "id": "IVHPYkCETxJG"
      },
      "source": [
        "sent=dfg.dok.append(df.dokumen,ignore_index=True)"
      ],
      "execution_count": 5,
      "outputs": []
    },
    {
      "cell_type": "code",
      "metadata": {
        "id": "DyBNIHkmTgGo"
      },
      "source": [
        "def convert_to_list(tem):\n",
        "  temp=[]\n",
        "  for senten in tem:\n",
        "    temp.append(ast.literal_eval(senten))\n",
        "  return temp"
      ],
      "execution_count": 4,
      "outputs": []
    },
    {
      "cell_type": "code",
      "metadata": {
        "id": "_beXBVHuwcd-"
      },
      "source": [
        "sent=convert_to_list(sent)"
      ],
      "execution_count": 5,
      "outputs": []
    },
    {
      "cell_type": "markdown",
      "metadata": {
        "id": "vTOWi8ItTy_q"
      },
      "source": [
        "glove"
      ]
    },
    {
      "cell_type": "code",
      "metadata": {
        "colab": {
          "base_uri": "https://localhost:8080/"
        },
        "id": "2VBTiPKHDIIp",
        "outputId": "2bc0aeb1-935a-4454-c448-1c511ac79be5"
      },
      "source": [
        "!pip install glove-python-binary\n",
        "from glove import Glove\n",
        "from glove import Corpus"
      ],
      "execution_count": 6,
      "outputs": [
        {
          "output_type": "stream",
          "name": "stdout",
          "text": [
            "Requirement already satisfied: glove-python-binary in /usr/local/lib/python3.7/dist-packages (0.2.0)\n",
            "Requirement already satisfied: numpy in /usr/local/lib/python3.7/dist-packages (from glove-python-binary) (1.19.5)\n",
            "Requirement already satisfied: scipy in /usr/local/lib/python3.7/dist-packages (from glove-python-binary) (1.4.1)\n"
          ]
        }
      ]
    },
    {
      "cell_type": "code",
      "metadata": {
        "id": "hxhbFSVHCiFD"
      },
      "source": [
        "korpus = Corpus()"
      ],
      "execution_count": 7,
      "outputs": []
    },
    {
      "cell_type": "code",
      "metadata": {
        "id": "FcluLRrAJpk1"
      },
      "source": [
        "korpus.fit(sent, window=5, ignore_missing=True)"
      ],
      "execution_count": 8,
      "outputs": []
    },
    {
      "cell_type": "code",
      "metadata": {
        "id": "JRGz-90jGtey"
      },
      "source": [
        "glove = Glove(no_components=100, learning_rate=0.1, alpha=0.025, max_loss=100.0)"
      ],
      "execution_count": 9,
      "outputs": []
    },
    {
      "cell_type": "code",
      "metadata": {
        "id": "Y07HQT8kJtiT"
      },
      "source": [
        "glove.fit(korpus.matrix)"
      ],
      "execution_count": 10,
      "outputs": []
    },
    {
      "cell_type": "code",
      "metadata": {
        "id": "dGpucIPqGqBQ"
      },
      "source": [
        "glove.add_dictionary(korpus.dictionary)"
      ],
      "execution_count": 11,
      "outputs": []
    },
    {
      "cell_type": "markdown",
      "metadata": {
        "id": "loWFunFSUN98"
      },
      "source": [
        "cek model"
      ]
    },
    {
      "cell_type": "code",
      "metadata": {
        "id": "CycUf02hYEKd",
        "colab": {
          "base_uri": "https://localhost:8080/"
        },
        "outputId": "69cac95b-8754-4824-b350-94f74ce2d148"
      },
      "source": [
        "glove.word_vectors.shape"
      ],
      "execution_count": 12,
      "outputs": [
        {
          "output_type": "execute_result",
          "data": {
            "text/plain": [
              "(7961, 100)"
            ]
          },
          "metadata": {},
          "execution_count": 12
        }
      ]
    },
    {
      "cell_type": "code",
      "metadata": {
        "id": "TQdlfFt-UTie",
        "colab": {
          "base_uri": "https://localhost:8080/"
        },
        "outputId": "d4af9486-e02b-42ec-9377-375eeb137a0f"
      },
      "source": [
        "glove.word_vectors[glove.dictionary['moment']]"
      ],
      "execution_count": 13,
      "outputs": [
        {
          "output_type": "execute_result",
          "data": {
            "text/plain": [
              "array([ 0.03300003, -0.03268942,  0.00078789, -0.1270248 ,  0.20638894,\n",
              "       -0.09360027, -0.03795155,  0.27063295,  0.30610095,  0.16577484,\n",
              "       -0.12583889, -0.05828966, -0.08190632,  0.13321269, -0.12967209,\n",
              "        0.08794695, -0.09213233, -0.11601914,  0.10276081, -0.11367132,\n",
              "       -0.13865508, -0.14469456, -0.03620268,  0.10870501,  0.2253456 ,\n",
              "        0.160575  ,  0.10625439,  0.00708181, -0.12505858, -0.04548745,\n",
              "       -0.2438756 , -0.08747667,  0.05648526, -0.04318145,  0.12585706,\n",
              "       -0.1488509 , -0.11513039,  0.0690297 , -0.07823296,  0.05514256,\n",
              "       -0.05103894, -0.11720341, -0.00446052,  0.06221835, -0.27532606,\n",
              "       -0.15651667, -0.12337759,  0.14591781, -0.08492612,  0.04346343,\n",
              "        0.01190337,  0.04666758, -0.33576291, -0.06177707,  0.05330354,\n",
              "        0.05487455, -0.08348799, -0.21942955, -0.05560891, -0.16821519,\n",
              "       -0.20553949, -0.01574804,  0.07477052, -0.31383384,  0.08202857,\n",
              "        0.08022584,  0.09090862, -0.04281055, -0.31352148,  0.10475031,\n",
              "       -0.08831757,  0.01436021, -0.09240446,  0.10858789,  0.01001642,\n",
              "       -0.22233438,  0.01350805, -0.0827841 , -0.15465546,  0.02383103,\n",
              "       -0.00786892, -0.12094518,  0.12532849, -0.01324847,  0.17808046,\n",
              "       -0.16844404,  0.26800238, -0.12893307, -0.15600552, -0.03507882,\n",
              "       -0.07610391,  0.11140074, -0.07651703, -0.01658542,  0.11969188,\n",
              "        0.03457466, -0.02317543, -0.02736795,  0.09574013,  0.35153907])"
            ]
          },
          "metadata": {},
          "execution_count": 13
        }
      ]
    },
    {
      "cell_type": "markdown",
      "metadata": {
        "id": "napoX42qVEvw"
      },
      "source": [
        "save model"
      ]
    },
    {
      "cell_type": "code",
      "metadata": {
        "id": "bLp-RexboXnA"
      },
      "source": [
        "glove.save('korpuswiki600M(preputama).glove')"
      ],
      "execution_count": 14,
      "outputs": []
    },
    {
      "cell_type": "markdown",
      "metadata": {
        "id": "UpJ_esuyUdtC"
      },
      "source": [
        "sanity check"
      ]
    },
    {
      "cell_type": "code",
      "metadata": {
        "id": "4pVDrOHLo2pG",
        "colab": {
          "base_uri": "https://localhost:8080/"
        },
        "outputId": "5d0cd32b-b444-42e5-e530-e04a8eb2dc66"
      },
      "source": [
        "glove.most_similar('i', number=10)"
      ],
      "execution_count": null,
      "outputs": [
        {
          "output_type": "execute_result",
          "data": {
            "text/plain": [
              "[('paedophiliac', 0.6953963663358044),\n",
              " ('intercollegi', 0.49077877166451117),\n",
              " ('allerg', 0.48602259576953216),\n",
              " ('would', 0.4744033940622184),\n",
              " ('mood', 0.4650688388973143),\n",
              " ('saddest', 0.462084056033412),\n",
              " ('sincer', 0.422364688303049),\n",
              " ('foud', 0.4126075694568571),\n",
              " ('crazi', 0.39623214559892683)]"
            ]
          },
          "metadata": {},
          "execution_count": 9
        }
      ]
    }
  ]
}