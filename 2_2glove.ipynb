{
  "nbformat": 4,
  "nbformat_minor": 0,
  "metadata": {
    "colab": {
      "name": "2_2glove2.ipynb",
      "provenance": [],
      "mount_file_id": "https://github.com/alfinmaulani/skripsi/blob/master/2_2glove.ipynb",
      "authorship_tag": "ABX9TyObl122iDV7NzylAOGvh7VB",
      "include_colab_link": true
    },
    "kernelspec": {
      "name": "python3",
      "display_name": "Python 3"
    },
    "language_info": {
      "name": "python"
    },
    "accelerator": "GPU"
  },
  "cells": [
    {
      "cell_type": "markdown",
      "metadata": {
        "id": "view-in-github",
        "colab_type": "text"
      },
      "source": [
        "<a href=\"https://colab.research.google.com/github/alfinmaulani/skripsi/blob/master/2_2glove.ipynb\" target=\"_parent\"><img src=\"https://colab.research.google.com/assets/colab-badge.svg\" alt=\"Open In Colab\"/></a>"
      ]
    },
    {
      "cell_type": "code",
      "metadata": {
        "colab": {
          "base_uri": "https://localhost:8080/"
        },
        "id": "ci3dfx-9C_ji",
        "outputId": "4f8028df-414a-471b-82fa-2ea44ef822b3"
      },
      "source": [
        "import numpy as np\n",
        "import pandas as pd\n",
        "import io\n",
        "from nltk.tokenize import word_tokenize\n",
        "import nltk\n",
        "nltk.download('punkt')\n",
        "import ast"
      ],
      "execution_count": 1,
      "outputs": [
        {
          "output_type": "stream",
          "name": "stdout",
          "text": [
            "[nltk_data] Downloading package punkt to /root/nltk_data...\n",
            "[nltk_data]   Package punkt is already up-to-date!\n"
          ]
        }
      ]
    },
    {
      "cell_type": "code",
      "metadata": {
        "id": "PLiJJ1DvTPWw"
      },
      "source": [
        "from google.colab import drive\n",
        "drive.mount('/content/drive')"
      ],
      "execution_count": null,
      "outputs": []
    },
    {
      "cell_type": "markdown",
      "metadata": {
        "id": "TU-SQAf8TiXY"
      },
      "source": [
        "load korpus"
      ]
    },
    {
      "cell_type": "code",
      "metadata": {
        "id": "q3KgHqEMTTts"
      },
      "source": [
        "url1 = '/content/drive/MyDrive/dataisear(preputama).csv'\n",
        "url2 = '/content/drive/MyDrive/dataisear(preptambah).csv'\n",
        "df = pd.read_csv(url1)"
      ],
      "execution_count": 2,
      "outputs": []
    },
    {
      "cell_type": "code",
      "metadata": {
        "id": "dO64rASsqtnx",
        "outputId": "26294b6d-d3ed-4380-ff03-bfd1cf2d78de",
        "colab": {
          "base_uri": "https://localhost:8080/"
        }
      },
      "source": [
        "dfg = pd.read_csv('/content/drive/MyDrive/korpuswiki600M(preputama).csv')\n",
        "dfg.columns"
      ],
      "execution_count": 3,
      "outputs": [
        {
          "output_type": "execute_result",
          "data": {
            "text/plain": [
              "Index(['dok'], dtype='object')"
            ]
          },
          "metadata": {},
          "execution_count": 3
        }
      ]
    },
    {
      "cell_type": "markdown",
      "metadata": {
        "id": "JejS3HztTpFx"
      },
      "source": [
        "gabung korpus"
      ]
    },
    {
      "cell_type": "code",
      "metadata": {
        "id": "E8CcQlcgTvOx"
      },
      "source": [
        "sent=df.dokumen"
      ],
      "execution_count": null,
      "outputs": []
    },
    {
      "cell_type": "code",
      "metadata": {
        "id": "IVHPYkCETxJG"
      },
      "source": [
        "sent=dfg.dok.append(df.dokumen,ignore_index=True)"
      ],
      "execution_count": 4,
      "outputs": []
    },
    {
      "cell_type": "code",
      "metadata": {
        "id": "DyBNIHkmTgGo"
      },
      "source": [
        "def convert_to_list(tem):\n",
        "  temp=[]\n",
        "  for senten in tem:\n",
        "    temp.append(ast.literal_eval(senten))\n",
        "  return temp"
      ],
      "execution_count": 5,
      "outputs": []
    },
    {
      "cell_type": "code",
      "metadata": {
        "id": "_beXBVHuwcd-"
      },
      "source": [
        "sent=convert_to_list(sent)"
      ],
      "execution_count": 6,
      "outputs": []
    },
    {
      "cell_type": "markdown",
      "metadata": {
        "id": "vTOWi8ItTy_q"
      },
      "source": [
        "glove"
      ]
    },
    {
      "cell_type": "code",
      "metadata": {
        "colab": {
          "base_uri": "https://localhost:8080/"
        },
        "id": "2VBTiPKHDIIp",
        "outputId": "514ba030-6e93-4993-e942-2cc7e1873b48"
      },
      "source": [
        "!pip install glove-python-binary\n",
        "from glove import Glove\n",
        "from glove import Corpus"
      ],
      "execution_count": 7,
      "outputs": [
        {
          "output_type": "stream",
          "name": "stdout",
          "text": [
            "Collecting glove-python-binary\n",
            "  Downloading glove_python_binary-0.2.0-cp37-cp37m-manylinux1_x86_64.whl (948 kB)\n",
            "\u001b[?25l\r\u001b[K     |▍                               | 10 kB 25.6 MB/s eta 0:00:01\r\u001b[K     |▊                               | 20 kB 9.0 MB/s eta 0:00:01\r\u001b[K     |█                               | 30 kB 8.0 MB/s eta 0:00:01\r\u001b[K     |█▍                              | 40 kB 7.6 MB/s eta 0:00:01\r\u001b[K     |█▊                              | 51 kB 4.2 MB/s eta 0:00:01\r\u001b[K     |██                              | 61 kB 4.4 MB/s eta 0:00:01\r\u001b[K     |██▍                             | 71 kB 4.5 MB/s eta 0:00:01\r\u001b[K     |██▊                             | 81 kB 5.0 MB/s eta 0:00:01\r\u001b[K     |███                             | 92 kB 5.2 MB/s eta 0:00:01\r\u001b[K     |███▌                            | 102 kB 4.2 MB/s eta 0:00:01\r\u001b[K     |███▉                            | 112 kB 4.2 MB/s eta 0:00:01\r\u001b[K     |████▏                           | 122 kB 4.2 MB/s eta 0:00:01\r\u001b[K     |████▌                           | 133 kB 4.2 MB/s eta 0:00:01\r\u001b[K     |████▉                           | 143 kB 4.2 MB/s eta 0:00:01\r\u001b[K     |█████▏                          | 153 kB 4.2 MB/s eta 0:00:01\r\u001b[K     |█████▌                          | 163 kB 4.2 MB/s eta 0:00:01\r\u001b[K     |█████▉                          | 174 kB 4.2 MB/s eta 0:00:01\r\u001b[K     |██████▏                         | 184 kB 4.2 MB/s eta 0:00:01\r\u001b[K     |██████▋                         | 194 kB 4.2 MB/s eta 0:00:01\r\u001b[K     |███████                         | 204 kB 4.2 MB/s eta 0:00:01\r\u001b[K     |███████▎                        | 215 kB 4.2 MB/s eta 0:00:01\r\u001b[K     |███████▋                        | 225 kB 4.2 MB/s eta 0:00:01\r\u001b[K     |████████                        | 235 kB 4.2 MB/s eta 0:00:01\r\u001b[K     |████████▎                       | 245 kB 4.2 MB/s eta 0:00:01\r\u001b[K     |████████▋                       | 256 kB 4.2 MB/s eta 0:00:01\r\u001b[K     |█████████                       | 266 kB 4.2 MB/s eta 0:00:01\r\u001b[K     |█████████▎                      | 276 kB 4.2 MB/s eta 0:00:01\r\u001b[K     |█████████▊                      | 286 kB 4.2 MB/s eta 0:00:01\r\u001b[K     |██████████                      | 296 kB 4.2 MB/s eta 0:00:01\r\u001b[K     |██████████▍                     | 307 kB 4.2 MB/s eta 0:00:01\r\u001b[K     |██████████▊                     | 317 kB 4.2 MB/s eta 0:00:01\r\u001b[K     |███████████                     | 327 kB 4.2 MB/s eta 0:00:01\r\u001b[K     |███████████▍                    | 337 kB 4.2 MB/s eta 0:00:01\r\u001b[K     |███████████▊                    | 348 kB 4.2 MB/s eta 0:00:01\r\u001b[K     |████████████                    | 358 kB 4.2 MB/s eta 0:00:01\r\u001b[K     |████████████▍                   | 368 kB 4.2 MB/s eta 0:00:01\r\u001b[K     |████████████▊                   | 378 kB 4.2 MB/s eta 0:00:01\r\u001b[K     |█████████████▏                  | 389 kB 4.2 MB/s eta 0:00:01\r\u001b[K     |█████████████▌                  | 399 kB 4.2 MB/s eta 0:00:01\r\u001b[K     |█████████████▉                  | 409 kB 4.2 MB/s eta 0:00:01\r\u001b[K     |██████████████▏                 | 419 kB 4.2 MB/s eta 0:00:01\r\u001b[K     |██████████████▌                 | 430 kB 4.2 MB/s eta 0:00:01\r\u001b[K     |██████████████▉                 | 440 kB 4.2 MB/s eta 0:00:01\r\u001b[K     |███████████████▏                | 450 kB 4.2 MB/s eta 0:00:01\r\u001b[K     |███████████████▌                | 460 kB 4.2 MB/s eta 0:00:01\r\u001b[K     |███████████████▉                | 471 kB 4.2 MB/s eta 0:00:01\r\u001b[K     |████████████████▎               | 481 kB 4.2 MB/s eta 0:00:01\r\u001b[K     |████████████████▋               | 491 kB 4.2 MB/s eta 0:00:01\r\u001b[K     |█████████████████               | 501 kB 4.2 MB/s eta 0:00:01\r\u001b[K     |█████████████████▎              | 512 kB 4.2 MB/s eta 0:00:01\r\u001b[K     |█████████████████▋              | 522 kB 4.2 MB/s eta 0:00:01\r\u001b[K     |██████████████████              | 532 kB 4.2 MB/s eta 0:00:01\r\u001b[K     |██████████████████▎             | 542 kB 4.2 MB/s eta 0:00:01\r\u001b[K     |██████████████████▋             | 552 kB 4.2 MB/s eta 0:00:01\r\u001b[K     |███████████████████             | 563 kB 4.2 MB/s eta 0:00:01\r\u001b[K     |███████████████████▍            | 573 kB 4.2 MB/s eta 0:00:01\r\u001b[K     |███████████████████▊            | 583 kB 4.2 MB/s eta 0:00:01\r\u001b[K     |████████████████████            | 593 kB 4.2 MB/s eta 0:00:01\r\u001b[K     |████████████████████▍           | 604 kB 4.2 MB/s eta 0:00:01\r\u001b[K     |████████████████████▊           | 614 kB 4.2 MB/s eta 0:00:01\r\u001b[K     |█████████████████████           | 624 kB 4.2 MB/s eta 0:00:01\r\u001b[K     |█████████████████████▍          | 634 kB 4.2 MB/s eta 0:00:01\r\u001b[K     |█████████████████████▊          | 645 kB 4.2 MB/s eta 0:00:01\r\u001b[K     |██████████████████████          | 655 kB 4.2 MB/s eta 0:00:01\r\u001b[K     |██████████████████████▌         | 665 kB 4.2 MB/s eta 0:00:01\r\u001b[K     |██████████████████████▉         | 675 kB 4.2 MB/s eta 0:00:01\r\u001b[K     |███████████████████████▏        | 686 kB 4.2 MB/s eta 0:00:01\r\u001b[K     |███████████████████████▌        | 696 kB 4.2 MB/s eta 0:00:01\r\u001b[K     |███████████████████████▉        | 706 kB 4.2 MB/s eta 0:00:01\r\u001b[K     |████████████████████████▏       | 716 kB 4.2 MB/s eta 0:00:01\r\u001b[K     |████████████████████████▌       | 727 kB 4.2 MB/s eta 0:00:01\r\u001b[K     |████████████████████████▉       | 737 kB 4.2 MB/s eta 0:00:01\r\u001b[K     |█████████████████████████▏      | 747 kB 4.2 MB/s eta 0:00:01\r\u001b[K     |█████████████████████████▌      | 757 kB 4.2 MB/s eta 0:00:01\r\u001b[K     |██████████████████████████      | 768 kB 4.2 MB/s eta 0:00:01\r\u001b[K     |██████████████████████████▎     | 778 kB 4.2 MB/s eta 0:00:01\r\u001b[K     |██████████████████████████▋     | 788 kB 4.2 MB/s eta 0:00:01\r\u001b[K     |███████████████████████████     | 798 kB 4.2 MB/s eta 0:00:01\r\u001b[K     |███████████████████████████▎    | 808 kB 4.2 MB/s eta 0:00:01\r\u001b[K     |███████████████████████████▋    | 819 kB 4.2 MB/s eta 0:00:01\r\u001b[K     |████████████████████████████    | 829 kB 4.2 MB/s eta 0:00:01\r\u001b[K     |████████████████████████████▎   | 839 kB 4.2 MB/s eta 0:00:01\r\u001b[K     |████████████████████████████▋   | 849 kB 4.2 MB/s eta 0:00:01\r\u001b[K     |█████████████████████████████   | 860 kB 4.2 MB/s eta 0:00:01\r\u001b[K     |█████████████████████████████▍  | 870 kB 4.2 MB/s eta 0:00:01\r\u001b[K     |█████████████████████████████▊  | 880 kB 4.2 MB/s eta 0:00:01\r\u001b[K     |██████████████████████████████  | 890 kB 4.2 MB/s eta 0:00:01\r\u001b[K     |██████████████████████████████▍ | 901 kB 4.2 MB/s eta 0:00:01\r\u001b[K     |██████████████████████████████▊ | 911 kB 4.2 MB/s eta 0:00:01\r\u001b[K     |███████████████████████████████ | 921 kB 4.2 MB/s eta 0:00:01\r\u001b[K     |███████████████████████████████▍| 931 kB 4.2 MB/s eta 0:00:01\r\u001b[K     |███████████████████████████████▊| 942 kB 4.2 MB/s eta 0:00:01\r\u001b[K     |████████████████████████████████| 948 kB 4.2 MB/s \n",
            "\u001b[?25hRequirement already satisfied: scipy in /usr/local/lib/python3.7/dist-packages (from glove-python-binary) (1.4.1)\n",
            "Requirement already satisfied: numpy in /usr/local/lib/python3.7/dist-packages (from glove-python-binary) (1.19.5)\n",
            "Installing collected packages: glove-python-binary\n",
            "Successfully installed glove-python-binary-0.2.0\n"
          ]
        }
      ]
    },
    {
      "cell_type": "code",
      "metadata": {
        "id": "dGpucIPqGqBQ"
      },
      "source": [
        "korpus = Corpus()\n",
        "korpus.fit(sent, window=5, ignore_missing=True)\n",
        "glove = Glove(no_components=100, learning_rate=0.1, alpha=0.025, max_loss=100.0)\n",
        "glove.fit(korpus.matrix)\n",
        "glove.add_dictionary(korpus.dictionary)"
      ],
      "execution_count": null,
      "outputs": []
    },
    {
      "cell_type": "markdown",
      "metadata": {
        "id": "loWFunFSUN98"
      },
      "source": [
        "cek model"
      ]
    },
    {
      "cell_type": "code",
      "metadata": {
        "id": "CycUf02hYEKd"
      },
      "source": [
        "glove.word_vectors.shape"
      ],
      "execution_count": null,
      "outputs": []
    },
    {
      "cell_type": "code",
      "metadata": {
        "id": "TQdlfFt-UTie"
      },
      "source": [
        "glove.word_vectors[glove.dictionary['moment']]"
      ],
      "execution_count": null,
      "outputs": []
    },
    {
      "cell_type": "markdown",
      "metadata": {
        "id": "napoX42qVEvw"
      },
      "source": [
        "save model"
      ]
    },
    {
      "cell_type": "code",
      "metadata": {
        "id": "bLp-RexboXnA"
      },
      "source": [
        "glove.save('korpuswiki600M(preputama).glove')"
      ],
      "execution_count": null,
      "outputs": []
    },
    {
      "cell_type": "markdown",
      "metadata": {
        "id": "UpJ_esuyUdtC"
      },
      "source": [
        "sanity check"
      ]
    },
    {
      "cell_type": "code",
      "metadata": {
        "id": "4pVDrOHLo2pG",
        "colab": {
          "base_uri": "https://localhost:8080/"
        },
        "outputId": "5d0cd32b-b444-42e5-e530-e04a8eb2dc66"
      },
      "source": [
        "glove.most_similar('i', number=10)"
      ],
      "execution_count": null,
      "outputs": [
        {
          "output_type": "execute_result",
          "data": {
            "text/plain": [
              "[('paedophiliac', 0.6953963663358044),\n",
              " ('intercollegi', 0.49077877166451117),\n",
              " ('allerg', 0.48602259576953216),\n",
              " ('would', 0.4744033940622184),\n",
              " ('mood', 0.4650688388973143),\n",
              " ('saddest', 0.462084056033412),\n",
              " ('sincer', 0.422364688303049),\n",
              " ('foud', 0.4126075694568571),\n",
              " ('crazi', 0.39623214559892683)]"
            ]
          },
          "metadata": {},
          "execution_count": 9
        }
      ]
    }
  ]
}