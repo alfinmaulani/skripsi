{
  "nbformat": 4,
  "nbformat_minor": 0,
  "metadata": {
    "colab": {
      "name": "2_2glove2.ipynb",
      "provenance": [],
      "mount_file_id": "https://github.com/alfinmaulani/skripsi/blob/master/2_2glove.ipynb",
      "authorship_tag": "ABX9TyPXg0gkV2KKTSPEekr9naKS",
      "include_colab_link": true
    },
    "kernelspec": {
      "name": "python3",
      "display_name": "Python 3"
    },
    "language_info": {
      "name": "python"
    },
    "accelerator": "GPU"
  },
  "cells": [
    {
      "cell_type": "markdown",
      "metadata": {
        "id": "view-in-github",
        "colab_type": "text"
      },
      "source": [
        "<a href=\"https://colab.research.google.com/github/alfinmaulani/skripsi/blob/master/2_2glove.ipynb\" target=\"_parent\"><img src=\"https://colab.research.google.com/assets/colab-badge.svg\" alt=\"Open In Colab\"/></a>"
      ]
    },
    {
      "cell_type": "code",
      "metadata": {
        "colab": {
          "base_uri": "https://localhost:8080/"
        },
        "id": "ci3dfx-9C_ji",
        "outputId": "a622accf-a85b-433d-8a58-39850b86501b"
      },
      "source": [
        "import numpy as np\n",
        "import pandas as pd\n",
        "import io\n",
        "from nltk.tokenize import word_tokenize\n",
        "import nltk\n",
        "nltk.download('punkt')\n",
        "import ast"
      ],
      "execution_count": 1,
      "outputs": [
        {
          "output_type": "stream",
          "name": "stdout",
          "text": [
            "[nltk_data] Downloading package punkt to /root/nltk_data...\n",
            "[nltk_data]   Unzipping tokenizers/punkt.zip.\n"
          ]
        }
      ]
    },
    {
      "cell_type": "code",
      "metadata": {
        "id": "PLiJJ1DvTPWw",
        "colab": {
          "base_uri": "https://localhost:8080/"
        },
        "outputId": "55b4cf71-8554-4c4c-a99b-b332b84d5719"
      },
      "source": [
        "from google.colab import drive\n",
        "drive.mount('/content/drive')"
      ],
      "execution_count": null,
      "outputs": [
        {
          "output_type": "stream",
          "name": "stdout",
          "text": [
            "Drive already mounted at /content/drive; to attempt to forcibly remount, call drive.mount(\"/content/drive\", force_remount=True).\n"
          ]
        }
      ]
    },
    {
      "cell_type": "markdown",
      "metadata": {
        "id": "TU-SQAf8TiXY"
      },
      "source": [
        "load korpus"
      ]
    },
    {
      "cell_type": "code",
      "metadata": {
        "id": "q3KgHqEMTTts"
      },
      "source": [
        "url1 = '/content/drive/MyDrive/dataisear(preputama).csv'\n",
        "url2 = '/content/drive/MyDrive/dataisear(preptambah).csv'\n",
        "df = pd.read_csv(url1)"
      ],
      "execution_count": 2,
      "outputs": []
    },
    {
      "cell_type": "code",
      "metadata": {
        "colab": {
          "base_uri": "https://localhost:8080/"
        },
        "id": "dO64rASsqtnx",
        "outputId": "b4dc433e-81ed-44c8-af70-fbcea4aa9f51"
      },
      "source": [
        "dfg = pd.read_csv('/content/drive/MyDrive/korpusblogsprempat(preputama).csv')\n",
        "dfg.columns"
      ],
      "execution_count": 3,
      "outputs": [
        {
          "output_type": "execute_result",
          "data": {
            "text/plain": [
              "Index(['dok'], dtype='object')"
            ]
          },
          "metadata": {},
          "execution_count": 3
        }
      ]
    },
    {
      "cell_type": "markdown",
      "metadata": {
        "id": "JejS3HztTpFx"
      },
      "source": [
        "gabung korpus"
      ]
    },
    {
      "cell_type": "code",
      "metadata": {
        "id": "E8CcQlcgTvOx"
      },
      "source": [
        "sent=df.dokumen"
      ],
      "execution_count": null,
      "outputs": []
    },
    {
      "cell_type": "code",
      "metadata": {
        "id": "IVHPYkCETxJG"
      },
      "source": [
        "sent=dfg.dok.append(df.dokumen,ignore_index=True)"
      ],
      "execution_count": 4,
      "outputs": []
    },
    {
      "cell_type": "markdown",
      "metadata": {
        "id": "IEiE7_qK3esO"
      },
      "source": [
        "convert string to list"
      ]
    },
    {
      "cell_type": "code",
      "metadata": {
        "id": "DyBNIHkmTgGo"
      },
      "source": [
        "def convert_to_list(tem):\n",
        "  temp=[]\n",
        "  for senten in tem:\n",
        "    temp.append(ast.literal_eval(senten))\n",
        "  return temp"
      ],
      "execution_count": 5,
      "outputs": []
    },
    {
      "cell_type": "code",
      "metadata": {
        "id": "_beXBVHuwcd-"
      },
      "source": [
        "sent=convert_to_list(sent)"
      ],
      "execution_count": 6,
      "outputs": []
    },
    {
      "cell_type": "markdown",
      "metadata": {
        "id": "vTOWi8ItTy_q"
      },
      "source": [
        "glove"
      ]
    },
    {
      "cell_type": "code",
      "metadata": {
        "colab": {
          "base_uri": "https://localhost:8080/"
        },
        "id": "2VBTiPKHDIIp",
        "outputId": "0834d6f0-10c2-43f8-cbfb-1fafc1f2714b"
      },
      "source": [
        "!pip install glove-python-binary\n",
        "from glove import Glove\n",
        "from glove import Corpus"
      ],
      "execution_count": 7,
      "outputs": [
        {
          "output_type": "stream",
          "name": "stdout",
          "text": [
            "Collecting glove-python-binary\n",
            "  Downloading glove_python_binary-0.2.0-cp37-cp37m-manylinux1_x86_64.whl (948 kB)\n",
            "\u001b[?25l\r\u001b[K     |▍                               | 10 kB 20.2 MB/s eta 0:00:01\r\u001b[K     |▊                               | 20 kB 21.8 MB/s eta 0:00:01\r\u001b[K     |█                               | 30 kB 12.5 MB/s eta 0:00:01\r\u001b[K     |█▍                              | 40 kB 10.1 MB/s eta 0:00:01\r\u001b[K     |█▊                              | 51 kB 5.6 MB/s eta 0:00:01\r\u001b[K     |██                              | 61 kB 6.1 MB/s eta 0:00:01\r\u001b[K     |██▍                             | 71 kB 5.8 MB/s eta 0:00:01\r\u001b[K     |██▊                             | 81 kB 6.5 MB/s eta 0:00:01\r\u001b[K     |███                             | 92 kB 5.6 MB/s eta 0:00:01\r\u001b[K     |███▌                            | 102 kB 5.4 MB/s eta 0:00:01\r\u001b[K     |███▉                            | 112 kB 5.4 MB/s eta 0:00:01\r\u001b[K     |████▏                           | 122 kB 5.4 MB/s eta 0:00:01\r\u001b[K     |████▌                           | 133 kB 5.4 MB/s eta 0:00:01\r\u001b[K     |████▉                           | 143 kB 5.4 MB/s eta 0:00:01\r\u001b[K     |█████▏                          | 153 kB 5.4 MB/s eta 0:00:01\r\u001b[K     |█████▌                          | 163 kB 5.4 MB/s eta 0:00:01\r\u001b[K     |█████▉                          | 174 kB 5.4 MB/s eta 0:00:01\r\u001b[K     |██████▏                         | 184 kB 5.4 MB/s eta 0:00:01\r\u001b[K     |██████▋                         | 194 kB 5.4 MB/s eta 0:00:01\r\u001b[K     |███████                         | 204 kB 5.4 MB/s eta 0:00:01\r\u001b[K     |███████▎                        | 215 kB 5.4 MB/s eta 0:00:01\r\u001b[K     |███████▋                        | 225 kB 5.4 MB/s eta 0:00:01\r\u001b[K     |████████                        | 235 kB 5.4 MB/s eta 0:00:01\r\u001b[K     |████████▎                       | 245 kB 5.4 MB/s eta 0:00:01\r\u001b[K     |████████▋                       | 256 kB 5.4 MB/s eta 0:00:01\r\u001b[K     |█████████                       | 266 kB 5.4 MB/s eta 0:00:01\r\u001b[K     |█████████▎                      | 276 kB 5.4 MB/s eta 0:00:01\r\u001b[K     |█████████▊                      | 286 kB 5.4 MB/s eta 0:00:01\r\u001b[K     |██████████                      | 296 kB 5.4 MB/s eta 0:00:01\r\u001b[K     |██████████▍                     | 307 kB 5.4 MB/s eta 0:00:01\r\u001b[K     |██████████▊                     | 317 kB 5.4 MB/s eta 0:00:01\r\u001b[K     |███████████                     | 327 kB 5.4 MB/s eta 0:00:01\r\u001b[K     |███████████▍                    | 337 kB 5.4 MB/s eta 0:00:01\r\u001b[K     |███████████▊                    | 348 kB 5.4 MB/s eta 0:00:01\r\u001b[K     |████████████                    | 358 kB 5.4 MB/s eta 0:00:01\r\u001b[K     |████████████▍                   | 368 kB 5.4 MB/s eta 0:00:01\r\u001b[K     |████████████▊                   | 378 kB 5.4 MB/s eta 0:00:01\r\u001b[K     |█████████████▏                  | 389 kB 5.4 MB/s eta 0:00:01\r\u001b[K     |█████████████▌                  | 399 kB 5.4 MB/s eta 0:00:01\r\u001b[K     |█████████████▉                  | 409 kB 5.4 MB/s eta 0:00:01\r\u001b[K     |██████████████▏                 | 419 kB 5.4 MB/s eta 0:00:01\r\u001b[K     |██████████████▌                 | 430 kB 5.4 MB/s eta 0:00:01\r\u001b[K     |██████████████▉                 | 440 kB 5.4 MB/s eta 0:00:01\r\u001b[K     |███████████████▏                | 450 kB 5.4 MB/s eta 0:00:01\r\u001b[K     |███████████████▌                | 460 kB 5.4 MB/s eta 0:00:01\r\u001b[K     |███████████████▉                | 471 kB 5.4 MB/s eta 0:00:01\r\u001b[K     |████████████████▎               | 481 kB 5.4 MB/s eta 0:00:01\r\u001b[K     |████████████████▋               | 491 kB 5.4 MB/s eta 0:00:01\r\u001b[K     |█████████████████               | 501 kB 5.4 MB/s eta 0:00:01\r\u001b[K     |█████████████████▎              | 512 kB 5.4 MB/s eta 0:00:01\r\u001b[K     |█████████████████▋              | 522 kB 5.4 MB/s eta 0:00:01\r\u001b[K     |██████████████████              | 532 kB 5.4 MB/s eta 0:00:01\r\u001b[K     |██████████████████▎             | 542 kB 5.4 MB/s eta 0:00:01\r\u001b[K     |██████████████████▋             | 552 kB 5.4 MB/s eta 0:00:01\r\u001b[K     |███████████████████             | 563 kB 5.4 MB/s eta 0:00:01\r\u001b[K     |███████████████████▍            | 573 kB 5.4 MB/s eta 0:00:01\r\u001b[K     |███████████████████▊            | 583 kB 5.4 MB/s eta 0:00:01\r\u001b[K     |████████████████████            | 593 kB 5.4 MB/s eta 0:00:01\r\u001b[K     |████████████████████▍           | 604 kB 5.4 MB/s eta 0:00:01\r\u001b[K     |████████████████████▊           | 614 kB 5.4 MB/s eta 0:00:01\r\u001b[K     |█████████████████████           | 624 kB 5.4 MB/s eta 0:00:01\r\u001b[K     |█████████████████████▍          | 634 kB 5.4 MB/s eta 0:00:01\r\u001b[K     |█████████████████████▊          | 645 kB 5.4 MB/s eta 0:00:01\r\u001b[K     |██████████████████████          | 655 kB 5.4 MB/s eta 0:00:01\r\u001b[K     |██████████████████████▌         | 665 kB 5.4 MB/s eta 0:00:01\r\u001b[K     |██████████████████████▉         | 675 kB 5.4 MB/s eta 0:00:01\r\u001b[K     |███████████████████████▏        | 686 kB 5.4 MB/s eta 0:00:01\r\u001b[K     |███████████████████████▌        | 696 kB 5.4 MB/s eta 0:00:01\r\u001b[K     |███████████████████████▉        | 706 kB 5.4 MB/s eta 0:00:01\r\u001b[K     |████████████████████████▏       | 716 kB 5.4 MB/s eta 0:00:01\r\u001b[K     |████████████████████████▌       | 727 kB 5.4 MB/s eta 0:00:01\r\u001b[K     |████████████████████████▉       | 737 kB 5.4 MB/s eta 0:00:01\r\u001b[K     |█████████████████████████▏      | 747 kB 5.4 MB/s eta 0:00:01\r\u001b[K     |█████████████████████████▌      | 757 kB 5.4 MB/s eta 0:00:01\r\u001b[K     |██████████████████████████      | 768 kB 5.4 MB/s eta 0:00:01\r\u001b[K     |██████████████████████████▎     | 778 kB 5.4 MB/s eta 0:00:01\r\u001b[K     |██████████████████████████▋     | 788 kB 5.4 MB/s eta 0:00:01\r\u001b[K     |███████████████████████████     | 798 kB 5.4 MB/s eta 0:00:01\r\u001b[K     |███████████████████████████▎    | 808 kB 5.4 MB/s eta 0:00:01\r\u001b[K     |███████████████████████████▋    | 819 kB 5.4 MB/s eta 0:00:01\r\u001b[K     |████████████████████████████    | 829 kB 5.4 MB/s eta 0:00:01\r\u001b[K     |████████████████████████████▎   | 839 kB 5.4 MB/s eta 0:00:01\r\u001b[K     |████████████████████████████▋   | 849 kB 5.4 MB/s eta 0:00:01\r\u001b[K     |█████████████████████████████   | 860 kB 5.4 MB/s eta 0:00:01\r\u001b[K     |█████████████████████████████▍  | 870 kB 5.4 MB/s eta 0:00:01\r\u001b[K     |█████████████████████████████▊  | 880 kB 5.4 MB/s eta 0:00:01\r\u001b[K     |██████████████████████████████  | 890 kB 5.4 MB/s eta 0:00:01\r\u001b[K     |██████████████████████████████▍ | 901 kB 5.4 MB/s eta 0:00:01\r\u001b[K     |██████████████████████████████▊ | 911 kB 5.4 MB/s eta 0:00:01\r\u001b[K     |███████████████████████████████ | 921 kB 5.4 MB/s eta 0:00:01\r\u001b[K     |███████████████████████████████▍| 931 kB 5.4 MB/s eta 0:00:01\r\u001b[K     |███████████████████████████████▊| 942 kB 5.4 MB/s eta 0:00:01\r\u001b[K     |████████████████████████████████| 948 kB 5.4 MB/s \n",
            "\u001b[?25hRequirement already satisfied: scipy in /usr/local/lib/python3.7/dist-packages (from glove-python-binary) (1.4.1)\n",
            "Requirement already satisfied: numpy in /usr/local/lib/python3.7/dist-packages (from glove-python-binary) (1.19.5)\n",
            "Installing collected packages: glove-python-binary\n",
            "Successfully installed glove-python-binary-0.2.0\n"
          ]
        }
      ]
    },
    {
      "cell_type": "code",
      "metadata": {
        "id": "0FFA9MDmnMU1"
      },
      "source": [
        "korpus = Corpus()\n",
        "korpus.fit(sent, window=5, ignore_missing=True)\n",
        "glove = Glove(no_components=100, learning_rate=0.1, alpha=0.025, max_loss=100.0)\n",
        "glove.fit(korpus.matrix)\n",
        "glove.add_dictionary(korpus.dictionary)"
      ],
      "execution_count": 8,
      "outputs": []
    },
    {
      "cell_type": "markdown",
      "metadata": {
        "id": "loWFunFSUN98"
      },
      "source": [
        "cek model"
      ]
    },
    {
      "cell_type": "code",
      "metadata": {
        "id": "CycUf02hYEKd",
        "colab": {
          "base_uri": "https://localhost:8080/"
        },
        "outputId": "5ae32618-2a0a-420b-bc6d-0ab8c0a77075"
      },
      "source": [
        "glove.word_vectors.shape"
      ],
      "execution_count": 9,
      "outputs": [
        {
          "output_type": "execute_result",
          "data": {
            "text/plain": [
              "(1142621, 100)"
            ]
          },
          "metadata": {},
          "execution_count": 9
        }
      ]
    },
    {
      "cell_type": "code",
      "metadata": {
        "id": "TQdlfFt-UTie",
        "colab": {
          "base_uri": "https://localhost:8080/"
        },
        "outputId": "1df0a409-af61-424f-fde4-c881180e8417"
      },
      "source": [
        "glove.word_vectors[glove.dictionary['moment']]"
      ],
      "execution_count": null,
      "outputs": [
        {
          "output_type": "execute_result",
          "data": {
            "text/plain": [
              "array([-2.22150974e+02, -7.31743298e+01,  2.81931473e+00, -7.85656168e+01,\n",
              "        2.36084630e+00, -6.99257993e+00,  7.50732879e+00,  7.79844844e-01,\n",
              "       -2.35127480e+01,  1.93173033e+03,  5.31160845e+01, -1.90863271e-01,\n",
              "       -6.00698434e+00,  1.30120498e+03, -4.37710848e+02,  2.06434972e+01,\n",
              "       -7.39024227e+00,  2.04835492e+03,  4.95005275e+02,  1.54010337e+00,\n",
              "        8.26516389e+01,  2.04528538e+03,  1.05199559e+03, -8.62555784e+00,\n",
              "        2.09928734e+00, -2.21429807e+03, -1.81696559e+02, -3.01302281e+01,\n",
              "        1.11041276e+02,  2.73261063e+01, -3.14070429e+03, -5.03011012e+01,\n",
              "        7.39944645e+02, -2.32888637e+03,  5.31800992e+00, -8.38331410e+02,\n",
              "       -1.31703479e-01, -1.26705697e+01, -2.31216263e+00,  1.87772539e+03,\n",
              "        1.44684310e-01,  2.20034130e+02, -1.73458621e+02, -9.60482494e-01,\n",
              "        1.71496456e+01, -4.13313706e+02,  1.58707324e+03,  1.02948365e+02,\n",
              "       -2.87069462e+01,  5.37536292e+03,  2.76251242e+00,  4.70786990e+00,\n",
              "       -1.65388942e+03, -1.47949222e-01,  1.50563679e+01,  5.69789645e+02,\n",
              "       -2.75190889e+02, -6.97546203e+02, -6.80694920e+01,  2.29598237e+01,\n",
              "        1.39790949e+00,  2.44884047e+00, -5.79743484e+00,  6.12054034e+01,\n",
              "       -5.73163175e+02, -3.63185174e+03,  5.46537023e+03, -3.29804328e+01,\n",
              "        1.23485294e+01,  1.78210607e+00,  5.43837594e+01,  5.65964451e+00,\n",
              "        1.25193798e+04,  2.43776432e+02,  5.36984465e+02, -3.41858440e+01,\n",
              "       -1.12864544e+02, -5.28884667e+00, -3.64901909e+03, -1.99776140e+02,\n",
              "        2.54008700e+01,  1.33296289e+01,  4.06209501e+01,  2.84153519e+02,\n",
              "       -5.99422666e+00, -3.17485845e+01,  2.69640582e-01,  2.07547249e+01,\n",
              "       -1.96161798e+00, -3.77751724e+03, -6.51381492e-01,  7.13205379e+03,\n",
              "       -5.62893879e+00,  2.91168945e+03,  1.24069240e+03,  9.09827750e+01,\n",
              "        4.35767118e+03, -1.85950479e+02,  5.64271644e+00, -1.62097010e+03])"
            ]
          },
          "metadata": {},
          "execution_count": 11
        }
      ]
    },
    {
      "cell_type": "markdown",
      "metadata": {
        "id": "napoX42qVEvw"
      },
      "source": [
        "save model"
      ]
    },
    {
      "cell_type": "code",
      "metadata": {
        "id": "bLp-RexboXnA"
      },
      "source": [
        "glove.save('korpusblogsprempat(preputama).glove')"
      ],
      "execution_count": null,
      "outputs": []
    },
    {
      "cell_type": "markdown",
      "metadata": {
        "id": "UpJ_esuyUdtC"
      },
      "source": [
        "sanity check"
      ]
    },
    {
      "cell_type": "code",
      "metadata": {
        "id": "4pVDrOHLo2pG"
      },
      "source": [
        "glove.most_similar('moment', number=10)"
      ],
      "execution_count": null,
      "outputs": []
    }
  ]
}