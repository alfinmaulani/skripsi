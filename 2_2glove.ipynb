{
  "nbformat": 4,
  "nbformat_minor": 0,
  "metadata": {
    "colab": {
      "name": "2_2glove2.ipynb",
      "provenance": [],
      "mount_file_id": "https://github.com/alfinmaulani/skripsi/blob/master/2_2glove.ipynb",
      "authorship_tag": "ABX9TyPWYNiX+FUzPAeM3aIftHLb",
      "include_colab_link": true
    },
    "kernelspec": {
      "name": "python3",
      "display_name": "Python 3"
    },
    "language_info": {
      "name": "python"
    },
    "accelerator": "GPU"
  },
  "cells": [
    {
      "cell_type": "markdown",
      "metadata": {
        "id": "view-in-github",
        "colab_type": "text"
      },
      "source": [
        "<a href=\"https://colab.research.google.com/github/alfinmaulani/skripsi/blob/master/2_2glove.ipynb\" target=\"_parent\"><img src=\"https://colab.research.google.com/assets/colab-badge.svg\" alt=\"Open In Colab\"/></a>"
      ]
    },
    {
      "cell_type": "code",
      "metadata": {
        "colab": {
          "base_uri": "https://localhost:8080/"
        },
        "id": "ci3dfx-9C_ji",
        "outputId": "3234131c-5ddc-4b10-e19f-26c48dc0eeb0"
      },
      "source": [
        "import numpy as np\n",
        "import pandas as pd\n",
        "import io\n",
        "from nltk.tokenize import word_tokenize\n",
        "import nltk\n",
        "nltk.download('punkt')\n",
        "import ast"
      ],
      "execution_count": 1,
      "outputs": [
        {
          "output_type": "stream",
          "name": "stdout",
          "text": [
            "[nltk_data] Downloading package punkt to /root/nltk_data...\n",
            "[nltk_data]   Unzipping tokenizers/punkt.zip.\n"
          ]
        }
      ]
    },
    {
      "cell_type": "code",
      "metadata": {
        "id": "PLiJJ1DvTPWw",
        "colab": {
          "base_uri": "https://localhost:8080/"
        },
        "outputId": "55b4cf71-8554-4c4c-a99b-b332b84d5719"
      },
      "source": [
        "from google.colab import drive\n",
        "drive.mount('/content/drive')"
      ],
      "execution_count": null,
      "outputs": [
        {
          "output_type": "stream",
          "name": "stdout",
          "text": [
            "Drive already mounted at /content/drive; to attempt to forcibly remount, call drive.mount(\"/content/drive\", force_remount=True).\n"
          ]
        }
      ]
    },
    {
      "cell_type": "markdown",
      "metadata": {
        "id": "TU-SQAf8TiXY"
      },
      "source": [
        "load korpus"
      ]
    },
    {
      "cell_type": "code",
      "metadata": {
        "id": "q3KgHqEMTTts"
      },
      "source": [
        "url1 = '/content/drive/MyDrive/dataisear(preputama).csv'\n",
        "url2 = '/content/drive/MyDrive/dataisear(preptambah).csv'\n",
        "df = pd.read_csv(url2)"
      ],
      "execution_count": 2,
      "outputs": []
    },
    {
      "cell_type": "code",
      "metadata": {
        "colab": {
          "base_uri": "https://localhost:8080/"
        },
        "id": "dO64rASsqtnx",
        "outputId": "b3bff55c-3085-448d-fadf-1c5a77994507"
      },
      "source": [
        "dfg = pd.read_csv('/content/drive/MyDrive/korpusblogspertiga(preptambah).csv')\n",
        "dfg.columns"
      ],
      "execution_count": 3,
      "outputs": [
        {
          "output_type": "execute_result",
          "data": {
            "text/plain": [
              "Index(['dok'], dtype='object')"
            ]
          },
          "metadata": {},
          "execution_count": 3
        }
      ]
    },
    {
      "cell_type": "markdown",
      "metadata": {
        "id": "JejS3HztTpFx"
      },
      "source": [
        "gabung korpus"
      ]
    },
    {
      "cell_type": "code",
      "metadata": {
        "id": "E8CcQlcgTvOx"
      },
      "source": [
        "# sent=df.dokumen"
      ],
      "execution_count": null,
      "outputs": []
    },
    {
      "cell_type": "code",
      "metadata": {
        "id": "IVHPYkCETxJG"
      },
      "source": [
        "sent=dfg.dok.append(df.dokumen,ignore_index=True)"
      ],
      "execution_count": 4,
      "outputs": []
    },
    {
      "cell_type": "markdown",
      "metadata": {
        "id": "IEiE7_qK3esO"
      },
      "source": [
        "convert string to list"
      ]
    },
    {
      "cell_type": "code",
      "metadata": {
        "id": "DyBNIHkmTgGo"
      },
      "source": [
        "def convert_to_list(tem):\n",
        "  temp=[]\n",
        "  for senten in tem:\n",
        "    temp.append(ast.literal_eval(senten))\n",
        "  return temp"
      ],
      "execution_count": 5,
      "outputs": []
    },
    {
      "cell_type": "code",
      "metadata": {
        "id": "_beXBVHuwcd-"
      },
      "source": [
        "sent=convert_to_list(sent)"
      ],
      "execution_count": 6,
      "outputs": []
    },
    {
      "cell_type": "markdown",
      "metadata": {
        "id": "vTOWi8ItTy_q"
      },
      "source": [
        "glove"
      ]
    },
    {
      "cell_type": "code",
      "metadata": {
        "colab": {
          "base_uri": "https://localhost:8080/"
        },
        "id": "2VBTiPKHDIIp",
        "outputId": "55a868cc-45eb-4a67-a8f9-0d455d3e49cd"
      },
      "source": [
        "!pip install glove-python-binary\n",
        "from glove import Glove\n",
        "from glove import Corpus"
      ],
      "execution_count": 7,
      "outputs": [
        {
          "output_type": "stream",
          "name": "stdout",
          "text": [
            "Collecting glove-python-binary\n",
            "  Downloading glove_python_binary-0.2.0-cp37-cp37m-manylinux1_x86_64.whl (948 kB)\n",
            "\u001b[?25l\r\u001b[K     |▍                               | 10 kB 28.7 MB/s eta 0:00:01\r\u001b[K     |▊                               | 20 kB 29.6 MB/s eta 0:00:01\r\u001b[K     |█                               | 30 kB 11.9 MB/s eta 0:00:01\r\u001b[K     |█▍                              | 40 kB 9.6 MB/s eta 0:00:01\r\u001b[K     |█▊                              | 51 kB 5.4 MB/s eta 0:00:01\r\u001b[K     |██                              | 61 kB 5.9 MB/s eta 0:00:01\r\u001b[K     |██▍                             | 71 kB 6.3 MB/s eta 0:00:01\r\u001b[K     |██▊                             | 81 kB 6.4 MB/s eta 0:00:01\r\u001b[K     |███                             | 92 kB 4.9 MB/s eta 0:00:01\r\u001b[K     |███▌                            | 102 kB 5.4 MB/s eta 0:00:01\r\u001b[K     |███▉                            | 112 kB 5.4 MB/s eta 0:00:01\r\u001b[K     |████▏                           | 122 kB 5.4 MB/s eta 0:00:01\r\u001b[K     |████▌                           | 133 kB 5.4 MB/s eta 0:00:01\r\u001b[K     |████▉                           | 143 kB 5.4 MB/s eta 0:00:01\r\u001b[K     |█████▏                          | 153 kB 5.4 MB/s eta 0:00:01\r\u001b[K     |█████▌                          | 163 kB 5.4 MB/s eta 0:00:01\r\u001b[K     |█████▉                          | 174 kB 5.4 MB/s eta 0:00:01\r\u001b[K     |██████▏                         | 184 kB 5.4 MB/s eta 0:00:01\r\u001b[K     |██████▋                         | 194 kB 5.4 MB/s eta 0:00:01\r\u001b[K     |███████                         | 204 kB 5.4 MB/s eta 0:00:01\r\u001b[K     |███████▎                        | 215 kB 5.4 MB/s eta 0:00:01\r\u001b[K     |███████▋                        | 225 kB 5.4 MB/s eta 0:00:01\r\u001b[K     |████████                        | 235 kB 5.4 MB/s eta 0:00:01\r\u001b[K     |████████▎                       | 245 kB 5.4 MB/s eta 0:00:01\r\u001b[K     |████████▋                       | 256 kB 5.4 MB/s eta 0:00:01\r\u001b[K     |█████████                       | 266 kB 5.4 MB/s eta 0:00:01\r\u001b[K     |█████████▎                      | 276 kB 5.4 MB/s eta 0:00:01\r\u001b[K     |█████████▊                      | 286 kB 5.4 MB/s eta 0:00:01\r\u001b[K     |██████████                      | 296 kB 5.4 MB/s eta 0:00:01\r\u001b[K     |██████████▍                     | 307 kB 5.4 MB/s eta 0:00:01\r\u001b[K     |██████████▊                     | 317 kB 5.4 MB/s eta 0:00:01\r\u001b[K     |███████████                     | 327 kB 5.4 MB/s eta 0:00:01\r\u001b[K     |███████████▍                    | 337 kB 5.4 MB/s eta 0:00:01\r\u001b[K     |███████████▊                    | 348 kB 5.4 MB/s eta 0:00:01\r\u001b[K     |████████████                    | 358 kB 5.4 MB/s eta 0:00:01\r\u001b[K     |████████████▍                   | 368 kB 5.4 MB/s eta 0:00:01\r\u001b[K     |████████████▊                   | 378 kB 5.4 MB/s eta 0:00:01\r\u001b[K     |█████████████▏                  | 389 kB 5.4 MB/s eta 0:00:01\r\u001b[K     |█████████████▌                  | 399 kB 5.4 MB/s eta 0:00:01\r\u001b[K     |█████████████▉                  | 409 kB 5.4 MB/s eta 0:00:01\r\u001b[K     |██████████████▏                 | 419 kB 5.4 MB/s eta 0:00:01\r\u001b[K     |██████████████▌                 | 430 kB 5.4 MB/s eta 0:00:01\r\u001b[K     |██████████████▉                 | 440 kB 5.4 MB/s eta 0:00:01\r\u001b[K     |███████████████▏                | 450 kB 5.4 MB/s eta 0:00:01\r\u001b[K     |███████████████▌                | 460 kB 5.4 MB/s eta 0:00:01\r\u001b[K     |███████████████▉                | 471 kB 5.4 MB/s eta 0:00:01\r\u001b[K     |████████████████▎               | 481 kB 5.4 MB/s eta 0:00:01\r\u001b[K     |████████████████▋               | 491 kB 5.4 MB/s eta 0:00:01\r\u001b[K     |█████████████████               | 501 kB 5.4 MB/s eta 0:00:01\r\u001b[K     |█████████████████▎              | 512 kB 5.4 MB/s eta 0:00:01\r\u001b[K     |█████████████████▋              | 522 kB 5.4 MB/s eta 0:00:01\r\u001b[K     |██████████████████              | 532 kB 5.4 MB/s eta 0:00:01\r\u001b[K     |██████████████████▎             | 542 kB 5.4 MB/s eta 0:00:01\r\u001b[K     |██████████████████▋             | 552 kB 5.4 MB/s eta 0:00:01\r\u001b[K     |███████████████████             | 563 kB 5.4 MB/s eta 0:00:01\r\u001b[K     |███████████████████▍            | 573 kB 5.4 MB/s eta 0:00:01\r\u001b[K     |███████████████████▊            | 583 kB 5.4 MB/s eta 0:00:01\r\u001b[K     |████████████████████            | 593 kB 5.4 MB/s eta 0:00:01\r\u001b[K     |████████████████████▍           | 604 kB 5.4 MB/s eta 0:00:01\r\u001b[K     |████████████████████▊           | 614 kB 5.4 MB/s eta 0:00:01\r\u001b[K     |█████████████████████           | 624 kB 5.4 MB/s eta 0:00:01\r\u001b[K     |█████████████████████▍          | 634 kB 5.4 MB/s eta 0:00:01\r\u001b[K     |█████████████████████▊          | 645 kB 5.4 MB/s eta 0:00:01\r\u001b[K     |██████████████████████          | 655 kB 5.4 MB/s eta 0:00:01\r\u001b[K     |██████████████████████▌         | 665 kB 5.4 MB/s eta 0:00:01\r\u001b[K     |██████████████████████▉         | 675 kB 5.4 MB/s eta 0:00:01\r\u001b[K     |███████████████████████▏        | 686 kB 5.4 MB/s eta 0:00:01\r\u001b[K     |███████████████████████▌        | 696 kB 5.4 MB/s eta 0:00:01\r\u001b[K     |███████████████████████▉        | 706 kB 5.4 MB/s eta 0:00:01\r\u001b[K     |████████████████████████▏       | 716 kB 5.4 MB/s eta 0:00:01\r\u001b[K     |████████████████████████▌       | 727 kB 5.4 MB/s eta 0:00:01\r\u001b[K     |████████████████████████▉       | 737 kB 5.4 MB/s eta 0:00:01\r\u001b[K     |█████████████████████████▏      | 747 kB 5.4 MB/s eta 0:00:01\r\u001b[K     |█████████████████████████▌      | 757 kB 5.4 MB/s eta 0:00:01\r\u001b[K     |██████████████████████████      | 768 kB 5.4 MB/s eta 0:00:01\r\u001b[K     |██████████████████████████▎     | 778 kB 5.4 MB/s eta 0:00:01\r\u001b[K     |██████████████████████████▋     | 788 kB 5.4 MB/s eta 0:00:01\r\u001b[K     |███████████████████████████     | 798 kB 5.4 MB/s eta 0:00:01\r\u001b[K     |███████████████████████████▎    | 808 kB 5.4 MB/s eta 0:00:01\r\u001b[K     |███████████████████████████▋    | 819 kB 5.4 MB/s eta 0:00:01\r\u001b[K     |████████████████████████████    | 829 kB 5.4 MB/s eta 0:00:01\r\u001b[K     |████████████████████████████▎   | 839 kB 5.4 MB/s eta 0:00:01\r\u001b[K     |████████████████████████████▋   | 849 kB 5.4 MB/s eta 0:00:01\r\u001b[K     |█████████████████████████████   | 860 kB 5.4 MB/s eta 0:00:01\r\u001b[K     |█████████████████████████████▍  | 870 kB 5.4 MB/s eta 0:00:01\r\u001b[K     |█████████████████████████████▊  | 880 kB 5.4 MB/s eta 0:00:01\r\u001b[K     |██████████████████████████████  | 890 kB 5.4 MB/s eta 0:00:01\r\u001b[K     |██████████████████████████████▍ | 901 kB 5.4 MB/s eta 0:00:01\r\u001b[K     |██████████████████████████████▊ | 911 kB 5.4 MB/s eta 0:00:01\r\u001b[K     |███████████████████████████████ | 921 kB 5.4 MB/s eta 0:00:01\r\u001b[K     |███████████████████████████████▍| 931 kB 5.4 MB/s eta 0:00:01\r\u001b[K     |███████████████████████████████▊| 942 kB 5.4 MB/s eta 0:00:01\r\u001b[K     |████████████████████████████████| 948 kB 5.4 MB/s \n",
            "\u001b[?25hRequirement already satisfied: scipy in /usr/local/lib/python3.7/dist-packages (from glove-python-binary) (1.4.1)\n",
            "Requirement already satisfied: numpy in /usr/local/lib/python3.7/dist-packages (from glove-python-binary) (1.19.5)\n",
            "Installing collected packages: glove-python-binary\n",
            "Successfully installed glove-python-binary-0.2.0\n"
          ]
        }
      ]
    },
    {
      "cell_type": "code",
      "metadata": {
        "id": "0FFA9MDmnMU1"
      },
      "source": [
        "korpus = Corpus()\n",
        "korpus.fit(sent, window=5, ignore_missing=True)\n",
        "glove = Glove(no_components=100, learning_rate=0.1, alpha=0.025, max_loss=100.0)\n",
        "glove.fit(korpus.matrix)\n",
        "glove.add_dictionary(korpus.dictionary)"
      ],
      "execution_count": 8,
      "outputs": []
    },
    {
      "cell_type": "markdown",
      "metadata": {
        "id": "loWFunFSUN98"
      },
      "source": [
        "cek model"
      ]
    },
    {
      "cell_type": "code",
      "metadata": {
        "id": "CycUf02hYEKd",
        "colab": {
          "base_uri": "https://localhost:8080/"
        },
        "outputId": "d0cc7c2f-c7ec-40ab-c7fd-734141ed02ce"
      },
      "source": [
        "glove.word_vectors.shape"
      ],
      "execution_count": 9,
      "outputs": [
        {
          "output_type": "execute_result",
          "data": {
            "text/plain": [
              "(908100, 100)"
            ]
          },
          "metadata": {},
          "execution_count": 9
        }
      ]
    },
    {
      "cell_type": "code",
      "metadata": {
        "id": "TQdlfFt-UTie",
        "outputId": "dd70092f-4b1c-4211-e1ea-c9629b48f1d7",
        "colab": {
          "base_uri": "https://localhost:8080/"
        }
      },
      "source": [
        "glove.word_vectors[glove.dictionary['moment']]"
      ],
      "execution_count": 10,
      "outputs": [
        {
          "output_type": "execute_result",
          "data": {
            "text/plain": [
              "array([-0.31366325,  0.4600755 , -0.31100255,  0.35118769,  0.23022604,\n",
              "       -0.23001427, -0.04060753,  0.05587667, -0.08055376, -0.57109011,\n",
              "        0.42969914,  0.41131258, -0.06905934,  0.06424228,  0.01284573,\n",
              "       -0.10067708,  0.32594285,  0.10606029, -0.5297398 ,  0.08540528,\n",
              "        0.13958003,  0.00887995,  0.06324893, -0.39796367, -0.20674984,\n",
              "       -0.40620979, -0.61684727,  0.39958057,  0.14983186, -0.16561633,\n",
              "       -0.01612207, -0.14002555,  0.03618511,  0.14354311, -0.27625141,\n",
              "        0.20735295, -0.10550697,  0.40588257,  0.67915269, -0.08118333,\n",
              "        0.67733763,  0.31841408,  0.12979066,  0.19214733, -0.05093141,\n",
              "        0.28234675,  0.40096183, -0.15872374,  0.06100185,  0.09656027,\n",
              "        0.09991437, -0.39992192, -0.15139872,  0.13960516,  0.39790144,\n",
              "        0.35686682,  0.14006767, -0.39223138,  0.19526876, -0.26679428,\n",
              "       -0.03268331,  0.1286443 , -0.35931814, -0.34571444, -0.13980428,\n",
              "        0.04039488, -0.02731333,  0.58277623, -0.27849885, -0.86413491,\n",
              "       -0.05185168, -0.53442444, -0.32733349,  0.24493151,  0.2260213 ,\n",
              "       -0.48225804, -0.34113166,  0.07687028, -0.27663028,  0.23548405,\n",
              "       -0.09403827,  0.74747953,  0.10964997, -0.01085109, -0.03462221,\n",
              "       -0.06135972, -0.05318496,  0.01343971, -0.04729447,  0.23540827,\n",
              "       -0.34168816, -0.20848479,  0.08214132,  0.00510468, -0.03012469,\n",
              "        0.41173033,  0.17125473, -0.19303269, -0.24638874,  0.16956029])"
            ]
          },
          "metadata": {},
          "execution_count": 10
        }
      ]
    },
    {
      "cell_type": "markdown",
      "metadata": {
        "id": "napoX42qVEvw"
      },
      "source": [
        "save model"
      ]
    },
    {
      "cell_type": "code",
      "metadata": {
        "id": "bLp-RexboXnA"
      },
      "source": [
        "glove.save('korpusblogspertiga(preptambah).glove')"
      ],
      "execution_count": 11,
      "outputs": []
    },
    {
      "cell_type": "markdown",
      "metadata": {
        "id": "UpJ_esuyUdtC"
      },
      "source": [
        "sanity check"
      ]
    },
    {
      "cell_type": "code",
      "metadata": {
        "id": "4pVDrOHLo2pG",
        "outputId": "9b1b9e90-995b-42c6-a110-f07124498363",
        "colab": {
          "base_uri": "https://localhost:8080/"
        }
      },
      "source": [
        "glove.most_similar('moment', number=10)"
      ],
      "execution_count": 12,
      "outputs": [
        {
          "output_type": "execute_result",
          "data": {
            "text/plain": [
              "[('lastslif', 0.8103892462172491),\n",
              " ('抵過永遠', 0.7163623386895825),\n",
              " ('hatterreturn', 0.7136632885984693),\n",
              " ('いびつなアレ', 0.7134926118597883),\n",
              " ('給女兒的歌', 0.713303110566745),\n",
              " ('我对我说没有人', 0.7063156012971384),\n",
              " ('舐め尽くしなさい', 0.7032671191387085),\n",
              " ('之後回家放低行李後便出了唐人街食晚飯因為今晚我想食中餐今年的生日真的好開心我永遠都不會忘記這個旅程它會在我的深心處常常的浮現',\n",
              "  0.7016580071888683),\n",
              " ('wordsword', 0.6996649781205893)]"
            ]
          },
          "metadata": {},
          "execution_count": 12
        }
      ]
    }
  ]
}