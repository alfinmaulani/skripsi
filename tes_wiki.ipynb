{
  "nbformat": 4,
  "nbformat_minor": 0,
  "metadata": {
    "colab": {
      "name": "tes_wiki.ipynb",
      "provenance": [],
      "authorship_tag": "ABX9TyPhskUepM1rlFPdbzo6BoLE",
      "include_colab_link": true
    },
    "kernelspec": {
      "name": "python3",
      "display_name": "Python 3"
    },
    "language_info": {
      "name": "python"
    }
  },
  "cells": [
    {
      "cell_type": "markdown",
      "metadata": {
        "id": "view-in-github",
        "colab_type": "text"
      },
      "source": [
        "<a href=\"https://colab.research.google.com/github/alfinmaulani/skripsi/blob/master/tes_wiki.ipynb\" target=\"_parent\"><img src=\"https://colab.research.google.com/assets/colab-badge.svg\" alt=\"Open In Colab\"/></a>"
      ]
    },
    {
      "cell_type": "code",
      "metadata": {
        "id": "zDFGTBJxX5x4"
      },
      "source": [
        "import re\n",
        "import csv\n",
        "import numpy as np\n",
        "import gensim\n",
        "import pandas as pd\n",
        "import io\n",
        "import matplotlib.pyplot as plt\n",
        "from nltk.tokenize import word_tokenize\n",
        "import nltk"
      ],
      "execution_count": 1,
      "outputs": []
    },
    {
      "cell_type": "code",
      "metadata": {
        "colab": {
          "base_uri": "https://localhost:8080/"
        },
        "id": "e_bc_m81aBFd",
        "outputId": "d5074f3f-c716-4913-a339-640399061f0d"
      },
      "source": [
        "from google.colab import drive\n",
        "drive.mount('/content/drive')"
      ],
      "execution_count": 2,
      "outputs": [
        {
          "output_type": "stream",
          "name": "stdout",
          "text": [
            "Mounted at /content/drive\n"
          ]
        }
      ]
    },
    {
      "cell_type": "code",
      "metadata": {
        "id": "ZU2jZc6basNI"
      },
      "source": [
        "df.head()"
      ],
      "execution_count": null,
      "outputs": []
    },
    {
      "cell_type": "code",
      "metadata": {
        "id": "C8kJifwDaDdI"
      },
      "source": [
        "df = pd.read_csv('/content/drive/MyDrive/idwiki_new_lower.txt', delimiter = \"\\t\")"
      ],
      "execution_count": 6,
      "outputs": []
    },
    {
      "cell_type": "code",
      "metadata": {
        "colab": {
          "base_uri": "https://localhost:8080/"
        },
        "id": "6t5dDRl0bAhA",
        "outputId": "18f9c604-cb76-4eda-d16c-6bafb325a75f"
      },
      "source": [
        "df.shape"
      ],
      "execution_count": 8,
      "outputs": [
        {
          "output_type": "execute_result",
          "data": {
            "text/plain": [
              "(20709, 1)"
            ]
          },
          "metadata": {},
          "execution_count": 8
        }
      ]
    },
    {
      "cell_type": "code",
      "metadata": {
        "id": "VJ7F-LlLaUqU"
      },
      "source": [
        "df.columns = [\"arti\"]"
      ],
      "execution_count": 9,
      "outputs": []
    },
    {
      "cell_type": "code",
      "metadata": {
        "colab": {
          "base_uri": "https://localhost:8080/",
          "height": 146
        },
        "id": "-kMjQ9nDbP4Z",
        "outputId": "192c09f3-1ae2-449d-e887-7a5f299ba2c0"
      },
      "source": [
        "df.iloc[1,0]"
      ],
      "execution_count": 18,
      "outputs": [
        {
          "output_type": "execute_result",
          "data": {
            "application/vnd.google.colaboratory.intrinsic+json": {
              "type": "string"
            },
            "text/plain": [
              "'diffusely reflected sunlight relative to various surface conditions albedo is the measure of the diffuse reflection of solar radiation out of the total solar radiation and measured on scale from corresponding to black body that absorbs all incident radiation to corresponding to body that reflects all incident radiation surface albedo is defined as the ratio of radiosity to the irradiance flux per unit area received by surface the proportion reflected is not only determined by properties of the surface itself but also by the spectral and angular distribution of solar radiation reaching the earth surface these factors vary with atmospheric composition geographic location and time see position of the sun while bi hemispherical reflectance is calculated for single angle of incidence for given position of the sun albedo is the directional integration of reflectance over all solar angles in given period the temporal resolution may range from seconds as obtained from flux measurements to daily monthly or annual averages unless given for specific wavelength spectral albedo albedo refers to the entire spectrum of solar radiation due to measurement constraints it is often given for the spectrum in which most solar energy reaches the surface between and μm this spectrum includes visible light μm which explains why surfaces with low albedo appear dark trees absorb most radiation whereas surfaces with high albedo appear bright snow reflects most radiation albedo is an important concept in climatology astronomy and environmental management as part of the leadership in energy and environmental design leed program for sustainable rating of buildings the average albedo of the earth from the upper atmosphere its planetary albedo is because of cloud cover but widely varies locally across the surface because of different geological and environmental features the term albedo was introduced into optics by johann heinrich lambert in his work photometria terrestrial albedo sample albedos surface typicalalbedo fresh asphalt open ocean worn asphalt conifer forest summer to deciduous forest to bare soil green grass desert sand new concrete ocean ice to fresh snow any albedo in visible light falls within range of about for fresh snow to about for charcoal one of the darkest substances deeply shadowed cavities can achieve an effective albedo approaching the zero of black body when seen from distance the ocean surface has low albedo as do most forests whereas desert areas have some of the highest albedos among landforms most land areas are in an albedo range of to the average albedo of earth is about this is far higher than for the ocean primarily because of the contribution of clouds mean annual clear sky and total sky albedo earth surface albedo is regularly estimated via earth observation satellite sensors such as nasa modis instruments on board the terra and aqua satellites and the ceres instrument on the suomi npp and jpss as the amount of reflected radiation is only measured for single direction by satellite not all directions mathematical model is used to translate sample set of satellite reflectance measurements into estimates of directional hemispherical reflectance and bi hemispherical reflectance these calculations are based on the bidirectional reflectance distribution function brdf which describes how the reflectance of given surface depends on the view angle of the observer and the solar angle bdrf can facilitate translations of observations of reflectance into albedo earth average surface temperature due to its albedo and the greenhouse effect is currently about if earth were frozen entirely and hence be more reflective the average temperature of the planet would drop below if only the continental land masses became covered by glaciers the mean temperature of the planet would drop to about in contrast if the entire earth was covered by water so called ocean planet the average temperature on the planet would rise to almost in scientists reported that earth dimmed by over two decades as measured by earthshine using modern photometric techniques this may have both been co caused by climate change as well as substantially increase global warming however the link to climate change has not been explored to date and it is unclear whether or not this represents an ongoing trend white sky black sky and blue sky albedo for land surfaces it has been shown that the albedo at particular solar zenith angle can be approximated by the proportionate sum of two terms the directional hemispherical reflectance at that solar zenith angle sometimes referred to as black sky albedo and the bi hemispherical reflectance sometimes referred to as white sky albedo with being the proportion of direct radiation from given solar angle and being the proportion of diffuse illumination the actual albedo also called blue sky albedo can then be given as this formula is important because it allows the albedo to be calculated for any given illumination conditions from knowledge of the intrinsic properties of the surface astronomical albedo the albedos of planets satellites and minor planets such as asteroids can be used to infer much about their properties the study of albedos their dependence on wavelength lighting angle phase angle and variation in time composes major part of the astronomical field of photometry for small and far objects that cannot be resolved by telescopes much of what we know comes from the study of their albedos for example the absolute albedo can indicate the surface ice content of outer solar system objects the variation of albedo with phase angle gives information about regolith properties whereas unusually high radar albedo is indicative of high metal content in asteroids enceladus moon of saturn has one of the highest known albedos of any body in the solar system with an albedo of another notable high albedo body is eris with an albedo of many small objects in the outer solar system and asteroid belt have low albedos down to about typical comet nucleus has an albedo of such dark surface is thought to be indicative of primitive and heavily space weathered surface containing some organic compounds the overall albedo of the moon is measured to be around but it is strongly directional and non lambertian displaying also strong opposition effect although such reflectance properties are different from those of any terrestrial terrains they are typical of the regolith surfaces of airless solar system bodies two common albedos that are used in astronomy are the band geometric albedo measuring brightness when illumination comes from directly behind the observer and the bond albedo measuring total proportion of electromagnetic energy reflected their values can differ significantly which is common source of confusion planet geometric bond mercury or venus or earth mars jupiter saturn uranus neptune in detailed studies the directional reflectance properties of astronomical bodies are often expressed in terms of the five hapke parameters which semi empirically describe the variation of albedo with phase angle including of the opposition effect of regolith surfaces the relation between astronomical geometric albedo absolute magnitude and diameter is where is the astronomical albedo is the diameter in kilometers and is the absolute magnitude examples of terrestrial albedo effects illumination albedo is not directly dependent on illumination because changing the amount of incoming light proportionally changes the amount of reflected light except in circumstances where change in illumination induces change in the earth surface at that location through melting of reflective ice that said albedo and illumination both vary by latitude albedo is highest near the poles and lowest in the subtropics with local maximum in the tropics insolation effects the intensity of albedo temperature effects depends on the amount of albedo and the level of local insolation solar irradiance high albedo areas in the arctic and antarctic regions are cold due to low insolation whereas areas such as the sahara desert which also have relatively high albedo will be hotter due to high insolation tropical and sub tropical rainforest areas have low albedo and are much hotter than their temperate forest counterparts which have lower insolation because insolation plays such big role in the heating and cooling effects of albedo high insolation areas like the tropics will tend to show more pronounced fluctuation in local temperature when local albedo changes arctic regions notably release more heat back into space than what they absorb effectively cooling the earth this has been concern since arctic ice and snow has been melting at higher rates due to higher temperatures creating regions in the arctic that are notably darker being water or ground which is darker color and reflects less heat back into space this feedback loop results in reduced albedo effect climate and weather albedo affects climate by determining how much radiation planet absorbs the uneven heating of earth from albedo variations between land ice or ocean surfaces can drive weather albedo temperature feedback when an area albedo changes due to snowfall snow temperature feedback results layer of snowfall increases local albedo reflecting away sunlight leading to local cooling in principle if no outside temperature change affects this area warm air mass the raised albedo and lower temperature would maintain the current snow and invite further snowfall deepening the snow temperature feedback however because local weather is dynamic due to the change of seasons eventually warm air masses and more direct angle of sunlight higher insolation cause melting when the melted area reveals surfaces with lower albedo such as grass soil or ocean the effect is reversed the darkening surface lowers albedo increasing local temperatures which induces more melting and thus reducing the albedo further resulting in still more heating snow snow albedo is highly variable ranging from as high as for freshly fallen snow to about for melting snow and as low as for dirty snow over antarctica snow albedo averages little more than if marginally snow covered area warms snow tends to melt lowering the albedo and hence leading to more snowmelt because more radiation is being absorbed by the snowpack the ice albedo positive feedback just as fresh snow has higher albedo than does dirty snow the albedo of snow covered sea ice is far higher than that of sea water sea water absorbs more solar radiation than would the same surface covered with reflective snow when sea ice melts either due to rise in sea temperature or in response to increased solar radiation from above the snow covered surface is reduced and more surface of sea water is exposed so the rate of energy absorption increases the extra absorbed energy heats the sea water which in turn increases the rate at which sea ice melts as with the preceding example of snowmelt the process of melting of sea ice is thus another example of positive feedback both positive feedback loops have long been recognized as important for global warming cryoconite powdery windblown dust containing soot sometimes reduces albedo on glaciers and ice sheets the dynamical nature of albedo in response to positive feedback together with the effects of small errors in the measurement of albedo can lead to large errors in energy estimates because of this in order to reduce the error of energy estimates it is important to measure the albedo of snow covered areas through remote sensing techniques rather than applying single value for albedo over broad regions small scale effects albedo works on smaller scale too in sunlight dark clothes absorb more heat and light coloured clothes reflect it better thus allowing some control over body temperature by exploiting the albedo effect of the colour of external clothing solar photovoltaic effects albedo can affect the electrical energy output of solar photovoltaic devices for example the effects of spectrally responsive albedo are illustrated by the differences between the spectrally weighted albedo of solar photovoltaic technology based on hydrogenated amorphous silicon si and crystalline silicon si based compared to traditional spectral integrated albedo predictions research showed impacts of over more recently the analysis was extended to the effects of spectral bias due to the specular reflectivity of commonly occurring surface materials both human made and natural and analyzes the albedo effects on the performance of seven photovoltaic materials covering three common photovoltaic system topologies industrial solar farms commercial flat rooftops and residential pitched roof applications trees because forests generally have low albedo the majority of the ultraviolet and visible spectrum is absorbed through photosynthesis some scientists have suggested that greater heat absorption by trees could offset some of the carbon benefits of afforestation or offset the negative climate impacts of deforestation in the case of evergreen forests with seasonal snow cover albedo reduction may be great enough for deforestation to cause net cooling effect trees also impact climate in extremely complicated ways through the water vapor causes cooling on the land surface causes heating where it condenses acts strong greenhouse gas and can increase albedo when it condenses into clouds scientists generally treat as net cooling impact and the net climate impact of albedo and changes from deforestation depends greatly on local climate in seasonally snow covered zones winter albedos of treeless areas are to higher than nearby forested areas because snow does not cover the trees as readily deciduous trees have an albedo value of about to whereas coniferous trees have value of about to variation in summer albedo across both forest types is associated with maximum rates of photosynthesis because plants with high growth capacity display greater fraction of their foliage for direct interception of incoming radiation in the upper canopy the result is that wavelengths of light not used in photosynthesis are more likely to be reflected back to space rather than being absorbed by other surfaces lower in the canopy studies by the hadley centre have investigated the relative generally warming effect of albedo change and cooling effect of carbon sequestration on planting forests they found that new forests in tropical and midlatitude areas tended to cool new forests in high latitudes siberia were neutral or perhaps warming water reflectivity of smooth water at refractive index water reflects light very differently from typical terrestrial materials the reflectivity of water surface is calculated using the fresnel equations at the scale of the wavelength of light even wavy water is always smooth so the light is reflected in locally specular manner not diffusely the glint of light off water is commonplace effect of this at small angles of incident light waviness results in reduced reflectivity because of the steepness of the reflectivity vs incident angle curve and locally increased average incident angle although the reflectivity of water is very low at low and medium angles of incident light it becomes very high at high angles of incident light such as those that occur on the illuminated side of earth near the terminator early morning late afternoon and near the poles however as mentioned above waviness causes an appreciable reduction because light specularly reflected from water does not usually reach the viewer water is usually considered to have very low albedo in spite of its high reflectivity at high angles of incident light note that white caps on waves look white and have high albedo because the water is foamed up so there are many superimposed bubble surfaces which reflect adding up their reflectivities fresh black ice exhibits fresnel reflection snow on top of this sea ice increases the albedo to clouds cloud albedo has substantial influence over atmospheric temperatures different types of clouds exhibit different reflectivity theoretically ranging in albedo from minimum of near to maximum approaching on any given day about half of earth is covered by clouds which reflect more sunlight than land and water clouds keep earth cool by reflecting sunlight but they can also serve as blankets to trap warmth albedo and climate in some areas are affected by artificial clouds such as those created by the contrails of heavy commercial airliner traffic study following the burning of the kuwaiti oil fields during iraqi occupation showed that temperatures under the burning oil fires were as much as colder than temperatures several miles away under clear skies aerosol effects aerosols very fine particles droplets in the atmosphere have both direct and indirect effects on earth radiative balance the direct albedo effect is generally to cool the planet the indirect effect the particles act as cloud condensation nuclei and thereby change cloud properties is less certain as per spracklen et al the effects are aerosol direct effect aerosols directly scatter and absorb radiation the scattering of radiation causes atmospheric cooling whereas absorption can cause atmospheric warming aerosol indirect effect aerosols modify the properties of clouds through subset of the aerosol population called cloud condensation nuclei increased nuclei concentrations lead to increased cloud droplet number concentrations which in turn leads to increased cloud albedo increased light scattering and radiative cooling first indirect effect but also leads to reduced precipitation efficiency and increased lifetime of the cloud second indirect effect in extremely polluted cities like delhi aerosol pollutants influence local weather and induce an urban cool island effect during the day black carbon another albedo related effect on the climate is from black carbon particles the size of this effect is difficult to quantify the panel on climate change estimates that the global mean radiative forcing for black carbon aerosols from fossil fuels is with range to black carbon is bigger cause of the melting of the polar ice cap in the arctic than carbon dioxide due to its effect on the albedo human activities human activities deforestation farming and urbanization change the albedo of various areas around the globe however quantification of this effect on the global scale is difficult further study is required to determine anthropogenic effects other types of albedo single scattering albedo is used to define scattering of electromagnetic waves on small particles it depends on properties of the material refractive index the size of the particle or particles and the wavelength of the incoming radiation see also cool roof daisyworld emissivity exitance global dimming irradiance kirchhoff law of thermal radiation opposition surge polar see saw solar radiation management references external links albedo project albedo encyclopedia of earth nasa modis brdf albedo product site surface albedo derived from meteosat observations discussion of lunar albedos reflectivity of metals chart'"
            ]
          },
          "metadata": {},
          "execution_count": 18
        }
      ]
    }
  ]
}