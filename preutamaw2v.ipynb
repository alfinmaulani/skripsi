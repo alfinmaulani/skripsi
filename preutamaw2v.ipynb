{
  "nbformat": 4,
  "nbformat_minor": 0,
  "metadata": {
    "colab": {
      "name": "preutamaw2v.ipynb",
      "provenance": [],
      "authorship_tag": "ABX9TyPy3Vcv+8PPy5yQMuG7CL+Z",
      "include_colab_link": true
    },
    "kernelspec": {
      "name": "python3",
      "display_name": "Python 3"
    },
    "language_info": {
      "name": "python"
    }
  },
  "cells": [
    {
      "cell_type": "markdown",
      "metadata": {
        "id": "view-in-github",
        "colab_type": "text"
      },
      "source": [
        "<a href=\"https://colab.research.google.com/github/alfinmaulani/skripsi/blob/master/preutamaw2v.ipynb\" target=\"_parent\"><img src=\"https://colab.research.google.com/assets/colab-badge.svg\" alt=\"Open In Colab\"/></a>"
      ]
    },
    {
      "cell_type": "code",
      "metadata": {
        "id": "ZleysLyWBLzR"
      },
      "source": [
        "import numpy as np\n",
        "import pandas as pd\n",
        "import io\n",
        "\n",
        "url = 'https://raw.githubusercontent.com/alfinmaulani/skripsi/master/dataisearpreutama.csv'\n",
        "df = pd.read_csv(url)\n",
        "\n",
        "from gensim.models import Word2vec\n",
        "w2v=Word2Vec(all_word,min_count=2)"
      ],
      "execution_count": null,
      "outputs": []
    }
  ]
}