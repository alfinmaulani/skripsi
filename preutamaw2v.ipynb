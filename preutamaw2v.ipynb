{
  "nbformat": 4,
  "nbformat_minor": 0,
  "metadata": {
    "colab": {
      "name": "preutamaw2v.ipynb",
      "provenance": [],
      "authorship_tag": "ABX9TyMSCyzqHrdNFQaGZoprFfR+",
      "include_colab_link": true
    },
    "kernelspec": {
      "name": "python3",
      "display_name": "Python 3"
    },
    "language_info": {
      "name": "python"
    }
  },
  "cells": [
    {
      "cell_type": "markdown",
      "metadata": {
        "id": "view-in-github",
        "colab_type": "text"
      },
      "source": [
        "<a href=\"https://colab.research.google.com/github/alfinmaulani/skripsi/blob/master/preutamaw2v.ipynb\" target=\"_parent\"><img src=\"https://colab.research.google.com/assets/colab-badge.svg\" alt=\"Open In Colab\"/></a>"
      ]
    },
    {
      "cell_type": "code",
      "metadata": {
        "id": "ZleysLyWBLzR"
      },
      "source": [
        "import numpy as np\n",
        "import pandas as pd\n",
        "import io\n",
        "\n",
        "url = 'https://raw.githubusercontent.com/alfinmaulani/skripsi/master/dataisear(dokumen).csv'\n",
        "# df = pd.read_csv(url)\n",
        "# df.iloc[:,1]"
      ],
      "execution_count": 7,
      "outputs": []
    },
    {
      "cell_type": "code",
      "metadata": {
        "id": "TmfiEQr4XUrO",
        "colab": {
          "base_uri": "https://localhost:8080/"
        },
        "outputId": "da5e2e5c-9116-4e99-eb45-73722d4fd14a"
      },
      "source": [
        "#!pip install --upgrade gensim\n",
        "# from gensim.test.utils import common_texts\n",
        "from gensim.models import Word2Vec\n",
        "from gensim.models.word2vec import LineSentence\n",
        "from gensim.test.utils import datapath\n",
        "\n",
        "sentences = LineSentence(url)\n",
        "print(sentences)\n",
        "sentences\n",
        "w2v = Word2Vec(sentences, window=5, min_count=1, workers=4)\n",
        "\n",
        "# id_w2v = Word2vec Word2vec (sentences, size=100, workers=multiprocessing.cpu_count() 1)\n",
        "# model.save(\"word2vec.model\")"
      ],
      "execution_count": 13,
      "outputs": [
        {
          "output_type": "stream",
          "name": "stdout",
          "text": [
            "<gensim.models.word2vec.LineSentence object at 0x7f43901d6310>\n"
          ]
        }
      ]
    },
    {
      "cell_type": "code",
      "metadata": {
        "id": "mfoBbSmYbwuC"
      },
      "source": [
        "# words=model.wv.vocab\n",
        "w2v.save('w2v(non).model')"
      ],
      "execution_count": 14,
      "outputs": []
    },
    {
      "cell_type": "code",
      "metadata": {
        "id": "GYCnjvh3cedu"
      },
      "source": [
        "# w1=model.wv[\"moment\"]\n",
        "# print(w1)"
      ],
      "execution_count": null,
      "outputs": []
    }
  ]
}