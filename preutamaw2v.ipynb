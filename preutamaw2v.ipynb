{
  "nbformat": 4,
  "nbformat_minor": 0,
  "metadata": {
    "colab": {
      "name": "preutamaw2v.ipynb",
      "provenance": [],
      "authorship_tag": "ABX9TyPOm4JYf8rx/LjObeFknVQa",
      "include_colab_link": true
    },
    "kernelspec": {
      "name": "python3",
      "display_name": "Python 3"
    },
    "language_info": {
      "name": "python"
    }
  },
  "cells": [
    {
      "cell_type": "markdown",
      "metadata": {
        "id": "view-in-github",
        "colab_type": "text"
      },
      "source": [
        "<a href=\"https://colab.research.google.com/github/alfinmaulani/skripsi/blob/master/preutamaw2v.ipynb\" target=\"_parent\"><img src=\"https://colab.research.google.com/assets/colab-badge.svg\" alt=\"Open In Colab\"/></a>"
      ]
    },
    {
      "cell_type": "code",
      "metadata": {
        "id": "ZleysLyWBLzR"
      },
      "source": [
        "import numpy as np\n",
        "import pandas as pd\n",
        "import io\n",
        "\n",
        "url = 'https://raw.githubusercontent.com/alfinmaulani/skripsi/master/dataisearpreutama.csv'\n",
        "df = pd.read_csv(url)"
      ],
      "execution_count": 1,
      "outputs": []
    },
    {
      "cell_type": "code",
      "metadata": {
        "id": "TmfiEQr4XUrO"
      },
      "source": [
        "#!pip install --upgrade gensim\n",
        "# import urllib.request\n",
        "# import re\n",
        "# import nltk\n",
        "from gensim.models import Word2Vec\n",
        "w2v=Word2Vec(df.iloc[:,1], min_count=2)"
      ],
      "execution_count": 17,
      "outputs": []
    },
    {
      "cell_type": "code",
      "metadata": {
        "colab": {
          "base_uri": "https://localhost:8080/"
        },
        "id": "mfoBbSmYbwuC",
        "outputId": "4ee4f3eb-8da5-47e3-8abd-6c1f2b052f17"
      },
      "source": [
        "voca=w2v.wv.vocab\n",
        "print(voca)"
      ],
      "execution_count": 20,
      "outputs": [
        {
          "output_type": "stream",
          "text": [
            "{'o': <gensim.models.keyedvectors.Vocab object at 0x7f0a7f5ebb50>, 'n': <gensim.models.keyedvectors.Vocab object at 0x7f0a7f5eb810>, ' ': <gensim.models.keyedvectors.Vocab object at 0x7f0a7f5eba10>, 'd': <gensim.models.keyedvectors.Vocab object at 0x7f0a7f5eb5d0>, 'a': <gensim.models.keyedvectors.Vocab object at 0x7f0a7f677090>, 'y': <gensim.models.keyedvectors.Vocab object at 0x7f0a7f5e5d10>, 's': <gensim.models.keyedvectors.Vocab object at 0x7f0a7f5e5050>, 'w': <gensim.models.keyedvectors.Vocab object at 0x7f0a7f5e5f50>, 'h': <gensim.models.keyedvectors.Vocab object at 0x7f0a7f5eb450>, 'e': <gensim.models.keyedvectors.Vocab object at 0x7f0a7f5e5b90>, 'i': <gensim.models.keyedvectors.Vocab object at 0x7f0a7f5e5a90>, 'f': <gensim.models.keyedvectors.Vocab object at 0x7f0a7f5e5090>, 'l': <gensim.models.keyedvectors.Vocab object at 0x7f0a7f5e5710>, 'c': <gensim.models.keyedvectors.Vocab object at 0x7f0a7f5e5350>, 't': <gensim.models.keyedvectors.Vocab object at 0x7f0a7f5e5810>, 'm': <gensim.models.keyedvectors.Vocab object at 0x7f0a7f5e5450>, 'p': <gensim.models.keyedvectors.Vocab object at 0x7f0a7f5e5750>, 'r': <gensim.models.keyedvectors.Vocab object at 0x7f0a7f5e5fd0>, 'x': <gensim.models.keyedvectors.Vocab object at 0x7f0a7f5e5850>, 'g': <gensim.models.keyedvectors.Vocab object at 0x7f0a7f5e5210>, 'v': <gensim.models.keyedvectors.Vocab object at 0x7f0a7f5e5150>, 'u': <gensim.models.keyedvectors.Vocab object at 0x7f0a7f5e57d0>, 'b': <gensim.models.keyedvectors.Vocab object at 0x7f0a7f5e5e10>, 'j': <gensim.models.keyedvectors.Vocab object at 0x7f0a7f5e5690>, 'k': <gensim.models.keyedvectors.Vocab object at 0x7f0a7f5e5ed0>, 'z': <gensim.models.keyedvectors.Vocab object at 0x7f0a7f5e5590>, 'q': <gensim.models.keyedvectors.Vocab object at 0x7f0a7f5e50d0>, '2': <gensim.models.keyedvectors.Vocab object at 0x7f0a7f5e53d0>, '7': <gensim.models.keyedvectors.Vocab object at 0x7f0a7f5e59d0>, '1': <gensim.models.keyedvectors.Vocab object at 0x7f0a7f5e5c90>, '8': <gensim.models.keyedvectors.Vocab object at 0x7f0a7f5e52d0>, '\\n': <gensim.models.keyedvectors.Vocab object at 0x7f0a7f5e55d0>, '0': <gensim.models.keyedvectors.Vocab object at 0x7f0a7f5e5dd0>, '4': <gensim.models.keyedvectors.Vocab object at 0x7f0a7f5e5110>, '9': <gensim.models.keyedvectors.Vocab object at 0x7f0a7f5e5cd0>, '3': <gensim.models.keyedvectors.Vocab object at 0x7f0a7f5e5250>, '5': <gensim.models.keyedvectors.Vocab object at 0x7f0a7f5e5bd0>, '6': <gensim.models.keyedvectors.Vocab object at 0x7f0a7f5e5c10>}\n"
          ],
          "name": "stdout"
        }
      ]
    },
    {
      "cell_type": "code",
      "metadata": {
        "colab": {
          "base_uri": "https://localhost:8080/"
        },
        "id": "GYCnjvh3cedu",
        "outputId": "bf434a80-2068-47eb-c88f-106809899a89"
      },
      "source": [
        "w1=w2v.wv['a']\n",
        "print(w1)"
      ],
      "execution_count": 22,
      "outputs": [
        {
          "output_type": "stream",
          "text": [
            "[-0.10279101  0.11202199  0.42437193 -0.21630271  0.16088013  0.00180551\n",
            " -0.0221242  -0.08210351  0.310336    0.1015762  -0.17112215  0.43076006\n",
            " -0.032976    0.16961338 -0.20037559  0.44260153  0.00421918 -0.32524565\n",
            " -0.25069323 -0.12960538 -0.47926605  0.11148935  0.04675439  0.02800713\n",
            " -0.31992075  0.12232791 -0.41980326 -0.08475413 -0.13941969 -0.23024525\n",
            " -0.0513065  -0.01860717  0.15188484 -0.06789922  0.29418322  0.0017196\n",
            "  0.16884415  0.11121946 -0.02818655  0.10996002 -0.18311659  0.14324574\n",
            " -0.25454646 -0.15075454  0.11061157  0.19487052 -0.07727176 -0.13095641\n",
            "  0.1391401  -0.11521089 -0.01314378  0.17686687 -0.15997525  0.2542584\n",
            " -0.01251116  0.13147648  0.23728052  0.10591307  0.3240907   0.06735545\n",
            " -0.03565691 -0.11036219  0.17412055 -0.18218856  0.08487646 -0.00465115\n",
            " -0.25109136 -0.06308023 -0.14840266 -0.05800137 -0.19388191 -0.08119623\n",
            " -0.03065358 -0.20868614  0.07270421  0.21163636 -0.00064112  0.08012865\n",
            " -0.01100844 -0.18693915  0.16822205  0.03962228 -0.19645102 -0.02924798\n",
            "  0.15023328 -0.04120367 -0.05305073  0.05637053 -0.07485265 -0.01559206\n",
            "  0.01598806  0.02533679 -0.1376443  -0.11201592 -0.05808825  0.19473732\n",
            "  0.02322959  0.16716067  0.00327861 -0.12671739]\n"
          ],
          "name": "stdout"
        }
      ]
    }
  ]
}