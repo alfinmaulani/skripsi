{
  "nbformat": 4,
  "nbformat_minor": 0,
  "metadata": {
    "colab": {
      "name": "preutamaw2v.ipynb",
      "provenance": [],
      "authorship_tag": "ABX9TyPf+g6AFVpjABc4gaN6jwO9",
      "include_colab_link": true
    },
    "kernelspec": {
      "name": "python3",
      "display_name": "Python 3"
    },
    "language_info": {
      "name": "python"
    }
  },
  "cells": [
    {
      "cell_type": "markdown",
      "metadata": {
        "id": "view-in-github",
        "colab_type": "text"
      },
      "source": [
        "<a href=\"https://colab.research.google.com/github/alfinmaulani/skripsi/blob/master/preutamaw2v.ipynb\" target=\"_parent\"><img src=\"https://colab.research.google.com/assets/colab-badge.svg\" alt=\"Open In Colab\"/></a>"
      ]
    },
    {
      "cell_type": "code",
      "metadata": {
        "id": "ZleysLyWBLzR"
      },
      "source": [
        "import numpy as np\n",
        "import pandas as pd\n",
        "import io\n",
        "\n",
        "url = 'https://raw.githubusercontent.com/alfinmaulani/skripsi/master/dataisearpreutama.csv'\n",
        "df = pd.read_csv(url)"
      ],
      "execution_count": 1,
      "outputs": []
    },
    {
      "cell_type": "code",
      "metadata": {
        "id": "pIMeAzlU74G1",
        "outputId": "0e58affc-41ec-4b5b-eeea-01fcccc9430e",
        "colab": {
          "base_uri": "https://localhost:8080/"
        }
      },
      "source": [
        "df.iloc[:,1]"
      ],
      "execution_count": 15,
      "outputs": [
        {
          "output_type": "execute_result",
          "data": {
            "text/plain": [
              "0       on days when i feel close to my partner and ot...\n",
              "1       every time i imagine that someone i love or i ...\n",
              "2       when i had been obviously unjustly treated and...\n",
              "3       when i think about the short time that we live...\n",
              "4       at a gathering i found myself involuntarily si...\n",
              "                              ...                        \n",
              "7511    two years back someone invited me to be the tu...\n",
              "7512    i had taken the responsibility to do something...\n",
              "7513    i was at home and i heard a loud sound of spit...\n",
              "7514    i did not do the homework that the teacher had...\n",
              "7515    i had shouted at my younger brother and he was...\n",
              "Name: dokumen, Length: 7516, dtype: object"
            ]
          },
          "metadata": {
            "tags": []
          },
          "execution_count": 15
        }
      ]
    },
    {
      "cell_type": "code",
      "metadata": {
        "id": "TmfiEQr4XUrO",
        "outputId": "d1a733c7-bc1e-4fd4-a64a-37e64f1c4fc5",
        "colab": {
          "base_uri": "https://localhost:8080/",
          "height": 17
        }
      },
      "source": [
        "#!pip install --upgrade gensim\n",
        "from gensim.test.utils import common_texts\n",
        "from gensim.models import Word2Vec\n",
        "# sentences = Word2vec.LineSentence(df.iloc[:,1])1\n",
        "# tokenized_text = word_tokenize(df.iloc[:,1])\n",
        "# model=Word2Vec(df.iloc[:,1])\n",
        "# id_w2v = Word2vec Word2vec (sentences, size=100, workers=multiprocessing.cpu_count() 1)\n",
        "model = Word2vec.Word2Vec(sentences, window=5, min_count=1, workers=4)\n",
        "# model.save(\"word2vec.model\")"
      ],
      "execution_count": 19,
      "outputs": [
        {
          "output_type": "error",
          "ename": "ImportError",
          "evalue": "ignored",
          "traceback": [
            "\u001b[0;31m---------------------------------------------------------------------------\u001b[0m",
            "\u001b[0;31mImportError\u001b[0m                               Traceback (most recent call last)",
            "\u001b[0;32m<ipython-input-19-bd2981245676>\u001b[0m in \u001b[0;36m<module>\u001b[0;34m()\u001b[0m\n\u001b[1;32m      1\u001b[0m \u001b[0;31m#!pip install --upgrade gensim\u001b[0m\u001b[0;34m\u001b[0m\u001b[0;34m\u001b[0m\u001b[0;34m\u001b[0m\u001b[0m\n\u001b[1;32m      2\u001b[0m \u001b[0;32mfrom\u001b[0m \u001b[0mgensim\u001b[0m\u001b[0;34m.\u001b[0m\u001b[0mtest\u001b[0m\u001b[0;34m.\u001b[0m\u001b[0mutils\u001b[0m \u001b[0;32mimport\u001b[0m \u001b[0mcommon_texts\u001b[0m\u001b[0;34m\u001b[0m\u001b[0;34m\u001b[0m\u001b[0m\n\u001b[0;32m----> 3\u001b[0;31m \u001b[0;32mfrom\u001b[0m \u001b[0mgensim\u001b[0m\u001b[0;34m.\u001b[0m\u001b[0mmodels\u001b[0m \u001b[0;32mimport\u001b[0m \u001b[0mWord2Vec1\u001b[0m\u001b[0;34m\u001b[0m\u001b[0;34m\u001b[0m\u001b[0m\n\u001b[0m\u001b[1;32m      4\u001b[0m \u001b[0;31m# sentences = Word2vec.LineSentence(df.iloc[:,1])1\u001b[0m\u001b[0;34m\u001b[0m\u001b[0;34m\u001b[0m\u001b[0;34m\u001b[0m\u001b[0m\n\u001b[1;32m      5\u001b[0m \u001b[0;31m# tokenized_text = word_tokenize(df.iloc[:,1])\u001b[0m\u001b[0;34m\u001b[0m\u001b[0;34m\u001b[0m\u001b[0;34m\u001b[0m\u001b[0m\n",
            "\u001b[0;31mImportError\u001b[0m: cannot import name 'Word2Vec1' from 'gensim.models' (/usr/local/lib/python3.7/dist-packages/gensim/models/__init__.py)",
            "",
            "\u001b[0;31m---------------------------------------------------------------------------\u001b[0;32m\nNOTE: If your import is failing due to a missing package, you can\nmanually install dependencies using either !pip or !apt.\n\nTo view examples of installing some common dependencies, click the\n\"Open Examples\" button below.\n\u001b[0;31m---------------------------------------------------------------------------\u001b[0m\n"
          ]
        }
      ]
    },
    {
      "cell_type": "code",
      "metadata": {
        "colab": {
          "base_uri": "https://localhost:8080/"
        },
        "id": "mfoBbSmYbwuC",
        "outputId": "bea61008-24d7-4169-d74a-33b973afe559"
      },
      "source": [
        "words=model.wv.vocab\n",
        "words"
      ],
      "execution_count": 12,
      "outputs": [
        {
          "output_type": "execute_result",
          "data": {
            "text/plain": [
              "{'\\n': <gensim.models.keyedvectors.Vocab at 0x7f5b72ec9f90>,\n",
              " ' ': <gensim.models.keyedvectors.Vocab at 0x7f5b715de9d0>,\n",
              " '0': <gensim.models.keyedvectors.Vocab at 0x7f5b72ec99d0>,\n",
              " '1': <gensim.models.keyedvectors.Vocab at 0x7f5b715deb50>,\n",
              " '2': <gensim.models.keyedvectors.Vocab at 0x7f5b715def10>,\n",
              " '3': <gensim.models.keyedvectors.Vocab at 0x7f5b72ec9a90>,\n",
              " '4': <gensim.models.keyedvectors.Vocab at 0x7f5b72ec9e50>,\n",
              " '5': <gensim.models.keyedvectors.Vocab at 0x7f5b72ec9e10>,\n",
              " '6': <gensim.models.keyedvectors.Vocab at 0x7f5b72ec9f10>,\n",
              " '7': <gensim.models.keyedvectors.Vocab at 0x7f5b715de0d0>,\n",
              " '8': <gensim.models.keyedvectors.Vocab at 0x7f5b715de090>,\n",
              " '9': <gensim.models.keyedvectors.Vocab at 0x7f5b72ec9a10>,\n",
              " 'a': <gensim.models.keyedvectors.Vocab at 0x7f5b715de590>,\n",
              " 'b': <gensim.models.keyedvectors.Vocab at 0x7f5b715dea50>,\n",
              " 'c': <gensim.models.keyedvectors.Vocab at 0x7f5b715de850>,\n",
              " 'd': <gensim.models.keyedvectors.Vocab at 0x7f5b715dee10>,\n",
              " 'e': <gensim.models.keyedvectors.Vocab at 0x7f5b715deb90>,\n",
              " 'f': <gensim.models.keyedvectors.Vocab at 0x7f5b715de490>,\n",
              " 'g': <gensim.models.keyedvectors.Vocab at 0x7f5b715de190>,\n",
              " 'h': <gensim.models.keyedvectors.Vocab at 0x7f5b715de350>,\n",
              " 'i': <gensim.models.keyedvectors.Vocab at 0x7f5b715de690>,\n",
              " 'j': <gensim.models.keyedvectors.Vocab at 0x7f5b715de810>,\n",
              " 'k': <gensim.models.keyedvectors.Vocab at 0x7f5b715de3d0>,\n",
              " 'l': <gensim.models.keyedvectors.Vocab at 0x7f5b715de8d0>,\n",
              " 'm': <gensim.models.keyedvectors.Vocab at 0x7f5b715de150>,\n",
              " 'n': <gensim.models.keyedvectors.Vocab at 0x7f5b715deed0>,\n",
              " 'o': <gensim.models.keyedvectors.Vocab at 0x7f5b71677810>,\n",
              " 'p': <gensim.models.keyedvectors.Vocab at 0x7f5b715de310>,\n",
              " 'q': <gensim.models.keyedvectors.Vocab at 0x7f5b715de4d0>,\n",
              " 'r': <gensim.models.keyedvectors.Vocab at 0x7f5b715dec50>,\n",
              " 's': <gensim.models.keyedvectors.Vocab at 0x7f5b715de7d0>,\n",
              " 't': <gensim.models.keyedvectors.Vocab at 0x7f5b715de5d0>,\n",
              " 'u': <gensim.models.keyedvectors.Vocab at 0x7f5b715de650>,\n",
              " 'v': <gensim.models.keyedvectors.Vocab at 0x7f5b715de6d0>,\n",
              " 'w': <gensim.models.keyedvectors.Vocab at 0x7f5b715dea10>,\n",
              " 'x': <gensim.models.keyedvectors.Vocab at 0x7f5b715de450>,\n",
              " 'y': <gensim.models.keyedvectors.Vocab at 0x7f5b715de110>,\n",
              " 'z': <gensim.models.keyedvectors.Vocab at 0x7f5b715dea90>}"
            ]
          },
          "metadata": {
            "tags": []
          },
          "execution_count": 12
        }
      ]
    },
    {
      "cell_type": "code",
      "metadata": {
        "colab": {
          "base_uri": "https://localhost:8080/"
        },
        "id": "GYCnjvh3cedu",
        "outputId": "a72365aa-e773-4f61-c59e-0fdcfbd2d2d8"
      },
      "source": [
        "w1=model.wv['computer']\n",
        "print(w1)"
      ],
      "execution_count": 4,
      "outputs": [
        {
          "output_type": "stream",
          "text": [
            "[-6.4723572e-04  5.2921416e-04 -1.4865700e-03 -2.1013603e-04\n",
            "  9.0330391e-04 -1.5374753e-03 -1.3242229e-03  3.8966199e-04\n",
            "  3.9846753e-03  3.5782848e-03 -4.7210352e-03  2.8548415e-03\n",
            "  1.1545318e-05 -3.5003053e-03  1.5309918e-03 -2.3885029e-03\n",
            "  1.7783933e-03 -4.4001071e-03 -8.7721820e-04 -2.4105168e-03\n",
            "  1.2404514e-03 -7.8378967e-04  4.6961932e-03 -2.8803709e-04\n",
            "  1.6957090e-03  4.0652623e-04 -3.9464077e-03  3.9759744e-03\n",
            "  5.4968818e-04  3.5023976e-03 -2.2334640e-03  9.8833884e-04\n",
            "  8.0447659e-05  2.5967963e-03 -3.9832266e-03  3.2186075e-04\n",
            "  1.2267841e-03  4.1857036e-03 -4.6276553e-03 -3.9563281e-03\n",
            " -3.1367277e-03 -4.2944667e-03 -1.2474253e-03  2.6801636e-03\n",
            " -4.5102448e-03 -2.5527782e-03  2.0462752e-03 -3.4836561e-03\n",
            " -2.9471477e-03  1.6427616e-03  8.4995665e-04 -4.4750138e-03\n",
            "  4.1634655e-03 -4.7564101e-03 -3.6479933e-03 -4.7867848e-03\n",
            " -5.5685808e-04  4.3817027e-03 -2.5342091e-03 -5.0291535e-04\n",
            "  3.3167801e-03  7.7596902e-05  1.0816087e-03  1.1649117e-03\n",
            " -4.0490660e-03  9.9070254e-04 -2.3295281e-03 -9.2205458e-04\n",
            " -1.0381640e-03 -2.0010415e-03  2.8408943e-03  2.6164458e-03\n",
            " -5.3974683e-04  2.9466904e-03  1.9584910e-03  8.8322311e-05\n",
            "  5.0283154e-04 -3.3659106e-03  1.6696677e-03  3.8950900e-03\n",
            " -2.9272784e-03 -3.7813908e-04  2.6875357e-03  1.2678452e-03\n",
            "  3.1654597e-03 -3.2356768e-03  1.6015151e-03 -1.2458733e-03\n",
            " -2.7537984e-03 -3.4130618e-03  2.4112258e-03  4.2539621e-03\n",
            " -3.9763176e-03 -7.8934303e-04 -3.8705308e-03 -6.4503045e-05\n",
            "  3.9794198e-03 -1.7151281e-03  2.9621632e-03  4.3840162e-03]\n"
          ],
          "name": "stdout"
        }
      ]
    }
  ]
}