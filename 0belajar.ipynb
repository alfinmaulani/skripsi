{
  "nbformat": 4,
  "nbformat_minor": 0,
  "metadata": {
    "colab": {
      "name": "belajar.ipynb",
      "provenance": [],
      "collapsed_sections": [],
      "authorship_tag": "ABX9TyNIO2KhBMe5jj7RWYn5mzQ9",
      "include_colab_link": true
    },
    "kernelspec": {
      "name": "python3",
      "display_name": "Python 3"
    },
    "language_info": {
      "name": "python"
    }
  },
  "cells": [
    {
      "cell_type": "markdown",
      "metadata": {
        "id": "view-in-github",
        "colab_type": "text"
      },
      "source": [
        "<a href=\"https://colab.research.google.com/github/alfinmaulani/skripsi/blob/master/0belajar.ipynb\" target=\"_parent\"><img src=\"https://colab.research.google.com/assets/colab-badge.svg\" alt=\"Open In Colab\"/></a>"
      ]
    },
    {
      "cell_type": "code",
      "metadata": {
        "id": "tbargeYm7wE-",
        "colab": {
          "base_uri": "https://localhost:8080/"
        },
        "outputId": "9bd61055-6c63-4f0d-c9c6-8f942738434f"
      },
      "source": [
        "import re\n",
        "import csv\n",
        "import numpy as np\n",
        "import gensim\n",
        "import pandas as pd\n",
        "import io\n",
        "import matplotlib.pyplot as plt\n",
        "from nltk.tokenize import word_tokenize\n",
        "import nltk\n",
        "nltk.download('punkt')\n",
        "\n",
        "#upload dari komputer\n",
        "#from google.colab import files\n",
        "#uploaded = files.upload()\n",
        "#datem = pd.read_csv(io.BytesIO(uploaded['dataISEAR.csv']))\n",
        "\n",
        "#dari github\n",
        "url = 'https://raw.githubusercontent.com/alfinmaulani/skripsi/master/dataISEAR.csv'\n",
        "url1='https://raw.githubusercontent.com/alfinmaulani/skripsi/master/dataisear(preputama).csv'\n",
        "df = pd.read_csv(url)\n",
        "# df[df.iloc[:,2].notnull()]\n",
        "# df = df.loc[:, ~df.columns.str.contains('^Unnamed')]"
      ],
      "execution_count": null,
      "outputs": [
        {
          "output_type": "stream",
          "name": "stdout",
          "text": [
            "[nltk_data] Downloading package punkt to /root/nltk_data...\n",
            "[nltk_data]   Unzipping tokenizers/punkt.zip.\n"
          ]
        }
      ]
    },
    {
      "cell_type": "code",
      "metadata": {
        "id": "ErTwIrgFRkQs",
        "colab": {
          "base_uri": "https://localhost:8080/",
          "height": 424
        },
        "outputId": "bbd2b930-e68d-4e4c-ad6f-8b96c54d8415"
      },
      "source": [
        "df[df['dokumen'].str.contains(\"couldn't\")]"
      ],
      "execution_count": null,
      "outputs": [
        {
          "output_type": "execute_result",
          "data": {
            "text/html": [
              "<div>\n",
              "<style scoped>\n",
              "    .dataframe tbody tr th:only-of-type {\n",
              "        vertical-align: middle;\n",
              "    }\n",
              "\n",
              "    .dataframe tbody tr th {\n",
              "        vertical-align: top;\n",
              "    }\n",
              "\n",
              "    .dataframe thead th {\n",
              "        text-align: right;\n",
              "    }\n",
              "</style>\n",
              "<table border=\"1\" class=\"dataframe\">\n",
              "  <thead>\n",
              "    <tr style=\"text-align: right;\">\n",
              "      <th></th>\n",
              "      <th>emosi</th>\n",
              "      <th>dokumen</th>\n",
              "    </tr>\n",
              "  </thead>\n",
              "  <tbody>\n",
              "    <tr>\n",
              "      <th>124</th>\n",
              "      <td>disgust</td>\n",
              "      <td>When I saw a picture, in the Gothenburg Post, ...</td>\n",
              "    </tr>\n",
              "    <tr>\n",
              "      <th>526</th>\n",
              "      <td>anger</td>\n",
              "      <td>A friend suggested in a round-about way that t...</td>\n",
              "    </tr>\n",
              "    <tr>\n",
              "      <th>545</th>\n",
              "      <td>fear</td>\n",
              "      <td>I was rock-climbing and absailing &amp; felt OK, b...</td>\n",
              "    </tr>\n",
              "    <tr>\n",
              "      <th>553</th>\n",
              "      <td>anger</td>\n",
              "      <td>Getting a terrible exam mark, which I couldn't...</td>\n",
              "    </tr>\n",
              "    <tr>\n",
              "      <th>673</th>\n",
              "      <td>fear</td>\n",
              "      <td>After seeing a terror movie at the cinema, I w...</td>\n",
              "    </tr>\n",
              "    <tr>\n",
              "      <th>...</th>\n",
              "      <td>...</td>\n",
              "      <td>...</td>\n",
              "    </tr>\n",
              "    <tr>\n",
              "      <th>6589</th>\n",
              "      <td>joy</td>\n",
              "      <td>When my boyfriend came form Rumphi to Lilongwe...</td>\n",
              "    </tr>\n",
              "    <tr>\n",
              "      <th>6592</th>\n",
              "      <td>sadness</td>\n",
              "      <td>I wrote a letter to my boyfriend but he couldn...</td>\n",
              "    </tr>\n",
              "    <tr>\n",
              "      <th>6595</th>\n",
              "      <td>guilt</td>\n",
              "      <td>One day I found an incontinent man in the ward...</td>\n",
              "    </tr>\n",
              "    <tr>\n",
              "      <th>6624</th>\n",
              "      <td>joy</td>\n",
              "      <td>It was in 1983 September when MCE results were...</td>\n",
              "    </tr>\n",
              "    <tr>\n",
              "      <th>6647</th>\n",
              "      <td>anger</td>\n",
              "      <td>Somebody took my wristwatch and promised to ha...</td>\n",
              "    </tr>\n",
              "  </tbody>\n",
              "</table>\n",
              "<p>61 rows × 2 columns</p>\n",
              "</div>"
            ],
            "text/plain": [
              "        emosi                                            dokumen\n",
              "124   disgust  When I saw a picture, in the Gothenburg Post, ...\n",
              "526     anger  A friend suggested in a round-about way that t...\n",
              "545      fear  I was rock-climbing and absailing & felt OK, b...\n",
              "553     anger  Getting a terrible exam mark, which I couldn't...\n",
              "673      fear  After seeing a terror movie at the cinema, I w...\n",
              "...       ...                                                ...\n",
              "6589      joy  When my boyfriend came form Rumphi to Lilongwe...\n",
              "6592  sadness  I wrote a letter to my boyfriend but he couldn...\n",
              "6595    guilt  One day I found an incontinent man in the ward...\n",
              "6624      joy  It was in 1983 September when MCE results were...\n",
              "6647    anger  Somebody took my wristwatch and promised to ha...\n",
              "\n",
              "[61 rows x 2 columns]"
            ]
          },
          "metadata": {},
          "execution_count": 4
        }
      ]
    },
    {
      "cell_type": "code",
      "metadata": {
        "id": "qvmD4GWkX0rk"
      },
      "source": [
        "!pip install jcopml\n",
        "from jcopml.plot import plot_missing_value"
      ],
      "execution_count": null,
      "outputs": []
    },
    {
      "cell_type": "code",
      "metadata": {
        "colab": {
          "base_uri": "https://localhost:8080/",
          "height": 498
        },
        "id": "z1FHpyJTZ5pz",
        "outputId": "517c097d-8b5b-48f5-ad9f-81883c60d46c"
      },
      "source": [
        "plot_missing_value(df)"
      ],
      "execution_count": null,
      "outputs": [
        {
          "output_type": "display_data",
          "data": {
            "image/png": "[encoded data removed]",
            "text/plain": [
              "<Figure size 1080x576 with 1 Axes>"
            ]
          },
          "metadata": {
            "needs_background": "light"
          }
        }
      ]
    },
    {
      "cell_type": "code",
      "metadata": {
        "id": "Gxcrjh5eaVAG"
      },
      "source": [
        "# df.drop(columns=['Unnamed: 2'], inplace=true)"
      ],
      "execution_count": null,
      "outputs": []
    },
    {
      "cell_type": "code",
      "metadata": {
        "colab": {
          "base_uri": "https://localhost:8080/"
        },
        "id": "lLgOPAFbcLUF",
        "outputId": "a3266f41-13a4-4279-a357-819c857515a1"
      },
      "source": [
        "df.emosi.value_counts()\n",
        "df.dokumen"
      ],
      "execution_count": null,
      "outputs": [
        {
          "output_type": "execute_result",
          "data": {
            "text/plain": [
              "0       on days when i feel close to my partner and ot...\n",
              "1       every time i imagine that someone i love or i ...\n",
              "2       when i had been obviously unjustly treated and...\n",
              "3       when i think about the short time that we live...\n",
              "4       at a gathering i found myself involuntarily si...\n",
              "                              ...                        \n",
              "7511    two years back someone invited me to be the tu...\n",
              "7512    i had taken the responsibility to do something...\n",
              "7513    i was at home and i heard a loud sound of spit...\n",
              "7514    i did not do the homework that the teacher had...\n",
              "7515    i had shouted at my younger brother and he was...\n",
              "Name: dokumen, Length: 7516, dtype: object"
            ]
          },
          "metadata": {},
          "execution_count": 7
        }
      ]
    },
    {
      "cell_type": "code",
      "metadata": {
        "colab": {
          "base_uri": "https://localhost:8080/",
          "height": 206
        },
        "id": "eDTjQ3UwbWmP",
        "outputId": "a2f7d3f0-fe41-4493-c85a-715da5715661"
      },
      "source": [
        "df.head()"
      ],
      "execution_count": null,
      "outputs": [
        {
          "output_type": "execute_result",
          "data": {
            "text/html": [
              "<div>\n",
              "<style scoped>\n",
              "    .dataframe tbody tr th:only-of-type {\n",
              "        vertical-align: middle;\n",
              "    }\n",
              "\n",
              "    .dataframe tbody tr th {\n",
              "        vertical-align: top;\n",
              "    }\n",
              "\n",
              "    .dataframe thead th {\n",
              "        text-align: right;\n",
              "    }\n",
              "</style>\n",
              "<table border=\"1\" class=\"dataframe\">\n",
              "  <thead>\n",
              "    <tr style=\"text-align: right;\">\n",
              "      <th></th>\n",
              "      <th>emosi</th>\n",
              "      <th>dokumen</th>\n",
              "    </tr>\n",
              "  </thead>\n",
              "  <tbody>\n",
              "    <tr>\n",
              "      <th>0</th>\n",
              "      <td>joy</td>\n",
              "      <td>on days when i feel close to my partner and ot...</td>\n",
              "    </tr>\n",
              "    <tr>\n",
              "      <th>1</th>\n",
              "      <td>fear</td>\n",
              "      <td>every time i imagine that someone i love or i ...</td>\n",
              "    </tr>\n",
              "    <tr>\n",
              "      <th>2</th>\n",
              "      <td>anger</td>\n",
              "      <td>when i had been obviously unjustly treated and...</td>\n",
              "    </tr>\n",
              "    <tr>\n",
              "      <th>3</th>\n",
              "      <td>sadness</td>\n",
              "      <td>when i think about the short time that we live...</td>\n",
              "    </tr>\n",
              "    <tr>\n",
              "      <th>4</th>\n",
              "      <td>disgust</td>\n",
              "      <td>at a gathering i found myself involuntarily si...</td>\n",
              "    </tr>\n",
              "  </tbody>\n",
              "</table>\n",
              "</div>"
            ],
            "text/plain": [
              "     emosi                                            dokumen\n",
              "0      joy  on days when i feel close to my partner and ot...\n",
              "1     fear  every time i imagine that someone i love or i ...\n",
              "2    anger  when i had been obviously unjustly treated and...\n",
              "3  sadness  when i think about the short time that we live...\n",
              "4  disgust  at a gathering i found myself involuntarily si..."
            ]
          },
          "metadata": {},
          "execution_count": 6
        }
      ]
    },
    {
      "cell_type": "code",
      "metadata": {
        "colab": {
          "base_uri": "https://localhost:8080/"
        },
        "id": "5dGxbdls8ql9",
        "outputId": "1bebc4f2-266b-4c58-97c5-465a1beff4e9"
      },
      "source": [
        "df.iloc[4,0]\n",
        "df['dokumen'].values"
      ],
      "execution_count": null,
      "outputs": [
        {
          "output_type": "execute_result",
          "data": {
            "text/plain": [
              "array(['On days when I feel close to my partner and other friends.   \\nWhen I feel at peace with myself and also experience a close  \\ncontact with people whom I regard greatly.',\n",
              "       'Every time I imagine that someone I love or I could contact a  \\nserious illness, even death.',\n",
              "       'When I had been obviously unjustly treated and had no possibility  \\nof elucidating this.',\n",
              "       ...,\n",
              "       'I was at home and I heard a loud sound of spitting outside the  \\ndoor.  I thought that one of my family members would step on the spit  \\nand bring the germs in the house.',\n",
              "       'I did not do the homework that the teacher had asked us to do.  I  \\nwas scolded immediately.',\n",
              "       'I had shouted at my younger brother and he was always afraid when  \\nI called out loudly.'],\n",
              "      dtype=object)"
            ]
          },
          "metadata": {},
          "execution_count": 2
        }
      ]
    },
    {
      "cell_type": "code",
      "metadata": {
        "id": "6ZdVdGZ1GJ2s"
      },
      "source": [
        "#df iloc[:,kolom] dan not null untuk mencari yang tidak kosong atau NaN\n",
        "df[df.iloc[:,2].notnull()]"
      ],
      "execution_count": null,
      "outputs": []
    },
    {
      "cell_type": "code",
      "metadata": {
        "id": "LrzGWbSFSZHD"
      },
      "source": [
        "#hapus kolom\n",
        "df.drop(df.columns[2],axis=1, inplace=True)"
      ],
      "execution_count": null,
      "outputs": []
    },
    {
      "cell_type": "code",
      "metadata": {
        "id": "onOGuEiX16vX"
      },
      "source": [
        "#membuat df dari code\n",
        "pos_tweets = [('I love this car', 'positive'),\n",
        "    ('This view is amazing', 'positive'),\n",
        "    ('I feel great this morning', 'positive'),\n",
        "    ('I am so excited about the concert', 'positive'),\n",
        "    ('He is my best friend', 'positive')]\n",
        "\n",
        "test = pd.DataFrame(pos_tweets)\n",
        "test.columns = [\"tweet\",\"class\"]"
      ],
      "execution_count": null,
      "outputs": []
    },
    {
      "cell_type": "code",
      "metadata": {
        "id": "2rkQ3RJUS4P4"
      },
      "source": [
        "sentences = [word_tokenize(x) for x in df2.tweet] "
      ],
      "execution_count": null,
      "outputs": []
    },
    {
      "cell_type": "code",
      "metadata": {
        "id": "9VuSWuEUSIqP",
        "colab": {
          "base_uri": "https://localhost:8080/"
        },
        "outputId": "8bd3e915-c948-4c62-eea0-5a7cfce6ff14"
      },
      "source": [
        "# cek paling panjang\n",
        "panjang=len(sentences[0])\n",
        "panjang"
      ],
      "execution_count": null,
      "outputs": [
        {
          "output_type": "execute_result",
          "data": {
            "text/plain": [
              "31"
            ]
          },
          "metadata": {},
          "execution_count": 13
        }
      ]
    },
    {
      "cell_type": "code",
      "metadata": {
        "id": "vL0rxhaMTKBR",
        "colab": {
          "base_uri": "https://localhost:8080/"
        },
        "outputId": "87e40b16-c886-4527-8473-8bc4a5123130"
      },
      "source": [
        "paling_panjang=0\n",
        "for x in sentences:\n",
        "  if paling_panjang<len(x):\n",
        "    paling_panjang=len(x)\n",
        "    kata=x\n",
        "print(paling_panjang)\n",
        "print(kata)"
      ],
      "execution_count": null,
      "outputs": [
        {
          "output_type": "stream",
          "name": "stdout",
          "text": [
            "229\n",
            "['5', 'days', 'till', 'new', 'top', 'gear', 'î', '?', '\\x95î', '?', '\\x95î', '?', '\\x95î', '?', '\\x95î', '?', '\\x95î', '?', '\\x95î', '?', '\\x95î', '?', '\\x95î', '?', '\\x95î', '?', '\\x95î', '?', '\\x95î', '?', '\\x95î', '?', '\\x95î', '?', '\\x95î', '?', '\\x95î', '?', '\\x95î', '?', '\\x95î', '?', '\\x95î', '?', '\\x95î', '?', '\\x95î', '?', '\\x95î', '?', '\\x95î', '?', '\\x95î', '?', '\\x95î', '?', '\\x95î', '?', '\\x95î', '?', '\\x95î', '?', '\\x95î', '?', '\\x95î', '?', '\\x95î', '?', '\\x95î', '?', '\\x95î', '?', '\\x95î', '?', '\\x95î', '?', '\\x95î', '?', '\\x95î', '?', '\\x95î', '?', '\\x95î', '?', '\\x95î', '?', '\\x95î', '?', '\\x95î', '?', '\\x95î', '?', '\\x95î', '?', '\\x95î', '?', '\\x95î', '?', '\\x95î', '?', '\\x95î', '?', '\\x95î', '?', '\\x95î', '?', '\\x95î', '?', '\\x95î', '?', '\\x95î', '?', '\\x95î', '?', '\\x95î', '?', '\\x95î', '?', '\\x95î', '?', '\\x95î', '?', '\\x95î', '?', '\\x95î', '?', '\\x95î', '?', '\\x95î', '?', '\\x95î', '?', '\\x95î', '?', '\\x95î', '?', '\\x95î', '?', '\\x95î', '?', '\\x95î', '?', '\\x95î', '?', '\\x95î', '?', '\\x95î', '?', '\\x95î', '?', '\\x95î', '?', '\\x95î', '?', '\\x95î', '?', '\\x95î', '?', '\\x95î', '?', '\\x95î', '?', '\\x95î', '?', '\\x95î', '?', '\\x95î', '?', '\\x95î', '?', '\\x95î', '?', '\\x95î', '?', '\\x95î', '?', '\\x95î', '?', '\\x95î', '?', '\\x95î', '?', '\\x95î', '?', '\\x95î', '?', '\\x95î', '?', '\\x95î', '?', '\\x95î', '?', '\\x95î', '?', '\\x95î', '?', '\\x95î', '?', '\\x95î', '?', '\\x95î', '?', '\\x95î', '?', '\\x95î', '?', '\\x95î', '?', '\\x95î', '?', '\\x95î', '?', '\\x95î', '?', '\\x95î', '?', '\\x95î', '?', '\\x95î', '?', '\\x95î', '?', '\\x95î', '?', '\\x95î', '?', '\\x95î', '?', '\\x95']\n"
          ]
        }
      ]
    },
    {
      "cell_type": "code",
      "metadata": {
        "id": "mxGIdG8nnPdN",
        "colab": {
          "base_uri": "https://localhost:8080/"
        },
        "outputId": "a71a5bae-cdeb-4f46-c2f1-6338a268e24f"
      },
      "source": [
        "from google.colab import drive\n",
        "drive.mount('/content/drive')"
      ],
      "execution_count": null,
      "outputs": [
        {
          "output_type": "stream",
          "name": "stdout",
          "text": [
            "Mounted at /content/drive\n"
          ]
        }
      ]
    },
    {
      "cell_type": "code",
      "metadata": {
        "id": "iyOvtI5FnSAo"
      },
      "source": [
        "df2 = pd.read_csv('/content/drive/MyDrive/twitter_prosessed.csv')"
      ],
      "execution_count": null,
      "outputs": []
    },
    {
      "cell_type": "code",
      "metadata": {
        "id": "RPu9U3XTnXil"
      },
      "source": [
        "paling_panjang=0\n",
        "for x in sentences:\n",
        "  if paling_panjang<len(x):\n",
        "    paling_panjang=len(x)\n",
        "    kata=x\n",
        "print(paling_panjang)\n",
        "print(kata)"
      ],
      "execution_count": null,
      "outputs": []
    },
    {
      "cell_type": "code",
      "metadata": {
        "id": "vufL7Qie87ib"
      },
      "source": [
        "#print(df.head())\n",
        "\n",
        "#print(df.columns)\n",
        "\n",
        "#print(df[['dokumen','emosi']][0:5])\n",
        "\n",
        "#print(df.iloc[3:4])\n",
        "#[dari:sampai]\n",
        "\n",
        "#print(df.iloc[5,0])\n",
        "#[baris,kolom]\n",
        "\n",
        "#sc leower case\n",
        "df['dokumen']=df['dokumen'].str.lower()\n",
        "print(df.iloc[4,1])\n",
        "# df.iloc[4,1]"
      ],
      "execution_count": null,
      "outputs": []
    },
    {
      "cell_type": "code",
      "metadata": {
        "id": "qwFUcgAG9NY4"
      },
      "source": [
        "# coba='tes ssssssssssssssssssssssssssssssssssssssssssssssssss sssssssssssssssssssssssssssssssssssssssssssssssssssssss sssssssssssssssssssssss ssss'\n",
        "# print(coba)\n",
        "# print(coba.replace('tes', 'uhuy'))\n",
        "# coba=coba.replace('tes', 'uhuy')\n",
        "# print(coba)\n",
        "#df['dokumen']\n",
        "#precleaning hapus enter dan space berlebih\n",
        "df=df.replace(' \\n', ' ', regex=True)\n",
        "df=df.replace('   ', ' ', regex=True)\n",
        "df=df.replace('  ', ' ', regex=True)\n",
        "df.iloc[0,1]\n",
        "#df['dokumen']\n"
      ],
      "execution_count": null,
      "outputs": []
    },
    {
      "cell_type": "code",
      "metadata": {
        "colab": {
          "base_uri": "https://localhost:8080/"
        },
        "id": "KoNMK0og7496",
        "outputId": "37f84a8e-29e9-44a9-f75c-19d7b6ce69c7"
      },
      "source": [
        "def tes(x):\n",
        "  hasil =x*x\n",
        "  return hasil\n",
        "tes(7)\n",
        "\n",
        "def same_initial(wd1, wd2):\n",
        "        \"\"\"Tests if two words start with the same character,  \n",
        "        and returns True/False. Case distinction is ignored.\"\"\" \n",
        "        if wd1[0].lower() == wd2[0].lower(): \n",
        "            return wd1[0]\n",
        "        else: \n",
        "            return wd2\n",
        "\n",
        "help(same_initial)\n",
        "\n",
        "print(tes(7))\n",
        "\n",
        "same_initial('apple', 'orange')\n",
        "\n",
        "print(same_initial('Annie', 'apple'))\n",
        "\n",
        "print(same_initial('apple', 'orange'))\n",
        "\n",
        "\n",
        "def in_both(wd1, wd2):\n",
        "        \"Takes two strings, returns a sorted list of common characters\" \n",
        "        common = []\n",
        "        for c in wd1:\n",
        "            if c in wd2:\n",
        "                common.append(c)\t\t\t\n",
        "        return sorted(common)\n",
        "\n",
        "print(in_both('pear', 'apple'))\n",
        "\n",
        "in_both('linguistics', 'economics')"
      ],
      "execution_count": null,
      "outputs": [
        {
          "output_type": "stream",
          "name": "stdout",
          "text": [
            "Help on function same_initial in module __main__:\n",
            "\n",
            "same_initial(wd1, wd2)\n",
            "    Tests if two words start with the same character,  \n",
            "    and returns True/False. Case distinction is ignored.\n",
            "\n",
            "49\n",
            "A\n",
            "orange\n",
            "['a', 'e', 'p']\n"
          ]
        },
        {
          "output_type": "execute_result",
          "data": {
            "text/plain": [
              "['c', 'i', 'i', 'i', 'n', 's', 's']"
            ]
          },
          "metadata": {},
          "execution_count": 3
        }
      ]
    },
    {
      "cell_type": "code",
      "metadata": {
        "colab": {
          "base_uri": "https://localhost:8080/",
          "height": 54
        },
        "id": "ADl9QyH8754j",
        "outputId": "f549c704-0130-4701-ccb0-748c517a4cda"
      },
      "source": [
        "#function returnining\n",
        "def get_ing(wd):\n",
        "  # print(wd)\n",
        "  return wd + 'ing'\n",
        "\n",
        "#funtion void\n",
        "def print_ing(wd):\n",
        "        print(wd + 'ing')\n",
        "\n",
        "#return output\n",
        "print_ing('walk')\n",
        "#return value\n",
        "get_ing('sing')\n"
      ],
      "execution_count": null,
      "outputs": [
        {
          "output_type": "stream",
          "name": "stdout",
          "text": [
            "walking\n"
          ]
        },
        {
          "output_type": "execute_result",
          "data": {
            "application/vnd.google.colaboratory.intrinsic+json": {
              "type": "string"
            },
            "text/plain": [
              "'singing'"
            ]
          },
          "metadata": {},
          "execution_count": 4
        }
      ]
    },
    {
      "cell_type": "markdown",
      "metadata": {
        "id": "-rd25QKqgk-K"
      },
      "source": [
        "list"
      ]
    },
    {
      "cell_type": "code",
      "metadata": {
        "id": "Oc2vvY7kgjSR",
        "colab": {
          "base_uri": "https://localhost:8080/"
        },
        "outputId": "49afdcbf-1c17-4860-9eba-560c9b0cfe2c"
      },
      "source": [
        "thislist = [\"apple\", \"banana\", \"cherry\"]\n",
        "print(thislist)"
      ],
      "execution_count": null,
      "outputs": [
        {
          "output_type": "stream",
          "name": "stdout",
          "text": [
            "['apple', 'banana', 'cherry']\n"
          ]
        }
      ]
    },
    {
      "cell_type": "code",
      "metadata": {
        "id": "DhsO_EXHhJQp",
        "colab": {
          "base_uri": "https://localhost:8080/"
        },
        "outputId": "baee7a86-5690-4ecc-d7af-bed7127dacd0"
      },
      "source": [
        "thislist = [\"apple\", \"banana\", \"cherry\", \"apple\", \"cherry\"]\n",
        "print(thislist)"
      ],
      "execution_count": null,
      "outputs": [
        {
          "output_type": "stream",
          "name": "stdout",
          "text": [
            "['apple', 'banana', 'cherry', 'apple', 'cherry']\n"
          ]
        }
      ]
    },
    {
      "cell_type": "code",
      "metadata": {
        "id": "Z34R5piOhYXM",
        "colab": {
          "base_uri": "https://localhost:8080/"
        },
        "outputId": "e6cb4c07-f010-4104-abdd-b7bafb57d3dc"
      },
      "source": [
        "thislist = list((\"apple\", \"banana\", \"cherry\")) # note the double round-brackets\n",
        "print(thislist)"
      ],
      "execution_count": null,
      "outputs": [
        {
          "output_type": "stream",
          "name": "stdout",
          "text": [
            "['apple', 'banana', 'cherry']\n"
          ]
        }
      ]
    },
    {
      "cell_type": "code",
      "metadata": {
        "id": "qItIfidZhezL",
        "colab": {
          "base_uri": "https://localhost:8080/"
        },
        "outputId": "2d61a6f7-d463-4a6c-e243-ad5c096aade9"
      },
      "source": [
        "data=list(df)\n",
        "print(data)"
      ],
      "execution_count": null,
      "outputs": [
        {
          "output_type": "stream",
          "name": "stdout",
          "text": [
            "['emosi', 'dokumen', 'Unnamed: 2']\n"
          ]
        }
      ]
    },
    {
      "cell_type": "markdown",
      "metadata": {
        "id": "uFnYQuq994Jq"
      },
      "source": [
        "for"
      ]
    },
    {
      "cell_type": "code",
      "metadata": {
        "colab": {
          "base_uri": "https://localhost:8080/"
        },
        "id": "Qesrk1bi9ywJ",
        "outputId": "a523c42f-2b29-4ef9-e2bd-015252af9fd6"
      },
      "source": [
        "for i in range(10):\n",
        "  print(i)\n"
      ],
      "execution_count": null,
      "outputs": [
        {
          "output_type": "stream",
          "name": "stdout",
          "text": [
            "0\n",
            "1\n",
            "2\n",
            "3\n",
            "4\n",
            "5\n",
            "6\n",
            "7\n",
            "8\n",
            "9\n"
          ]
        }
      ]
    },
    {
      "cell_type": "code",
      "metadata": {
        "colab": {
          "base_uri": "https://localhost:8080/"
        },
        "id": "w4icV8GO_GYG",
        "outputId": "4a3f2284-b444-4e04-d8c3-0cd442bd56ef"
      },
      "source": [
        "j= range(5)\n",
        "j"
      ],
      "execution_count": null,
      "outputs": [
        {
          "output_type": "execute_result",
          "data": {
            "text/plain": [
              "range(0, 5)"
            ]
          },
          "metadata": {},
          "execution_count": 15
        }
      ]
    },
    {
      "cell_type": "code",
      "metadata": {
        "colab": {
          "base_uri": "https://localhost:8080/"
        },
        "id": "-tnucM3w_OOA",
        "outputId": "fea5894d-207a-4dad-9399-049aa7916934"
      },
      "source": [
        "for i in j:\n",
        "  print(i)"
      ],
      "execution_count": null,
      "outputs": [
        {
          "output_type": "stream",
          "name": "stdout",
          "text": [
            "0\n",
            "1\n",
            "2\n",
            "3\n",
            "4\n"
          ]
        }
      ]
    },
    {
      "cell_type": "markdown",
      "metadata": {
        "id": "ig2-X0j4IOYf"
      },
      "source": [
        "comperhension list"
      ]
    },
    {
      "cell_type": "code",
      "metadata": {
        "id": "IQM_ZO8AIQC7",
        "colab": {
          "base_uri": "https://localhost:8080/"
        },
        "outputId": "d1173ec6-f4ed-4496-80b0-464ddb6080d8"
      },
      "source": [
        "#versi panjang\n",
        "fruits = [\"apple\", \"banana\", \"cherry\", \"kiwi\", \"mango\"]\n",
        "# newlist = []\n",
        "\n",
        "for x in fruits:\n",
        "  if \"a\" in x:\n",
        "    newlist.append(x)\n",
        "\n",
        "print(newlist) "
      ],
      "execution_count": null,
      "outputs": [
        {
          "output_type": "stream",
          "name": "stdout",
          "text": [
            "['apple', 'banana', 'mango', 'apple', 'banana', 'mango']\n"
          ]
        }
      ]
    },
    {
      "cell_type": "code",
      "metadata": {
        "id": "ns_iPbEtIeJ7",
        "colab": {
          "base_uri": "https://localhost:8080/"
        },
        "outputId": "1ae1aa65-f874-45b1-8110-642d7fd227dd"
      },
      "source": [
        "fruits = [\"apple\", \"banana\", \"cherry\", \"kiwi\", \"mango\"]\n",
        "\n",
        "newlist = [x for x in fruits if \"a\" in x]\n",
        "\n",
        "print(newlist) "
      ],
      "execution_count": null,
      "outputs": [
        {
          "output_type": "stream",
          "name": "stdout",
          "text": [
            "['apple', 'banana', 'mango']\n"
          ]
        }
      ]
    },
    {
      "cell_type": "markdown",
      "metadata": {
        "id": "-aX5oFgxvDY-"
      },
      "source": [
        "try except"
      ]
    },
    {
      "cell_type": "code",
      "metadata": {
        "id": "u5vXKZlBvEwx",
        "outputId": "08f92146-521d-4e72-b939-be59bb5da077",
        "colab": {
          "base_uri": "https://localhost:8080/"
        }
      },
      "source": [
        "try:\n",
        "  print(x)\n",
        "except:\n",
        "  print(\"An exception occurred\") "
      ],
      "execution_count": null,
      "outputs": [
        {
          "output_type": "stream",
          "name": "stdout",
          "text": [
            "An exception occurred\n"
          ]
        }
      ]
    },
    {
      "cell_type": "code",
      "metadata": {
        "id": "vjy_5nalvTcP",
        "outputId": "5b3ee0d3-2dbd-4c3f-942e-05653e650e6d",
        "colab": {
          "base_uri": "https://localhost:8080/"
        }
      },
      "source": [
        "try:\n",
        "  print(x)\n",
        "except NameError:\n",
        "  print(\"Variable x is not defined\")\n",
        "except:\n",
        "  print(\"Something else went wrong\")"
      ],
      "execution_count": null,
      "outputs": [
        {
          "output_type": "stream",
          "name": "stdout",
          "text": [
            "Variable x is not defined\n"
          ]
        }
      ]
    },
    {
      "cell_type": "code",
      "metadata": {
        "id": "8z9hG9_Ava-2",
        "outputId": "a80858f9-eb7f-4c39-d17e-89a00fc37d6a",
        "colab": {
          "base_uri": "https://localhost:8080/"
        }
      },
      "source": [
        "try:\n",
        "  print(\"Hello\")\n",
        "except:\n",
        "  print(\"Something went wrong\")\n",
        "else:\n",
        "  print(\"Nothing went wrong\") "
      ],
      "execution_count": null,
      "outputs": [
        {
          "output_type": "stream",
          "name": "stdout",
          "text": [
            "Hello\n",
            "Nothing went wrong\n"
          ]
        }
      ]
    },
    {
      "cell_type": "code",
      "metadata": {
        "id": "Edw3tzQGvhHR",
        "outputId": "78dad00b-c691-4783-9584-8bc0fc87aaad",
        "colab": {
          "base_uri": "https://localhost:8080/"
        }
      },
      "source": [
        "try:\n",
        "  print(x)\n",
        "except:\n",
        "  print(\"Something went wrong\")\n",
        "finally:\n",
        "  print(\"The 'try except' is finished\") "
      ],
      "execution_count": null,
      "outputs": [
        {
          "output_type": "stream",
          "name": "stdout",
          "text": [
            "Something went wrong\n",
            "The 'try except' is finished\n"
          ]
        }
      ]
    },
    {
      "cell_type": "code",
      "metadata": {
        "id": "Txga1eXQvsU2",
        "outputId": "b425ba67-9ebd-4411-b228-4212adf469c2",
        "colab": {
          "base_uri": "https://localhost:8080/"
        }
      },
      "source": [
        "try:\n",
        "  f = open(\"demofile.txt\")\n",
        "  try:\n",
        "    f.write(\"Lorum Ipsum\")\n",
        "  except:\n",
        "    print(\"Something went wrong when writing to the file\")\n",
        "  finally:\n",
        "    f.close()\n",
        "except:\n",
        "  print(\"Something went wrong when opening the file\") "
      ],
      "execution_count": null,
      "outputs": [
        {
          "output_type": "stream",
          "name": "stdout",
          "text": [
            "Something went wrong when opening the file\n"
          ]
        }
      ]
    },
    {
      "cell_type": "code",
      "metadata": {
        "id": "nku9nOd-vukc"
      },
      "source": [
        "x = -1\n",
        "\n",
        "if x < 0:\n",
        "  raise Exception(\"Sorry, no numbers below zer\") "
      ],
      "execution_count": null,
      "outputs": []
    },
    {
      "cell_type": "markdown",
      "source": [
        "fold selection"
      ],
      "metadata": {
        "id": "BcDQg75eR2rO"
      }
    },
    {
      "cell_type": "code",
      "source": [
        "import numpy as np\n",
        "from sklearn.model_selection import KFold"
      ],
      "metadata": {
        "id": "tdCKaxd4R5Fm"
      },
      "execution_count": 1,
      "outputs": []
    },
    {
      "cell_type": "code",
      "source": [
        "X = np.array([[1, 11], [2, 22], [3, 33], [4, 44], [5, 55], [6, 66], [7, 77], [8, 88], [9, 99], [10, 101]])\n",
        "y = np.array([111, 222, 333, 444, 555, 666, 777, 888, 999, 1010])"
      ],
      "metadata": {
        "id": "cG70VhJiSCg0"
      },
      "execution_count": 16,
      "outputs": []
    },
    {
      "cell_type": "code",
      "source": [
        "kf = KFold(n_splits=10)\n",
        "kf.get_n_splits(X)"
      ],
      "metadata": {
        "id": "Sfemhdl7SCeJ",
        "outputId": "d43c5080-2146-4be2-835e-3760aa7b326b",
        "colab": {
          "base_uri": "https://localhost:8080/"
        }
      },
      "execution_count": 22,
      "outputs": [
        {
          "output_type": "execute_result",
          "data": {
            "text/plain": [
              "10"
            ]
          },
          "metadata": {},
          "execution_count": 22
        }
      ]
    },
    {
      "cell_type": "code",
      "source": [
        "print(kf)"
      ],
      "metadata": {
        "id": "YGoAFdoUSCEw",
        "outputId": "8f529d49-5f72-40d8-fa1a-1d5885694b9b",
        "colab": {
          "base_uri": "https://localhost:8080/"
        }
      },
      "execution_count": 23,
      "outputs": [
        {
          "output_type": "stream",
          "name": "stdout",
          "text": [
            "KFold(n_splits=10, random_state=None, shuffle=False)\n"
          ]
        }
      ]
    },
    {
      "cell_type": "code",
      "source": [
        "for train_index, test_index in kf.split(X,y):\n",
        "     print(\"TRAIN:\", train_index, \"TEST:\", test_index)\n",
        "     X_train, X_test = X[train_index], X[test_index]\n",
        "     y_train, y_test = y[train_index], y[test_index]"
      ],
      "metadata": {
        "id": "0EmEw_KWSI4N",
        "outputId": "ee2ec041-e8b5-442b-9d3e-08a39b4e7665",
        "colab": {
          "base_uri": "https://localhost:8080/"
        }
      },
      "execution_count": 24,
      "outputs": [
        {
          "output_type": "stream",
          "name": "stdout",
          "text": [
            "TRAIN: [1 2 3 4 5 6 7 8 9] TEST: [0]\n",
            "TRAIN: [0 2 3 4 5 6 7 8 9] TEST: [1]\n",
            "TRAIN: [0 1 3 4 5 6 7 8 9] TEST: [2]\n",
            "TRAIN: [0 1 2 4 5 6 7 8 9] TEST: [3]\n",
            "TRAIN: [0 1 2 3 5 6 7 8 9] TEST: [4]\n",
            "TRAIN: [0 1 2 3 4 6 7 8 9] TEST: [5]\n",
            "TRAIN: [0 1 2 3 4 5 7 8 9] TEST: [6]\n",
            "TRAIN: [0 1 2 3 4 5 6 8 9] TEST: [7]\n",
            "TRAIN: [0 1 2 3 4 5 6 7 9] TEST: [8]\n",
            "TRAIN: [0 1 2 3 4 5 6 7 8] TEST: [9]\n"
          ]
        }
      ]
    },
    {
      "cell_type": "code",
      "source": [
        "X_train"
      ],
      "metadata": {
        "id": "xeYFSxdXUTKR",
        "outputId": "0d607b56-3138-4398-9b6b-eb5fcf4bfa6d",
        "colab": {
          "base_uri": "https://localhost:8080/"
        }
      },
      "execution_count": 25,
      "outputs": [
        {
          "output_type": "execute_result",
          "data": {
            "text/plain": [
              "array([[ 1, 11],\n",
              "       [ 2, 22],\n",
              "       [ 3, 33],\n",
              "       [ 4, 44],\n",
              "       [ 5, 55],\n",
              "       [ 6, 66],\n",
              "       [ 7, 77],\n",
              "       [ 8, 88],\n",
              "       [ 9, 99]])"
            ]
          },
          "metadata": {},
          "execution_count": 25
        }
      ]
    },
    {
      "cell_type": "code",
      "source": [
        "X_test"
      ],
      "metadata": {
        "id": "yG0iG9qQUgLd",
        "outputId": "25f21d6a-5c91-4632-a381-f057c3d797a9",
        "colab": {
          "base_uri": "https://localhost:8080/"
        }
      },
      "execution_count": 26,
      "outputs": [
        {
          "output_type": "execute_result",
          "data": {
            "text/plain": [
              "array([[ 10, 101]])"
            ]
          },
          "metadata": {},
          "execution_count": 26
        }
      ]
    },
    {
      "cell_type": "code",
      "source": [
        "y_train"
      ],
      "metadata": {
        "id": "iilDLooTVgq4",
        "outputId": "35bc6f44-bf10-4808-c43d-0858fd2ad516",
        "colab": {
          "base_uri": "https://localhost:8080/"
        }
      },
      "execution_count": 27,
      "outputs": [
        {
          "output_type": "execute_result",
          "data": {
            "text/plain": [
              "array([111, 222, 333, 444, 555, 666, 777, 888, 999])"
            ]
          },
          "metadata": {},
          "execution_count": 27
        }
      ]
    },
    {
      "cell_type": "code",
      "source": [
        "y_test"
      ],
      "metadata": {
        "id": "HjcZZLpXVhCQ",
        "outputId": "aca3031a-67e1-48c6-8644-d1a51a2388d2",
        "colab": {
          "base_uri": "https://localhost:8080/"
        }
      },
      "execution_count": 28,
      "outputs": [
        {
          "output_type": "execute_result",
          "data": {
            "text/plain": [
              "array([1010])"
            ]
          },
          "metadata": {},
          "execution_count": 28
        }
      ]
    }
  ]
}